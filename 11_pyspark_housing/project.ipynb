{
 "cells": [
  {
   "cell_type": "markdown",
   "metadata": {},
   "source": [
    "# Pyspark house prices prediction 🏚"
   ]
  },
  {
   "cell_type": "markdown",
   "metadata": {},
   "source": [
    "В рамках данного проекта требуется проанализировать данные о жилье в Калифорнии.\n",
    "\n",
    "Данные, которые мы будем анализировать, были собраны в рамках переписи населения в США. Каждая строка содержит агрегированную статистику о жилом массиве. Жилой массив — минимальная географическая единица с населением от 600 до 3000 человек в зависимости от штата. Одна строка в данных содержит статистику в среднем о 1425.5 обитателях жилого массива.\n",
    "\n",
    "В колонках датасета содержатся следующие данные:\n",
    "\n",
    "- `longitude` — широта;\n",
    "- `latitude` — долгота;\n",
    "- `housing_median_age` — медианный возраст жителей жилого массива;\n",
    "- `total_rooms` — общее количество комнат в домах жилого массива;\n",
    "- `total_bedrooms` — общее количество спален в домах жилого массива;\n",
    "- `population` — количество человек, которые проживают в жилом массиве;\n",
    "- `households` — количество домовладений в жилом массиве;\n",
    "- `median_income` — медианный доход жителей жилого массива;\n",
    "- `median_house_value` — медианная стоимость дома в жилом массиве;\n",
    "- `ocean_proximity` — близость к океану.\n",
    "\n",
    "В большинстве колонок хранятся количественные данные, кроме одной — `ocean_proximity`. Она хранит категориальные значения."
   ]
  },
  {
   "cell_type": "markdown",
   "metadata": {},
   "source": [
    "**Содержание**<a id='toc0_'></a>    \n",
    "1. [Подготовка     ](#toc1_)    \n",
    "1.1. [Библиотеки     ](#toc1_1_)    \n",
    "1.2. [Конфигурация     ](#toc1_2_)    \n",
    "1.3. [Сервисные функции     ](#toc1_3_)    \n",
    "2. [Данные     ](#toc2_)    \n",
    "2.1. [Загрузка     ](#toc2_1_)    \n",
    "2.2. [Проверка типов данных     ](#toc2_2_)    \n",
    "2.3. [Обработка дубликатов     ](#toc2_3_)    \n",
    "2.4. [Проверка пропусков     ](#toc2_4_)    \n",
    "2.5. [Изучение данных     ](#toc2_5_)    \n",
    "2.6. [Разделение данных](#toc2_6_)    \n",
    "2.7. [Пайплайн](#toc2_7_)    \n",
    "3. [Модель A1 (все данные)     ](#toc3_)    \n",
    "3.1. [Обучение   ](#toc3_1_)    \n",
    "3.2. [Предсказание    ](#toc3_2_)    \n",
    "3.3. [Оценка качества   ](#toc3_3_)    \n",
    "3.4. [Важность признаков  ](#toc3_4_)    \n",
    "4. [Модель B1 (только числовые переменные)   ](#toc4_)    \n",
    "4.1. [Обучение   ](#toc4_1_)    \n",
    "4.2. [Предсказание   ](#toc4_2_)    \n",
    "4.3. [Оценка качества   ](#toc4_3_)    \n",
    "4.4. [Важность признаков ](#toc4_4_)    \n",
    "5. [Улучшение моделей   ](#toc5_)    \n",
    "5.1. [Подготовка ](#toc5_1_)    \n",
    "5.2. [Модель А2 ](#toc5_2_)    \n",
    "5.3. [Модель B2 ](#toc5_3_)    \n",
    "6. [Подбор гиперпараметров ](#toc6_)    \n",
    "6.1. [Модель А3 ](#toc6_1_)    \n",
    "6.2. [Модель B3 ](#toc6_2_)    \n",
    "7. [Общий вывод   ](#toc7_)    \n",
    "\n",
    "<!-- vscode-jupyter-toc-config\n",
    "\tnumbering=true\n",
    "\tanchor=true\n",
    "\tflat=true\n",
    "\tminLevel=2\n",
    "\tmaxLevel=6\n",
    "\t/vscode-jupyter-toc-config -->\n",
    "<!-- THIS CELL WILL BE REPLACED ON TOC UPDATE. DO NOT WRITE YOUR TEXT IN THIS CELL -->"
   ]
  },
  {
   "cell_type": "markdown",
   "metadata": {},
   "source": [
    "## 1. <a id='toc1_'></a>Подготовка      [&#8593;](#toc0_)"
   ]
  },
  {
   "cell_type": "markdown",
   "metadata": {},
   "source": [
    "### 1.1. <a id='toc1_1_'></a>Библиотеки      [&#8593;](#toc0_)"
   ]
  },
  {
   "cell_type": "code",
   "execution_count": 1,
   "metadata": {},
   "outputs": [],
   "source": [
    "from IPython.display import clear_output"
   ]
  },
  {
   "cell_type": "code",
   "execution_count": null,
   "metadata": {},
   "outputs": [],
   "source": [
    "%pip install --upgrade -q pyspark\n",
    "%pip install --upgrade -q pandas\n",
    "%pip install --force-reinstall -v \"numpy==1.26.4\"\n",
    "\n",
    "clear_output()"
   ]
  },
  {
   "cell_type": "code",
   "execution_count": 3,
   "metadata": {},
   "outputs": [],
   "source": [
    "import numpy as np\n",
    "import pandas as pd\n",
    "import matplotlib.pyplot as plt\n",
    "import pyspark\n",
    "import pyspark.sql.functions as F\n",
    "\n",
    "from pyspark.sql import SparkSession\n",
    "from pyspark.sql.types import *\n",
    "from pyspark.ml.feature import StringIndexer, VectorAssembler, StandardScaler\n",
    "from pyspark.ml.regression import LinearRegression\n",
    "from pyspark.ml.evaluation import RegressionEvaluator\n",
    "from pyspark.ml.tuning import ParamGridBuilder, TrainValidationSplit\n",
    "from pyspark.ml import Pipeline"
   ]
  },
  {
   "cell_type": "code",
   "execution_count": 4,
   "metadata": {},
   "outputs": [
    {
     "data": {
      "text/plain": [
       "'3.5.3'"
      ]
     },
     "execution_count": 4,
     "metadata": {},
     "output_type": "execute_result"
    }
   ],
   "source": [
    "pyspark_version = pyspark.__version__\n",
    "pyspark_version"
   ]
  },
  {
   "cell_type": "code",
   "execution_count": 5,
   "metadata": {},
   "outputs": [],
   "source": [
    "if int(pyspark_version[:1]) == 3:\n",
    "    from pyspark.ml.feature import OneHotEncoder as OHE\n",
    "elif int(pyspark_version[:1]) == 2:\n",
    "    from pyspark.ml.feature import OneHotEncodeEstimator as OHE"
   ]
  },
  {
   "cell_type": "markdown",
   "metadata": {},
   "source": [
    "### 1.2. <a id='toc1_2_'></a>Конфигурация      [&#8593;](#toc0_)"
   ]
  },
  {
   "cell_type": "code",
   "execution_count": 6,
   "metadata": {},
   "outputs": [],
   "source": [
    "RANDOM_SEED = 27"
   ]
  },
  {
   "cell_type": "markdown",
   "metadata": {},
   "source": [
    "### 1.3. <a id='toc1_3_'></a>Сервисные функции      [&#8593;](#toc0_)"
   ]
  },
  {
   "cell_type": "code",
   "execution_count": 7,
   "metadata": {},
   "outputs": [],
   "source": [
    "def print_table_about_nans(df: pyspark.sql.dataframe.DataFrame) -> None:\n",
    "    display(df.select([F.count(F.when(F.isnan(c) | F.col(c).isNull(), c)).alias(c) for c in df.columns]).toPandas().T.sort_values(0))"
   ]
  },
  {
   "cell_type": "code",
   "execution_count": 8,
   "metadata": {},
   "outputs": [],
   "source": [
    "def fill_missing_with_median_by_categories(\n",
    "    df: pyspark.sql.dataframe.DataFrame,\n",
    "    col_to_fill: str,\n",
    "    category_col: str\n",
    "    ) -> pyspark.sql.dataframe.DataFrame:\n",
    "\n",
    "    # Вычисляем медиану для каждого значения категории\n",
    "    median_df = df.groupBy(category_col).agg(\n",
    "        F.percentile_approx(F.col(col_to_fill), 0.5).alias('median_value')\n",
    "    )\n",
    "\n",
    "    # Объединяем медианные значения с исходным DataFrame\n",
    "    df_with_median = df.join(median_df, on=category_col, how='left')\n",
    "\n",
    "    # Заполняем пропуски медианными значениями\n",
    "    df_filled = df_with_median.withColumn(\n",
    "        col_to_fill,\n",
    "        F.expr(f'coalesce({col_to_fill}, median_value)')\n",
    "    ).drop('median_value')\n",
    "\n",
    "    return df_filled"
   ]
  },
  {
   "cell_type": "code",
   "execution_count": 9,
   "metadata": {},
   "outputs": [],
   "source": [
    "def print_metrics(predictions: pyspark.sql.dataframe.DataFrame) -> None:\n",
    "    rmse = RegressionEvaluator(labelCol='median_house_value', metricName='rmse').evaluate(predictions)\n",
    "    mae = RegressionEvaluator(labelCol='median_house_value', metricName='mae').evaluate(predictions)\n",
    "    r2 = RegressionEvaluator(labelCol='median_house_value', metricName='r2').evaluate(predictions)\n",
    "\n",
    "    df = pd.DataFrame([rmse, mae, r2], index=['rmse', 'mae', 'r2'], columns=['metric_value'])\n",
    "    display(df)"
   ]
  },
  {
   "cell_type": "code",
   "execution_count": 10,
   "metadata": {},
   "outputs": [],
   "source": [
    "def plot_feature_importances(columns: list[str], coefficients: list[float]) -> None:\n",
    "    feature_importance = np.array(sorted(list(zip(columns, map(abs, coefficients))), key=lambda x: x[1], reverse=True))\n",
    "    feature_importance = pd.DataFrame(feature_importance[:, 1], index=feature_importance[:, 0], columns=['importance'])\n",
    "    feature_importance['importance'] = feature_importance['importance'].astype(np.float32)\n",
    "\n",
    "    feature_importance = feature_importance.sort_values('importance')\n",
    "    ax = feature_importance.plot(kind='barh', color='skyblue', legend=False, figsize=(10, 5))\n",
    "    plt.title('Feature Importance')\n",
    "    plt.xlabel('Importance')\n",
    "    plt.ylabel('Features')\n",
    "\n",
    "    for i, v in enumerate(feature_importance['importance']):\n",
    "        ax.text(v, i, f'{v:.2f}', va='center', ha='left', color='black')\n",
    "\n",
    "    plt.tight_layout()\n",
    "    plt.show()"
   ]
  },
  {
   "cell_type": "code",
   "execution_count": 11,
   "metadata": {},
   "outputs": [],
   "source": [
    "def make_pipeline(cat_cols: list[str], num_cols: list[str], model=None) -> Pipeline:\n",
    "    stages = [\n",
    "        # categorical columns\n",
    "        StringIndexer(inputCols=cat_cols, outputCols=[c + '_idx' for c in cat_cols], handleInvalid='keep'),\n",
    "        OHE(inputCols=[c + '_idx' for c in cat_cols], outputCols=[c + '_ohe' for c in cat_cols]),\n",
    "        VectorAssembler(inputCols=[c + '_ohe' for c in cat_cols], outputCol='cat_features'),\n",
    "\n",
    "        # numeric columns\n",
    "        VectorAssembler(inputCols=num_cols, outputCol='num_features'),\n",
    "        StandardScaler(inputCol='num_features', outputCol='num_features_scaled'),\n",
    "\n",
    "        # final assembling\n",
    "        VectorAssembler(inputCols=['cat_features', 'num_features_scaled'], outputCol='features')\n",
    "    ]\n",
    "\n",
    "    if model is not None:\n",
    "        stages.append(model)\n",
    "\n",
    "    pipeline = Pipeline(stages=stages)\n",
    "    return pipeline"
   ]
  },
  {
   "cell_type": "markdown",
   "metadata": {},
   "source": [
    "## 2. <a id='toc2_'></a>Данные      [&#8593;](#toc0_)"
   ]
  },
  {
   "cell_type": "markdown",
   "metadata": {},
   "source": [
    "### 2.1. <a id='toc2_1_'></a>Загрузка      [&#8593;](#toc0_)"
   ]
  },
  {
   "cell_type": "code",
   "execution_count": 12,
   "metadata": {},
   "outputs": [],
   "source": [
    "spark = SparkSession.builder \\\n",
    "    .master('local') \\\n",
    "    .appName('Pyspark house prices prediction') \\\n",
    "    .getOrCreate()\n",
    "\n",
    "clear_output()"
   ]
  },
  {
   "cell_type": "code",
   "execution_count": 13,
   "metadata": {},
   "outputs": [],
   "source": [
    "df = spark.read.option('header', 'true').csv('./data/housing.csv', inferSchema=True)"
   ]
  },
  {
   "cell_type": "code",
   "execution_count": 14,
   "metadata": {},
   "outputs": [
    {
     "name": "stdout",
     "output_type": "stream",
     "text": [
      "+---------+--------+------------------+-----------+--------------+----------+----------+-------------+------------------+---------------+\n",
      "|longitude|latitude|housing_median_age|total_rooms|total_bedrooms|population|households|median_income|median_house_value|ocean_proximity|\n",
      "+---------+--------+------------------+-----------+--------------+----------+----------+-------------+------------------+---------------+\n",
      "|  -122.23|   37.88|              41.0|      880.0|         129.0|     322.0|     126.0|       8.3252|          452600.0|       NEAR BAY|\n",
      "|  -122.22|   37.86|              21.0|     7099.0|        1106.0|    2401.0|    1138.0|       8.3014|          358500.0|       NEAR BAY|\n",
      "|  -122.24|   37.85|              52.0|     1467.0|         190.0|     496.0|     177.0|       7.2574|          352100.0|       NEAR BAY|\n",
      "|  -122.25|   37.85|              52.0|     1274.0|         235.0|     558.0|     219.0|       5.6431|          341300.0|       NEAR BAY|\n",
      "|  -122.25|   37.85|              52.0|     1627.0|         280.0|     565.0|     259.0|       3.8462|          342200.0|       NEAR BAY|\n",
      "+---------+--------+------------------+-----------+--------------+----------+----------+-------------+------------------+---------------+\n",
      "only showing top 5 rows\n",
      "\n"
     ]
    }
   ],
   "source": [
    "df.show(5)"
   ]
  },
  {
   "cell_type": "markdown",
   "metadata": {},
   "source": [
    "### 2.2. <a id='toc2_2_'></a>Проверка типов данных      [&#8593;](#toc0_)"
   ]
  },
  {
   "cell_type": "code",
   "execution_count": 15,
   "metadata": {},
   "outputs": [
    {
     "name": "stdout",
     "output_type": "stream",
     "text": [
      "               column    type\n",
      "0           longitude  double\n",
      "1            latitude  double\n",
      "2  housing_median_age  double\n",
      "3         total_rooms  double\n",
      "4      total_bedrooms  double\n",
      "5          population  double\n",
      "6          households  double\n",
      "7       median_income  double\n",
      "8  median_house_value  double\n",
      "9     ocean_proximity  string\n"
     ]
    }
   ],
   "source": [
    "print(pd.DataFrame(df.dtypes, columns=['column', 'type']).head(10))"
   ]
  },
  {
   "cell_type": "markdown",
   "metadata": {},
   "source": [
    "Типы данных во всех столбцах корректны."
   ]
  },
  {
   "cell_type": "markdown",
   "metadata": {},
   "source": [
    "### 2.3. <a id='toc2_3_'></a>Обработка дубликатов      [&#8593;](#toc0_)"
   ]
  },
  {
   "cell_type": "code",
   "execution_count": 16,
   "metadata": {},
   "outputs": [
    {
     "data": {
      "text/plain": [
       "0"
      ]
     },
     "execution_count": 16,
     "metadata": {},
     "output_type": "execute_result"
    }
   ],
   "source": [
    "duplicates_num = df.count() - df.dropDuplicates().count()\n",
    "duplicates_num"
   ]
  },
  {
   "cell_type": "markdown",
   "metadata": {},
   "source": [
    "Полных дубликатов не обнаружено."
   ]
  },
  {
   "cell_type": "markdown",
   "metadata": {},
   "source": [
    "### 2.4. <a id='toc2_4_'></a>Проверка пропусков      [&#8593;](#toc0_)"
   ]
  },
  {
   "cell_type": "code",
   "execution_count": 17,
   "metadata": {},
   "outputs": [
    {
     "data": {
      "text/html": [
       "<div>\n",
       "<style scoped>\n",
       "    .dataframe tbody tr th:only-of-type {\n",
       "        vertical-align: middle;\n",
       "    }\n",
       "\n",
       "    .dataframe tbody tr th {\n",
       "        vertical-align: top;\n",
       "    }\n",
       "\n",
       "    .dataframe thead th {\n",
       "        text-align: right;\n",
       "    }\n",
       "</style>\n",
       "<table border=\"1\" class=\"dataframe\">\n",
       "  <thead>\n",
       "    <tr style=\"text-align: right;\">\n",
       "      <th></th>\n",
       "      <th>0</th>\n",
       "    </tr>\n",
       "  </thead>\n",
       "  <tbody>\n",
       "    <tr>\n",
       "      <th>longitude</th>\n",
       "      <td>0</td>\n",
       "    </tr>\n",
       "    <tr>\n",
       "      <th>latitude</th>\n",
       "      <td>0</td>\n",
       "    </tr>\n",
       "    <tr>\n",
       "      <th>housing_median_age</th>\n",
       "      <td>0</td>\n",
       "    </tr>\n",
       "    <tr>\n",
       "      <th>total_rooms</th>\n",
       "      <td>0</td>\n",
       "    </tr>\n",
       "    <tr>\n",
       "      <th>population</th>\n",
       "      <td>0</td>\n",
       "    </tr>\n",
       "    <tr>\n",
       "      <th>households</th>\n",
       "      <td>0</td>\n",
       "    </tr>\n",
       "    <tr>\n",
       "      <th>median_income</th>\n",
       "      <td>0</td>\n",
       "    </tr>\n",
       "    <tr>\n",
       "      <th>median_house_value</th>\n",
       "      <td>0</td>\n",
       "    </tr>\n",
       "    <tr>\n",
       "      <th>ocean_proximity</th>\n",
       "      <td>0</td>\n",
       "    </tr>\n",
       "    <tr>\n",
       "      <th>total_bedrooms</th>\n",
       "      <td>207</td>\n",
       "    </tr>\n",
       "  </tbody>\n",
       "</table>\n",
       "</div>"
      ],
      "text/plain": [
       "                      0\n",
       "longitude             0\n",
       "latitude              0\n",
       "housing_median_age    0\n",
       "total_rooms           0\n",
       "population            0\n",
       "households            0\n",
       "median_income         0\n",
       "median_house_value    0\n",
       "ocean_proximity       0\n",
       "total_bedrooms      207"
      ]
     },
     "metadata": {},
     "output_type": "display_data"
    }
   ],
   "source": [
    "print_table_about_nans(df)"
   ]
  },
  {
   "cell_type": "code",
   "execution_count": 18,
   "metadata": {},
   "outputs": [
    {
     "data": {
      "text/plain": [
       "1.002906976744186"
      ]
     },
     "execution_count": 18,
     "metadata": {},
     "output_type": "execute_result"
    }
   ],
   "source": [
    "207 / df.count() * 100"
   ]
  },
  {
   "cell_type": "markdown",
   "metadata": {},
   "source": [
    "Всего один столбец (`total_bedrooms`) содержит пропуски. Причем процент пропусков крайне незначительный - `1%`. Заполним пропуски:"
   ]
  },
  {
   "cell_type": "code",
   "execution_count": 19,
   "metadata": {},
   "outputs": [],
   "source": [
    "df = fill_missing_with_median_by_categories(df, 'total_bedrooms', 'ocean_proximity')"
   ]
  },
  {
   "cell_type": "markdown",
   "metadata": {},
   "source": [
    "Проверим, что пропусков больше нет:"
   ]
  },
  {
   "cell_type": "code",
   "execution_count": 20,
   "metadata": {},
   "outputs": [
    {
     "name": "stderr",
     "output_type": "stream",
     "text": [
      "Java HotSpot(TM) 64-Bit Server VM warning: CodeCache is full. Compiler has been disabled.\n",
      "Java HotSpot(TM) 64-Bit Server VM warning: Try increasing the code cache size using -XX:ReservedCodeCacheSize=\n"
     ]
    },
    {
     "name": "stdout",
     "output_type": "stream",
     "text": [
      "CodeCache: size=131072Kb used=27906Kb max_used=27906Kb free=103165Kb\n",
      " bounds [0x000000010a1f8000, 0x000000010bd68000, 0x00000001121f8000]\n",
      " total_blobs=10367 nmethods=9411 adapters=865\n",
      " compilation: disabled (not enough contiguous free space left)\n"
     ]
    },
    {
     "data": {
      "text/html": [
       "<div>\n",
       "<style scoped>\n",
       "    .dataframe tbody tr th:only-of-type {\n",
       "        vertical-align: middle;\n",
       "    }\n",
       "\n",
       "    .dataframe tbody tr th {\n",
       "        vertical-align: top;\n",
       "    }\n",
       "\n",
       "    .dataframe thead th {\n",
       "        text-align: right;\n",
       "    }\n",
       "</style>\n",
       "<table border=\"1\" class=\"dataframe\">\n",
       "  <thead>\n",
       "    <tr style=\"text-align: right;\">\n",
       "      <th></th>\n",
       "      <th>0</th>\n",
       "    </tr>\n",
       "  </thead>\n",
       "  <tbody>\n",
       "    <tr>\n",
       "      <th>ocean_proximity</th>\n",
       "      <td>0</td>\n",
       "    </tr>\n",
       "    <tr>\n",
       "      <th>longitude</th>\n",
       "      <td>0</td>\n",
       "    </tr>\n",
       "    <tr>\n",
       "      <th>latitude</th>\n",
       "      <td>0</td>\n",
       "    </tr>\n",
       "    <tr>\n",
       "      <th>housing_median_age</th>\n",
       "      <td>0</td>\n",
       "    </tr>\n",
       "    <tr>\n",
       "      <th>total_rooms</th>\n",
       "      <td>0</td>\n",
       "    </tr>\n",
       "    <tr>\n",
       "      <th>total_bedrooms</th>\n",
       "      <td>0</td>\n",
       "    </tr>\n",
       "    <tr>\n",
       "      <th>population</th>\n",
       "      <td>0</td>\n",
       "    </tr>\n",
       "    <tr>\n",
       "      <th>households</th>\n",
       "      <td>0</td>\n",
       "    </tr>\n",
       "    <tr>\n",
       "      <th>median_income</th>\n",
       "      <td>0</td>\n",
       "    </tr>\n",
       "    <tr>\n",
       "      <th>median_house_value</th>\n",
       "      <td>0</td>\n",
       "    </tr>\n",
       "  </tbody>\n",
       "</table>\n",
       "</div>"
      ],
      "text/plain": [
       "                    0\n",
       "ocean_proximity     0\n",
       "longitude           0\n",
       "latitude            0\n",
       "housing_median_age  0\n",
       "total_rooms         0\n",
       "total_bedrooms      0\n",
       "population          0\n",
       "households          0\n",
       "median_income       0\n",
       "median_house_value  0"
      ]
     },
     "metadata": {},
     "output_type": "display_data"
    }
   ],
   "source": [
    "print_table_about_nans(df)"
   ]
  },
  {
   "cell_type": "markdown",
   "metadata": {},
   "source": [
    "Все пропуски были заполнены медианным значением по категориям."
   ]
  },
  {
   "cell_type": "markdown",
   "metadata": {},
   "source": [
    "### 2.5. <a id='toc2_5_'></a>Изучение данных      [&#8593;](#toc0_)"
   ]
  },
  {
   "cell_type": "code",
   "execution_count": 21,
   "metadata": {},
   "outputs": [
    {
     "name": "stderr",
     "output_type": "stream",
     "text": [
      "24/10/18 11:53:09 WARN SparkStringUtils: Truncated the string representation of a plan since it was too large. This behavior can be adjusted by setting 'spark.sql.debug.maxToStringFields'.\n"
     ]
    },
    {
     "data": {
      "text/html": [
       "<div>\n",
       "<style scoped>\n",
       "    .dataframe tbody tr th:only-of-type {\n",
       "        vertical-align: middle;\n",
       "    }\n",
       "\n",
       "    .dataframe tbody tr th {\n",
       "        vertical-align: top;\n",
       "    }\n",
       "\n",
       "    .dataframe thead th {\n",
       "        text-align: right;\n",
       "    }\n",
       "</style>\n",
       "<table border=\"1\" class=\"dataframe\">\n",
       "  <thead>\n",
       "    <tr style=\"text-align: right;\">\n",
       "      <th>summary</th>\n",
       "      <th>count</th>\n",
       "      <th>mean</th>\n",
       "      <th>stddev</th>\n",
       "      <th>min</th>\n",
       "      <th>max</th>\n",
       "    </tr>\n",
       "  </thead>\n",
       "  <tbody>\n",
       "    <tr>\n",
       "      <th>ocean_proximity</th>\n",
       "      <td>20640</td>\n",
       "      <td>None</td>\n",
       "      <td>None</td>\n",
       "      <td>&lt;1H OCEAN</td>\n",
       "      <td>NEAR OCEAN</td>\n",
       "    </tr>\n",
       "    <tr>\n",
       "      <th>longitude</th>\n",
       "      <td>20640</td>\n",
       "      <td>-119.56970445736148</td>\n",
       "      <td>2.003531723502584</td>\n",
       "      <td>-124.35</td>\n",
       "      <td>-114.31</td>\n",
       "    </tr>\n",
       "    <tr>\n",
       "      <th>latitude</th>\n",
       "      <td>20640</td>\n",
       "      <td>35.6318614341087</td>\n",
       "      <td>2.135952397457101</td>\n",
       "      <td>32.54</td>\n",
       "      <td>41.95</td>\n",
       "    </tr>\n",
       "    <tr>\n",
       "      <th>housing_median_age</th>\n",
       "      <td>20640</td>\n",
       "      <td>28.639486434108527</td>\n",
       "      <td>12.58555761211163</td>\n",
       "      <td>1.0</td>\n",
       "      <td>52.0</td>\n",
       "    </tr>\n",
       "    <tr>\n",
       "      <th>total_rooms</th>\n",
       "      <td>20640</td>\n",
       "      <td>2635.7630813953488</td>\n",
       "      <td>2181.6152515827944</td>\n",
       "      <td>2.0</td>\n",
       "      <td>39320.0</td>\n",
       "    </tr>\n",
       "    <tr>\n",
       "      <th>total_bedrooms</th>\n",
       "      <td>20640</td>\n",
       "      <td>536.8512596899225</td>\n",
       "      <td>419.39102897442507</td>\n",
       "      <td>1.0</td>\n",
       "      <td>6445.0</td>\n",
       "    </tr>\n",
       "    <tr>\n",
       "      <th>population</th>\n",
       "      <td>20640</td>\n",
       "      <td>1425.4767441860465</td>\n",
       "      <td>1132.46212176534</td>\n",
       "      <td>3.0</td>\n",
       "      <td>35682.0</td>\n",
       "    </tr>\n",
       "    <tr>\n",
       "      <th>households</th>\n",
       "      <td>20640</td>\n",
       "      <td>499.5396802325581</td>\n",
       "      <td>382.3297528316098</td>\n",
       "      <td>1.0</td>\n",
       "      <td>6082.0</td>\n",
       "    </tr>\n",
       "    <tr>\n",
       "      <th>median_income</th>\n",
       "      <td>20640</td>\n",
       "      <td>3.8706710029070246</td>\n",
       "      <td>1.899821717945263</td>\n",
       "      <td>0.4999</td>\n",
       "      <td>15.0001</td>\n",
       "    </tr>\n",
       "    <tr>\n",
       "      <th>median_house_value</th>\n",
       "      <td>20640</td>\n",
       "      <td>206855.81690891474</td>\n",
       "      <td>115395.61587441359</td>\n",
       "      <td>14999.0</td>\n",
       "      <td>500001.0</td>\n",
       "    </tr>\n",
       "  </tbody>\n",
       "</table>\n",
       "</div>"
      ],
      "text/plain": [
       "summary             count                 mean              stddev        min  \\\n",
       "ocean_proximity     20640                 None                None  <1H OCEAN   \n",
       "longitude           20640  -119.56970445736148   2.003531723502584    -124.35   \n",
       "latitude            20640     35.6318614341087   2.135952397457101      32.54   \n",
       "housing_median_age  20640   28.639486434108527   12.58555761211163        1.0   \n",
       "total_rooms         20640   2635.7630813953488  2181.6152515827944        2.0   \n",
       "total_bedrooms      20640    536.8512596899225  419.39102897442507        1.0   \n",
       "population          20640   1425.4767441860465    1132.46212176534        3.0   \n",
       "households          20640    499.5396802325581   382.3297528316098        1.0   \n",
       "median_income       20640   3.8706710029070246   1.899821717945263     0.4999   \n",
       "median_house_value  20640   206855.81690891474  115395.61587441359    14999.0   \n",
       "\n",
       "summary                    max  \n",
       "ocean_proximity     NEAR OCEAN  \n",
       "longitude              -114.31  \n",
       "latitude                 41.95  \n",
       "housing_median_age        52.0  \n",
       "total_rooms            39320.0  \n",
       "total_bedrooms          6445.0  \n",
       "population             35682.0  \n",
       "households              6082.0  \n",
       "median_income          15.0001  \n",
       "median_house_value    500001.0  "
      ]
     },
     "execution_count": 21,
     "metadata": {},
     "output_type": "execute_result"
    }
   ],
   "source": [
    "df.describe().toPandas().set_index('summary').T"
   ]
  },
  {
   "cell_type": "code",
   "execution_count": 22,
   "metadata": {},
   "outputs": [],
   "source": [
    "target = 'median_house_value'\n",
    "\n",
    "cat_cols = ['ocean_proximity']\n",
    "num_cols = ['longitude', 'latitude', 'housing_median_age', 'total_rooms', 'total_bedrooms', 'population', 'households', 'median_income']"
   ]
  },
  {
   "cell_type": "markdown",
   "metadata": {},
   "source": [
    "### 2.6. <a id='toc2_6_'></a>Разделение данных [&#8593;](#toc0_)"
   ]
  },
  {
   "cell_type": "code",
   "execution_count": 23,
   "metadata": {},
   "outputs": [
    {
     "data": {
      "text/plain": [
       "(16442, 4198)"
      ]
     },
     "execution_count": 23,
     "metadata": {},
     "output_type": "execute_result"
    }
   ],
   "source": [
    "train, test = df.randomSplit([0.8, 0.2], seed=RANDOM_SEED)\n",
    "train.count(), test.count()"
   ]
  },
  {
   "cell_type": "markdown",
   "metadata": {},
   "source": [
    "### 2.7. <a id='toc2_7_'></a>Пайплайн [&#8593;](#toc0_)"
   ]
  },
  {
   "cell_type": "code",
   "execution_count": 24,
   "metadata": {},
   "outputs": [],
   "source": [
    "pipeline = make_pipeline(cat_cols, num_cols)\n",
    "pipeline_model = pipeline.fit(train)\n",
    "\n",
    "train_transformed = pipeline_model.transform(train)\n",
    "test_transformed = pipeline_model.transform(test)"
   ]
  },
  {
   "cell_type": "code",
   "execution_count": 25,
   "metadata": {},
   "outputs": [
    {
     "name": "stdout",
     "output_type": "stream",
     "text": [
      "+---------------+---------+--------+------------------+-----------+--------------+----------+----------+-------------+------------------+-------------------+-------------------+-------------+--------------------+--------------------+--------------------+\n",
      "|ocean_proximity|longitude|latitude|housing_median_age|total_rooms|total_bedrooms|population|households|median_income|median_house_value|ocean_proximity_idx|ocean_proximity_ohe| cat_features|        num_features| num_features_scaled|            features|\n",
      "+---------------+---------+--------+------------------+-----------+--------------+----------+----------+-------------+------------------+-------------------+-------------------+-------------+--------------------+--------------------+--------------------+\n",
      "|      <1H OCEAN|  -124.13|   40.55|              38.0|      544.0|         438.0|     240.0|      91.0|         3.25|           94800.0|                0.0|      (5,[0],[1.0])|(5,[0],[1.0])|[-124.13,40.55,38...|[-62.067972962425...|[1.0,0.0,0.0,0.0,...|\n",
      "|      <1H OCEAN|  -124.11|   40.57|              33.0|     1348.0|         234.0|     573.0|     236.0|       2.4896|           74100.0|                0.0|      (5,[0],[1.0])|(5,[0],[1.0])|[-124.11,40.57,33...|[-62.057972483417...|[1.0,0.0,0.0,0.0,...|\n",
      "|      <1H OCEAN|   -124.1|   40.47|              52.0|     1196.0|         236.0|     965.0|     265.0|       3.5345|           55000.0|                0.0|      (5,[0],[1.0])|(5,[0],[1.0])|[-124.1,40.47,52....|[-62.052972243913...|[1.0,0.0,0.0,0.0,...|\n",
      "+---------------+---------+--------+------------------+-----------+--------------+----------+----------+-------------+------------------+-------------------+-------------------+-------------+--------------------+--------------------+--------------------+\n",
      "only showing top 3 rows\n",
      "\n"
     ]
    }
   ],
   "source": [
    "train_transformed.show(3)"
   ]
  },
  {
   "cell_type": "markdown",
   "metadata": {},
   "source": [
    "## 3. <a id='toc3_'></a>Модель A1 (все данные)      [&#8593;](#toc0_)"
   ]
  },
  {
   "cell_type": "markdown",
   "metadata": {},
   "source": [
    "### 3.1. <a id='toc3_1_'></a>Обучение    [&#8593;](#toc0_)"
   ]
  },
  {
   "cell_type": "code",
   "execution_count": 26,
   "metadata": {},
   "outputs": [
    {
     "name": "stderr",
     "output_type": "stream",
     "text": [
      "24/10/18 11:53:14 WARN Instrumentation: [e96be769] regParam is zero, which might cause numerical instability and overfitting.\n",
      "24/10/18 11:53:14 WARN InstanceBuilder: Failed to load implementation from:dev.ludovic.netlib.blas.JNIBLAS\n",
      "24/10/18 11:53:14 WARN InstanceBuilder: Failed to load implementation from:dev.ludovic.netlib.lapack.JNILAPACK\n"
     ]
    }
   ],
   "source": [
    "lr = LinearRegression(featuresCol='features', labelCol=target)\n",
    "model = lr.fit(train_transformed)"
   ]
  },
  {
   "cell_type": "markdown",
   "metadata": {},
   "source": [
    "### 3.2. <a id='toc3_2_'></a>Предсказание     [&#8593;](#toc0_)"
   ]
  },
  {
   "cell_type": "code",
   "execution_count": 27,
   "metadata": {},
   "outputs": [],
   "source": [
    "preds = model.transform(test_transformed)"
   ]
  },
  {
   "cell_type": "code",
   "execution_count": 28,
   "metadata": {},
   "outputs": [
    {
     "name": "stdout",
     "output_type": "stream",
     "text": [
      "+---------------+---------+--------+------------------+-----------+--------------+----------+----------+-------------+------------------+-------------------+-------------------+-------------+--------------------+--------------------+--------------------+------------------+\n",
      "|ocean_proximity|longitude|latitude|housing_median_age|total_rooms|total_bedrooms|population|households|median_income|median_house_value|ocean_proximity_idx|ocean_proximity_ohe| cat_features|        num_features| num_features_scaled|            features|        prediction|\n",
      "+---------------+---------+--------+------------------+-----------+--------------+----------+----------+-------------+------------------+-------------------+-------------------+-------------+--------------------+--------------------+--------------------+------------------+\n",
      "|      <1H OCEAN|  -124.14|   40.57|              29.0|     2864.0|         600.0|    1314.0|     562.0|       2.1354|           75100.0|                0.0|      (5,[0],[1.0])|(5,[0],[1.0])|[-124.14,40.57,29...|[-62.072973201929...|[1.0,0.0,0.0,0.0,...|159999.66518781334|\n",
      "|      <1H OCEAN|  -124.14|   40.58|              25.0|     1899.0|         357.0|     891.0|     355.0|       2.6987|           92500.0|                0.0|      (5,[0],[1.0])|(5,[0],[1.0])|[-124.14,40.58,25...|[-62.072973201929...|[1.0,0.0,0.0,0.0,...|165264.97846042737|\n",
      "|      <1H OCEAN|  -124.09|   40.55|              24.0|     2978.0|         553.0|    1370.0|     480.0|       2.7644|           97300.0|                0.0|      (5,[0],[1.0])|(5,[0],[1.0])|[-124.09,40.55,24...|[-62.047972004410...|[1.0,0.0,0.0,0.0,...| 165966.5007095486|\n",
      "+---------------+---------+--------+------------------+-----------+--------------+----------+----------+-------------+------------------+-------------------+-------------------+-------------+--------------------+--------------------+--------------------+------------------+\n",
      "only showing top 3 rows\n",
      "\n"
     ]
    }
   ],
   "source": [
    "preds.show(3)"
   ]
  },
  {
   "cell_type": "code",
   "execution_count": 29,
   "metadata": {},
   "outputs": [
    {
     "name": "stdout",
     "output_type": "stream",
     "text": [
      "+------------------+------------------+\n",
      "|median_house_value|        prediction|\n",
      "+------------------+------------------+\n",
      "|           75100.0|159999.66518781334|\n",
      "|           92500.0|165264.97846042737|\n",
      "|           97300.0| 165966.5007095486|\n",
      "|           92600.0| 149791.7971461378|\n",
      "|          106300.0|175387.52892674878|\n",
      "+------------------+------------------+\n",
      "only showing top 5 rows\n",
      "\n"
     ]
    }
   ],
   "source": [
    "preds.select('median_house_value', 'prediction').show(5)"
   ]
  },
  {
   "cell_type": "markdown",
   "metadata": {},
   "source": [
    "Кажется, что модель не очень хорошо справляется со своей задачей. Проверим метрики."
   ]
  },
  {
   "cell_type": "markdown",
   "metadata": {},
   "source": [
    "### 3.3. <a id='toc3_3_'></a>Оценка качества    [&#8593;](#toc0_)"
   ]
  },
  {
   "cell_type": "code",
   "execution_count": 30,
   "metadata": {},
   "outputs": [
    {
     "data": {
      "text/html": [
       "<div>\n",
       "<style scoped>\n",
       "    .dataframe tbody tr th:only-of-type {\n",
       "        vertical-align: middle;\n",
       "    }\n",
       "\n",
       "    .dataframe tbody tr th {\n",
       "        vertical-align: top;\n",
       "    }\n",
       "\n",
       "    .dataframe thead th {\n",
       "        text-align: right;\n",
       "    }\n",
       "</style>\n",
       "<table border=\"1\" class=\"dataframe\">\n",
       "  <thead>\n",
       "    <tr style=\"text-align: right;\">\n",
       "      <th></th>\n",
       "      <th>metric_value</th>\n",
       "    </tr>\n",
       "  </thead>\n",
       "  <tbody>\n",
       "    <tr>\n",
       "      <th>rmse</th>\n",
       "      <td>65996.753554</td>\n",
       "    </tr>\n",
       "    <tr>\n",
       "      <th>mae</th>\n",
       "      <td>48577.024037</td>\n",
       "    </tr>\n",
       "    <tr>\n",
       "      <th>r2</th>\n",
       "      <td>0.659029</td>\n",
       "    </tr>\n",
       "  </tbody>\n",
       "</table>\n",
       "</div>"
      ],
      "text/plain": [
       "      metric_value\n",
       "rmse  65996.753554\n",
       "mae   48577.024037\n",
       "r2        0.659029"
      ]
     },
     "metadata": {},
     "output_type": "display_data"
    }
   ],
   "source": [
    "print_metrics(preds)"
   ]
  },
  {
   "cell_type": "markdown",
   "metadata": {},
   "source": [
    "### 3.4. <a id='toc3_4_'></a>Важность признаков   [&#8593;](#toc0_)"
   ]
  },
  {
   "cell_type": "code",
   "execution_count": 31,
   "metadata": {
    "scrolled": true
   },
   "outputs": [
    {
     "data": {
      "image/png": "[encoded data removed]",
      "text/plain": [
       "<Figure size 1000x500 with 1 Axes>"
      ]
     },
     "metadata": {},
     "output_type": "display_data"
    }
   ],
   "source": [
    "indexer_model = pipeline_model.stages[0]\n",
    "columns = indexer_model.labels + num_cols\n",
    "plot_feature_importances(columns, model.coefficients)"
   ]
  },
  {
   "cell_type": "markdown",
   "metadata": {},
   "source": [
    "## 4. <a id='toc4_'></a>Модель B1 (только числовые переменные)    [&#8593;](#toc0_)"
   ]
  },
  {
   "cell_type": "markdown",
   "metadata": {},
   "source": [
    "### 4.1. <a id='toc4_1_'></a>Обучение    [&#8593;](#toc0_)"
   ]
  },
  {
   "cell_type": "code",
   "execution_count": 32,
   "metadata": {},
   "outputs": [
    {
     "name": "stderr",
     "output_type": "stream",
     "text": [
      "24/10/18 11:53:17 WARN Instrumentation: [aef70666] regParam is zero, which might cause numerical instability and overfitting.\n"
     ]
    }
   ],
   "source": [
    "lr_b = LinearRegression(featuresCol='num_features_scaled', labelCol=target)\n",
    "model_b = lr_b.fit(train_transformed)"
   ]
  },
  {
   "cell_type": "markdown",
   "metadata": {},
   "source": [
    "### 4.2. <a id='toc4_2_'></a>Предсказание    [&#8593;](#toc0_)"
   ]
  },
  {
   "cell_type": "code",
   "execution_count": 33,
   "metadata": {},
   "outputs": [],
   "source": [
    "preds_b = model_b.transform(test_transformed)"
   ]
  },
  {
   "cell_type": "code",
   "execution_count": 34,
   "metadata": {},
   "outputs": [
    {
     "name": "stdout",
     "output_type": "stream",
     "text": [
      "+---------------+---------+--------+------------------+-----------+--------------+----------+----------+-------------+------------------+-------------------+-------------------+-------------+--------------------+--------------------+--------------------+------------------+\n",
      "|ocean_proximity|longitude|latitude|housing_median_age|total_rooms|total_bedrooms|population|households|median_income|median_house_value|ocean_proximity_idx|ocean_proximity_ohe| cat_features|        num_features| num_features_scaled|            features|        prediction|\n",
      "+---------------+---------+--------+------------------+-----------+--------------+----------+----------+-------------+------------------+-------------------+-------------------+-------------+--------------------+--------------------+--------------------+------------------+\n",
      "|      <1H OCEAN|  -124.14|   40.57|              29.0|     2864.0|         600.0|    1314.0|     562.0|       2.1354|           75100.0|                0.0|      (5,[0],[1.0])|(5,[0],[1.0])|[-124.14,40.57,29...|[-62.072973201929...|[1.0,0.0,0.0,0.0,...| 136060.2034164793|\n",
      "|      <1H OCEAN|  -124.14|   40.58|              25.0|     1899.0|         357.0|     891.0|     355.0|       2.6987|           92500.0|                0.0|      (5,[0],[1.0])|(5,[0],[1.0])|[-124.14,40.58,25...|[-62.072973201929...|[1.0,0.0,0.0,0.0,...|140651.92048534658|\n",
      "|      <1H OCEAN|  -124.09|   40.55|              24.0|     2978.0|         553.0|    1370.0|     480.0|       2.7644|           97300.0|                0.0|      (5,[0],[1.0])|(5,[0],[1.0])|[-124.09,40.55,24...|[-62.047972004410...|[1.0,0.0,0.0,0.0,...|140861.80978794163|\n",
      "+---------------+---------+--------+------------------+-----------+--------------+----------+----------+-------------+------------------+-------------------+-------------------+-------------+--------------------+--------------------+--------------------+------------------+\n",
      "only showing top 3 rows\n",
      "\n"
     ]
    }
   ],
   "source": [
    "preds_b.show(3)"
   ]
  },
  {
   "cell_type": "markdown",
   "metadata": {},
   "source": [
    "Проверим метрики."
   ]
  },
  {
   "cell_type": "markdown",
   "metadata": {},
   "source": [
    "### 4.3. <a id='toc4_3_'></a>Оценка качества    [&#8593;](#toc0_)"
   ]
  },
  {
   "cell_type": "code",
   "execution_count": 35,
   "metadata": {},
   "outputs": [
    {
     "data": {
      "text/html": [
       "<div>\n",
       "<style scoped>\n",
       "    .dataframe tbody tr th:only-of-type {\n",
       "        vertical-align: middle;\n",
       "    }\n",
       "\n",
       "    .dataframe tbody tr th {\n",
       "        vertical-align: top;\n",
       "    }\n",
       "\n",
       "    .dataframe thead th {\n",
       "        text-align: right;\n",
       "    }\n",
       "</style>\n",
       "<table border=\"1\" class=\"dataframe\">\n",
       "  <thead>\n",
       "    <tr style=\"text-align: right;\">\n",
       "      <th></th>\n",
       "      <th>metric_value</th>\n",
       "    </tr>\n",
       "  </thead>\n",
       "  <tbody>\n",
       "    <tr>\n",
       "      <th>rmse</th>\n",
       "      <td>66945.516942</td>\n",
       "    </tr>\n",
       "    <tr>\n",
       "      <th>mae</th>\n",
       "      <td>49610.139468</td>\n",
       "    </tr>\n",
       "    <tr>\n",
       "      <th>r2</th>\n",
       "      <td>0.649155</td>\n",
       "    </tr>\n",
       "  </tbody>\n",
       "</table>\n",
       "</div>"
      ],
      "text/plain": [
       "      metric_value\n",
       "rmse  66945.516942\n",
       "mae   49610.139468\n",
       "r2        0.649155"
      ]
     },
     "metadata": {},
     "output_type": "display_data"
    }
   ],
   "source": [
    "print_metrics(preds_b)"
   ]
  },
  {
   "cell_type": "markdown",
   "metadata": {},
   "source": [
    "Метрики оказались самую малость, но хуже, чем в случае А."
   ]
  },
  {
   "cell_type": "markdown",
   "metadata": {},
   "source": [
    "### 4.4. <a id='toc4_4_'></a>Важность признаков  [&#8593;](#toc0_)"
   ]
  },
  {
   "cell_type": "code",
   "execution_count": 36,
   "metadata": {},
   "outputs": [
    {
     "data": {
      "image/png": "[encoded data removed]",
      "text/plain": [
       "<Figure size 1000x500 with 1 Axes>"
      ]
     },
     "metadata": {},
     "output_type": "display_data"
    }
   ],
   "source": [
    "plot_feature_importances(num_cols, model_b.coefficients)"
   ]
  },
  {
   "cell_type": "markdown",
   "metadata": {},
   "source": [
    "## 5. <a id='toc5_'></a>Улучшение моделей    [&#8593;](#toc0_)"
   ]
  },
  {
   "cell_type": "markdown",
   "metadata": {},
   "source": [
    "### 5.1. <a id='toc5_1_'></a>Подготовка  [&#8593;](#toc0_)"
   ]
  },
  {
   "cell_type": "markdown",
   "metadata": {},
   "source": [
    "Попробуем добавить несколько новых признаков."
   ]
  },
  {
   "cell_type": "code",
   "execution_count": 37,
   "metadata": {},
   "outputs": [],
   "source": [
    "def generate_features(df) -> pyspark.sql.dataframe.DataFrame:\n",
    "    return df \\\n",
    "        .withColumn('rooms_per_household', F.col('total_rooms') / F.col('households')) \\\n",
    "        .withColumn('population_in_household', F.col('population') / F.col('households')) \\\n",
    "        .withColumn('bedroom_part', F.col('total_bedrooms') / F.col('total_rooms'))"
   ]
  },
  {
   "cell_type": "code",
   "execution_count": 38,
   "metadata": {},
   "outputs": [],
   "source": [
    "train = generate_features(train)\n",
    "test = generate_features(test)"
   ]
  },
  {
   "cell_type": "code",
   "execution_count": 39,
   "metadata": {},
   "outputs": [
    {
     "name": "stdout",
     "output_type": "stream",
     "text": [
      "+---------------+---------+--------+------------------+-----------+--------------+----------+----------+-------------+------------------+-------------------+-----------------------+-------------------+\n",
      "|ocean_proximity|longitude|latitude|housing_median_age|total_rooms|total_bedrooms|population|households|median_income|median_house_value|rooms_per_household|population_in_household|       bedroom_part|\n",
      "+---------------+---------+--------+------------------+-----------+--------------+----------+----------+-------------+------------------+-------------------+-----------------------+-------------------+\n",
      "|      <1H OCEAN|  -124.13|   40.55|              38.0|      544.0|         438.0|     240.0|      91.0|         3.25|           94800.0|  5.978021978021978|     2.6373626373626373| 0.8051470588235294|\n",
      "|      <1H OCEAN|  -124.11|   40.57|              33.0|     1348.0|         234.0|     573.0|     236.0|       2.4896|           74100.0|  5.711864406779661|     2.4279661016949152|0.17359050445103857|\n",
      "|      <1H OCEAN|   -124.1|   40.47|              52.0|     1196.0|         236.0|     965.0|     265.0|       3.5345|           55000.0|  4.513207547169811|      3.641509433962264|0.19732441471571907|\n",
      "+---------------+---------+--------+------------------+-----------+--------------+----------+----------+-------------+------------------+-------------------+-----------------------+-------------------+\n",
      "only showing top 3 rows\n",
      "\n"
     ]
    }
   ],
   "source": [
    "train.show(3)"
   ]
  },
  {
   "cell_type": "code",
   "execution_count": 40,
   "metadata": {},
   "outputs": [],
   "source": [
    "cat_cols = ['ocean_proximity']\n",
    "num_cols = ['longitude',\n",
    "            'latitude',\n",
    "            'housing_median_age',\n",
    "            'total_rooms',\n",
    "            'total_bedrooms',\n",
    "            'population',\n",
    "            'households',\n",
    "            'median_income',\n",
    "            'rooms_per_household',\n",
    "            'population_in_household',\n",
    "            'bedroom_part'\n",
    "        ]"
   ]
  },
  {
   "cell_type": "code",
   "execution_count": 41,
   "metadata": {},
   "outputs": [],
   "source": [
    "pipeline = make_pipeline(cat_cols, num_cols)\n",
    "pipeline_model = pipeline.fit(train)\n",
    "\n",
    "train_transformed = pipeline_model.transform(train)\n",
    "test_transformed = pipeline_model.transform(test)"
   ]
  },
  {
   "cell_type": "code",
   "execution_count": 42,
   "metadata": {},
   "outputs": [
    {
     "name": "stdout",
     "output_type": "stream",
     "text": [
      "+---------------+---------+--------+------------------+-----------+--------------+----------+----------+-------------+------------------+-------------------+-----------------------+-------------------+-------------------+-------------------+-------------+--------------------+--------------------+--------------------+\n",
      "|ocean_proximity|longitude|latitude|housing_median_age|total_rooms|total_bedrooms|population|households|median_income|median_house_value|rooms_per_household|population_in_household|       bedroom_part|ocean_proximity_idx|ocean_proximity_ohe| cat_features|        num_features| num_features_scaled|            features|\n",
      "+---------------+---------+--------+------------------+-----------+--------------+----------+----------+-------------+------------------+-------------------+-----------------------+-------------------+-------------------+-------------------+-------------+--------------------+--------------------+--------------------+\n",
      "|      <1H OCEAN|  -124.13|   40.55|              38.0|      544.0|         438.0|     240.0|      91.0|         3.25|           94800.0|  5.978021978021978|     2.6373626373626373| 0.8051470588235294|                0.0|      (5,[0],[1.0])|(5,[0],[1.0])|[-124.13,40.55,38...|[-62.067972962425...|[1.0,0.0,0.0,0.0,...|\n",
      "|      <1H OCEAN|  -124.11|   40.57|              33.0|     1348.0|         234.0|     573.0|     236.0|       2.4896|           74100.0|  5.711864406779661|     2.4279661016949152|0.17359050445103857|                0.0|      (5,[0],[1.0])|(5,[0],[1.0])|[-124.11,40.57,33...|[-62.057972483417...|[1.0,0.0,0.0,0.0,...|\n",
      "|      <1H OCEAN|   -124.1|   40.47|              52.0|     1196.0|         236.0|     965.0|     265.0|       3.5345|           55000.0|  4.513207547169811|      3.641509433962264|0.19732441471571907|                0.0|      (5,[0],[1.0])|(5,[0],[1.0])|[-124.1,40.47,52....|[-62.052972243913...|[1.0,0.0,0.0,0.0,...|\n",
      "+---------------+---------+--------+------------------+-----------+--------------+----------+----------+-------------+------------------+-------------------+-----------------------+-------------------+-------------------+-------------------+-------------+--------------------+--------------------+--------------------+\n",
      "only showing top 3 rows\n",
      "\n"
     ]
    }
   ],
   "source": [
    "train_transformed.show(3)"
   ]
  },
  {
   "cell_type": "markdown",
   "metadata": {},
   "source": [
    "### 5.2. <a id='toc5_2_'></a>Модель А2  [&#8593;](#toc0_)"
   ]
  },
  {
   "cell_type": "code",
   "execution_count": 43,
   "metadata": {},
   "outputs": [
    {
     "name": "stderr",
     "output_type": "stream",
     "text": [
      "24/10/18 11:53:21 WARN Instrumentation: [ead27acd] regParam is zero, which might cause numerical instability and overfitting.\n"
     ]
    },
    {
     "data": {
      "text/html": [
       "<div>\n",
       "<style scoped>\n",
       "    .dataframe tbody tr th:only-of-type {\n",
       "        vertical-align: middle;\n",
       "    }\n",
       "\n",
       "    .dataframe tbody tr th {\n",
       "        vertical-align: top;\n",
       "    }\n",
       "\n",
       "    .dataframe thead th {\n",
       "        text-align: right;\n",
       "    }\n",
       "</style>\n",
       "<table border=\"1\" class=\"dataframe\">\n",
       "  <thead>\n",
       "    <tr style=\"text-align: right;\">\n",
       "      <th></th>\n",
       "      <th>metric_value</th>\n",
       "    </tr>\n",
       "  </thead>\n",
       "  <tbody>\n",
       "    <tr>\n",
       "      <th>rmse</th>\n",
       "      <td>66078.910511</td>\n",
       "    </tr>\n",
       "    <tr>\n",
       "      <th>mae</th>\n",
       "      <td>48329.892984</td>\n",
       "    </tr>\n",
       "    <tr>\n",
       "      <th>r2</th>\n",
       "      <td>0.658179</td>\n",
       "    </tr>\n",
       "  </tbody>\n",
       "</table>\n",
       "</div>"
      ],
      "text/plain": [
       "      metric_value\n",
       "rmse  66078.910511\n",
       "mae   48329.892984\n",
       "r2        0.658179"
      ]
     },
     "metadata": {},
     "output_type": "display_data"
    }
   ],
   "source": [
    "lr = LinearRegression(featuresCol='features', labelCol=target)\n",
    "model = lr.fit(train_transformed)\n",
    "preds = model.transform(test_transformed)\n",
    "print_metrics(preds)"
   ]
  },
  {
   "cell_type": "code",
   "execution_count": 44,
   "metadata": {},
   "outputs": [
    {
     "data": {
      "image/png": "[encoded data removed]",
      "text/plain": [
       "<Figure size 1000x500 with 1 Axes>"
      ]
     },
     "metadata": {},
     "output_type": "display_data"
    }
   ],
   "source": [
    "indexer_model = pipeline_model.stages[0]\n",
    "columns = indexer_model.labels[:-1] + num_cols\n",
    "plot_feature_importances(columns, model.coefficients)"
   ]
  },
  {
   "cell_type": "markdown",
   "metadata": {},
   "source": [
    "### 5.3. <a id='toc5_3_'></a>Модель B2  [&#8593;](#toc0_)"
   ]
  },
  {
   "cell_type": "code",
   "execution_count": 45,
   "metadata": {},
   "outputs": [
    {
     "name": "stderr",
     "output_type": "stream",
     "text": [
      "24/10/18 11:53:22 WARN Instrumentation: [5f46f01c] regParam is zero, which might cause numerical instability and overfitting.\n"
     ]
    },
    {
     "data": {
      "text/html": [
       "<div>\n",
       "<style scoped>\n",
       "    .dataframe tbody tr th:only-of-type {\n",
       "        vertical-align: middle;\n",
       "    }\n",
       "\n",
       "    .dataframe tbody tr th {\n",
       "        vertical-align: top;\n",
       "    }\n",
       "\n",
       "    .dataframe thead th {\n",
       "        text-align: right;\n",
       "    }\n",
       "</style>\n",
       "<table border=\"1\" class=\"dataframe\">\n",
       "  <thead>\n",
       "    <tr style=\"text-align: right;\">\n",
       "      <th></th>\n",
       "      <th>metric_value</th>\n",
       "    </tr>\n",
       "  </thead>\n",
       "  <tbody>\n",
       "    <tr>\n",
       "      <th>rmse</th>\n",
       "      <td>67008.291415</td>\n",
       "    </tr>\n",
       "    <tr>\n",
       "      <th>mae</th>\n",
       "      <td>49206.461153</td>\n",
       "    </tr>\n",
       "    <tr>\n",
       "      <th>r2</th>\n",
       "      <td>0.648497</td>\n",
       "    </tr>\n",
       "  </tbody>\n",
       "</table>\n",
       "</div>"
      ],
      "text/plain": [
       "      metric_value\n",
       "rmse  67008.291415\n",
       "mae   49206.461153\n",
       "r2        0.648497"
      ]
     },
     "metadata": {},
     "output_type": "display_data"
    }
   ],
   "source": [
    "lr = LinearRegression(featuresCol='num_features_scaled', labelCol=target)\n",
    "model = lr.fit(train_transformed)\n",
    "preds = model.transform(test_transformed)\n",
    "print_metrics(preds)"
   ]
  },
  {
   "cell_type": "code",
   "execution_count": 46,
   "metadata": {},
   "outputs": [
    {
     "data": {
      "image/png": "[encoded data removed]",
      "text/plain": [
       "<Figure size 1000x500 with 1 Axes>"
      ]
     },
     "metadata": {},
     "output_type": "display_data"
    }
   ],
   "source": [
    "plot_feature_importances(num_cols, model.coefficients)"
   ]
  },
  {
   "cell_type": "markdown",
   "metadata": {},
   "source": [
    "В данном случае результаты лишь немного лучше, чем до добавления новых признаков. И также, как и в первом случае, модель, которая учитывает категориальные признаки работает лучше, чем та, что не учитывает их."
   ]
  },
  {
   "cell_type": "markdown",
   "metadata": {},
   "source": [
    "## 6. <a id='toc6_'></a>Подбор гиперпараметров  [&#8593;](#toc0_)"
   ]
  },
  {
   "cell_type": "markdown",
   "metadata": {},
   "source": [
    "### 6.1. <a id='toc6_1_'></a>Модель А3  [&#8593;](#toc0_)"
   ]
  },
  {
   "cell_type": "code",
   "execution_count": 47,
   "metadata": {},
   "outputs": [],
   "source": [
    "lr = LinearRegression(featuresCol='features', labelCol=target)"
   ]
  },
  {
   "cell_type": "code",
   "execution_count": 48,
   "metadata": {},
   "outputs": [],
   "source": [
    "pipeline_with_model = make_pipeline(cat_cols, num_cols, lr)"
   ]
  },
  {
   "cell_type": "code",
   "execution_count": 49,
   "metadata": {},
   "outputs": [],
   "source": [
    "paramGrid = ParamGridBuilder() \\\n",
    "        .addGrid(lr.maxIter, [10, 50, 100, 200]) \\\n",
    "        .addGrid(lr.regParam, [0.01, 0.1, 0.5, 1]) \\\n",
    "        .addGrid(lr.elasticNetParam, [0.0, 0.5, 1.0]) \\\n",
    "        .addGrid(lr.tol, [1e-6, 1e-4, 1e-2]) \\\n",
    "        .build()"
   ]
  },
  {
   "cell_type": "code",
   "execution_count": 50,
   "metadata": {},
   "outputs": [],
   "source": [
    "tvs = TrainValidationSplit(estimator=pipeline_with_model,\n",
    "                           estimatorParamMaps=paramGrid,\n",
    "                           evaluator=RegressionEvaluator(labelCol='median_house_value', metricName='rmse'),\n",
    "                           trainRatio=0.8)"
   ]
  },
  {
   "cell_type": "code",
   "execution_count": 51,
   "metadata": {},
   "outputs": [],
   "source": [
    "model = tvs.fit(train)"
   ]
  },
  {
   "cell_type": "code",
   "execution_count": 52,
   "metadata": {},
   "outputs": [],
   "source": [
    "bestModel = model.bestModel"
   ]
  },
  {
   "cell_type": "code",
   "execution_count": 53,
   "metadata": {},
   "outputs": [],
   "source": [
    "preds = bestModel.transform(test)"
   ]
  },
  {
   "cell_type": "code",
   "execution_count": 54,
   "metadata": {},
   "outputs": [
    {
     "data": {
      "text/html": [
       "<div>\n",
       "<style scoped>\n",
       "    .dataframe tbody tr th:only-of-type {\n",
       "        vertical-align: middle;\n",
       "    }\n",
       "\n",
       "    .dataframe tbody tr th {\n",
       "        vertical-align: top;\n",
       "    }\n",
       "\n",
       "    .dataframe thead th {\n",
       "        text-align: right;\n",
       "    }\n",
       "</style>\n",
       "<table border=\"1\" class=\"dataframe\">\n",
       "  <thead>\n",
       "    <tr style=\"text-align: right;\">\n",
       "      <th></th>\n",
       "      <th>metric_value</th>\n",
       "    </tr>\n",
       "  </thead>\n",
       "  <tbody>\n",
       "    <tr>\n",
       "      <th>rmse</th>\n",
       "      <td>66082.065462</td>\n",
       "    </tr>\n",
       "    <tr>\n",
       "      <th>mae</th>\n",
       "      <td>48332.468906</td>\n",
       "    </tr>\n",
       "    <tr>\n",
       "      <th>r2</th>\n",
       "      <td>0.658147</td>\n",
       "    </tr>\n",
       "  </tbody>\n",
       "</table>\n",
       "</div>"
      ],
      "text/plain": [
       "      metric_value\n",
       "rmse  66082.065462\n",
       "mae   48332.468906\n",
       "r2        0.658147"
      ]
     },
     "metadata": {},
     "output_type": "display_data"
    }
   ],
   "source": [
    "print_metrics(preds)"
   ]
  },
  {
   "cell_type": "code",
   "execution_count": 55,
   "metadata": {},
   "outputs": [
    {
     "data": {
      "image/png": "[encoded data removed]",
      "text/plain": [
       "<Figure size 1000x500 with 1 Axes>"
      ]
     },
     "metadata": {},
     "output_type": "display_data"
    }
   ],
   "source": [
    "indexer_model = bestModel.stages[0]\n",
    "columns = indexer_model.labels[:-1] + num_cols\n",
    "plot_feature_importances(columns, bestModel.stages[-1].coefficients)"
   ]
  },
  {
   "cell_type": "markdown",
   "metadata": {},
   "source": [
    "### 6.2. <a id='toc6_2_'></a>Модель B3  [&#8593;](#toc0_)"
   ]
  },
  {
   "cell_type": "code",
   "execution_count": 56,
   "metadata": {},
   "outputs": [],
   "source": [
    "lr = LinearRegression(featuresCol='num_features_scaled', labelCol=target)"
   ]
  },
  {
   "cell_type": "code",
   "execution_count": 57,
   "metadata": {},
   "outputs": [],
   "source": [
    "pipeline_with_model = make_pipeline(cat_cols, num_cols, lr)"
   ]
  },
  {
   "cell_type": "code",
   "execution_count": 58,
   "metadata": {},
   "outputs": [],
   "source": [
    "tvs = TrainValidationSplit(estimator=pipeline_with_model,\n",
    "                           estimatorParamMaps=paramGrid,\n",
    "                           evaluator=RegressionEvaluator(labelCol='median_house_value', metricName='rmse'),\n",
    "                           trainRatio=0.8)"
   ]
  },
  {
   "cell_type": "code",
   "execution_count": 59,
   "metadata": {},
   "outputs": [],
   "source": [
    "model = tvs.fit(train)\n",
    "clear_output()"
   ]
  },
  {
   "cell_type": "code",
   "execution_count": 60,
   "metadata": {},
   "outputs": [],
   "source": [
    "bestModel = model.bestModel"
   ]
  },
  {
   "cell_type": "code",
   "execution_count": 61,
   "metadata": {},
   "outputs": [],
   "source": [
    "preds = bestModel.transform(test)"
   ]
  },
  {
   "cell_type": "code",
   "execution_count": 62,
   "metadata": {
    "scrolled": true
   },
   "outputs": [
    {
     "data": {
      "text/html": [
       "<div>\n",
       "<style scoped>\n",
       "    .dataframe tbody tr th:only-of-type {\n",
       "        vertical-align: middle;\n",
       "    }\n",
       "\n",
       "    .dataframe tbody tr th {\n",
       "        vertical-align: top;\n",
       "    }\n",
       "\n",
       "    .dataframe thead th {\n",
       "        text-align: right;\n",
       "    }\n",
       "</style>\n",
       "<table border=\"1\" class=\"dataframe\">\n",
       "  <thead>\n",
       "    <tr style=\"text-align: right;\">\n",
       "      <th></th>\n",
       "      <th>metric_value</th>\n",
       "    </tr>\n",
       "  </thead>\n",
       "  <tbody>\n",
       "    <tr>\n",
       "      <th>rmse</th>\n",
       "      <td>67008.291415</td>\n",
       "    </tr>\n",
       "    <tr>\n",
       "      <th>mae</th>\n",
       "      <td>49206.461153</td>\n",
       "    </tr>\n",
       "    <tr>\n",
       "      <th>r2</th>\n",
       "      <td>0.648497</td>\n",
       "    </tr>\n",
       "  </tbody>\n",
       "</table>\n",
       "</div>"
      ],
      "text/plain": [
       "      metric_value\n",
       "rmse  67008.291415\n",
       "mae   49206.461153\n",
       "r2        0.648497"
      ]
     },
     "metadata": {},
     "output_type": "display_data"
    }
   ],
   "source": [
    "print_metrics(preds)"
   ]
  },
  {
   "cell_type": "code",
   "execution_count": 63,
   "metadata": {},
   "outputs": [
    {
     "data": {
      "image/png": "[encoded data removed]",
      "text/plain": [
       "<Figure size 1000x500 with 1 Axes>"
      ]
     },
     "metadata": {},
     "output_type": "display_data"
    }
   ],
   "source": [
    "plot_feature_importances(num_cols, bestModel.stages[-1].coefficients)"
   ]
  },
  {
   "cell_type": "markdown",
   "metadata": {},
   "source": [
    "---"
   ]
  },
  {
   "cell_type": "code",
   "execution_count": 64,
   "metadata": {},
   "outputs": [],
   "source": [
    "spark.stop()"
   ]
  },
  {
   "cell_type": "markdown",
   "metadata": {},
   "source": [
    "## 7. <a id='toc7_'></a>Общий вывод    [&#8593;](#toc0_)"
   ]
  },
  {
   "cell_type": "markdown",
   "metadata": {},
   "source": [
    "В рамках проекта велась работа с датасетом по жилью в Калифорнии. Датасет был загружен в PySpark DataFrame и исследован:\n",
    "- Типы данных столбцов были определены корректно\n",
    "- Полных дубликатов не было\n",
    "- Пропуски были только в столбце `total_bedrooms` (около 1%) и были заполнены медианным значением по категории `ocean_proximity`.\n",
    "\n",
    "Далее был этап обработки:\n",
    "- Категориальные переменные (`ocean_proximity`) были преобразованы с помощью `StringIndexer` и закодированы через `OneHotEncoder`\n",
    "- Числовые переменные были обработаны с помощью `StandardScaler`\n",
    "- Все переменные были соединены в один столбец через `VectorAssembler`.\n",
    "\n",
    "Было протестированы 2 типа моделей:  \n",
    "**А** тип: использовались все признаки  \n",
    "**B** тип: использовались только числовые признаки (то есть без категориальных)\n",
    "\n",
    "Сначала (модели А1 И В1) использовался изначальный набор признаков. На 2 этапе (А2 и В2) были сгенерированы 3 дополнительных признака. На 3 этапе также использовался подбор гиперпараметров.\n",
    "\n",
    "В результате получились следующие метрики:\n",
    "\n",
    "|      | A1      | B1      | A2      | B2      | A3      | B3      |\n",
    "|------|---------|---------|---------|---------|---------|---------|\n",
    "| RMSE | 65996.7 | 66945.5 | 66078.9 | 67008.3 | 66078.9 | 67008.3 |\n",
    "| MAE  | 48577.0 | 49610   | 48329.9 | 49206.5 | 48329.9 | 49206.5 |\n",
    "| R2   | 0.659   | 0.649   | 0.658   | 0.648   | 0.658   | 0.648   |\n",
    "\n",
    "- Подбор гиперпараметров в данном случае не дал никаких улучшений (значения по умолчанию оказались самыми оптимальными).\n",
    "- Добавление новых признаков почти не дало результатов: несколько уменьшились MAE и R2, но выросла RMSE.\n",
    "- Модели А типа (все признаки) и В типа (без категориальных) показали примерно одинаковый результат. Модели А типа показывают чуть лучшие RMSE и MAE, но проигрывают в R2."
   ]
  }
 ],
 "metadata": {
  "ExecuteTimeLog": [
   {
    "duration": 8,
    "start_time": "2024-10-17T09:32:34.390Z"
   },
   {
    "duration": 69460,
    "start_time": "2024-10-17T09:32:34.399Z"
   },
   {
    "duration": 1326,
    "start_time": "2024-10-17T09:33:43.861Z"
   },
   {
    "duration": 4,
    "start_time": "2024-10-17T09:33:45.189Z"
   },
   {
    "duration": 68,
    "start_time": "2024-10-17T09:33:45.195Z"
   },
   {
    "duration": 37,
    "start_time": "2024-10-17T09:33:45.264Z"
   },
   {
    "duration": 27,
    "start_time": "2024-10-17T09:33:45.302Z"
   },
   {
    "duration": 41,
    "start_time": "2024-10-17T09:33:45.330Z"
   },
   {
    "duration": 38,
    "start_time": "2024-10-17T09:33:45.372Z"
   },
   {
    "duration": 94,
    "start_time": "2024-10-17T09:33:45.411Z"
   },
   {
    "duration": 45,
    "start_time": "2024-10-17T09:33:45.507Z"
   },
   {
    "duration": 13578,
    "start_time": "2024-10-17T09:33:45.553Z"
   },
   {
    "duration": 10701,
    "start_time": "2024-10-17T09:33:59.134Z"
   },
   {
    "duration": 797,
    "start_time": "2024-10-17T09:34:09.837Z"
   },
   {
    "duration": 106,
    "start_time": "2024-10-17T09:34:10.636Z"
   },
   {
    "duration": 4181,
    "start_time": "2024-10-17T09:34:10.744Z"
   },
   {
    "duration": 1629,
    "start_time": "2024-10-17T09:34:14.926Z"
   },
   {
    "duration": 403,
    "start_time": "2024-10-17T09:34:16.620Z"
   },
   {
    "duration": 309,
    "start_time": "2024-10-17T09:34:17.025Z"
   },
   {
    "duration": 2806,
    "start_time": "2024-10-17T09:34:17.336Z"
   },
   {
    "duration": 4604,
    "start_time": "2024-10-17T09:34:20.144Z"
   },
   {
    "duration": 2,
    "start_time": "2024-10-17T09:34:24.750Z"
   },
   {
    "duration": 3208,
    "start_time": "2024-10-17T09:34:24.820Z"
   },
   {
    "duration": 5512,
    "start_time": "2024-10-17T09:34:28.031Z"
   },
   {
    "duration": 1577,
    "start_time": "2024-10-17T09:34:33.545Z"
   },
   {
    "duration": 5300,
    "start_time": "2024-10-17T09:34:35.124Z"
   },
   {
    "duration": 98,
    "start_time": "2024-10-17T09:34:40.426Z"
   },
   {
    "duration": 1133,
    "start_time": "2024-10-17T09:34:40.526Z"
   },
   {
    "duration": 974,
    "start_time": "2024-10-17T09:34:41.720Z"
   },
   {
    "duration": 2954,
    "start_time": "2024-10-17T09:34:42.696Z"
   },
   {
    "duration": 2,
    "start_time": "2024-10-17T09:34:45.651Z"
   },
   {
    "duration": 3281,
    "start_time": "2024-10-17T09:34:45.655Z"
   },
   {
    "duration": 101,
    "start_time": "2024-10-17T09:34:48.938Z"
   },
   {
    "duration": 1069,
    "start_time": "2024-10-17T09:34:49.040Z"
   },
   {
    "duration": 2540,
    "start_time": "2024-10-17T09:34:50.121Z"
   },
   {
    "duration": 59,
    "start_time": "2024-10-17T09:34:52.662Z"
   },
   {
    "duration": 14,
    "start_time": "2024-10-17T09:34:52.723Z"
   },
   {
    "duration": 114,
    "start_time": "2024-10-17T09:34:52.739Z"
   },
   {
    "duration": 977,
    "start_time": "2024-10-17T09:34:52.855Z"
   },
   {
    "duration": 3,
    "start_time": "2024-10-17T09:34:53.834Z"
   },
   {
    "duration": 105,
    "start_time": "2024-10-17T09:34:53.839Z"
   },
   {
    "duration": 578,
    "start_time": "2024-10-17T09:34:53.946Z"
   },
   {
    "duration": 1299,
    "start_time": "2024-10-17T09:34:54.526Z"
   },
   {
    "duration": 5502,
    "start_time": "2024-10-17T09:34:55.827Z"
   },
   {
    "duration": 2,
    "start_time": "2024-10-17T09:35:01.331Z"
   },
   {
    "duration": 4822,
    "start_time": "2024-10-17T09:35:01.335Z"
   },
   {
    "duration": 3,
    "start_time": "2024-10-17T09:35:06.158Z"
   },
   {
    "duration": 32,
    "start_time": "2024-10-17T09:35:06.162Z"
   },
   {
    "duration": 32,
    "start_time": "2024-10-17T09:35:06.195Z"
   },
   {
    "duration": 22,
    "start_time": "2024-10-17T09:35:06.229Z"
   },
   {
    "duration": 21,
    "start_time": "2024-10-17T09:35:06.253Z"
   },
   {
    "duration": 219267,
    "start_time": "2024-10-17T09:35:06.276Z"
   },
   {
    "duration": 3,
    "start_time": "2024-10-17T09:38:45.545Z"
   },
   {
    "duration": 206,
    "start_time": "2024-10-17T09:38:45.621Z"
   },
   {
    "duration": 2029,
    "start_time": "2024-10-17T09:38:45.829Z"
   },
   {
    "duration": 7,
    "start_time": "2024-10-17T09:38:47.860Z"
   },
   {
    "duration": 29,
    "start_time": "2024-10-17T09:38:47.868Z"
   },
   {
    "duration": 6,
    "start_time": "2024-10-17T09:38:47.899Z"
   },
   {
    "duration": 130748,
    "start_time": "2024-10-17T09:38:47.921Z"
   },
   {
    "duration": 3,
    "start_time": "2024-10-17T09:40:58.670Z"
   },
   {
    "duration": 185,
    "start_time": "2024-10-17T09:40:58.675Z"
   },
   {
    "duration": 1695,
    "start_time": "2024-10-17T09:40:58.861Z"
   },
   {
    "duration": 568,
    "start_time": "2024-10-17T09:41:00.558Z"
   },
   {
    "duration": 9,
    "start_time": "2024-10-17T10:12:15.939Z"
   },
   {
    "duration": 70011,
    "start_time": "2024-10-17T10:12:15.950Z"
   },
   {
    "duration": 2444,
    "start_time": "2024-10-17T10:13:25.962Z"
   },
   {
    "duration": 5,
    "start_time": "2024-10-17T10:13:28.408Z"
   },
   {
    "duration": 4,
    "start_time": "2024-10-17T10:13:28.415Z"
   },
   {
    "duration": 121,
    "start_time": "2024-10-17T10:13:28.421Z"
   },
   {
    "duration": 13,
    "start_time": "2024-10-17T10:13:28.544Z"
   },
   {
    "duration": 6,
    "start_time": "2024-10-17T10:13:28.559Z"
   },
   {
    "duration": 6,
    "start_time": "2024-10-17T10:13:28.567Z"
   },
   {
    "duration": 7,
    "start_time": "2024-10-17T10:13:28.577Z"
   },
   {
    "duration": 15,
    "start_time": "2024-10-17T10:13:28.587Z"
   },
   {
    "duration": 14920,
    "start_time": "2024-10-17T10:13:28.604Z"
   },
   {
    "duration": 11556,
    "start_time": "2024-10-17T10:13:43.526Z"
   },
   {
    "duration": 903,
    "start_time": "2024-10-17T10:13:55.084Z"
   },
   {
    "duration": 96,
    "start_time": "2024-10-17T10:13:55.989Z"
   },
   {
    "duration": 4400,
    "start_time": "2024-10-17T10:13:56.087Z"
   },
   {
    "duration": 1906,
    "start_time": "2024-10-17T10:14:00.554Z"
   },
   {
    "duration": 492,
    "start_time": "2024-10-17T10:14:02.462Z"
   },
   {
    "duration": 399,
    "start_time": "2024-10-17T10:14:02.956Z"
   },
   {
    "duration": 3205,
    "start_time": "2024-10-17T10:14:03.358Z"
   },
   {
    "duration": 4193,
    "start_time": "2024-10-17T10:14:06.565Z"
   },
   {
    "duration": 3,
    "start_time": "2024-10-17T10:14:10.761Z"
   },
   {
    "duration": 4011,
    "start_time": "2024-10-17T10:14:10.767Z"
   },
   {
    "duration": 6089,
    "start_time": "2024-10-17T10:14:14.780Z"
   },
   {
    "duration": 2117,
    "start_time": "2024-10-17T10:14:20.871Z"
   },
   {
    "duration": 7271,
    "start_time": "2024-10-17T10:14:22.989Z"
   },
   {
    "duration": 120,
    "start_time": "2024-10-17T10:14:30.262Z"
   },
   {
    "duration": 1570,
    "start_time": "2024-10-17T10:14:30.386Z"
   },
   {
    "duration": 1210,
    "start_time": "2024-10-17T10:14:31.958Z"
   },
   {
    "duration": 3684,
    "start_time": "2024-10-17T10:14:33.170Z"
   },
   {
    "duration": 3,
    "start_time": "2024-10-17T10:14:36.856Z"
   },
   {
    "duration": 4,
    "start_time": "2024-10-17T10:15:15.838Z"
   },
   {
    "duration": 89,
    "start_time": "2024-10-17T10:15:25.476Z"
   },
   {
    "duration": 4,
    "start_time": "2024-10-17T10:17:06.360Z"
   },
   {
    "duration": 460,
    "start_time": "2024-10-17T10:17:40.653Z"
   },
   {
    "duration": 8,
    "start_time": "2024-10-17T10:17:57.740Z"
   }
  ],
  "kernelspec": {
   "display_name": "ml",
   "language": "python",
   "name": "python3"
  },
  "language_info": {
   "codemirror_mode": {
    "name": "ipython",
    "version": 3
   },
   "file_extension": ".py",
   "mimetype": "text/x-python",
   "name": "python",
   "nbconvert_exporter": "python",
   "pygments_lexer": "ipython3",
   "version": "3.11.9"
  },
  "toc": {
   "base_numbering": 1,
   "nav_menu": {},
   "number_sections": true,
   "sideBar": true,
   "skip_h1_title": true,
   "title_cell": "Table of Contents",
   "title_sidebar": "Contents",
   "toc_cell": false,
   "toc_position": {
    "height": "calc(100% - 180px)",
    "left": "10px",
    "top": "150px",
    "width": "384px"
   },
   "toc_section_display": true,
   "toc_window_display": true
  }
 },
 "nbformat": 4,
 "nbformat_minor": 2
}
