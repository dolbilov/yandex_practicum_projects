{
 "cells": [
  {
   "cell_type": "markdown",
   "metadata": {},
   "source": [
    "# Kaggle Marketing 🛍️"
   ]
  },
  {
   "cell_type": "markdown",
   "metadata": {},
   "source": [
    "Интернет-магазин  собирает  историю  покупателей,  проводит  рассылки  предложений  и планирует  будущие  продажи.  Для  оптимизации  процессов  надо  выделить  пользователей, которые готовы совершить покупку в ближайшее время.\n",
    "\n",
    "Необходимо выполнить инженеринг признаков, обучить и оптимизировать модель бинарной классификации, которая предскажет вероятность совершения покупки пользователем в течение 90 дней.\n",
    "\n",
    "Целевая метрика - `ROC_AUC`."
   ]
  },
  {
   "cell_type": "markdown",
   "metadata": {},
   "source": [
    "**Содержание**<a id='toc0_'></a>    \n",
    "1. [Подготовка                 ](#toc1_)    \n",
    "1.1. [Библиотеки                 ](#toc1_1_)    \n",
    "1.2. [Конфигурация                 ](#toc1_2_)    \n",
    "1.3. [Сервисные функции                 ](#toc1_3_)    \n",
    "2. [Датасет `apparel-messages.csv`                ](#toc2_)    \n",
    "2.1. [Загрузка                ](#toc2_1_)    \n",
    "2.2. [Проверка типов данных                ](#toc2_2_)    \n",
    "2.3. [Оптимизация памяти       ](#toc2_3_)    \n",
    "2.4. [Проверка полных дубликатов                ](#toc2_4_)    \n",
    "2.5. [Проверка пропусков                ](#toc2_5_)    \n",
    "2.6. [Изучение признаков                ](#toc2_6_)    \n",
    "2.6.1. [Описание признаков            ](#toc2_6_1_)    \n",
    "2.6.2. [Признак `bulk_campaign_id`              ](#toc2_6_2_)    \n",
    "2.6.3. [Признак `client_id`              ](#toc2_6_3_)    \n",
    "2.6.4. [Признак `message_id`             ](#toc2_6_4_)    \n",
    "2.6.5. [Признак `event`             ](#toc2_6_5_)    \n",
    "2.6.6. [Признак `channel`            ](#toc2_6_6_)    \n",
    "2.6.7. [Признак `date`            ](#toc2_6_7_)    \n",
    "2.6.8. [Признак `created_at`           ](#toc2_6_8_)    \n",
    "2.7. [Выводы по датасету           ](#toc2_7_)    \n",
    "3. [Датасет `apparel-purchases.csv`               ](#toc3_)    \n",
    "3.1. [Загрузка               ](#toc3_1_)    \n",
    "3.2. [Проверка типов данных               ](#toc3_2_)    \n",
    "3.3. [Оптимизация памяти       ](#toc3_3_)    \n",
    "3.4. [Проверка полных дубликатов               ](#toc3_4_)    \n",
    "3.5. [Проверка пропусков               ](#toc3_5_)    \n",
    "3.6. [Изучение признаков        ](#toc3_6_)    \n",
    "3.6.1. [Описание признаков        ](#toc3_6_1_)    \n",
    "3.6.2. [Признак `client_id`        ](#toc3_6_2_)    \n",
    "3.6.3. [Признак `quantity`        ](#toc3_6_3_)    \n",
    "3.6.4. [Признак `price`        ](#toc3_6_4_)    \n",
    "3.6.5. [Признак `category_ids`        ](#toc3_6_5_)    \n",
    "3.6.6. [Признак `date`        ](#toc3_6_6_)    \n",
    "3.6.7. [Признак `message_id`        ](#toc3_6_7_)    \n",
    "3.7. [Выводы по датасету        ](#toc3_7_)    \n",
    "4. [Датасет `apparel-target_binary.csv`                ](#toc4_)    \n",
    "4.1. [Проверка типов данных                ](#toc4_1_)    \n",
    "4.2. [Оптимизация памяти       ](#toc4_2_)    \n",
    "4.3. [Проверка полных дубликатов                ](#toc4_3_)    \n",
    "4.4. [Проверка пропусков                ](#toc4_4_)    \n",
    "4.5. [Изучение признаков                ](#toc4_5_)    \n",
    "4.5.1. [Признак `client_id`                ](#toc4_5_1_)    \n",
    "4.5.2. [Таргет `target`                ](#toc4_5_2_)    \n",
    "4.6. [Выводы по датасету       ](#toc4_6_)    \n",
    "5. [Преобразование датафрейма `apperel_messages`      ](#toc5_)    \n",
    "6. [Преобразование датафрейма `apparel_purchases`    ](#toc6_)    \n",
    "7. [Объединение датафреймов      ](#toc7_)    \n",
    "7.1. [Объединение     ](#toc7_1_)    \n",
    "7.2. [Проверки      ](#toc7_2_)    \n",
    "8. [Корреляция   ](#toc8_)    \n",
    "9. [Разделение данных      ](#toc9_)    \n",
    "10. [Модели      ](#toc10_)    \n",
    "10.1. [`LogisticRegression`   ](#toc10_1_)    \n",
    "10.2. [`RandomForestClassifier`   ](#toc10_2_)    \n",
    "10.3. [`KNeighborsClassifier`   ](#toc10_3_)    \n",
    "10.4. [`LinearSVC`   ](#toc10_4_)    \n",
    "10.5. [`CatBoostClassifier`   ](#toc10_5_)    \n",
    "10.6. [`LGBMClassifier`   ](#toc10_6_)    \n",
    "11. [Результаты   ](#toc11_)    \n",
    "11.1. [Метрики на трейне ](#toc11_1_)    \n",
    "11.2. [Метрика на валидационной выборке](#toc11_2_)    \n",
    "11.3. [Важность признаков ](#toc11_3_)    \n",
    "12. [Общий вывод](#toc12_)    \n",
    "\n",
    "<!-- vscode-jupyter-toc-config\n",
    "\tnumbering=true\n",
    "\tanchor=true\n",
    "\tflat=true\n",
    "\tminLevel=2\n",
    "\tmaxLevel=6\n",
    "\t/vscode-jupyter-toc-config -->\n",
    "<!-- THIS CELL WILL BE REPLACED ON TOC UPDATE. DO NOT WRITE YOUR TEXT IN THIS CELL -->"
   ]
  },
  {
   "cell_type": "markdown",
   "metadata": {},
   "source": [
    "## 1. <a id='toc1_'></a>Подготовка                  [&#8593;](#toc0_)"
   ]
  },
  {
   "cell_type": "markdown",
   "metadata": {},
   "source": [
    "### 1.1. <a id='toc1_1_'></a>Библиотеки                  [&#8593;](#toc0_)"
   ]
  },
  {
   "cell_type": "code",
   "execution_count": 1,
   "metadata": {},
   "outputs": [],
   "source": [
    "from IPython.display import clear_output"
   ]
  },
  {
   "cell_type": "code",
   "execution_count": 2,
   "metadata": {},
   "outputs": [],
   "source": [
    "%pip install -r requirements.txt\n",
    "\n",
    "clear_output()"
   ]
  },
  {
   "cell_type": "code",
   "execution_count": 3,
   "metadata": {},
   "outputs": [
    {
     "name": "stderr",
     "output_type": "stream",
     "text": [
      "/Users/rivel/anaconda3/envs/ml12/lib/python3.12/site-packages/tqdm/auto.py:21: TqdmWarning: IProgress not found. Please update jupyter and ipywidgets. See https://ipywidgets.readthedocs.io/en/stable/user_install.html\n",
      "  from .autonotebook import tqdm as notebook_tqdm\n"
     ]
    }
   ],
   "source": [
    "import numpy as np\n",
    "import pandas as pd\n",
    "import matplotlib.pyplot as plt\n",
    "import seaborn as sns\n",
    "import shap\n",
    "\n",
    "# Pipelines\n",
    "from sklearn.pipeline import Pipeline\n",
    "\n",
    "# Preprocessing\n",
    "from sklearn.preprocessing import (MinMaxScaler,\n",
    "                                   StandardScaler)\n",
    "\n",
    "# Models\n",
    "from sklearn.linear_model import LogisticRegression\n",
    "from sklearn.ensemble import RandomForestClassifier\n",
    "from sklearn.neighbors import KNeighborsClassifier\n",
    "from sklearn.svm import LinearSVC\n",
    "from catboost import CatBoostClassifier\n",
    "from lightgbm import LGBMClassifier\n",
    "\n",
    "# Hyperparams tuning\n",
    "from sklearn.model_selection import (train_test_split,\n",
    "                                     StratifiedKFold,\n",
    "                                     cross_val_score)\n",
    "from hyperopt import (hp,\n",
    "                      fmin,\n",
    "                      tpe,\n",
    "                      Trials,\n",
    "                      STATUS_OK)\n",
    "\n",
    "# Metrics\n",
    "from sklearn.metrics import (classification_report,\n",
    "                            ConfusionMatrixDisplay,\n",
    "                            f1_score,\n",
    "                             roc_auc_score)\n",
    "\n",
    "from phik import phik_matrix  # this import IS accessed\n",
    "from prettytable import PrettyTable\n",
    "from termcolor import colored\n",
    "from statsmodels.stats.outliers_influence import variance_inflation_factor\n",
    "from statsmodels.tools.tools import add_constant"
   ]
  },
  {
   "cell_type": "markdown",
   "metadata": {},
   "source": [
    "### 1.2. <a id='toc1_2_'></a>Конфигурация                  [&#8593;](#toc0_)"
   ]
  },
  {
   "cell_type": "code",
   "execution_count": 4,
   "metadata": {},
   "outputs": [],
   "source": [
    "RANDOM_STATE = 27\n",
    "TEST_SIZE = 0.2\n",
    "\n",
    "pd.options.display.float_format = '{:.2f}'.format\n",
    "\n",
    "import warnings\n",
    "warnings.filterwarnings('ignore')"
   ]
  },
  {
   "cell_type": "markdown",
   "metadata": {},
   "source": [
    "### 1.3. <a id='toc1_3_'></a>Сервисные функции                  [&#8593;](#toc0_)"
   ]
  },
  {
   "cell_type": "code",
   "execution_count": 5,
   "metadata": {},
   "outputs": [],
   "source": [
    "def optimize_memory_usage(df: pd.DataFrame, print_size: bool=True) -> pd.DataFrame:\n",
    "    \"\"\"Function optimizes memory usage in dataframe\n",
    "\n",
    "    Args:\n",
    "        df (pd.DataFrame): DataFrame to optimize.\n",
    "        print_size (bool, optional): display of optimization results. Defaults to True.\n",
    "\n",
    "    Returns:\n",
    "        pd.DataFrame: optimized DataFrame\n",
    "    \"\"\"\n",
    "\n",
    "    numerics = ['int16', 'int32', 'int64', 'float16', 'float32', 'float64'] # Типы, которые будем проверять на оптимизацию\n",
    "\n",
    "    # Размер занимаемой памяти до оптимизации (в Мб)\n",
    "    before_size = df.memory_usage().sum() / 1024 ** 2\n",
    "\n",
    "    for column in df.columns:\n",
    "        column_type = df[column].dtypes\n",
    "        if column_type in numerics:\n",
    "            column_min = df[column].min()\n",
    "            column_max = df[column].max()\n",
    "            if str(column_type).startswith('int'):\n",
    "                if column_min > np.iinfo(np.int8).min and column_max < np.iinfo(np.int8).max:\n",
    "                    df[column] = df[column].astype(np.int8)\n",
    "                elif column_min > np.iinfo(np.int16).min and column_max < np.iinfo(np.int16).max:\n",
    "                    df[column] = df[column].astype(np.int16)\n",
    "                elif column_min > np.iinfo(np.int32).min and column_max < np.iinfo(np.int32).max:\n",
    "                    df[column] = df[column].astype(np.int32)\n",
    "                elif column_min > np.iinfo(np.int64).min and column_max < np.iinfo(np.int64).max:\n",
    "                    df[column] = df[column].astype(np.int64)\n",
    "            else:\n",
    "                if column_min > np.finfo(np.float32).min and column_max < np.finfo(np.float32).max:\n",
    "                    df[column] = df[column].astype(np.float32)\n",
    "                else:\n",
    "                    df[column] = df[column].astype(np.float64)\n",
    "\n",
    "    # Размер занимаемой памяти после оптимизации (в Мб)\n",
    "    after_size = df.memory_usage().sum() / 1024 ** 2\n",
    "    if print_size:\n",
    "        print('Размер использования памяти: до {:5.2f} Mb - после {:5.2f} Mb ({:.1f}%)'\n",
    "                            .format(before_size, after_size, 100 * (before_size - after_size) / before_size))\n",
    "    return df"
   ]
  },
  {
   "cell_type": "code",
   "execution_count": 6,
   "metadata": {},
   "outputs": [],
   "source": [
    "def check_duplicates(df: pd.DataFrame) -> None:\n",
    "    duplicates_count = df.duplicated().sum()\n",
    "\n",
    "    if duplicates_count == 0:\n",
    "        print(colored('Полных дубликатов не обнаружено.', 'green'))\n",
    "    else:\n",
    "        duplicates_part = duplicates_count / len(df)\n",
    "        print(colored(f'Обнаружено {duplicates_count} дубликатов ({duplicates_part:.2%})', 'red'))"
   ]
  },
  {
   "cell_type": "code",
   "execution_count": 7,
   "metadata": {},
   "outputs": [],
   "source": [
    "def check_nans(data: pd.DataFrame) -> None:\n",
    "    table = PrettyTable()\n",
    "    table.field_names = ['Feature', 'Missing values count']\n",
    "\n",
    "    missing_info = data.isna().sum().sort_values()\n",
    "    cols = missing_info.index.to_list()\n",
    "    for col in cols:\n",
    "        count = missing_info[col]\n",
    "        color = 'green' if count == 0 else 'red'\n",
    "        s = f'{count} ({count / len(data):.2%})'\n",
    "        table.add_row([col, colored(s, color)])\n",
    "\n",
    "    print(table)"
   ]
  },
  {
   "cell_type": "code",
   "execution_count": 8,
   "metadata": {},
   "outputs": [],
   "source": [
    "def check_nans_in_series(series: pd.Series) -> None:\n",
    "    nan_cnt = series.isna().sum()\n",
    "    text = colored('No missing values', 'green') if nan_cnt == 0 \\\n",
    "        else colored(f'{nan_cnt} ({nan_cnt / len(series):.2%})', 'red')\n",
    "    print(text)"
   ]
  },
  {
   "cell_type": "code",
   "execution_count": 9,
   "metadata": {},
   "outputs": [],
   "source": [
    "def get_value_counts(series: pd.Series) -> None:\n",
    "    data = pd.DataFrame()\n",
    "    data['count'] = series.value_counts()\n",
    "    data['part'] =series.value_counts(normalize=True)\n",
    "    display(data)"
   ]
  },
  {
   "cell_type": "code",
   "execution_count": 10,
   "metadata": {},
   "outputs": [],
   "source": [
    "def plot_pie_chart(series: pd.Series) -> None:\n",
    "    if not isinstance(series, pd.Series):\n",
    "        raise ValueError('Входные данные должны быть объектом pd.Series')\n",
    "\n",
    "    data = series.value_counts()\n",
    "\n",
    "    plt.figure(figsize=(4, 4))\n",
    "    data.plot.pie(labels=data.index, autopct='%1.1f%%', startangle=140)\n",
    "    plt.ylabel('')\n",
    "    plt.title('Распределение данных')\n",
    "    plt.axis('equal')\n",
    "    plt.tight_layout()\n",
    "    plt.show()"
   ]
  },
  {
   "cell_type": "code",
   "execution_count": 11,
   "metadata": {},
   "outputs": [],
   "source": [
    "def draw_plots_about_column(df: pd.DataFrame,\n",
    "                            column: str,\n",
    "                            column_description: str = None,\n",
    "                            bins: int = 20\n",
    "                            ) -> None:\n",
    "    if column_description is None:\n",
    "        column_description = column\n",
    "\n",
    "    _, ((ax1, ax2), (ax3, ax4)) = plt.subplots(2, 2, figsize=(12, 10))\n",
    "\n",
    "    sns.violinplot(df, x=column, ax=ax1, orient='h')\n",
    "    ax1.set_xlabel(column_description)\n",
    "    ax1.grid()\n",
    "\n",
    "    sns.boxplot(df, x=column, ax=ax2)\n",
    "    ax2.set_xlabel(column_description)\n",
    "    ax2.grid()\n",
    "\n",
    "    sns.histplot(df, x=column, bins=bins, ax=ax3)\n",
    "    ax3.set_xlabel(column_description)\n",
    "    ax3.grid()\n",
    "    ax3.set_ylabel('Количество')\n",
    "\n",
    "    ax4.set_visible(False)\n",
    "\n",
    "    plt.suptitle(f'Информация о колонке `{column_description}`', fontsize=18)\n",
    "    plt.tight_layout()\n",
    "\n",
    "    plt.show()"
   ]
  },
  {
   "cell_type": "markdown",
   "metadata": {},
   "source": [
    "## 2. <a id='toc2_'></a>Датасет `apparel-messages.csv`                 [&#8593;](#toc0_)"
   ]
  },
  {
   "cell_type": "markdown",
   "metadata": {},
   "source": [
    "### 2.1. <a id='toc2_1_'></a>Загрузка                 [&#8593;](#toc0_)"
   ]
  },
  {
   "cell_type": "code",
   "execution_count": 12,
   "metadata": {},
   "outputs": [],
   "source": [
    "apparel_messages = pd.read_csv('./data/apparel-messages.csv', parse_dates=['date', 'created_at'])"
   ]
  },
  {
   "cell_type": "code",
   "execution_count": 13,
   "metadata": {},
   "outputs": [
    {
     "data": {
      "text/html": [
       "<div>\n",
       "<style scoped>\n",
       "    .dataframe tbody tr th:only-of-type {\n",
       "        vertical-align: middle;\n",
       "    }\n",
       "\n",
       "    .dataframe tbody tr th {\n",
       "        vertical-align: top;\n",
       "    }\n",
       "\n",
       "    .dataframe thead th {\n",
       "        text-align: right;\n",
       "    }\n",
       "</style>\n",
       "<table border=\"1\" class=\"dataframe\">\n",
       "  <thead>\n",
       "    <tr style=\"text-align: right;\">\n",
       "      <th></th>\n",
       "      <th>bulk_campaign_id</th>\n",
       "      <th>client_id</th>\n",
       "      <th>message_id</th>\n",
       "      <th>event</th>\n",
       "      <th>channel</th>\n",
       "      <th>date</th>\n",
       "      <th>created_at</th>\n",
       "    </tr>\n",
       "  </thead>\n",
       "  <tbody>\n",
       "    <tr>\n",
       "      <th>0</th>\n",
       "      <td>4439</td>\n",
       "      <td>1515915625626736623</td>\n",
       "      <td>1515915625626736623-4439-6283415ac07ea</td>\n",
       "      <td>open</td>\n",
       "      <td>email</td>\n",
       "      <td>2022-05-19</td>\n",
       "      <td>2022-05-19 00:14:20</td>\n",
       "    </tr>\n",
       "    <tr>\n",
       "      <th>1</th>\n",
       "      <td>4439</td>\n",
       "      <td>1515915625490086521</td>\n",
       "      <td>1515915625490086521-4439-62834150016dd</td>\n",
       "      <td>open</td>\n",
       "      <td>email</td>\n",
       "      <td>2022-05-19</td>\n",
       "      <td>2022-05-19 00:39:34</td>\n",
       "    </tr>\n",
       "    <tr>\n",
       "      <th>2</th>\n",
       "      <td>4439</td>\n",
       "      <td>1515915625553578558</td>\n",
       "      <td>1515915625553578558-4439-6283415b36b4f</td>\n",
       "      <td>open</td>\n",
       "      <td>email</td>\n",
       "      <td>2022-05-19</td>\n",
       "      <td>2022-05-19 00:51:49</td>\n",
       "    </tr>\n",
       "    <tr>\n",
       "      <th>3</th>\n",
       "      <td>4439</td>\n",
       "      <td>1515915625553578558</td>\n",
       "      <td>1515915625553578558-4439-6283415b36b4f</td>\n",
       "      <td>click</td>\n",
       "      <td>email</td>\n",
       "      <td>2022-05-19</td>\n",
       "      <td>2022-05-19 00:52:20</td>\n",
       "    </tr>\n",
       "    <tr>\n",
       "      <th>4</th>\n",
       "      <td>4439</td>\n",
       "      <td>1515915625471518311</td>\n",
       "      <td>1515915625471518311-4439-628341570c133</td>\n",
       "      <td>open</td>\n",
       "      <td>email</td>\n",
       "      <td>2022-05-19</td>\n",
       "      <td>2022-05-19 00:56:52</td>\n",
       "    </tr>\n",
       "  </tbody>\n",
       "</table>\n",
       "</div>"
      ],
      "text/plain": [
       "   bulk_campaign_id            client_id  \\\n",
       "0              4439  1515915625626736623   \n",
       "1              4439  1515915625490086521   \n",
       "2              4439  1515915625553578558   \n",
       "3              4439  1515915625553578558   \n",
       "4              4439  1515915625471518311   \n",
       "\n",
       "                               message_id  event channel       date  \\\n",
       "0  1515915625626736623-4439-6283415ac07ea   open   email 2022-05-19   \n",
       "1  1515915625490086521-4439-62834150016dd   open   email 2022-05-19   \n",
       "2  1515915625553578558-4439-6283415b36b4f   open   email 2022-05-19   \n",
       "3  1515915625553578558-4439-6283415b36b4f  click   email 2022-05-19   \n",
       "4  1515915625471518311-4439-628341570c133   open   email 2022-05-19   \n",
       "\n",
       "           created_at  \n",
       "0 2022-05-19 00:14:20  \n",
       "1 2022-05-19 00:39:34  \n",
       "2 2022-05-19 00:51:49  \n",
       "3 2022-05-19 00:52:20  \n",
       "4 2022-05-19 00:56:52  "
      ]
     },
     "execution_count": 13,
     "metadata": {},
     "output_type": "execute_result"
    }
   ],
   "source": [
    "apparel_messages.head()"
   ]
  },
  {
   "cell_type": "markdown",
   "metadata": {},
   "source": [
    "### 2.2. <a id='toc2_2_'></a>Проверка типов данных                 [&#8593;](#toc0_)"
   ]
  },
  {
   "cell_type": "code",
   "execution_count": 14,
   "metadata": {},
   "outputs": [
    {
     "name": "stdout",
     "output_type": "stream",
     "text": [
      "<class 'pandas.core.frame.DataFrame'>\n",
      "RangeIndex: 12739798 entries, 0 to 12739797\n",
      "Data columns (total 7 columns):\n",
      " #   Column            Dtype         \n",
      "---  ------            -----         \n",
      " 0   bulk_campaign_id  int64         \n",
      " 1   client_id         int64         \n",
      " 2   message_id        object        \n",
      " 3   event             object        \n",
      " 4   channel           object        \n",
      " 5   date              datetime64[ns]\n",
      " 6   created_at        datetime64[ns]\n",
      "dtypes: datetime64[ns](2), int64(2), object(3)\n",
      "memory usage: 680.4+ MB\n"
     ]
    }
   ],
   "source": [
    "apparel_messages.info()"
   ]
  },
  {
   "cell_type": "markdown",
   "metadata": {},
   "source": [
    "Типы данных корректны для всех признаков."
   ]
  },
  {
   "cell_type": "markdown",
   "metadata": {},
   "source": [
    "### 2.3. <a id='toc2_3_'></a>Оптимизация памяти        [&#8593;](#toc0_)"
   ]
  },
  {
   "cell_type": "code",
   "execution_count": 15,
   "metadata": {},
   "outputs": [
    {
     "name": "stdout",
     "output_type": "stream",
     "text": [
      "Размер использования памяти: до 680.38 Mb - после 607.48 Mb (10.7%)\n"
     ]
    }
   ],
   "source": [
    "apparel_messages = optimize_memory_usage(apparel_messages)"
   ]
  },
  {
   "cell_type": "markdown",
   "metadata": {},
   "source": [
    "### 2.4. <a id='toc2_4_'></a>Проверка полных дубликатов                 [&#8593;](#toc0_)"
   ]
  },
  {
   "cell_type": "code",
   "execution_count": 16,
   "metadata": {},
   "outputs": [
    {
     "name": "stdout",
     "output_type": "stream",
     "text": [
      "\u001b[31mОбнаружено 48610 дубликатов (0.38%)\u001b[0m\n"
     ]
    }
   ],
   "source": [
    "check_duplicates(apparel_messages)"
   ]
  },
  {
   "cell_type": "markdown",
   "metadata": {},
   "source": [
    "Обнаружены полные дубликаты, удалим их."
   ]
  },
  {
   "cell_type": "code",
   "execution_count": 17,
   "metadata": {},
   "outputs": [],
   "source": [
    "apparel_messages = apparel_messages.drop_duplicates()"
   ]
  },
  {
   "cell_type": "code",
   "execution_count": 18,
   "metadata": {},
   "outputs": [
    {
     "name": "stdout",
     "output_type": "stream",
     "text": [
      "\u001b[32mПолных дубликатов не обнаружено.\u001b[0m\n"
     ]
    }
   ],
   "source": [
    "check_duplicates(apparel_messages)"
   ]
  },
  {
   "cell_type": "markdown",
   "metadata": {},
   "source": [
    "### 2.5. <a id='toc2_5_'></a>Проверка пропусков                 [&#8593;](#toc0_)"
   ]
  },
  {
   "cell_type": "code",
   "execution_count": 19,
   "metadata": {},
   "outputs": [
    {
     "name": "stdout",
     "output_type": "stream",
     "text": [
      "+------------------+----------------------+\n",
      "|     Feature      | Missing values count |\n",
      "+------------------+----------------------+\n",
      "| bulk_campaign_id |      \u001b[32m0 (0.00%)\u001b[0m       |\n",
      "|    client_id     |      \u001b[32m0 (0.00%)\u001b[0m       |\n",
      "|    message_id    |      \u001b[32m0 (0.00%)\u001b[0m       |\n",
      "|      event       |      \u001b[32m0 (0.00%)\u001b[0m       |\n",
      "|     channel      |      \u001b[32m0 (0.00%)\u001b[0m       |\n",
      "|       date       |      \u001b[32m0 (0.00%)\u001b[0m       |\n",
      "|    created_at    |      \u001b[32m0 (0.00%)\u001b[0m       |\n",
      "+------------------+----------------------+\n"
     ]
    }
   ],
   "source": [
    "check_nans(apparel_messages)"
   ]
  },
  {
   "cell_type": "markdown",
   "metadata": {},
   "source": [
    "Датасет не имеет пропущенных значений."
   ]
  },
  {
   "cell_type": "markdown",
   "metadata": {},
   "source": [
    "### 2.6. <a id='toc2_6_'></a>Изучение признаков                 [&#8593;](#toc0_)"
   ]
  },
  {
   "cell_type": "markdown",
   "metadata": {},
   "source": [
    "#### 2.6.1. <a id='toc2_6_1_'></a>Описание признаков             [&#8593;](#toc0_)"
   ]
  },
  {
   "cell_type": "markdown",
   "metadata": {},
   "source": [
    "Датасет содержит данные о рассылках, которые были отправлены клиентам из таблицы покупок.\n",
    "\n",
    "**Признаки:**\n",
    "| Признак            | Описание                                                |\n",
    "|:------------------:|---------------------------------------------------------|\n",
    "| `bulk_campaign_id` | идентификатор рассылки                                  |\n",
    "| `client_id`        | идентификатор клиента                                   |\n",
    "| `message_id`       | идентификатор сообщения                                 |\n",
    "| `event`            | действие с сообщением (отправлено, открыто, покупка...) |\n",
    "| `channel`          | канал рассылки                                          |\n",
    "| `date`             | дата действия                                           |\n",
    "| `created_at`       | дата-время полностью                                    |"
   ]
  },
  {
   "cell_type": "markdown",
   "metadata": {},
   "source": [
    "#### 2.6.2. <a id='toc2_6_2_'></a>Признак `bulk_campaign_id`               [&#8593;](#toc0_)"
   ]
  },
  {
   "cell_type": "code",
   "execution_count": 20,
   "metadata": {},
   "outputs": [
    {
     "data": {
      "text/plain": [
       "0            4439\n",
       "1            4439\n",
       "2            4439\n",
       "3            4439\n",
       "4            4439\n",
       "            ...  \n",
       "12739793    14657\n",
       "12739794    14657\n",
       "12739795    14641\n",
       "12739796    14624\n",
       "12739797    14641\n",
       "Name: bulk_campaign_id, Length: 12691188, dtype: int16"
      ]
     },
     "execution_count": 20,
     "metadata": {},
     "output_type": "execute_result"
    }
   ],
   "source": [
    "apparel_messages['bulk_campaign_id']"
   ]
  },
  {
   "cell_type": "code",
   "execution_count": 21,
   "metadata": {},
   "outputs": [
    {
     "data": {
      "text/plain": [
       "2709"
      ]
     },
     "execution_count": 21,
     "metadata": {},
     "output_type": "execute_result"
    }
   ],
   "source": [
    "apparel_messages['bulk_campaign_id'].nunique()"
   ]
  },
  {
   "cell_type": "markdown",
   "metadata": {},
   "source": [
    "Данный столбец является идентификатором рассылки и может быть использован при объединении датасетов."
   ]
  },
  {
   "cell_type": "markdown",
   "metadata": {},
   "source": [
    "#### 2.6.3. <a id='toc2_6_3_'></a>Признак `client_id`               [&#8593;](#toc0_)"
   ]
  },
  {
   "cell_type": "code",
   "execution_count": 22,
   "metadata": {},
   "outputs": [
    {
     "data": {
      "text/plain": [
       "53329"
      ]
     },
     "execution_count": 22,
     "metadata": {},
     "output_type": "execute_result"
    }
   ],
   "source": [
    "apparel_messages['client_id'].nunique()"
   ]
  },
  {
   "cell_type": "markdown",
   "metadata": {},
   "source": [
    "Это идентификатор клиента. Он также может быть использован при объединении датасетов."
   ]
  },
  {
   "cell_type": "markdown",
   "metadata": {},
   "source": [
    "#### 2.6.4. <a id='toc2_6_4_'></a>Признак `message_id`              [&#8593;](#toc0_)"
   ]
  },
  {
   "cell_type": "code",
   "execution_count": 23,
   "metadata": {},
   "outputs": [
    {
     "data": {
      "text/plain": [
       "0            1515915625626736623-4439-6283415ac07ea\n",
       "1            1515915625490086521-4439-62834150016dd\n",
       "2            1515915625553578558-4439-6283415b36b4f\n",
       "3            1515915625553578558-4439-6283415b36b4f\n",
       "4            1515915625471518311-4439-628341570c133\n",
       "                             ...                   \n",
       "12739793    1515915625477497874-14657-65cdd371cc86c\n",
       "12739794    1515915625765994334-14657-65cdd36018eac\n",
       "12739795    1515915625545014677-14641-65cb2434b25a1\n",
       "12739796    1515915625477497874-14624-65c5e22fb401e\n",
       "12739797    1515915625477497874-14641-65cb249172d68\n",
       "Name: message_id, Length: 12691188, dtype: object"
      ]
     },
     "execution_count": 23,
     "metadata": {},
     "output_type": "execute_result"
    }
   ],
   "source": [
    "apparel_messages['message_id']"
   ]
  },
  {
   "cell_type": "code",
   "execution_count": 24,
   "metadata": {},
   "outputs": [
    {
     "data": {
      "text/plain": [
       "(9061667, 12691188)"
      ]
     },
     "execution_count": 24,
     "metadata": {},
     "output_type": "execute_result"
    }
   ],
   "source": [
    "apparel_messages['message_id'].nunique(), len(apparel_messages)"
   ]
  },
  {
   "cell_type": "markdown",
   "metadata": {},
   "source": [
    "Данный столбец является идентификатор сообщения. И состоит из 3 частей: id клиента (`client_id`), id рекламной компании (`bulk_campaign_id`) и (как я понимаю) непосредственно id сообщения."
   ]
  },
  {
   "cell_type": "markdown",
   "metadata": {},
   "source": [
    "#### 2.6.5. <a id='toc2_6_5_'></a>Признак `event`              [&#8593;](#toc0_)"
   ]
  },
  {
   "cell_type": "code",
   "execution_count": 25,
   "metadata": {},
   "outputs": [
    {
     "data": {
      "text/plain": [
       "0            open\n",
       "1            open\n",
       "2            open\n",
       "3           click\n",
       "4            open\n",
       "            ...  \n",
       "12739793     open\n",
       "12739794     open\n",
       "12739795     open\n",
       "12739796     open\n",
       "12739797     open\n",
       "Name: event, Length: 12691188, dtype: object"
      ]
     },
     "execution_count": 25,
     "metadata": {},
     "output_type": "execute_result"
    }
   ],
   "source": [
    "apparel_messages['event']"
   ]
  },
  {
   "cell_type": "code",
   "execution_count": 26,
   "metadata": {},
   "outputs": [
    {
     "data": {
      "text/plain": [
       "message_id\n",
       "1515915625489095763-6251-6311b13a4cf78    1427\n",
       "1515915625490241385-6973-633edf70723d8     438\n",
       "1515915625490540122-6973-633edf707840d     438\n",
       "1515915625629509124-6374-63241bd1541d5     286\n",
       "1515915625488270582-3433-6232d6007e929     249\n",
       "Name: event, dtype: int64"
      ]
     },
     "execution_count": 26,
     "metadata": {},
     "output_type": "execute_result"
    }
   ],
   "source": [
    "apparel_messages.groupby('message_id')['event'].count().sort_values(ascending=False)[:5]"
   ]
  },
  {
   "cell_type": "markdown",
   "metadata": {},
   "source": [
    "Можно заметить, что для одного сообщения указаны все действия, происходящие с ним. Посмотрим подробнее."
   ]
  },
  {
   "cell_type": "code",
   "execution_count": 27,
   "metadata": {},
   "outputs": [
    {
     "data": {
      "text/html": [
       "<div>\n",
       "<style scoped>\n",
       "    .dataframe tbody tr th:only-of-type {\n",
       "        vertical-align: middle;\n",
       "    }\n",
       "\n",
       "    .dataframe tbody tr th {\n",
       "        vertical-align: top;\n",
       "    }\n",
       "\n",
       "    .dataframe thead th {\n",
       "        text-align: right;\n",
       "    }\n",
       "</style>\n",
       "<table border=\"1\" class=\"dataframe\">\n",
       "  <thead>\n",
       "    <tr style=\"text-align: right;\">\n",
       "      <th></th>\n",
       "      <th>bulk_campaign_id</th>\n",
       "      <th>client_id</th>\n",
       "      <th>message_id</th>\n",
       "      <th>event</th>\n",
       "      <th>channel</th>\n",
       "      <th>date</th>\n",
       "      <th>created_at</th>\n",
       "    </tr>\n",
       "  </thead>\n",
       "  <tbody>\n",
       "    <tr>\n",
       "      <th>1382528</th>\n",
       "      <td>6251</td>\n",
       "      <td>1515915625489095763</td>\n",
       "      <td>1515915625489095763-6251-6311b13a4cf78</td>\n",
       "      <td>send</td>\n",
       "      <td>email</td>\n",
       "      <td>2022-09-02</td>\n",
       "      <td>2022-09-02 07:46:54</td>\n",
       "    </tr>\n",
       "    <tr>\n",
       "      <th>1382934</th>\n",
       "      <td>6251</td>\n",
       "      <td>1515915625489095763</td>\n",
       "      <td>1515915625489095763-6251-6311b13a4cf78</td>\n",
       "      <td>open</td>\n",
       "      <td>email</td>\n",
       "      <td>2022-09-02</td>\n",
       "      <td>2022-09-02 07:47:57</td>\n",
       "    </tr>\n",
       "    <tr>\n",
       "      <th>1402865</th>\n",
       "      <td>6251</td>\n",
       "      <td>1515915625489095763</td>\n",
       "      <td>1515915625489095763-6251-6311b13a4cf78</td>\n",
       "      <td>open</td>\n",
       "      <td>email</td>\n",
       "      <td>2022-09-02</td>\n",
       "      <td>2022-09-02 21:32:47</td>\n",
       "    </tr>\n",
       "    <tr>\n",
       "      <th>1402869</th>\n",
       "      <td>6251</td>\n",
       "      <td>1515915625489095763</td>\n",
       "      <td>1515915625489095763-6251-6311b13a4cf78</td>\n",
       "      <td>click</td>\n",
       "      <td>email</td>\n",
       "      <td>2022-09-02</td>\n",
       "      <td>2022-09-02 21:35:41</td>\n",
       "    </tr>\n",
       "    <tr>\n",
       "      <th>1402872</th>\n",
       "      <td>6251</td>\n",
       "      <td>1515915625489095763</td>\n",
       "      <td>1515915625489095763-6251-6311b13a4cf78</td>\n",
       "      <td>click</td>\n",
       "      <td>email</td>\n",
       "      <td>2022-09-02</td>\n",
       "      <td>2022-09-02 21:38:42</td>\n",
       "    </tr>\n",
       "    <tr>\n",
       "      <th>...</th>\n",
       "      <td>...</td>\n",
       "      <td>...</td>\n",
       "      <td>...</td>\n",
       "      <td>...</td>\n",
       "      <td>...</td>\n",
       "      <td>...</td>\n",
       "      <td>...</td>\n",
       "    </tr>\n",
       "    <tr>\n",
       "      <th>10209829</th>\n",
       "      <td>6251</td>\n",
       "      <td>1515915625489095763</td>\n",
       "      <td>1515915625489095763-6251-6311b13a4cf78</td>\n",
       "      <td>click</td>\n",
       "      <td>email</td>\n",
       "      <td>2023-12-10</td>\n",
       "      <td>2023-12-10 17:09:30</td>\n",
       "    </tr>\n",
       "    <tr>\n",
       "      <th>11491461</th>\n",
       "      <td>6251</td>\n",
       "      <td>1515915625489095763</td>\n",
       "      <td>1515915625489095763-6251-6311b13a4cf78</td>\n",
       "      <td>click</td>\n",
       "      <td>email</td>\n",
       "      <td>2024-01-11</td>\n",
       "      <td>2024-01-11 15:53:46</td>\n",
       "    </tr>\n",
       "    <tr>\n",
       "      <th>11778523</th>\n",
       "      <td>6251</td>\n",
       "      <td>1515915625489095763</td>\n",
       "      <td>1515915625489095763-6251-6311b13a4cf78</td>\n",
       "      <td>click</td>\n",
       "      <td>email</td>\n",
       "      <td>2024-01-20</td>\n",
       "      <td>2024-01-20 15:32:08</td>\n",
       "    </tr>\n",
       "    <tr>\n",
       "      <th>11778530</th>\n",
       "      <td>6251</td>\n",
       "      <td>1515915625489095763</td>\n",
       "      <td>1515915625489095763-6251-6311b13a4cf78</td>\n",
       "      <td>click</td>\n",
       "      <td>email</td>\n",
       "      <td>2024-01-20</td>\n",
       "      <td>2024-01-20 15:34:08</td>\n",
       "    </tr>\n",
       "    <tr>\n",
       "      <th>11931980</th>\n",
       "      <td>6251</td>\n",
       "      <td>1515915625489095763</td>\n",
       "      <td>1515915625489095763-6251-6311b13a4cf78</td>\n",
       "      <td>click</td>\n",
       "      <td>email</td>\n",
       "      <td>2024-01-24</td>\n",
       "      <td>2024-01-24 13:17:58</td>\n",
       "    </tr>\n",
       "  </tbody>\n",
       "</table>\n",
       "<p>1427 rows × 7 columns</p>\n",
       "</div>"
      ],
      "text/plain": [
       "          bulk_campaign_id            client_id  \\\n",
       "1382528               6251  1515915625489095763   \n",
       "1382934               6251  1515915625489095763   \n",
       "1402865               6251  1515915625489095763   \n",
       "1402869               6251  1515915625489095763   \n",
       "1402872               6251  1515915625489095763   \n",
       "...                    ...                  ...   \n",
       "10209829              6251  1515915625489095763   \n",
       "11491461              6251  1515915625489095763   \n",
       "11778523              6251  1515915625489095763   \n",
       "11778530              6251  1515915625489095763   \n",
       "11931980              6251  1515915625489095763   \n",
       "\n",
       "                                      message_id  event channel       date  \\\n",
       "1382528   1515915625489095763-6251-6311b13a4cf78   send   email 2022-09-02   \n",
       "1382934   1515915625489095763-6251-6311b13a4cf78   open   email 2022-09-02   \n",
       "1402865   1515915625489095763-6251-6311b13a4cf78   open   email 2022-09-02   \n",
       "1402869   1515915625489095763-6251-6311b13a4cf78  click   email 2022-09-02   \n",
       "1402872   1515915625489095763-6251-6311b13a4cf78  click   email 2022-09-02   \n",
       "...                                          ...    ...     ...        ...   \n",
       "10209829  1515915625489095763-6251-6311b13a4cf78  click   email 2023-12-10   \n",
       "11491461  1515915625489095763-6251-6311b13a4cf78  click   email 2024-01-11   \n",
       "11778523  1515915625489095763-6251-6311b13a4cf78  click   email 2024-01-20   \n",
       "11778530  1515915625489095763-6251-6311b13a4cf78  click   email 2024-01-20   \n",
       "11931980  1515915625489095763-6251-6311b13a4cf78  click   email 2024-01-24   \n",
       "\n",
       "                  created_at  \n",
       "1382528  2022-09-02 07:46:54  \n",
       "1382934  2022-09-02 07:47:57  \n",
       "1402865  2022-09-02 21:32:47  \n",
       "1402869  2022-09-02 21:35:41  \n",
       "1402872  2022-09-02 21:38:42  \n",
       "...                      ...  \n",
       "10209829 2023-12-10 17:09:30  \n",
       "11491461 2024-01-11 15:53:46  \n",
       "11778523 2024-01-20 15:32:08  \n",
       "11778530 2024-01-20 15:34:08  \n",
       "11931980 2024-01-24 13:17:58  \n",
       "\n",
       "[1427 rows x 7 columns]"
      ]
     },
     "execution_count": 27,
     "metadata": {},
     "output_type": "execute_result"
    }
   ],
   "source": [
    "mask = apparel_messages['message_id'] == '1515915625489095763-6251-6311b13a4cf78'\n",
    "apparel_messages[mask]"
   ]
  },
  {
   "cell_type": "markdown",
   "metadata": {},
   "source": [
    "Видно, что один клиент открывал одно и тоже письмо и кликал по нему большое количество раз. В будущем сгруппируем эти данные и сгенерируем на основе этого новые признаки."
   ]
  },
  {
   "cell_type": "code",
   "execution_count": 28,
   "metadata": {},
   "outputs": [
    {
     "data": {
      "text/plain": [
       "11"
      ]
     },
     "execution_count": 28,
     "metadata": {},
     "output_type": "execute_result"
    }
   ],
   "source": [
    "apparel_messages['event'].nunique()"
   ]
  },
  {
   "cell_type": "code",
   "execution_count": 29,
   "metadata": {},
   "outputs": [
    {
     "data": {
      "text/html": [
       "<div>\n",
       "<style scoped>\n",
       "    .dataframe tbody tr th:only-of-type {\n",
       "        vertical-align: middle;\n",
       "    }\n",
       "\n",
       "    .dataframe tbody tr th {\n",
       "        vertical-align: top;\n",
       "    }\n",
       "\n",
       "    .dataframe thead th {\n",
       "        text-align: right;\n",
       "    }\n",
       "</style>\n",
       "<table border=\"1\" class=\"dataframe\">\n",
       "  <thead>\n",
       "    <tr style=\"text-align: right;\">\n",
       "      <th></th>\n",
       "      <th>count</th>\n",
       "      <th>part</th>\n",
       "    </tr>\n",
       "    <tr>\n",
       "      <th>event</th>\n",
       "      <th></th>\n",
       "      <th></th>\n",
       "    </tr>\n",
       "  </thead>\n",
       "  <tbody>\n",
       "    <tr>\n",
       "      <th>send</th>\n",
       "      <td>9058174</td>\n",
       "      <td>0.71</td>\n",
       "    </tr>\n",
       "    <tr>\n",
       "      <th>open</th>\n",
       "      <td>3052481</td>\n",
       "      <td>0.24</td>\n",
       "    </tr>\n",
       "    <tr>\n",
       "      <th>click</th>\n",
       "      <td>483326</td>\n",
       "      <td>0.04</td>\n",
       "    </tr>\n",
       "    <tr>\n",
       "      <th>purchase</th>\n",
       "      <td>62593</td>\n",
       "      <td>0.00</td>\n",
       "    </tr>\n",
       "    <tr>\n",
       "      <th>hard_bounce</th>\n",
       "      <td>19763</td>\n",
       "      <td>0.00</td>\n",
       "    </tr>\n",
       "    <tr>\n",
       "      <th>soft_bounce</th>\n",
       "      <td>10582</td>\n",
       "      <td>0.00</td>\n",
       "    </tr>\n",
       "    <tr>\n",
       "      <th>unsubscribe</th>\n",
       "      <td>2833</td>\n",
       "      <td>0.00</td>\n",
       "    </tr>\n",
       "    <tr>\n",
       "      <th>hbq_spam</th>\n",
       "      <td>823</td>\n",
       "      <td>0.00</td>\n",
       "    </tr>\n",
       "    <tr>\n",
       "      <th>complain</th>\n",
       "      <td>527</td>\n",
       "      <td>0.00</td>\n",
       "    </tr>\n",
       "    <tr>\n",
       "      <th>subscribe</th>\n",
       "      <td>85</td>\n",
       "      <td>0.00</td>\n",
       "    </tr>\n",
       "    <tr>\n",
       "      <th>close</th>\n",
       "      <td>1</td>\n",
       "      <td>0.00</td>\n",
       "    </tr>\n",
       "  </tbody>\n",
       "</table>\n",
       "</div>"
      ],
      "text/plain": [
       "               count  part\n",
       "event                     \n",
       "send         9058174  0.71\n",
       "open         3052481  0.24\n",
       "click         483326  0.04\n",
       "purchase       62593  0.00\n",
       "hard_bounce    19763  0.00\n",
       "soft_bounce    10582  0.00\n",
       "unsubscribe     2833  0.00\n",
       "hbq_spam         823  0.00\n",
       "complain         527  0.00\n",
       "subscribe         85  0.00\n",
       "close              1  0.00"
      ]
     },
     "metadata": {},
     "output_type": "display_data"
    }
   ],
   "source": [
    "get_value_counts(apparel_messages['event'])"
   ]
  },
  {
   "cell_type": "markdown",
   "metadata": {},
   "source": [
    "Разберемся подробнее со статусами:\n",
    "\n",
    "|     Статус     | Пояснение                            |\n",
    "|:--------------:|--------------------------------------|\n",
    "|   `send`       | Письмо или пуш отправлены            |\n",
    "|   `open`       | Письмо или пуш открыты               |\n",
    "|   `click`      | Совершен клик по ссылке              |\n",
    "|   `purchase`   | Совершена покупка                    |\n",
    "| `hard_bounce`  | Письмо не доставлено (жесткий отказ) |\n",
    "| `soft_bounce`  | Письмо не доставлено (мягкий отказ)  |\n",
    "| `unsubscribe`  | Пользователь отписался               |\n",
    "|  `hbq_spam`    | Письмо помечено как спам             |\n",
    "|   `complain`   | Получена жалоба от пользователя      |\n",
    "|  `subscribe`   | Пользователь подписался              |\n",
    "|    `close`     | Операция завершена (письмо закрыто?) |"
   ]
  },
  {
   "cell_type": "markdown",
   "metadata": {},
   "source": [
    "#### 2.6.6. <a id='toc2_6_6_'></a>Признак `channel`             [&#8593;](#toc0_)"
   ]
  },
  {
   "cell_type": "code",
   "execution_count": 30,
   "metadata": {},
   "outputs": [
    {
     "data": {
      "text/plain": [
       "0           email\n",
       "1           email\n",
       "2           email\n",
       "3           email\n",
       "4           email\n",
       "            ...  \n",
       "12739793    email\n",
       "12739794    email\n",
       "12739795    email\n",
       "12739796    email\n",
       "12739797    email\n",
       "Name: channel, Length: 12691188, dtype: object"
      ]
     },
     "execution_count": 30,
     "metadata": {},
     "output_type": "execute_result"
    }
   ],
   "source": [
    "apparel_messages['channel']"
   ]
  },
  {
   "cell_type": "code",
   "execution_count": 31,
   "metadata": {},
   "outputs": [
    {
     "data": {
      "text/plain": [
       "2"
      ]
     },
     "execution_count": 31,
     "metadata": {},
     "output_type": "execute_result"
    }
   ],
   "source": [
    "apparel_messages['channel'].nunique()"
   ]
  },
  {
   "cell_type": "code",
   "execution_count": 32,
   "metadata": {},
   "outputs": [
    {
     "data": {
      "text/html": [
       "<div>\n",
       "<style scoped>\n",
       "    .dataframe tbody tr th:only-of-type {\n",
       "        vertical-align: middle;\n",
       "    }\n",
       "\n",
       "    .dataframe tbody tr th {\n",
       "        vertical-align: top;\n",
       "    }\n",
       "\n",
       "    .dataframe thead th {\n",
       "        text-align: right;\n",
       "    }\n",
       "</style>\n",
       "<table border=\"1\" class=\"dataframe\">\n",
       "  <thead>\n",
       "    <tr style=\"text-align: right;\">\n",
       "      <th></th>\n",
       "      <th>count</th>\n",
       "      <th>part</th>\n",
       "    </tr>\n",
       "    <tr>\n",
       "      <th>channel</th>\n",
       "      <th></th>\n",
       "      <th></th>\n",
       "    </tr>\n",
       "  </thead>\n",
       "  <tbody>\n",
       "    <tr>\n",
       "      <th>mobile_push</th>\n",
       "      <td>7470472</td>\n",
       "      <td>0.59</td>\n",
       "    </tr>\n",
       "    <tr>\n",
       "      <th>email</th>\n",
       "      <td>5220716</td>\n",
       "      <td>0.41</td>\n",
       "    </tr>\n",
       "  </tbody>\n",
       "</table>\n",
       "</div>"
      ],
      "text/plain": [
       "               count  part\n",
       "channel                   \n",
       "mobile_push  7470472  0.59\n",
       "email        5220716  0.41"
      ]
     },
     "metadata": {},
     "output_type": "display_data"
    }
   ],
   "source": [
    "get_value_counts(apparel_messages['channel'])"
   ]
  },
  {
   "cell_type": "code",
   "execution_count": 33,
   "metadata": {},
   "outputs": [
    {
     "data": {
      "image/png": "[encoded data removed]",
      "text/plain": [
       "<Figure size 400x400 with 1 Axes>"
      ]
     },
     "metadata": {},
     "output_type": "display_data"
    }
   ],
   "source": [
    "plot_pie_chart(apparel_messages['channel'])"
   ]
  },
  {
   "cell_type": "markdown",
   "metadata": {},
   "source": [
    "#### 2.6.7. <a id='toc2_6_7_'></a>Признак `date`             [&#8593;](#toc0_)"
   ]
  },
  {
   "cell_type": "code",
   "execution_count": 34,
   "metadata": {},
   "outputs": [
    {
     "data": {
      "text/plain": [
       "0          2022-05-19\n",
       "1          2022-05-19\n",
       "2          2022-05-19\n",
       "3          2022-05-19\n",
       "4          2022-05-19\n",
       "              ...    \n",
       "12739793   2024-02-15\n",
       "12739794   2024-02-15\n",
       "12739795   2024-02-15\n",
       "12739796   2024-02-15\n",
       "12739797   2024-02-15\n",
       "Name: date, Length: 12691188, dtype: datetime64[ns]"
      ]
     },
     "execution_count": 34,
     "metadata": {},
     "output_type": "execute_result"
    }
   ],
   "source": [
    "apparel_messages['date']"
   ]
  },
  {
   "cell_type": "code",
   "execution_count": 35,
   "metadata": {},
   "outputs": [
    {
     "data": {
      "text/plain": [
       "count                         12691188\n",
       "mean     2023-06-04 17:27:00.569989632\n",
       "min                2022-05-19 00:00:00\n",
       "25%                2022-12-16 00:00:00\n",
       "50%                2023-07-20 00:00:00\n",
       "75%                2023-11-21 00:00:00\n",
       "max                2024-02-15 00:00:00\n",
       "Name: date, dtype: object"
      ]
     },
     "execution_count": 35,
     "metadata": {},
     "output_type": "execute_result"
    }
   ],
   "source": [
    "apparel_messages['date'].describe()"
   ]
  },
  {
   "cell_type": "markdown",
   "metadata": {},
   "source": [
    "Все даты адекватны."
   ]
  },
  {
   "cell_type": "markdown",
   "metadata": {},
   "source": [
    "#### 2.6.8. <a id='toc2_6_8_'></a>Признак `created_at`            [&#8593;](#toc0_)"
   ]
  },
  {
   "cell_type": "code",
   "execution_count": 36,
   "metadata": {},
   "outputs": [
    {
     "data": {
      "text/plain": [
       "0          2022-05-19 00:14:20\n",
       "1          2022-05-19 00:39:34\n",
       "2          2022-05-19 00:51:49\n",
       "3          2022-05-19 00:52:20\n",
       "4          2022-05-19 00:56:52\n",
       "                   ...        \n",
       "12739793   2024-02-15 23:51:40\n",
       "12739794   2024-02-15 23:52:20\n",
       "12739795   2024-02-15 23:52:40\n",
       "12739796   2024-02-15 23:58:40\n",
       "12739797   2024-02-15 23:58:40\n",
       "Name: created_at, Length: 12691188, dtype: datetime64[ns]"
      ]
     },
     "execution_count": 36,
     "metadata": {},
     "output_type": "execute_result"
    }
   ],
   "source": [
    "apparel_messages['created_at']"
   ]
  },
  {
   "cell_type": "code",
   "execution_count": 37,
   "metadata": {},
   "outputs": [
    {
     "data": {
      "text/plain": [
       "count                         12691188\n",
       "mean     2023-06-05 04:38:55.658559232\n",
       "min                2022-05-19 00:14:20\n",
       "25%                2022-12-16 19:15:55\n",
       "50%                2023-07-20 11:09:42\n",
       "75%                2023-11-21 15:58:05\n",
       "max                2024-02-15 23:58:40\n",
       "Name: created_at, dtype: object"
      ]
     },
     "execution_count": 37,
     "metadata": {},
     "output_type": "execute_result"
    }
   ],
   "source": [
    "apparel_messages['created_at'].describe()"
   ]
  },
  {
   "cell_type": "markdown",
   "metadata": {},
   "source": [
    "Все даты адекватны."
   ]
  },
  {
   "cell_type": "code",
   "execution_count": 38,
   "metadata": {},
   "outputs": [
    {
     "data": {
      "text/plain": [
       "0"
      ]
     },
     "execution_count": 38,
     "metadata": {},
     "output_type": "execute_result"
    }
   ],
   "source": [
    "mask = (apparel_messages['date'].dt.year != apparel_messages['created_at'].dt.year) | \\\n",
    "       (apparel_messages['date'].dt.month != apparel_messages['created_at'].dt.month) | \\\n",
    "       (apparel_messages['date'].dt.day != apparel_messages['created_at'].dt.day)\n",
    "mask.sum()"
   ]
  },
  {
   "cell_type": "markdown",
   "metadata": {},
   "source": [
    "Признак `created_at` содержит более полную информацию о дате рассылки, чем `date`, так содержит те же самые даты, но еще и время. По сути признак `created_at` включает в себя информацию столбца `date`, следовательно последний может быть удален."
   ]
  },
  {
   "cell_type": "code",
   "execution_count": 39,
   "metadata": {},
   "outputs": [],
   "source": [
    "shape_before = apparel_messages.shape\n",
    "apparel_messages = apparel_messages.drop(columns='date')\n",
    "\n",
    "assert apparel_messages.shape[0] == shape_before[0], 'Количество строк ДО и ПОСЛЕ удаления не совпадает.'\n",
    "assert 'date' not in apparel_messages.columns, 'Признак не был удален.'\n",
    "assert apparel_messages.shape[1] == shape_before[1] - 1, 'Количество признаков не совпадает с ожидаемым.'"
   ]
  },
  {
   "cell_type": "markdown",
   "metadata": {},
   "source": [
    "### 2.7. <a id='toc2_7_'></a>Выводы по датасету            [&#8593;](#toc0_)"
   ]
  },
  {
   "cell_type": "markdown",
   "metadata": {},
   "source": [
    "Датасет содержит данные о рассылках, которые были отправлены клиентам из таблицы покупок. Содержит несколько id (`client_id`, `message_id`), которые будут использованы для объединения с другими таблицами.\n",
    "\n",
    "Пропусков в датасете нет, полные дубликаты были обнаружены (`48610 (0.38%)`) и удалены.\n",
    "\n",
    "Было замечено, что признак `created_at` содержит более полную информацию о дате рассылки, чем `date`, так содержит те же самые даты, но еще время. По сути признак `created_at` включает в себя информацию столбца `date`. Поэтому признак `date` был удален."
   ]
  },
  {
   "cell_type": "markdown",
   "metadata": {},
   "source": [
    "## 3. <a id='toc3_'></a>Датасет `apparel-purchases.csv`                [&#8593;](#toc0_)"
   ]
  },
  {
   "cell_type": "markdown",
   "metadata": {},
   "source": [
    "### 3.1. <a id='toc3_1_'></a>Загрузка                [&#8593;](#toc0_)"
   ]
  },
  {
   "cell_type": "code",
   "execution_count": 40,
   "metadata": {},
   "outputs": [],
   "source": [
    "apparel_purchases = pd.read_csv('./data/apparel-purchases.csv', parse_dates=['date'])"
   ]
  },
  {
   "cell_type": "code",
   "execution_count": 41,
   "metadata": {},
   "outputs": [
    {
     "data": {
      "text/html": [
       "<div>\n",
       "<style scoped>\n",
       "    .dataframe tbody tr th:only-of-type {\n",
       "        vertical-align: middle;\n",
       "    }\n",
       "\n",
       "    .dataframe tbody tr th {\n",
       "        vertical-align: top;\n",
       "    }\n",
       "\n",
       "    .dataframe thead th {\n",
       "        text-align: right;\n",
       "    }\n",
       "</style>\n",
       "<table border=\"1\" class=\"dataframe\">\n",
       "  <thead>\n",
       "    <tr style=\"text-align: right;\">\n",
       "      <th></th>\n",
       "      <th>client_id</th>\n",
       "      <th>quantity</th>\n",
       "      <th>price</th>\n",
       "      <th>category_ids</th>\n",
       "      <th>date</th>\n",
       "      <th>message_id</th>\n",
       "    </tr>\n",
       "  </thead>\n",
       "  <tbody>\n",
       "    <tr>\n",
       "      <th>0</th>\n",
       "      <td>1515915625468169594</td>\n",
       "      <td>1</td>\n",
       "      <td>1999.00</td>\n",
       "      <td>['4', '28', '57', '431']</td>\n",
       "      <td>2022-05-16</td>\n",
       "      <td>1515915625468169594-4301-627b661e9736d</td>\n",
       "    </tr>\n",
       "    <tr>\n",
       "      <th>1</th>\n",
       "      <td>1515915625468169594</td>\n",
       "      <td>1</td>\n",
       "      <td>2499.00</td>\n",
       "      <td>['4', '28', '57', '431']</td>\n",
       "      <td>2022-05-16</td>\n",
       "      <td>1515915625468169594-4301-627b661e9736d</td>\n",
       "    </tr>\n",
       "    <tr>\n",
       "      <th>2</th>\n",
       "      <td>1515915625471138230</td>\n",
       "      <td>1</td>\n",
       "      <td>6499.00</td>\n",
       "      <td>['4', '28', '57', '431']</td>\n",
       "      <td>2022-05-16</td>\n",
       "      <td>1515915625471138230-4437-6282242f27843</td>\n",
       "    </tr>\n",
       "    <tr>\n",
       "      <th>3</th>\n",
       "      <td>1515915625471138230</td>\n",
       "      <td>1</td>\n",
       "      <td>4999.00</td>\n",
       "      <td>['4', '28', '244', '432']</td>\n",
       "      <td>2022-05-16</td>\n",
       "      <td>1515915625471138230-4437-6282242f27843</td>\n",
       "    </tr>\n",
       "    <tr>\n",
       "      <th>4</th>\n",
       "      <td>1515915625471138230</td>\n",
       "      <td>1</td>\n",
       "      <td>4999.00</td>\n",
       "      <td>['4', '28', '49', '413']</td>\n",
       "      <td>2022-05-16</td>\n",
       "      <td>1515915625471138230-4437-6282242f27843</td>\n",
       "    </tr>\n",
       "  </tbody>\n",
       "</table>\n",
       "</div>"
      ],
      "text/plain": [
       "             client_id  quantity   price               category_ids  \\\n",
       "0  1515915625468169594         1 1999.00   ['4', '28', '57', '431']   \n",
       "1  1515915625468169594         1 2499.00   ['4', '28', '57', '431']   \n",
       "2  1515915625471138230         1 6499.00   ['4', '28', '57', '431']   \n",
       "3  1515915625471138230         1 4999.00  ['4', '28', '244', '432']   \n",
       "4  1515915625471138230         1 4999.00   ['4', '28', '49', '413']   \n",
       "\n",
       "        date                              message_id  \n",
       "0 2022-05-16  1515915625468169594-4301-627b661e9736d  \n",
       "1 2022-05-16  1515915625468169594-4301-627b661e9736d  \n",
       "2 2022-05-16  1515915625471138230-4437-6282242f27843  \n",
       "3 2022-05-16  1515915625471138230-4437-6282242f27843  \n",
       "4 2022-05-16  1515915625471138230-4437-6282242f27843  "
      ]
     },
     "execution_count": 41,
     "metadata": {},
     "output_type": "execute_result"
    }
   ],
   "source": [
    "apparel_purchases.head()"
   ]
  },
  {
   "cell_type": "markdown",
   "metadata": {},
   "source": [
    "### 3.2. <a id='toc3_2_'></a>Проверка типов данных                [&#8593;](#toc0_)"
   ]
  },
  {
   "cell_type": "code",
   "execution_count": 42,
   "metadata": {},
   "outputs": [
    {
     "name": "stdout",
     "output_type": "stream",
     "text": [
      "<class 'pandas.core.frame.DataFrame'>\n",
      "RangeIndex: 202208 entries, 0 to 202207\n",
      "Data columns (total 6 columns):\n",
      " #   Column        Non-Null Count   Dtype         \n",
      "---  ------        --------------   -----         \n",
      " 0   client_id     202208 non-null  int64         \n",
      " 1   quantity      202208 non-null  int64         \n",
      " 2   price         202208 non-null  float64       \n",
      " 3   category_ids  202208 non-null  object        \n",
      " 4   date          202208 non-null  datetime64[ns]\n",
      " 5   message_id    202208 non-null  object        \n",
      "dtypes: datetime64[ns](1), float64(1), int64(2), object(2)\n",
      "memory usage: 9.3+ MB\n"
     ]
    }
   ],
   "source": [
    "apparel_purchases.info()"
   ]
  },
  {
   "cell_type": "markdown",
   "metadata": {},
   "source": [
    "Типы данных во всех признаках корректны."
   ]
  },
  {
   "cell_type": "markdown",
   "metadata": {},
   "source": [
    "### 3.3. <a id='toc3_3_'></a>Оптимизация памяти        [&#8593;](#toc0_)"
   ]
  },
  {
   "cell_type": "code",
   "execution_count": 43,
   "metadata": {},
   "outputs": [
    {
     "name": "stdout",
     "output_type": "stream",
     "text": [
      "Размер использования памяти: до  9.26 Mb - после  7.14 Mb (22.9%)\n"
     ]
    }
   ],
   "source": [
    "apparel_purchases = optimize_memory_usage(apparel_purchases)"
   ]
  },
  {
   "cell_type": "markdown",
   "metadata": {},
   "source": [
    "### 3.4. <a id='toc3_4_'></a>Проверка полных дубликатов                [&#8593;](#toc0_)"
   ]
  },
  {
   "cell_type": "code",
   "execution_count": 44,
   "metadata": {},
   "outputs": [
    {
     "name": "stdout",
     "output_type": "stream",
     "text": [
      "\u001b[31mОбнаружено 73020 дубликатов (36.11%)\u001b[0m\n"
     ]
    }
   ],
   "source": [
    "check_duplicates(apparel_purchases)"
   ]
  },
  {
   "cell_type": "markdown",
   "metadata": {},
   "source": [
    "Обнаружено довольно большое количество полных дубликатов (больше `36%`). Это выглядит довольно странно.\n",
    "\n",
    "Что значит, что строки полные дубликаты между собой? Что пользователь купил в один день один по одной рассылке товары с одной ценой из одной категории. Скорее всего это значит, что пользователь купил разные вкусы или оформил один и тот же товар разными заказами. Например, купил товар, подумал, что надо бы еще купить сразу прозапас. И вновь купил этот же товар.\n",
    "\n",
    "Поэтому самым логичным решением кажется сгруппировать эти строки, просуммировав признак `quantity`."
   ]
  },
  {
   "cell_type": "code",
   "execution_count": 45,
   "metadata": {},
   "outputs": [],
   "source": [
    "other_columns = apparel_purchases.columns.difference(['quantity']).tolist()\n",
    "apparel_purchases = apparel_purchases.groupby(other_columns, as_index=False).agg({'quantity': 'sum'})"
   ]
  },
  {
   "cell_type": "code",
   "execution_count": 46,
   "metadata": {},
   "outputs": [
    {
     "name": "stdout",
     "output_type": "stream",
     "text": [
      "\u001b[32mПолных дубликатов не обнаружено.\u001b[0m\n"
     ]
    }
   ],
   "source": [
    "check_duplicates(apparel_purchases)"
   ]
  },
  {
   "cell_type": "markdown",
   "metadata": {},
   "source": [
    "После преобразований полных дубликатов нет."
   ]
  },
  {
   "cell_type": "markdown",
   "metadata": {},
   "source": [
    "### 3.5. <a id='toc3_5_'></a>Проверка пропусков                [&#8593;](#toc0_)"
   ]
  },
  {
   "cell_type": "code",
   "execution_count": 47,
   "metadata": {},
   "outputs": [
    {
     "name": "stdout",
     "output_type": "stream",
     "text": [
      "+--------------+----------------------+\n",
      "|   Feature    | Missing values count |\n",
      "+--------------+----------------------+\n",
      "| category_ids |      \u001b[32m0 (0.00%)\u001b[0m       |\n",
      "|  client_id   |      \u001b[32m0 (0.00%)\u001b[0m       |\n",
      "|     date     |      \u001b[32m0 (0.00%)\u001b[0m       |\n",
      "|  message_id  |      \u001b[32m0 (0.00%)\u001b[0m       |\n",
      "|    price     |      \u001b[32m0 (0.00%)\u001b[0m       |\n",
      "|   quantity   |      \u001b[32m0 (0.00%)\u001b[0m       |\n",
      "+--------------+----------------------+\n"
     ]
    }
   ],
   "source": [
    "check_nans(apparel_purchases)"
   ]
  },
  {
   "cell_type": "markdown",
   "metadata": {},
   "source": [
    "Пропусков в датасете нет."
   ]
  },
  {
   "cell_type": "markdown",
   "metadata": {},
   "source": [
    "### 3.6. <a id='toc3_6_'></a>Изучение признаков         [&#8593;](#toc0_)"
   ]
  },
  {
   "cell_type": "markdown",
   "metadata": {},
   "source": [
    "#### 3.6.1. <a id='toc3_6_1_'></a>Описание признаков         [&#8593;](#toc0_)"
   ]
  },
  {
   "cell_type": "markdown",
   "metadata": {},
   "source": [
    "Данные о покупках клиентов по дням и по товарам. В каждой записи покупка определенного товара, его цена, количество штук.\n",
    "\n",
    "В таблице есть списки идентификаторов, к каким категориям относится товар. Часто это вложенные категории (например, автотовары-аксессуары-освежители), но также может включать в начале списка маркер распродажи или маркер женщинам/мужчинам.\n",
    "\n",
    "Нумерация категорий сквозная для всех уровней, то есть 44 на второй позиции списка или на третьей – это одна и та же категория. Иногда дерево категорий обновляется, поэтому могут меняться вложенности, например ['4', '28', '44', '1594'] или ['4', '44', '1594'].\n",
    "\n",
    "**Признаки:**\n",
    "|     Признак    | Описание                            |\n",
    "|:--------------:|-------------------------------------|\n",
    "|   `client_id`  | идентификатор клиента               |\n",
    "|   `quantity`   | количество единиц товара            |\n",
    "|     `price`    | цена товара                         |\n",
    "| `category_ids` | идентификаторы категорий            |\n",
    "|     `date`     | дата покупки                        |\n",
    "|  `message_id`  | идентификатор сообщения из рассылки |"
   ]
  },
  {
   "cell_type": "markdown",
   "metadata": {},
   "source": [
    "#### 3.6.2. <a id='toc3_6_2_'></a>Признак `client_id`         [&#8593;](#toc0_)"
   ]
  },
  {
   "cell_type": "code",
   "execution_count": 48,
   "metadata": {},
   "outputs": [
    {
     "data": {
      "text/plain": [
       "0         1515915625489044168\n",
       "1         1515915625789566616\n",
       "2         1515915625666901395\n",
       "3         1515915625468069875\n",
       "4         1515915625468124765\n",
       "                 ...         \n",
       "129013    1515915626009515678\n",
       "129014    1515915626009608336\n",
       "129015    1515915626009661190\n",
       "129016    1515915626009681249\n",
       "129017    1515915626010183608\n",
       "Name: client_id, Length: 129018, dtype: int64"
      ]
     },
     "execution_count": 48,
     "metadata": {},
     "output_type": "execute_result"
    }
   ],
   "source": [
    "apparel_purchases['client_id']"
   ]
  },
  {
   "cell_type": "code",
   "execution_count": 49,
   "metadata": {},
   "outputs": [
    {
     "data": {
      "text/plain": [
       "49849"
      ]
     },
     "execution_count": 49,
     "metadata": {},
     "output_type": "execute_result"
    }
   ],
   "source": [
    "apparel_purchases['client_id'].nunique()"
   ]
  },
  {
   "cell_type": "markdown",
   "metadata": {},
   "source": [
    "Данный столбец содержит идентификаторы клиентов и может быть использован при объединении таблиц."
   ]
  },
  {
   "cell_type": "markdown",
   "metadata": {},
   "source": [
    "#### 3.6.3. <a id='toc3_6_3_'></a>Признак `quantity`         [&#8593;](#toc0_)"
   ]
  },
  {
   "cell_type": "code",
   "execution_count": 50,
   "metadata": {},
   "outputs": [
    {
     "data": {
      "text/plain": [
       "0         1\n",
       "1         1\n",
       "2         1\n",
       "3         1\n",
       "4         1\n",
       "         ..\n",
       "129013    2\n",
       "129014    2\n",
       "129015    2\n",
       "129016    2\n",
       "129017    2\n",
       "Name: quantity, Length: 129018, dtype: int8"
      ]
     },
     "execution_count": 50,
     "metadata": {},
     "output_type": "execute_result"
    }
   ],
   "source": [
    "apparel_purchases['quantity']"
   ]
  },
  {
   "cell_type": "code",
   "execution_count": 51,
   "metadata": {},
   "outputs": [
    {
     "data": {
      "text/plain": [
       "35"
      ]
     },
     "execution_count": 51,
     "metadata": {},
     "output_type": "execute_result"
    }
   ],
   "source": [
    "apparel_purchases['quantity'].nunique()"
   ]
  },
  {
   "cell_type": "code",
   "execution_count": 52,
   "metadata": {},
   "outputs": [
    {
     "data": {
      "text/plain": [
       "count   129018.00\n",
       "mean         1.58\n",
       "std          0.99\n",
       "min          1.00\n",
       "25%          1.00\n",
       "50%          1.00\n",
       "75%          2.00\n",
       "max         96.00\n",
       "Name: quantity, dtype: float64"
      ]
     },
     "execution_count": 52,
     "metadata": {},
     "output_type": "execute_result"
    }
   ],
   "source": [
    "apparel_purchases['quantity'].describe()"
   ]
  },
  {
   "cell_type": "code",
   "execution_count": 53,
   "metadata": {},
   "outputs": [
    {
     "data": {
      "text/html": [
       "<div>\n",
       "<style scoped>\n",
       "    .dataframe tbody tr th:only-of-type {\n",
       "        vertical-align: middle;\n",
       "    }\n",
       "\n",
       "    .dataframe tbody tr th {\n",
       "        vertical-align: top;\n",
       "    }\n",
       "\n",
       "    .dataframe thead th {\n",
       "        text-align: right;\n",
       "    }\n",
       "</style>\n",
       "<table border=\"1\" class=\"dataframe\">\n",
       "  <thead>\n",
       "    <tr style=\"text-align: right;\">\n",
       "      <th></th>\n",
       "      <th>count</th>\n",
       "      <th>part</th>\n",
       "    </tr>\n",
       "    <tr>\n",
       "      <th>quantity</th>\n",
       "      <th></th>\n",
       "      <th></th>\n",
       "    </tr>\n",
       "  </thead>\n",
       "  <tbody>\n",
       "    <tr>\n",
       "      <th>1</th>\n",
       "      <td>69620</td>\n",
       "      <td>0.54</td>\n",
       "    </tr>\n",
       "    <tr>\n",
       "      <th>2</th>\n",
       "      <td>52277</td>\n",
       "      <td>0.41</td>\n",
       "    </tr>\n",
       "    <tr>\n",
       "      <th>4</th>\n",
       "      <td>3038</td>\n",
       "      <td>0.02</td>\n",
       "    </tr>\n",
       "    <tr>\n",
       "      <th>3</th>\n",
       "      <td>2930</td>\n",
       "      <td>0.02</td>\n",
       "    </tr>\n",
       "    <tr>\n",
       "      <th>6</th>\n",
       "      <td>508</td>\n",
       "      <td>0.00</td>\n",
       "    </tr>\n",
       "    <tr>\n",
       "      <th>5</th>\n",
       "      <td>312</td>\n",
       "      <td>0.00</td>\n",
       "    </tr>\n",
       "    <tr>\n",
       "      <th>8</th>\n",
       "      <td>87</td>\n",
       "      <td>0.00</td>\n",
       "    </tr>\n",
       "    <tr>\n",
       "      <th>7</th>\n",
       "      <td>69</td>\n",
       "      <td>0.00</td>\n",
       "    </tr>\n",
       "    <tr>\n",
       "      <th>10</th>\n",
       "      <td>44</td>\n",
       "      <td>0.00</td>\n",
       "    </tr>\n",
       "    <tr>\n",
       "      <th>12</th>\n",
       "      <td>39</td>\n",
       "      <td>0.00</td>\n",
       "    </tr>\n",
       "    <tr>\n",
       "      <th>9</th>\n",
       "      <td>31</td>\n",
       "      <td>0.00</td>\n",
       "    </tr>\n",
       "    <tr>\n",
       "      <th>11</th>\n",
       "      <td>12</td>\n",
       "      <td>0.00</td>\n",
       "    </tr>\n",
       "    <tr>\n",
       "      <th>15</th>\n",
       "      <td>6</td>\n",
       "      <td>0.00</td>\n",
       "    </tr>\n",
       "    <tr>\n",
       "      <th>20</th>\n",
       "      <td>6</td>\n",
       "      <td>0.00</td>\n",
       "    </tr>\n",
       "    <tr>\n",
       "      <th>14</th>\n",
       "      <td>5</td>\n",
       "      <td>0.00</td>\n",
       "    </tr>\n",
       "    <tr>\n",
       "      <th>18</th>\n",
       "      <td>4</td>\n",
       "      <td>0.00</td>\n",
       "    </tr>\n",
       "    <tr>\n",
       "      <th>16</th>\n",
       "      <td>4</td>\n",
       "      <td>0.00</td>\n",
       "    </tr>\n",
       "    <tr>\n",
       "      <th>30</th>\n",
       "      <td>3</td>\n",
       "      <td>0.00</td>\n",
       "    </tr>\n",
       "    <tr>\n",
       "      <th>21</th>\n",
       "      <td>2</td>\n",
       "      <td>0.00</td>\n",
       "    </tr>\n",
       "    <tr>\n",
       "      <th>17</th>\n",
       "      <td>2</td>\n",
       "      <td>0.00</td>\n",
       "    </tr>\n",
       "    <tr>\n",
       "      <th>13</th>\n",
       "      <td>2</td>\n",
       "      <td>0.00</td>\n",
       "    </tr>\n",
       "    <tr>\n",
       "      <th>40</th>\n",
       "      <td>2</td>\n",
       "      <td>0.00</td>\n",
       "    </tr>\n",
       "    <tr>\n",
       "      <th>31</th>\n",
       "      <td>2</td>\n",
       "      <td>0.00</td>\n",
       "    </tr>\n",
       "    <tr>\n",
       "      <th>24</th>\n",
       "      <td>2</td>\n",
       "      <td>0.00</td>\n",
       "    </tr>\n",
       "    <tr>\n",
       "      <th>22</th>\n",
       "      <td>1</td>\n",
       "      <td>0.00</td>\n",
       "    </tr>\n",
       "    <tr>\n",
       "      <th>28</th>\n",
       "      <td>1</td>\n",
       "      <td>0.00</td>\n",
       "    </tr>\n",
       "    <tr>\n",
       "      <th>96</th>\n",
       "      <td>1</td>\n",
       "      <td>0.00</td>\n",
       "    </tr>\n",
       "    <tr>\n",
       "      <th>19</th>\n",
       "      <td>1</td>\n",
       "      <td>0.00</td>\n",
       "    </tr>\n",
       "    <tr>\n",
       "      <th>38</th>\n",
       "      <td>1</td>\n",
       "      <td>0.00</td>\n",
       "    </tr>\n",
       "    <tr>\n",
       "      <th>25</th>\n",
       "      <td>1</td>\n",
       "      <td>0.00</td>\n",
       "    </tr>\n",
       "    <tr>\n",
       "      <th>41</th>\n",
       "      <td>1</td>\n",
       "      <td>0.00</td>\n",
       "    </tr>\n",
       "    <tr>\n",
       "      <th>50</th>\n",
       "      <td>1</td>\n",
       "      <td>0.00</td>\n",
       "    </tr>\n",
       "    <tr>\n",
       "      <th>71</th>\n",
       "      <td>1</td>\n",
       "      <td>0.00</td>\n",
       "    </tr>\n",
       "    <tr>\n",
       "      <th>46</th>\n",
       "      <td>1</td>\n",
       "      <td>0.00</td>\n",
       "    </tr>\n",
       "    <tr>\n",
       "      <th>63</th>\n",
       "      <td>1</td>\n",
       "      <td>0.00</td>\n",
       "    </tr>\n",
       "  </tbody>\n",
       "</table>\n",
       "</div>"
      ],
      "text/plain": [
       "          count  part\n",
       "quantity             \n",
       "1         69620  0.54\n",
       "2         52277  0.41\n",
       "4          3038  0.02\n",
       "3          2930  0.02\n",
       "6           508  0.00\n",
       "5           312  0.00\n",
       "8            87  0.00\n",
       "7            69  0.00\n",
       "10           44  0.00\n",
       "12           39  0.00\n",
       "9            31  0.00\n",
       "11           12  0.00\n",
       "15            6  0.00\n",
       "20            6  0.00\n",
       "14            5  0.00\n",
       "18            4  0.00\n",
       "16            4  0.00\n",
       "30            3  0.00\n",
       "21            2  0.00\n",
       "17            2  0.00\n",
       "13            2  0.00\n",
       "40            2  0.00\n",
       "31            2  0.00\n",
       "24            2  0.00\n",
       "22            1  0.00\n",
       "28            1  0.00\n",
       "96            1  0.00\n",
       "19            1  0.00\n",
       "38            1  0.00\n",
       "25            1  0.00\n",
       "41            1  0.00\n",
       "50            1  0.00\n",
       "71            1  0.00\n",
       "46            1  0.00\n",
       "63            1  0.00"
      ]
     },
     "metadata": {},
     "output_type": "display_data"
    }
   ],
   "source": [
    "get_value_counts(apparel_purchases['quantity'])"
   ]
  },
  {
   "cell_type": "code",
   "execution_count": 54,
   "metadata": {},
   "outputs": [
    {
     "data": {
      "image/png": "[encoded data removed]",
      "text/plain": [
       "<Figure size 1200x1000 with 4 Axes>"
      ]
     },
     "metadata": {},
     "output_type": "display_data"
    }
   ],
   "source": [
    "draw_plots_about_column(apparel_purchases, 'quantity', bins=10)"
   ]
  },
  {
   "cell_type": "markdown",
   "metadata": {},
   "source": [
    "#### 3.6.4. <a id='toc3_6_4_'></a>Признак `price`         [&#8593;](#toc0_)"
   ]
  },
  {
   "cell_type": "code",
   "execution_count": 55,
   "metadata": {},
   "outputs": [
    {
     "data": {
      "text/plain": [
       "0        1799.00\n",
       "1        1799.00\n",
       "2         199.00\n",
       "3         999.00\n",
       "4         999.00\n",
       "           ...  \n",
       "129013      7.00\n",
       "129014      7.00\n",
       "129015      5.00\n",
       "129016      7.00\n",
       "129017      5.00\n",
       "Name: price, Length: 129018, dtype: float32"
      ]
     },
     "execution_count": 55,
     "metadata": {},
     "output_type": "execute_result"
    }
   ],
   "source": [
    "apparel_purchases['price']"
   ]
  },
  {
   "cell_type": "code",
   "execution_count": 56,
   "metadata": {},
   "outputs": [
    {
     "data": {
      "text/plain": [
       "count   129018.00\n",
       "mean      1264.69\n",
       "std       1375.35\n",
       "min          1.00\n",
       "25%        399.00\n",
       "50%        999.00\n",
       "75%       1750.00\n",
       "max      85499.00\n",
       "Name: price, dtype: float64"
      ]
     },
     "execution_count": 56,
     "metadata": {},
     "output_type": "execute_result"
    }
   ],
   "source": [
    "apparel_purchases['price'].describe()"
   ]
  },
  {
   "cell_type": "code",
   "execution_count": 57,
   "metadata": {},
   "outputs": [
    {
     "data": {
      "image/png": "[encoded data removed]",
      "text/plain": [
       "<Figure size 1200x1000 with 4 Axes>"
      ]
     },
     "metadata": {},
     "output_type": "display_data"
    }
   ],
   "source": [
    "draw_plots_about_column(apparel_purchases, 'price')"
   ]
  },
  {
   "cell_type": "markdown",
   "metadata": {},
   "source": [
    "#### 3.6.5. <a id='toc3_6_5_'></a>Признак `category_ids`         [&#8593;](#toc0_)"
   ]
  },
  {
   "cell_type": "code",
   "execution_count": 58,
   "metadata": {},
   "outputs": [
    {
     "data": {
      "text/plain": [
       "0          ['1', '22', '50', '685']\n",
       "1          ['1', '22', '50', '685']\n",
       "2          ['1', '8', '280', '710']\n",
       "3         ['2', '17', '107', '453']\n",
       "4         ['2', '17', '107', '453']\n",
       "                    ...            \n",
       "129013                           []\n",
       "129014                           []\n",
       "129015                           []\n",
       "129016                           []\n",
       "129017                           []\n",
       "Name: category_ids, Length: 129018, dtype: object"
      ]
     },
     "execution_count": 58,
     "metadata": {},
     "output_type": "execute_result"
    }
   ],
   "source": [
    "apparel_purchases['category_ids']"
   ]
  },
  {
   "cell_type": "markdown",
   "metadata": {},
   "source": [
    "Сразу заметим, что есть часть товаров вообще без категорий."
   ]
  },
  {
   "cell_type": "code",
   "execution_count": 59,
   "metadata": {},
   "outputs": [
    {
     "data": {
      "text/plain": [
       "933"
      ]
     },
     "execution_count": 59,
     "metadata": {},
     "output_type": "execute_result"
    }
   ],
   "source": [
    "apparel_purchases['category_ids'].nunique()"
   ]
  },
  {
   "cell_type": "markdown",
   "metadata": {},
   "source": [
    "Довольно большое количество уникальных сочетаний."
   ]
  },
  {
   "cell_type": "markdown",
   "metadata": {},
   "source": [
    "В задании было указано, что\n",
    "\n",
    "> Иногда дерево категорий обновляется, поэтому могут меняться вложенности, например ['4', '28', '44', '1594'] или ['4', '44', '1594']. Как обработать такие случаи – можете предлагать свои варианты решения."
   ]
  },
  {
   "cell_type": "markdown",
   "metadata": {},
   "source": [
    "#### 3.6.6. <a id='toc3_6_6_'></a>Признак `date`         [&#8593;](#toc0_)"
   ]
  },
  {
   "cell_type": "code",
   "execution_count": 60,
   "metadata": {},
   "outputs": [
    {
     "data": {
      "text/plain": [
       "0        2022-07-12\n",
       "1        2022-08-07\n",
       "2        2022-06-01\n",
       "3        2022-07-09\n",
       "4        2022-07-08\n",
       "            ...    \n",
       "129013   2024-02-03\n",
       "129014   2024-02-06\n",
       "129015   2024-02-07\n",
       "129016   2024-02-05\n",
       "129017   2024-02-13\n",
       "Name: date, Length: 129018, dtype: datetime64[ns]"
      ]
     },
     "execution_count": 60,
     "metadata": {},
     "output_type": "execute_result"
    }
   ],
   "source": [
    "apparel_purchases['date']"
   ]
  },
  {
   "cell_type": "code",
   "execution_count": 61,
   "metadata": {},
   "outputs": [
    {
     "data": {
      "text/plain": [
       "count                           129018\n",
       "mean     2023-02-26 10:13:27.292005632\n",
       "min                2022-05-16 00:00:00\n",
       "25%                2022-09-09 00:00:00\n",
       "50%                2023-03-22 00:00:00\n",
       "75%                2023-06-28 00:00:00\n",
       "max                2024-02-16 00:00:00\n",
       "Name: date, dtype: object"
      ]
     },
     "execution_count": 61,
     "metadata": {},
     "output_type": "execute_result"
    }
   ],
   "source": [
    "apparel_purchases['date'].describe()"
   ]
  },
  {
   "cell_type": "markdown",
   "metadata": {},
   "source": [
    "Все даты адекватны."
   ]
  },
  {
   "cell_type": "markdown",
   "metadata": {},
   "source": [
    "#### 3.6.7. <a id='toc3_6_7_'></a>Признак `message_id`         [&#8593;](#toc0_)"
   ]
  },
  {
   "cell_type": "code",
   "execution_count": 62,
   "metadata": {},
   "outputs": [
    {
     "data": {
      "text/plain": [
       "0          1515915625489044168-5335-62c7d2d6bd056\n",
       "1          1515915625789566616-5785-62ecc38c85606\n",
       "2          1515915625666901395-4698-62971583c7270\n",
       "3          1515915625487285028-5335-62c7d2b9eef22\n",
       "4          1515915625468124765-5335-62c7d2d245db8\n",
       "                           ...                   \n",
       "129013    1515915625776547382-14587-65bcc2a78a468\n",
       "129014    1515915626009608336-14594-65c0879eaf1ec\n",
       "129015    1515915626009661190-14600-65c1e75b31a21\n",
       "129016    1515915625558930991-14595-65c085673111d\n",
       "129017    1515915625489302721-14623-65c5c5804cb67\n",
       "Name: message_id, Length: 129018, dtype: object"
      ]
     },
     "execution_count": 62,
     "metadata": {},
     "output_type": "execute_result"
    }
   ],
   "source": [
    "apparel_purchases['message_id']"
   ]
  },
  {
   "cell_type": "markdown",
   "metadata": {},
   "source": [
    "Значения в данном столбце состоят из 3 частей: id клиента (`client_id`), id рекламной компании (`bulk_campaign_id`) и (как я понимаю) непосредственно id сообщения."
   ]
  },
  {
   "cell_type": "markdown",
   "metadata": {},
   "source": [
    "### 3.7. <a id='toc3_7_'></a>Выводы по датасету         [&#8593;](#toc0_)"
   ]
  },
  {
   "cell_type": "markdown",
   "metadata": {},
   "source": [
    "Данный датасет содержит данные о покупках клиентов по дням и по товарам. В каждой записи покупка определенного товара, его цена, количество штук.\n",
    "\n",
    "Было обнаружено довольно много полных дубликатов - `73020 (36%)`. В итоге было принято решение, сгруппировать такие записи, просуммировав количество (признак `quantity`). После проведенного преобразования полных дубликатов больше нет.\n",
    "\n",
    "Пропусков в датасете нет."
   ]
  },
  {
   "cell_type": "markdown",
   "metadata": {},
   "source": [
    "## 4. <a id='toc4_'></a>Датасет `apparel-target_binary.csv`                 [&#8593;](#toc0_)"
   ]
  },
  {
   "cell_type": "code",
   "execution_count": 63,
   "metadata": {},
   "outputs": [],
   "source": [
    "apparel_target_binary = pd.read_csv('./data/apparel-target_binary.csv')"
   ]
  },
  {
   "cell_type": "code",
   "execution_count": 64,
   "metadata": {},
   "outputs": [
    {
     "data": {
      "text/html": [
       "<div>\n",
       "<style scoped>\n",
       "    .dataframe tbody tr th:only-of-type {\n",
       "        vertical-align: middle;\n",
       "    }\n",
       "\n",
       "    .dataframe tbody tr th {\n",
       "        vertical-align: top;\n",
       "    }\n",
       "\n",
       "    .dataframe thead th {\n",
       "        text-align: right;\n",
       "    }\n",
       "</style>\n",
       "<table border=\"1\" class=\"dataframe\">\n",
       "  <thead>\n",
       "    <tr style=\"text-align: right;\">\n",
       "      <th></th>\n",
       "      <th>client_id</th>\n",
       "      <th>target</th>\n",
       "    </tr>\n",
       "  </thead>\n",
       "  <tbody>\n",
       "    <tr>\n",
       "      <th>0</th>\n",
       "      <td>1515915625468060902</td>\n",
       "      <td>0</td>\n",
       "    </tr>\n",
       "    <tr>\n",
       "      <th>1</th>\n",
       "      <td>1515915625468061003</td>\n",
       "      <td>1</td>\n",
       "    </tr>\n",
       "    <tr>\n",
       "      <th>2</th>\n",
       "      <td>1515915625468061099</td>\n",
       "      <td>0</td>\n",
       "    </tr>\n",
       "    <tr>\n",
       "      <th>3</th>\n",
       "      <td>1515915625468061100</td>\n",
       "      <td>0</td>\n",
       "    </tr>\n",
       "    <tr>\n",
       "      <th>4</th>\n",
       "      <td>1515915625468061170</td>\n",
       "      <td>0</td>\n",
       "    </tr>\n",
       "  </tbody>\n",
       "</table>\n",
       "</div>"
      ],
      "text/plain": [
       "             client_id  target\n",
       "0  1515915625468060902       0\n",
       "1  1515915625468061003       1\n",
       "2  1515915625468061099       0\n",
       "3  1515915625468061100       0\n",
       "4  1515915625468061170       0"
      ]
     },
     "execution_count": 64,
     "metadata": {},
     "output_type": "execute_result"
    }
   ],
   "source": [
    "apparel_target_binary.head()"
   ]
  },
  {
   "cell_type": "markdown",
   "metadata": {},
   "source": [
    "### 4.1. <a id='toc4_1_'></a>Проверка типов данных                 [&#8593;](#toc0_)"
   ]
  },
  {
   "cell_type": "code",
   "execution_count": 65,
   "metadata": {},
   "outputs": [
    {
     "name": "stdout",
     "output_type": "stream",
     "text": [
      "<class 'pandas.core.frame.DataFrame'>\n",
      "RangeIndex: 49849 entries, 0 to 49848\n",
      "Data columns (total 2 columns):\n",
      " #   Column     Non-Null Count  Dtype\n",
      "---  ------     --------------  -----\n",
      " 0   client_id  49849 non-null  int64\n",
      " 1   target     49849 non-null  int64\n",
      "dtypes: int64(2)\n",
      "memory usage: 779.0 KB\n"
     ]
    }
   ],
   "source": [
    "apparel_target_binary.info()"
   ]
  },
  {
   "cell_type": "markdown",
   "metadata": {},
   "source": [
    "Все столбцы имеют верные типы данных."
   ]
  },
  {
   "cell_type": "markdown",
   "metadata": {},
   "source": [
    "### 4.2. <a id='toc4_2_'></a>Оптимизация памяти        [&#8593;](#toc0_)"
   ]
  },
  {
   "cell_type": "code",
   "execution_count": 66,
   "metadata": {},
   "outputs": [
    {
     "name": "stdout",
     "output_type": "stream",
     "text": [
      "Размер использования памяти: до  0.76 Mb - после  0.43 Mb (43.7%)\n"
     ]
    }
   ],
   "source": [
    "apparel_target_binary = optimize_memory_usage(apparel_target_binary)"
   ]
  },
  {
   "cell_type": "markdown",
   "metadata": {},
   "source": [
    "### 4.3. <a id='toc4_3_'></a>Проверка полных дубликатов                 [&#8593;](#toc0_)"
   ]
  },
  {
   "cell_type": "code",
   "execution_count": 67,
   "metadata": {},
   "outputs": [
    {
     "name": "stdout",
     "output_type": "stream",
     "text": [
      "\u001b[32mПолных дубликатов не обнаружено.\u001b[0m\n"
     ]
    }
   ],
   "source": [
    "check_duplicates(apparel_target_binary)"
   ]
  },
  {
   "cell_type": "markdown",
   "metadata": {},
   "source": [
    "### 4.4. <a id='toc4_4_'></a>Проверка пропусков                 [&#8593;](#toc0_)"
   ]
  },
  {
   "cell_type": "code",
   "execution_count": 68,
   "metadata": {},
   "outputs": [
    {
     "name": "stdout",
     "output_type": "stream",
     "text": [
      "+-----------+----------------------+\n",
      "|  Feature  | Missing values count |\n",
      "+-----------+----------------------+\n",
      "| client_id |      \u001b[32m0 (0.00%)\u001b[0m       |\n",
      "|   target  |      \u001b[32m0 (0.00%)\u001b[0m       |\n",
      "+-----------+----------------------+\n"
     ]
    }
   ],
   "source": [
    "check_nans(apparel_target_binary)"
   ]
  },
  {
   "cell_type": "markdown",
   "metadata": {},
   "source": [
    "Пропусков в датасете нет."
   ]
  },
  {
   "cell_type": "markdown",
   "metadata": {},
   "source": [
    "### 4.5. <a id='toc4_5_'></a>Изучение признаков                 [&#8593;](#toc0_)"
   ]
  },
  {
   "cell_type": "markdown",
   "metadata": {},
   "source": [
    "#### 4.5.1. <a id='toc4_5_1_'></a>Признак `client_id`                 [&#8593;](#toc0_)"
   ]
  },
  {
   "cell_type": "code",
   "execution_count": 69,
   "metadata": {},
   "outputs": [
    {
     "data": {
      "text/plain": [
       "0        1515915625468060902\n",
       "1        1515915625468061003\n",
       "2        1515915625468061099\n",
       "3        1515915625468061100\n",
       "4        1515915625468061170\n",
       "                ...         \n",
       "49844    1515915626010261344\n",
       "49845    1515915626010266132\n",
       "49846    1515915626010439406\n",
       "49847    1515915626010443527\n",
       "49848    1515915626010443624\n",
       "Name: client_id, Length: 49849, dtype: int64"
      ]
     },
     "execution_count": 69,
     "metadata": {},
     "output_type": "execute_result"
    }
   ],
   "source": [
    "apparel_target_binary['client_id']"
   ]
  },
  {
   "cell_type": "code",
   "execution_count": 70,
   "metadata": {},
   "outputs": [
    {
     "data": {
      "text/plain": [
       "(49849, 49849)"
      ]
     },
     "execution_count": 70,
     "metadata": {},
     "output_type": "execute_result"
    }
   ],
   "source": [
    "apparel_target_binary['client_id'].nunique(), len(apparel_target_binary)"
   ]
  },
  {
   "cell_type": "markdown",
   "metadata": {},
   "source": [
    "Абсолютно все id уникальны."
   ]
  },
  {
   "cell_type": "markdown",
   "metadata": {},
   "source": [
    "#### 4.5.2. <a id='toc4_5_2_'></a>Таргет `target`                 [&#8593;](#toc0_)"
   ]
  },
  {
   "cell_type": "code",
   "execution_count": 71,
   "metadata": {},
   "outputs": [
    {
     "data": {
      "text/html": [
       "<div>\n",
       "<style scoped>\n",
       "    .dataframe tbody tr th:only-of-type {\n",
       "        vertical-align: middle;\n",
       "    }\n",
       "\n",
       "    .dataframe tbody tr th {\n",
       "        vertical-align: top;\n",
       "    }\n",
       "\n",
       "    .dataframe thead th {\n",
       "        text-align: right;\n",
       "    }\n",
       "</style>\n",
       "<table border=\"1\" class=\"dataframe\">\n",
       "  <thead>\n",
       "    <tr style=\"text-align: right;\">\n",
       "      <th></th>\n",
       "      <th>count</th>\n",
       "      <th>part</th>\n",
       "    </tr>\n",
       "    <tr>\n",
       "      <th>target</th>\n",
       "      <th></th>\n",
       "      <th></th>\n",
       "    </tr>\n",
       "  </thead>\n",
       "  <tbody>\n",
       "    <tr>\n",
       "      <th>0</th>\n",
       "      <td>48888</td>\n",
       "      <td>0.98</td>\n",
       "    </tr>\n",
       "    <tr>\n",
       "      <th>1</th>\n",
       "      <td>961</td>\n",
       "      <td>0.02</td>\n",
       "    </tr>\n",
       "  </tbody>\n",
       "</table>\n",
       "</div>"
      ],
      "text/plain": [
       "        count  part\n",
       "target             \n",
       "0       48888  0.98\n",
       "1         961  0.02"
      ]
     },
     "metadata": {},
     "output_type": "display_data"
    }
   ],
   "source": [
    "get_value_counts(apparel_target_binary['target'])"
   ]
  },
  {
   "cell_type": "code",
   "execution_count": 72,
   "metadata": {},
   "outputs": [
    {
     "data": {
      "image/png": "[encoded data removed]",
      "text/plain": [
       "<Figure size 400x400 with 1 Axes>"
      ]
     },
     "metadata": {},
     "output_type": "display_data"
    }
   ],
   "source": [
    "plot_pie_chart(apparel_target_binary['target'])"
   ]
  },
  {
   "cell_type": "markdown",
   "metadata": {},
   "source": [
    "Видим крайне сильный дизбаланс в сторону класса `0`."
   ]
  },
  {
   "cell_type": "markdown",
   "metadata": {},
   "source": [
    "### 4.6. <a id='toc4_6_'></a>Выводы по датасету        [&#8593;](#toc0_)"
   ]
  },
  {
   "cell_type": "markdown",
   "metadata": {},
   "source": [
    "Датасет содержит информацию о целевом признаке - совершил ли клиент покупку в целевом периоде.\n",
    "\n",
    "В датасете всего 2 столбца:\n",
    "- `client_id` - идентификатор клиента, который будет использован для объединения таблиц\n",
    "- `target` - целевой признак\n",
    "\n",
    "Пропусков в датасете нет, полные дубликаты не обнаружены."
   ]
  },
  {
   "cell_type": "markdown",
   "metadata": {},
   "source": [
    "## 5. <a id='toc5_'></a>Преобразование датафрейма `apperel_messages`       [&#8593;](#toc0_)"
   ]
  },
  {
   "cell_type": "code",
   "execution_count": 73,
   "metadata": {},
   "outputs": [
    {
     "data": {
      "text/html": [
       "<div>\n",
       "<style scoped>\n",
       "    .dataframe tbody tr th:only-of-type {\n",
       "        vertical-align: middle;\n",
       "    }\n",
       "\n",
       "    .dataframe tbody tr th {\n",
       "        vertical-align: top;\n",
       "    }\n",
       "\n",
       "    .dataframe thead th {\n",
       "        text-align: right;\n",
       "    }\n",
       "</style>\n",
       "<table border=\"1\" class=\"dataframe\">\n",
       "  <thead>\n",
       "    <tr style=\"text-align: right;\">\n",
       "      <th></th>\n",
       "      <th>bulk_campaign_id</th>\n",
       "      <th>client_id</th>\n",
       "      <th>message_id</th>\n",
       "      <th>event</th>\n",
       "      <th>channel</th>\n",
       "      <th>created_at</th>\n",
       "    </tr>\n",
       "  </thead>\n",
       "  <tbody>\n",
       "    <tr>\n",
       "      <th>0</th>\n",
       "      <td>4439</td>\n",
       "      <td>1515915625626736623</td>\n",
       "      <td>1515915625626736623-4439-6283415ac07ea</td>\n",
       "      <td>open</td>\n",
       "      <td>email</td>\n",
       "      <td>2022-05-19 00:14:20</td>\n",
       "    </tr>\n",
       "    <tr>\n",
       "      <th>1</th>\n",
       "      <td>4439</td>\n",
       "      <td>1515915625490086521</td>\n",
       "      <td>1515915625490086521-4439-62834150016dd</td>\n",
       "      <td>open</td>\n",
       "      <td>email</td>\n",
       "      <td>2022-05-19 00:39:34</td>\n",
       "    </tr>\n",
       "    <tr>\n",
       "      <th>2</th>\n",
       "      <td>4439</td>\n",
       "      <td>1515915625553578558</td>\n",
       "      <td>1515915625553578558-4439-6283415b36b4f</td>\n",
       "      <td>open</td>\n",
       "      <td>email</td>\n",
       "      <td>2022-05-19 00:51:49</td>\n",
       "    </tr>\n",
       "    <tr>\n",
       "      <th>3</th>\n",
       "      <td>4439</td>\n",
       "      <td>1515915625553578558</td>\n",
       "      <td>1515915625553578558-4439-6283415b36b4f</td>\n",
       "      <td>click</td>\n",
       "      <td>email</td>\n",
       "      <td>2022-05-19 00:52:20</td>\n",
       "    </tr>\n",
       "    <tr>\n",
       "      <th>4</th>\n",
       "      <td>4439</td>\n",
       "      <td>1515915625471518311</td>\n",
       "      <td>1515915625471518311-4439-628341570c133</td>\n",
       "      <td>open</td>\n",
       "      <td>email</td>\n",
       "      <td>2022-05-19 00:56:52</td>\n",
       "    </tr>\n",
       "  </tbody>\n",
       "</table>\n",
       "</div>"
      ],
      "text/plain": [
       "   bulk_campaign_id            client_id  \\\n",
       "0              4439  1515915625626736623   \n",
       "1              4439  1515915625490086521   \n",
       "2              4439  1515915625553578558   \n",
       "3              4439  1515915625553578558   \n",
       "4              4439  1515915625471518311   \n",
       "\n",
       "                               message_id  event channel          created_at  \n",
       "0  1515915625626736623-4439-6283415ac07ea   open   email 2022-05-19 00:14:20  \n",
       "1  1515915625490086521-4439-62834150016dd   open   email 2022-05-19 00:39:34  \n",
       "2  1515915625553578558-4439-6283415b36b4f   open   email 2022-05-19 00:51:49  \n",
       "3  1515915625553578558-4439-6283415b36b4f  click   email 2022-05-19 00:52:20  \n",
       "4  1515915625471518311-4439-628341570c133   open   email 2022-05-19 00:56:52  "
      ]
     },
     "execution_count": 73,
     "metadata": {},
     "output_type": "execute_result"
    }
   ],
   "source": [
    "apparel_messages.head()"
   ]
  },
  {
   "cell_type": "markdown",
   "metadata": {},
   "source": [
    "Для начала соберем агрегированную информацию из датафрейма `apparel_messages` в новый датафрейм `apparel_messages_agg`."
   ]
  },
  {
   "cell_type": "code",
   "execution_count": 74,
   "metadata": {},
   "outputs": [
    {
     "data": {
      "text/html": [
       "<div>\n",
       "<style scoped>\n",
       "    .dataframe tbody tr th:only-of-type {\n",
       "        vertical-align: middle;\n",
       "    }\n",
       "\n",
       "    .dataframe tbody tr th {\n",
       "        vertical-align: top;\n",
       "    }\n",
       "\n",
       "    .dataframe thead th {\n",
       "        text-align: right;\n",
       "    }\n",
       "</style>\n",
       "<table border=\"1\" class=\"dataframe\">\n",
       "  <thead>\n",
       "    <tr style=\"text-align: right;\">\n",
       "      <th></th>\n",
       "      <th>email_click_cnt</th>\n",
       "      <th>email_complain_cnt</th>\n",
       "      <th>email_hard_bounce_cnt</th>\n",
       "      <th>email_hbq_spam_cnt</th>\n",
       "      <th>email_open_cnt</th>\n",
       "      <th>email_purchase_cnt</th>\n",
       "      <th>email_send_cnt</th>\n",
       "      <th>email_soft_bounce_cnt</th>\n",
       "      <th>email_subscribe_cnt</th>\n",
       "      <th>email_unsubscribe_cnt</th>\n",
       "      <th>mobile_push_click_cnt</th>\n",
       "      <th>mobile_push_close_cnt</th>\n",
       "      <th>mobile_push_hard_bounce_cnt</th>\n",
       "      <th>mobile_push_open_cnt</th>\n",
       "      <th>mobile_push_purchase_cnt</th>\n",
       "      <th>mobile_push_send_cnt</th>\n",
       "      <th>mobile_push_soft_bounce_cnt</th>\n",
       "    </tr>\n",
       "    <tr>\n",
       "      <th>client_id</th>\n",
       "      <th></th>\n",
       "      <th></th>\n",
       "      <th></th>\n",
       "      <th></th>\n",
       "      <th></th>\n",
       "      <th></th>\n",
       "      <th></th>\n",
       "      <th></th>\n",
       "      <th></th>\n",
       "      <th></th>\n",
       "      <th></th>\n",
       "      <th></th>\n",
       "      <th></th>\n",
       "      <th></th>\n",
       "      <th></th>\n",
       "      <th></th>\n",
       "      <th></th>\n",
       "    </tr>\n",
       "  </thead>\n",
       "  <tbody>\n",
       "    <tr>\n",
       "      <th>1515915625468060902</th>\n",
       "      <td>10.00</td>\n",
       "      <td>0.00</td>\n",
       "      <td>0.00</td>\n",
       "      <td>0.00</td>\n",
       "      <td>35.00</td>\n",
       "      <td>5.00</td>\n",
       "      <td>126.00</td>\n",
       "      <td>0.00</td>\n",
       "      <td>0.00</td>\n",
       "      <td>1.00</td>\n",
       "      <td>0.00</td>\n",
       "      <td>0.00</td>\n",
       "      <td>0.00</td>\n",
       "      <td>0.00</td>\n",
       "      <td>0.00</td>\n",
       "      <td>0.00</td>\n",
       "      <td>0.00</td>\n",
       "    </tr>\n",
       "    <tr>\n",
       "      <th>1515915625468061003</th>\n",
       "      <td>5.00</td>\n",
       "      <td>0.00</td>\n",
       "      <td>0.00</td>\n",
       "      <td>0.00</td>\n",
       "      <td>5.00</td>\n",
       "      <td>1.00</td>\n",
       "      <td>154.00</td>\n",
       "      <td>0.00</td>\n",
       "      <td>0.00</td>\n",
       "      <td>0.00</td>\n",
       "      <td>0.00</td>\n",
       "      <td>0.00</td>\n",
       "      <td>0.00</td>\n",
       "      <td>0.00</td>\n",
       "      <td>0.00</td>\n",
       "      <td>0.00</td>\n",
       "      <td>0.00</td>\n",
       "    </tr>\n",
       "    <tr>\n",
       "      <th>1515915625468061099</th>\n",
       "      <td>8.00</td>\n",
       "      <td>0.00</td>\n",
       "      <td>0.00</td>\n",
       "      <td>0.00</td>\n",
       "      <td>17.00</td>\n",
       "      <td>0.00</td>\n",
       "      <td>157.00</td>\n",
       "      <td>0.00</td>\n",
       "      <td>0.00</td>\n",
       "      <td>0.00</td>\n",
       "      <td>0.00</td>\n",
       "      <td>0.00</td>\n",
       "      <td>2.00</td>\n",
       "      <td>34.00</td>\n",
       "      <td>0.00</td>\n",
       "      <td>58.00</td>\n",
       "      <td>0.00</td>\n",
       "    </tr>\n",
       "    <tr>\n",
       "      <th>1515915625468061100</th>\n",
       "      <td>0.00</td>\n",
       "      <td>0.00</td>\n",
       "      <td>0.00</td>\n",
       "      <td>0.00</td>\n",
       "      <td>0.00</td>\n",
       "      <td>0.00</td>\n",
       "      <td>0.00</td>\n",
       "      <td>0.00</td>\n",
       "      <td>0.00</td>\n",
       "      <td>0.00</td>\n",
       "      <td>1.00</td>\n",
       "      <td>0.00</td>\n",
       "      <td>1.00</td>\n",
       "      <td>157.00</td>\n",
       "      <td>1.00</td>\n",
       "      <td>267.00</td>\n",
       "      <td>1.00</td>\n",
       "    </tr>\n",
       "    <tr>\n",
       "      <th>1515915625468061170</th>\n",
       "      <td>16.00</td>\n",
       "      <td>0.00</td>\n",
       "      <td>0.00</td>\n",
       "      <td>0.00</td>\n",
       "      <td>19.00</td>\n",
       "      <td>3.00</td>\n",
       "      <td>164.00</td>\n",
       "      <td>0.00</td>\n",
       "      <td>0.00</td>\n",
       "      <td>0.00</td>\n",
       "      <td>0.00</td>\n",
       "      <td>0.00</td>\n",
       "      <td>0.00</td>\n",
       "      <td>12.00</td>\n",
       "      <td>0.00</td>\n",
       "      <td>79.00</td>\n",
       "      <td>0.00</td>\n",
       "    </tr>\n",
       "  </tbody>\n",
       "</table>\n",
       "</div>"
      ],
      "text/plain": [
       "                     email_click_cnt  email_complain_cnt  \\\n",
       "client_id                                                  \n",
       "1515915625468060902            10.00                0.00   \n",
       "1515915625468061003             5.00                0.00   \n",
       "1515915625468061099             8.00                0.00   \n",
       "1515915625468061100             0.00                0.00   \n",
       "1515915625468061170            16.00                0.00   \n",
       "\n",
       "                     email_hard_bounce_cnt  email_hbq_spam_cnt  \\\n",
       "client_id                                                        \n",
       "1515915625468060902                   0.00                0.00   \n",
       "1515915625468061003                   0.00                0.00   \n",
       "1515915625468061099                   0.00                0.00   \n",
       "1515915625468061100                   0.00                0.00   \n",
       "1515915625468061170                   0.00                0.00   \n",
       "\n",
       "                     email_open_cnt  email_purchase_cnt  email_send_cnt  \\\n",
       "client_id                                                                 \n",
       "1515915625468060902           35.00                5.00          126.00   \n",
       "1515915625468061003            5.00                1.00          154.00   \n",
       "1515915625468061099           17.00                0.00          157.00   \n",
       "1515915625468061100            0.00                0.00            0.00   \n",
       "1515915625468061170           19.00                3.00          164.00   \n",
       "\n",
       "                     email_soft_bounce_cnt  email_subscribe_cnt  \\\n",
       "client_id                                                         \n",
       "1515915625468060902                   0.00                 0.00   \n",
       "1515915625468061003                   0.00                 0.00   \n",
       "1515915625468061099                   0.00                 0.00   \n",
       "1515915625468061100                   0.00                 0.00   \n",
       "1515915625468061170                   0.00                 0.00   \n",
       "\n",
       "                     email_unsubscribe_cnt  mobile_push_click_cnt  \\\n",
       "client_id                                                           \n",
       "1515915625468060902                   1.00                   0.00   \n",
       "1515915625468061003                   0.00                   0.00   \n",
       "1515915625468061099                   0.00                   0.00   \n",
       "1515915625468061100                   0.00                   1.00   \n",
       "1515915625468061170                   0.00                   0.00   \n",
       "\n",
       "                     mobile_push_close_cnt  mobile_push_hard_bounce_cnt  \\\n",
       "client_id                                                                 \n",
       "1515915625468060902                   0.00                         0.00   \n",
       "1515915625468061003                   0.00                         0.00   \n",
       "1515915625468061099                   0.00                         2.00   \n",
       "1515915625468061100                   0.00                         1.00   \n",
       "1515915625468061170                   0.00                         0.00   \n",
       "\n",
       "                     mobile_push_open_cnt  mobile_push_purchase_cnt  \\\n",
       "client_id                                                             \n",
       "1515915625468060902                  0.00                      0.00   \n",
       "1515915625468061003                  0.00                      0.00   \n",
       "1515915625468061099                 34.00                      0.00   \n",
       "1515915625468061100                157.00                      1.00   \n",
       "1515915625468061170                 12.00                      0.00   \n",
       "\n",
       "                     mobile_push_send_cnt  mobile_push_soft_bounce_cnt  \n",
       "client_id                                                               \n",
       "1515915625468060902                  0.00                         0.00  \n",
       "1515915625468061003                  0.00                         0.00  \n",
       "1515915625468061099                 58.00                         0.00  \n",
       "1515915625468061100                267.00                         1.00  \n",
       "1515915625468061170                 79.00                         0.00  "
      ]
     },
     "execution_count": 74,
     "metadata": {},
     "output_type": "execute_result"
    }
   ],
   "source": [
    "aggregated_df = apparel_messages.groupby(['client_id', 'channel', 'event']).size().reset_index(name='count')\n",
    "apparel_messages_agg = aggregated_df.pivot_table(index='client_id', columns=['channel', 'event'], values='count', fill_value=0)\n",
    "apparel_messages_agg.columns = [f'{channel}_{event}_cnt' for channel, event in apparel_messages_agg.columns]\n",
    "apparel_messages_agg.head()"
   ]
  },
  {
   "cell_type": "markdown",
   "metadata": {},
   "source": [
    "<div class=\"alert alert-warning\">\n",
    "Тут нужно еще поработать с датами\n",
    "</div>"
   ]
  },
  {
   "cell_type": "markdown",
   "metadata": {},
   "source": [
    "## 6. <a id='toc6_'></a>Преобразование датафрейма `apparel_purchases`     [&#8593;](#toc0_)"
   ]
  },
  {
   "cell_type": "code",
   "execution_count": 75,
   "metadata": {},
   "outputs": [
    {
     "data": {
      "text/html": [
       "<div>\n",
       "<style scoped>\n",
       "    .dataframe tbody tr th:only-of-type {\n",
       "        vertical-align: middle;\n",
       "    }\n",
       "\n",
       "    .dataframe tbody tr th {\n",
       "        vertical-align: top;\n",
       "    }\n",
       "\n",
       "    .dataframe thead th {\n",
       "        text-align: right;\n",
       "    }\n",
       "</style>\n",
       "<table border=\"1\" class=\"dataframe\">\n",
       "  <thead>\n",
       "    <tr style=\"text-align: right;\">\n",
       "      <th></th>\n",
       "      <th>category_ids</th>\n",
       "      <th>client_id</th>\n",
       "      <th>date</th>\n",
       "      <th>message_id</th>\n",
       "      <th>price</th>\n",
       "      <th>quantity</th>\n",
       "    </tr>\n",
       "  </thead>\n",
       "  <tbody>\n",
       "    <tr>\n",
       "      <th>0</th>\n",
       "      <td>['1', '22', '50', '685']</td>\n",
       "      <td>1515915625489044168</td>\n",
       "      <td>2022-07-12</td>\n",
       "      <td>1515915625489044168-5335-62c7d2d6bd056</td>\n",
       "      <td>1799.00</td>\n",
       "      <td>1</td>\n",
       "    </tr>\n",
       "    <tr>\n",
       "      <th>1</th>\n",
       "      <td>['1', '22', '50', '685']</td>\n",
       "      <td>1515915625789566616</td>\n",
       "      <td>2022-08-07</td>\n",
       "      <td>1515915625789566616-5785-62ecc38c85606</td>\n",
       "      <td>1799.00</td>\n",
       "      <td>1</td>\n",
       "    </tr>\n",
       "    <tr>\n",
       "      <th>2</th>\n",
       "      <td>['1', '8', '280', '710']</td>\n",
       "      <td>1515915625666901395</td>\n",
       "      <td>2022-06-01</td>\n",
       "      <td>1515915625666901395-4698-62971583c7270</td>\n",
       "      <td>199.00</td>\n",
       "      <td>1</td>\n",
       "    </tr>\n",
       "    <tr>\n",
       "      <th>3</th>\n",
       "      <td>['2', '17', '107', '453']</td>\n",
       "      <td>1515915625468069875</td>\n",
       "      <td>2022-07-09</td>\n",
       "      <td>1515915625487285028-5335-62c7d2b9eef22</td>\n",
       "      <td>999.00</td>\n",
       "      <td>1</td>\n",
       "    </tr>\n",
       "    <tr>\n",
       "      <th>4</th>\n",
       "      <td>['2', '17', '107', '453']</td>\n",
       "      <td>1515915625468124765</td>\n",
       "      <td>2022-07-08</td>\n",
       "      <td>1515915625468124765-5335-62c7d2d245db8</td>\n",
       "      <td>999.00</td>\n",
       "      <td>1</td>\n",
       "    </tr>\n",
       "  </tbody>\n",
       "</table>\n",
       "</div>"
      ],
      "text/plain": [
       "                category_ids            client_id       date  \\\n",
       "0   ['1', '22', '50', '685']  1515915625489044168 2022-07-12   \n",
       "1   ['1', '22', '50', '685']  1515915625789566616 2022-08-07   \n",
       "2   ['1', '8', '280', '710']  1515915625666901395 2022-06-01   \n",
       "3  ['2', '17', '107', '453']  1515915625468069875 2022-07-09   \n",
       "4  ['2', '17', '107', '453']  1515915625468124765 2022-07-08   \n",
       "\n",
       "                               message_id   price  quantity  \n",
       "0  1515915625489044168-5335-62c7d2d6bd056 1799.00         1  \n",
       "1  1515915625789566616-5785-62ecc38c85606 1799.00         1  \n",
       "2  1515915625666901395-4698-62971583c7270  199.00         1  \n",
       "3  1515915625487285028-5335-62c7d2b9eef22  999.00         1  \n",
       "4  1515915625468124765-5335-62c7d2d245db8  999.00         1  "
      ]
     },
     "execution_count": 75,
     "metadata": {},
     "output_type": "execute_result"
    }
   ],
   "source": [
    "apparel_purchases.head()"
   ]
  },
  {
   "cell_type": "code",
   "execution_count": 76,
   "metadata": {},
   "outputs": [
    {
     "data": {
      "text/plain": [
       "(129018, 49849, 50204)"
      ]
     },
     "execution_count": 76,
     "metadata": {},
     "output_type": "execute_result"
    }
   ],
   "source": [
    "len(apparel_purchases), apparel_purchases['client_id'].nunique(), apparel_purchases['message_id'].nunique()"
   ]
  },
  {
   "cell_type": "code",
   "execution_count": 77,
   "metadata": {},
   "outputs": [],
   "source": [
    "apparel_purchases['subtotal'] = apparel_purchases['price'] * apparel_purchases['quantity']"
   ]
  },
  {
   "cell_type": "code",
   "execution_count": 78,
   "metadata": {},
   "outputs": [],
   "source": [
    "apparel_purchases_agg = pd.DataFrame(index=apparel_purchases['client_id'].unique())"
   ]
  },
  {
   "cell_type": "code",
   "execution_count": 79,
   "metadata": {},
   "outputs": [],
   "source": [
    "apparel_purchases_agg['total'] = apparel_purchases.groupby('client_id')['subtotal'].sum()"
   ]
  },
  {
   "cell_type": "code",
   "execution_count": 80,
   "metadata": {},
   "outputs": [],
   "source": [
    "max_date = apparel_purchases['date'].max() + pd.Timedelta(days=1)"
   ]
  },
  {
   "cell_type": "code",
   "execution_count": 81,
   "metadata": {},
   "outputs": [],
   "source": [
    "apparel_purchases['days_from_last_purchase'] = (max_date - apparel_purchases.groupby('client_id')['date'].max()).dt.days"
   ]
  },
  {
   "cell_type": "markdown",
   "metadata": {},
   "source": [
    "<div class='alert alert-warning'>\n",
    "Тут можно поработать с датами и категориями\n",
    "</div>"
   ]
  },
  {
   "cell_type": "code",
   "execution_count": 82,
   "metadata": {},
   "outputs": [
    {
     "data": {
      "text/html": [
       "<div>\n",
       "<style scoped>\n",
       "    .dataframe tbody tr th:only-of-type {\n",
       "        vertical-align: middle;\n",
       "    }\n",
       "\n",
       "    .dataframe tbody tr th {\n",
       "        vertical-align: top;\n",
       "    }\n",
       "\n",
       "    .dataframe thead th {\n",
       "        text-align: right;\n",
       "    }\n",
       "</style>\n",
       "<table border=\"1\" class=\"dataframe\">\n",
       "  <thead>\n",
       "    <tr style=\"text-align: right;\">\n",
       "      <th></th>\n",
       "      <th>total</th>\n",
       "    </tr>\n",
       "  </thead>\n",
       "  <tbody>\n",
       "    <tr>\n",
       "      <th>1515915625489044168</th>\n",
       "      <td>3996.00</td>\n",
       "    </tr>\n",
       "    <tr>\n",
       "      <th>1515915625789566616</th>\n",
       "      <td>3198.00</td>\n",
       "    </tr>\n",
       "    <tr>\n",
       "      <th>1515915625666901395</th>\n",
       "      <td>36235.00</td>\n",
       "    </tr>\n",
       "    <tr>\n",
       "      <th>1515915625468069875</th>\n",
       "      <td>1397.00</td>\n",
       "    </tr>\n",
       "    <tr>\n",
       "      <th>1515915625468124765</th>\n",
       "      <td>999.00</td>\n",
       "    </tr>\n",
       "  </tbody>\n",
       "</table>\n",
       "</div>"
      ],
      "text/plain": [
       "                       total\n",
       "1515915625489044168  3996.00\n",
       "1515915625789566616  3198.00\n",
       "1515915625666901395 36235.00\n",
       "1515915625468069875  1397.00\n",
       "1515915625468124765   999.00"
      ]
     },
     "execution_count": 82,
     "metadata": {},
     "output_type": "execute_result"
    }
   ],
   "source": [
    "apparel_purchases_agg.head()"
   ]
  },
  {
   "cell_type": "code",
   "execution_count": 83,
   "metadata": {},
   "outputs": [],
   "source": [
    "assert len(apparel_purchases_agg) == apparel_purchases['client_id'].nunique(),\\\n",
    "    'Количество ID сообщений не совпадает в общей и агрегированной таблицах'"
   ]
  },
  {
   "cell_type": "markdown",
   "metadata": {},
   "source": [
    "## 7. <a id='toc7_'></a>Объединение датафреймов       [&#8593;](#toc0_)"
   ]
  },
  {
   "cell_type": "markdown",
   "metadata": {},
   "source": [
    "### 7.1. <a id='toc7_1_'></a>Объединение      [&#8593;](#toc0_)"
   ]
  },
  {
   "cell_type": "markdown",
   "metadata": {},
   "source": [
    "Объединим таблицы в один датафрейм."
   ]
  },
  {
   "cell_type": "code",
   "execution_count": 84,
   "metadata": {},
   "outputs": [
    {
     "data": {
      "text/html": [
       "<div>\n",
       "<style scoped>\n",
       "    .dataframe tbody tr th:only-of-type {\n",
       "        vertical-align: middle;\n",
       "    }\n",
       "\n",
       "    .dataframe tbody tr th {\n",
       "        vertical-align: top;\n",
       "    }\n",
       "\n",
       "    .dataframe thead th {\n",
       "        text-align: right;\n",
       "    }\n",
       "</style>\n",
       "<table border=\"1\" class=\"dataframe\">\n",
       "  <thead>\n",
       "    <tr style=\"text-align: right;\">\n",
       "      <th></th>\n",
       "      <th>client_id</th>\n",
       "      <th>target</th>\n",
       "    </tr>\n",
       "  </thead>\n",
       "  <tbody>\n",
       "    <tr>\n",
       "      <th>0</th>\n",
       "      <td>1515915625468060902</td>\n",
       "      <td>0</td>\n",
       "    </tr>\n",
       "    <tr>\n",
       "      <th>1</th>\n",
       "      <td>1515915625468061003</td>\n",
       "      <td>1</td>\n",
       "    </tr>\n",
       "    <tr>\n",
       "      <th>2</th>\n",
       "      <td>1515915625468061099</td>\n",
       "      <td>0</td>\n",
       "    </tr>\n",
       "    <tr>\n",
       "      <th>3</th>\n",
       "      <td>1515915625468061100</td>\n",
       "      <td>0</td>\n",
       "    </tr>\n",
       "    <tr>\n",
       "      <th>4</th>\n",
       "      <td>1515915625468061170</td>\n",
       "      <td>0</td>\n",
       "    </tr>\n",
       "  </tbody>\n",
       "</table>\n",
       "</div>"
      ],
      "text/plain": [
       "             client_id  target\n",
       "0  1515915625468060902       0\n",
       "1  1515915625468061003       1\n",
       "2  1515915625468061099       0\n",
       "3  1515915625468061100       0\n",
       "4  1515915625468061170       0"
      ]
     },
     "execution_count": 84,
     "metadata": {},
     "output_type": "execute_result"
    }
   ],
   "source": [
    "apparel_target_binary.sort_index().head()"
   ]
  },
  {
   "cell_type": "code",
   "execution_count": 85,
   "metadata": {},
   "outputs": [
    {
     "data": {
      "text/html": [
       "<div>\n",
       "<style scoped>\n",
       "    .dataframe tbody tr th:only-of-type {\n",
       "        vertical-align: middle;\n",
       "    }\n",
       "\n",
       "    .dataframe tbody tr th {\n",
       "        vertical-align: top;\n",
       "    }\n",
       "\n",
       "    .dataframe thead th {\n",
       "        text-align: right;\n",
       "    }\n",
       "</style>\n",
       "<table border=\"1\" class=\"dataframe\">\n",
       "  <thead>\n",
       "    <tr style=\"text-align: right;\">\n",
       "      <th></th>\n",
       "      <th>total</th>\n",
       "    </tr>\n",
       "  </thead>\n",
       "  <tbody>\n",
       "    <tr>\n",
       "      <th>1515915625468060902</th>\n",
       "      <td>6993.00</td>\n",
       "    </tr>\n",
       "    <tr>\n",
       "      <th>1515915625468061003</th>\n",
       "      <td>16235.00</td>\n",
       "    </tr>\n",
       "    <tr>\n",
       "      <th>1515915625468061099</th>\n",
       "      <td>299.00</td>\n",
       "    </tr>\n",
       "    <tr>\n",
       "      <th>1515915625468061100</th>\n",
       "      <td>2098.00</td>\n",
       "    </tr>\n",
       "    <tr>\n",
       "      <th>1515915625468061170</th>\n",
       "      <td>33601.00</td>\n",
       "    </tr>\n",
       "  </tbody>\n",
       "</table>\n",
       "</div>"
      ],
      "text/plain": [
       "                       total\n",
       "1515915625468060902  6993.00\n",
       "1515915625468061003 16235.00\n",
       "1515915625468061099   299.00\n",
       "1515915625468061100  2098.00\n",
       "1515915625468061170 33601.00"
      ]
     },
     "execution_count": 85,
     "metadata": {},
     "output_type": "execute_result"
    }
   ],
   "source": [
    "apparel_purchases_agg.sort_index().head()"
   ]
  },
  {
   "cell_type": "code",
   "execution_count": 86,
   "metadata": {},
   "outputs": [],
   "source": [
    "assert len(apparel_target_binary) == len(apparel_purchases_agg),\\\n",
    "    'Количество ID клиентов не совпадает (или есть дубликаты)'"
   ]
  },
  {
   "cell_type": "code",
   "execution_count": 87,
   "metadata": {},
   "outputs": [
    {
     "data": {
      "text/html": [
       "<div>\n",
       "<style scoped>\n",
       "    .dataframe tbody tr th:only-of-type {\n",
       "        vertical-align: middle;\n",
       "    }\n",
       "\n",
       "    .dataframe tbody tr th {\n",
       "        vertical-align: top;\n",
       "    }\n",
       "\n",
       "    .dataframe thead th {\n",
       "        text-align: right;\n",
       "    }\n",
       "</style>\n",
       "<table border=\"1\" class=\"dataframe\">\n",
       "  <thead>\n",
       "    <tr style=\"text-align: right;\">\n",
       "      <th></th>\n",
       "      <th>client_id</th>\n",
       "      <th>target</th>\n",
       "      <th>total</th>\n",
       "    </tr>\n",
       "  </thead>\n",
       "  <tbody>\n",
       "    <tr>\n",
       "      <th>0</th>\n",
       "      <td>1515915625468060902</td>\n",
       "      <td>0</td>\n",
       "      <td>6993.00</td>\n",
       "    </tr>\n",
       "    <tr>\n",
       "      <th>1</th>\n",
       "      <td>1515915625468061003</td>\n",
       "      <td>1</td>\n",
       "      <td>16235.00</td>\n",
       "    </tr>\n",
       "    <tr>\n",
       "      <th>2</th>\n",
       "      <td>1515915625468061099</td>\n",
       "      <td>0</td>\n",
       "      <td>299.00</td>\n",
       "    </tr>\n",
       "    <tr>\n",
       "      <th>3</th>\n",
       "      <td>1515915625468061100</td>\n",
       "      <td>0</td>\n",
       "      <td>2098.00</td>\n",
       "    </tr>\n",
       "    <tr>\n",
       "      <th>4</th>\n",
       "      <td>1515915625468061170</td>\n",
       "      <td>0</td>\n",
       "      <td>33601.00</td>\n",
       "    </tr>\n",
       "  </tbody>\n",
       "</table>\n",
       "</div>"
      ],
      "text/plain": [
       "             client_id  target    total\n",
       "0  1515915625468060902       0  6993.00\n",
       "1  1515915625468061003       1 16235.00\n",
       "2  1515915625468061099       0   299.00\n",
       "3  1515915625468061100       0  2098.00\n",
       "4  1515915625468061170       0 33601.00"
      ]
     },
     "execution_count": 87,
     "metadata": {},
     "output_type": "execute_result"
    }
   ],
   "source": [
    "df = pd.merge(apparel_target_binary, apparel_purchases_agg, how='left', left_on='client_id', right_index=True)\n",
    "df.head()"
   ]
  },
  {
   "cell_type": "markdown",
   "metadata": {},
   "source": [
    "---"
   ]
  },
  {
   "cell_type": "code",
   "execution_count": 88,
   "metadata": {},
   "outputs": [
    {
     "data": {
      "text/html": [
       "<div>\n",
       "<style scoped>\n",
       "    .dataframe tbody tr th:only-of-type {\n",
       "        vertical-align: middle;\n",
       "    }\n",
       "\n",
       "    .dataframe tbody tr th {\n",
       "        vertical-align: top;\n",
       "    }\n",
       "\n",
       "    .dataframe thead th {\n",
       "        text-align: right;\n",
       "    }\n",
       "</style>\n",
       "<table border=\"1\" class=\"dataframe\">\n",
       "  <thead>\n",
       "    <tr style=\"text-align: right;\">\n",
       "      <th></th>\n",
       "      <th>email_click_cnt</th>\n",
       "      <th>email_complain_cnt</th>\n",
       "      <th>email_hard_bounce_cnt</th>\n",
       "      <th>email_hbq_spam_cnt</th>\n",
       "      <th>email_open_cnt</th>\n",
       "      <th>email_purchase_cnt</th>\n",
       "      <th>email_send_cnt</th>\n",
       "      <th>email_soft_bounce_cnt</th>\n",
       "      <th>email_subscribe_cnt</th>\n",
       "      <th>email_unsubscribe_cnt</th>\n",
       "      <th>mobile_push_click_cnt</th>\n",
       "      <th>mobile_push_close_cnt</th>\n",
       "      <th>mobile_push_hard_bounce_cnt</th>\n",
       "      <th>mobile_push_open_cnt</th>\n",
       "      <th>mobile_push_purchase_cnt</th>\n",
       "      <th>mobile_push_send_cnt</th>\n",
       "      <th>mobile_push_soft_bounce_cnt</th>\n",
       "    </tr>\n",
       "    <tr>\n",
       "      <th>client_id</th>\n",
       "      <th></th>\n",
       "      <th></th>\n",
       "      <th></th>\n",
       "      <th></th>\n",
       "      <th></th>\n",
       "      <th></th>\n",
       "      <th></th>\n",
       "      <th></th>\n",
       "      <th></th>\n",
       "      <th></th>\n",
       "      <th></th>\n",
       "      <th></th>\n",
       "      <th></th>\n",
       "      <th></th>\n",
       "      <th></th>\n",
       "      <th></th>\n",
       "      <th></th>\n",
       "    </tr>\n",
       "  </thead>\n",
       "  <tbody>\n",
       "    <tr>\n",
       "      <th>1515915625468060902</th>\n",
       "      <td>10.00</td>\n",
       "      <td>0.00</td>\n",
       "      <td>0.00</td>\n",
       "      <td>0.00</td>\n",
       "      <td>35.00</td>\n",
       "      <td>5.00</td>\n",
       "      <td>126.00</td>\n",
       "      <td>0.00</td>\n",
       "      <td>0.00</td>\n",
       "      <td>1.00</td>\n",
       "      <td>0.00</td>\n",
       "      <td>0.00</td>\n",
       "      <td>0.00</td>\n",
       "      <td>0.00</td>\n",
       "      <td>0.00</td>\n",
       "      <td>0.00</td>\n",
       "      <td>0.00</td>\n",
       "    </tr>\n",
       "    <tr>\n",
       "      <th>1515915625468061003</th>\n",
       "      <td>5.00</td>\n",
       "      <td>0.00</td>\n",
       "      <td>0.00</td>\n",
       "      <td>0.00</td>\n",
       "      <td>5.00</td>\n",
       "      <td>1.00</td>\n",
       "      <td>154.00</td>\n",
       "      <td>0.00</td>\n",
       "      <td>0.00</td>\n",
       "      <td>0.00</td>\n",
       "      <td>0.00</td>\n",
       "      <td>0.00</td>\n",
       "      <td>0.00</td>\n",
       "      <td>0.00</td>\n",
       "      <td>0.00</td>\n",
       "      <td>0.00</td>\n",
       "      <td>0.00</td>\n",
       "    </tr>\n",
       "    <tr>\n",
       "      <th>1515915625468061099</th>\n",
       "      <td>8.00</td>\n",
       "      <td>0.00</td>\n",
       "      <td>0.00</td>\n",
       "      <td>0.00</td>\n",
       "      <td>17.00</td>\n",
       "      <td>0.00</td>\n",
       "      <td>157.00</td>\n",
       "      <td>0.00</td>\n",
       "      <td>0.00</td>\n",
       "      <td>0.00</td>\n",
       "      <td>0.00</td>\n",
       "      <td>0.00</td>\n",
       "      <td>2.00</td>\n",
       "      <td>34.00</td>\n",
       "      <td>0.00</td>\n",
       "      <td>58.00</td>\n",
       "      <td>0.00</td>\n",
       "    </tr>\n",
       "    <tr>\n",
       "      <th>1515915625468061100</th>\n",
       "      <td>0.00</td>\n",
       "      <td>0.00</td>\n",
       "      <td>0.00</td>\n",
       "      <td>0.00</td>\n",
       "      <td>0.00</td>\n",
       "      <td>0.00</td>\n",
       "      <td>0.00</td>\n",
       "      <td>0.00</td>\n",
       "      <td>0.00</td>\n",
       "      <td>0.00</td>\n",
       "      <td>1.00</td>\n",
       "      <td>0.00</td>\n",
       "      <td>1.00</td>\n",
       "      <td>157.00</td>\n",
       "      <td>1.00</td>\n",
       "      <td>267.00</td>\n",
       "      <td>1.00</td>\n",
       "    </tr>\n",
       "    <tr>\n",
       "      <th>1515915625468061170</th>\n",
       "      <td>16.00</td>\n",
       "      <td>0.00</td>\n",
       "      <td>0.00</td>\n",
       "      <td>0.00</td>\n",
       "      <td>19.00</td>\n",
       "      <td>3.00</td>\n",
       "      <td>164.00</td>\n",
       "      <td>0.00</td>\n",
       "      <td>0.00</td>\n",
       "      <td>0.00</td>\n",
       "      <td>0.00</td>\n",
       "      <td>0.00</td>\n",
       "      <td>0.00</td>\n",
       "      <td>12.00</td>\n",
       "      <td>0.00</td>\n",
       "      <td>79.00</td>\n",
       "      <td>0.00</td>\n",
       "    </tr>\n",
       "  </tbody>\n",
       "</table>\n",
       "</div>"
      ],
      "text/plain": [
       "                     email_click_cnt  email_complain_cnt  \\\n",
       "client_id                                                  \n",
       "1515915625468060902            10.00                0.00   \n",
       "1515915625468061003             5.00                0.00   \n",
       "1515915625468061099             8.00                0.00   \n",
       "1515915625468061100             0.00                0.00   \n",
       "1515915625468061170            16.00                0.00   \n",
       "\n",
       "                     email_hard_bounce_cnt  email_hbq_spam_cnt  \\\n",
       "client_id                                                        \n",
       "1515915625468060902                   0.00                0.00   \n",
       "1515915625468061003                   0.00                0.00   \n",
       "1515915625468061099                   0.00                0.00   \n",
       "1515915625468061100                   0.00                0.00   \n",
       "1515915625468061170                   0.00                0.00   \n",
       "\n",
       "                     email_open_cnt  email_purchase_cnt  email_send_cnt  \\\n",
       "client_id                                                                 \n",
       "1515915625468060902           35.00                5.00          126.00   \n",
       "1515915625468061003            5.00                1.00          154.00   \n",
       "1515915625468061099           17.00                0.00          157.00   \n",
       "1515915625468061100            0.00                0.00            0.00   \n",
       "1515915625468061170           19.00                3.00          164.00   \n",
       "\n",
       "                     email_soft_bounce_cnt  email_subscribe_cnt  \\\n",
       "client_id                                                         \n",
       "1515915625468060902                   0.00                 0.00   \n",
       "1515915625468061003                   0.00                 0.00   \n",
       "1515915625468061099                   0.00                 0.00   \n",
       "1515915625468061100                   0.00                 0.00   \n",
       "1515915625468061170                   0.00                 0.00   \n",
       "\n",
       "                     email_unsubscribe_cnt  mobile_push_click_cnt  \\\n",
       "client_id                                                           \n",
       "1515915625468060902                   1.00                   0.00   \n",
       "1515915625468061003                   0.00                   0.00   \n",
       "1515915625468061099                   0.00                   0.00   \n",
       "1515915625468061100                   0.00                   1.00   \n",
       "1515915625468061170                   0.00                   0.00   \n",
       "\n",
       "                     mobile_push_close_cnt  mobile_push_hard_bounce_cnt  \\\n",
       "client_id                                                                 \n",
       "1515915625468060902                   0.00                         0.00   \n",
       "1515915625468061003                   0.00                         0.00   \n",
       "1515915625468061099                   0.00                         2.00   \n",
       "1515915625468061100                   0.00                         1.00   \n",
       "1515915625468061170                   0.00                         0.00   \n",
       "\n",
       "                     mobile_push_open_cnt  mobile_push_purchase_cnt  \\\n",
       "client_id                                                             \n",
       "1515915625468060902                  0.00                      0.00   \n",
       "1515915625468061003                  0.00                      0.00   \n",
       "1515915625468061099                 34.00                      0.00   \n",
       "1515915625468061100                157.00                      1.00   \n",
       "1515915625468061170                 12.00                      0.00   \n",
       "\n",
       "                     mobile_push_send_cnt  mobile_push_soft_bounce_cnt  \n",
       "client_id                                                               \n",
       "1515915625468060902                  0.00                         0.00  \n",
       "1515915625468061003                  0.00                         0.00  \n",
       "1515915625468061099                 58.00                         0.00  \n",
       "1515915625468061100                267.00                         1.00  \n",
       "1515915625468061170                 79.00                         0.00  "
      ]
     },
     "execution_count": 88,
     "metadata": {},
     "output_type": "execute_result"
    }
   ],
   "source": [
    "apparel_messages_agg.head()"
   ]
  },
  {
   "cell_type": "code",
   "execution_count": 89,
   "metadata": {},
   "outputs": [
    {
     "data": {
      "text/html": [
       "<div>\n",
       "<style scoped>\n",
       "    .dataframe tbody tr th:only-of-type {\n",
       "        vertical-align: middle;\n",
       "    }\n",
       "\n",
       "    .dataframe tbody tr th {\n",
       "        vertical-align: top;\n",
       "    }\n",
       "\n",
       "    .dataframe thead th {\n",
       "        text-align: right;\n",
       "    }\n",
       "</style>\n",
       "<table border=\"1\" class=\"dataframe\">\n",
       "  <thead>\n",
       "    <tr style=\"text-align: right;\">\n",
       "      <th></th>\n",
       "      <th>target</th>\n",
       "      <th>total</th>\n",
       "      <th>email_click_cnt</th>\n",
       "      <th>email_complain_cnt</th>\n",
       "      <th>email_hard_bounce_cnt</th>\n",
       "      <th>email_hbq_spam_cnt</th>\n",
       "      <th>email_open_cnt</th>\n",
       "      <th>email_purchase_cnt</th>\n",
       "      <th>email_send_cnt</th>\n",
       "      <th>email_soft_bounce_cnt</th>\n",
       "      <th>email_subscribe_cnt</th>\n",
       "      <th>email_unsubscribe_cnt</th>\n",
       "      <th>mobile_push_click_cnt</th>\n",
       "      <th>mobile_push_close_cnt</th>\n",
       "      <th>mobile_push_hard_bounce_cnt</th>\n",
       "      <th>mobile_push_open_cnt</th>\n",
       "      <th>mobile_push_purchase_cnt</th>\n",
       "      <th>mobile_push_send_cnt</th>\n",
       "      <th>mobile_push_soft_bounce_cnt</th>\n",
       "    </tr>\n",
       "    <tr>\n",
       "      <th>client_id</th>\n",
       "      <th></th>\n",
       "      <th></th>\n",
       "      <th></th>\n",
       "      <th></th>\n",
       "      <th></th>\n",
       "      <th></th>\n",
       "      <th></th>\n",
       "      <th></th>\n",
       "      <th></th>\n",
       "      <th></th>\n",
       "      <th></th>\n",
       "      <th></th>\n",
       "      <th></th>\n",
       "      <th></th>\n",
       "      <th></th>\n",
       "      <th></th>\n",
       "      <th></th>\n",
       "      <th></th>\n",
       "      <th></th>\n",
       "    </tr>\n",
       "  </thead>\n",
       "  <tbody>\n",
       "    <tr>\n",
       "      <th>1515915625468060902</th>\n",
       "      <td>0</td>\n",
       "      <td>6993.00</td>\n",
       "      <td>10.00</td>\n",
       "      <td>0.00</td>\n",
       "      <td>0.00</td>\n",
       "      <td>0.00</td>\n",
       "      <td>35.00</td>\n",
       "      <td>5.00</td>\n",
       "      <td>126.00</td>\n",
       "      <td>0.00</td>\n",
       "      <td>0.00</td>\n",
       "      <td>1.00</td>\n",
       "      <td>0.00</td>\n",
       "      <td>0.00</td>\n",
       "      <td>0.00</td>\n",
       "      <td>0.00</td>\n",
       "      <td>0.00</td>\n",
       "      <td>0.00</td>\n",
       "      <td>0.00</td>\n",
       "    </tr>\n",
       "    <tr>\n",
       "      <th>1515915625468061003</th>\n",
       "      <td>1</td>\n",
       "      <td>16235.00</td>\n",
       "      <td>5.00</td>\n",
       "      <td>0.00</td>\n",
       "      <td>0.00</td>\n",
       "      <td>0.00</td>\n",
       "      <td>5.00</td>\n",
       "      <td>1.00</td>\n",
       "      <td>154.00</td>\n",
       "      <td>0.00</td>\n",
       "      <td>0.00</td>\n",
       "      <td>0.00</td>\n",
       "      <td>0.00</td>\n",
       "      <td>0.00</td>\n",
       "      <td>0.00</td>\n",
       "      <td>0.00</td>\n",
       "      <td>0.00</td>\n",
       "      <td>0.00</td>\n",
       "      <td>0.00</td>\n",
       "    </tr>\n",
       "    <tr>\n",
       "      <th>1515915625468061099</th>\n",
       "      <td>0</td>\n",
       "      <td>299.00</td>\n",
       "      <td>8.00</td>\n",
       "      <td>0.00</td>\n",
       "      <td>0.00</td>\n",
       "      <td>0.00</td>\n",
       "      <td>17.00</td>\n",
       "      <td>0.00</td>\n",
       "      <td>157.00</td>\n",
       "      <td>0.00</td>\n",
       "      <td>0.00</td>\n",
       "      <td>0.00</td>\n",
       "      <td>0.00</td>\n",
       "      <td>0.00</td>\n",
       "      <td>2.00</td>\n",
       "      <td>34.00</td>\n",
       "      <td>0.00</td>\n",
       "      <td>58.00</td>\n",
       "      <td>0.00</td>\n",
       "    </tr>\n",
       "    <tr>\n",
       "      <th>1515915625468061100</th>\n",
       "      <td>0</td>\n",
       "      <td>2098.00</td>\n",
       "      <td>0.00</td>\n",
       "      <td>0.00</td>\n",
       "      <td>0.00</td>\n",
       "      <td>0.00</td>\n",
       "      <td>0.00</td>\n",
       "      <td>0.00</td>\n",
       "      <td>0.00</td>\n",
       "      <td>0.00</td>\n",
       "      <td>0.00</td>\n",
       "      <td>0.00</td>\n",
       "      <td>1.00</td>\n",
       "      <td>0.00</td>\n",
       "      <td>1.00</td>\n",
       "      <td>157.00</td>\n",
       "      <td>1.00</td>\n",
       "      <td>267.00</td>\n",
       "      <td>1.00</td>\n",
       "    </tr>\n",
       "    <tr>\n",
       "      <th>1515915625468061170</th>\n",
       "      <td>0</td>\n",
       "      <td>33601.00</td>\n",
       "      <td>16.00</td>\n",
       "      <td>0.00</td>\n",
       "      <td>0.00</td>\n",
       "      <td>0.00</td>\n",
       "      <td>19.00</td>\n",
       "      <td>3.00</td>\n",
       "      <td>164.00</td>\n",
       "      <td>0.00</td>\n",
       "      <td>0.00</td>\n",
       "      <td>0.00</td>\n",
       "      <td>0.00</td>\n",
       "      <td>0.00</td>\n",
       "      <td>0.00</td>\n",
       "      <td>12.00</td>\n",
       "      <td>0.00</td>\n",
       "      <td>79.00</td>\n",
       "      <td>0.00</td>\n",
       "    </tr>\n",
       "  </tbody>\n",
       "</table>\n",
       "</div>"
      ],
      "text/plain": [
       "                     target    total  email_click_cnt  email_complain_cnt  \\\n",
       "client_id                                                                   \n",
       "1515915625468060902       0  6993.00            10.00                0.00   \n",
       "1515915625468061003       1 16235.00             5.00                0.00   \n",
       "1515915625468061099       0   299.00             8.00                0.00   \n",
       "1515915625468061100       0  2098.00             0.00                0.00   \n",
       "1515915625468061170       0 33601.00            16.00                0.00   \n",
       "\n",
       "                     email_hard_bounce_cnt  email_hbq_spam_cnt  \\\n",
       "client_id                                                        \n",
       "1515915625468060902                   0.00                0.00   \n",
       "1515915625468061003                   0.00                0.00   \n",
       "1515915625468061099                   0.00                0.00   \n",
       "1515915625468061100                   0.00                0.00   \n",
       "1515915625468061170                   0.00                0.00   \n",
       "\n",
       "                     email_open_cnt  email_purchase_cnt  email_send_cnt  \\\n",
       "client_id                                                                 \n",
       "1515915625468060902           35.00                5.00          126.00   \n",
       "1515915625468061003            5.00                1.00          154.00   \n",
       "1515915625468061099           17.00                0.00          157.00   \n",
       "1515915625468061100            0.00                0.00            0.00   \n",
       "1515915625468061170           19.00                3.00          164.00   \n",
       "\n",
       "                     email_soft_bounce_cnt  email_subscribe_cnt  \\\n",
       "client_id                                                         \n",
       "1515915625468060902                   0.00                 0.00   \n",
       "1515915625468061003                   0.00                 0.00   \n",
       "1515915625468061099                   0.00                 0.00   \n",
       "1515915625468061100                   0.00                 0.00   \n",
       "1515915625468061170                   0.00                 0.00   \n",
       "\n",
       "                     email_unsubscribe_cnt  mobile_push_click_cnt  \\\n",
       "client_id                                                           \n",
       "1515915625468060902                   1.00                   0.00   \n",
       "1515915625468061003                   0.00                   0.00   \n",
       "1515915625468061099                   0.00                   0.00   \n",
       "1515915625468061100                   0.00                   1.00   \n",
       "1515915625468061170                   0.00                   0.00   \n",
       "\n",
       "                     mobile_push_close_cnt  mobile_push_hard_bounce_cnt  \\\n",
       "client_id                                                                 \n",
       "1515915625468060902                   0.00                         0.00   \n",
       "1515915625468061003                   0.00                         0.00   \n",
       "1515915625468061099                   0.00                         2.00   \n",
       "1515915625468061100                   0.00                         1.00   \n",
       "1515915625468061170                   0.00                         0.00   \n",
       "\n",
       "                     mobile_push_open_cnt  mobile_push_purchase_cnt  \\\n",
       "client_id                                                             \n",
       "1515915625468060902                  0.00                      0.00   \n",
       "1515915625468061003                  0.00                      0.00   \n",
       "1515915625468061099                 34.00                      0.00   \n",
       "1515915625468061100                157.00                      1.00   \n",
       "1515915625468061170                 12.00                      0.00   \n",
       "\n",
       "                     mobile_push_send_cnt  mobile_push_soft_bounce_cnt  \n",
       "client_id                                                               \n",
       "1515915625468060902                  0.00                         0.00  \n",
       "1515915625468061003                  0.00                         0.00  \n",
       "1515915625468061099                 58.00                         0.00  \n",
       "1515915625468061100                267.00                         1.00  \n",
       "1515915625468061170                 79.00                         0.00  "
      ]
     },
     "execution_count": 89,
     "metadata": {},
     "output_type": "execute_result"
    }
   ],
   "source": [
    "df = pd.merge(df, apparel_messages_agg, how='left', left_on='client_id', right_index=True)\n",
    "df = df.set_index('client_id')\n",
    "df.head()"
   ]
  },
  {
   "cell_type": "markdown",
   "metadata": {},
   "source": [
    "### 7.2. <a id='toc7_2_'></a>Проверки       [&#8593;](#toc0_)"
   ]
  },
  {
   "cell_type": "markdown",
   "metadata": {},
   "source": [
    "Проверим типы данных после объединения:"
   ]
  },
  {
   "cell_type": "code",
   "execution_count": 90,
   "metadata": {},
   "outputs": [
    {
     "name": "stdout",
     "output_type": "stream",
     "text": [
      "<class 'pandas.core.frame.DataFrame'>\n",
      "Index: 49849 entries, 1515915625468060902 to 1515915626010443624\n",
      "Data columns (total 19 columns):\n",
      " #   Column                       Non-Null Count  Dtype  \n",
      "---  ------                       --------------  -----  \n",
      " 0   target                       49849 non-null  int8   \n",
      " 1   total                        49849 non-null  float32\n",
      " 2   email_click_cnt              41982 non-null  float64\n",
      " 3   email_complain_cnt           41982 non-null  float64\n",
      " 4   email_hard_bounce_cnt        41982 non-null  float64\n",
      " 5   email_hbq_spam_cnt           41982 non-null  float64\n",
      " 6   email_open_cnt               41982 non-null  float64\n",
      " 7   email_purchase_cnt           41982 non-null  float64\n",
      " 8   email_send_cnt               41982 non-null  float64\n",
      " 9   email_soft_bounce_cnt        41982 non-null  float64\n",
      " 10  email_subscribe_cnt          41982 non-null  float64\n",
      " 11  email_unsubscribe_cnt        41982 non-null  float64\n",
      " 12  mobile_push_click_cnt        41982 non-null  float64\n",
      " 13  mobile_push_close_cnt        41982 non-null  float64\n",
      " 14  mobile_push_hard_bounce_cnt  41982 non-null  float64\n",
      " 15  mobile_push_open_cnt         41982 non-null  float64\n",
      " 16  mobile_push_purchase_cnt     41982 non-null  float64\n",
      " 17  mobile_push_send_cnt         41982 non-null  float64\n",
      " 18  mobile_push_soft_bounce_cnt  41982 non-null  float64\n",
      "dtypes: float32(1), float64(17), int8(1)\n",
      "memory usage: 7.1 MB\n"
     ]
    }
   ],
   "source": [
    "df.info()"
   ]
  },
  {
   "cell_type": "markdown",
   "metadata": {},
   "source": [
    "Видно большое количество пропусков в информации о рассылке. Изучим дополнительно."
   ]
  },
  {
   "cell_type": "code",
   "execution_count": 91,
   "metadata": {},
   "outputs": [],
   "source": [
    "mask = df['email_click_cnt'].isna()\n",
    "na_ids = df.loc[mask].index.tolist()"
   ]
  },
  {
   "cell_type": "code",
   "execution_count": 92,
   "metadata": {},
   "outputs": [
    {
     "data": {
      "text/html": [
       "<div>\n",
       "<style scoped>\n",
       "    .dataframe tbody tr th:only-of-type {\n",
       "        vertical-align: middle;\n",
       "    }\n",
       "\n",
       "    .dataframe tbody tr th {\n",
       "        vertical-align: top;\n",
       "    }\n",
       "\n",
       "    .dataframe thead th {\n",
       "        text-align: right;\n",
       "    }\n",
       "</style>\n",
       "<table border=\"1\" class=\"dataframe\">\n",
       "  <thead>\n",
       "    <tr style=\"text-align: right;\">\n",
       "      <th></th>\n",
       "      <th>bulk_campaign_id</th>\n",
       "      <th>client_id</th>\n",
       "      <th>message_id</th>\n",
       "      <th>event</th>\n",
       "      <th>channel</th>\n",
       "      <th>created_at</th>\n",
       "    </tr>\n",
       "  </thead>\n",
       "  <tbody>\n",
       "  </tbody>\n",
       "</table>\n",
       "</div>"
      ],
      "text/plain": [
       "Empty DataFrame\n",
       "Columns: [bulk_campaign_id, client_id, message_id, event, channel, created_at]\n",
       "Index: []"
      ]
     },
     "execution_count": 92,
     "metadata": {},
     "output_type": "execute_result"
    }
   ],
   "source": [
    "mask = apparel_messages['client_id'].isin(na_ids)\n",
    "apparel_messages[mask]"
   ]
  },
  {
   "cell_type": "markdown",
   "metadata": {},
   "source": [
    "Этим пользователям вообще не проводилась рассылка. Поэтому заполним пропуски нулями."
   ]
  },
  {
   "cell_type": "code",
   "execution_count": 93,
   "metadata": {},
   "outputs": [],
   "source": [
    "df = df.fillna(0)"
   ]
  },
  {
   "cell_type": "code",
   "execution_count": 94,
   "metadata": {},
   "outputs": [
    {
     "name": "stdout",
     "output_type": "stream",
     "text": [
      "+-----------------------------+----------------------+\n",
      "|           Feature           | Missing values count |\n",
      "+-----------------------------+----------------------+\n",
      "|            target           |      \u001b[32m0 (0.00%)\u001b[0m       |\n",
      "|   mobile_push_purchase_cnt  |      \u001b[32m0 (0.00%)\u001b[0m       |\n",
      "|     mobile_push_open_cnt    |      \u001b[32m0 (0.00%)\u001b[0m       |\n",
      "| mobile_push_hard_bounce_cnt |      \u001b[32m0 (0.00%)\u001b[0m       |\n",
      "|    mobile_push_close_cnt    |      \u001b[32m0 (0.00%)\u001b[0m       |\n",
      "|    mobile_push_click_cnt    |      \u001b[32m0 (0.00%)\u001b[0m       |\n",
      "|    email_unsubscribe_cnt    |      \u001b[32m0 (0.00%)\u001b[0m       |\n",
      "|     email_subscribe_cnt     |      \u001b[32m0 (0.00%)\u001b[0m       |\n",
      "|     mobile_push_send_cnt    |      \u001b[32m0 (0.00%)\u001b[0m       |\n",
      "|    email_soft_bounce_cnt    |      \u001b[32m0 (0.00%)\u001b[0m       |\n",
      "|      email_purchase_cnt     |      \u001b[32m0 (0.00%)\u001b[0m       |\n",
      "|        email_open_cnt       |      \u001b[32m0 (0.00%)\u001b[0m       |\n",
      "|      email_hbq_spam_cnt     |      \u001b[32m0 (0.00%)\u001b[0m       |\n",
      "|    email_hard_bounce_cnt    |      \u001b[32m0 (0.00%)\u001b[0m       |\n",
      "|      email_complain_cnt     |      \u001b[32m0 (0.00%)\u001b[0m       |\n",
      "|       email_click_cnt       |      \u001b[32m0 (0.00%)\u001b[0m       |\n",
      "|            total            |      \u001b[32m0 (0.00%)\u001b[0m       |\n",
      "|        email_send_cnt       |      \u001b[32m0 (0.00%)\u001b[0m       |\n",
      "| mobile_push_soft_bounce_cnt |      \u001b[32m0 (0.00%)\u001b[0m       |\n",
      "+-----------------------------+----------------------+\n"
     ]
    }
   ],
   "source": [
    "check_nans(df)"
   ]
  },
  {
   "cell_type": "markdown",
   "metadata": {},
   "source": [
    "---"
   ]
  },
  {
   "cell_type": "markdown",
   "metadata": {},
   "source": [
    "Проверим еще раз нельзя ли оптимизировать используемую память."
   ]
  },
  {
   "cell_type": "code",
   "execution_count": 95,
   "metadata": {},
   "outputs": [
    {
     "name": "stdout",
     "output_type": "stream",
     "text": [
      "Размер использования памяти: до  7.08 Mb - после  3.85 Mb (45.6%)\n"
     ]
    }
   ],
   "source": [
    "df = optimize_memory_usage(df)"
   ]
  },
  {
   "cell_type": "markdown",
   "metadata": {},
   "source": [
    "Теперь все основные датасеты объединены в один датафрейм и готовы для дальнейшей обработки."
   ]
  },
  {
   "cell_type": "markdown",
   "metadata": {},
   "source": [
    "## 8. <a id='toc8_'></a>Корреляция    [&#8593;](#toc0_)"
   ]
  },
  {
   "cell_type": "code",
   "execution_count": 96,
   "metadata": {},
   "outputs": [
    {
     "data": {
      "image/png": "[encoded data removed]",
      "text/plain": [
       "<Figure size 2000x1000 with 2 Axes>"
      ]
     },
     "metadata": {},
     "output_type": "display_data"
    }
   ],
   "source": [
    "plt.figure(figsize=(20, 10))\n",
    "sns.heatmap(df.phik_matrix(interval_cols=df.columns),\n",
    "            cmap='Greens',\n",
    "            annot=True,\n",
    "            fmt='.2f');\n",
    "\n",
    "plt.title(r'$phi_k$ корреляция между всеми признаками', fontsize=18);"
   ]
  },
  {
   "cell_type": "code",
   "execution_count": 97,
   "metadata": {},
   "outputs": [
    {
     "data": {
      "text/html": [
       "<div>\n",
       "<style scoped>\n",
       "    .dataframe tbody tr th:only-of-type {\n",
       "        vertical-align: middle;\n",
       "    }\n",
       "\n",
       "    .dataframe tbody tr th {\n",
       "        vertical-align: top;\n",
       "    }\n",
       "\n",
       "    .dataframe thead th {\n",
       "        text-align: right;\n",
       "    }\n",
       "</style>\n",
       "<table border=\"1\" class=\"dataframe\">\n",
       "  <thead>\n",
       "    <tr style=\"text-align: right;\">\n",
       "      <th></th>\n",
       "      <th>variable</th>\n",
       "      <th>vif</th>\n",
       "    </tr>\n",
       "  </thead>\n",
       "  <tbody>\n",
       "    <tr>\n",
       "      <th>0</th>\n",
       "      <td>mobile_push_send_cnt</td>\n",
       "      <td>2.07</td>\n",
       "    </tr>\n",
       "    <tr>\n",
       "      <th>1</th>\n",
       "      <td>email_click_cnt</td>\n",
       "      <td>1.86</td>\n",
       "    </tr>\n",
       "    <tr>\n",
       "      <th>2</th>\n",
       "      <td>mobile_push_open_cnt</td>\n",
       "      <td>1.67</td>\n",
       "    </tr>\n",
       "    <tr>\n",
       "      <th>3</th>\n",
       "      <td>email_open_cnt</td>\n",
       "      <td>1.67</td>\n",
       "    </tr>\n",
       "    <tr>\n",
       "      <th>4</th>\n",
       "      <td>email_purchase_cnt</td>\n",
       "      <td>1.59</td>\n",
       "    </tr>\n",
       "    <tr>\n",
       "      <th>5</th>\n",
       "      <td>email_send_cnt</td>\n",
       "      <td>1.52</td>\n",
       "    </tr>\n",
       "    <tr>\n",
       "      <th>6</th>\n",
       "      <td>mobile_push_purchase_cnt</td>\n",
       "      <td>1.51</td>\n",
       "    </tr>\n",
       "    <tr>\n",
       "      <th>7</th>\n",
       "      <td>mobile_push_click_cnt</td>\n",
       "      <td>1.47</td>\n",
       "    </tr>\n",
       "    <tr>\n",
       "      <th>8</th>\n",
       "      <td>email_unsubscribe_cnt</td>\n",
       "      <td>1.11</td>\n",
       "    </tr>\n",
       "    <tr>\n",
       "      <th>9</th>\n",
       "      <td>email_subscribe_cnt</td>\n",
       "      <td>1.10</td>\n",
       "    </tr>\n",
       "    <tr>\n",
       "      <th>10</th>\n",
       "      <td>total</td>\n",
       "      <td>1.08</td>\n",
       "    </tr>\n",
       "    <tr>\n",
       "      <th>11</th>\n",
       "      <td>mobile_push_hard_bounce_cnt</td>\n",
       "      <td>1.03</td>\n",
       "    </tr>\n",
       "    <tr>\n",
       "      <th>12</th>\n",
       "      <td>mobile_push_soft_bounce_cnt</td>\n",
       "      <td>1.03</td>\n",
       "    </tr>\n",
       "    <tr>\n",
       "      <th>13</th>\n",
       "      <td>target</td>\n",
       "      <td>1.02</td>\n",
       "    </tr>\n",
       "    <tr>\n",
       "      <th>14</th>\n",
       "      <td>email_hbq_spam_cnt</td>\n",
       "      <td>1.01</td>\n",
       "    </tr>\n",
       "    <tr>\n",
       "      <th>15</th>\n",
       "      <td>email_soft_bounce_cnt</td>\n",
       "      <td>1.01</td>\n",
       "    </tr>\n",
       "    <tr>\n",
       "      <th>16</th>\n",
       "      <td>mobile_push_close_cnt</td>\n",
       "      <td>1.00</td>\n",
       "    </tr>\n",
       "    <tr>\n",
       "      <th>17</th>\n",
       "      <td>email_hard_bounce_cnt</td>\n",
       "      <td>1.00</td>\n",
       "    </tr>\n",
       "    <tr>\n",
       "      <th>18</th>\n",
       "      <td>email_complain_cnt</td>\n",
       "      <td>1.00</td>\n",
       "    </tr>\n",
       "    <tr>\n",
       "      <th>19</th>\n",
       "      <td>const</td>\n",
       "      <td>1.00</td>\n",
       "    </tr>\n",
       "  </tbody>\n",
       "</table>\n",
       "</div>"
      ],
      "text/plain": [
       "                       variable  vif\n",
       "0          mobile_push_send_cnt 2.07\n",
       "1               email_click_cnt 1.86\n",
       "2          mobile_push_open_cnt 1.67\n",
       "3                email_open_cnt 1.67\n",
       "4            email_purchase_cnt 1.59\n",
       "5                email_send_cnt 1.52\n",
       "6      mobile_push_purchase_cnt 1.51\n",
       "7         mobile_push_click_cnt 1.47\n",
       "8         email_unsubscribe_cnt 1.11\n",
       "9           email_subscribe_cnt 1.10\n",
       "10                        total 1.08\n",
       "11  mobile_push_hard_bounce_cnt 1.03\n",
       "12  mobile_push_soft_bounce_cnt 1.03\n",
       "13                       target 1.02\n",
       "14           email_hbq_spam_cnt 1.01\n",
       "15        email_soft_bounce_cnt 1.01\n",
       "16        mobile_push_close_cnt 1.00\n",
       "17        email_hard_bounce_cnt 1.00\n",
       "18           email_complain_cnt 1.00\n",
       "19                        const 1.00"
      ]
     },
     "execution_count": 97,
     "metadata": {},
     "output_type": "execute_result"
    }
   ],
   "source": [
    "scaler = StandardScaler()\n",
    "df_for_vif = pd.DataFrame(scaler.fit_transform(df), columns=df.columns)\n",
    "\n",
    "with_constants = add_constant(df_for_vif)\n",
    "\n",
    "vif_data = pd.DataFrame()\n",
    "vif_data['variable'] = with_constants.columns\n",
    "vif_data['vif'] = [variance_inflation_factor(with_constants.values, i) for i in range(with_constants.shape[1])]\n",
    "\n",
    "vif_data.sort_values(by='vif', ascending=False).reset_index(drop=True)"
   ]
  },
  {
   "cell_type": "markdown",
   "metadata": {},
   "source": [
    "Мультиколлинеарность не наблюдается."
   ]
  },
  {
   "cell_type": "markdown",
   "metadata": {},
   "source": [
    "## 9. <a id='toc9_'></a>Разделение данных       [&#8593;](#toc0_)"
   ]
  },
  {
   "cell_type": "code",
   "execution_count": 98,
   "metadata": {},
   "outputs": [],
   "source": [
    "target = 'target'"
   ]
  },
  {
   "cell_type": "code",
   "execution_count": 99,
   "metadata": {},
   "outputs": [],
   "source": [
    "X = df.drop(columns=target)\n",
    "y = df[target]"
   ]
  },
  {
   "cell_type": "code",
   "execution_count": 100,
   "metadata": {},
   "outputs": [
    {
     "name": "stdout",
     "output_type": "stream",
     "text": [
      "(39879, 18) (39879,)\n",
      "(4985, 18) (4985,)\n",
      "(4985, 18) (4985,)\n"
     ]
    }
   ],
   "source": [
    "X_train, X_temp, y_train, y_temp = train_test_split(X,\n",
    "                                                    y,\n",
    "                                                    test_size=TEST_SIZE,\n",
    "                                                    random_state=RANDOM_STATE,\n",
    "                                                    stratify=y)\n",
    "X_test, X_valid, y_test, y_valid = train_test_split(X_temp,\n",
    "                                                    y_temp,\n",
    "                                                    test_size=0.5,\n",
    "                                                    random_state=RANDOM_STATE,\n",
    "                                                    stratify=y_temp)\n",
    "\n",
    "print(X_train.shape, y_train.shape)\n",
    "print(X_valid.shape, y_valid.shape)\n",
    "print(X_test.shape, y_test.shape)"
   ]
  },
  {
   "cell_type": "markdown",
   "metadata": {},
   "source": [
    "## 10. <a id='toc10_'></a>Модели       [&#8593;](#toc0_)"
   ]
  },
  {
   "cell_type": "code",
   "execution_count": 101,
   "metadata": {},
   "outputs": [],
   "source": [
    "def get_objective(estimator,\n",
    "                  X_train: pd.DataFrame,\n",
    "                  y_train: pd.Series):\n",
    "    def objective(params: dict) -> float:\n",
    "        \"\"\"Кросс-валидация с текущими гиперпараметрами.\n",
    "\n",
    "        Args:\n",
    "            estimator: пайплайн с моделью или отдельно модель\n",
    "            params (dict): гиперпараметры\n",
    "            X_train (pd.DataFrame): входные признаки (фичи)\n",
    "            y_train (pd.Series): таргет\n",
    "\n",
    "        Returns:\n",
    "            dict: Словарь со средним значением метрики, гиперпараметрами и статусом.\n",
    "        \"\"\"\n",
    "        # Некоторые параметры могут быть только целочисленные, приводим их к нужному типу\n",
    "        for key, value in params.items():\n",
    "            if isinstance(value, float) and value % 1 == 0:\n",
    "                params[key] = int(value)\n",
    "\n",
    "        estimator.set_params(**params)\n",
    "        skf = StratifiedKFold(n_splits=3, shuffle=True, random_state=RANDOM_STATE)\n",
    "        score = cross_val_score(estimator=estimator,\n",
    "                                X=X_train,\n",
    "                                y=y_train,\n",
    "                                scoring='roc_auc',\n",
    "                                cv=skf,\n",
    "                                n_jobs=-1)\n",
    "\n",
    "        return {\n",
    "            'loss': -score.mean(),\n",
    "            'params': params,\n",
    "            'status': STATUS_OK\n",
    "        }\n",
    "\n",
    "    return objective"
   ]
  },
  {
   "cell_type": "code",
   "execution_count": 102,
   "metadata": {},
   "outputs": [],
   "source": [
    "def get_model_results(estimator,\n",
    "                      param_space: dict,\n",
    "                      X_train: pd.DataFrame,\n",
    "                      y_train: pd.Series\n",
    "                      ) -> tuple[dict, float]:\n",
    "    objective = get_objective(estimator, X_train, y_train)\n",
    "    trials = Trials()\n",
    "\n",
    "    fmin(\n",
    "        fn=objective,\n",
    "        space=param_space,\n",
    "        algo=tpe.suggest,\n",
    "        max_evals=100,\n",
    "        trials=trials,\n",
    "        rstate=np.random.default_rng(RANDOM_STATE),\n",
    "        show_progressbar=True\n",
    "    )\n",
    "\n",
    "    clear_output()\n",
    "\n",
    "    best_params = trials.best_trial['result']['params']\n",
    "    best_score = abs(trials.best_trial['result']['loss'])\n",
    "    print(f\"Finish with best ROC_AUC = {best_score:.4f}\")\n",
    "\n",
    "    return best_params, best_score"
   ]
  },
  {
   "cell_type": "markdown",
   "metadata": {},
   "source": [
    "### 10.1. <a id='toc10_1_'></a>`LogisticRegression`    [&#8593;](#toc0_)"
   ]
  },
  {
   "cell_type": "code",
   "execution_count": 103,
   "metadata": {},
   "outputs": [
    {
     "name": "stdout",
     "output_type": "stream",
     "text": [
      "Finish with best ROC_AUC = 0.6871\n"
     ]
    }
   ],
   "source": [
    "lr_pipeline = Pipeline([\n",
    "    ('scaler', MinMaxScaler()),\n",
    "    ('model', LogisticRegression(random_state=RANDOM_STATE))\n",
    "])\n",
    "\n",
    "param_space = {\n",
    "    'model__penalty': hp.choice('penalty', ['l1', 'l2']),  # Тип регуляризации\n",
    "    'model__C': hp.loguniform('C', -4, 4),  # Обратный коэффициент регуляризации\n",
    "    'model__solver': hp.choice('solver', ['liblinear', 'saga']),  # Алгоритм оптимизации\n",
    "    'model__fit_intercept': hp.choice('fit_intercept', [True, False]),  # Включение свободного члена\n",
    "    'model__class_weight': hp.choice('class_weight', ['balanced', None]),  # Взвешивание классов\n",
    "    'model__max_iter': hp.quniform('max_iter', 300, 1000, 50)  # Максимальное количество итераций\n",
    "}\n",
    "\n",
    "best_params_lr, best_score_lr = get_model_results(lr_pipeline, param_space, X_train, y_train)"
   ]
  },
  {
   "cell_type": "markdown",
   "metadata": {},
   "source": [
    "### 10.2. <a id='toc10_2_'></a>`RandomForestClassifier`    [&#8593;](#toc0_)"
   ]
  },
  {
   "cell_type": "code",
   "execution_count": 104,
   "metadata": {},
   "outputs": [
    {
     "name": "stdout",
     "output_type": "stream",
     "text": [
      "Finish with best ROC_AUC = 0.6824\n"
     ]
    }
   ],
   "source": [
    "rfc = RandomForestClassifier(random_state=RANDOM_STATE, n_jobs=-1)\n",
    "\n",
    "param_space = {\n",
    "    'n_estimators': hp.quniform('n_estimators', 100, 1000, 1),\n",
    "    'max_depth': hp.quniform('max_depth', 5, 50, 1),\n",
    "    'min_samples_split': hp.quniform('min_samples_split', 2, 20, 1),\n",
    "    'min_samples_leaf': hp.quniform('min_samples_leaf', 1, 20, 1),\n",
    "    'max_features': hp.choice('max_features', ['sqrt', 'log2', None]),\n",
    "    'class_weight': hp.choice('class_weight', ['balanced', {0: 1, 1: 49}]),\n",
    "    'criterion': hp.choice('criterion', ['gini', 'entropy']),\n",
    "    'bootstrap': hp.choice('bootstrap', [True, False])\n",
    "}\n",
    "\n",
    "best_params_rfc, best_score_rfc = get_model_results(rfc, param_space, X_train, y_train)"
   ]
  },
  {
   "cell_type": "markdown",
   "metadata": {},
   "source": [
    "### 10.3. <a id='toc10_3_'></a>`KNeighborsClassifier`    [&#8593;](#toc0_)"
   ]
  },
  {
   "cell_type": "code",
   "execution_count": 105,
   "metadata": {},
   "outputs": [
    {
     "name": "stdout",
     "output_type": "stream",
     "text": [
      "Finish with best ROC_AUC = 0.5536\n"
     ]
    }
   ],
   "source": [
    "knc = KNeighborsClassifier(n_jobs=-1)\n",
    "\n",
    "param_space = {\n",
    "    'n_neighbors': hp.quniform('n_neighbors', 1, 50, 1),  # количество соседей\n",
    "    'weights': hp.choice('weights', ['uniform', 'distance']),  # схема взвешивания\n",
    "    'algorithm': hp.choice('algorithm', ['auto', 'ball_tree', 'kd_tree', 'brute']),  # алгоритм поиска\n",
    "    'leaf_size': hp.quniform('leaf_size', 10, 50, 1),  # размер листа\n",
    "    'p': hp.choice('p', [1, 2])  # степень метрики Минковского (1 = манхэттенское, 2 = евклидово расстояние)\n",
    "}\n",
    "\n",
    "best_params_knc, best_score_knc = get_model_results(knc, param_space, X_train, y_train)"
   ]
  },
  {
   "cell_type": "markdown",
   "metadata": {},
   "source": [
    "### 10.4. <a id='toc10_4_'></a>`LinearSVC`    [&#8593;](#toc0_)"
   ]
  },
  {
   "cell_type": "code",
   "execution_count": 106,
   "metadata": {},
   "outputs": [
    {
     "name": "stdout",
     "output_type": "stream",
     "text": [
      "Finish with best ROC_AUC = 0.6847\n"
     ]
    }
   ],
   "source": [
    "svc_pipeline = Pipeline([\n",
    "    ('scaler', MinMaxScaler()),\n",
    "    ('model', LinearSVC(random_state=RANDOM_STATE))\n",
    "])\n",
    "\n",
    "param_space = {\n",
    "    'model__C': hp.loguniform('C', -4, 2),  # Регуляризационный параметр C в лог-шкале\n",
    "    'model__loss': hp.choice('loss', ['hinge', 'squared_hinge']),\n",
    "    'model__tol': hp.loguniform('tol', -5, -1),  # Допуск на остановку в лог-шкале\n",
    "    'model__max_iter': hp.quniform('max_iter', 100, 1000, 50),  # Максимальное количество итераций\n",
    "    'model__class_weight': hp.choice('class_weight', [None, 'balanced']),  # Взвешивание классов\n",
    "}\n",
    "\n",
    "best_params_svc, best_score_svc = get_model_results(svc_pipeline, param_space, X_train, y_train)"
   ]
  },
  {
   "cell_type": "markdown",
   "metadata": {},
   "source": [
    "### 10.5. <a id='toc10_5_'></a>`CatBoostClassifier`    [&#8593;](#toc0_)"
   ]
  },
  {
   "cell_type": "code",
   "execution_count": 107,
   "metadata": {},
   "outputs": [
    {
     "name": "stdout",
     "output_type": "stream",
     "text": [
      "Finish with best ROC_AUC = 0.6918\n"
     ]
    }
   ],
   "source": [
    "cbc = CatBoostClassifier(random_state=RANDOM_STATE, thread_count=-1, silent=True)\n",
    "\n",
    "param_space = {\n",
    "    'iterations': hp.quniform('iterations', 100, 1000, 50),  # число итераций\n",
    "    'learning_rate': hp.loguniform('learning_rate', -5, -1),  # темп обучения\n",
    "    'depth': hp.quniform('depth', 4, 10, 1),  # глубина деревьев\n",
    "    'l2_leaf_reg': hp.loguniform('l2_leaf_reg', 0, 3),  # L2 регуляризация\n",
    "    'border_count': hp.quniform('border_count', 32, 255, 1),  # число разбиений\n",
    "    'random_strength': hp.uniform('random_strength', 0, 10),  # сила случайности\n",
    "    'scale_pos_weight': hp.loguniform('scale_pos_weight', -2, 2),  # вес положительных классов\n",
    "    'bootstrap_type': hp.choice('bootstrap_type', ['Bayesian', 'Bernoulli', 'MVS']),  # тип bootstrap\n",
    "    'grow_policy': hp.choice('grow_policy', ['SymmetricTree', 'Depthwise', 'Lossguide'])  # политика роста\n",
    "}\n",
    "\n",
    "best_params_cbc, best_score_cbc = get_model_results(cbc, param_space, X_train, y_train)"
   ]
  },
  {
   "cell_type": "markdown",
   "metadata": {},
   "source": [
    "### 10.6. <a id='toc10_6_'></a>`LGBMClassifier`    [&#8593;](#toc0_)"
   ]
  },
  {
   "cell_type": "code",
   "execution_count": 108,
   "metadata": {},
   "outputs": [
    {
     "name": "stdout",
     "output_type": "stream",
     "text": [
      "Finish with best ROC_AUC = 0.6911\n"
     ]
    }
   ],
   "source": [
    "lgbmc = LGBMClassifier(random_state=RANDOM_STATE, n_jobs=-1, verbosity=-1)\n",
    "\n",
    "param_space = {\n",
    "    'num_leaves': hp.quniform('num_leaves', 20, 150, 1),\n",
    "    'max_depth': hp.quniform('max_depth', 3, 12, 1),\n",
    "    'learning_rate': hp.loguniform('learning_rate', -5, 0),\n",
    "    'n_estimators': hp.quniform('n_estimators', 100, 1000, 10),\n",
    "    'min_child_samples': hp.quniform('min_child_samples', 5, 100, 1),\n",
    "    'subsample': hp.uniform('subsample', 0.5, 1.0),\n",
    "    'colsample_bytree': hp.uniform('colsample_bytree', 0.5, 1.0),\n",
    "    'reg_alpha': hp.loguniform('reg_alpha', -5, 1),\n",
    "    'reg_lambda': hp.loguniform('reg_lambda', -5, 1),\n",
    "    'scale_pos_weight': hp.loguniform('scale_pos_weight', -2, 1)  # Изменено для учета несбалансированных данных\n",
    "}\n",
    "\n",
    "best_params_lgbm, best_score_lgbm = get_model_results(lgbmc, param_space, X_train, y_train)"
   ]
  },
  {
   "cell_type": "markdown",
   "metadata": {},
   "source": [
    "## 11. <a id='toc11_'></a>Результаты    [&#8593;](#toc0_)"
   ]
  },
  {
   "cell_type": "markdown",
   "metadata": {},
   "source": [
    "### 11.1. <a id='toc11_1_'></a>Метрики на трейне  [&#8593;](#toc0_)"
   ]
  },
  {
   "cell_type": "code",
   "execution_count": 109,
   "metadata": {},
   "outputs": [
    {
     "data": {
      "text/html": [
       "<div>\n",
       "<style scoped>\n",
       "    .dataframe tbody tr th:only-of-type {\n",
       "        vertical-align: middle;\n",
       "    }\n",
       "\n",
       "    .dataframe tbody tr th {\n",
       "        vertical-align: top;\n",
       "    }\n",
       "\n",
       "    .dataframe thead th {\n",
       "        text-align: right;\n",
       "    }\n",
       "</style>\n",
       "<table border=\"1\" class=\"dataframe\">\n",
       "  <thead>\n",
       "    <tr style=\"text-align: right;\">\n",
       "      <th></th>\n",
       "      <th>roc_auc</th>\n",
       "    </tr>\n",
       "  </thead>\n",
       "  <tbody>\n",
       "    <tr>\n",
       "      <th>CatBoostClassifier</th>\n",
       "      <td>0.6918</td>\n",
       "    </tr>\n",
       "    <tr>\n",
       "      <th>LGBMClassifier</th>\n",
       "      <td>0.6911</td>\n",
       "    </tr>\n",
       "    <tr>\n",
       "      <th>LogisticRegression</th>\n",
       "      <td>0.6871</td>\n",
       "    </tr>\n",
       "    <tr>\n",
       "      <th>SVC</th>\n",
       "      <td>0.6847</td>\n",
       "    </tr>\n",
       "    <tr>\n",
       "      <th>RandomForestClassifier</th>\n",
       "      <td>0.6824</td>\n",
       "    </tr>\n",
       "    <tr>\n",
       "      <th>KNeighborsClassifier</th>\n",
       "      <td>0.5536</td>\n",
       "    </tr>\n",
       "  </tbody>\n",
       "</table>\n",
       "</div>"
      ],
      "text/plain": [
       "                        roc_auc\n",
       "CatBoostClassifier       0.6918\n",
       "LGBMClassifier           0.6911\n",
       "LogisticRegression       0.6871\n",
       "SVC                      0.6847\n",
       "RandomForestClassifier   0.6824\n",
       "KNeighborsClassifier     0.5536"
      ]
     },
     "execution_count": 109,
     "metadata": {},
     "output_type": "execute_result"
    }
   ],
   "source": [
    "pd.options.display.float_format = '{:.4f}'.format\n",
    "\n",
    "pd.DataFrame(\n",
    "    data=[best_score_lr, best_score_rfc, best_score_knc, best_score_svc, best_score_cbc, best_score_lgbm],\n",
    "    index=['LogisticRegression', 'RandomForestClassifier', 'KNeighborsClassifier', 'SVC', 'CatBoostClassifier', 'LGBMClassifier'],\n",
    "    columns=['roc_auc']\n",
    ").sort_values('roc_auc', ascending=False)"
   ]
  },
  {
   "cell_type": "markdown",
   "metadata": {},
   "source": [
    "Видим, что почти все модели показали примерно одинаковый результат. Единственным исключением является модель, основанная на методе *KNN*. Её результат на порядок хуже всех остальных.\n",
    "\n",
    "С минимальным отрывом, но все же лидирует *CatBoostClassifier*."
   ]
  },
  {
   "cell_type": "markdown",
   "metadata": {},
   "source": [
    "### 11.2. <a id='toc11_2_'></a>Метрика на валидационной выборке [&#8593;](#toc0_)"
   ]
  },
  {
   "cell_type": "code",
   "execution_count": 110,
   "metadata": {},
   "outputs": [
    {
     "data": {
      "text/plain": [
       "{'bootstrap_type': 'Bayesian',\n",
       " 'border_count': 200,\n",
       " 'depth': 4,\n",
       " 'grow_policy': 'SymmetricTree',\n",
       " 'iterations': 900,\n",
       " 'l2_leaf_reg': 4.21858573101448,\n",
       " 'learning_rate': 0.02309380598609181,\n",
       " 'random_strength': 1.3032420654857055,\n",
       " 'scale_pos_weight': 2.255868943560115}"
      ]
     },
     "execution_count": 110,
     "metadata": {},
     "output_type": "execute_result"
    }
   ],
   "source": [
    "best_params_cbc"
   ]
  },
  {
   "cell_type": "code",
   "execution_count": 111,
   "metadata": {},
   "outputs": [
    {
     "name": "stdout",
     "output_type": "stream",
     "text": [
      "ROC_AUC on valid = 0.7138\n"
     ]
    }
   ],
   "source": [
    "best_model = CatBoostClassifier(random_state=RANDOM_STATE, thread_count=-1, silent=True, **best_params_cbc)\n",
    "best_model.fit(X_train, y_train)\n",
    "\n",
    "y_pred = best_model.predict(X_valid)\n",
    "y_pred_prob = best_model.predict_proba(X_valid)\n",
    "\n",
    "roc_auc = roc_auc_score(y_valid, y_pred_prob[:, 1])\n",
    "print(f'ROC_AUC on valid = {roc_auc:.4f}')"
   ]
  },
  {
   "cell_type": "markdown",
   "metadata": {},
   "source": [
    "Метрика на валидационной части чуть выше, чем на тренировочной. Посмотрим более подробно метрики и confusion matrix."
   ]
  },
  {
   "cell_type": "code",
   "execution_count": 112,
   "metadata": {},
   "outputs": [
    {
     "name": "stdout",
     "output_type": "stream",
     "text": [
      "              precision    recall  f1-score   support\n",
      "\n",
      "           0       0.98      1.00      0.99      4889\n",
      "           1       0.00      0.00      0.00        96\n",
      "\n",
      "    accuracy                           0.98      4985\n",
      "   macro avg       0.49      0.50      0.50      4985\n",
      "weighted avg       0.96      0.98      0.97      4985\n",
      "\n"
     ]
    }
   ],
   "source": [
    "print(classification_report(y_valid, y_pred))"
   ]
  },
  {
   "cell_type": "code",
   "execution_count": 113,
   "metadata": {},
   "outputs": [
    {
     "data": {
      "image/png": "[encoded data removed]",
      "text/plain": [
       "<Figure size 640x480 with 2 Axes>"
      ]
     },
     "metadata": {},
     "output_type": "display_data"
    }
   ],
   "source": [
    "ConfusionMatrixDisplay.from_predictions(y_valid, y_pred);"
   ]
  },
  {
   "cell_type": "markdown",
   "metadata": {},
   "source": [
    "Как мы видим, модель не присвоила класс `1` ни одной из записей. То есть некого порекомендовать как пользователей, готовых к покупкам."
   ]
  },
  {
   "cell_type": "code",
   "execution_count": 114,
   "metadata": {},
   "outputs": [
    {
     "data": {
      "text/plain": [
       "0.0"
      ]
     },
     "execution_count": 114,
     "metadata": {},
     "output_type": "execute_result"
    }
   ],
   "source": [
    "f1_score(y_valid, y_pred)"
   ]
  },
  {
   "cell_type": "markdown",
   "metadata": {},
   "source": [
    "Ожидаемо нулевая f1 метрика."
   ]
  },
  {
   "cell_type": "markdown",
   "metadata": {},
   "source": [
    "### 11.3. <a id='toc11_3_'></a>Важность признаков  [&#8593;](#toc0_)"
   ]
  },
  {
   "cell_type": "code",
   "execution_count": 115,
   "metadata": {},
   "outputs": [
    {
     "data": {
      "image/png": "[encoded data removed]",
      "text/plain": [
       "<Figure size 800x870 with 1 Axes>"
      ]
     },
     "metadata": {},
     "output_type": "display_data"
    }
   ],
   "source": [
    "explainer = shap.TreeExplainer(best_model)\n",
    "shap_values = explainer.shap_values(X_valid)\n",
    "\n",
    "shap.summary_plot(shap_values,\n",
    "                  X_valid,\n",
    "                  color_bar_label='Признаки',\n",
    "                  show=False,\n",
    "                  plot_type='bar',\n",
    "                  show_values_in_legend=True,\n",
    "                  max_display=20)\n",
    "plt.title('SHAP важность признаков')\n",
    "plt.xlabel('SHAP значение')\n",
    "plt.ylabel('Признаки', fontsize=13)\n",
    "\n",
    "plt.tight_layout()\n",
    "plt.show()"
   ]
  },
  {
   "cell_type": "markdown",
   "metadata": {},
   "source": [
    "<div class='alert alert-info'>\n",
    "<h1>Комментарий студента 🎓</h1>\n",
    "\n",
    "Я понимаю прекрасно, зачем нужны train, valid и test выборки. Я бы добавил генерацию фич с проверкой метрики на валид выборке. Но сейчас нет времени. Я на этой неделе буду дорабатывать проект. И добавлю все, что нужно.\n",
    "\n",
    "Накидай, пожалуйста, советов, что еще можно улучшить.\n",
    "</div>"
   ]
  },
  {
   "cell_type": "markdown",
   "metadata": {},
   "source": [
    "## 12. <a id='toc12_'></a>Общий вывод [&#8593;](#toc0_)"
   ]
  },
  {
   "cell_type": "markdown",
   "metadata": {},
   "source": [
    "В рамках данного проекта мы работали с различными датасетами с информацией о рассылках пользователям и их покупках. Нам было дано 3 основных датасета: `apparel-messages`, `apparel_purchases` и `apparel-target-binary`. Ни один из датасетов не содержит пропусков. Второй из них содержал незначительное количество полных дубликатов (`0.38%`). Они были удалены.\n",
    "\n",
    "Далее датасеты были проагрегированы и объединены.\n",
    "\n",
    "Было протестировано несколько различных моделей на трейн выборке с подбором гиперпараметров с помощью `hyperopt`. Лучше всего себя показала модель `CatBoostClassifier` с минимальным отрывом обогнав `LGBMClassifier`.\n",
    "\n",
    "Однако модель вообще ни разу не поставила метку `0` (при пороге `0.5`)."
   ]
  }
 ],
 "metadata": {
  "kernelspec": {
   "display_name": "ml12",
   "language": "python",
   "name": "python3"
  },
  "language_info": {
   "codemirror_mode": {
    "name": "ipython",
    "version": 3
   },
   "file_extension": ".py",
   "mimetype": "text/x-python",
   "name": "python",
   "nbconvert_exporter": "python",
   "pygments_lexer": "ipython3",
   "version": "3.12.7"
  }
 },
 "nbformat": 4,
 "nbformat_minor": 2
}
