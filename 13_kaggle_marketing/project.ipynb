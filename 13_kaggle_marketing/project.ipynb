{
 "cells": [
  {
   "cell_type": "markdown",
   "metadata": {},
   "source": [
    "# Kaggle Marketing 🛍️"
   ]
  },
  {
   "cell_type": "markdown",
   "metadata": {},
   "source": [
    "Тут будет описание"
   ]
  },
  {
   "cell_type": "markdown",
   "metadata": {},
   "source": [
    "**Содержание**<a id='toc0_'></a>    \n",
    "1. [Подготовка          ](#toc1_)    \n",
    "1.1. [Библиотеки          ](#toc1_1_)    \n",
    "1.2. [Конфигурация          ](#toc1_2_)    \n",
    "1.3. [Сервисные функции          ](#toc1_3_)    \n",
    "2. [Датасет `apparel-messages.csv`         ](#toc2_)    \n",
    "2.1. [Загрузка         ](#toc2_1_)    \n",
    "2.2. [Проверка типов данных         ](#toc2_2_)    \n",
    "2.3. [Оптимизация памяти](#toc2_3_)    \n",
    "2.4. [Проверка полных дубликатов         ](#toc2_4_)    \n",
    "2.5. [Проверка пропусков         ](#toc2_5_)    \n",
    "2.6. [Изучение признаков         ](#toc2_6_)    \n",
    "2.6.1. [Описание признаков     ](#toc2_6_1_)    \n",
    "2.6.2. [Признак `bulk_campaign_id`       ](#toc2_6_2_)    \n",
    "2.6.3. [Признак `client_id`       ](#toc2_6_3_)    \n",
    "2.6.4. [Признак `message_id`      ](#toc2_6_4_)    \n",
    "2.6.5. [Признак `event`      ](#toc2_6_5_)    \n",
    "2.6.6. [Признак `channel`     ](#toc2_6_6_)    \n",
    "2.6.7. [Признак `date`     ](#toc2_6_7_)    \n",
    "2.6.8. [Признак `created_at`    ](#toc2_6_8_)    \n",
    "2.7. [Выводы по датасету    ](#toc2_7_)    \n",
    "3. [Датасет `apparel-purchases.csv`        ](#toc3_)    \n",
    "3.1. [Загрузка        ](#toc3_1_)    \n",
    "3.2. [Проверка типов данных        ](#toc3_2_)    \n",
    "3.3. [Оптимизация памяти](#toc3_3_)    \n",
    "3.4. [Проверка полных дубликатов        ](#toc3_4_)    \n",
    "3.5. [Проверка пропусков        ](#toc3_5_)    \n",
    "3.6. [Изучение признаков ](#toc3_6_)    \n",
    "3.6.1. [Описание признаков ](#toc3_6_1_)    \n",
    "3.6.2. [Признак `client_id` ](#toc3_6_2_)    \n",
    "3.6.3. [Признак `quantity` ](#toc3_6_3_)    \n",
    "3.6.4. [Признак `price` ](#toc3_6_4_)    \n",
    "3.6.5. [Признак `category_ids` ](#toc3_6_5_)    \n",
    "3.6.6. [Признак `date` ](#toc3_6_6_)    \n",
    "3.6.7. [Признак `message_id` ](#toc3_6_7_)    \n",
    "3.7. [Выводы по датасету ](#toc3_7_)    \n",
    "4. [Датасет `apparel-target_binary.csv`         ](#toc4_)    \n",
    "4.1. [Проверка типов данных         ](#toc4_1_)    \n",
    "4.2. [Оптимизация памяти](#toc4_2_)    \n",
    "4.3. [Проверка полных дубликатов         ](#toc4_3_)    \n",
    "4.4. [Проверка пропусков         ](#toc4_4_)    \n",
    "4.5. [Изучение признаков         ](#toc4_5_)    \n",
    "4.5.1. [Признак `client_id`         ](#toc4_5_1_)    \n",
    "4.5.2. [Таргет `target`         ](#toc4_5_2_)    \n",
    "4.6. [Выводы по датасету](#toc4_6_)    \n",
    "\n",
    "<!-- vscode-jupyter-toc-config\n",
    "\tnumbering=true\n",
    "\tanchor=true\n",
    "\tflat=true\n",
    "\tminLevel=2\n",
    "\tmaxLevel=6\n",
    "\t/vscode-jupyter-toc-config -->\n",
    "<!-- THIS CELL WILL BE REPLACED ON TOC UPDATE. DO NOT WRITE YOUR TEXT IN THIS CELL -->"
   ]
  },
  {
   "cell_type": "markdown",
   "metadata": {},
   "source": [
    "## 1. <a id='toc1_'></a>Подготовка           [&#8593;](#toc0_)"
   ]
  },
  {
   "cell_type": "markdown",
   "metadata": {},
   "source": [
    "### 1.1. <a id='toc1_1_'></a>Библиотеки           [&#8593;](#toc0_)"
   ]
  },
  {
   "cell_type": "code",
   "execution_count": 1,
   "metadata": {},
   "outputs": [],
   "source": [
    "from IPython.display import clear_output"
   ]
  },
  {
   "cell_type": "code",
   "execution_count": 2,
   "metadata": {},
   "outputs": [],
   "source": [
    "%pip install -r requirements.txt\n",
    "\n",
    "clear_output()"
   ]
  },
  {
   "cell_type": "code",
   "execution_count": 3,
   "metadata": {},
   "outputs": [],
   "source": [
    "import numpy as np\n",
    "import pandas as pd\n",
    "import matplotlib.pyplot as plt\n",
    "import seaborn as sns\n",
    "import missingno as msno\n",
    "\n",
    "# Pipelines\n",
    "from sklearn.pipeline import Pipeline\n",
    "from sklearn.base import (BaseEstimator,\n",
    "                          TransformerMixin)\n",
    "\n",
    "# Preprocessing\n",
    "from sklearn.preprocessing import MinMaxScaler, OneHotEncoder, OrdinalEncoder\n",
    "from sklearn.impute import SimpleImputer\n",
    "\n",
    "from sklearn.model_selection import train_test_split\n",
    "\n",
    "# Metrics\n",
    "from sklearn.metrics import (classification_report,\n",
    "                             accuracy_score,\n",
    "                             f1_score,\n",
    "                             roc_auc_score)\n",
    "\n",
    "from phik import phik_matrix  # this import IS accessed\n",
    "from prettytable import PrettyTable\n",
    "from termcolor import colored\n",
    "from statsmodels.stats.outliers_influence import variance_inflation_factor\n",
    "from statsmodels.tools.tools import add_constant"
   ]
  },
  {
   "cell_type": "markdown",
   "metadata": {},
   "source": [
    "### 1.2. <a id='toc1_2_'></a>Конфигурация           [&#8593;](#toc0_)"
   ]
  },
  {
   "cell_type": "code",
   "execution_count": 4,
   "metadata": {},
   "outputs": [],
   "source": [
    "RANDOM_STATE = 27\n",
    "TEST_SIZE = 0.20\n",
    "\n",
    "pd.options.display.float_format = '{:.2f}'.format\n",
    "\n",
    "import warnings\n",
    "warnings.filterwarnings('ignore')"
   ]
  },
  {
   "cell_type": "markdown",
   "metadata": {},
   "source": [
    "### 1.3. <a id='toc1_3_'></a>Сервисные функции           [&#8593;](#toc0_)"
   ]
  },
  {
   "cell_type": "code",
   "execution_count": 5,
   "metadata": {},
   "outputs": [],
   "source": [
    "def optimize_memory_usage(df: pd.DataFrame, print_size: bool=True) -> pd.DataFrame:\n",
    "    \"\"\"Function optimizes memory usage in dataframe\n",
    "\n",
    "    Args:\n",
    "        df (pd.DataFrame): DataFrame to optimize.\n",
    "        print_size (bool, optional): display of optimization results. Defaults to True.\n",
    "\n",
    "    Returns:\n",
    "        pd.DataFrame: optimized DataFrame\n",
    "    \"\"\"\n",
    "\n",
    "    numerics = ['int16', 'int32', 'int64', 'float16', 'float32', 'float64'] # Типы, которые будем проверять на оптимизацию\n",
    "\n",
    "    # Размер занимаемой памяти до оптимизации (в Мб)\n",
    "    before_size = df.memory_usage().sum() / 1024 ** 2\n",
    "\n",
    "    for column in df.columns:\n",
    "        column_type = df[column].dtypes\n",
    "        if column_type in numerics:\n",
    "            column_min = df[column].min()\n",
    "            column_max = df[column].max()\n",
    "            if str(column_type).startswith('int'):\n",
    "                if column_min > np.iinfo(np.int8).min and column_max < np.iinfo(np.int8).max:\n",
    "                    df[column] = df[column].astype(np.int8)\n",
    "                elif column_min > np.iinfo(np.int16).min and column_max < np.iinfo(np.int16).max:\n",
    "                    df[column] = df[column].astype(np.int16)\n",
    "                elif column_min > np.iinfo(np.int32).min and column_max < np.iinfo(np.int32).max:\n",
    "                    df[column] = df[column].astype(np.int32)\n",
    "                elif column_min > np.iinfo(np.int64).min and column_max < np.iinfo(np.int64).max:\n",
    "                    df[column] = df[column].astype(np.int64)\n",
    "            else:\n",
    "                if column_min > np.finfo(np.float32).min and column_max < np.finfo(np.float32).max:\n",
    "                    df[column] = df[column].astype(np.float32)\n",
    "                else:\n",
    "                    df[column] = df[column].astype(np.float64)\n",
    "\n",
    "    # Размер занимаемой памяти после оптимизации (в Мб)\n",
    "    after_size = df.memory_usage().sum() / 1024 ** 2\n",
    "    if print_size:\n",
    "        print('Размер использования памяти: до {:5.2f} Mb - после {:5.2f} Mb ({:.1f}%)'\n",
    "                            .format(before_size, after_size, 100 * (before_size - after_size) / before_size))\n",
    "    return df"
   ]
  },
  {
   "cell_type": "code",
   "execution_count": 6,
   "metadata": {},
   "outputs": [],
   "source": [
    "def check_duplicates(df: pd.DataFrame) -> None:\n",
    "    duplicates_count = df.duplicated().sum()\n",
    "\n",
    "    if duplicates_count == 0:\n",
    "        print(colored('Полных дубликатов не обнаружено.', 'green'))\n",
    "    else:\n",
    "        duplicates_part = duplicates_count / len(df)\n",
    "        print(colored(f'Обнаружено {duplicates_count} дубликатов ({duplicates_part:.2%})', 'red'))"
   ]
  },
  {
   "cell_type": "code",
   "execution_count": 7,
   "metadata": {},
   "outputs": [],
   "source": [
    "def check_nans(data: pd.DataFrame) -> None:\n",
    "    table = PrettyTable()\n",
    "    table.field_names = ['Feature', 'Missing values count']\n",
    "\n",
    "    missing_info = data.isna().sum().sort_values()\n",
    "    cols = missing_info.index.to_list()\n",
    "    for col in cols:\n",
    "        count = missing_info[col]\n",
    "        color = 'green' if count == 0 else 'red'\n",
    "        s = f'{count} ({count / len(data):.2%})'\n",
    "        table.add_row([col, colored(s, color)])\n",
    "\n",
    "    print(table)"
   ]
  },
  {
   "cell_type": "code",
   "execution_count": 8,
   "metadata": {},
   "outputs": [],
   "source": [
    "def check_nans_in_series(series: pd.Series) -> None:\n",
    "    nan_cnt = series.isna().sum()\n",
    "    text = colored('No missing values', 'green') if nan_cnt == 0 \\\n",
    "        else colored(f'{nan_cnt} ({nan_cnt / len(series):.2%})', 'red')\n",
    "    print(text)"
   ]
  },
  {
   "cell_type": "code",
   "execution_count": 9,
   "metadata": {},
   "outputs": [],
   "source": [
    "def get_value_counts(series: pd.Series) -> None:\n",
    "    data = pd.DataFrame()\n",
    "    data['count'] = series.value_counts()\n",
    "    data['part'] =series.value_counts(normalize=True)\n",
    "    display(data)"
   ]
  },
  {
   "cell_type": "code",
   "execution_count": 10,
   "metadata": {},
   "outputs": [],
   "source": [
    "def plot_pie_chart(series: pd.Series) -> None:\n",
    "    if not isinstance(series, pd.Series):\n",
    "        raise ValueError('Входные данные должны быть объектом pd.Series')\n",
    "\n",
    "    data = series.value_counts()\n",
    "\n",
    "    plt.figure(figsize=(4, 4))\n",
    "    data.plot.pie(labels=data.index, autopct='%1.1f%%', startangle=140)\n",
    "    plt.ylabel('')\n",
    "    plt.title('Распределение данных')\n",
    "    plt.axis('equal')\n",
    "    plt.tight_layout()\n",
    "    plt.show()"
   ]
  },
  {
   "cell_type": "code",
   "execution_count": 11,
   "metadata": {},
   "outputs": [],
   "source": [
    "def draw_plots_about_column(df: pd.DataFrame,\n",
    "                            column: str,\n",
    "                            column_description: str = None,\n",
    "                            bins: int = 20\n",
    "                            ) -> None:\n",
    "    if column_description is None:\n",
    "        column_description = column\n",
    "\n",
    "    _, ((ax1, ax2), (ax3, ax4)) = plt.subplots(2, 2, figsize=(12, 10))\n",
    "\n",
    "    sns.violinplot(df, x=column, ax=ax1, orient='h')\n",
    "    ax1.set_xlabel(column_description)\n",
    "    ax1.grid()\n",
    "\n",
    "    sns.boxplot(df, x=column, ax=ax2)\n",
    "    ax2.set_xlabel(column_description)\n",
    "    ax2.grid()\n",
    "\n",
    "    sns.histplot(df, x=column, bins=bins, ax=ax3)\n",
    "    ax3.set_xlabel(column_description)\n",
    "    ax3.grid()\n",
    "    ax3.set_ylabel('Количество')\n",
    "\n",
    "    ax4.set_visible(False)\n",
    "\n",
    "    plt.suptitle(f'Информация о колонке `{column_description}`', fontsize=18)\n",
    "    plt.tight_layout()\n",
    "\n",
    "    plt.show()"
   ]
  },
  {
   "cell_type": "markdown",
   "metadata": {},
   "source": [
    "## 2. <a id='toc2_'></a>Датасет `apparel-messages.csv`          [&#8593;](#toc0_)"
   ]
  },
  {
   "cell_type": "markdown",
   "metadata": {},
   "source": [
    "### 2.1. <a id='toc2_1_'></a>Загрузка          [&#8593;](#toc0_)"
   ]
  },
  {
   "cell_type": "code",
   "execution_count": 12,
   "metadata": {},
   "outputs": [],
   "source": [
    "apparel_messages = pd.read_csv('./data/apparel-messages.csv', parse_dates=['date', 'created_at'])"
   ]
  },
  {
   "cell_type": "code",
   "execution_count": 13,
   "metadata": {},
   "outputs": [
    {
     "data": {
      "text/html": [
       "<div>\n",
       "<style scoped>\n",
       "    .dataframe tbody tr th:only-of-type {\n",
       "        vertical-align: middle;\n",
       "    }\n",
       "\n",
       "    .dataframe tbody tr th {\n",
       "        vertical-align: top;\n",
       "    }\n",
       "\n",
       "    .dataframe thead th {\n",
       "        text-align: right;\n",
       "    }\n",
       "</style>\n",
       "<table border=\"1\" class=\"dataframe\">\n",
       "  <thead>\n",
       "    <tr style=\"text-align: right;\">\n",
       "      <th></th>\n",
       "      <th>bulk_campaign_id</th>\n",
       "      <th>client_id</th>\n",
       "      <th>message_id</th>\n",
       "      <th>event</th>\n",
       "      <th>channel</th>\n",
       "      <th>date</th>\n",
       "      <th>created_at</th>\n",
       "    </tr>\n",
       "  </thead>\n",
       "  <tbody>\n",
       "    <tr>\n",
       "      <th>0</th>\n",
       "      <td>4439</td>\n",
       "      <td>1515915625626736623</td>\n",
       "      <td>1515915625626736623-4439-6283415ac07ea</td>\n",
       "      <td>open</td>\n",
       "      <td>email</td>\n",
       "      <td>2022-05-19</td>\n",
       "      <td>2022-05-19 00:14:20</td>\n",
       "    </tr>\n",
       "    <tr>\n",
       "      <th>1</th>\n",
       "      <td>4439</td>\n",
       "      <td>1515915625490086521</td>\n",
       "      <td>1515915625490086521-4439-62834150016dd</td>\n",
       "      <td>open</td>\n",
       "      <td>email</td>\n",
       "      <td>2022-05-19</td>\n",
       "      <td>2022-05-19 00:39:34</td>\n",
       "    </tr>\n",
       "    <tr>\n",
       "      <th>2</th>\n",
       "      <td>4439</td>\n",
       "      <td>1515915625553578558</td>\n",
       "      <td>1515915625553578558-4439-6283415b36b4f</td>\n",
       "      <td>open</td>\n",
       "      <td>email</td>\n",
       "      <td>2022-05-19</td>\n",
       "      <td>2022-05-19 00:51:49</td>\n",
       "    </tr>\n",
       "    <tr>\n",
       "      <th>3</th>\n",
       "      <td>4439</td>\n",
       "      <td>1515915625553578558</td>\n",
       "      <td>1515915625553578558-4439-6283415b36b4f</td>\n",
       "      <td>click</td>\n",
       "      <td>email</td>\n",
       "      <td>2022-05-19</td>\n",
       "      <td>2022-05-19 00:52:20</td>\n",
       "    </tr>\n",
       "    <tr>\n",
       "      <th>4</th>\n",
       "      <td>4439</td>\n",
       "      <td>1515915625471518311</td>\n",
       "      <td>1515915625471518311-4439-628341570c133</td>\n",
       "      <td>open</td>\n",
       "      <td>email</td>\n",
       "      <td>2022-05-19</td>\n",
       "      <td>2022-05-19 00:56:52</td>\n",
       "    </tr>\n",
       "  </tbody>\n",
       "</table>\n",
       "</div>"
      ],
      "text/plain": [
       "   bulk_campaign_id            client_id  \\\n",
       "0              4439  1515915625626736623   \n",
       "1              4439  1515915625490086521   \n",
       "2              4439  1515915625553578558   \n",
       "3              4439  1515915625553578558   \n",
       "4              4439  1515915625471518311   \n",
       "\n",
       "                               message_id  event channel       date  \\\n",
       "0  1515915625626736623-4439-6283415ac07ea   open   email 2022-05-19   \n",
       "1  1515915625490086521-4439-62834150016dd   open   email 2022-05-19   \n",
       "2  1515915625553578558-4439-6283415b36b4f   open   email 2022-05-19   \n",
       "3  1515915625553578558-4439-6283415b36b4f  click   email 2022-05-19   \n",
       "4  1515915625471518311-4439-628341570c133   open   email 2022-05-19   \n",
       "\n",
       "           created_at  \n",
       "0 2022-05-19 00:14:20  \n",
       "1 2022-05-19 00:39:34  \n",
       "2 2022-05-19 00:51:49  \n",
       "3 2022-05-19 00:52:20  \n",
       "4 2022-05-19 00:56:52  "
      ]
     },
     "execution_count": 13,
     "metadata": {},
     "output_type": "execute_result"
    }
   ],
   "source": [
    "apparel_messages.head()"
   ]
  },
  {
   "cell_type": "markdown",
   "metadata": {},
   "source": [
    "### 2.2. <a id='toc2_2_'></a>Проверка типов данных          [&#8593;](#toc0_)"
   ]
  },
  {
   "cell_type": "code",
   "execution_count": 14,
   "metadata": {},
   "outputs": [
    {
     "name": "stdout",
     "output_type": "stream",
     "text": [
      "<class 'pandas.core.frame.DataFrame'>\n",
      "RangeIndex: 12739798 entries, 0 to 12739797\n",
      "Data columns (total 7 columns):\n",
      " #   Column            Dtype         \n",
      "---  ------            -----         \n",
      " 0   bulk_campaign_id  int64         \n",
      " 1   client_id         int64         \n",
      " 2   message_id        object        \n",
      " 3   event             object        \n",
      " 4   channel           object        \n",
      " 5   date              datetime64[ns]\n",
      " 6   created_at        datetime64[ns]\n",
      "dtypes: datetime64[ns](2), int64(2), object(3)\n",
      "memory usage: 680.4+ MB\n"
     ]
    }
   ],
   "source": [
    "apparel_messages.info()"
   ]
  },
  {
   "cell_type": "markdown",
   "metadata": {},
   "source": [
    "Типы данных корректны для всех признаков."
   ]
  },
  {
   "cell_type": "markdown",
   "metadata": {},
   "source": [
    "### 2.3. <a id='toc2_3_'></a>Оптимизация памяти [&#8593;](#toc0_)"
   ]
  },
  {
   "cell_type": "code",
   "execution_count": 15,
   "metadata": {},
   "outputs": [
    {
     "name": "stdout",
     "output_type": "stream",
     "text": [
      "Размер использования памяти: до 680.38 Mb - после 607.48 Mb (10.7%)\n"
     ]
    }
   ],
   "source": [
    "apparel_messages = optimize_memory_usage(apparel_messages)"
   ]
  },
  {
   "cell_type": "markdown",
   "metadata": {},
   "source": [
    "### 2.4. <a id='toc2_4_'></a>Проверка полных дубликатов          [&#8593;](#toc0_)"
   ]
  },
  {
   "cell_type": "code",
   "execution_count": 16,
   "metadata": {},
   "outputs": [
    {
     "name": "stdout",
     "output_type": "stream",
     "text": [
      "\u001b[31mОбнаружено 48610 дубликатов (0.38%)\u001b[0m\n"
     ]
    }
   ],
   "source": [
    "check_duplicates(apparel_messages)"
   ]
  },
  {
   "cell_type": "markdown",
   "metadata": {},
   "source": [
    "Обнаружены полные дубликаты, удалим их."
   ]
  },
  {
   "cell_type": "code",
   "execution_count": 17,
   "metadata": {},
   "outputs": [],
   "source": [
    "apparel_messages = apparel_messages.drop_duplicates()"
   ]
  },
  {
   "cell_type": "code",
   "execution_count": 18,
   "metadata": {},
   "outputs": [
    {
     "name": "stdout",
     "output_type": "stream",
     "text": [
      "\u001b[32mПолных дубликатов не обнаружено.\u001b[0m\n"
     ]
    }
   ],
   "source": [
    "check_duplicates(apparel_messages)"
   ]
  },
  {
   "cell_type": "markdown",
   "metadata": {},
   "source": [
    "### 2.5. <a id='toc2_5_'></a>Проверка пропусков          [&#8593;](#toc0_)"
   ]
  },
  {
   "cell_type": "code",
   "execution_count": 19,
   "metadata": {},
   "outputs": [
    {
     "name": "stdout",
     "output_type": "stream",
     "text": [
      "+------------------+----------------------+\n",
      "|     Feature      | Missing values count |\n",
      "+------------------+----------------------+\n",
      "| bulk_campaign_id |      \u001b[32m0 (0.00%)\u001b[0m       |\n",
      "|    client_id     |      \u001b[32m0 (0.00%)\u001b[0m       |\n",
      "|    message_id    |      \u001b[32m0 (0.00%)\u001b[0m       |\n",
      "|      event       |      \u001b[32m0 (0.00%)\u001b[0m       |\n",
      "|     channel      |      \u001b[32m0 (0.00%)\u001b[0m       |\n",
      "|       date       |      \u001b[32m0 (0.00%)\u001b[0m       |\n",
      "|    created_at    |      \u001b[32m0 (0.00%)\u001b[0m       |\n",
      "+------------------+----------------------+\n"
     ]
    }
   ],
   "source": [
    "check_nans(apparel_messages)"
   ]
  },
  {
   "cell_type": "markdown",
   "metadata": {},
   "source": [
    "Датасет не имеет пропущенных значений."
   ]
  },
  {
   "cell_type": "markdown",
   "metadata": {},
   "source": [
    "### 2.6. <a id='toc2_6_'></a>Изучение признаков          [&#8593;](#toc0_)"
   ]
  },
  {
   "cell_type": "markdown",
   "metadata": {},
   "source": [
    "#### 2.6.1. <a id='toc2_6_1_'></a>Описание признаков      [&#8593;](#toc0_)"
   ]
  },
  {
   "cell_type": "markdown",
   "metadata": {},
   "source": [
    "Датасет содержит данные о рассылках, которые были отправлены клиентам из таблицы покупок.\n",
    "\n",
    "**Признаки:**\n",
    "| Признак            | Описание                                                |\n",
    "|:------------------:|---------------------------------------------------------|\n",
    "| `bulk_campaign_id` | идентификатор рассылки                                  |\n",
    "| `client_id`        | идентификатор клиента                                   |\n",
    "| `message_id`       | идентификатор сообщения                                 |\n",
    "| `event`            | действие с сообщением (отправлено, открыто, покупка...) |\n",
    "| `channel`          | канал рассылки                                          |\n",
    "| `date`             | дата действия                                           |\n",
    "| `created_at`       | дата-время полностью                                    |"
   ]
  },
  {
   "cell_type": "markdown",
   "metadata": {},
   "source": [
    "#### 2.6.2. <a id='toc2_6_2_'></a>Признак `bulk_campaign_id`        [&#8593;](#toc0_)"
   ]
  },
  {
   "cell_type": "code",
   "execution_count": 20,
   "metadata": {},
   "outputs": [
    {
     "data": {
      "text/plain": [
       "0            4439\n",
       "1            4439\n",
       "2            4439\n",
       "3            4439\n",
       "4            4439\n",
       "            ...  \n",
       "12739793    14657\n",
       "12739794    14657\n",
       "12739795    14641\n",
       "12739796    14624\n",
       "12739797    14641\n",
       "Name: bulk_campaign_id, Length: 12691188, dtype: int16"
      ]
     },
     "execution_count": 20,
     "metadata": {},
     "output_type": "execute_result"
    }
   ],
   "source": [
    "apparel_messages['bulk_campaign_id']"
   ]
  },
  {
   "cell_type": "code",
   "execution_count": 21,
   "metadata": {},
   "outputs": [
    {
     "data": {
      "text/plain": [
       "2709"
      ]
     },
     "execution_count": 21,
     "metadata": {},
     "output_type": "execute_result"
    }
   ],
   "source": [
    "apparel_messages['bulk_campaign_id'].nunique()"
   ]
  },
  {
   "cell_type": "markdown",
   "metadata": {},
   "source": [
    "Данный столбец является идентификатором рассылки и будет использован при объединении датасетов."
   ]
  },
  {
   "cell_type": "markdown",
   "metadata": {},
   "source": [
    "#### 2.6.3. <a id='toc2_6_3_'></a>Признак `client_id`        [&#8593;](#toc0_)"
   ]
  },
  {
   "cell_type": "code",
   "execution_count": 22,
   "metadata": {},
   "outputs": [
    {
     "data": {
      "text/plain": [
       "53329"
      ]
     },
     "execution_count": 22,
     "metadata": {},
     "output_type": "execute_result"
    }
   ],
   "source": [
    "apparel_messages['client_id'].nunique()"
   ]
  },
  {
   "cell_type": "markdown",
   "metadata": {},
   "source": [
    "Это идентификатор клиента. Он также будет использоваться при объединении датасетов."
   ]
  },
  {
   "cell_type": "markdown",
   "metadata": {},
   "source": [
    "#### 2.6.4. <a id='toc2_6_4_'></a>Признак `message_id`       [&#8593;](#toc0_)"
   ]
  },
  {
   "cell_type": "code",
   "execution_count": 23,
   "metadata": {},
   "outputs": [
    {
     "data": {
      "text/plain": [
       "0            1515915625626736623-4439-6283415ac07ea\n",
       "1            1515915625490086521-4439-62834150016dd\n",
       "2            1515915625553578558-4439-6283415b36b4f\n",
       "3            1515915625553578558-4439-6283415b36b4f\n",
       "4            1515915625471518311-4439-628341570c133\n",
       "                             ...                   \n",
       "12739793    1515915625477497874-14657-65cdd371cc86c\n",
       "12739794    1515915625765994334-14657-65cdd36018eac\n",
       "12739795    1515915625545014677-14641-65cb2434b25a1\n",
       "12739796    1515915625477497874-14624-65c5e22fb401e\n",
       "12739797    1515915625477497874-14641-65cb249172d68\n",
       "Name: message_id, Length: 12691188, dtype: object"
      ]
     },
     "execution_count": 23,
     "metadata": {},
     "output_type": "execute_result"
    }
   ],
   "source": [
    "apparel_messages['message_id']"
   ]
  },
  {
   "cell_type": "code",
   "execution_count": 24,
   "metadata": {},
   "outputs": [
    {
     "data": {
      "text/plain": [
       "(9061667, 12691188)"
      ]
     },
     "execution_count": 24,
     "metadata": {},
     "output_type": "execute_result"
    }
   ],
   "source": [
    "apparel_messages['message_id'].nunique(), len(apparel_messages)"
   ]
  },
  {
   "cell_type": "markdown",
   "metadata": {},
   "source": [
    "Данный столбец является идентификатор сообщения."
   ]
  },
  {
   "cell_type": "markdown",
   "metadata": {},
   "source": [
    "#### 2.6.5. <a id='toc2_6_5_'></a>Признак `event`       [&#8593;](#toc0_)"
   ]
  },
  {
   "cell_type": "code",
   "execution_count": 25,
   "metadata": {},
   "outputs": [
    {
     "data": {
      "text/plain": [
       "0            open\n",
       "1            open\n",
       "2            open\n",
       "3           click\n",
       "4            open\n",
       "            ...  \n",
       "12739793     open\n",
       "12739794     open\n",
       "12739795     open\n",
       "12739796     open\n",
       "12739797     open\n",
       "Name: event, Length: 12691188, dtype: object"
      ]
     },
     "execution_count": 25,
     "metadata": {},
     "output_type": "execute_result"
    }
   ],
   "source": [
    "apparel_messages['event']"
   ]
  },
  {
   "cell_type": "code",
   "execution_count": 26,
   "metadata": {},
   "outputs": [
    {
     "data": {
      "text/plain": [
       "11"
      ]
     },
     "execution_count": 26,
     "metadata": {},
     "output_type": "execute_result"
    }
   ],
   "source": [
    "apparel_messages['event'].nunique()"
   ]
  },
  {
   "cell_type": "code",
   "execution_count": 27,
   "metadata": {},
   "outputs": [
    {
     "data": {
      "text/html": [
       "<div>\n",
       "<style scoped>\n",
       "    .dataframe tbody tr th:only-of-type {\n",
       "        vertical-align: middle;\n",
       "    }\n",
       "\n",
       "    .dataframe tbody tr th {\n",
       "        vertical-align: top;\n",
       "    }\n",
       "\n",
       "    .dataframe thead th {\n",
       "        text-align: right;\n",
       "    }\n",
       "</style>\n",
       "<table border=\"1\" class=\"dataframe\">\n",
       "  <thead>\n",
       "    <tr style=\"text-align: right;\">\n",
       "      <th></th>\n",
       "      <th>count</th>\n",
       "      <th>part</th>\n",
       "    </tr>\n",
       "    <tr>\n",
       "      <th>event</th>\n",
       "      <th></th>\n",
       "      <th></th>\n",
       "    </tr>\n",
       "  </thead>\n",
       "  <tbody>\n",
       "    <tr>\n",
       "      <th>send</th>\n",
       "      <td>9058174</td>\n",
       "      <td>0.71</td>\n",
       "    </tr>\n",
       "    <tr>\n",
       "      <th>open</th>\n",
       "      <td>3052481</td>\n",
       "      <td>0.24</td>\n",
       "    </tr>\n",
       "    <tr>\n",
       "      <th>click</th>\n",
       "      <td>483326</td>\n",
       "      <td>0.04</td>\n",
       "    </tr>\n",
       "    <tr>\n",
       "      <th>purchase</th>\n",
       "      <td>62593</td>\n",
       "      <td>0.00</td>\n",
       "    </tr>\n",
       "    <tr>\n",
       "      <th>hard_bounce</th>\n",
       "      <td>19763</td>\n",
       "      <td>0.00</td>\n",
       "    </tr>\n",
       "    <tr>\n",
       "      <th>soft_bounce</th>\n",
       "      <td>10582</td>\n",
       "      <td>0.00</td>\n",
       "    </tr>\n",
       "    <tr>\n",
       "      <th>unsubscribe</th>\n",
       "      <td>2833</td>\n",
       "      <td>0.00</td>\n",
       "    </tr>\n",
       "    <tr>\n",
       "      <th>hbq_spam</th>\n",
       "      <td>823</td>\n",
       "      <td>0.00</td>\n",
       "    </tr>\n",
       "    <tr>\n",
       "      <th>complain</th>\n",
       "      <td>527</td>\n",
       "      <td>0.00</td>\n",
       "    </tr>\n",
       "    <tr>\n",
       "      <th>subscribe</th>\n",
       "      <td>85</td>\n",
       "      <td>0.00</td>\n",
       "    </tr>\n",
       "    <tr>\n",
       "      <th>close</th>\n",
       "      <td>1</td>\n",
       "      <td>0.00</td>\n",
       "    </tr>\n",
       "  </tbody>\n",
       "</table>\n",
       "</div>"
      ],
      "text/plain": [
       "               count  part\n",
       "event                     \n",
       "send         9058174  0.71\n",
       "open         3052481  0.24\n",
       "click         483326  0.04\n",
       "purchase       62593  0.00\n",
       "hard_bounce    19763  0.00\n",
       "soft_bounce    10582  0.00\n",
       "unsubscribe     2833  0.00\n",
       "hbq_spam         823  0.00\n",
       "complain         527  0.00\n",
       "subscribe         85  0.00\n",
       "close              1  0.00"
      ]
     },
     "metadata": {},
     "output_type": "display_data"
    }
   ],
   "source": [
    "get_value_counts(apparel_messages['event'])"
   ]
  },
  {
   "cell_type": "markdown",
   "metadata": {},
   "source": [
    "#### 2.6.6. <a id='toc2_6_6_'></a>Признак `channel`      [&#8593;](#toc0_)"
   ]
  },
  {
   "cell_type": "code",
   "execution_count": 28,
   "metadata": {},
   "outputs": [
    {
     "data": {
      "text/plain": [
       "0           email\n",
       "1           email\n",
       "2           email\n",
       "3           email\n",
       "4           email\n",
       "            ...  \n",
       "12739793    email\n",
       "12739794    email\n",
       "12739795    email\n",
       "12739796    email\n",
       "12739797    email\n",
       "Name: channel, Length: 12691188, dtype: object"
      ]
     },
     "execution_count": 28,
     "metadata": {},
     "output_type": "execute_result"
    }
   ],
   "source": [
    "apparel_messages['channel']"
   ]
  },
  {
   "cell_type": "code",
   "execution_count": 29,
   "metadata": {},
   "outputs": [
    {
     "data": {
      "text/plain": [
       "2"
      ]
     },
     "execution_count": 29,
     "metadata": {},
     "output_type": "execute_result"
    }
   ],
   "source": [
    "apparel_messages['channel'].nunique()"
   ]
  },
  {
   "cell_type": "code",
   "execution_count": 30,
   "metadata": {},
   "outputs": [
    {
     "data": {
      "text/html": [
       "<div>\n",
       "<style scoped>\n",
       "    .dataframe tbody tr th:only-of-type {\n",
       "        vertical-align: middle;\n",
       "    }\n",
       "\n",
       "    .dataframe tbody tr th {\n",
       "        vertical-align: top;\n",
       "    }\n",
       "\n",
       "    .dataframe thead th {\n",
       "        text-align: right;\n",
       "    }\n",
       "</style>\n",
       "<table border=\"1\" class=\"dataframe\">\n",
       "  <thead>\n",
       "    <tr style=\"text-align: right;\">\n",
       "      <th></th>\n",
       "      <th>count</th>\n",
       "      <th>part</th>\n",
       "    </tr>\n",
       "    <tr>\n",
       "      <th>channel</th>\n",
       "      <th></th>\n",
       "      <th></th>\n",
       "    </tr>\n",
       "  </thead>\n",
       "  <tbody>\n",
       "    <tr>\n",
       "      <th>mobile_push</th>\n",
       "      <td>7470472</td>\n",
       "      <td>0.59</td>\n",
       "    </tr>\n",
       "    <tr>\n",
       "      <th>email</th>\n",
       "      <td>5220716</td>\n",
       "      <td>0.41</td>\n",
       "    </tr>\n",
       "  </tbody>\n",
       "</table>\n",
       "</div>"
      ],
      "text/plain": [
       "               count  part\n",
       "channel                   \n",
       "mobile_push  7470472  0.59\n",
       "email        5220716  0.41"
      ]
     },
     "metadata": {},
     "output_type": "display_data"
    }
   ],
   "source": [
    "get_value_counts(apparel_messages['channel'])"
   ]
  },
  {
   "cell_type": "code",
   "execution_count": 31,
   "metadata": {},
   "outputs": [
    {
     "data": {
      "image/png": "[encoded data removed]",
      "text/plain": [
       "<Figure size 400x400 with 1 Axes>"
      ]
     },
     "metadata": {},
     "output_type": "display_data"
    }
   ],
   "source": [
    "plot_pie_chart(apparel_messages['channel'])"
   ]
  },
  {
   "cell_type": "markdown",
   "metadata": {},
   "source": [
    "#### 2.6.7. <a id='toc2_6_7_'></a>Признак `date`      [&#8593;](#toc0_)"
   ]
  },
  {
   "cell_type": "code",
   "execution_count": 32,
   "metadata": {},
   "outputs": [
    {
     "data": {
      "text/plain": [
       "0          2022-05-19\n",
       "1          2022-05-19\n",
       "2          2022-05-19\n",
       "3          2022-05-19\n",
       "4          2022-05-19\n",
       "              ...    \n",
       "12739793   2024-02-15\n",
       "12739794   2024-02-15\n",
       "12739795   2024-02-15\n",
       "12739796   2024-02-15\n",
       "12739797   2024-02-15\n",
       "Name: date, Length: 12691188, dtype: datetime64[ns]"
      ]
     },
     "execution_count": 32,
     "metadata": {},
     "output_type": "execute_result"
    }
   ],
   "source": [
    "apparel_messages['date']"
   ]
  },
  {
   "cell_type": "code",
   "execution_count": 33,
   "metadata": {},
   "outputs": [
    {
     "data": {
      "text/plain": [
       "count                         12691188\n",
       "mean     2023-06-04 17:27:00.569989632\n",
       "min                2022-05-19 00:00:00\n",
       "25%                2022-12-16 00:00:00\n",
       "50%                2023-07-20 00:00:00\n",
       "75%                2023-11-21 00:00:00\n",
       "max                2024-02-15 00:00:00\n",
       "Name: date, dtype: object"
      ]
     },
     "execution_count": 33,
     "metadata": {},
     "output_type": "execute_result"
    }
   ],
   "source": [
    "apparel_messages['date'].describe()"
   ]
  },
  {
   "cell_type": "markdown",
   "metadata": {},
   "source": [
    "Все даты адекватны."
   ]
  },
  {
   "cell_type": "markdown",
   "metadata": {},
   "source": [
    "#### 2.6.8. <a id='toc2_6_8_'></a>Признак `created_at`     [&#8593;](#toc0_)"
   ]
  },
  {
   "cell_type": "code",
   "execution_count": 34,
   "metadata": {},
   "outputs": [
    {
     "data": {
      "text/plain": [
       "0          2022-05-19 00:14:20\n",
       "1          2022-05-19 00:39:34\n",
       "2          2022-05-19 00:51:49\n",
       "3          2022-05-19 00:52:20\n",
       "4          2022-05-19 00:56:52\n",
       "                   ...        \n",
       "12739793   2024-02-15 23:51:40\n",
       "12739794   2024-02-15 23:52:20\n",
       "12739795   2024-02-15 23:52:40\n",
       "12739796   2024-02-15 23:58:40\n",
       "12739797   2024-02-15 23:58:40\n",
       "Name: created_at, Length: 12691188, dtype: datetime64[ns]"
      ]
     },
     "execution_count": 34,
     "metadata": {},
     "output_type": "execute_result"
    }
   ],
   "source": [
    "apparel_messages['created_at']"
   ]
  },
  {
   "cell_type": "code",
   "execution_count": 67,
   "metadata": {},
   "outputs": [
    {
     "data": {
      "text/plain": [
       "count                         12691188\n",
       "mean     2023-06-05 04:38:55.658559232\n",
       "min                2022-05-19 00:14:20\n",
       "25%                2022-12-16 19:15:55\n",
       "50%                2023-07-20 11:09:42\n",
       "75%                2023-11-21 15:58:05\n",
       "max                2024-02-15 23:58:40\n",
       "Name: created_at, dtype: object"
      ]
     },
     "execution_count": 67,
     "metadata": {},
     "output_type": "execute_result"
    }
   ],
   "source": [
    "apparel_messages['created_at'].describe()"
   ]
  },
  {
   "cell_type": "markdown",
   "metadata": {},
   "source": [
    "Все даты адекватны."
   ]
  },
  {
   "cell_type": "code",
   "execution_count": 35,
   "metadata": {},
   "outputs": [
    {
     "data": {
      "text/plain": [
       "0"
      ]
     },
     "execution_count": 35,
     "metadata": {},
     "output_type": "execute_result"
    }
   ],
   "source": [
    "mask = (apparel_messages['date'].dt.year != apparel_messages['created_at'].dt.year) | \\\n",
    "       (apparel_messages['date'].dt.month != apparel_messages['created_at'].dt.month) | \\\n",
    "       (apparel_messages['date'].dt.day != apparel_messages['created_at'].dt.day)\n",
    "mask.sum()"
   ]
  },
  {
   "cell_type": "markdown",
   "metadata": {},
   "source": [
    "Признак `created_at` содержит более полную информацию о дате рассылки, чем `date`, так содержит те же самые даты, но еще и время. По сути признак `created_at` включает в себя информацию столбца `date`, следовательно последний может быть удален."
   ]
  },
  {
   "cell_type": "code",
   "execution_count": 36,
   "metadata": {},
   "outputs": [],
   "source": [
    "shape_before = apparel_messages.shape\n",
    "apparel_messages = apparel_messages.drop(columns='date')\n",
    "\n",
    "assert apparel_messages.shape[0] == shape_before[0], 'Количество строк ДО и ПОСЛЕ удаления не совпадает.'\n",
    "assert 'date' not in apparel_messages.columns, 'Признак не был удален.'\n",
    "assert apparel_messages.shape[1] == shape_before[1] - 1, 'Количество признаков не совпадает с ожидаемым.'"
   ]
  },
  {
   "cell_type": "markdown",
   "metadata": {},
   "source": [
    "### 2.7. <a id='toc2_7_'></a>Выводы по датасету     [&#8593;](#toc0_)"
   ]
  },
  {
   "cell_type": "markdown",
   "metadata": {},
   "source": [
    "Датасет содержит данные о рассылках, которые были отправлены клиентам из таблицы покупок. Содержит несколько id (`client_id`, `message_id`), которые будут использованы для объединения с другими таблицами.\n",
    "\n",
    "Пропусков в датасете нет, полные дубликаты были обнаружены (`48610 (0.38%)`) и удалены.\n",
    "\n",
    "Было замечено, что признак `created_at` содержит более полную информацию о дате рассылки, чем `date`, так содержит те же самые даты, но еще время. По сути признак `created_at` включает в себя информацию столбца `date`. Поэтому признак `date` был удален."
   ]
  },
  {
   "cell_type": "markdown",
   "metadata": {},
   "source": [
    "## 3. <a id='toc3_'></a>Датасет `apparel-purchases.csv`         [&#8593;](#toc0_)"
   ]
  },
  {
   "cell_type": "markdown",
   "metadata": {},
   "source": [
    "### 3.1. <a id='toc3_1_'></a>Загрузка         [&#8593;](#toc0_)"
   ]
  },
  {
   "cell_type": "code",
   "execution_count": 37,
   "metadata": {},
   "outputs": [],
   "source": [
    "apparel_purchases = pd.read_csv('./data/apparel-purchases.csv', parse_dates=['date'])"
   ]
  },
  {
   "cell_type": "code",
   "execution_count": 38,
   "metadata": {},
   "outputs": [
    {
     "data": {
      "text/html": [
       "<div>\n",
       "<style scoped>\n",
       "    .dataframe tbody tr th:only-of-type {\n",
       "        vertical-align: middle;\n",
       "    }\n",
       "\n",
       "    .dataframe tbody tr th {\n",
       "        vertical-align: top;\n",
       "    }\n",
       "\n",
       "    .dataframe thead th {\n",
       "        text-align: right;\n",
       "    }\n",
       "</style>\n",
       "<table border=\"1\" class=\"dataframe\">\n",
       "  <thead>\n",
       "    <tr style=\"text-align: right;\">\n",
       "      <th></th>\n",
       "      <th>client_id</th>\n",
       "      <th>quantity</th>\n",
       "      <th>price</th>\n",
       "      <th>category_ids</th>\n",
       "      <th>date</th>\n",
       "      <th>message_id</th>\n",
       "    </tr>\n",
       "  </thead>\n",
       "  <tbody>\n",
       "    <tr>\n",
       "      <th>0</th>\n",
       "      <td>1515915625468169594</td>\n",
       "      <td>1</td>\n",
       "      <td>1999.00</td>\n",
       "      <td>['4', '28', '57', '431']</td>\n",
       "      <td>2022-05-16</td>\n",
       "      <td>1515915625468169594-4301-627b661e9736d</td>\n",
       "    </tr>\n",
       "    <tr>\n",
       "      <th>1</th>\n",
       "      <td>1515915625468169594</td>\n",
       "      <td>1</td>\n",
       "      <td>2499.00</td>\n",
       "      <td>['4', '28', '57', '431']</td>\n",
       "      <td>2022-05-16</td>\n",
       "      <td>1515915625468169594-4301-627b661e9736d</td>\n",
       "    </tr>\n",
       "    <tr>\n",
       "      <th>2</th>\n",
       "      <td>1515915625471138230</td>\n",
       "      <td>1</td>\n",
       "      <td>6499.00</td>\n",
       "      <td>['4', '28', '57', '431']</td>\n",
       "      <td>2022-05-16</td>\n",
       "      <td>1515915625471138230-4437-6282242f27843</td>\n",
       "    </tr>\n",
       "    <tr>\n",
       "      <th>3</th>\n",
       "      <td>1515915625471138230</td>\n",
       "      <td>1</td>\n",
       "      <td>4999.00</td>\n",
       "      <td>['4', '28', '244', '432']</td>\n",
       "      <td>2022-05-16</td>\n",
       "      <td>1515915625471138230-4437-6282242f27843</td>\n",
       "    </tr>\n",
       "    <tr>\n",
       "      <th>4</th>\n",
       "      <td>1515915625471138230</td>\n",
       "      <td>1</td>\n",
       "      <td>4999.00</td>\n",
       "      <td>['4', '28', '49', '413']</td>\n",
       "      <td>2022-05-16</td>\n",
       "      <td>1515915625471138230-4437-6282242f27843</td>\n",
       "    </tr>\n",
       "  </tbody>\n",
       "</table>\n",
       "</div>"
      ],
      "text/plain": [
       "             client_id  quantity   price               category_ids  \\\n",
       "0  1515915625468169594         1 1999.00   ['4', '28', '57', '431']   \n",
       "1  1515915625468169594         1 2499.00   ['4', '28', '57', '431']   \n",
       "2  1515915625471138230         1 6499.00   ['4', '28', '57', '431']   \n",
       "3  1515915625471138230         1 4999.00  ['4', '28', '244', '432']   \n",
       "4  1515915625471138230         1 4999.00   ['4', '28', '49', '413']   \n",
       "\n",
       "        date                              message_id  \n",
       "0 2022-05-16  1515915625468169594-4301-627b661e9736d  \n",
       "1 2022-05-16  1515915625468169594-4301-627b661e9736d  \n",
       "2 2022-05-16  1515915625471138230-4437-6282242f27843  \n",
       "3 2022-05-16  1515915625471138230-4437-6282242f27843  \n",
       "4 2022-05-16  1515915625471138230-4437-6282242f27843  "
      ]
     },
     "execution_count": 38,
     "metadata": {},
     "output_type": "execute_result"
    }
   ],
   "source": [
    "apparel_purchases.head()"
   ]
  },
  {
   "cell_type": "markdown",
   "metadata": {},
   "source": [
    "### 3.2. <a id='toc3_2_'></a>Проверка типов данных         [&#8593;](#toc0_)"
   ]
  },
  {
   "cell_type": "code",
   "execution_count": 39,
   "metadata": {},
   "outputs": [
    {
     "name": "stdout",
     "output_type": "stream",
     "text": [
      "<class 'pandas.core.frame.DataFrame'>\n",
      "RangeIndex: 202208 entries, 0 to 202207\n",
      "Data columns (total 6 columns):\n",
      " #   Column        Non-Null Count   Dtype         \n",
      "---  ------        --------------   -----         \n",
      " 0   client_id     202208 non-null  int64         \n",
      " 1   quantity      202208 non-null  int64         \n",
      " 2   price         202208 non-null  float64       \n",
      " 3   category_ids  202208 non-null  object        \n",
      " 4   date          202208 non-null  datetime64[ns]\n",
      " 5   message_id    202208 non-null  object        \n",
      "dtypes: datetime64[ns](1), float64(1), int64(2), object(2)\n",
      "memory usage: 9.3+ MB\n"
     ]
    }
   ],
   "source": [
    "apparel_purchases.info()"
   ]
  },
  {
   "cell_type": "markdown",
   "metadata": {},
   "source": [
    "Типы данных во всех признаках корректны."
   ]
  },
  {
   "cell_type": "markdown",
   "metadata": {},
   "source": [
    "### 3.3. <a id='toc3_3_'></a>Оптимизация памяти [&#8593;](#toc0_)"
   ]
  },
  {
   "cell_type": "code",
   "execution_count": 40,
   "metadata": {},
   "outputs": [
    {
     "name": "stdout",
     "output_type": "stream",
     "text": [
      "Размер использования памяти: до  9.26 Mb - после  7.14 Mb (22.9%)\n"
     ]
    }
   ],
   "source": [
    "apparel_purchases = optimize_memory_usage(apparel_purchases)"
   ]
  },
  {
   "cell_type": "markdown",
   "metadata": {},
   "source": [
    "### 3.4. <a id='toc3_4_'></a>Проверка полных дубликатов         [&#8593;](#toc0_)"
   ]
  },
  {
   "cell_type": "code",
   "execution_count": 41,
   "metadata": {},
   "outputs": [
    {
     "name": "stdout",
     "output_type": "stream",
     "text": [
      "\u001b[31mОбнаружено 73020 дубликатов (36.11%)\u001b[0m\n"
     ]
    }
   ],
   "source": [
    "check_duplicates(apparel_purchases)"
   ]
  },
  {
   "cell_type": "markdown",
   "metadata": {},
   "source": [
    "Обнаружено довольно большое количество полных дубликатов (больше `36%`). Это выглядит довольно странно.\n",
    "\n",
    "Что значит, что строки полные дубликаты между собой? Что пользователь купил в один день один по одной рассылке товары с одной ценой из одной категории. Скорее всего это значит, что пользователь купил разные вкусы или оформил один и тот же товар разными заказами. Например, купил товар, подумал, что надо бы еще купить сразу прозапас. И вновь купил этот же товар.\n",
    "\n",
    "Поэтому самым логичным решением кажется сгруппировать эти строки, просуммировав признак `quantity`."
   ]
  },
  {
   "cell_type": "code",
   "execution_count": 42,
   "metadata": {},
   "outputs": [],
   "source": [
    "other_columns = apparel_purchases.columns.difference(['quantity']).tolist()\n",
    "apparel_purchases = apparel_purchases.groupby(other_columns, as_index=False).agg({'quantity': 'sum'})"
   ]
  },
  {
   "cell_type": "code",
   "execution_count": 43,
   "metadata": {},
   "outputs": [
    {
     "name": "stdout",
     "output_type": "stream",
     "text": [
      "\u001b[32mПолных дубликатов не обнаружено.\u001b[0m\n"
     ]
    }
   ],
   "source": [
    "check_duplicates(apparel_purchases)"
   ]
  },
  {
   "cell_type": "markdown",
   "metadata": {},
   "source": [
    "После преобразований полных дубликатов нет."
   ]
  },
  {
   "cell_type": "markdown",
   "metadata": {},
   "source": [
    "### 3.5. <a id='toc3_5_'></a>Проверка пропусков         [&#8593;](#toc0_)"
   ]
  },
  {
   "cell_type": "code",
   "execution_count": 44,
   "metadata": {},
   "outputs": [
    {
     "name": "stdout",
     "output_type": "stream",
     "text": [
      "+--------------+----------------------+\n",
      "|   Feature    | Missing values count |\n",
      "+--------------+----------------------+\n",
      "| category_ids |      \u001b[32m0 (0.00%)\u001b[0m       |\n",
      "|  client_id   |      \u001b[32m0 (0.00%)\u001b[0m       |\n",
      "|     date     |      \u001b[32m0 (0.00%)\u001b[0m       |\n",
      "|  message_id  |      \u001b[32m0 (0.00%)\u001b[0m       |\n",
      "|    price     |      \u001b[32m0 (0.00%)\u001b[0m       |\n",
      "|   quantity   |      \u001b[32m0 (0.00%)\u001b[0m       |\n",
      "+--------------+----------------------+\n"
     ]
    }
   ],
   "source": [
    "check_nans(apparel_purchases)"
   ]
  },
  {
   "cell_type": "markdown",
   "metadata": {},
   "source": [
    "Пропусков в датасете нет."
   ]
  },
  {
   "cell_type": "markdown",
   "metadata": {},
   "source": [
    "### 3.6. <a id='toc3_6_'></a>Изучение признаков  [&#8593;](#toc0_)"
   ]
  },
  {
   "cell_type": "markdown",
   "metadata": {},
   "source": [
    "#### 3.6.1. <a id='toc3_6_1_'></a>Описание признаков  [&#8593;](#toc0_)"
   ]
  },
  {
   "cell_type": "markdown",
   "metadata": {},
   "source": [
    "Данные о покупках клиентов по дням и по товарам. В каждой записи покупка определенного товара, его цена, количество штук.\n",
    "\n",
    "В таблице есть списки идентификаторов, к каким категориям относится товар. Часто это вложенные категории (например, автотовары-аксессуары-освежители), но также может включать в начале списка маркер распродажи или маркер женщинам/мужчинам.\n",
    "\n",
    "Нумерация категорий сквозная для всех уровней, то есть 44 на второй позиции списка или на третьей – это одна и та же категория. Иногда дерево категорий обновляется, поэтому могут меняться вложенности, например ['4', '28', '44', '1594'] или ['4', '44', '1594'].\n",
    "\n",
    "**Признаки:**\n",
    "|     Признак    | Описание                            |\n",
    "|:--------------:|-------------------------------------|\n",
    "|   `client_id`  | идентификатор клиента               |\n",
    "|   `quantity`   | количество единиц товара            |\n",
    "|     `price`    | цена товара                         |\n",
    "| `category_ids` | идентификаторы категорий            |\n",
    "|     `date`     | дата покупки                        |\n",
    "|  `message_id`  | идентификатор сообщения из рассылки |"
   ]
  },
  {
   "cell_type": "markdown",
   "metadata": {},
   "source": [
    "#### 3.6.2. <a id='toc3_6_2_'></a>Признак `client_id`  [&#8593;](#toc0_)"
   ]
  },
  {
   "cell_type": "code",
   "execution_count": 45,
   "metadata": {},
   "outputs": [
    {
     "data": {
      "text/plain": [
       "0         1515915625489044168\n",
       "1         1515915625789566616\n",
       "2         1515915625666901395\n",
       "3         1515915625468069875\n",
       "4         1515915625468124765\n",
       "                 ...         \n",
       "129013    1515915626009515678\n",
       "129014    1515915626009608336\n",
       "129015    1515915626009661190\n",
       "129016    1515915626009681249\n",
       "129017    1515915626010183608\n",
       "Name: client_id, Length: 129018, dtype: int64"
      ]
     },
     "execution_count": 45,
     "metadata": {},
     "output_type": "execute_result"
    }
   ],
   "source": [
    "apparel_purchases['client_id']"
   ]
  },
  {
   "cell_type": "markdown",
   "metadata": {},
   "source": [
    "Данный столбец содержит идентификаторы клиентов и может быть использован при объединении таблиц."
   ]
  },
  {
   "cell_type": "markdown",
   "metadata": {},
   "source": [
    "#### 3.6.3. <a id='toc3_6_3_'></a>Признак `quantity`  [&#8593;](#toc0_)"
   ]
  },
  {
   "cell_type": "code",
   "execution_count": 46,
   "metadata": {},
   "outputs": [
    {
     "data": {
      "text/plain": [
       "0         1\n",
       "1         1\n",
       "2         1\n",
       "3         1\n",
       "4         1\n",
       "         ..\n",
       "129013    2\n",
       "129014    2\n",
       "129015    2\n",
       "129016    2\n",
       "129017    2\n",
       "Name: quantity, Length: 129018, dtype: int8"
      ]
     },
     "execution_count": 46,
     "metadata": {},
     "output_type": "execute_result"
    }
   ],
   "source": [
    "apparel_purchases['quantity']"
   ]
  },
  {
   "cell_type": "code",
   "execution_count": 47,
   "metadata": {},
   "outputs": [
    {
     "data": {
      "text/plain": [
       "35"
      ]
     },
     "execution_count": 47,
     "metadata": {},
     "output_type": "execute_result"
    }
   ],
   "source": [
    "apparel_purchases['quantity'].nunique()"
   ]
  },
  {
   "cell_type": "code",
   "execution_count": 48,
   "metadata": {},
   "outputs": [
    {
     "data": {
      "text/plain": [
       "count   129018.00\n",
       "mean         1.58\n",
       "std          0.99\n",
       "min          1.00\n",
       "25%          1.00\n",
       "50%          1.00\n",
       "75%          2.00\n",
       "max         96.00\n",
       "Name: quantity, dtype: float64"
      ]
     },
     "execution_count": 48,
     "metadata": {},
     "output_type": "execute_result"
    }
   ],
   "source": [
    "apparel_purchases['quantity'].describe()"
   ]
  },
  {
   "cell_type": "code",
   "execution_count": 49,
   "metadata": {},
   "outputs": [
    {
     "data": {
      "text/html": [
       "<div>\n",
       "<style scoped>\n",
       "    .dataframe tbody tr th:only-of-type {\n",
       "        vertical-align: middle;\n",
       "    }\n",
       "\n",
       "    .dataframe tbody tr th {\n",
       "        vertical-align: top;\n",
       "    }\n",
       "\n",
       "    .dataframe thead th {\n",
       "        text-align: right;\n",
       "    }\n",
       "</style>\n",
       "<table border=\"1\" class=\"dataframe\">\n",
       "  <thead>\n",
       "    <tr style=\"text-align: right;\">\n",
       "      <th></th>\n",
       "      <th>count</th>\n",
       "      <th>part</th>\n",
       "    </tr>\n",
       "    <tr>\n",
       "      <th>quantity</th>\n",
       "      <th></th>\n",
       "      <th></th>\n",
       "    </tr>\n",
       "  </thead>\n",
       "  <tbody>\n",
       "    <tr>\n",
       "      <th>1</th>\n",
       "      <td>69620</td>\n",
       "      <td>0.54</td>\n",
       "    </tr>\n",
       "    <tr>\n",
       "      <th>2</th>\n",
       "      <td>52277</td>\n",
       "      <td>0.41</td>\n",
       "    </tr>\n",
       "    <tr>\n",
       "      <th>4</th>\n",
       "      <td>3038</td>\n",
       "      <td>0.02</td>\n",
       "    </tr>\n",
       "    <tr>\n",
       "      <th>3</th>\n",
       "      <td>2930</td>\n",
       "      <td>0.02</td>\n",
       "    </tr>\n",
       "    <tr>\n",
       "      <th>6</th>\n",
       "      <td>508</td>\n",
       "      <td>0.00</td>\n",
       "    </tr>\n",
       "    <tr>\n",
       "      <th>5</th>\n",
       "      <td>312</td>\n",
       "      <td>0.00</td>\n",
       "    </tr>\n",
       "    <tr>\n",
       "      <th>8</th>\n",
       "      <td>87</td>\n",
       "      <td>0.00</td>\n",
       "    </tr>\n",
       "    <tr>\n",
       "      <th>7</th>\n",
       "      <td>69</td>\n",
       "      <td>0.00</td>\n",
       "    </tr>\n",
       "    <tr>\n",
       "      <th>10</th>\n",
       "      <td>44</td>\n",
       "      <td>0.00</td>\n",
       "    </tr>\n",
       "    <tr>\n",
       "      <th>12</th>\n",
       "      <td>39</td>\n",
       "      <td>0.00</td>\n",
       "    </tr>\n",
       "    <tr>\n",
       "      <th>9</th>\n",
       "      <td>31</td>\n",
       "      <td>0.00</td>\n",
       "    </tr>\n",
       "    <tr>\n",
       "      <th>11</th>\n",
       "      <td>12</td>\n",
       "      <td>0.00</td>\n",
       "    </tr>\n",
       "    <tr>\n",
       "      <th>15</th>\n",
       "      <td>6</td>\n",
       "      <td>0.00</td>\n",
       "    </tr>\n",
       "    <tr>\n",
       "      <th>20</th>\n",
       "      <td>6</td>\n",
       "      <td>0.00</td>\n",
       "    </tr>\n",
       "    <tr>\n",
       "      <th>14</th>\n",
       "      <td>5</td>\n",
       "      <td>0.00</td>\n",
       "    </tr>\n",
       "    <tr>\n",
       "      <th>18</th>\n",
       "      <td>4</td>\n",
       "      <td>0.00</td>\n",
       "    </tr>\n",
       "    <tr>\n",
       "      <th>16</th>\n",
       "      <td>4</td>\n",
       "      <td>0.00</td>\n",
       "    </tr>\n",
       "    <tr>\n",
       "      <th>30</th>\n",
       "      <td>3</td>\n",
       "      <td>0.00</td>\n",
       "    </tr>\n",
       "    <tr>\n",
       "      <th>21</th>\n",
       "      <td>2</td>\n",
       "      <td>0.00</td>\n",
       "    </tr>\n",
       "    <tr>\n",
       "      <th>17</th>\n",
       "      <td>2</td>\n",
       "      <td>0.00</td>\n",
       "    </tr>\n",
       "    <tr>\n",
       "      <th>13</th>\n",
       "      <td>2</td>\n",
       "      <td>0.00</td>\n",
       "    </tr>\n",
       "    <tr>\n",
       "      <th>40</th>\n",
       "      <td>2</td>\n",
       "      <td>0.00</td>\n",
       "    </tr>\n",
       "    <tr>\n",
       "      <th>31</th>\n",
       "      <td>2</td>\n",
       "      <td>0.00</td>\n",
       "    </tr>\n",
       "    <tr>\n",
       "      <th>24</th>\n",
       "      <td>2</td>\n",
       "      <td>0.00</td>\n",
       "    </tr>\n",
       "    <tr>\n",
       "      <th>22</th>\n",
       "      <td>1</td>\n",
       "      <td>0.00</td>\n",
       "    </tr>\n",
       "    <tr>\n",
       "      <th>28</th>\n",
       "      <td>1</td>\n",
       "      <td>0.00</td>\n",
       "    </tr>\n",
       "    <tr>\n",
       "      <th>96</th>\n",
       "      <td>1</td>\n",
       "      <td>0.00</td>\n",
       "    </tr>\n",
       "    <tr>\n",
       "      <th>19</th>\n",
       "      <td>1</td>\n",
       "      <td>0.00</td>\n",
       "    </tr>\n",
       "    <tr>\n",
       "      <th>38</th>\n",
       "      <td>1</td>\n",
       "      <td>0.00</td>\n",
       "    </tr>\n",
       "    <tr>\n",
       "      <th>25</th>\n",
       "      <td>1</td>\n",
       "      <td>0.00</td>\n",
       "    </tr>\n",
       "    <tr>\n",
       "      <th>41</th>\n",
       "      <td>1</td>\n",
       "      <td>0.00</td>\n",
       "    </tr>\n",
       "    <tr>\n",
       "      <th>50</th>\n",
       "      <td>1</td>\n",
       "      <td>0.00</td>\n",
       "    </tr>\n",
       "    <tr>\n",
       "      <th>71</th>\n",
       "      <td>1</td>\n",
       "      <td>0.00</td>\n",
       "    </tr>\n",
       "    <tr>\n",
       "      <th>46</th>\n",
       "      <td>1</td>\n",
       "      <td>0.00</td>\n",
       "    </tr>\n",
       "    <tr>\n",
       "      <th>63</th>\n",
       "      <td>1</td>\n",
       "      <td>0.00</td>\n",
       "    </tr>\n",
       "  </tbody>\n",
       "</table>\n",
       "</div>"
      ],
      "text/plain": [
       "          count  part\n",
       "quantity             \n",
       "1         69620  0.54\n",
       "2         52277  0.41\n",
       "4          3038  0.02\n",
       "3          2930  0.02\n",
       "6           508  0.00\n",
       "5           312  0.00\n",
       "8            87  0.00\n",
       "7            69  0.00\n",
       "10           44  0.00\n",
       "12           39  0.00\n",
       "9            31  0.00\n",
       "11           12  0.00\n",
       "15            6  0.00\n",
       "20            6  0.00\n",
       "14            5  0.00\n",
       "18            4  0.00\n",
       "16            4  0.00\n",
       "30            3  0.00\n",
       "21            2  0.00\n",
       "17            2  0.00\n",
       "13            2  0.00\n",
       "40            2  0.00\n",
       "31            2  0.00\n",
       "24            2  0.00\n",
       "22            1  0.00\n",
       "28            1  0.00\n",
       "96            1  0.00\n",
       "19            1  0.00\n",
       "38            1  0.00\n",
       "25            1  0.00\n",
       "41            1  0.00\n",
       "50            1  0.00\n",
       "71            1  0.00\n",
       "46            1  0.00\n",
       "63            1  0.00"
      ]
     },
     "metadata": {},
     "output_type": "display_data"
    }
   ],
   "source": [
    "get_value_counts(apparel_purchases['quantity'])"
   ]
  },
  {
   "cell_type": "code",
   "execution_count": 70,
   "metadata": {},
   "outputs": [
    {
     "data": {
      "image/png": "[encoded data removed]",
      "text/plain": [
       "<Figure size 1200x1000 with 4 Axes>"
      ]
     },
     "metadata": {},
     "output_type": "display_data"
    }
   ],
   "source": [
    "draw_plots_about_column(apparel_purchases, 'quantity', bins=10)"
   ]
  },
  {
   "cell_type": "markdown",
   "metadata": {},
   "source": [
    "#### 3.6.4. <a id='toc3_6_4_'></a>Признак `price`  [&#8593;](#toc0_)"
   ]
  },
  {
   "cell_type": "code",
   "execution_count": 50,
   "metadata": {},
   "outputs": [
    {
     "data": {
      "text/plain": [
       "0        1799.00\n",
       "1        1799.00\n",
       "2         199.00\n",
       "3         999.00\n",
       "4         999.00\n",
       "           ...  \n",
       "129013      7.00\n",
       "129014      7.00\n",
       "129015      5.00\n",
       "129016      7.00\n",
       "129017      5.00\n",
       "Name: price, Length: 129018, dtype: float32"
      ]
     },
     "execution_count": 50,
     "metadata": {},
     "output_type": "execute_result"
    }
   ],
   "source": [
    "apparel_purchases['price']"
   ]
  },
  {
   "cell_type": "code",
   "execution_count": 51,
   "metadata": {},
   "outputs": [
    {
     "data": {
      "text/plain": [
       "count   129018.00\n",
       "mean      1264.69\n",
       "std       1375.35\n",
       "min          1.00\n",
       "25%        399.00\n",
       "50%        999.00\n",
       "75%       1750.00\n",
       "max      85499.00\n",
       "Name: price, dtype: float64"
      ]
     },
     "execution_count": 51,
     "metadata": {},
     "output_type": "execute_result"
    }
   ],
   "source": [
    "apparel_purchases['price'].describe()"
   ]
  },
  {
   "cell_type": "code",
   "execution_count": 52,
   "metadata": {},
   "outputs": [
    {
     "data": {
      "image/png": "[encoded data removed]",
      "text/plain": [
       "<Figure size 1200x1000 with 4 Axes>"
      ]
     },
     "metadata": {},
     "output_type": "display_data"
    }
   ],
   "source": [
    "draw_plots_about_column(apparel_purchases, 'price')"
   ]
  },
  {
   "cell_type": "markdown",
   "metadata": {},
   "source": [
    "#### 3.6.5. <a id='toc3_6_5_'></a>Признак `category_ids`  [&#8593;](#toc0_)"
   ]
  },
  {
   "cell_type": "code",
   "execution_count": 71,
   "metadata": {},
   "outputs": [
    {
     "data": {
      "text/plain": [
       "0          ['1', '22', '50', '685']\n",
       "1          ['1', '22', '50', '685']\n",
       "2          ['1', '8', '280', '710']\n",
       "3         ['2', '17', '107', '453']\n",
       "4         ['2', '17', '107', '453']\n",
       "                    ...            \n",
       "129013                           []\n",
       "129014                           []\n",
       "129015                           []\n",
       "129016                           []\n",
       "129017                           []\n",
       "Name: category_ids, Length: 129018, dtype: object"
      ]
     },
     "execution_count": 71,
     "metadata": {},
     "output_type": "execute_result"
    }
   ],
   "source": [
    "apparel_purchases['category_ids']"
   ]
  },
  {
   "cell_type": "markdown",
   "metadata": {},
   "source": [
    "Сразу заметим, что есть часть товаров вообще без категорий."
   ]
  },
  {
   "cell_type": "code",
   "execution_count": 72,
   "metadata": {},
   "outputs": [
    {
     "data": {
      "text/plain": [
       "933"
      ]
     },
     "execution_count": 72,
     "metadata": {},
     "output_type": "execute_result"
    }
   ],
   "source": [
    "apparel_purchases['category_ids'].nunique()"
   ]
  },
  {
   "cell_type": "markdown",
   "metadata": {},
   "source": [
    "Довольно большое количество уникальных сочетаний."
   ]
  },
  {
   "cell_type": "markdown",
   "metadata": {},
   "source": [
    "В задании было указано, что\n",
    "\n",
    "> Иногда дерево категорий обновляется, поэтому могут меняться вложенности, например ['4', '28', '44', '1594'] или ['4', '44', '1594']. Как обработать такие случаи – можете предлагать свои варианты решения."
   ]
  },
  {
   "cell_type": "markdown",
   "metadata": {},
   "source": [
    "#### 3.6.6. <a id='toc3_6_6_'></a>Признак `date`  [&#8593;](#toc0_)"
   ]
  },
  {
   "cell_type": "code",
   "execution_count": 53,
   "metadata": {},
   "outputs": [
    {
     "data": {
      "text/plain": [
       "0        2022-07-12\n",
       "1        2022-08-07\n",
       "2        2022-06-01\n",
       "3        2022-07-09\n",
       "4        2022-07-08\n",
       "            ...    \n",
       "129013   2024-02-03\n",
       "129014   2024-02-06\n",
       "129015   2024-02-07\n",
       "129016   2024-02-05\n",
       "129017   2024-02-13\n",
       "Name: date, Length: 129018, dtype: datetime64[ns]"
      ]
     },
     "execution_count": 53,
     "metadata": {},
     "output_type": "execute_result"
    }
   ],
   "source": [
    "apparel_purchases['date']"
   ]
  },
  {
   "cell_type": "code",
   "execution_count": 54,
   "metadata": {},
   "outputs": [
    {
     "data": {
      "text/plain": [
       "count                           129018\n",
       "mean     2023-02-26 10:13:27.292005632\n",
       "min                2022-05-16 00:00:00\n",
       "25%                2022-09-09 00:00:00\n",
       "50%                2023-03-22 00:00:00\n",
       "75%                2023-06-28 00:00:00\n",
       "max                2024-02-16 00:00:00\n",
       "Name: date, dtype: object"
      ]
     },
     "execution_count": 54,
     "metadata": {},
     "output_type": "execute_result"
    }
   ],
   "source": [
    "apparel_purchases['date'].describe()"
   ]
  },
  {
   "cell_type": "markdown",
   "metadata": {},
   "source": [
    "Все даты адекватны."
   ]
  },
  {
   "cell_type": "markdown",
   "metadata": {},
   "source": [
    "#### 3.6.7. <a id='toc3_6_7_'></a>Признак `message_id`  [&#8593;](#toc0_)"
   ]
  },
  {
   "cell_type": "code",
   "execution_count": 55,
   "metadata": {},
   "outputs": [
    {
     "data": {
      "text/plain": [
       "0          1515915625489044168-5335-62c7d2d6bd056\n",
       "1          1515915625789566616-5785-62ecc38c85606\n",
       "2          1515915625666901395-4698-62971583c7270\n",
       "3          1515915625487285028-5335-62c7d2b9eef22\n",
       "4          1515915625468124765-5335-62c7d2d245db8\n",
       "                           ...                   \n",
       "129013    1515915625776547382-14587-65bcc2a78a468\n",
       "129014    1515915626009608336-14594-65c0879eaf1ec\n",
       "129015    1515915626009661190-14600-65c1e75b31a21\n",
       "129016    1515915625558930991-14595-65c085673111d\n",
       "129017    1515915625489302721-14623-65c5c5804cb67\n",
       "Name: message_id, Length: 129018, dtype: object"
      ]
     },
     "execution_count": 55,
     "metadata": {},
     "output_type": "execute_result"
    }
   ],
   "source": [
    "apparel_purchases['message_id']"
   ]
  },
  {
   "cell_type": "markdown",
   "metadata": {},
   "source": [
    "Значения в данном столбце состоят из 3 частей: id клиента (`client_id`), id рекламной компании (`bulk_campaign_id`) и (как я понимаю) непосредственно id сообщения."
   ]
  },
  {
   "cell_type": "markdown",
   "metadata": {},
   "source": [
    "### 3.7. <a id='toc3_7_'></a>Выводы по датасету  [&#8593;](#toc0_)"
   ]
  },
  {
   "cell_type": "markdown",
   "metadata": {},
   "source": [
    "## 4. <a id='toc4_'></a>Датасет `apparel-target_binary.csv`          [&#8593;](#toc0_)"
   ]
  },
  {
   "cell_type": "code",
   "execution_count": 56,
   "metadata": {},
   "outputs": [],
   "source": [
    "apparel_target_binary = pd.read_csv('./data/apparel-target_binary.csv')"
   ]
  },
  {
   "cell_type": "code",
   "execution_count": 57,
   "metadata": {},
   "outputs": [
    {
     "data": {
      "text/html": [
       "<div>\n",
       "<style scoped>\n",
       "    .dataframe tbody tr th:only-of-type {\n",
       "        vertical-align: middle;\n",
       "    }\n",
       "\n",
       "    .dataframe tbody tr th {\n",
       "        vertical-align: top;\n",
       "    }\n",
       "\n",
       "    .dataframe thead th {\n",
       "        text-align: right;\n",
       "    }\n",
       "</style>\n",
       "<table border=\"1\" class=\"dataframe\">\n",
       "  <thead>\n",
       "    <tr style=\"text-align: right;\">\n",
       "      <th></th>\n",
       "      <th>client_id</th>\n",
       "      <th>target</th>\n",
       "    </tr>\n",
       "  </thead>\n",
       "  <tbody>\n",
       "    <tr>\n",
       "      <th>0</th>\n",
       "      <td>1515915625468060902</td>\n",
       "      <td>0</td>\n",
       "    </tr>\n",
       "    <tr>\n",
       "      <th>1</th>\n",
       "      <td>1515915625468061003</td>\n",
       "      <td>1</td>\n",
       "    </tr>\n",
       "    <tr>\n",
       "      <th>2</th>\n",
       "      <td>1515915625468061099</td>\n",
       "      <td>0</td>\n",
       "    </tr>\n",
       "    <tr>\n",
       "      <th>3</th>\n",
       "      <td>1515915625468061100</td>\n",
       "      <td>0</td>\n",
       "    </tr>\n",
       "    <tr>\n",
       "      <th>4</th>\n",
       "      <td>1515915625468061170</td>\n",
       "      <td>0</td>\n",
       "    </tr>\n",
       "  </tbody>\n",
       "</table>\n",
       "</div>"
      ],
      "text/plain": [
       "             client_id  target\n",
       "0  1515915625468060902       0\n",
       "1  1515915625468061003       1\n",
       "2  1515915625468061099       0\n",
       "3  1515915625468061100       0\n",
       "4  1515915625468061170       0"
      ]
     },
     "execution_count": 57,
     "metadata": {},
     "output_type": "execute_result"
    }
   ],
   "source": [
    "apparel_target_binary.head()"
   ]
  },
  {
   "cell_type": "markdown",
   "metadata": {},
   "source": [
    "### 4.1. <a id='toc4_1_'></a>Проверка типов данных          [&#8593;](#toc0_)"
   ]
  },
  {
   "cell_type": "code",
   "execution_count": 58,
   "metadata": {},
   "outputs": [
    {
     "name": "stdout",
     "output_type": "stream",
     "text": [
      "<class 'pandas.core.frame.DataFrame'>\n",
      "RangeIndex: 49849 entries, 0 to 49848\n",
      "Data columns (total 2 columns):\n",
      " #   Column     Non-Null Count  Dtype\n",
      "---  ------     --------------  -----\n",
      " 0   client_id  49849 non-null  int64\n",
      " 1   target     49849 non-null  int64\n",
      "dtypes: int64(2)\n",
      "memory usage: 779.0 KB\n"
     ]
    }
   ],
   "source": [
    "apparel_target_binary.info()"
   ]
  },
  {
   "cell_type": "markdown",
   "metadata": {},
   "source": [
    "Все столбцы имеют верные типы данных."
   ]
  },
  {
   "cell_type": "markdown",
   "metadata": {},
   "source": [
    "### 4.2. <a id='toc4_2_'></a>Оптимизация памяти [&#8593;](#toc0_)"
   ]
  },
  {
   "cell_type": "code",
   "execution_count": 59,
   "metadata": {},
   "outputs": [
    {
     "name": "stdout",
     "output_type": "stream",
     "text": [
      "Размер использования памяти: до  0.76 Mb - после  0.43 Mb (43.7%)\n"
     ]
    }
   ],
   "source": [
    "apparel_target_binary = optimize_memory_usage(apparel_target_binary)"
   ]
  },
  {
   "cell_type": "markdown",
   "metadata": {},
   "source": [
    "### 4.3. <a id='toc4_3_'></a>Проверка полных дубликатов          [&#8593;](#toc0_)"
   ]
  },
  {
   "cell_type": "code",
   "execution_count": 60,
   "metadata": {},
   "outputs": [
    {
     "name": "stdout",
     "output_type": "stream",
     "text": [
      "\u001b[32mПолных дубликатов не обнаружено.\u001b[0m\n"
     ]
    }
   ],
   "source": [
    "check_duplicates(apparel_target_binary)"
   ]
  },
  {
   "cell_type": "markdown",
   "metadata": {},
   "source": [
    "### 4.4. <a id='toc4_4_'></a>Проверка пропусков          [&#8593;](#toc0_)"
   ]
  },
  {
   "cell_type": "code",
   "execution_count": 61,
   "metadata": {},
   "outputs": [
    {
     "name": "stdout",
     "output_type": "stream",
     "text": [
      "+-----------+----------------------+\n",
      "|  Feature  | Missing values count |\n",
      "+-----------+----------------------+\n",
      "| client_id |      \u001b[32m0 (0.00%)\u001b[0m       |\n",
      "|   target  |      \u001b[32m0 (0.00%)\u001b[0m       |\n",
      "+-----------+----------------------+\n"
     ]
    }
   ],
   "source": [
    "check_nans(apparel_target_binary)"
   ]
  },
  {
   "cell_type": "markdown",
   "metadata": {},
   "source": [
    "Пропусков в датасете нет."
   ]
  },
  {
   "cell_type": "markdown",
   "metadata": {},
   "source": [
    "### 4.5. <a id='toc4_5_'></a>Изучение признаков          [&#8593;](#toc0_)"
   ]
  },
  {
   "cell_type": "markdown",
   "metadata": {},
   "source": [
    "#### 4.5.1. <a id='toc4_5_1_'></a>Признак `client_id`          [&#8593;](#toc0_)"
   ]
  },
  {
   "cell_type": "code",
   "execution_count": 62,
   "metadata": {},
   "outputs": [
    {
     "data": {
      "text/plain": [
       "0        1515915625468060902\n",
       "1        1515915625468061003\n",
       "2        1515915625468061099\n",
       "3        1515915625468061100\n",
       "4        1515915625468061170\n",
       "                ...         \n",
       "49844    1515915626010261344\n",
       "49845    1515915626010266132\n",
       "49846    1515915626010439406\n",
       "49847    1515915626010443527\n",
       "49848    1515915626010443624\n",
       "Name: client_id, Length: 49849, dtype: int64"
      ]
     },
     "execution_count": 62,
     "metadata": {},
     "output_type": "execute_result"
    }
   ],
   "source": [
    "apparel_target_binary['client_id']"
   ]
  },
  {
   "cell_type": "code",
   "execution_count": 63,
   "metadata": {},
   "outputs": [
    {
     "data": {
      "text/plain": [
       "(49849, 49849)"
      ]
     },
     "execution_count": 63,
     "metadata": {},
     "output_type": "execute_result"
    }
   ],
   "source": [
    "apparel_target_binary['client_id'].nunique(), len(apparel_target_binary)"
   ]
  },
  {
   "cell_type": "markdown",
   "metadata": {},
   "source": [
    "Абсолютно все id уникальны."
   ]
  },
  {
   "cell_type": "markdown",
   "metadata": {},
   "source": [
    "#### 4.5.2. <a id='toc4_5_2_'></a>Таргет `target`          [&#8593;](#toc0_)"
   ]
  },
  {
   "cell_type": "code",
   "execution_count": 64,
   "metadata": {},
   "outputs": [
    {
     "data": {
      "text/html": [
       "<div>\n",
       "<style scoped>\n",
       "    .dataframe tbody tr th:only-of-type {\n",
       "        vertical-align: middle;\n",
       "    }\n",
       "\n",
       "    .dataframe tbody tr th {\n",
       "        vertical-align: top;\n",
       "    }\n",
       "\n",
       "    .dataframe thead th {\n",
       "        text-align: right;\n",
       "    }\n",
       "</style>\n",
       "<table border=\"1\" class=\"dataframe\">\n",
       "  <thead>\n",
       "    <tr style=\"text-align: right;\">\n",
       "      <th></th>\n",
       "      <th>count</th>\n",
       "      <th>part</th>\n",
       "    </tr>\n",
       "    <tr>\n",
       "      <th>target</th>\n",
       "      <th></th>\n",
       "      <th></th>\n",
       "    </tr>\n",
       "  </thead>\n",
       "  <tbody>\n",
       "    <tr>\n",
       "      <th>0</th>\n",
       "      <td>48888</td>\n",
       "      <td>0.98</td>\n",
       "    </tr>\n",
       "    <tr>\n",
       "      <th>1</th>\n",
       "      <td>961</td>\n",
       "      <td>0.02</td>\n",
       "    </tr>\n",
       "  </tbody>\n",
       "</table>\n",
       "</div>"
      ],
      "text/plain": [
       "        count  part\n",
       "target             \n",
       "0       48888  0.98\n",
       "1         961  0.02"
      ]
     },
     "metadata": {},
     "output_type": "display_data"
    }
   ],
   "source": [
    "get_value_counts(apparel_target_binary['target'])"
   ]
  },
  {
   "cell_type": "code",
   "execution_count": 65,
   "metadata": {},
   "outputs": [
    {
     "data": {
      "image/png": "[encoded data removed]",
      "text/plain": [
       "<Figure size 400x400 with 1 Axes>"
      ]
     },
     "metadata": {},
     "output_type": "display_data"
    }
   ],
   "source": [
    "plot_pie_chart(apparel_target_binary['target'])"
   ]
  },
  {
   "cell_type": "markdown",
   "metadata": {},
   "source": [
    "Видим крайне сильный дизбаланс в сторону класса `0`."
   ]
  },
  {
   "cell_type": "markdown",
   "metadata": {},
   "source": [
    "### 4.6. <a id='toc4_6_'></a>Выводы по датасету [&#8593;](#toc0_)"
   ]
  },
  {
   "cell_type": "markdown",
   "metadata": {},
   "source": [
    "Датасет содержит информацию о целевом признаке - совершил ли клиент покупку в целевом периоде.\n",
    "\n",
    "В датасете всего 2 столбца:\n",
    "- `client_id` - идентификатор клиента, который будет использован для объединения таблиц\n",
    "- `target` - целевой признак\n",
    "\n",
    "Пропусков в датасете нет, полные дубликаты не обнаружены."
   ]
  },
  {
   "cell_type": "markdown",
   "metadata": {},
   "source": [
    "## Объединение таблиц"
   ]
  },
  {
   "cell_type": "markdown",
   "metadata": {},
   "source": [
    "Объединим таблицы в один датафрейм."
   ]
  },
  {
   "cell_type": "code",
   "execution_count": 66,
   "metadata": {},
   "outputs": [
    {
     "ename": "TypeError",
     "evalue": "merge() missing 2 required positional arguments: 'left' and 'right'",
     "output_type": "error",
     "traceback": [
      "\u001b[0;31m---------------------------------------------------------------------------\u001b[0m",
      "\u001b[0;31mTypeError\u001b[0m                                 Traceback (most recent call last)",
      "Cell \u001b[0;32mIn[66], line 1\u001b[0m\n\u001b[0;32m----> 1\u001b[0m df \u001b[38;5;241m=\u001b[39m \u001b[43mpd\u001b[49m\u001b[38;5;241;43m.\u001b[39;49m\u001b[43mmerge\u001b[49m\u001b[43m(\u001b[49m\u001b[43m)\u001b[49m\n",
      "\u001b[0;31mTypeError\u001b[0m: merge() missing 2 required positional arguments: 'left' and 'right'"
     ]
    }
   ],
   "source": [
    "df = pd.merge()"
   ]
  }
 ],
 "metadata": {
  "kernelspec": {
   "display_name": "ml",
   "language": "python",
   "name": "python3"
  },
  "language_info": {
   "codemirror_mode": {
    "name": "ipython",
    "version": 3
   },
   "file_extension": ".py",
   "mimetype": "text/x-python",
   "name": "python",
   "nbconvert_exporter": "python",
   "pygments_lexer": "ipython3",
   "version": "3.11.9"
  }
 },
 "nbformat": 4,
 "nbformat_minor": 2
}
