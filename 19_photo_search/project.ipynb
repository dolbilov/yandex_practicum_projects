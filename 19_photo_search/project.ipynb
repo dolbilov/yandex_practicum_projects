{
 "cells": [
  {
   "cell_type": "markdown",
   "metadata": {},
   "source": [
    "# Photo search 📸"
   ]
  },
  {
   "cell_type": "markdown",
   "metadata": {},
   "source": [
    "Мы работаем в фотохостинге для профессиональных фотографов «Со Смыслом» (“With Sense”).\n",
    "\n",
    "Пользователи размещают свои фотографии на хостинге и сопровождают их полным описанием: указывают место съёмок, модель камеры и т.д. Отличительная особенность сервиса — описание: его может предоставить не только тот, кто размещает фотографию, но и другие пользователи портала.\n",
    "\n",
    "Наш отдел занимается экспериментом по разработке поиска референсных фотографий для фотографов. Суть поиска заключается в следующем: пользователь сервиса вводит описание нужной сцены. Сервис выводит несколько фотографий с такой же или похожей сценой.\n",
    "\n",
    "Чтобы эксперимент получил право на жизнь, нужно защитить его перед руководителем компании. Для защиты необходимо презентовать PoC (Proof of Concept, Проверка концепции) — продемонстрировать, что такой проект практически осуществим. Нам поручено разработать демонстрационную версию поиска изображений по запросу.\n",
    "\n",
    "Для демонстрационной версии нужно выбрать лучшую модель, которая получит векторное представление изображения, векторное представление текста, а на выходе выдаст число от 0 до 1 — и покажет, насколько текст и картинка подходят друг другу. На основе лучшей модели можно будет собрать предварительную версию продукта, которую вы покажете руководителю компании."
   ]
  },
  {
   "cell_type": "markdown",
   "metadata": {},
   "source": [
    "**Юридические ограничения**\n",
    "\n",
    "В некоторых странах, где работает компания With Sense, действуют ограничения по обработке изображений: поисковым сервисам и сервисам, предоставляющим возможность поиска, запрещено без разрешения родителей или законных представителей предоставлять любую информацию, в том числе, но не исключительно, текстов, изображений, видео и аудио, содержащие описание, изображение или запись голоса детей. Ребёнком считается любой человек, не достигший 16-ти лет.\n",
    "\n",
    "В нашем сервисе строго следуют законам стран, в которых работают. Поэтому при попытке посмотреть изображения, запрещённые законодательством, вместо картинок показывается дисклеймер:\n",
    "\n",
    "`This image is unavailable in your country in compliance with local laws.`\n",
    "\n",
    "Однако у нас в PoC нет возможности воспользоваться данным функционалом. Поэтому необходимо очистить данные от проблемного контента. Во время тестирования модели при появлении в запросе “вредного” контента должен отображаться дисклеймер."
   ]
  },
  {
   "cell_type": "markdown",
   "metadata": {},
   "source": [
    "**Содержание**<a id='toc0_'></a>    \n",
    "1. [Подготовка   ](#toc1_)    \n",
    "1.1. [Библиотеки   ](#toc1_1_)    \n",
    "1.2. [Константы   ](#toc1_2_)    \n",
    "1.3. [Служебные функции   ](#toc1_3_)    \n",
    "2. [Датасет `train_dataset.csv`  ](#toc2_)    \n",
    "2.1. [Загрузка  ](#toc2_1_)    \n",
    "2.2. [Проверка типов данных  ](#toc2_2_)    \n",
    "2.3. [Проверка полных дубликатов  ](#toc2_3_)    \n",
    "2.4. [Проверка пропусков  ](#toc2_4_)    \n",
    "3. [Датасет `test_images.csv` ](#toc3_)    \n",
    "3.1. [Загрузка ](#toc3_1_)    \n",
    "3.2. [Проверка типов данных ](#toc3_2_)    \n",
    "3.3. [Проверка полных дубликатов ](#toc3_3_)    \n",
    "3.4. [Проверка пропусков ](#toc3_4_)    \n",
    "4. [Датасет `test_queries.csv`](#toc4_)    \n",
    "4.1. [Загрузка](#toc4_1_)    \n",
    "4.2. [Проверка типов данных](#toc4_2_)    \n",
    "4.3. [Проверка полных дубликатов](#toc4_3_)    \n",
    "4.4. [Проверка пропусков](#toc4_4_)    \n",
    "5. [Датасет `ExpertAnnotations.tsv`](#toc5_)    \n",
    "5.1. [Загрузка](#toc5_1_)    \n",
    "5.2. [Проверка типов данных](#toc5_2_)    \n",
    "5.3. [Проверка полных дубликатов](#toc5_3_)    \n",
    "5.4. [Проверка пропусков](#toc5_4_)    \n",
    "5.5. [Изучение признаков](#toc5_5_)    \n",
    "5.6. [Выводы по датасету](#toc5_6_)    \n",
    "6. [Датасет `CrowdAnnotations.tsv`](#toc6_)    \n",
    "6.1. [Загрузка](#toc6_1_)    \n",
    "6.2. [Проверка типов данных](#toc6_2_)    \n",
    "6.3. [Проверка полных дубликатов](#toc6_3_)    \n",
    "6.4. [Проверка пропусков](#toc6_4_)    \n",
    "6.5. [Изучение признаков](#toc6_5_)    \n",
    "6.6. [Выводы по датасету](#toc6_6_)    \n",
    "\n",
    "<!-- vscode-jupyter-toc-config\n",
    "\tnumbering=true\n",
    "\tanchor=true\n",
    "\tflat=true\n",
    "\tminLevel=2\n",
    "\tmaxLevel=6\n",
    "\t/vscode-jupyter-toc-config -->\n",
    "<!-- THIS CELL WILL BE REPLACED ON TOC UPDATE. DO NOT WRITE YOUR TEXT IN THIS CELL -->"
   ]
  },
  {
   "cell_type": "markdown",
   "metadata": {},
   "source": [
    "## 1. <a id='toc1_'></a>Подготовка    [&#8593;](#toc0_)"
   ]
  },
  {
   "cell_type": "markdown",
   "metadata": {},
   "source": [
    "### 1.1. <a id='toc1_1_'></a>Библиотеки    [&#8593;](#toc0_)"
   ]
  },
  {
   "cell_type": "code",
   "execution_count": 1,
   "metadata": {},
   "outputs": [],
   "source": [
    "from IPython.display import clear_output"
   ]
  },
  {
   "cell_type": "code",
   "execution_count": 2,
   "metadata": {},
   "outputs": [],
   "source": [
    "%pip install -q accelerate==0.26.0\n",
    "%pip install -q catboost==1.2.7\n",
    "%pip install -q dill==0.3.8\n",
    "%pip install -q hyperopt==0.2.7\n",
    "%pip install -q lightgbm==4.5.0\n",
    "%pip install -q matplotlib==3.8.4\n",
    "%pip install -q numpy==1.26.4\n",
    "%pip install -q optree==0.14.0\n",
    "%pip install -q pandas==2.2.3\n",
    "%pip install -q prettytable==3.12.0\n",
    "%pip install -q scikit-learn==1.5.2\n",
    "%pip install -q spacy==3.8.4\n",
    "%pip install -q termcolor==2.5.0\n",
    "%pip install -q torch==2.6.0\n",
    "%pip install -q torchmetrics==1.7.0\n",
    "%pip install -q torchvision==0.21.0\n",
    "%pip install -q tqdm==4.66.5\n",
    "%pip install -q transformers==4.49.0\n",
    "\n",
    "clear_output()"
   ]
  },
  {
   "cell_type": "code",
   "execution_count": 3,
   "metadata": {},
   "outputs": [],
   "source": [
    "import numpy as np\n",
    "import pandas as pd\n",
    "import matplotlib.pyplot as plt\n",
    "\n",
    "from termcolor import colored\n",
    "from prettytable import PrettyTable"
   ]
  },
  {
   "cell_type": "markdown",
   "metadata": {},
   "source": [
    "### 1.2. <a id='toc1_2_'></a>Константы    [&#8593;](#toc0_)"
   ]
  },
  {
   "cell_type": "code",
   "execution_count": 4,
   "metadata": {},
   "outputs": [],
   "source": [
    "RANDOM_STATE = 27"
   ]
  },
  {
   "cell_type": "markdown",
   "metadata": {},
   "source": [
    "### 1.3. <a id='toc1_3_'></a>Служебные функции    [&#8593;](#toc0_)"
   ]
  },
  {
   "cell_type": "code",
   "execution_count": 5,
   "metadata": {},
   "outputs": [],
   "source": [
    "def check_duplicates(df: pd.DataFrame) -> None:\n",
    "    duplicates_count = df.duplicated().sum()\n",
    "\n",
    "    if duplicates_count == 0:\n",
    "        print(colored('Полных дубликатов не обнаружено.', 'green'))\n",
    "        return\n",
    "\n",
    "    duplicates_part = duplicates_count / len(df)\n",
    "    print(colored(f'Обнаружено {duplicates_count} дубликатов ({duplicates_part:.2%})', 'red'))"
   ]
  },
  {
   "cell_type": "code",
   "execution_count": 6,
   "metadata": {},
   "outputs": [],
   "source": [
    "def check_nans(df: pd.DataFrame) -> None:\n",
    "    if df.isna().sum().sum() == 0:\n",
    "        print(colored('Пропусков не обнаружено.', 'green'))\n",
    "        return\n",
    "\n",
    "    table = PrettyTable()\n",
    "    table.field_names = ['Feature', 'Missing values count']\n",
    "\n",
    "    missing_info = df.isna().sum().sort_values()\n",
    "    cols = missing_info.index.to_list()\n",
    "    for col in cols:\n",
    "        count = missing_info[col]\n",
    "        color = 'green' if count == 0 else 'red'\n",
    "        s = f'{count} ({count / len(df):.2%})'\n",
    "        table.add_row([col, colored(s, color)])\n",
    "\n",
    "    print(table)"
   ]
  },
  {
   "cell_type": "code",
   "execution_count": 7,
   "metadata": {},
   "outputs": [],
   "source": [
    "def create_histogram(\n",
    "    data: pd.Series,\n",
    "    bins: int,\n",
    "    title: str,\n",
    "    x_label: str\n",
    ") -> None:\n",
    "\n",
    "    # Создание гистограммы\n",
    "    counts, _, patches = plt.hist(data, bins=bins, edgecolor='black', color='skyblue')\n",
    "\n",
    "    # Добавление значений сверху каждого столбца\n",
    "    for i in range(len(counts)):\n",
    "        plt.text(\n",
    "            patches[i].get_x() + patches[i].get_width() / 2,  # Центр столбца по оси X\n",
    "            counts[i] + max(counts) * 0.02,  # Немного выше верхней границы столбца\n",
    "            str(int(counts[i])),  # Значение (количество)\n",
    "            ha='center',  # Выравнивание по центру\n",
    "            fontsize=10\n",
    "        )\n",
    "\n",
    "    plt.title(title, fontsize=14, fontweight='bold')\n",
    "    plt.xlabel(x_label, fontsize=12)\n",
    "    plt.ylabel(\"Количество\", fontsize=12)\n",
    "\n",
    "    plt.grid(axis='y', linestyle='--', alpha=0.7)\n",
    "    plt.tight_layout()\n",
    "\n",
    "    plt.show()\n"
   ]
  },
  {
   "cell_type": "markdown",
   "metadata": {},
   "source": [
    "## 2. <a id='toc2_'></a>Датасет `train_dataset.csv`   [&#8593;](#toc0_)"
   ]
  },
  {
   "cell_type": "markdown",
   "metadata": {},
   "source": [
    "### Описание"
   ]
  },
  {
   "cell_type": "markdown",
   "metadata": {},
   "source": [
    "В файле `train_dataset.csv` собрана информация, необходимая для обучения:\n",
    "- имя файла изображения\n",
    "- идентификатор описания\n",
    "- текст описания.\n",
    "\n",
    "Для одной картинки может быть доступно до 5 описаний. Идентификатор описания имеет формат `<имя файла изображения>#<порядковый номер описания>`."
   ]
  },
  {
   "cell_type": "markdown",
   "metadata": {},
   "source": [
    "### 2.1. <a id='toc2_1_'></a>Загрузка   [&#8593;](#toc0_)"
   ]
  },
  {
   "cell_type": "code",
   "execution_count": 8,
   "metadata": {},
   "outputs": [
    {
     "data": {
      "application/vnd.microsoft.datawrangler.viewer.v0+json": {
       "columns": [
        {
         "name": "index",
         "rawType": "int64",
         "type": "integer"
        },
        {
         "name": "image",
         "rawType": "object",
         "type": "string"
        },
        {
         "name": "query_id",
         "rawType": "object",
         "type": "string"
        },
        {
         "name": "query_text",
         "rawType": "object",
         "type": "string"
        }
       ],
       "conversionMethod": "pd.DataFrame",
       "ref": "f2674d5a-0857-41fd-8caa-d050aaf4d4a2",
       "rows": [
        [
         "0",
         "1056338697_4f7d7ce270.jpg",
         "2549968784_39bfbe44f9.jpg#2",
         "A young child is wearing blue goggles and sitting in a float in a pool ."
        ],
        [
         "1",
         "1262583859_653f1469a9.jpg",
         "2549968784_39bfbe44f9.jpg#2",
         "A young child is wearing blue goggles and sitting in a float in a pool ."
        ],
        [
         "2",
         "2447284966_d6bbdb4b6e.jpg",
         "2549968784_39bfbe44f9.jpg#2",
         "A young child is wearing blue goggles and sitting in a float in a pool ."
        ],
        [
         "3",
         "2549968784_39bfbe44f9.jpg",
         "2549968784_39bfbe44f9.jpg#2",
         "A young child is wearing blue goggles and sitting in a float in a pool ."
        ],
        [
         "4",
         "2621415349_ef1a7e73be.jpg",
         "2549968784_39bfbe44f9.jpg#2",
         "A young child is wearing blue goggles and sitting in a float in a pool ."
        ]
       ],
       "shape": {
        "columns": 3,
        "rows": 5
       }
      },
      "text/html": [
       "<div>\n",
       "<style scoped>\n",
       "    .dataframe tbody tr th:only-of-type {\n",
       "        vertical-align: middle;\n",
       "    }\n",
       "\n",
       "    .dataframe tbody tr th {\n",
       "        vertical-align: top;\n",
       "    }\n",
       "\n",
       "    .dataframe thead th {\n",
       "        text-align: right;\n",
       "    }\n",
       "</style>\n",
       "<table border=\"1\" class=\"dataframe\">\n",
       "  <thead>\n",
       "    <tr style=\"text-align: right;\">\n",
       "      <th></th>\n",
       "      <th>image</th>\n",
       "      <th>query_id</th>\n",
       "      <th>query_text</th>\n",
       "    </tr>\n",
       "  </thead>\n",
       "  <tbody>\n",
       "    <tr>\n",
       "      <th>0</th>\n",
       "      <td>1056338697_4f7d7ce270.jpg</td>\n",
       "      <td>2549968784_39bfbe44f9.jpg#2</td>\n",
       "      <td>A young child is wearing blue goggles and sitt...</td>\n",
       "    </tr>\n",
       "    <tr>\n",
       "      <th>1</th>\n",
       "      <td>1262583859_653f1469a9.jpg</td>\n",
       "      <td>2549968784_39bfbe44f9.jpg#2</td>\n",
       "      <td>A young child is wearing blue goggles and sitt...</td>\n",
       "    </tr>\n",
       "    <tr>\n",
       "      <th>2</th>\n",
       "      <td>2447284966_d6bbdb4b6e.jpg</td>\n",
       "      <td>2549968784_39bfbe44f9.jpg#2</td>\n",
       "      <td>A young child is wearing blue goggles and sitt...</td>\n",
       "    </tr>\n",
       "    <tr>\n",
       "      <th>3</th>\n",
       "      <td>2549968784_39bfbe44f9.jpg</td>\n",
       "      <td>2549968784_39bfbe44f9.jpg#2</td>\n",
       "      <td>A young child is wearing blue goggles and sitt...</td>\n",
       "    </tr>\n",
       "    <tr>\n",
       "      <th>4</th>\n",
       "      <td>2621415349_ef1a7e73be.jpg</td>\n",
       "      <td>2549968784_39bfbe44f9.jpg#2</td>\n",
       "      <td>A young child is wearing blue goggles and sitt...</td>\n",
       "    </tr>\n",
       "  </tbody>\n",
       "</table>\n",
       "</div>"
      ],
      "text/plain": [
       "                       image                     query_id  \\\n",
       "0  1056338697_4f7d7ce270.jpg  2549968784_39bfbe44f9.jpg#2   \n",
       "1  1262583859_653f1469a9.jpg  2549968784_39bfbe44f9.jpg#2   \n",
       "2  2447284966_d6bbdb4b6e.jpg  2549968784_39bfbe44f9.jpg#2   \n",
       "3  2549968784_39bfbe44f9.jpg  2549968784_39bfbe44f9.jpg#2   \n",
       "4  2621415349_ef1a7e73be.jpg  2549968784_39bfbe44f9.jpg#2   \n",
       "\n",
       "                                          query_text  \n",
       "0  A young child is wearing blue goggles and sitt...  \n",
       "1  A young child is wearing blue goggles and sitt...  \n",
       "2  A young child is wearing blue goggles and sitt...  \n",
       "3  A young child is wearing blue goggles and sitt...  \n",
       "4  A young child is wearing blue goggles and sitt...  "
      ]
     },
     "execution_count": 8,
     "metadata": {},
     "output_type": "execute_result"
    }
   ],
   "source": [
    "train_dataset = pd.read_csv('./data/train_dataset.csv')\n",
    "train_dataset.head()"
   ]
  },
  {
   "cell_type": "markdown",
   "metadata": {},
   "source": [
    "### 2.2. <a id='toc2_2_'></a>Проверка типов данных   [&#8593;](#toc0_)"
   ]
  },
  {
   "cell_type": "code",
   "execution_count": 9,
   "metadata": {},
   "outputs": [
    {
     "name": "stdout",
     "output_type": "stream",
     "text": [
      "<class 'pandas.core.frame.DataFrame'>\n",
      "RangeIndex: 5822 entries, 0 to 5821\n",
      "Data columns (total 3 columns):\n",
      " #   Column      Non-Null Count  Dtype \n",
      "---  ------      --------------  ----- \n",
      " 0   image       5822 non-null   object\n",
      " 1   query_id    5822 non-null   object\n",
      " 2   query_text  5822 non-null   object\n",
      "dtypes: object(3)\n",
      "memory usage: 136.6+ KB\n"
     ]
    }
   ],
   "source": [
    "train_dataset.info()"
   ]
  },
  {
   "cell_type": "markdown",
   "metadata": {},
   "source": [
    "### 2.3. <a id='toc2_3_'></a>Проверка полных дубликатов   [&#8593;](#toc0_)"
   ]
  },
  {
   "cell_type": "code",
   "execution_count": 10,
   "metadata": {},
   "outputs": [
    {
     "name": "stdout",
     "output_type": "stream",
     "text": [
      "\u001b[32mПолных дубликатов не обнаружено.\u001b[0m\n"
     ]
    }
   ],
   "source": [
    "check_duplicates(train_dataset)"
   ]
  },
  {
   "cell_type": "markdown",
   "metadata": {},
   "source": [
    "### 2.4. <a id='toc2_4_'></a>Проверка пропусков   [&#8593;](#toc0_)"
   ]
  },
  {
   "cell_type": "code",
   "execution_count": 11,
   "metadata": {},
   "outputs": [
    {
     "name": "stdout",
     "output_type": "stream",
     "text": [
      "\u001b[32mПропусков не обнаружено.\u001b[0m\n"
     ]
    }
   ],
   "source": [
    "check_nans(train_dataset)"
   ]
  },
  {
   "cell_type": "markdown",
   "metadata": {},
   "source": [
    "## 3. <a id='toc3_'></a>Датасет `test_images.csv`  [&#8593;](#toc0_)"
   ]
  },
  {
   "cell_type": "markdown",
   "metadata": {},
   "source": [
    "### Описание"
   ]
  },
  {
   "cell_type": "markdown",
   "metadata": {},
   "source": [
    "В папке `test_images` содержатся изображения для тестирования модели и данный датасет содержит имена файлов для тестирования."
   ]
  },
  {
   "cell_type": "markdown",
   "metadata": {},
   "source": [
    "### 3.1. <a id='toc3_1_'></a>Загрузка  [&#8593;](#toc0_)"
   ]
  },
  {
   "cell_type": "code",
   "execution_count": 12,
   "metadata": {},
   "outputs": [
    {
     "data": {
      "application/vnd.microsoft.datawrangler.viewer.v0+json": {
       "columns": [
        {
         "name": "index",
         "rawType": "int64",
         "type": "integer"
        },
        {
         "name": "image",
         "rawType": "object",
         "type": "string"
        }
       ],
       "conversionMethod": "pd.DataFrame",
       "ref": "ebef0216-674b-4939-b685-65f3caa3aff2",
       "rows": [
        [
         "0",
         "3356748019_2251399314.jpg"
        ],
        [
         "1",
         "2887171449_f54a2b9f39.jpg"
        ],
        [
         "2",
         "3089107423_81a24eaf18.jpg"
        ],
        [
         "3",
         "1429546659_44cb09cbe2.jpg"
        ],
        [
         "4",
         "1177994172_10d143cb8d.jpg"
        ]
       ],
       "shape": {
        "columns": 1,
        "rows": 5
       }
      },
      "text/html": [
       "<div>\n",
       "<style scoped>\n",
       "    .dataframe tbody tr th:only-of-type {\n",
       "        vertical-align: middle;\n",
       "    }\n",
       "\n",
       "    .dataframe tbody tr th {\n",
       "        vertical-align: top;\n",
       "    }\n",
       "\n",
       "    .dataframe thead th {\n",
       "        text-align: right;\n",
       "    }\n",
       "</style>\n",
       "<table border=\"1\" class=\"dataframe\">\n",
       "  <thead>\n",
       "    <tr style=\"text-align: right;\">\n",
       "      <th></th>\n",
       "      <th>image</th>\n",
       "    </tr>\n",
       "  </thead>\n",
       "  <tbody>\n",
       "    <tr>\n",
       "      <th>0</th>\n",
       "      <td>3356748019_2251399314.jpg</td>\n",
       "    </tr>\n",
       "    <tr>\n",
       "      <th>1</th>\n",
       "      <td>2887171449_f54a2b9f39.jpg</td>\n",
       "    </tr>\n",
       "    <tr>\n",
       "      <th>2</th>\n",
       "      <td>3089107423_81a24eaf18.jpg</td>\n",
       "    </tr>\n",
       "    <tr>\n",
       "      <th>3</th>\n",
       "      <td>1429546659_44cb09cbe2.jpg</td>\n",
       "    </tr>\n",
       "    <tr>\n",
       "      <th>4</th>\n",
       "      <td>1177994172_10d143cb8d.jpg</td>\n",
       "    </tr>\n",
       "  </tbody>\n",
       "</table>\n",
       "</div>"
      ],
      "text/plain": [
       "                       image\n",
       "0  3356748019_2251399314.jpg\n",
       "1  2887171449_f54a2b9f39.jpg\n",
       "2  3089107423_81a24eaf18.jpg\n",
       "3  1429546659_44cb09cbe2.jpg\n",
       "4  1177994172_10d143cb8d.jpg"
      ]
     },
     "execution_count": 12,
     "metadata": {},
     "output_type": "execute_result"
    }
   ],
   "source": [
    "test_images = pd.read_csv('./data/test_images.csv')\n",
    "test_images.head()"
   ]
  },
  {
   "cell_type": "markdown",
   "metadata": {},
   "source": [
    "### 3.2. <a id='toc3_2_'></a>Проверка типов данных  [&#8593;](#toc0_)"
   ]
  },
  {
   "cell_type": "code",
   "execution_count": 13,
   "metadata": {},
   "outputs": [
    {
     "name": "stdout",
     "output_type": "stream",
     "text": [
      "<class 'pandas.core.frame.DataFrame'>\n",
      "RangeIndex: 100 entries, 0 to 99\n",
      "Data columns (total 1 columns):\n",
      " #   Column  Non-Null Count  Dtype \n",
      "---  ------  --------------  ----- \n",
      " 0   image   100 non-null    object\n",
      "dtypes: object(1)\n",
      "memory usage: 932.0+ bytes\n"
     ]
    }
   ],
   "source": [
    "test_images.info()"
   ]
  },
  {
   "cell_type": "markdown",
   "metadata": {},
   "source": [
    "### 3.3. <a id='toc3_3_'></a>Проверка полных дубликатов  [&#8593;](#toc0_)"
   ]
  },
  {
   "cell_type": "code",
   "execution_count": 14,
   "metadata": {},
   "outputs": [
    {
     "name": "stdout",
     "output_type": "stream",
     "text": [
      "\u001b[32mПолных дубликатов не обнаружено.\u001b[0m\n"
     ]
    }
   ],
   "source": [
    "check_duplicates(test_images)"
   ]
  },
  {
   "cell_type": "markdown",
   "metadata": {},
   "source": [
    "### 3.4. <a id='toc3_4_'></a>Проверка пропусков  [&#8593;](#toc0_)"
   ]
  },
  {
   "cell_type": "code",
   "execution_count": 15,
   "metadata": {},
   "outputs": [
    {
     "name": "stdout",
     "output_type": "stream",
     "text": [
      "\u001b[32mПропусков не обнаружено.\u001b[0m\n"
     ]
    }
   ],
   "source": [
    "check_nans(test_images)"
   ]
  },
  {
   "cell_type": "markdown",
   "metadata": {},
   "source": [
    "## 4. <a id='toc4_'></a>Датасет `test_queries.csv` [&#8593;](#toc0_)"
   ]
  },
  {
   "cell_type": "markdown",
   "metadata": {},
   "source": [
    "### Описание"
   ]
  },
  {
   "cell_type": "markdown",
   "metadata": {},
   "source": [
    "В файле `test_queries.csv` находится информация, необходимая для тестирования:\n",
    "- идентификатор запроса,\n",
    "- текст запроса\n",
    "- релевантное изображение.\n",
    "\n",
    "Для одной картинки может быть доступно до 5 описаний. Идентификатор описания имеет формат `<имя файла изображения>#<порядковый номер описания>`."
   ]
  },
  {
   "cell_type": "markdown",
   "metadata": {},
   "source": [
    "### 4.1. <a id='toc4_1_'></a>Загрузка [&#8593;](#toc0_)"
   ]
  },
  {
   "cell_type": "code",
   "execution_count": 16,
   "metadata": {},
   "outputs": [
    {
     "data": {
      "application/vnd.microsoft.datawrangler.viewer.v0+json": {
       "columns": [
        {
         "name": "index",
         "rawType": "int64",
         "type": "integer"
        },
        {
         "name": "query_id",
         "rawType": "object",
         "type": "string"
        },
        {
         "name": "query_text",
         "rawType": "object",
         "type": "string"
        },
        {
         "name": "image",
         "rawType": "object",
         "type": "string"
        }
       ],
       "conversionMethod": "pd.DataFrame",
       "ref": "a33f25e3-2b8d-456b-9f0d-a2666a8c80db",
       "rows": [
        [
         "0",
         "1177994172_10d143cb8d.jpg#0",
         "Two blonde boys , one in a camouflage shirt and the other in blue , are having a water fight .",
         "1177994172_10d143cb8d.jpg"
        ],
        [
         "1",
         "1177994172_10d143cb8d.jpg#1",
         "Two boys are squirting water guns at each other .",
         "1177994172_10d143cb8d.jpg"
        ],
        [
         "2",
         "1177994172_10d143cb8d.jpg#2",
         "Two boys spraying each other with water",
         "1177994172_10d143cb8d.jpg"
        ],
        [
         "3",
         "1177994172_10d143cb8d.jpg#3",
         "Two children wearing jeans squirt water at each other .",
         "1177994172_10d143cb8d.jpg"
        ],
        [
         "4",
         "1177994172_10d143cb8d.jpg#4",
         "Two young boys are squirting water at each other .",
         "1177994172_10d143cb8d.jpg"
        ]
       ],
       "shape": {
        "columns": 3,
        "rows": 5
       }
      },
      "text/html": [
       "<div>\n",
       "<style scoped>\n",
       "    .dataframe tbody tr th:only-of-type {\n",
       "        vertical-align: middle;\n",
       "    }\n",
       "\n",
       "    .dataframe tbody tr th {\n",
       "        vertical-align: top;\n",
       "    }\n",
       "\n",
       "    .dataframe thead th {\n",
       "        text-align: right;\n",
       "    }\n",
       "</style>\n",
       "<table border=\"1\" class=\"dataframe\">\n",
       "  <thead>\n",
       "    <tr style=\"text-align: right;\">\n",
       "      <th></th>\n",
       "      <th>query_id</th>\n",
       "      <th>query_text</th>\n",
       "      <th>image</th>\n",
       "    </tr>\n",
       "  </thead>\n",
       "  <tbody>\n",
       "    <tr>\n",
       "      <th>0</th>\n",
       "      <td>1177994172_10d143cb8d.jpg#0</td>\n",
       "      <td>Two blonde boys , one in a camouflage shirt an...</td>\n",
       "      <td>1177994172_10d143cb8d.jpg</td>\n",
       "    </tr>\n",
       "    <tr>\n",
       "      <th>1</th>\n",
       "      <td>1177994172_10d143cb8d.jpg#1</td>\n",
       "      <td>Two boys are squirting water guns at each other .</td>\n",
       "      <td>1177994172_10d143cb8d.jpg</td>\n",
       "    </tr>\n",
       "    <tr>\n",
       "      <th>2</th>\n",
       "      <td>1177994172_10d143cb8d.jpg#2</td>\n",
       "      <td>Two boys spraying each other with water</td>\n",
       "      <td>1177994172_10d143cb8d.jpg</td>\n",
       "    </tr>\n",
       "    <tr>\n",
       "      <th>3</th>\n",
       "      <td>1177994172_10d143cb8d.jpg#3</td>\n",
       "      <td>Two children wearing jeans squirt water at eac...</td>\n",
       "      <td>1177994172_10d143cb8d.jpg</td>\n",
       "    </tr>\n",
       "    <tr>\n",
       "      <th>4</th>\n",
       "      <td>1177994172_10d143cb8d.jpg#4</td>\n",
       "      <td>Two young boys are squirting water at each oth...</td>\n",
       "      <td>1177994172_10d143cb8d.jpg</td>\n",
       "    </tr>\n",
       "  </tbody>\n",
       "</table>\n",
       "</div>"
      ],
      "text/plain": [
       "                      query_id  \\\n",
       "0  1177994172_10d143cb8d.jpg#0   \n",
       "1  1177994172_10d143cb8d.jpg#1   \n",
       "2  1177994172_10d143cb8d.jpg#2   \n",
       "3  1177994172_10d143cb8d.jpg#3   \n",
       "4  1177994172_10d143cb8d.jpg#4   \n",
       "\n",
       "                                          query_text  \\\n",
       "0  Two blonde boys , one in a camouflage shirt an...   \n",
       "1  Two boys are squirting water guns at each other .   \n",
       "2            Two boys spraying each other with water   \n",
       "3  Two children wearing jeans squirt water at eac...   \n",
       "4  Two young boys are squirting water at each oth...   \n",
       "\n",
       "                       image  \n",
       "0  1177994172_10d143cb8d.jpg  \n",
       "1  1177994172_10d143cb8d.jpg  \n",
       "2  1177994172_10d143cb8d.jpg  \n",
       "3  1177994172_10d143cb8d.jpg  \n",
       "4  1177994172_10d143cb8d.jpg  "
      ]
     },
     "execution_count": 16,
     "metadata": {},
     "output_type": "execute_result"
    }
   ],
   "source": [
    "test_queries = pd.read_csv('./data/test_queries.csv', sep='|', index_col=0)\n",
    "test_queries.head()"
   ]
  },
  {
   "cell_type": "markdown",
   "metadata": {},
   "source": [
    "### 4.2. <a id='toc4_2_'></a>Проверка типов данных [&#8593;](#toc0_)"
   ]
  },
  {
   "cell_type": "code",
   "execution_count": 17,
   "metadata": {},
   "outputs": [
    {
     "name": "stdout",
     "output_type": "stream",
     "text": [
      "<class 'pandas.core.frame.DataFrame'>\n",
      "Index: 500 entries, 0 to 499\n",
      "Data columns (total 3 columns):\n",
      " #   Column      Non-Null Count  Dtype \n",
      "---  ------      --------------  ----- \n",
      " 0   query_id    500 non-null    object\n",
      " 1   query_text  500 non-null    object\n",
      " 2   image       500 non-null    object\n",
      "dtypes: object(3)\n",
      "memory usage: 15.6+ KB\n"
     ]
    }
   ],
   "source": [
    "test_queries.info()"
   ]
  },
  {
   "cell_type": "markdown",
   "metadata": {},
   "source": [
    "### 4.3. <a id='toc4_3_'></a>Проверка полных дубликатов [&#8593;](#toc0_)"
   ]
  },
  {
   "cell_type": "code",
   "execution_count": 18,
   "metadata": {},
   "outputs": [
    {
     "name": "stdout",
     "output_type": "stream",
     "text": [
      "\u001b[32mПолных дубликатов не обнаружено.\u001b[0m\n"
     ]
    }
   ],
   "source": [
    "check_duplicates(test_queries)"
   ]
  },
  {
   "cell_type": "markdown",
   "metadata": {},
   "source": [
    "### 4.4. <a id='toc4_4_'></a>Проверка пропусков [&#8593;](#toc0_)"
   ]
  },
  {
   "cell_type": "code",
   "execution_count": 19,
   "metadata": {},
   "outputs": [
    {
     "name": "stdout",
     "output_type": "stream",
     "text": [
      "\u001b[32mПропусков не обнаружено.\u001b[0m\n"
     ]
    }
   ],
   "source": [
    "check_nans(test_queries)"
   ]
  },
  {
   "cell_type": "markdown",
   "metadata": {},
   "source": [
    "## 5. <a id='toc5_'></a>Датасет `ExpertAnnotations.tsv` [&#8593;](#toc0_)"
   ]
  },
  {
   "cell_type": "markdown",
   "metadata": {},
   "source": [
    "### Описание"
   ]
  },
  {
   "cell_type": "markdown",
   "metadata": {},
   "source": [
    "В файле ExpertAnnotations.tsv содержатся данные по соответствию изображения и описания, полученные в результате опроса экспертов. Номера колонок и соответствующий тип данных:\n",
    "\n",
    "1 - Имя файла изображения.\\\n",
    "2 - Идентификатор описания.\\\n",
    "3, 4, 5 — оценки трёх экспертов.\n",
    "\n",
    "Эксперты ставят оценки по шкале от `1` до `4`, где:\\\n",
    "`1` — изображение и запрос совершенно не соответствуют друг другу\\\n",
    "`2` — запрос содержит элементы описания изображения, но в целом запрос тексту не соответствует\\\n",
    "`3` — запрос и текст соответствуют с точностью до некоторых деталей\\\n",
    "`4` — запрос и текст соответствуют полностью"
   ]
  },
  {
   "cell_type": "markdown",
   "metadata": {},
   "source": [
    "### 5.1. <a id='toc5_1_'></a>Загрузка [&#8593;](#toc0_)"
   ]
  },
  {
   "cell_type": "code",
   "execution_count": 20,
   "metadata": {},
   "outputs": [
    {
     "data": {
      "application/vnd.microsoft.datawrangler.viewer.v0+json": {
       "columns": [
        {
         "name": "index",
         "rawType": "int64",
         "type": "integer"
        },
        {
         "name": "image",
         "rawType": "object",
         "type": "string"
        },
        {
         "name": "query_id",
         "rawType": "object",
         "type": "string"
        },
        {
         "name": "annot_1",
         "rawType": "int64",
         "type": "integer"
        },
        {
         "name": "annot_2",
         "rawType": "int64",
         "type": "integer"
        },
        {
         "name": "annot_3",
         "rawType": "int64",
         "type": "integer"
        }
       ],
       "conversionMethod": "pd.DataFrame",
       "ref": "4d8b3b73-9c96-41b1-bcc6-1d24a3ea1848",
       "rows": [
        [
         "0",
         "1056338697_4f7d7ce270.jpg",
         "2549968784_39bfbe44f9.jpg#2",
         "1",
         "1",
         "1"
        ],
        [
         "1",
         "1056338697_4f7d7ce270.jpg",
         "2718495608_d8533e3ac5.jpg#2",
         "1",
         "1",
         "2"
        ],
        [
         "2",
         "1056338697_4f7d7ce270.jpg",
         "3181701312_70a379ab6e.jpg#2",
         "1",
         "1",
         "2"
        ],
        [
         "3",
         "1056338697_4f7d7ce270.jpg",
         "3207358897_bfa61fa3c6.jpg#2",
         "1",
         "2",
         "2"
        ],
        [
         "4",
         "1056338697_4f7d7ce270.jpg",
         "3286822339_5535af6b93.jpg#2",
         "1",
         "1",
         "2"
        ]
       ],
       "shape": {
        "columns": 5,
        "rows": 5
       }
      },
      "text/html": [
       "<div>\n",
       "<style scoped>\n",
       "    .dataframe tbody tr th:only-of-type {\n",
       "        vertical-align: middle;\n",
       "    }\n",
       "\n",
       "    .dataframe tbody tr th {\n",
       "        vertical-align: top;\n",
       "    }\n",
       "\n",
       "    .dataframe thead th {\n",
       "        text-align: right;\n",
       "    }\n",
       "</style>\n",
       "<table border=\"1\" class=\"dataframe\">\n",
       "  <thead>\n",
       "    <tr style=\"text-align: right;\">\n",
       "      <th></th>\n",
       "      <th>image</th>\n",
       "      <th>query_id</th>\n",
       "      <th>annot_1</th>\n",
       "      <th>annot_2</th>\n",
       "      <th>annot_3</th>\n",
       "    </tr>\n",
       "  </thead>\n",
       "  <tbody>\n",
       "    <tr>\n",
       "      <th>0</th>\n",
       "      <td>1056338697_4f7d7ce270.jpg</td>\n",
       "      <td>2549968784_39bfbe44f9.jpg#2</td>\n",
       "      <td>1</td>\n",
       "      <td>1</td>\n",
       "      <td>1</td>\n",
       "    </tr>\n",
       "    <tr>\n",
       "      <th>1</th>\n",
       "      <td>1056338697_4f7d7ce270.jpg</td>\n",
       "      <td>2718495608_d8533e3ac5.jpg#2</td>\n",
       "      <td>1</td>\n",
       "      <td>1</td>\n",
       "      <td>2</td>\n",
       "    </tr>\n",
       "    <tr>\n",
       "      <th>2</th>\n",
       "      <td>1056338697_4f7d7ce270.jpg</td>\n",
       "      <td>3181701312_70a379ab6e.jpg#2</td>\n",
       "      <td>1</td>\n",
       "      <td>1</td>\n",
       "      <td>2</td>\n",
       "    </tr>\n",
       "    <tr>\n",
       "      <th>3</th>\n",
       "      <td>1056338697_4f7d7ce270.jpg</td>\n",
       "      <td>3207358897_bfa61fa3c6.jpg#2</td>\n",
       "      <td>1</td>\n",
       "      <td>2</td>\n",
       "      <td>2</td>\n",
       "    </tr>\n",
       "    <tr>\n",
       "      <th>4</th>\n",
       "      <td>1056338697_4f7d7ce270.jpg</td>\n",
       "      <td>3286822339_5535af6b93.jpg#2</td>\n",
       "      <td>1</td>\n",
       "      <td>1</td>\n",
       "      <td>2</td>\n",
       "    </tr>\n",
       "  </tbody>\n",
       "</table>\n",
       "</div>"
      ],
      "text/plain": [
       "                       image                     query_id  annot_1  annot_2  \\\n",
       "0  1056338697_4f7d7ce270.jpg  2549968784_39bfbe44f9.jpg#2        1        1   \n",
       "1  1056338697_4f7d7ce270.jpg  2718495608_d8533e3ac5.jpg#2        1        1   \n",
       "2  1056338697_4f7d7ce270.jpg  3181701312_70a379ab6e.jpg#2        1        1   \n",
       "3  1056338697_4f7d7ce270.jpg  3207358897_bfa61fa3c6.jpg#2        1        2   \n",
       "4  1056338697_4f7d7ce270.jpg  3286822339_5535af6b93.jpg#2        1        1   \n",
       "\n",
       "   annot_3  \n",
       "0        1  \n",
       "1        2  \n",
       "2        2  \n",
       "3        2  \n",
       "4        2  "
      ]
     },
     "execution_count": 20,
     "metadata": {},
     "output_type": "execute_result"
    }
   ],
   "source": [
    "expert_annotations = pd.read_csv('./data/ExpertAnnotations.tsv', sep='\\t', header=None, names=['image', 'query_id', 'annot_1', 'annot_2', 'annot_3'])\n",
    "expert_annotations.head()"
   ]
  },
  {
   "cell_type": "markdown",
   "metadata": {},
   "source": [
    "### 5.2. <a id='toc5_2_'></a>Проверка типов данных [&#8593;](#toc0_)"
   ]
  },
  {
   "cell_type": "code",
   "execution_count": 21,
   "metadata": {},
   "outputs": [
    {
     "name": "stdout",
     "output_type": "stream",
     "text": [
      "<class 'pandas.core.frame.DataFrame'>\n",
      "RangeIndex: 5822 entries, 0 to 5821\n",
      "Data columns (total 5 columns):\n",
      " #   Column    Non-Null Count  Dtype \n",
      "---  ------    --------------  ----- \n",
      " 0   image     5822 non-null   object\n",
      " 1   query_id  5822 non-null   object\n",
      " 2   annot_1   5822 non-null   int64 \n",
      " 3   annot_2   5822 non-null   int64 \n",
      " 4   annot_3   5822 non-null   int64 \n",
      "dtypes: int64(3), object(2)\n",
      "memory usage: 227.6+ KB\n"
     ]
    }
   ],
   "source": [
    "expert_annotations.info()"
   ]
  },
  {
   "cell_type": "markdown",
   "metadata": {},
   "source": [
    "### 5.3. <a id='toc5_3_'></a>Проверка полных дубликатов [&#8593;](#toc0_)"
   ]
  },
  {
   "cell_type": "code",
   "execution_count": 22,
   "metadata": {},
   "outputs": [
    {
     "name": "stdout",
     "output_type": "stream",
     "text": [
      "\u001b[32mПолных дубликатов не обнаружено.\u001b[0m\n"
     ]
    }
   ],
   "source": [
    "check_duplicates(expert_annotations)"
   ]
  },
  {
   "cell_type": "markdown",
   "metadata": {},
   "source": [
    "### 5.4. <a id='toc5_4_'></a>Проверка пропусков [&#8593;](#toc0_)"
   ]
  },
  {
   "cell_type": "code",
   "execution_count": 23,
   "metadata": {},
   "outputs": [
    {
     "name": "stdout",
     "output_type": "stream",
     "text": [
      "\u001b[32mПропусков не обнаружено.\u001b[0m\n"
     ]
    }
   ],
   "source": [
    "check_nans(expert_annotations)"
   ]
  },
  {
   "cell_type": "markdown",
   "metadata": {},
   "source": [
    "### 5.5. <a id='toc5_5_'></a>Изучение признаков [&#8593;](#toc0_)"
   ]
  },
  {
   "cell_type": "markdown",
   "metadata": {},
   "source": [
    "#### Признак `annot_1`"
   ]
  },
  {
   "cell_type": "code",
   "execution_count": 24,
   "metadata": {},
   "outputs": [
    {
     "data": {
      "text/plain": [
       "count    5822.000000\n",
       "mean        1.436620\n",
       "std         0.787084\n",
       "min         1.000000\n",
       "25%         1.000000\n",
       "50%         1.000000\n",
       "75%         2.000000\n",
       "max         4.000000\n",
       "Name: annot_1, dtype: float64"
      ]
     },
     "execution_count": 24,
     "metadata": {},
     "output_type": "execute_result"
    }
   ],
   "source": [
    "expert_annotations['annot_1'].describe()"
   ]
  },
  {
   "cell_type": "code",
   "execution_count": 25,
   "metadata": {},
   "outputs": [
    {
     "data": {
      "image/png": "[encoded data removed]",
      "text/plain": [
       "<Figure size 640x480 with 1 Axes>"
      ]
     },
     "metadata": {},
     "output_type": "display_data"
    }
   ],
   "source": [
    "create_histogram(expert_annotations['annot_1'], 4, 'Распределение оценок для эксперта 1', 'Оценки')"
   ]
  },
  {
   "cell_type": "markdown",
   "metadata": {},
   "source": [
    "#### Признак `annot_2`"
   ]
  },
  {
   "cell_type": "code",
   "execution_count": 26,
   "metadata": {},
   "outputs": [
    {
     "data": {
      "text/plain": [
       "count    5822.000000\n",
       "mean        1.624356\n",
       "std         0.856222\n",
       "min         1.000000\n",
       "25%         1.000000\n",
       "50%         1.000000\n",
       "75%         2.000000\n",
       "max         4.000000\n",
       "Name: annot_2, dtype: float64"
      ]
     },
     "execution_count": 26,
     "metadata": {},
     "output_type": "execute_result"
    }
   ],
   "source": [
    "expert_annotations['annot_2'].describe()"
   ]
  },
  {
   "cell_type": "code",
   "execution_count": 27,
   "metadata": {},
   "outputs": [
    {
     "data": {
      "image/png": "[encoded data removed]",
      "text/plain": [
       "<Figure size 640x480 with 1 Axes>"
      ]
     },
     "metadata": {},
     "output_type": "display_data"
    }
   ],
   "source": [
    "create_histogram(expert_annotations['annot_2'], 4, 'Распределение оценок для эксперта 2', 'Оценки')"
   ]
  },
  {
   "cell_type": "markdown",
   "metadata": {},
   "source": [
    "#### Признак `annot_3`"
   ]
  },
  {
   "cell_type": "code",
   "execution_count": 28,
   "metadata": {},
   "outputs": [
    {
     "data": {
      "text/plain": [
       "count    5822.000000\n",
       "mean        1.881999\n",
       "std         0.904087\n",
       "min         1.000000\n",
       "25%         1.000000\n",
       "50%         2.000000\n",
       "75%         2.000000\n",
       "max         4.000000\n",
       "Name: annot_3, dtype: float64"
      ]
     },
     "execution_count": 28,
     "metadata": {},
     "output_type": "execute_result"
    }
   ],
   "source": [
    "expert_annotations['annot_3'].describe()"
   ]
  },
  {
   "cell_type": "code",
   "execution_count": 29,
   "metadata": {},
   "outputs": [
    {
     "data": {
      "image/png": "[encoded data removed]",
      "text/plain": [
       "<Figure size 640x480 with 1 Axes>"
      ]
     },
     "metadata": {},
     "output_type": "display_data"
    }
   ],
   "source": [
    "create_histogram(expert_annotations['annot_3'], 4, 'Распределение оценок для эксперта 3', 'Оценки')"
   ]
  },
  {
   "cell_type": "markdown",
   "metadata": {},
   "source": [
    "### 5.6. <a id='toc5_6_'></a>Выводы по датасету [&#8593;](#toc0_)"
   ]
  },
  {
   "cell_type": "markdown",
   "metadata": {},
   "source": [
    "Видно, что эксперты 1 и 2 поставили оценку `1` (полное несоответствие) для бОльшей части изображений-запросов. Эксперт 3 примерно одинаково ставил оценки `1` и `2` (`2350` и `2222` соответственно). Оценки `3` и `4` ставились куда реже всеми тремя экспертами. Можно предположить, что данные для обучения не очень качественные и разработать *Proof of Concept* будет непросто.\n",
    "\n",
    "Для дальнейшей работы сагрегируем данные:\n",
    "- Если для одного изображения все оценки среди экспертов различны - усредним их.\n",
    "- Если же есть равные оценки - применим голосование большинством."
   ]
  },
  {
   "cell_type": "code",
   "execution_count": 30,
   "metadata": {},
   "outputs": [],
   "source": [
    "def agg_expert_annot(row: pd.Series):\n",
    "    a, b, c = row\n",
    "    if len(set([a, b, c])) == 3:  # все оценки различны - усредняем\n",
    "        return (a + b + c) / 3\n",
    "    else:  # голосуем большинством\n",
    "        return max([a, b, c], key=lambda x: [a, b, c].count(x))"
   ]
  },
  {
   "cell_type": "code",
   "execution_count": 31,
   "metadata": {},
   "outputs": [
    {
     "data": {
      "application/vnd.microsoft.datawrangler.viewer.v0+json": {
       "columns": [
        {
         "name": "index",
         "rawType": "int64",
         "type": "integer"
        },
        {
         "name": "image",
         "rawType": "object",
         "type": "string"
        },
        {
         "name": "query_id",
         "rawType": "object",
         "type": "string"
        },
        {
         "name": "agg_expert_annot",
         "rawType": "float64",
         "type": "float"
        }
       ],
       "conversionMethod": "pd.DataFrame",
       "ref": "6cca4c99-d2a4-4858-957b-6505babc2e2d",
       "rows": [
        [
         "0",
         "1056338697_4f7d7ce270.jpg",
         "2549968784_39bfbe44f9.jpg#2",
         "1.0"
        ],
        [
         "1",
         "1056338697_4f7d7ce270.jpg",
         "2718495608_d8533e3ac5.jpg#2",
         "1.0"
        ],
        [
         "2",
         "1056338697_4f7d7ce270.jpg",
         "3181701312_70a379ab6e.jpg#2",
         "1.0"
        ],
        [
         "3",
         "1056338697_4f7d7ce270.jpg",
         "3207358897_bfa61fa3c6.jpg#2",
         "2.0"
        ],
        [
         "4",
         "1056338697_4f7d7ce270.jpg",
         "3286822339_5535af6b93.jpg#2",
         "1.0"
        ]
       ],
       "shape": {
        "columns": 3,
        "rows": 5
       }
      },
      "text/html": [
       "<div>\n",
       "<style scoped>\n",
       "    .dataframe tbody tr th:only-of-type {\n",
       "        vertical-align: middle;\n",
       "    }\n",
       "\n",
       "    .dataframe tbody tr th {\n",
       "        vertical-align: top;\n",
       "    }\n",
       "\n",
       "    .dataframe thead th {\n",
       "        text-align: right;\n",
       "    }\n",
       "</style>\n",
       "<table border=\"1\" class=\"dataframe\">\n",
       "  <thead>\n",
       "    <tr style=\"text-align: right;\">\n",
       "      <th></th>\n",
       "      <th>image</th>\n",
       "      <th>query_id</th>\n",
       "      <th>agg_expert_annot</th>\n",
       "    </tr>\n",
       "  </thead>\n",
       "  <tbody>\n",
       "    <tr>\n",
       "      <th>0</th>\n",
       "      <td>1056338697_4f7d7ce270.jpg</td>\n",
       "      <td>2549968784_39bfbe44f9.jpg#2</td>\n",
       "      <td>1.0</td>\n",
       "    </tr>\n",
       "    <tr>\n",
       "      <th>1</th>\n",
       "      <td>1056338697_4f7d7ce270.jpg</td>\n",
       "      <td>2718495608_d8533e3ac5.jpg#2</td>\n",
       "      <td>1.0</td>\n",
       "    </tr>\n",
       "    <tr>\n",
       "      <th>2</th>\n",
       "      <td>1056338697_4f7d7ce270.jpg</td>\n",
       "      <td>3181701312_70a379ab6e.jpg#2</td>\n",
       "      <td>1.0</td>\n",
       "    </tr>\n",
       "    <tr>\n",
       "      <th>3</th>\n",
       "      <td>1056338697_4f7d7ce270.jpg</td>\n",
       "      <td>3207358897_bfa61fa3c6.jpg#2</td>\n",
       "      <td>2.0</td>\n",
       "    </tr>\n",
       "    <tr>\n",
       "      <th>4</th>\n",
       "      <td>1056338697_4f7d7ce270.jpg</td>\n",
       "      <td>3286822339_5535af6b93.jpg#2</td>\n",
       "      <td>1.0</td>\n",
       "    </tr>\n",
       "  </tbody>\n",
       "</table>\n",
       "</div>"
      ],
      "text/plain": [
       "                       image                     query_id  agg_expert_annot\n",
       "0  1056338697_4f7d7ce270.jpg  2549968784_39bfbe44f9.jpg#2               1.0\n",
       "1  1056338697_4f7d7ce270.jpg  2718495608_d8533e3ac5.jpg#2               1.0\n",
       "2  1056338697_4f7d7ce270.jpg  3181701312_70a379ab6e.jpg#2               1.0\n",
       "3  1056338697_4f7d7ce270.jpg  3207358897_bfa61fa3c6.jpg#2               2.0\n",
       "4  1056338697_4f7d7ce270.jpg  3286822339_5535af6b93.jpg#2               1.0"
      ]
     },
     "execution_count": 31,
     "metadata": {},
     "output_type": "execute_result"
    }
   ],
   "source": [
    "expert_annotations['agg_expert_annot'] = expert_annotations[['annot_1', 'annot_2', 'annot_3']].apply(agg_expert_annot, axis=1)\n",
    "expert_annotations = expert_annotations.drop(columns=['annot_1', 'annot_2', 'annot_3'])\n",
    "expert_annotations.head()"
   ]
  },
  {
   "cell_type": "markdown",
   "metadata": {},
   "source": [
    "## 6. <a id='toc6_'></a>Датасет `CrowdAnnotations.tsv` [&#8593;](#toc0_)"
   ]
  },
  {
   "cell_type": "markdown",
   "metadata": {},
   "source": [
    "### Описание"
   ]
  },
  {
   "cell_type": "markdown",
   "metadata": {},
   "source": [
    "В файле `CrowdAnnotations.tsv` — данные по соответствию изображения и описания, полученные с помощью краудсорсинга. Номера колонок и соответствующий тип данных:\n",
    "\n",
    "1) Имя файла изображения.\n",
    "2) Идентификатор описания.\n",
    "3) Доля людей, подтвердивших, что описание соответствует изображению.\n",
    "4) Количество человек, подтвердивших, что описание соответствует изображению.\n",
    "5) Количество человек, подтвердивших, что описание не соответствует изображению."
   ]
  },
  {
   "cell_type": "markdown",
   "metadata": {},
   "source": [
    "### 6.1. <a id='toc6_1_'></a>Загрузка [&#8593;](#toc0_)"
   ]
  },
  {
   "cell_type": "code",
   "execution_count": 32,
   "metadata": {},
   "outputs": [
    {
     "data": {
      "application/vnd.microsoft.datawrangler.viewer.v0+json": {
       "columns": [
        {
         "name": "index",
         "rawType": "int64",
         "type": "integer"
        },
        {
         "name": "image",
         "rawType": "object",
         "type": "string"
        },
        {
         "name": "query_id",
         "rawType": "object",
         "type": "string"
        },
        {
         "name": "pos_part",
         "rawType": "float64",
         "type": "float"
        },
        {
         "name": "pos_count",
         "rawType": "int64",
         "type": "integer"
        },
        {
         "name": "neg_count",
         "rawType": "int64",
         "type": "integer"
        }
       ],
       "conversionMethod": "pd.DataFrame",
       "ref": "f4c22786-d540-4ade-b4d8-4bc7040be027",
       "rows": [
        [
         "0",
         "1056338697_4f7d7ce270.jpg",
         "1056338697_4f7d7ce270.jpg#2",
         "1.0",
         "3",
         "0"
        ],
        [
         "1",
         "1056338697_4f7d7ce270.jpg",
         "114051287_dd85625a04.jpg#2",
         "0.0",
         "0",
         "3"
        ],
        [
         "2",
         "1056338697_4f7d7ce270.jpg",
         "1427391496_ea512cbe7f.jpg#2",
         "0.0",
         "0",
         "3"
        ],
        [
         "3",
         "1056338697_4f7d7ce270.jpg",
         "2073964624_52da3a0fc4.jpg#2",
         "0.0",
         "0",
         "3"
        ],
        [
         "4",
         "1056338697_4f7d7ce270.jpg",
         "2083434441_a93bc6306b.jpg#2",
         "0.0",
         "0",
         "3"
        ]
       ],
       "shape": {
        "columns": 5,
        "rows": 5
       }
      },
      "text/html": [
       "<div>\n",
       "<style scoped>\n",
       "    .dataframe tbody tr th:only-of-type {\n",
       "        vertical-align: middle;\n",
       "    }\n",
       "\n",
       "    .dataframe tbody tr th {\n",
       "        vertical-align: top;\n",
       "    }\n",
       "\n",
       "    .dataframe thead th {\n",
       "        text-align: right;\n",
       "    }\n",
       "</style>\n",
       "<table border=\"1\" class=\"dataframe\">\n",
       "  <thead>\n",
       "    <tr style=\"text-align: right;\">\n",
       "      <th></th>\n",
       "      <th>image</th>\n",
       "      <th>query_id</th>\n",
       "      <th>pos_part</th>\n",
       "      <th>pos_count</th>\n",
       "      <th>neg_count</th>\n",
       "    </tr>\n",
       "  </thead>\n",
       "  <tbody>\n",
       "    <tr>\n",
       "      <th>0</th>\n",
       "      <td>1056338697_4f7d7ce270.jpg</td>\n",
       "      <td>1056338697_4f7d7ce270.jpg#2</td>\n",
       "      <td>1.0</td>\n",
       "      <td>3</td>\n",
       "      <td>0</td>\n",
       "    </tr>\n",
       "    <tr>\n",
       "      <th>1</th>\n",
       "      <td>1056338697_4f7d7ce270.jpg</td>\n",
       "      <td>114051287_dd85625a04.jpg#2</td>\n",
       "      <td>0.0</td>\n",
       "      <td>0</td>\n",
       "      <td>3</td>\n",
       "    </tr>\n",
       "    <tr>\n",
       "      <th>2</th>\n",
       "      <td>1056338697_4f7d7ce270.jpg</td>\n",
       "      <td>1427391496_ea512cbe7f.jpg#2</td>\n",
       "      <td>0.0</td>\n",
       "      <td>0</td>\n",
       "      <td>3</td>\n",
       "    </tr>\n",
       "    <tr>\n",
       "      <th>3</th>\n",
       "      <td>1056338697_4f7d7ce270.jpg</td>\n",
       "      <td>2073964624_52da3a0fc4.jpg#2</td>\n",
       "      <td>0.0</td>\n",
       "      <td>0</td>\n",
       "      <td>3</td>\n",
       "    </tr>\n",
       "    <tr>\n",
       "      <th>4</th>\n",
       "      <td>1056338697_4f7d7ce270.jpg</td>\n",
       "      <td>2083434441_a93bc6306b.jpg#2</td>\n",
       "      <td>0.0</td>\n",
       "      <td>0</td>\n",
       "      <td>3</td>\n",
       "    </tr>\n",
       "  </tbody>\n",
       "</table>\n",
       "</div>"
      ],
      "text/plain": [
       "                       image                     query_id  pos_part  \\\n",
       "0  1056338697_4f7d7ce270.jpg  1056338697_4f7d7ce270.jpg#2       1.0   \n",
       "1  1056338697_4f7d7ce270.jpg   114051287_dd85625a04.jpg#2       0.0   \n",
       "2  1056338697_4f7d7ce270.jpg  1427391496_ea512cbe7f.jpg#2       0.0   \n",
       "3  1056338697_4f7d7ce270.jpg  2073964624_52da3a0fc4.jpg#2       0.0   \n",
       "4  1056338697_4f7d7ce270.jpg  2083434441_a93bc6306b.jpg#2       0.0   \n",
       "\n",
       "   pos_count  neg_count  \n",
       "0          3          0  \n",
       "1          0          3  \n",
       "2          0          3  \n",
       "3          0          3  \n",
       "4          0          3  "
      ]
     },
     "execution_count": 32,
     "metadata": {},
     "output_type": "execute_result"
    }
   ],
   "source": [
    "crowd_annotations = pd.read_csv('./data/CrowdAnnotations.tsv', sep='\\t', header=None, names=['image', 'query_id', 'pos_part', 'pos_count', 'neg_count'])\n",
    "crowd_annotations.head()"
   ]
  },
  {
   "cell_type": "markdown",
   "metadata": {},
   "source": [
    "### 6.2. <a id='toc6_2_'></a>Проверка типов данных [&#8593;](#toc0_)"
   ]
  },
  {
   "cell_type": "code",
   "execution_count": 33,
   "metadata": {},
   "outputs": [
    {
     "name": "stdout",
     "output_type": "stream",
     "text": [
      "<class 'pandas.core.frame.DataFrame'>\n",
      "RangeIndex: 47830 entries, 0 to 47829\n",
      "Data columns (total 5 columns):\n",
      " #   Column     Non-Null Count  Dtype  \n",
      "---  ------     --------------  -----  \n",
      " 0   image      47830 non-null  object \n",
      " 1   query_id   47830 non-null  object \n",
      " 2   pos_part   47830 non-null  float64\n",
      " 3   pos_count  47830 non-null  int64  \n",
      " 4   neg_count  47830 non-null  int64  \n",
      "dtypes: float64(1), int64(2), object(2)\n",
      "memory usage: 1.8+ MB\n"
     ]
    }
   ],
   "source": [
    "crowd_annotations.info()"
   ]
  },
  {
   "cell_type": "markdown",
   "metadata": {},
   "source": [
    "### 6.3. <a id='toc6_3_'></a>Проверка полных дубликатов [&#8593;](#toc0_)"
   ]
  },
  {
   "cell_type": "code",
   "execution_count": 34,
   "metadata": {},
   "outputs": [
    {
     "name": "stdout",
     "output_type": "stream",
     "text": [
      "\u001b[32mПолных дубликатов не обнаружено.\u001b[0m\n"
     ]
    }
   ],
   "source": [
    "check_duplicates(crowd_annotations)"
   ]
  },
  {
   "cell_type": "markdown",
   "metadata": {},
   "source": [
    "### 6.4. <a id='toc6_4_'></a>Проверка пропусков [&#8593;](#toc0_)"
   ]
  },
  {
   "cell_type": "code",
   "execution_count": 35,
   "metadata": {},
   "outputs": [
    {
     "name": "stdout",
     "output_type": "stream",
     "text": [
      "\u001b[32mПропусков не обнаружено.\u001b[0m\n"
     ]
    }
   ],
   "source": [
    "check_nans(crowd_annotations)"
   ]
  },
  {
   "cell_type": "markdown",
   "metadata": {},
   "source": [
    "### 6.5. <a id='toc6_5_'></a>Изучение признаков [&#8593;](#toc0_)"
   ]
  },
  {
   "cell_type": "markdown",
   "metadata": {},
   "source": [
    "#### Признак `pos_part`"
   ]
  },
  {
   "cell_type": "code",
   "execution_count": 36,
   "metadata": {},
   "outputs": [
    {
     "data": {
      "text/plain": [
       "count    47830.000000\n",
       "mean         0.068786\n",
       "std          0.207532\n",
       "min          0.000000\n",
       "25%          0.000000\n",
       "50%          0.000000\n",
       "75%          0.000000\n",
       "max          1.000000\n",
       "Name: pos_part, dtype: float64"
      ]
     },
     "execution_count": 36,
     "metadata": {},
     "output_type": "execute_result"
    }
   ],
   "source": [
    "crowd_annotations['pos_part'].describe()"
   ]
  },
  {
   "cell_type": "code",
   "execution_count": 37,
   "metadata": {},
   "outputs": [
    {
     "data": {
      "image/png": "[encoded data removed]",
      "text/plain": [
       "<Figure size 640x480 with 1 Axes>"
      ]
     },
     "metadata": {},
     "output_type": "display_data"
    }
   ],
   "source": [
    "create_histogram(crowd_annotations['pos_part'], 5, 'Распределение голосов толпы', 'Часть людей, проголосовавших за соответствие')"
   ]
  },
  {
   "cell_type": "markdown",
   "metadata": {},
   "source": [
    "### 6.6. <a id='toc6_6_'></a>Выводы по датасету [&#8593;](#toc0_)"
   ]
  },
  {
   "cell_type": "markdown",
   "metadata": {},
   "source": [
    "В данном датасете наблюдается такая же картинка, что и в датасете с голосами экспертов. Подавляющее большинство голосует за то, что описание полностью не соответствует изображению."
   ]
  },
  {
   "cell_type": "markdown",
   "metadata": {},
   "source": [
    "Приведет оценки к формату как у экспертов - значение будет лежать в диапазоне `[1; 4]`. Для этого воспользуемся следующей формулой:\\\n",
    "$agg\\_crowd\\_annot = 1 + 3 * pos\\_part$\n",
    "\n",
    "Таким образом, оценки толпы теперь находятся в том же диапазоне, что и оценки экспертов:\n",
    "- Если все голоса за \"соответствует\", то `pos_part = 1`, и оценка будет равна `4`.\n",
    "- Если все голоса за \"не соответствует\", то `pos_part = 0`, и оценка будет равна `1`."
   ]
  },
  {
   "cell_type": "code",
   "execution_count": 38,
   "metadata": {},
   "outputs": [],
   "source": [
    "def agg_expert_annot(p: float) -> float:\n",
    "    return 1 + 3 * p"
   ]
  },
  {
   "cell_type": "code",
   "execution_count": 39,
   "metadata": {},
   "outputs": [
    {
     "data": {
      "text/plain": [
       "count    47830.000000\n",
       "mean         1.206357\n",
       "std          0.622595\n",
       "min          1.000000\n",
       "25%          1.000000\n",
       "50%          1.000000\n",
       "75%          1.000000\n",
       "max          4.000000\n",
       "Name: agg_crowd_annot, dtype: float64"
      ]
     },
     "execution_count": 39,
     "metadata": {},
     "output_type": "execute_result"
    }
   ],
   "source": [
    "crowd_annotations['agg_crowd_annot'] = crowd_annotations['pos_part'].apply(agg_expert_annot)\n",
    "crowd_annotations['agg_crowd_annot'].describe()"
   ]
  },
  {
   "cell_type": "code",
   "execution_count": 40,
   "metadata": {},
   "outputs": [
    {
     "data": {
      "application/vnd.microsoft.datawrangler.viewer.v0+json": {
       "columns": [
        {
         "name": "index",
         "rawType": "int64",
         "type": "integer"
        },
        {
         "name": "image",
         "rawType": "object",
         "type": "string"
        },
        {
         "name": "query_id",
         "rawType": "object",
         "type": "string"
        },
        {
         "name": "agg_crowd_annot",
         "rawType": "float64",
         "type": "float"
        }
       ],
       "conversionMethod": "pd.DataFrame",
       "ref": "411304b8-48c0-4da7-98bc-3735163a368a",
       "rows": [
        [
         "0",
         "1056338697_4f7d7ce270.jpg",
         "1056338697_4f7d7ce270.jpg#2",
         "4.0"
        ],
        [
         "1",
         "1056338697_4f7d7ce270.jpg",
         "114051287_dd85625a04.jpg#2",
         "1.0"
        ],
        [
         "2",
         "1056338697_4f7d7ce270.jpg",
         "1427391496_ea512cbe7f.jpg#2",
         "1.0"
        ],
        [
         "3",
         "1056338697_4f7d7ce270.jpg",
         "2073964624_52da3a0fc4.jpg#2",
         "1.0"
        ],
        [
         "4",
         "1056338697_4f7d7ce270.jpg",
         "2083434441_a93bc6306b.jpg#2",
         "1.0"
        ]
       ],
       "shape": {
        "columns": 3,
        "rows": 5
       }
      },
      "text/html": [
       "<div>\n",
       "<style scoped>\n",
       "    .dataframe tbody tr th:only-of-type {\n",
       "        vertical-align: middle;\n",
       "    }\n",
       "\n",
       "    .dataframe tbody tr th {\n",
       "        vertical-align: top;\n",
       "    }\n",
       "\n",
       "    .dataframe thead th {\n",
       "        text-align: right;\n",
       "    }\n",
       "</style>\n",
       "<table border=\"1\" class=\"dataframe\">\n",
       "  <thead>\n",
       "    <tr style=\"text-align: right;\">\n",
       "      <th></th>\n",
       "      <th>image</th>\n",
       "      <th>query_id</th>\n",
       "      <th>agg_crowd_annot</th>\n",
       "    </tr>\n",
       "  </thead>\n",
       "  <tbody>\n",
       "    <tr>\n",
       "      <th>0</th>\n",
       "      <td>1056338697_4f7d7ce270.jpg</td>\n",
       "      <td>1056338697_4f7d7ce270.jpg#2</td>\n",
       "      <td>4.0</td>\n",
       "    </tr>\n",
       "    <tr>\n",
       "      <th>1</th>\n",
       "      <td>1056338697_4f7d7ce270.jpg</td>\n",
       "      <td>114051287_dd85625a04.jpg#2</td>\n",
       "      <td>1.0</td>\n",
       "    </tr>\n",
       "    <tr>\n",
       "      <th>2</th>\n",
       "      <td>1056338697_4f7d7ce270.jpg</td>\n",
       "      <td>1427391496_ea512cbe7f.jpg#2</td>\n",
       "      <td>1.0</td>\n",
       "    </tr>\n",
       "    <tr>\n",
       "      <th>3</th>\n",
       "      <td>1056338697_4f7d7ce270.jpg</td>\n",
       "      <td>2073964624_52da3a0fc4.jpg#2</td>\n",
       "      <td>1.0</td>\n",
       "    </tr>\n",
       "    <tr>\n",
       "      <th>4</th>\n",
       "      <td>1056338697_4f7d7ce270.jpg</td>\n",
       "      <td>2083434441_a93bc6306b.jpg#2</td>\n",
       "      <td>1.0</td>\n",
       "    </tr>\n",
       "  </tbody>\n",
       "</table>\n",
       "</div>"
      ],
      "text/plain": [
       "                       image                     query_id  agg_crowd_annot\n",
       "0  1056338697_4f7d7ce270.jpg  1056338697_4f7d7ce270.jpg#2              4.0\n",
       "1  1056338697_4f7d7ce270.jpg   114051287_dd85625a04.jpg#2              1.0\n",
       "2  1056338697_4f7d7ce270.jpg  1427391496_ea512cbe7f.jpg#2              1.0\n",
       "3  1056338697_4f7d7ce270.jpg  2073964624_52da3a0fc4.jpg#2              1.0\n",
       "4  1056338697_4f7d7ce270.jpg  2083434441_a93bc6306b.jpg#2              1.0"
      ]
     },
     "execution_count": 40,
     "metadata": {},
     "output_type": "execute_result"
    }
   ],
   "source": [
    "crowd_annotations = crowd_annotations.drop(columns=['pos_part', 'pos_count', 'neg_count'])\n",
    "crowd_annotations.head()"
   ]
  },
  {
   "cell_type": "markdown",
   "metadata": {},
   "source": [
    "## Объединение оценок"
   ]
  },
  {
   "cell_type": "code",
   "execution_count": 41,
   "metadata": {},
   "outputs": [
    {
     "data": {
      "application/vnd.microsoft.datawrangler.viewer.v0+json": {
       "columns": [
        {
         "name": "index",
         "rawType": "int64",
         "type": "integer"
        },
        {
         "name": "image",
         "rawType": "object",
         "type": "string"
        },
        {
         "name": "query_id",
         "rawType": "object",
         "type": "string"
        },
        {
         "name": "agg_expert_annot",
         "rawType": "float64",
         "type": "float"
        }
       ],
       "conversionMethod": "pd.DataFrame",
       "ref": "e9b6ff6c-7dab-401a-9c47-5aaa2282c45c",
       "rows": [
        [
         "0",
         "1056338697_4f7d7ce270.jpg",
         "2549968784_39bfbe44f9.jpg#2",
         "1.0"
        ],
        [
         "1",
         "1056338697_4f7d7ce270.jpg",
         "2718495608_d8533e3ac5.jpg#2",
         "1.0"
        ],
        [
         "2",
         "1056338697_4f7d7ce270.jpg",
         "3181701312_70a379ab6e.jpg#2",
         "1.0"
        ],
        [
         "3",
         "1056338697_4f7d7ce270.jpg",
         "3207358897_bfa61fa3c6.jpg#2",
         "2.0"
        ],
        [
         "4",
         "1056338697_4f7d7ce270.jpg",
         "3286822339_5535af6b93.jpg#2",
         "1.0"
        ]
       ],
       "shape": {
        "columns": 3,
        "rows": 5
       }
      },
      "text/html": [
       "<div>\n",
       "<style scoped>\n",
       "    .dataframe tbody tr th:only-of-type {\n",
       "        vertical-align: middle;\n",
       "    }\n",
       "\n",
       "    .dataframe tbody tr th {\n",
       "        vertical-align: top;\n",
       "    }\n",
       "\n",
       "    .dataframe thead th {\n",
       "        text-align: right;\n",
       "    }\n",
       "</style>\n",
       "<table border=\"1\" class=\"dataframe\">\n",
       "  <thead>\n",
       "    <tr style=\"text-align: right;\">\n",
       "      <th></th>\n",
       "      <th>image</th>\n",
       "      <th>query_id</th>\n",
       "      <th>agg_expert_annot</th>\n",
       "    </tr>\n",
       "  </thead>\n",
       "  <tbody>\n",
       "    <tr>\n",
       "      <th>0</th>\n",
       "      <td>1056338697_4f7d7ce270.jpg</td>\n",
       "      <td>2549968784_39bfbe44f9.jpg#2</td>\n",
       "      <td>1.0</td>\n",
       "    </tr>\n",
       "    <tr>\n",
       "      <th>1</th>\n",
       "      <td>1056338697_4f7d7ce270.jpg</td>\n",
       "      <td>2718495608_d8533e3ac5.jpg#2</td>\n",
       "      <td>1.0</td>\n",
       "    </tr>\n",
       "    <tr>\n",
       "      <th>2</th>\n",
       "      <td>1056338697_4f7d7ce270.jpg</td>\n",
       "      <td>3181701312_70a379ab6e.jpg#2</td>\n",
       "      <td>1.0</td>\n",
       "    </tr>\n",
       "    <tr>\n",
       "      <th>3</th>\n",
       "      <td>1056338697_4f7d7ce270.jpg</td>\n",
       "      <td>3207358897_bfa61fa3c6.jpg#2</td>\n",
       "      <td>2.0</td>\n",
       "    </tr>\n",
       "    <tr>\n",
       "      <th>4</th>\n",
       "      <td>1056338697_4f7d7ce270.jpg</td>\n",
       "      <td>3286822339_5535af6b93.jpg#2</td>\n",
       "      <td>1.0</td>\n",
       "    </tr>\n",
       "  </tbody>\n",
       "</table>\n",
       "</div>"
      ],
      "text/plain": [
       "                       image                     query_id  agg_expert_annot\n",
       "0  1056338697_4f7d7ce270.jpg  2549968784_39bfbe44f9.jpg#2               1.0\n",
       "1  1056338697_4f7d7ce270.jpg  2718495608_d8533e3ac5.jpg#2               1.0\n",
       "2  1056338697_4f7d7ce270.jpg  3181701312_70a379ab6e.jpg#2               1.0\n",
       "3  1056338697_4f7d7ce270.jpg  3207358897_bfa61fa3c6.jpg#2               2.0\n",
       "4  1056338697_4f7d7ce270.jpg  3286822339_5535af6b93.jpg#2               1.0"
      ]
     },
     "execution_count": 41,
     "metadata": {},
     "output_type": "execute_result"
    }
   ],
   "source": [
    "expert_annotations.head()"
   ]
  },
  {
   "cell_type": "code",
   "execution_count": 42,
   "metadata": {},
   "outputs": [
    {
     "data": {
      "application/vnd.microsoft.datawrangler.viewer.v0+json": {
       "columns": [
        {
         "name": "index",
         "rawType": "int64",
         "type": "integer"
        },
        {
         "name": "image",
         "rawType": "object",
         "type": "string"
        },
        {
         "name": "query_id",
         "rawType": "object",
         "type": "string"
        },
        {
         "name": "agg_crowd_annot",
         "rawType": "float64",
         "type": "float"
        }
       ],
       "conversionMethod": "pd.DataFrame",
       "ref": "e176d588-d489-4f5b-aecd-62af0dfd188b",
       "rows": [
        [
         "0",
         "1056338697_4f7d7ce270.jpg",
         "1056338697_4f7d7ce270.jpg#2",
         "4.0"
        ],
        [
         "1",
         "1056338697_4f7d7ce270.jpg",
         "114051287_dd85625a04.jpg#2",
         "1.0"
        ],
        [
         "2",
         "1056338697_4f7d7ce270.jpg",
         "1427391496_ea512cbe7f.jpg#2",
         "1.0"
        ],
        [
         "3",
         "1056338697_4f7d7ce270.jpg",
         "2073964624_52da3a0fc4.jpg#2",
         "1.0"
        ],
        [
         "4",
         "1056338697_4f7d7ce270.jpg",
         "2083434441_a93bc6306b.jpg#2",
         "1.0"
        ]
       ],
       "shape": {
        "columns": 3,
        "rows": 5
       }
      },
      "text/html": [
       "<div>\n",
       "<style scoped>\n",
       "    .dataframe tbody tr th:only-of-type {\n",
       "        vertical-align: middle;\n",
       "    }\n",
       "\n",
       "    .dataframe tbody tr th {\n",
       "        vertical-align: top;\n",
       "    }\n",
       "\n",
       "    .dataframe thead th {\n",
       "        text-align: right;\n",
       "    }\n",
       "</style>\n",
       "<table border=\"1\" class=\"dataframe\">\n",
       "  <thead>\n",
       "    <tr style=\"text-align: right;\">\n",
       "      <th></th>\n",
       "      <th>image</th>\n",
       "      <th>query_id</th>\n",
       "      <th>agg_crowd_annot</th>\n",
       "    </tr>\n",
       "  </thead>\n",
       "  <tbody>\n",
       "    <tr>\n",
       "      <th>0</th>\n",
       "      <td>1056338697_4f7d7ce270.jpg</td>\n",
       "      <td>1056338697_4f7d7ce270.jpg#2</td>\n",
       "      <td>4.0</td>\n",
       "    </tr>\n",
       "    <tr>\n",
       "      <th>1</th>\n",
       "      <td>1056338697_4f7d7ce270.jpg</td>\n",
       "      <td>114051287_dd85625a04.jpg#2</td>\n",
       "      <td>1.0</td>\n",
       "    </tr>\n",
       "    <tr>\n",
       "      <th>2</th>\n",
       "      <td>1056338697_4f7d7ce270.jpg</td>\n",
       "      <td>1427391496_ea512cbe7f.jpg#2</td>\n",
       "      <td>1.0</td>\n",
       "    </tr>\n",
       "    <tr>\n",
       "      <th>3</th>\n",
       "      <td>1056338697_4f7d7ce270.jpg</td>\n",
       "      <td>2073964624_52da3a0fc4.jpg#2</td>\n",
       "      <td>1.0</td>\n",
       "    </tr>\n",
       "    <tr>\n",
       "      <th>4</th>\n",
       "      <td>1056338697_4f7d7ce270.jpg</td>\n",
       "      <td>2083434441_a93bc6306b.jpg#2</td>\n",
       "      <td>1.0</td>\n",
       "    </tr>\n",
       "  </tbody>\n",
       "</table>\n",
       "</div>"
      ],
      "text/plain": [
       "                       image                     query_id  agg_crowd_annot\n",
       "0  1056338697_4f7d7ce270.jpg  1056338697_4f7d7ce270.jpg#2              4.0\n",
       "1  1056338697_4f7d7ce270.jpg   114051287_dd85625a04.jpg#2              1.0\n",
       "2  1056338697_4f7d7ce270.jpg  1427391496_ea512cbe7f.jpg#2              1.0\n",
       "3  1056338697_4f7d7ce270.jpg  2073964624_52da3a0fc4.jpg#2              1.0\n",
       "4  1056338697_4f7d7ce270.jpg  2083434441_a93bc6306b.jpg#2              1.0"
      ]
     },
     "execution_count": 42,
     "metadata": {},
     "output_type": "execute_result"
    }
   ],
   "source": [
    "crowd_annotations.head()"
   ]
  },
  {
   "cell_type": "code",
   "execution_count": 43,
   "metadata": {},
   "outputs": [
    {
     "name": "stdout",
     "output_type": "stream",
     "text": [
      "Общие оценки: 2329\n",
      "Только экспертная оценка: 3493\n",
      "Только оценка толпы: 45501\n"
     ]
    }
   ],
   "source": [
    "expert_annotations_index = set(expert_annotations['image'] + expert_annotations['query_id'])\n",
    "crowd_annotations_index = set(crowd_annotations['image'] + crowd_annotations['query_id'])\n",
    "\n",
    "print(f'Общие оценки: {len(expert_annotations_index & crowd_annotations_index)}')\n",
    "print(f'Только экспертная оценка: {len(expert_annotations_index - crowd_annotations_index)}')\n",
    "print(f'Только оценка толпы: {len(crowd_annotations_index - expert_annotations_index)}')"
   ]
  },
  {
   "cell_type": "markdown",
   "metadata": {},
   "source": [
    "Как мы видим, встречаются самые разные ситуации. Поэтому объединим все записи, а далее будем агрериговать оценку исходя из ситуации."
   ]
  },
  {
   "cell_type": "code",
   "execution_count": 44,
   "metadata": {},
   "outputs": [
    {
     "data": {
      "application/vnd.microsoft.datawrangler.viewer.v0+json": {
       "columns": [
        {
         "name": "index",
         "rawType": "int64",
         "type": "integer"
        },
        {
         "name": "image",
         "rawType": "object",
         "type": "string"
        },
        {
         "name": "query_id",
         "rawType": "object",
         "type": "string"
        },
        {
         "name": "agg_expert_annot",
         "rawType": "float64",
         "type": "float"
        },
        {
         "name": "agg_crowd_annot",
         "rawType": "float64",
         "type": "float"
        }
       ],
       "conversionMethod": "pd.DataFrame",
       "ref": "674cd82c-7598-471d-9053-e8eae862bfd3",
       "rows": [
        [
         "0",
         "1056338697_4f7d7ce270.jpg",
         "1056338697_4f7d7ce270.jpg#2",
         null,
         "4.0"
        ],
        [
         "1",
         "1056338697_4f7d7ce270.jpg",
         "114051287_dd85625a04.jpg#2",
         null,
         "1.0"
        ],
        [
         "2",
         "1056338697_4f7d7ce270.jpg",
         "1427391496_ea512cbe7f.jpg#2",
         null,
         "1.0"
        ],
        [
         "3",
         "1056338697_4f7d7ce270.jpg",
         "2073964624_52da3a0fc4.jpg#2",
         null,
         "1.0"
        ],
        [
         "4",
         "1056338697_4f7d7ce270.jpg",
         "2083434441_a93bc6306b.jpg#2",
         null,
         "1.0"
        ]
       ],
       "shape": {
        "columns": 4,
        "rows": 5
       }
      },
      "text/html": [
       "<div>\n",
       "<style scoped>\n",
       "    .dataframe tbody tr th:only-of-type {\n",
       "        vertical-align: middle;\n",
       "    }\n",
       "\n",
       "    .dataframe tbody tr th {\n",
       "        vertical-align: top;\n",
       "    }\n",
       "\n",
       "    .dataframe thead th {\n",
       "        text-align: right;\n",
       "    }\n",
       "</style>\n",
       "<table border=\"1\" class=\"dataframe\">\n",
       "  <thead>\n",
       "    <tr style=\"text-align: right;\">\n",
       "      <th></th>\n",
       "      <th>image</th>\n",
       "      <th>query_id</th>\n",
       "      <th>agg_expert_annot</th>\n",
       "      <th>agg_crowd_annot</th>\n",
       "    </tr>\n",
       "  </thead>\n",
       "  <tbody>\n",
       "    <tr>\n",
       "      <th>0</th>\n",
       "      <td>1056338697_4f7d7ce270.jpg</td>\n",
       "      <td>1056338697_4f7d7ce270.jpg#2</td>\n",
       "      <td>NaN</td>\n",
       "      <td>4.0</td>\n",
       "    </tr>\n",
       "    <tr>\n",
       "      <th>1</th>\n",
       "      <td>1056338697_4f7d7ce270.jpg</td>\n",
       "      <td>114051287_dd85625a04.jpg#2</td>\n",
       "      <td>NaN</td>\n",
       "      <td>1.0</td>\n",
       "    </tr>\n",
       "    <tr>\n",
       "      <th>2</th>\n",
       "      <td>1056338697_4f7d7ce270.jpg</td>\n",
       "      <td>1427391496_ea512cbe7f.jpg#2</td>\n",
       "      <td>NaN</td>\n",
       "      <td>1.0</td>\n",
       "    </tr>\n",
       "    <tr>\n",
       "      <th>3</th>\n",
       "      <td>1056338697_4f7d7ce270.jpg</td>\n",
       "      <td>2073964624_52da3a0fc4.jpg#2</td>\n",
       "      <td>NaN</td>\n",
       "      <td>1.0</td>\n",
       "    </tr>\n",
       "    <tr>\n",
       "      <th>4</th>\n",
       "      <td>1056338697_4f7d7ce270.jpg</td>\n",
       "      <td>2083434441_a93bc6306b.jpg#2</td>\n",
       "      <td>NaN</td>\n",
       "      <td>1.0</td>\n",
       "    </tr>\n",
       "  </tbody>\n",
       "</table>\n",
       "</div>"
      ],
      "text/plain": [
       "                       image                     query_id  agg_expert_annot  \\\n",
       "0  1056338697_4f7d7ce270.jpg  1056338697_4f7d7ce270.jpg#2               NaN   \n",
       "1  1056338697_4f7d7ce270.jpg   114051287_dd85625a04.jpg#2               NaN   \n",
       "2  1056338697_4f7d7ce270.jpg  1427391496_ea512cbe7f.jpg#2               NaN   \n",
       "3  1056338697_4f7d7ce270.jpg  2073964624_52da3a0fc4.jpg#2               NaN   \n",
       "4  1056338697_4f7d7ce270.jpg  2083434441_a93bc6306b.jpg#2               NaN   \n",
       "\n",
       "   agg_crowd_annot  \n",
       "0              4.0  \n",
       "1              1.0  \n",
       "2              1.0  \n",
       "3              1.0  \n",
       "4              1.0  "
      ]
     },
     "execution_count": 44,
     "metadata": {},
     "output_type": "execute_result"
    }
   ],
   "source": [
    "annotations = pd.merge(expert_annotations, crowd_annotations, how='outer', on=['image', 'query_id'])\n",
    "annotations.head()"
   ]
  },
  {
   "cell_type": "code",
   "execution_count": 45,
   "metadata": {},
   "outputs": [],
   "source": [
    "annotations['final_annot'] = np.nan  # просто заглушка"
   ]
  },
  {
   "cell_type": "markdown",
   "metadata": {},
   "source": [
    "Если есть оценка только от экспертов - она и будет финальной оценкой."
   ]
  },
  {
   "cell_type": "code",
   "execution_count": 46,
   "metadata": {},
   "outputs": [],
   "source": [
    "mask = (annotations['agg_expert_annot'].notna()) & (annotations['agg_crowd_annot'].isna())\n",
    "annotations.loc[mask, 'final_annot'] = annotations.loc[mask, 'agg_expert_annot']"
   ]
  },
  {
   "cell_type": "markdown",
   "metadata": {},
   "source": [
    "Аналогично для оценки толпы."
   ]
  },
  {
   "cell_type": "code",
   "execution_count": 47,
   "metadata": {},
   "outputs": [],
   "source": [
    "mask = (annotations['agg_expert_annot'].isna()) & (annotations['agg_crowd_annot'].notna())\n",
    "annotations.loc[mask, 'final_annot'] = annotations.loc[mask, 'agg_crowd_annot']"
   ]
  },
  {
   "cell_type": "markdown",
   "metadata": {},
   "source": [
    "Если есть и те и те оценки - возьмем взвешенное среднее."
   ]
  },
  {
   "cell_type": "code",
   "execution_count": 48,
   "metadata": {},
   "outputs": [],
   "source": [
    "mask = (annotations['agg_expert_annot'].notna()) & (annotations['agg_crowd_annot'].notna())\n",
    "annotations.loc[mask, 'final_annot'] = annotations.loc[mask, 'agg_crowd_annot'] * 0.4 + annotations.loc[mask, 'agg_expert_annot'] * 0.6"
   ]
  },
  {
   "cell_type": "markdown",
   "metadata": {},
   "source": [
    "Проверим, что оценка есть для всех записей."
   ]
  },
  {
   "cell_type": "code",
   "execution_count": 49,
   "metadata": {},
   "outputs": [
    {
     "data": {
      "text/plain": [
       "0"
      ]
     },
     "execution_count": 49,
     "metadata": {},
     "output_type": "execute_result"
    }
   ],
   "source": [
    "annotations['final_annot'].isna().sum()"
   ]
  },
  {
   "cell_type": "code",
   "execution_count": 50,
   "metadata": {},
   "outputs": [
    {
     "data": {
      "text/plain": [
       "count    51323.000000\n",
       "mean         1.225148\n",
       "std          0.621797\n",
       "min          1.000000\n",
       "25%          1.000000\n",
       "50%          1.000000\n",
       "75%          1.000000\n",
       "max          4.000000\n",
       "Name: final_annot, dtype: float64"
      ]
     },
     "execution_count": 50,
     "metadata": {},
     "output_type": "execute_result"
    }
   ],
   "source": [
    "annotations['final_annot'].describe()"
   ]
  },
  {
   "cell_type": "code",
   "execution_count": 51,
   "metadata": {},
   "outputs": [
    {
     "data": {
      "image/png": "[encoded data removed]",
      "text/plain": [
       "<Figure size 640x480 with 1 Axes>"
      ]
     },
     "metadata": {},
     "output_type": "display_data"
    }
   ],
   "source": [
    "create_histogram(annotations['final_annot'], 5, 'Распределение агрегированных оценок', 'Агрегированая оценка')"
   ]
  },
  {
   "cell_type": "markdown",
   "metadata": {},
   "source": [
    "Значения также находятся в диапазоне `[1; 4]`. Распределение сохранилось. Следовательно объединение проведено правильно."
   ]
  },
  {
   "cell_type": "code",
   "execution_count": 52,
   "metadata": {},
   "outputs": [
    {
     "data": {
      "application/vnd.microsoft.datawrangler.viewer.v0+json": {
       "columns": [
        {
         "name": "index",
         "rawType": "int64",
         "type": "integer"
        },
        {
         "name": "image",
         "rawType": "object",
         "type": "string"
        },
        {
         "name": "query_id",
         "rawType": "object",
         "type": "string"
        },
        {
         "name": "agg_expert_annot",
         "rawType": "float64",
         "type": "float"
        },
        {
         "name": "agg_crowd_annot",
         "rawType": "float64",
         "type": "float"
        },
        {
         "name": "final_annot",
         "rawType": "float64",
         "type": "float"
        }
       ],
       "conversionMethod": "pd.DataFrame",
       "ref": "7fb19056-6edd-488c-9533-2c55ef35af37",
       "rows": [
        [
         "0",
         "1056338697_4f7d7ce270.jpg",
         "1056338697_4f7d7ce270.jpg#2",
         null,
         "4.0",
         "4.0"
        ],
        [
         "1",
         "1056338697_4f7d7ce270.jpg",
         "114051287_dd85625a04.jpg#2",
         null,
         "1.0",
         "1.0"
        ],
        [
         "2",
         "1056338697_4f7d7ce270.jpg",
         "1427391496_ea512cbe7f.jpg#2",
         null,
         "1.0",
         "1.0"
        ],
        [
         "3",
         "1056338697_4f7d7ce270.jpg",
         "2073964624_52da3a0fc4.jpg#2",
         null,
         "1.0",
         "1.0"
        ],
        [
         "4",
         "1056338697_4f7d7ce270.jpg",
         "2083434441_a93bc6306b.jpg#2",
         null,
         "1.0",
         "1.0"
        ]
       ],
       "shape": {
        "columns": 5,
        "rows": 5
       }
      },
      "text/html": [
       "<div>\n",
       "<style scoped>\n",
       "    .dataframe tbody tr th:only-of-type {\n",
       "        vertical-align: middle;\n",
       "    }\n",
       "\n",
       "    .dataframe tbody tr th {\n",
       "        vertical-align: top;\n",
       "    }\n",
       "\n",
       "    .dataframe thead th {\n",
       "        text-align: right;\n",
       "    }\n",
       "</style>\n",
       "<table border=\"1\" class=\"dataframe\">\n",
       "  <thead>\n",
       "    <tr style=\"text-align: right;\">\n",
       "      <th></th>\n",
       "      <th>image</th>\n",
       "      <th>query_id</th>\n",
       "      <th>agg_expert_annot</th>\n",
       "      <th>agg_crowd_annot</th>\n",
       "      <th>final_annot</th>\n",
       "    </tr>\n",
       "  </thead>\n",
       "  <tbody>\n",
       "    <tr>\n",
       "      <th>0</th>\n",
       "      <td>1056338697_4f7d7ce270.jpg</td>\n",
       "      <td>1056338697_4f7d7ce270.jpg#2</td>\n",
       "      <td>NaN</td>\n",
       "      <td>4.0</td>\n",
       "      <td>4.0</td>\n",
       "    </tr>\n",
       "    <tr>\n",
       "      <th>1</th>\n",
       "      <td>1056338697_4f7d7ce270.jpg</td>\n",
       "      <td>114051287_dd85625a04.jpg#2</td>\n",
       "      <td>NaN</td>\n",
       "      <td>1.0</td>\n",
       "      <td>1.0</td>\n",
       "    </tr>\n",
       "    <tr>\n",
       "      <th>2</th>\n",
       "      <td>1056338697_4f7d7ce270.jpg</td>\n",
       "      <td>1427391496_ea512cbe7f.jpg#2</td>\n",
       "      <td>NaN</td>\n",
       "      <td>1.0</td>\n",
       "      <td>1.0</td>\n",
       "    </tr>\n",
       "    <tr>\n",
       "      <th>3</th>\n",
       "      <td>1056338697_4f7d7ce270.jpg</td>\n",
       "      <td>2073964624_52da3a0fc4.jpg#2</td>\n",
       "      <td>NaN</td>\n",
       "      <td>1.0</td>\n",
       "      <td>1.0</td>\n",
       "    </tr>\n",
       "    <tr>\n",
       "      <th>4</th>\n",
       "      <td>1056338697_4f7d7ce270.jpg</td>\n",
       "      <td>2083434441_a93bc6306b.jpg#2</td>\n",
       "      <td>NaN</td>\n",
       "      <td>1.0</td>\n",
       "      <td>1.0</td>\n",
       "    </tr>\n",
       "  </tbody>\n",
       "</table>\n",
       "</div>"
      ],
      "text/plain": [
       "                       image                     query_id  agg_expert_annot  \\\n",
       "0  1056338697_4f7d7ce270.jpg  1056338697_4f7d7ce270.jpg#2               NaN   \n",
       "1  1056338697_4f7d7ce270.jpg   114051287_dd85625a04.jpg#2               NaN   \n",
       "2  1056338697_4f7d7ce270.jpg  1427391496_ea512cbe7f.jpg#2               NaN   \n",
       "3  1056338697_4f7d7ce270.jpg  2073964624_52da3a0fc4.jpg#2               NaN   \n",
       "4  1056338697_4f7d7ce270.jpg  2083434441_a93bc6306b.jpg#2               NaN   \n",
       "\n",
       "   agg_crowd_annot  final_annot  \n",
       "0              4.0          4.0  \n",
       "1              1.0          1.0  \n",
       "2              1.0          1.0  \n",
       "3              1.0          1.0  \n",
       "4              1.0          1.0  "
      ]
     },
     "execution_count": 52,
     "metadata": {},
     "output_type": "execute_result"
    }
   ],
   "source": [
    "annotations.head()"
   ]
  },
  {
   "cell_type": "code",
   "execution_count": 53,
   "metadata": {},
   "outputs": [],
   "source": [
    "annotations = annotations.drop(columns=['agg_expert_annot', 'agg_crowd_annot'])"
   ]
  },
  {
   "cell_type": "code",
   "execution_count": 54,
   "metadata": {},
   "outputs": [
    {
     "data": {
      "application/vnd.microsoft.datawrangler.viewer.v0+json": {
       "columns": [
        {
         "name": "index",
         "rawType": "int64",
         "type": "integer"
        },
        {
         "name": "image",
         "rawType": "object",
         "type": "string"
        },
        {
         "name": "query_id",
         "rawType": "object",
         "type": "string"
        },
        {
         "name": "final_annot",
         "rawType": "float64",
         "type": "float"
        }
       ],
       "conversionMethod": "pd.DataFrame",
       "ref": "5fd5b680-102c-44ee-8ccb-ccc99717cbf7",
       "rows": [
        [
         "0",
         "1056338697_4f7d7ce270.jpg",
         "1056338697_4f7d7ce270.jpg#2",
         "4.0"
        ],
        [
         "1",
         "1056338697_4f7d7ce270.jpg",
         "114051287_dd85625a04.jpg#2",
         "1.0"
        ],
        [
         "2",
         "1056338697_4f7d7ce270.jpg",
         "1427391496_ea512cbe7f.jpg#2",
         "1.0"
        ],
        [
         "3",
         "1056338697_4f7d7ce270.jpg",
         "2073964624_52da3a0fc4.jpg#2",
         "1.0"
        ],
        [
         "4",
         "1056338697_4f7d7ce270.jpg",
         "2083434441_a93bc6306b.jpg#2",
         "1.0"
        ]
       ],
       "shape": {
        "columns": 3,
        "rows": 5
       }
      },
      "text/html": [
       "<div>\n",
       "<style scoped>\n",
       "    .dataframe tbody tr th:only-of-type {\n",
       "        vertical-align: middle;\n",
       "    }\n",
       "\n",
       "    .dataframe tbody tr th {\n",
       "        vertical-align: top;\n",
       "    }\n",
       "\n",
       "    .dataframe thead th {\n",
       "        text-align: right;\n",
       "    }\n",
       "</style>\n",
       "<table border=\"1\" class=\"dataframe\">\n",
       "  <thead>\n",
       "    <tr style=\"text-align: right;\">\n",
       "      <th></th>\n",
       "      <th>image</th>\n",
       "      <th>query_id</th>\n",
       "      <th>final_annot</th>\n",
       "    </tr>\n",
       "  </thead>\n",
       "  <tbody>\n",
       "    <tr>\n",
       "      <th>0</th>\n",
       "      <td>1056338697_4f7d7ce270.jpg</td>\n",
       "      <td>1056338697_4f7d7ce270.jpg#2</td>\n",
       "      <td>4.0</td>\n",
       "    </tr>\n",
       "    <tr>\n",
       "      <th>1</th>\n",
       "      <td>1056338697_4f7d7ce270.jpg</td>\n",
       "      <td>114051287_dd85625a04.jpg#2</td>\n",
       "      <td>1.0</td>\n",
       "    </tr>\n",
       "    <tr>\n",
       "      <th>2</th>\n",
       "      <td>1056338697_4f7d7ce270.jpg</td>\n",
       "      <td>1427391496_ea512cbe7f.jpg#2</td>\n",
       "      <td>1.0</td>\n",
       "    </tr>\n",
       "    <tr>\n",
       "      <th>3</th>\n",
       "      <td>1056338697_4f7d7ce270.jpg</td>\n",
       "      <td>2073964624_52da3a0fc4.jpg#2</td>\n",
       "      <td>1.0</td>\n",
       "    </tr>\n",
       "    <tr>\n",
       "      <th>4</th>\n",
       "      <td>1056338697_4f7d7ce270.jpg</td>\n",
       "      <td>2083434441_a93bc6306b.jpg#2</td>\n",
       "      <td>1.0</td>\n",
       "    </tr>\n",
       "  </tbody>\n",
       "</table>\n",
       "</div>"
      ],
      "text/plain": [
       "                       image                     query_id  final_annot\n",
       "0  1056338697_4f7d7ce270.jpg  1056338697_4f7d7ce270.jpg#2          4.0\n",
       "1  1056338697_4f7d7ce270.jpg   114051287_dd85625a04.jpg#2          1.0\n",
       "2  1056338697_4f7d7ce270.jpg  1427391496_ea512cbe7f.jpg#2          1.0\n",
       "3  1056338697_4f7d7ce270.jpg  2073964624_52da3a0fc4.jpg#2          1.0\n",
       "4  1056338697_4f7d7ce270.jpg  2083434441_a93bc6306b.jpg#2          1.0"
      ]
     },
     "execution_count": 54,
     "metadata": {},
     "output_type": "execute_result"
    }
   ],
   "source": [
    "annotations.head()"
   ]
  },
  {
   "cell_type": "code",
   "execution_count": 55,
   "metadata": {},
   "outputs": [],
   "source": [
    "del crowd_annotations\n",
    "del expert_annotations"
   ]
  },
  {
   "cell_type": "markdown",
   "metadata": {},
   "source": [
    "## Датасет для обучения (train)"
   ]
  },
  {
   "cell_type": "code",
   "execution_count": 56,
   "metadata": {},
   "outputs": [
    {
     "data": {
      "application/vnd.microsoft.datawrangler.viewer.v0+json": {
       "columns": [
        {
         "name": "index",
         "rawType": "int64",
         "type": "integer"
        },
        {
         "name": "image",
         "rawType": "object",
         "type": "string"
        },
        {
         "name": "query_id",
         "rawType": "object",
         "type": "string"
        },
        {
         "name": "query_text",
         "rawType": "object",
         "type": "string"
        }
       ],
       "conversionMethod": "pd.DataFrame",
       "ref": "88d8bf7b-e208-4be0-97af-154191ff75b8",
       "rows": [
        [
         "0",
         "1056338697_4f7d7ce270.jpg",
         "2549968784_39bfbe44f9.jpg#2",
         "A young child is wearing blue goggles and sitting in a float in a pool ."
        ]
       ],
       "shape": {
        "columns": 3,
        "rows": 1
       }
      },
      "text/html": [
       "<div>\n",
       "<style scoped>\n",
       "    .dataframe tbody tr th:only-of-type {\n",
       "        vertical-align: middle;\n",
       "    }\n",
       "\n",
       "    .dataframe tbody tr th {\n",
       "        vertical-align: top;\n",
       "    }\n",
       "\n",
       "    .dataframe thead th {\n",
       "        text-align: right;\n",
       "    }\n",
       "</style>\n",
       "<table border=\"1\" class=\"dataframe\">\n",
       "  <thead>\n",
       "    <tr style=\"text-align: right;\">\n",
       "      <th></th>\n",
       "      <th>image</th>\n",
       "      <th>query_id</th>\n",
       "      <th>query_text</th>\n",
       "    </tr>\n",
       "  </thead>\n",
       "  <tbody>\n",
       "    <tr>\n",
       "      <th>0</th>\n",
       "      <td>1056338697_4f7d7ce270.jpg</td>\n",
       "      <td>2549968784_39bfbe44f9.jpg#2</td>\n",
       "      <td>A young child is wearing blue goggles and sitt...</td>\n",
       "    </tr>\n",
       "  </tbody>\n",
       "</table>\n",
       "</div>"
      ],
      "text/plain": [
       "                       image                     query_id  \\\n",
       "0  1056338697_4f7d7ce270.jpg  2549968784_39bfbe44f9.jpg#2   \n",
       "\n",
       "                                          query_text  \n",
       "0  A young child is wearing blue goggles and sitt...  "
      ]
     },
     "execution_count": 56,
     "metadata": {},
     "output_type": "execute_result"
    }
   ],
   "source": [
    "train_dataset.head(1)"
   ]
  },
  {
   "cell_type": "code",
   "execution_count": 57,
   "metadata": {},
   "outputs": [
    {
     "data": {
      "application/vnd.microsoft.datawrangler.viewer.v0+json": {
       "columns": [
        {
         "name": "index",
         "rawType": "int64",
         "type": "integer"
        },
        {
         "name": "image",
         "rawType": "object",
         "type": "string"
        },
        {
         "name": "query_id",
         "rawType": "object",
         "type": "string"
        },
        {
         "name": "final_annot",
         "rawType": "float64",
         "type": "float"
        }
       ],
       "conversionMethod": "pd.DataFrame",
       "ref": "8cc47749-4eb5-42b4-b24a-f9a58c46eec7",
       "rows": [
        [
         "0",
         "1056338697_4f7d7ce270.jpg",
         "1056338697_4f7d7ce270.jpg#2",
         "4.0"
        ]
       ],
       "shape": {
        "columns": 3,
        "rows": 1
       }
      },
      "text/html": [
       "<div>\n",
       "<style scoped>\n",
       "    .dataframe tbody tr th:only-of-type {\n",
       "        vertical-align: middle;\n",
       "    }\n",
       "\n",
       "    .dataframe tbody tr th {\n",
       "        vertical-align: top;\n",
       "    }\n",
       "\n",
       "    .dataframe thead th {\n",
       "        text-align: right;\n",
       "    }\n",
       "</style>\n",
       "<table border=\"1\" class=\"dataframe\">\n",
       "  <thead>\n",
       "    <tr style=\"text-align: right;\">\n",
       "      <th></th>\n",
       "      <th>image</th>\n",
       "      <th>query_id</th>\n",
       "      <th>final_annot</th>\n",
       "    </tr>\n",
       "  </thead>\n",
       "  <tbody>\n",
       "    <tr>\n",
       "      <th>0</th>\n",
       "      <td>1056338697_4f7d7ce270.jpg</td>\n",
       "      <td>1056338697_4f7d7ce270.jpg#2</td>\n",
       "      <td>4.0</td>\n",
       "    </tr>\n",
       "  </tbody>\n",
       "</table>\n",
       "</div>"
      ],
      "text/plain": [
       "                       image                     query_id  final_annot\n",
       "0  1056338697_4f7d7ce270.jpg  1056338697_4f7d7ce270.jpg#2          4.0"
      ]
     },
     "execution_count": 57,
     "metadata": {},
     "output_type": "execute_result"
    }
   ],
   "source": [
    "annotations.head(1)"
   ]
  },
  {
   "cell_type": "code",
   "execution_count": 58,
   "metadata": {},
   "outputs": [
    {
     "data": {
      "application/vnd.microsoft.datawrangler.viewer.v0+json": {
       "columns": [
        {
         "name": "index",
         "rawType": "int64",
         "type": "integer"
        },
        {
         "name": "image",
         "rawType": "object",
         "type": "string"
        },
        {
         "name": "query_id",
         "rawType": "object",
         "type": "string"
        },
        {
         "name": "query_text",
         "rawType": "object",
         "type": "string"
        },
        {
         "name": "final_annot",
         "rawType": "float64",
         "type": "float"
        }
       ],
       "conversionMethod": "pd.DataFrame",
       "ref": "1b78415d-da8f-4b64-87f7-5c6175936b06",
       "rows": [
        [
         "0",
         "1056338697_4f7d7ce270.jpg",
         "2549968784_39bfbe44f9.jpg#2",
         "A young child is wearing blue goggles and sitting in a float in a pool .",
         "1.0"
        ],
        [
         "1",
         "1262583859_653f1469a9.jpg",
         "2549968784_39bfbe44f9.jpg#2",
         "A young child is wearing blue goggles and sitting in a float in a pool .",
         "1.0"
        ],
        [
         "2",
         "2447284966_d6bbdb4b6e.jpg",
         "2549968784_39bfbe44f9.jpg#2",
         "A young child is wearing blue goggles and sitting in a float in a pool .",
         "1.6"
        ],
        [
         "3",
         "2549968784_39bfbe44f9.jpg",
         "2549968784_39bfbe44f9.jpg#2",
         "A young child is wearing blue goggles and sitting in a float in a pool .",
         "4.0"
        ],
        [
         "4",
         "2621415349_ef1a7e73be.jpg",
         "2549968784_39bfbe44f9.jpg#2",
         "A young child is wearing blue goggles and sitting in a float in a pool .",
         "1.0"
        ]
       ],
       "shape": {
        "columns": 4,
        "rows": 5
       }
      },
      "text/html": [
       "<div>\n",
       "<style scoped>\n",
       "    .dataframe tbody tr th:only-of-type {\n",
       "        vertical-align: middle;\n",
       "    }\n",
       "\n",
       "    .dataframe tbody tr th {\n",
       "        vertical-align: top;\n",
       "    }\n",
       "\n",
       "    .dataframe thead th {\n",
       "        text-align: right;\n",
       "    }\n",
       "</style>\n",
       "<table border=\"1\" class=\"dataframe\">\n",
       "  <thead>\n",
       "    <tr style=\"text-align: right;\">\n",
       "      <th></th>\n",
       "      <th>image</th>\n",
       "      <th>query_id</th>\n",
       "      <th>query_text</th>\n",
       "      <th>final_annot</th>\n",
       "    </tr>\n",
       "  </thead>\n",
       "  <tbody>\n",
       "    <tr>\n",
       "      <th>0</th>\n",
       "      <td>1056338697_4f7d7ce270.jpg</td>\n",
       "      <td>2549968784_39bfbe44f9.jpg#2</td>\n",
       "      <td>A young child is wearing blue goggles and sitt...</td>\n",
       "      <td>1.0</td>\n",
       "    </tr>\n",
       "    <tr>\n",
       "      <th>1</th>\n",
       "      <td>1262583859_653f1469a9.jpg</td>\n",
       "      <td>2549968784_39bfbe44f9.jpg#2</td>\n",
       "      <td>A young child is wearing blue goggles and sitt...</td>\n",
       "      <td>1.0</td>\n",
       "    </tr>\n",
       "    <tr>\n",
       "      <th>2</th>\n",
       "      <td>2447284966_d6bbdb4b6e.jpg</td>\n",
       "      <td>2549968784_39bfbe44f9.jpg#2</td>\n",
       "      <td>A young child is wearing blue goggles and sitt...</td>\n",
       "      <td>1.6</td>\n",
       "    </tr>\n",
       "    <tr>\n",
       "      <th>3</th>\n",
       "      <td>2549968784_39bfbe44f9.jpg</td>\n",
       "      <td>2549968784_39bfbe44f9.jpg#2</td>\n",
       "      <td>A young child is wearing blue goggles and sitt...</td>\n",
       "      <td>4.0</td>\n",
       "    </tr>\n",
       "    <tr>\n",
       "      <th>4</th>\n",
       "      <td>2621415349_ef1a7e73be.jpg</td>\n",
       "      <td>2549968784_39bfbe44f9.jpg#2</td>\n",
       "      <td>A young child is wearing blue goggles and sitt...</td>\n",
       "      <td>1.0</td>\n",
       "    </tr>\n",
       "  </tbody>\n",
       "</table>\n",
       "</div>"
      ],
      "text/plain": [
       "                       image                     query_id  \\\n",
       "0  1056338697_4f7d7ce270.jpg  2549968784_39bfbe44f9.jpg#2   \n",
       "1  1262583859_653f1469a9.jpg  2549968784_39bfbe44f9.jpg#2   \n",
       "2  2447284966_d6bbdb4b6e.jpg  2549968784_39bfbe44f9.jpg#2   \n",
       "3  2549968784_39bfbe44f9.jpg  2549968784_39bfbe44f9.jpg#2   \n",
       "4  2621415349_ef1a7e73be.jpg  2549968784_39bfbe44f9.jpg#2   \n",
       "\n",
       "                                          query_text  final_annot  \n",
       "0  A young child is wearing blue goggles and sitt...          1.0  \n",
       "1  A young child is wearing blue goggles and sitt...          1.0  \n",
       "2  A young child is wearing blue goggles and sitt...          1.6  \n",
       "3  A young child is wearing blue goggles and sitt...          4.0  \n",
       "4  A young child is wearing blue goggles and sitt...          1.0  "
      ]
     },
     "execution_count": 58,
     "metadata": {},
     "output_type": "execute_result"
    }
   ],
   "source": [
    "train_dataset = pd.merge(train_dataset, annotations, how='left', on=['image', 'query_id'])\n",
    "train_dataset.head()"
   ]
  },
  {
   "cell_type": "code",
   "execution_count": 61,
   "metadata": {},
   "outputs": [
    {
     "name": "stdout",
     "output_type": "stream",
     "text": [
      "<class 'pandas.core.frame.DataFrame'>\n",
      "RangeIndex: 5822 entries, 0 to 5821\n",
      "Data columns (total 4 columns):\n",
      " #   Column       Non-Null Count  Dtype  \n",
      "---  ------       --------------  -----  \n",
      " 0   image        5822 non-null   object \n",
      " 1   query_id     5822 non-null   object \n",
      " 2   query_text   5822 non-null   object \n",
      " 3   final_annot  5822 non-null   float64\n",
      "dtypes: float64(1), object(3)\n",
      "memory usage: 182.1+ KB\n"
     ]
    }
   ],
   "source": [
    "train_dataset.info()"
   ]
  },
  {
   "cell_type": "code",
   "execution_count": 59,
   "metadata": {},
   "outputs": [
    {
     "name": "stdout",
     "output_type": "stream",
     "text": [
      "\u001b[32mПолных дубликатов не обнаружено.\u001b[0m\n"
     ]
    }
   ],
   "source": [
    "check_duplicates(train_dataset)"
   ]
  },
  {
   "cell_type": "code",
   "execution_count": 60,
   "metadata": {},
   "outputs": [
    {
     "name": "stdout",
     "output_type": "stream",
     "text": [
      "\u001b[32mПропусков не обнаружено.\u001b[0m\n"
     ]
    }
   ],
   "source": [
    "check_nans(train_dataset)"
   ]
  }
 ],
 "metadata": {
  "kernelspec": {
   "display_name": "ml12",
   "language": "python",
   "name": "python3"
  },
  "language_info": {
   "codemirror_mode": {
    "name": "ipython",
    "version": 3
   },
   "file_extension": ".py",
   "mimetype": "text/x-python",
   "name": "python",
   "nbconvert_exporter": "python",
   "pygments_lexer": "ipython3",
   "version": "3.12.2"
  }
 },
 "nbformat": 4,
 "nbformat_minor": 2
}
