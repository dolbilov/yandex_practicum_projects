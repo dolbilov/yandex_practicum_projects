{
 "cells": [
  {
   "cell_type": "markdown",
   "metadata": {},
   "source": [
    "# Toxic comments 🤬"
   ]
  },
  {
   "cell_type": "markdown",
   "metadata": {},
   "source": [
    "Интернет-магазин «Викишоп» запускает новый сервис. Теперь пользователи могут редактировать и дополнять описания товаров, как в вики-сообществах. То есть клиенты предлагают свои правки и комментируют изменения других. Магазину нужен инструмент, который будет искать токсичные комментарии и отправлять их на модерацию.\n",
    "\n",
    "**Цель проекта:** Обучить модель классифицировать комментарии на позитивные и негативные."
   ]
  },
  {
   "cell_type": "markdown",
   "metadata": {},
   "source": [
    "**Содержание**<a id='toc0_'></a>    \n",
    "1. [ Подготовка ](#toc1_)    \n",
    "1.1. [Библиотеки ](#toc1_1_)    \n",
    "1.2. [Конфигурация ](#toc1_2_)    \n",
    "1.3. [Сервисные функции ](#toc1_3_)    \n",
    "2. [Данные ](#toc2_)    \n",
    "2.1. [Загрузка ](#toc2_1_)    \n",
    "2.2. [Проверка типов данных ](#toc2_2_)    \n",
    "2.3. [Проверка пропусков ](#toc2_3_)    \n",
    "2.4. [Проверка полных дубликатов ](#toc2_4_)    \n",
    "2.5. [Изучение таргета ](#toc2_5_)    \n",
    "2.6. [Выводы по датасету ](#toc2_6_)    \n",
    "3. [Обработка текста ](#toc3_)    \n",
    "4. [Модели ](#toc4_)    \n",
    "4.1. [Разделение данных ](#toc4_1_)    \n",
    "4.2. [Подготовка](#toc4_2_)    \n",
    "4.3. [Модель `LogisticRegression`](#toc4_3_)    \n",
    "\n",
    "<!-- vscode-jupyter-toc-config\n",
    "\tnumbering=true\n",
    "\tanchor=true\n",
    "\tflat=true\n",
    "\tminLevel=2\n",
    "\tmaxLevel=6\n",
    "\t/vscode-jupyter-toc-config -->\n",
    "<!-- THIS CELL WILL BE REPLACED ON TOC UPDATE. DO NOT WRITE YOUR TEXT IN THIS CELL -->"
   ]
  },
  {
   "cell_type": "markdown",
   "metadata": {},
   "source": [
    "## 1. <a id='toc1_'></a> Подготовка  [&#8593;](#toc0_)"
   ]
  },
  {
   "cell_type": "markdown",
   "metadata": {},
   "source": [
    "### 1.1. <a id='toc1_1_'></a>Библиотеки  [&#8593;](#toc0_)"
   ]
  },
  {
   "cell_type": "code",
   "execution_count": 1,
   "metadata": {},
   "outputs": [],
   "source": [
    "from IPython.display import clear_output"
   ]
  },
  {
   "cell_type": "code",
   "execution_count": 2,
   "metadata": {},
   "outputs": [],
   "source": [
    "%pip install -q matplotlib==3.8.4\n",
    "%pip install -q numpy==1.26.4\n",
    "%pip install -q pandas==2.2.3\n",
    "%pip install -q prettytable==3.12.0\n",
    "%pip install -q scikit-learn==1.5.2\n",
    "%pip install -q termcolor==2.5.0\n",
    "\n",
    "clear_output()"
   ]
  },
  {
   "cell_type": "code",
   "execution_count": 3,
   "metadata": {},
   "outputs": [],
   "source": [
    "import re\n",
    "from os.path import exists\n",
    "\n",
    "\n",
    "import numpy as np\n",
    "import pandas as pd\n",
    "import matplotlib.pyplot as plt\n",
    "import nltk\n",
    "\n",
    "from nltk.corpus import stopwords\n",
    "from nltk.stem import WordNetLemmatizer\n",
    "from prettytable import PrettyTable\n",
    "from termcolor import colored\n",
    "from sklearn.utils._testing import ignore_warnings\n",
    "from sklearn.exceptions import ConvergenceWarning\n",
    "from sklearn.pipeline import Pipeline\n",
    "from sklearn.feature_extraction.text import TfidfVectorizer\n",
    "from sklearn.model_selection import (train_test_split,\n",
    "                                     StratifiedKFold,\n",
    "                                     cross_val_score)\n",
    "from sklearn.metrics import (f1_score,\n",
    "                             classification_report,\n",
    "                             ConfusionMatrixDisplay)\n",
    "from sklearn.linear_model import LogisticRegression\n",
    "from sklearn.ensemble import RandomForestClassifier\n",
    "from catboost import (CatBoostClassifier,\n",
    "                      Pool)\n",
    "from lightgbm import LGBMClassifier\n",
    "from hyperopt import (hp,\n",
    "                      fmin,\n",
    "                      tpe,\n",
    "                      Trials,\n",
    "                      STATUS_OK,\n",
    "                      STATUS_FAIL)"
   ]
  },
  {
   "cell_type": "code",
   "execution_count": 4,
   "metadata": {},
   "outputs": [],
   "source": [
    "nltk.download('punkt')\n",
    "nltk.download('wordnet')\n",
    "nltk.download('stopwords')\n",
    "\n",
    "clear_output()"
   ]
  },
  {
   "cell_type": "markdown",
   "metadata": {},
   "source": [
    "### 1.2. <a id='toc1_2_'></a>Конфигурация  [&#8593;](#toc0_)"
   ]
  },
  {
   "cell_type": "code",
   "execution_count": 5,
   "metadata": {},
   "outputs": [],
   "source": [
    "import warnings\n",
    "warnings.filterwarnings('ignore')"
   ]
  },
  {
   "cell_type": "code",
   "execution_count": 6,
   "metadata": {},
   "outputs": [],
   "source": [
    "RANDOM_STATE = 27\n",
    "TEST_SIZE = 0.2"
   ]
  },
  {
   "cell_type": "markdown",
   "metadata": {},
   "source": [
    "### 1.3. <a id='toc1_3_'></a>Сервисные функции  [&#8593;](#toc0_)"
   ]
  },
  {
   "cell_type": "code",
   "execution_count": 7,
   "metadata": {},
   "outputs": [],
   "source": [
    "def get_dataframe(paths: list[str], **kwargs) -> pd.DataFrame:\n",
    "    for _path in paths:\n",
    "        if not exists(_path) and not _path.startswith('http'):\n",
    "            continue\n",
    "\n",
    "        try:\n",
    "            df = pd.read_csv(_path, **kwargs)\n",
    "        except:\n",
    "            continue\n",
    "\n",
    "        if df is None:\n",
    "            continue\n",
    "\n",
    "        return df\n",
    "\n",
    "    raise FileNotFoundError('No paths are valid for correct csv file.')"
   ]
  },
  {
   "cell_type": "code",
   "execution_count": 8,
   "metadata": {},
   "outputs": [],
   "source": [
    "def check_duplicates(df: pd.DataFrame) -> None:\n",
    "    duplicates_count = df.duplicated().sum()\n",
    "\n",
    "    if duplicates_count == 0:\n",
    "        print(colored('Полных дубликатов не обнаружено.', 'green'))\n",
    "        return\n",
    "\n",
    "    duplicates_part = duplicates_count / len(df)\n",
    "    print(colored(f'Обнаружено {duplicates_count} дубликатов ({duplicates_part:.2%})', 'red'))"
   ]
  },
  {
   "cell_type": "code",
   "execution_count": 9,
   "metadata": {},
   "outputs": [],
   "source": [
    "def check_nans(df: pd.DataFrame) -> None:\n",
    "    if df.isna().sum().sum() == 0:\n",
    "        print(colored('Полных дубликатов не обнаружено.', 'green'))\n",
    "        return\n",
    "\n",
    "    table = PrettyTable()\n",
    "    table.field_names = ['Feature', 'Missing values count']\n",
    "\n",
    "    missing_info = df.isna().sum().sort_values()\n",
    "    cols = missing_info.index.to_list()\n",
    "    for col in cols:\n",
    "        count = missing_info[col]\n",
    "        color = 'green' if count == 0 else 'red'\n",
    "        s = f'{count} ({count / len(df):.2%})'\n",
    "        table.add_row([col, colored(s, color)])\n",
    "\n",
    "    print(table)"
   ]
  },
  {
   "cell_type": "code",
   "execution_count": 10,
   "metadata": {},
   "outputs": [],
   "source": [
    "def get_value_counts(series: pd.Series) -> None:\n",
    "    data = pd.DataFrame()\n",
    "    data['count'] = series.value_counts()\n",
    "    data['part'] = round(data['count'] / len(series), 4)\n",
    "    display(data)"
   ]
  },
  {
   "cell_type": "markdown",
   "metadata": {},
   "source": [
    "## 2. <a id='toc2_'></a>Данные  [&#8593;](#toc0_)"
   ]
  },
  {
   "cell_type": "markdown",
   "metadata": {},
   "source": [
    "### 2.1. <a id='toc2_1_'></a>Загрузка  [&#8593;](#toc0_)"
   ]
  },
  {
   "cell_type": "code",
   "execution_count": 11,
   "metadata": {},
   "outputs": [],
   "source": [
    "df = get_dataframe([\n",
    "    './data/toxic_comments.csv',\n",
    "    'datasets/toxic_comments.csv'\n",
    "], index_col=0)"
   ]
  },
  {
   "cell_type": "code",
   "execution_count": 12,
   "metadata": {},
   "outputs": [
    {
     "data": {
      "application/vnd.microsoft.datawrangler.viewer.v0+json": {
       "columns": [
        {
         "name": "index",
         "rawType": "int64",
         "type": "integer"
        },
        {
         "name": "text",
         "rawType": "object",
         "type": "string"
        },
        {
         "name": "toxic",
         "rawType": "int64",
         "type": "integer"
        }
       ],
       "conversionMethod": "pd.DataFrame",
       "ref": "7ecdcbe9-a489-4c8a-b001-52e5dae8c083",
       "rows": [
        [
         "0",
         "Explanation\nWhy the edits made under my username Hardcore Metallica Fan were reverted? They weren't vandalisms, just closure on some GAs after I voted at New York Dolls FAC. And please don't remove the template from the talk page since I'm retired now.89.205.38.27",
         "0"
        ],
        [
         "1",
         "D'aww! He matches this background colour I'm seemingly stuck with. Thanks.  (talk) 21:51, January 11, 2016 (UTC)",
         "0"
        ],
        [
         "2",
         "Hey man, I'm really not trying to edit war. It's just that this guy is constantly removing relevant information and talking to me through edits instead of my talk page. He seems to care more about the formatting than the actual info.",
         "0"
        ],
        [
         "3",
         "\"\nMore\nI can't make any real suggestions on improvement - I wondered if the section statistics should be later on, or a subsection of \"\"types of accidents\"\"  -I think the references may need tidying so that they are all in the exact same format ie date format etc. I can do that later on, if no-one else does first - if you have any preferences for formatting style on references or want to do it yourself please let me know.\n\nThere appears to be a backlog on articles for review so I guess there may be a delay until a reviewer turns up. It's listed in the relevant form eg Wikipedia:Good_article_nominations#Transport  \"",
         "0"
        ],
        [
         "4",
         "You, sir, are my hero. Any chance you remember what page that's on?",
         "0"
        ]
       ],
       "shape": {
        "columns": 2,
        "rows": 5
       }
      },
      "text/html": [
       "<div>\n",
       "<style scoped>\n",
       "    .dataframe tbody tr th:only-of-type {\n",
       "        vertical-align: middle;\n",
       "    }\n",
       "\n",
       "    .dataframe tbody tr th {\n",
       "        vertical-align: top;\n",
       "    }\n",
       "\n",
       "    .dataframe thead th {\n",
       "        text-align: right;\n",
       "    }\n",
       "</style>\n",
       "<table border=\"1\" class=\"dataframe\">\n",
       "  <thead>\n",
       "    <tr style=\"text-align: right;\">\n",
       "      <th></th>\n",
       "      <th>text</th>\n",
       "      <th>toxic</th>\n",
       "    </tr>\n",
       "  </thead>\n",
       "  <tbody>\n",
       "    <tr>\n",
       "      <th>0</th>\n",
       "      <td>Explanation\\nWhy the edits made under my usern...</td>\n",
       "      <td>0</td>\n",
       "    </tr>\n",
       "    <tr>\n",
       "      <th>1</th>\n",
       "      <td>D'aww! He matches this background colour I'm s...</td>\n",
       "      <td>0</td>\n",
       "    </tr>\n",
       "    <tr>\n",
       "      <th>2</th>\n",
       "      <td>Hey man, I'm really not trying to edit war. It...</td>\n",
       "      <td>0</td>\n",
       "    </tr>\n",
       "    <tr>\n",
       "      <th>3</th>\n",
       "      <td>\"\\nMore\\nI can't make any real suggestions on ...</td>\n",
       "      <td>0</td>\n",
       "    </tr>\n",
       "    <tr>\n",
       "      <th>4</th>\n",
       "      <td>You, sir, are my hero. Any chance you remember...</td>\n",
       "      <td>0</td>\n",
       "    </tr>\n",
       "  </tbody>\n",
       "</table>\n",
       "</div>"
      ],
      "text/plain": [
       "                                                text  toxic\n",
       "0  Explanation\\nWhy the edits made under my usern...      0\n",
       "1  D'aww! He matches this background colour I'm s...      0\n",
       "2  Hey man, I'm really not trying to edit war. It...      0\n",
       "3  \"\\nMore\\nI can't make any real suggestions on ...      0\n",
       "4  You, sir, are my hero. Any chance you remember...      0"
      ]
     },
     "execution_count": 12,
     "metadata": {},
     "output_type": "execute_result"
    }
   ],
   "source": [
    "df.head()"
   ]
  },
  {
   "cell_type": "markdown",
   "metadata": {},
   "source": [
    "### 2.2. <a id='toc2_2_'></a>Проверка типов данных  [&#8593;](#toc0_)"
   ]
  },
  {
   "cell_type": "code",
   "execution_count": 13,
   "metadata": {},
   "outputs": [
    {
     "name": "stdout",
     "output_type": "stream",
     "text": [
      "<class 'pandas.core.frame.DataFrame'>\n",
      "Index: 159292 entries, 0 to 159450\n",
      "Data columns (total 2 columns):\n",
      " #   Column  Non-Null Count   Dtype \n",
      "---  ------  --------------   ----- \n",
      " 0   text    159292 non-null  object\n",
      " 1   toxic   159292 non-null  int64 \n",
      "dtypes: int64(1), object(1)\n",
      "memory usage: 3.6+ MB\n"
     ]
    }
   ],
   "source": [
    "df.info()"
   ]
  },
  {
   "cell_type": "markdown",
   "metadata": {},
   "source": [
    "Все типы данных корректны."
   ]
  },
  {
   "cell_type": "markdown",
   "metadata": {},
   "source": [
    "### 2.3. <a id='toc2_3_'></a>Проверка пропусков  [&#8593;](#toc0_)"
   ]
  },
  {
   "cell_type": "code",
   "execution_count": 14,
   "metadata": {},
   "outputs": [
    {
     "name": "stdout",
     "output_type": "stream",
     "text": [
      "\u001b[32mПолных дубликатов не обнаружено.\u001b[0m\n"
     ]
    }
   ],
   "source": [
    "check_nans(df)"
   ]
  },
  {
   "cell_type": "markdown",
   "metadata": {},
   "source": [
    "### 2.4. <a id='toc2_4_'></a>Проверка полных дубликатов  [&#8593;](#toc0_)"
   ]
  },
  {
   "cell_type": "code",
   "execution_count": 15,
   "metadata": {},
   "outputs": [
    {
     "name": "stdout",
     "output_type": "stream",
     "text": [
      "\u001b[32mПолных дубликатов не обнаружено.\u001b[0m\n"
     ]
    }
   ],
   "source": [
    "check_duplicates(df)"
   ]
  },
  {
   "cell_type": "markdown",
   "metadata": {},
   "source": [
    "### 2.5. <a id='toc2_5_'></a>Изучение таргета  [&#8593;](#toc0_)"
   ]
  },
  {
   "cell_type": "code",
   "execution_count": 16,
   "metadata": {},
   "outputs": [
    {
     "data": {
      "application/vnd.microsoft.datawrangler.viewer.v0+json": {
       "columns": [
        {
         "name": "toxic",
         "rawType": "int64",
         "type": "integer"
        },
        {
         "name": "count",
         "rawType": "int64",
         "type": "integer"
        },
        {
         "name": "part",
         "rawType": "float64",
         "type": "float"
        }
       ],
       "conversionMethod": "pd.DataFrame",
       "ref": "7b25700c-b21e-4687-9342-981c4c788128",
       "rows": [
        [
         "0",
         "143106",
         "0.8984"
        ],
        [
         "1",
         "16186",
         "0.1016"
        ]
       ],
       "shape": {
        "columns": 2,
        "rows": 2
       }
      },
      "text/html": [
       "<div>\n",
       "<style scoped>\n",
       "    .dataframe tbody tr th:only-of-type {\n",
       "        vertical-align: middle;\n",
       "    }\n",
       "\n",
       "    .dataframe tbody tr th {\n",
       "        vertical-align: top;\n",
       "    }\n",
       "\n",
       "    .dataframe thead th {\n",
       "        text-align: right;\n",
       "    }\n",
       "</style>\n",
       "<table border=\"1\" class=\"dataframe\">\n",
       "  <thead>\n",
       "    <tr style=\"text-align: right;\">\n",
       "      <th></th>\n",
       "      <th>count</th>\n",
       "      <th>part</th>\n",
       "    </tr>\n",
       "    <tr>\n",
       "      <th>toxic</th>\n",
       "      <th></th>\n",
       "      <th></th>\n",
       "    </tr>\n",
       "  </thead>\n",
       "  <tbody>\n",
       "    <tr>\n",
       "      <th>0</th>\n",
       "      <td>143106</td>\n",
       "      <td>0.8984</td>\n",
       "    </tr>\n",
       "    <tr>\n",
       "      <th>1</th>\n",
       "      <td>16186</td>\n",
       "      <td>0.1016</td>\n",
       "    </tr>\n",
       "  </tbody>\n",
       "</table>\n",
       "</div>"
      ],
      "text/plain": [
       "        count    part\n",
       "toxic                \n",
       "0      143106  0.8984\n",
       "1       16186  0.1016"
      ]
     },
     "metadata": {},
     "output_type": "display_data"
    }
   ],
   "source": [
    "get_value_counts(df['toxic'])"
   ]
  },
  {
   "cell_type": "code",
   "execution_count": 17,
   "metadata": {},
   "outputs": [
    {
     "data": {
      "image/png": "[encoded data removed]",
      "text/plain": [
       "<Figure size 400x400 with 1 Axes>"
      ]
     },
     "metadata": {},
     "output_type": "display_data"
    }
   ],
   "source": [
    "toxic_counts = df['toxic'].value_counts()\n",
    "\n",
    "plt.figure(figsize=(4, 4))\n",
    "plt.pie(toxic_counts,\n",
    "        labels=['Not Toxic (0)', 'Toxic (1)'],\n",
    "        colors=['lightgreen', 'lightcoral'],\n",
    "        autopct='%1.1f%%',\n",
    "        startangle=90)\n",
    "plt.axis('equal')\n",
    "plt.title('Распределение таргета')\n",
    "plt.show()"
   ]
  },
  {
   "cell_type": "markdown",
   "metadata": {},
   "source": [
    "Видим довольно большой дизбаланс."
   ]
  },
  {
   "cell_type": "markdown",
   "metadata": {},
   "source": [
    "### 2.6. <a id='toc2_6_'></a>Выводы по датасету  [&#8593;](#toc0_)"
   ]
  },
  {
   "cell_type": "markdown",
   "metadata": {},
   "source": [
    "Перед нами датасет о комментариях с оценкой их токсичности. Пропуски не обнаружены. Полные дубликаты также не обнаружены. Распределение целевого признака крайне несбалансированное. Записей с таргетом `0` (not toxic) почти в 9 раз больше."
   ]
  },
  {
   "cell_type": "markdown",
   "metadata": {},
   "source": [
    "## 3. <a id='toc3_'></a>Обработка текста  [&#8593;](#toc0_)"
   ]
  },
  {
   "cell_type": "code",
   "execution_count": 18,
   "metadata": {},
   "outputs": [],
   "source": [
    "lemmatizer = WordNetLemmatizer()\n",
    "stop_words = stopwords.words('english')"
   ]
  },
  {
   "cell_type": "code",
   "execution_count": 19,
   "metadata": {},
   "outputs": [],
   "source": [
    "def clean_text(text: str) -> str:\n",
    "    text = re.sub(r'[^a-zA-Z\\s]', ' ', text)\n",
    "    text = re.sub(r'\\s+', ' ', text).strip()\n",
    "    text = text.lower()\n",
    "\n",
    "    return text"
   ]
  },
  {
   "cell_type": "code",
   "execution_count": 20,
   "metadata": {},
   "outputs": [],
   "source": [
    "def preprocess_text(text: str) -> str:\n",
    "    cleaned_text = clean_text(text)\n",
    "    tokens = nltk.word_tokenize(cleaned_text)\n",
    "    lemmas = [lemmatizer.lemmatize(token) for token in tokens if token.isalpha() and token not in stop_words]\n",
    "\n",
    "    return ' '.join(lemmas)"
   ]
  },
  {
   "cell_type": "code",
   "execution_count": 21,
   "metadata": {},
   "outputs": [],
   "source": [
    "df['text'] = df['text'].apply(preprocess_text)"
   ]
  },
  {
   "cell_type": "code",
   "execution_count": 22,
   "metadata": {},
   "outputs": [
    {
     "data": {
      "application/vnd.microsoft.datawrangler.viewer.v0+json": {
       "columns": [
        {
         "name": "index",
         "rawType": "int64",
         "type": "integer"
        },
        {
         "name": "text",
         "rawType": "object",
         "type": "string"
        },
        {
         "name": "toxic",
         "rawType": "int64",
         "type": "integer"
        }
       ],
       "conversionMethod": "pd.DataFrame",
       "ref": "75ff0c4f-04d3-44a6-bb63-02cd021cc313",
       "rows": [
        [
         "0",
         "explanation edits made username hardcore metallica fan reverted vandalism closure gas voted new york doll fac please remove template talk page since retired",
         "0"
        ],
        [
         "1",
         "aww match background colour seemingly stuck thanks talk january utc",
         "0"
        ],
        [
         "2",
         "hey man really trying edit war guy constantly removing relevant information talking edits instead talk page seems care formatting actual info",
         "0"
        ],
        [
         "3",
         "make real suggestion improvement wondered section statistic later subsection type accident think reference may need tidying exact format ie date format etc later one else first preference formatting style reference want please let know appears backlog article review guess may delay reviewer turn listed relevant form eg wikipedia good article nomination transport",
         "0"
        ],
        [
         "4",
         "sir hero chance remember page",
         "0"
        ]
       ],
       "shape": {
        "columns": 2,
        "rows": 5
       }
      },
      "text/html": [
       "<div>\n",
       "<style scoped>\n",
       "    .dataframe tbody tr th:only-of-type {\n",
       "        vertical-align: middle;\n",
       "    }\n",
       "\n",
       "    .dataframe tbody tr th {\n",
       "        vertical-align: top;\n",
       "    }\n",
       "\n",
       "    .dataframe thead th {\n",
       "        text-align: right;\n",
       "    }\n",
       "</style>\n",
       "<table border=\"1\" class=\"dataframe\">\n",
       "  <thead>\n",
       "    <tr style=\"text-align: right;\">\n",
       "      <th></th>\n",
       "      <th>text</th>\n",
       "      <th>toxic</th>\n",
       "    </tr>\n",
       "  </thead>\n",
       "  <tbody>\n",
       "    <tr>\n",
       "      <th>0</th>\n",
       "      <td>explanation edits made username hardcore metal...</td>\n",
       "      <td>0</td>\n",
       "    </tr>\n",
       "    <tr>\n",
       "      <th>1</th>\n",
       "      <td>aww match background colour seemingly stuck th...</td>\n",
       "      <td>0</td>\n",
       "    </tr>\n",
       "    <tr>\n",
       "      <th>2</th>\n",
       "      <td>hey man really trying edit war guy constantly ...</td>\n",
       "      <td>0</td>\n",
       "    </tr>\n",
       "    <tr>\n",
       "      <th>3</th>\n",
       "      <td>make real suggestion improvement wondered sect...</td>\n",
       "      <td>0</td>\n",
       "    </tr>\n",
       "    <tr>\n",
       "      <th>4</th>\n",
       "      <td>sir hero chance remember page</td>\n",
       "      <td>0</td>\n",
       "    </tr>\n",
       "  </tbody>\n",
       "</table>\n",
       "</div>"
      ],
      "text/plain": [
       "                                                text  toxic\n",
       "0  explanation edits made username hardcore metal...      0\n",
       "1  aww match background colour seemingly stuck th...      0\n",
       "2  hey man really trying edit war guy constantly ...      0\n",
       "3  make real suggestion improvement wondered sect...      0\n",
       "4                      sir hero chance remember page      0"
      ]
     },
     "execution_count": 22,
     "metadata": {},
     "output_type": "execute_result"
    }
   ],
   "source": [
    "df.head()"
   ]
  },
  {
   "cell_type": "markdown",
   "metadata": {},
   "source": [
    "## 4. <a id='toc4_'></a>Модели  [&#8593;](#toc0_)"
   ]
  },
  {
   "cell_type": "markdown",
   "metadata": {},
   "source": [
    "### 4.1. <a id='toc4_1_'></a>Разделение данных  [&#8593;](#toc0_)"
   ]
  },
  {
   "cell_type": "code",
   "execution_count": 23,
   "metadata": {},
   "outputs": [],
   "source": [
    "X = df['text']\n",
    "y = df['toxic']"
   ]
  },
  {
   "cell_type": "code",
   "execution_count": 24,
   "metadata": {},
   "outputs": [],
   "source": [
    "X_train, X_test, y_train, y_test = train_test_split(X,\n",
    "                                                    y,\n",
    "                                                    test_size=TEST_SIZE,\n",
    "                                                    random_state=RANDOM_STATE,\n",
    "                                                    stratify=y)"
   ]
  },
  {
   "cell_type": "code",
   "execution_count": 25,
   "metadata": {},
   "outputs": [
    {
     "name": "stdout",
     "output_type": "stream",
     "text": [
      "(127433,) (31859,)\n",
      "(127433,) (31859,)\n"
     ]
    }
   ],
   "source": [
    "print(X_train.shape, X_test.shape)\n",
    "print(y_train.shape, y_test.shape)"
   ]
  },
  {
   "cell_type": "markdown",
   "metadata": {},
   "source": [
    "### 4.2. <a id='toc4_2_'></a>Подготовка [&#8593;](#toc0_)"
   ]
  },
  {
   "cell_type": "code",
   "execution_count": 26,
   "metadata": {},
   "outputs": [],
   "source": [
    "\n",
    "def get_objective(estimator,\n",
    "                  X_train: pd.DataFrame,\n",
    "                  y_train: pd.Series):\n",
    "    def objective(params: dict) -> float:\n",
    "        \"\"\"Кросс-валидация с текущими гиперпараметрами.\n",
    "\n",
    "        Args:\n",
    "            estimator: пайплайн с моделью или отдельно модель\n",
    "            params (dict): гиперпараметры\n",
    "            X_train (pd.DataFrame): входные признаки (features)\n",
    "            y_train (pd.Series): целевой признак (target)\n",
    "\n",
    "        Returns:\n",
    "            dict: Словарь со средним значением метрики, гиперпараметрами и статусом.\n",
    "        \"\"\"\n",
    "        # Некоторые параметры могут быть только целочисленные, приводим их к нужному типу\n",
    "        for key, value in params.items():\n",
    "            if isinstance(value, float) and value % 1 == 0:\n",
    "                params[key] = int(value)\n",
    "\n",
    "        estimator.set_params(**params)\n",
    "        skf = StratifiedKFold(n_splits=3, shuffle=True, random_state=RANDOM_STATE)\n",
    "\n",
    "        try:\n",
    "            score = cross_val_score(estimator=estimator,\n",
    "                                    X=X_train,\n",
    "                                    y=y_train,\n",
    "                                    scoring='f1',\n",
    "                                    cv=skf,\n",
    "                                    n_jobs=-1)\n",
    "\n",
    "            return {\n",
    "                'loss': -score.mean(),\n",
    "                'params': params,\n",
    "                'status': STATUS_OK\n",
    "            }\n",
    "        except:\n",
    "            return {'status': STATUS_FAIL}\n",
    "\n",
    "    return objective"
   ]
  },
  {
   "cell_type": "code",
   "execution_count": 27,
   "metadata": {},
   "outputs": [],
   "source": [
    "@ignore_warnings()\n",
    "def get_model_results(estimator,\n",
    "                      param_space: dict,\n",
    "                      X_train: pd.DataFrame,\n",
    "                      y_train: pd.Series,\n",
    "                      max_evals: int = 1000\n",
    "                      ) -> tuple[dict, float]:\n",
    "    objective = get_objective(estimator, X_train, y_train)\n",
    "    trials = Trials()\n",
    "\n",
    "    fmin(\n",
    "        fn=objective,\n",
    "        space=param_space,\n",
    "        algo=tpe.suggest,\n",
    "        max_evals=max_evals,\n",
    "        trials=trials,\n",
    "        rstate=np.random.default_rng(RANDOM_STATE),\n",
    "        show_progressbar=True\n",
    "    )\n",
    "\n",
    "    clear_output()\n",
    "\n",
    "    best_params = trials.best_trial['result']['params']\n",
    "    best_score = abs(trials.best_trial['result']['loss'])\n",
    "    print(f'Finish with best F1 = {best_score:.2f}')\n",
    "\n",
    "    return best_params, best_score"
   ]
  },
  {
   "cell_type": "markdown",
   "metadata": {},
   "source": [
    "### 4.3. <a id='toc4_3_'></a>Модель `LogisticRegression` [&#8593;](#toc0_)"
   ]
  },
  {
   "cell_type": "code",
   "execution_count": 28,
   "metadata": {},
   "outputs": [],
   "source": [
    "lr_pipeline = Pipeline([\n",
    "    ('tfidf', TfidfVectorizer(stop_words=stop_words)),\n",
    "    ('model', LogisticRegression(random_state=RANDOM_STATE, n_jobs=-1))\n",
    "])"
   ]
  },
  {
   "cell_type": "code",
   "execution_count": 29,
   "metadata": {},
   "outputs": [],
   "source": [
    "param_space = {\n",
    "    'tfidf__max_features': hp.choice('max_features', [1000, 5000, 10000]),\n",
    "    'tfidf__ngram_range': hp.choice('ngram_range', [(1, 1), (1, 2), (1, 3)]),\n",
    "    'tfidf__use_idf': hp.choice('use_idf', [True, False]),\n",
    "    'tfidf__norm': hp.choice('norm', ['l1', 'l2', None]),\n",
    "    'tfidf__smooth_idf': hp.choice('smooth_idf', [True, False]),\n",
    "    'tfidf__sublinear_tf': hp.choice('sublinear_tf', [True, False]),\n",
    "\n",
    "    'model__C': hp.loguniform('C', -5, 2),                                              # Сила регуляризации (меньше -> сильнее регуляризация).\n",
    "    'model__penalty': hp.choice('penalty', ['l1', 'l2']),                               # Тип регуляризации: L1 или L2\n",
    "    'model__solver': hp.choice('solver', ['newton-cg', 'lbfgs', 'liblinear', 'saga']),  # Алгоритм оптимизации.\n",
    "    'model__max_iter': hp.choice('max_iter', [50, 100, 200, 500]),                      # Максимальное число итераций для сходимости.\n",
    "    'model__tol': hp.loguniform('tol', -10, -2),                                        # Точность сходимости (меньше -> выше точность).\n",
    "    'model__class_weight': hp.choice('class_weight', [None, 'balanced']),               # Веса классов (None или сбалансированные).\n",
    "    'model__warm_start': hp.choice('warm_start', [False, True]),                        # Использовать ли результаты предыдущего обучения.\n",
    "}"
   ]
  },
  {
   "cell_type": "code",
   "execution_count": 30,
   "metadata": {},
   "outputs": [],
   "source": [
    "# best_params_lr, best_score_lr = get_model_results(lr_pipeline, param_space, X_train, y_train, 100)"
   ]
  },
  {
   "cell_type": "code",
   "execution_count": 31,
   "metadata": {},
   "outputs": [],
   "source": [
    "best_params_lr = {\n",
    "    'model__C': 0.03663158313433002,\n",
    "    'model__class_weight': None,\n",
    "    'model__max_iter': 50,\n",
    "    'model__penalty': 'l2',\n",
    "    'model__solver': 'newton-cg',\n",
    "    'model__tol': 0.00016833796095277627,\n",
    "    'model__warm_start': False,\n",
    "    'tfidf__max_features': 20000,\n",
    "    'tfidf__ngram_range': (1, 1),\n",
    "    'tfidf__norm': None,\n",
    "    'tfidf__smooth_idf': False,\n",
    "    'tfidf__sublinear_tf': True,\n",
    "    'tfidf__use_idf': True\n",
    "}"
   ]
  },
  {
   "cell_type": "code",
   "execution_count": 32,
   "metadata": {},
   "outputs": [],
   "source": [
    "best_score_lr = 0.7604641329984463"
   ]
  },
  {
   "cell_type": "markdown",
   "metadata": {},
   "source": [
    "### Модель `RandomForestClassifier`"
   ]
  },
  {
   "cell_type": "code",
   "execution_count": 33,
   "metadata": {},
   "outputs": [],
   "source": [
    "rfc_pipeline = Pipeline([\n",
    "    ('tfidf', TfidfVectorizer(stop_words=stop_words)),\n",
    "    ('model', RandomForestClassifier(random_state=RANDOM_STATE, n_jobs=-1))\n",
    "])"
   ]
  },
  {
   "cell_type": "code",
   "execution_count": 34,
   "metadata": {},
   "outputs": [],
   "source": [
    "param_space = {\n",
    "    'tfidf__max_features': hp.choice('max_features', [1000, 5000, 10000]),\n",
    "    'tfidf__ngram_range': hp.choice('ngram_range', [(1, 1), (1, 2), (1, 3)]),\n",
    "    'tfidf__use_idf': hp.choice('use_idf', [True, False]),\n",
    "    'tfidf__norm': hp.choice('norm', ['l1', 'l2', None]),\n",
    "    'tfidf__smooth_idf': hp.choice('smooth_idf', [True, False]),\n",
    "    'tfidf__sublinear_tf': hp.choice('sublinear_tf', [True, False]),\n",
    "\n",
    "    'model__n_estimators': hp.choice('model__n_estimators', range(50, 500)),          # Количество деревьев\n",
    "    'model__max_depth': hp.choice('model__max_depth', range(2, 20)),                  # Максимальная глубина дерева\n",
    "    'model__min_samples_split': hp.uniform('model__min_samples_split', 0.01, 1.0),    # Минимальное количество образцов для разделения узла\n",
    "    'model__min_samples_leaf': hp.uniform('model__min_samples_leaf', 0.01, 0.5),      # Минимальное количество образцов в листе\n",
    "    'model__max_features': hp.choice('model__max_features', ['sqrt', 'log2', None]),  # Количество признаков для поиска лучшего разделения\n",
    "    'model__bootstrap': hp.choice('model__bootstrap', [True, False]),                 # Использование бутстрапа для построения деревьев\n",
    "    'model__class_weight': hp.choice('model__class_weight', [None, 'balanced']),      # Веса классов\n",
    "    'model__max_samples': hp.uniform('model__max_samples', 0.5, 1.0),                 # Доля образцов для обучения каждого дерева\n",
    "}"
   ]
  },
  {
   "cell_type": "code",
   "execution_count": 35,
   "metadata": {},
   "outputs": [],
   "source": [
    "# best_params_rfc, best_score_rfc = get_model_results(rfc_pipeline, param_space, X_train, y_train, 100)"
   ]
  },
  {
   "cell_type": "code",
   "execution_count": 36,
   "metadata": {},
   "outputs": [],
   "source": [
    "best_params_rfc = {\n",
    "    'model__bootstrap': True,\n",
    "    'model__class_weight': 'balanced',\n",
    "    'model__max_depth': 9,\n",
    "    'model__max_features': 'sqrt',\n",
    "    'model__max_samples': 0.6745436848998474,\n",
    "    'model__min_samples_leaf': 0.010307281225644407,\n",
    "    'model__min_samples_split': 0.20873693077143318,\n",
    "    'model__n_estimators': 317,\n",
    "    'tfidf__max_features': 10000,\n",
    "    'tfidf__ngram_range': (1, 3),\n",
    "    'tfidf__norm': 'l2',\n",
    "    'tfidf__smooth_idf': True,\n",
    "    'tfidf__sublinear_tf': False,\n",
    "    'tfidf__use_idf': True\n",
    "}"
   ]
  },
  {
   "cell_type": "code",
   "execution_count": 37,
   "metadata": {},
   "outputs": [],
   "source": [
    "best_score_rfc = 0.2790688512275103"
   ]
  },
  {
   "cell_type": "markdown",
   "metadata": {},
   "source": [
    "### Модель `LGBMClassifier`"
   ]
  },
  {
   "cell_type": "code",
   "execution_count": 38,
   "metadata": {},
   "outputs": [],
   "source": [
    "lgmbc_pipeline = Pipeline([\n",
    "    ('tfidf', TfidfVectorizer(stop_words=stop_words)),\n",
    "    ('model', LGBMClassifier(random_state=RANDOM_STATE, n_jobs=-1, verbose=-1))\n",
    "])"
   ]
  },
  {
   "cell_type": "code",
   "execution_count": 39,
   "metadata": {},
   "outputs": [],
   "source": [
    "param_space = {\n",
    "    \n",
    "}"
   ]
  },
  {
   "cell_type": "code",
   "execution_count": null,
   "metadata": {},
   "outputs": [],
   "source": [
    "best_params_lgbmc, best_score_lgbmc = get_model_results(lgmbc_pipeline, param_space, X_train, y_train, 100)"
   ]
  },
  {
   "cell_type": "markdown",
   "metadata": {},
   "source": [
    "### Модель `CatBoostClassifier`"
   ]
  },
  {
   "cell_type": "code",
   "execution_count": null,
   "metadata": {},
   "outputs": [],
   "source": [
    "cbc = CatBoostClassifier(random_state=RANDOM_STATE, thread_count=-1, silent=True, text_features=[0])"
   ]
  },
  {
   "cell_type": "code",
   "execution_count": null,
   "metadata": {},
   "outputs": [],
   "source": [
    "param_space = {}"
   ]
  },
  {
   "cell_type": "code",
   "execution_count": null,
   "metadata": {},
   "outputs": [],
   "source": [
    "best_params_cbc, best_score_cbc = get_model_results(cbc, param_space, X_train, y_train, 100)"
   ]
  },
  {
   "cell_type": "markdown",
   "metadata": {},
   "source": [
    "## Результаты"
   ]
  },
  {
   "cell_type": "markdown",
   "metadata": {},
   "source": [
    "### Результаты на тренировочной выборке"
   ]
  },
  {
   "cell_type": "code",
   "execution_count": null,
   "metadata": {},
   "outputs": [],
   "source": [
    "pd.options.display.float_format = '{:.2f}'.format\n",
    "\n",
    "pd.DataFrame(\n",
    "    data=[best_score_rfc, best_score_cbc, best_score_lgbmc, best_score_lr],\n",
    "    index=['RandomForestClassifier', 'CatBoostClassifier', 'LGBMClassifier', 'LogisticRegression'],\n",
    "    columns=['f1']\n",
    ").sort_values('f1', ascending=True)"
   ]
  },
  {
   "cell_type": "markdown",
   "metadata": {},
   "source": [
    "### Результаты на тестовой выборке"
   ]
  },
  {
   "cell_type": "markdown",
   "metadata": {},
   "source": [
    "## Общий вывод"
   ]
  }
 ],
 "metadata": {
  "kernelspec": {
   "display_name": "ml12",
   "language": "python",
   "name": "python3"
  },
  "language_info": {
   "codemirror_mode": {
    "name": "ipython",
    "version": 3
   },
   "file_extension": ".py",
   "mimetype": "text/x-python",
   "name": "python",
   "nbconvert_exporter": "python",
   "pygments_lexer": "ipython3",
   "version": "3.12.8"
  }
 },
 "nbformat": 4,
 "nbformat_minor": 2
}
