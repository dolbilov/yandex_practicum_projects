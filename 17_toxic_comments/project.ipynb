{
 "cells": [
  {
   "cell_type": "markdown",
   "metadata": {},
   "source": [
    "# Toxic comments 🤬"
   ]
  },
  {
   "cell_type": "markdown",
   "metadata": {},
   "source": [
    "Интернет-магазин «Викишоп» запускает новый сервис. Теперь пользователи могут редактировать и дополнять описания товаров, как в вики-сообществах. То есть клиенты предлагают свои правки и комментируют изменения других. Магазину нужен инструмент, который будет искать токсичные комментарии и отправлять их на модерацию.\n",
    "\n",
    "**Цель проекта:** Обучить модель классифицировать комментарии на позитивные и негативные."
   ]
  },
  {
   "cell_type": "markdown",
   "metadata": {},
   "source": [
    "**Содержание**<a id='toc0_'></a>    \n",
    "1. [ Подготовка   ](#toc1_)    \n",
    "1.1. [Библиотеки   ](#toc1_1_)    \n",
    "1.2. [Конфигурация   ](#toc1_2_)    \n",
    "1.3. [Сервисные функции   ](#toc1_3_)    \n",
    "2. [Данные   ](#toc2_)    \n",
    "2.1. [Загрузка   ](#toc2_1_)    \n",
    "2.2. [Проверка типов данных   ](#toc2_2_)    \n",
    "2.3. [Проверка пропусков   ](#toc2_3_)    \n",
    "2.4. [Проверка полных дубликатов   ](#toc2_4_)    \n",
    "2.5. [Изучение таргета   ](#toc2_5_)    \n",
    "2.6. [Выводы по датасету   ](#toc2_6_)    \n",
    "3. [Обработка текста   ](#toc3_)    \n",
    "4. [Модели   ](#toc4_)    \n",
    "4.1. [Разделение данных   ](#toc4_1_)    \n",
    "4.2. [Подготовка  ](#toc4_2_)    \n",
    "4.3. [Модель `LogisticRegression`  ](#toc4_3_)    \n",
    "4.4. [Модель `RandomForestClassifier` ](#toc4_4_)    \n",
    "4.5. [Модель `LGBMClassifier` ](#toc4_5_)    \n",
    "4.6. [Модель `CatBoostClassifier` ](#toc4_6_)    \n",
    "5. [Результаты ](#toc5_)    \n",
    "5.1. [Результаты на тренировочной выборке ](#toc5_1_)    \n",
    "5.2. [Результаты на тестовой выборке ](#toc5_2_)    \n",
    "6. [Общий вывод ](#toc6_)    \n",
    "\n",
    "<!-- vscode-jupyter-toc-config\n",
    "\tnumbering=true\n",
    "\tanchor=true\n",
    "\tflat=true\n",
    "\tminLevel=2\n",
    "\tmaxLevel=6\n",
    "\t/vscode-jupyter-toc-config -->\n",
    "<!-- THIS CELL WILL BE REPLACED ON TOC UPDATE. DO NOT WRITE YOUR TEXT IN THIS CELL -->"
   ]
  },
  {
   "cell_type": "markdown",
   "metadata": {},
   "source": [
    "## 1. <a id='toc1_'></a> Подготовка    [&#8593;](#toc0_)"
   ]
  },
  {
   "cell_type": "markdown",
   "metadata": {},
   "source": [
    "### 1.1. <a id='toc1_1_'></a>Библиотеки    [&#8593;](#toc0_)"
   ]
  },
  {
   "cell_type": "code",
   "execution_count": null,
   "metadata": {},
   "outputs": [],
   "source": [
    "from IPython.display import clear_output"
   ]
  },
  {
   "cell_type": "code",
   "execution_count": null,
   "metadata": {},
   "outputs": [],
   "source": [
    "%pip install -q catboost==1.2.7\n",
    "%pip install -q dill==0.3.8\n",
    "%pip install -q hyperopt==0.2.7\n",
    "%pip install -q lightgbm==4.5.0\n",
    "%pip install -q matplotlib==3.8.4\n",
    "%pip install -q nltk==3.9.1\n",
    "%pip install -q numpy==1.26.4\n",
    "%pip install -q pandas==2.2.3\n",
    "%pip install -q prettytable==3.12.0\n",
    "%pip install -q scikit-learn==1.5.2\n",
    "%pip install -q termcolor==2.5.0\n",
    "\n",
    "clear_output()"
   ]
  },
  {
   "cell_type": "code",
   "execution_count": null,
   "metadata": {},
   "outputs": [],
   "source": [
    "import re\n",
    "from os.path import exists\n",
    "\n",
    "\n",
    "import numpy as np\n",
    "import pandas as pd\n",
    "import matplotlib.pyplot as plt\n",
    "import nltk\n",
    "import dill\n",
    "\n",
    "from nltk.corpus import stopwords\n",
    "from nltk.stem import WordNetLemmatizer\n",
    "from catboost.utils import get_gpu_device_count\n",
    "from prettytable import PrettyTable\n",
    "from termcolor import colored\n",
    "from sklearn.pipeline import Pipeline\n",
    "from sklearn.feature_extraction.text import TfidfVectorizer\n",
    "from sklearn.model_selection import (train_test_split,\n",
    "                                     StratifiedKFold,\n",
    "                                     cross_val_score)\n",
    "from sklearn.metrics import (f1_score,\n",
    "                             classification_report,\n",
    "                             ConfusionMatrixDisplay)\n",
    "from sklearn.linear_model import LogisticRegression\n",
    "from sklearn.ensemble import RandomForestClassifier\n",
    "from catboost import CatBoostClassifier\n",
    "from lightgbm import LGBMClassifier\n",
    "from hyperopt import (hp,\n",
    "                      fmin,\n",
    "                      tpe,\n",
    "                      Trials,\n",
    "                      STATUS_OK,\n",
    "                      STATUS_FAIL)"
   ]
  },
  {
   "cell_type": "code",
   "execution_count": null,
   "metadata": {},
   "outputs": [],
   "source": [
    "nltk.download('punkt')\n",
    "nltk.download('wordnet')\n",
    "nltk.download('stopwords')\n",
    "\n",
    "clear_output()"
   ]
  },
  {
   "cell_type": "markdown",
   "metadata": {},
   "source": [
    "### 1.2. <a id='toc1_2_'></a>Конфигурация    [&#8593;](#toc0_)"
   ]
  },
  {
   "cell_type": "code",
   "execution_count": null,
   "metadata": {},
   "outputs": [],
   "source": [
    "import warnings\n",
    "warnings.filterwarnings('ignore')"
   ]
  },
  {
   "cell_type": "code",
   "execution_count": null,
   "metadata": {},
   "outputs": [],
   "source": [
    "RANDOM_STATE = 27\n",
    "TEST_SIZE = 0.2"
   ]
  },
  {
   "cell_type": "markdown",
   "metadata": {},
   "source": [
    "### 1.3. <a id='toc1_3_'></a>Сервисные функции    [&#8593;](#toc0_)"
   ]
  },
  {
   "cell_type": "code",
   "execution_count": null,
   "metadata": {},
   "outputs": [],
   "source": [
    "def get_dataframe(paths: list[str], **kwargs) -> pd.DataFrame:\n",
    "    for _path in paths:\n",
    "        if not exists(_path) and not _path.startswith('http'):\n",
    "            continue\n",
    "\n",
    "        try:\n",
    "            df = pd.read_csv(_path, **kwargs)\n",
    "        except:\n",
    "            continue\n",
    "\n",
    "        if df is None:\n",
    "            continue\n",
    "\n",
    "        return df\n",
    "\n",
    "    raise FileNotFoundError('No paths are valid for correct csv file.')"
   ]
  },
  {
   "cell_type": "code",
   "execution_count": null,
   "metadata": {},
   "outputs": [],
   "source": [
    "def check_duplicates(df: pd.DataFrame) -> None:\n",
    "    duplicates_count = df.duplicated().sum()\n",
    "\n",
    "    if duplicates_count == 0:\n",
    "        print(colored('Полных дубликатов не обнаружено.', 'green'))\n",
    "        return\n",
    "\n",
    "    duplicates_part = duplicates_count / len(df)\n",
    "    print(colored(f'Обнаружено {duplicates_count} дубликатов ({duplicates_part:.2%})', 'red'))"
   ]
  },
  {
   "cell_type": "code",
   "execution_count": null,
   "metadata": {},
   "outputs": [],
   "source": [
    "def check_nans(df: pd.DataFrame) -> None:\n",
    "    if df.isna().sum().sum() == 0:\n",
    "        print(colored('Полных дубликатов не обнаружено.', 'green'))\n",
    "        return\n",
    "\n",
    "    table = PrettyTable()\n",
    "    table.field_names = ['Feature', 'Missing values count']\n",
    "\n",
    "    missing_info = df.isna().sum().sort_values()\n",
    "    cols = missing_info.index.to_list()\n",
    "    for col in cols:\n",
    "        count = missing_info[col]\n",
    "        color = 'green' if count == 0 else 'red'\n",
    "        s = f'{count} ({count / len(df):.2%})'\n",
    "        table.add_row([col, colored(s, color)])\n",
    "\n",
    "    print(table)"
   ]
  },
  {
   "cell_type": "code",
   "execution_count": null,
   "metadata": {},
   "outputs": [],
   "source": [
    "def get_value_counts(series: pd.Series) -> None:\n",
    "    data = pd.DataFrame()\n",
    "    data['count'] = series.value_counts()\n",
    "    data['part'] = round(data['count'] / len(series), 4)\n",
    "    display(data)"
   ]
  },
  {
   "cell_type": "markdown",
   "metadata": {},
   "source": [
    "## 2. <a id='toc2_'></a>Данные    [&#8593;](#toc0_)"
   ]
  },
  {
   "cell_type": "markdown",
   "metadata": {},
   "source": [
    "### 2.1. <a id='toc2_1_'></a>Загрузка    [&#8593;](#toc0_)"
   ]
  },
  {
   "cell_type": "code",
   "execution_count": null,
   "metadata": {},
   "outputs": [],
   "source": [
    "df = get_dataframe([\n",
    "    './data/toxic_comments.csv',\n",
    "    'datasets/toxic_comments.csv'\n",
    "], index_col=0)"
   ]
  },
  {
   "cell_type": "code",
   "execution_count": null,
   "metadata": {},
   "outputs": [],
   "source": [
    "df.head()"
   ]
  },
  {
   "cell_type": "markdown",
   "metadata": {},
   "source": [
    "### 2.2. <a id='toc2_2_'></a>Проверка типов данных    [&#8593;](#toc0_)"
   ]
  },
  {
   "cell_type": "code",
   "execution_count": null,
   "metadata": {},
   "outputs": [],
   "source": [
    "df.info()"
   ]
  },
  {
   "cell_type": "markdown",
   "metadata": {},
   "source": [
    "Все типы данных корректны."
   ]
  },
  {
   "cell_type": "markdown",
   "metadata": {},
   "source": [
    "### 2.3. <a id='toc2_3_'></a>Проверка пропусков    [&#8593;](#toc0_)"
   ]
  },
  {
   "cell_type": "code",
   "execution_count": null,
   "metadata": {},
   "outputs": [],
   "source": [
    "check_nans(df)"
   ]
  },
  {
   "cell_type": "markdown",
   "metadata": {},
   "source": [
    "### 2.4. <a id='toc2_4_'></a>Проверка полных дубликатов    [&#8593;](#toc0_)"
   ]
  },
  {
   "cell_type": "code",
   "execution_count": null,
   "metadata": {},
   "outputs": [],
   "source": [
    "check_duplicates(df)"
   ]
  },
  {
   "cell_type": "markdown",
   "metadata": {},
   "source": [
    "### 2.5. <a id='toc2_5_'></a>Изучение таргета    [&#8593;](#toc0_)"
   ]
  },
  {
   "cell_type": "code",
   "execution_count": null,
   "metadata": {},
   "outputs": [],
   "source": [
    "get_value_counts(df['toxic'])"
   ]
  },
  {
   "cell_type": "code",
   "execution_count": null,
   "metadata": {},
   "outputs": [],
   "source": [
    "toxic_counts = df['toxic'].value_counts()\n",
    "\n",
    "plt.figure(figsize=(4, 4))\n",
    "plt.pie(toxic_counts,\n",
    "        labels=['Not Toxic (0)', 'Toxic (1)'],\n",
    "        colors=['lightgreen', 'lightcoral'],\n",
    "        autopct='%1.1f%%',\n",
    "        startangle=90)\n",
    "plt.axis('equal')\n",
    "plt.title('Распределение таргета')\n",
    "plt.show()"
   ]
  },
  {
   "cell_type": "markdown",
   "metadata": {},
   "source": [
    "Видим довольно большой дизбаланс."
   ]
  },
  {
   "cell_type": "markdown",
   "metadata": {},
   "source": [
    "### 2.6. <a id='toc2_6_'></a>Выводы по датасету    [&#8593;](#toc0_)"
   ]
  },
  {
   "cell_type": "markdown",
   "metadata": {},
   "source": [
    "Перед нами датасет о комментариях с оценкой их токсичности. Пропуски не обнаружены. Полные дубликаты также не обнаружены. Распределение целевого признака крайне несбалансированное. Записей с таргетом `0` (not toxic) почти в 9 раз больше."
   ]
  },
  {
   "cell_type": "markdown",
   "metadata": {},
   "source": [
    "## 3. <a id='toc3_'></a>Обработка текста    [&#8593;](#toc0_)"
   ]
  },
  {
   "cell_type": "code",
   "execution_count": null,
   "metadata": {},
   "outputs": [],
   "source": [
    "lemmatizer = WordNetLemmatizer()\n",
    "stop_words = stopwords.words('english')"
   ]
  },
  {
   "cell_type": "code",
   "execution_count": null,
   "metadata": {},
   "outputs": [],
   "source": [
    "def clean_text(text: str) -> str:\n",
    "    text = re.sub(r'[^a-zA-Z\\s]', ' ', text)\n",
    "    text = re.sub(r'\\s+', ' ', text).strip()\n",
    "    text = text.lower()\n",
    "\n",
    "    return text"
   ]
  },
  {
   "cell_type": "code",
   "execution_count": null,
   "metadata": {},
   "outputs": [],
   "source": [
    "def preprocess_text(text: str) -> str:\n",
    "    cleaned_text = clean_text(text)\n",
    "    tokens = nltk.word_tokenize(cleaned_text)\n",
    "    lemmas = [lemmatizer.lemmatize(token) for token in tokens if token.isalpha() and token not in stop_words]\n",
    "\n",
    "    return ' '.join(lemmas)"
   ]
  },
  {
   "cell_type": "code",
   "execution_count": null,
   "metadata": {},
   "outputs": [],
   "source": [
    "df['text'] = df['text'].apply(preprocess_text)"
   ]
  },
  {
   "cell_type": "code",
   "execution_count": null,
   "metadata": {},
   "outputs": [],
   "source": [
    "df.head()"
   ]
  },
  {
   "cell_type": "markdown",
   "metadata": {},
   "source": [
    "## 4. <a id='toc4_'></a>Модели    [&#8593;](#toc0_)"
   ]
  },
  {
   "cell_type": "markdown",
   "metadata": {},
   "source": [
    "### 4.1. <a id='toc4_1_'></a>Разделение данных    [&#8593;](#toc0_)"
   ]
  },
  {
   "cell_type": "code",
   "execution_count": null,
   "metadata": {},
   "outputs": [],
   "source": [
    "X = df['text']\n",
    "y = df['toxic']"
   ]
  },
  {
   "cell_type": "code",
   "execution_count": null,
   "metadata": {},
   "outputs": [],
   "source": [
    "X_train, X_test, y_train, y_test = train_test_split(X,\n",
    "                                                    y,\n",
    "                                                    test_size=TEST_SIZE,\n",
    "                                                    random_state=RANDOM_STATE,\n",
    "                                                    stratify=y)"
   ]
  },
  {
   "cell_type": "code",
   "execution_count": null,
   "metadata": {},
   "outputs": [],
   "source": [
    "print(X_train.shape, X_test.shape)\n",
    "print(y_train.shape, y_test.shape)"
   ]
  },
  {
   "cell_type": "markdown",
   "metadata": {},
   "source": [
    "### 4.2. <a id='toc4_2_'></a>Подготовка   [&#8593;](#toc0_)"
   ]
  },
  {
   "cell_type": "code",
   "execution_count": null,
   "metadata": {},
   "outputs": [],
   "source": [
    "\n",
    "def get_objective(estimator,\n",
    "                  X_train: pd.DataFrame,\n",
    "                  y_train: pd.Series):\n",
    "    def objective(params: dict) -> float:\n",
    "        \"\"\"Кросс-валидация с текущими гиперпараметрами.\n",
    "\n",
    "        Args:\n",
    "            estimator: пайплайн с моделью или отдельно модель\n",
    "            params (dict): гиперпараметры\n",
    "            X_train (pd.DataFrame): входные признаки (features)\n",
    "            y_train (pd.Series): целевой признак (target)\n",
    "\n",
    "        Returns:\n",
    "            dict: Словарь со средним значением метрики, гиперпараметрами и статусом.\n",
    "        \"\"\"\n",
    "        # Некоторые параметры могут быть только целочисленные, приводим их к нужному типу\n",
    "        for key, value in params.items():\n",
    "            if isinstance(value, float) and value % 1 == 0:\n",
    "                params[key] = int(value)\n",
    "\n",
    "        estimator.set_params(**params)\n",
    "        skf = StratifiedKFold(n_splits=3, shuffle=True, random_state=RANDOM_STATE)\n",
    "\n",
    "        try:\n",
    "            score = cross_val_score(estimator=estimator,\n",
    "                                    X=X_train,\n",
    "                                    y=y_train,\n",
    "                                    scoring='f1',\n",
    "                                    cv=skf,\n",
    "                                    n_jobs=-1)\n",
    "\n",
    "            return {\n",
    "                'loss': -score.mean(),\n",
    "                'params': params,\n",
    "                'status': STATUS_OK\n",
    "            }\n",
    "        except Exception as e:\n",
    "            print(e)\n",
    "            return {'status': STATUS_FAIL}\n",
    "\n",
    "    return objective"
   ]
  },
  {
   "cell_type": "code",
   "execution_count": null,
   "metadata": {},
   "outputs": [],
   "source": [
    "def get_model_results(estimator,\n",
    "                      param_space: dict,\n",
    "                      X_train: pd.DataFrame,\n",
    "                      y_train: pd.Series,\n",
    "                      max_evals: int = 1000\n",
    "                      ) -> tuple[dict, float]:\n",
    "    objective = get_objective(estimator, X_train, y_train)\n",
    "    trials = Trials()\n",
    "\n",
    "    fmin(\n",
    "        fn=objective,\n",
    "        space=param_space,\n",
    "        algo=tpe.suggest,\n",
    "        max_evals=max_evals,\n",
    "        trials=trials,\n",
    "        rstate=np.random.default_rng(RANDOM_STATE),\n",
    "        show_progressbar=True\n",
    "    )\n",
    "\n",
    "    clear_output()\n",
    "\n",
    "    best_params = trials.best_trial['result']['params']\n",
    "    best_score = abs(trials.best_trial['result']['loss'])\n",
    "    print(f'Finish with best F1 = {best_score:.4f}')\n",
    "\n",
    "    return best_params, best_score"
   ]
  },
  {
   "cell_type": "markdown",
   "metadata": {},
   "source": [
    "### 4.3. <a id='toc4_3_'></a>Модель `LogisticRegression`   [&#8593;](#toc0_)"
   ]
  },
  {
   "cell_type": "code",
   "execution_count": null,
   "metadata": {},
   "outputs": [],
   "source": [
    "lr_pipeline = Pipeline([\n",
    "    ('tfidf', TfidfVectorizer(stop_words=stop_words)),\n",
    "    ('model', LogisticRegression(random_state=RANDOM_STATE, n_jobs=-1))\n",
    "])"
   ]
  },
  {
   "cell_type": "code",
   "execution_count": null,
   "metadata": {},
   "outputs": [],
   "source": [
    "\n",
    "param_space = {\n",
    "    'tfidf__max_df':       hp.uniform('tfidf__max_df', 0.7, 1.0),                      # Максимальная частота слов в документах\n",
    "    'tfidf__min_df':       hp.uniform('tfidf__min_df', 0.0, 0.3),                      # Минимальная частота слов в документах\n",
    "    'tfidf__ngram_range':  hp.choice('tfidf__ngram_range', [(1, 1), (1, 2), (1, 3)]),  # Диапазон n-грамм\n",
    "    'tfidf__max_features': hp.quniform('tfidf__max_features', 1000, 10000, 100),       # Максимальное количество признаков (целые числа)\n",
    "\n",
    "    'model__C':            hp.loguniform('model__C', -5, 2),                           # Обратная сила регуляризации (log-scale)\n",
    "    'model__penalty':      hp.choice('model__penalty', ['l2', 'l1']),                  # Тип регуляризации (L2 или L1)\n",
    "    'model__solver':       hp.choice('model__solver', ['liblinear', 'saga']),          # Алгоритм оптимизации\n",
    "    'model__class_weight': hp.choice('model__class_weight', [None, 'balanced']),       # Вес классов (автоматический баланс или нет)\n",
    "    'model__max_iter':     hp.quniform('model__max_iter', 100, 1000, 100)              # Максимальное количество итераций (целые числа)\n",
    "}"
   ]
  },
  {
   "cell_type": "code",
   "execution_count": null,
   "metadata": {},
   "outputs": [],
   "source": [
    "# best_params_lr, best_score_lr = get_model_results(lr_pipeline, param_space, X_train, y_train, 100)"
   ]
  },
  {
   "cell_type": "code",
   "execution_count": null,
   "metadata": {},
   "outputs": [],
   "source": [
    "best_params_lr = {\n",
    "    'model__C': 0.07580860544027326,\n",
    "    'model__class_weight': 'balanced',\n",
    "    'model__max_iter': 400,\n",
    "    'model__penalty': 'l2',\n",
    "    'model__solver': 'saga',\n",
    "    'tfidf__max_df': 0.9800160986993187,\n",
    "    'tfidf__max_features': 6100,\n",
    "    'tfidf__min_df': 0.0005461737876119033,\n",
    "    'tfidf__ngram_range': (1, 2)\n",
    "}"
   ]
  },
  {
   "cell_type": "code",
   "execution_count": null,
   "metadata": {},
   "outputs": [],
   "source": [
    "best_score_lr = 0.6813113185647047"
   ]
  },
  {
   "cell_type": "markdown",
   "metadata": {},
   "source": [
    "### 4.4. <a id='toc4_4_'></a>Модель `RandomForestClassifier`  [&#8593;](#toc0_)"
   ]
  },
  {
   "cell_type": "code",
   "execution_count": null,
   "metadata": {},
   "outputs": [],
   "source": [
    "rfc_pipeline = Pipeline([\n",
    "    ('tfidf', TfidfVectorizer(stop_words=stop_words)),\n",
    "    ('model', RandomForestClassifier(random_state=RANDOM_STATE, n_jobs=-1))\n",
    "])"
   ]
  },
  {
   "cell_type": "code",
   "execution_count": null,
   "metadata": {},
   "outputs": [],
   "source": [
    "param_space = {\n",
    "    'tfidf__max_features':       hp.choice('tfidf__max_features', [None, 1000, 5000, 10000]),       # Максимальное число признаков\n",
    "    'tfidf__ngram_range':        hp.choice('tfidf__ngram_range', [(1, 1), (1, 2), (1, 3)]),         # Диапазон n-грамм для извлечения\n",
    "    'tfidf__min_df':             hp.choice('tfidf__min_df', [1, 2, 5, 10]),                         # Минимальная частота слов в документах\n",
    "    'tfidf__max_df':             hp.uniform('tfidf__max_df', 0.7, 1.0),                             # Максимальная частота слов в документах\n",
    "    'tfidf__use_idf':            hp.choice('tfidf__use_idf', [True, False]),                        # Использовать обратную частоту документа\n",
    "    'tfidf__smooth_idf':         hp.choice('tfidf__smooth_idf', [True, False]),                     # Сглаживать IDF веса\n",
    "    'tfidf__sublinear_tf':       hp.choice('tfidf__sublinear_tf', [True, False]),                   # Применять сублинейное масштабирование TF\n",
    "\n",
    "    'model__n_estimators':       hp.choice('model__n_estimators', [50, 100, 200, 500]),             # Количество деревьев в лесу\n",
    "    'model__criterion':          hp.choice('model__criterion', ['gini', 'entropy']),                # Критерий качества разбиения\n",
    "    'model__max_depth':          hp.choice('model__max_depth', [None, 10, 20, 30, 50]),             # Максимальная глубина дерева\n",
    "    'model__min_samples_split':  hp.choice('model__min_samples_split', [2, 5, 10]),                 # Минимальное число объектов для разбиения\n",
    "    'model__min_samples_leaf':   hp.choice('model__min_samples_leaf', [1, 2, 4]),                   # Минимальное число объектов в листе\n",
    "    'model__bootstrap':          hp.choice('model__bootstrap', [True, False]),                      # Использовать бутстрэп выборки\n",
    "    'model__class_weight':       hp.choice('model__class_weight', [None, 'balanced']),              # Веса классов для несбалансированных данных\n",
    "}"
   ]
  },
  {
   "cell_type": "code",
   "execution_count": null,
   "metadata": {},
   "outputs": [],
   "source": [
    "# best_params_rfc, best_score_rfc = get_model_results(rfc_pipeline, param_space, X_train, y_train, 100)"
   ]
  },
  {
   "cell_type": "code",
   "execution_count": null,
   "metadata": {},
   "outputs": [],
   "source": [
    "best_params_rfc = {\n",
    "    'model__bootstrap': False,\n",
    "    'model__class_weight': None,\n",
    "    'model__criterion': 'gini',\n",
    "    'model__max_depth': None,\n",
    "    'model__min_samples_leaf': 1,\n",
    "    'model__min_samples_split': 10,\n",
    "    'model__n_estimators': 500,\n",
    "    'tfidf__max_df': 0.8416531114093017,\n",
    "    'tfidf__max_features': 10000,\n",
    "    'tfidf__min_df': 10,\n",
    "    'tfidf__ngram_range': (1, 1),\n",
    "    'tfidf__smooth_idf': True,\n",
    "    'tfidf__sublinear_tf': False,\n",
    "    'tfidf__use_idf': True\n",
    "}"
   ]
  },
  {
   "cell_type": "code",
   "execution_count": null,
   "metadata": {},
   "outputs": [],
   "source": [
    "best_score_rfc = 0.7556111272907714"
   ]
  },
  {
   "cell_type": "markdown",
   "metadata": {},
   "source": [
    "### 4.5. <a id='toc4_5_'></a>Модель `LGBMClassifier`  [&#8593;](#toc0_)"
   ]
  },
  {
   "cell_type": "code",
   "execution_count": null,
   "metadata": {},
   "outputs": [],
   "source": [
    "lgbmc_pipeline = Pipeline([\n",
    "    ('tfidf', TfidfVectorizer(stop_words=stop_words)),\n",
    "    ('model', LGBMClassifier(random_state=RANDOM_STATE, n_jobs=-1, verbose=-1))\n",
    "])"
   ]
  },
  {
   "cell_type": "code",
   "execution_count": null,
   "metadata": {},
   "outputs": [],
   "source": [
    "param_space = {\n",
    "    'tfidf__max_features':       hp.choice('tfidf__max_features', [None, 1000, 5000, 10000]),    # Максимальное количество слов в словаре\n",
    "    'tfidf__ngram_range':        hp.choice('tfidf__ngram_range', [(1, 1), (1, 2), (1, 3)]),      # Диапазон n-грамм для анализа\n",
    "    'tfidf__min_df':             hp.choice('tfidf__min_df', [1, 2, 5]),                          # Минимальная частота слова в документах\n",
    "    'tfidf__max_df':             hp.uniform('tfidf__max_df', 0.7, 1.0),                          # Максимальная доля документов, содержащих слово\n",
    "    'tfidf__use_idf':            hp.choice('tfidf__use_idf', [True, False]),                     # Использовать ли IDF\n",
    "    'tfidf__smooth_idf':         hp.choice('tfidf__smooth_idf', [True, False]),                  # Сглаживать ли IDF\n",
    "    'tfidf__sublinear_tf':       hp.choice('tfidf__sublinear_tf', [True, False]),                # Применять ли логарифмическое преобразование TF\n",
    "\n",
    "    'model__boosting_type':      hp.choice('model__boosting_type', ['gbdt', 'dart', 'goss']),    # Тип бустинга\n",
    "    'model__num_leaves':         hp.quniform('model__num_leaves', 10, 200, 1),                   # Количество листьев в дереве\n",
    "    'model__learning_rate':      hp.loguniform('model__learning_rate', -5, 0),                   # Скорость обучения\n",
    "    'model__n_estimators':       hp.quniform('model__n_estimators', 50, 500, 1),                 # Количество деревьев\n",
    "    'model__subsample':          hp.uniform('model__subsample', 0.5, 1.0),                       # Доля выборки для обучения каждого дерева\n",
    "    'model__colsample_bytree':   hp.uniform('model__colsample_bytree', 0.5, 1.0),                # Доля признаков для каждого дерева\n",
    "    'model__reg_alpha':          hp.loguniform('model__reg_alpha', -5, 2),                       # L1-регуляризация\n",
    "    'model__reg_lambda':         hp.loguniform('model__reg_lambda', -5, 2),                      # L2-регуляризация\n",
    "    'model__min_child_samples':  hp.quniform('model__min_child_samples', 5, 100, 1),             # Минимальное количество объектов в листе\n",
    "    'model__max_depth':          hp.choice('model__max_depth', [-1, 3, 5, 7, 10]),               # Максимальная глубина дерева (-1 = без ограничений)\n",
    "}"
   ]
  },
  {
   "cell_type": "code",
   "execution_count": null,
   "metadata": {},
   "outputs": [],
   "source": [
    "# best_params_lgbmc, best_score_lgbmc = get_model_results(lgbmc_pipeline, param_space, X_train, y_train, 100)"
   ]
  },
  {
   "cell_type": "code",
   "execution_count": null,
   "metadata": {},
   "outputs": [],
   "source": [
    "best_params_lgbmc = {\n",
    "    'model__boosting_type': 'gbdt',\n",
    "    'model__colsample_bytree': 0.9998180861055651,\n",
    "    'model__learning_rate': 0.04363398114359794,\n",
    "    'model__max_depth': -1,\n",
    "    'model__min_child_samples': 9,\n",
    "    'model__n_estimators': 408,\n",
    "    'model__num_leaves': 107,\n",
    "    'model__reg_alpha': 0.0369531519316931,\n",
    "    'model__reg_lambda': 0.19369702791386537,\n",
    "    'model__subsample': 0.5376722197432499,\n",
    "    'tfidf__max_df': 0.9488532999515908,\n",
    "    'tfidf__max_features': None,\n",
    "    'tfidf__min_df': 2,\n",
    "    'tfidf__ngram_range': (1, 2),\n",
    "    'tfidf__smooth_idf': True,\n",
    "    'tfidf__sublinear_tf': False,\n",
    "    'tfidf__use_idf': False\n",
    "}"
   ]
  },
  {
   "cell_type": "code",
   "execution_count": null,
   "metadata": {},
   "outputs": [],
   "source": [
    "best_score_lgbmc = 0.773983000615775"
   ]
  },
  {
   "cell_type": "markdown",
   "metadata": {},
   "source": [
    "### 4.6. <a id='toc4_6_'></a>Модель `CatBoostClassifier`  [&#8593;](#toc0_)"
   ]
  },
  {
   "cell_type": "code",
   "execution_count": null,
   "metadata": {},
   "outputs": [],
   "source": [
    "gpu_count = get_gpu_device_count()\n",
    "\n",
    "if gpu_count > 0:\n",
    "    task_type = 'GPU'\n",
    "    devices = '0'\n",
    "    print(colored('GPU найден. Будет использован GPU.', 'green'))\n",
    "else:\n",
    "    task_type = 'CPU'\n",
    "    devices = None\n",
    "    print(colored('GPU не найден. Будет использован CPU.', 'red'))"
   ]
  },
  {
   "cell_type": "code",
   "execution_count": null,
   "metadata": {},
   "outputs": [],
   "source": [
    "cbc = CatBoostClassifier(task_type=task_type,\n",
    "                         devices=devices,\n",
    "                         random_state=RANDOM_STATE,\n",
    "                         thread_count=-1,\n",
    "                         silent=True,\n",
    "                         text_features=[0])"
   ]
  },
  {
   "cell_type": "code",
   "execution_count": null,
   "metadata": {},
   "outputs": [],
   "source": [
    "X_train_df = X_train.to_frame()\n",
    "X_test_df = X_test.to_frame()"
   ]
  },
  {
   "cell_type": "code",
   "execution_count": null,
   "metadata": {},
   "outputs": [],
   "source": [
    "param_space = {\n",
    "    'learning_rate':       hp.uniform('learning_rate', 0.01, 0.3),    # Скорость обучения модели.\n",
    "    'depth':               hp.randint('depth', 6, 12),                # Глубина деревьев в ансамбле.\n",
    "    'l2_leaf_reg':         hp.uniform('l2_leaf_reg', 1, 10),          # Регуляризация L2 для предотвращения переобучения.\n",
    "    'bagging_temperature': hp.uniform('bagging_temperature', 0, 2),   # Температура баггинга для случайности выборки.\n",
    "    'random_strength':     hp.uniform('random_strength', 0, 2),       # Сила случайности при выборе разбиений.\n",
    "    'subsample':           hp.uniform('subsample', 0.5, 1.0),         # Доля данных для бутстрэпа.\n",
    "    'colsample_bylevel':   hp.uniform('colsample_bylevel', 0.5, 1.0)  # Доля признаков для каждого уровня дерева.\n",
    "}"
   ]
  },
  {
   "cell_type": "code",
   "execution_count": null,
   "metadata": {},
   "outputs": [],
   "source": [
    "class DillTrials(Trials):\n",
    "    def __init__(self, *args, **kwargs):\n",
    "        super(DillTrials, self).__init__(*args, **kwargs)\n",
    "\n",
    "    def _dump(self, trials_data):\n",
    "        return dill.dumps(trials_data)\n",
    "\n",
    "    def _load(self, dumped_trials_data):\n",
    "        return dill.loads(dumped_trials_data)"
   ]
  },
  {
   "cell_type": "code",
   "execution_count": null,
   "metadata": {},
   "outputs": [],
   "source": [
    "def get_catboost_results(estimator,\n",
    "                         param_space: dict,\n",
    "                         X_train: pd.DataFrame,\n",
    "                         y_train: pd.Series,\n",
    "                         max_evals: int = 1000\n",
    "                         ) -> tuple[dict, float]:\n",
    "    objective = get_objective(estimator, X_train, y_train)\n",
    "    trials = DillTrials()\n",
    "\n",
    "    fmin(\n",
    "        fn=objective,\n",
    "        space=param_space,\n",
    "        algo=tpe.suggest,\n",
    "        max_evals=max_evals,\n",
    "        trials=trials,\n",
    "        rstate=np.random.default_rng(RANDOM_STATE),\n",
    "        show_progressbar=True\n",
    "    )\n",
    "\n",
    "    clear_output()\n",
    "\n",
    "    best_params = trials.best_trial['result']['params']\n",
    "    best_score = abs(trials.best_trial['result']['loss'])\n",
    "    print(f'Finish with best F1 = {best_score:.4f}')\n",
    "\n",
    "    return best_params, best_score"
   ]
  },
  {
   "cell_type": "code",
   "execution_count": null,
   "metadata": {},
   "outputs": [],
   "source": [
    "best_params_cbc, best_score_cbc = get_catboost_results(cbc, param_space, X_train_df, y_train, 100)"
   ]
  },
  {
   "cell_type": "code",
   "execution_count": null,
   "metadata": {},
   "outputs": [],
   "source": [
    "best_params_cbc"
   ]
  },
  {
   "cell_type": "code",
   "execution_count": null,
   "metadata": {},
   "outputs": [],
   "source": [
    "best_score_cbc"
   ]
  },
  {
   "cell_type": "markdown",
   "metadata": {},
   "source": [
    "## 5. <a id='toc5_'></a>Результаты  [&#8593;](#toc0_)"
   ]
  },
  {
   "cell_type": "markdown",
   "metadata": {},
   "source": [
    "### 5.1. <a id='toc5_1_'></a>Результаты на тренировочной выборке  [&#8593;](#toc0_)"
   ]
  },
  {
   "cell_type": "code",
   "execution_count": null,
   "metadata": {},
   "outputs": [],
   "source": [
    "pd.options.display.float_format = '{:.4f}'.format\n",
    "\n",
    "pd.DataFrame(\n",
    "    data=[best_score_rfc, best_score_cbc, best_score_lgbmc, best_score_lr],\n",
    "    index=['RandomForestClassifier', 'CatBoostClassifier', 'LGBMClassifier', 'LogisticRegression'],\n",
    "    columns=['f1']\n",
    ").sort_values('f1', ascending=True)"
   ]
  },
  {
   "cell_type": "markdown",
   "metadata": {},
   "source": [
    "### 5.2. <a id='toc5_2_'></a>Результаты на тестовой выборке  [&#8593;](#toc0_)"
   ]
  },
  {
   "cell_type": "markdown",
   "metadata": {},
   "source": [
    "## 6. <a id='toc6_'></a>Общий вывод  [&#8593;](#toc0_)"
   ]
  },
  {
   "cell_type": "markdown",
   "metadata": {},
   "source": [
    "В рамках данного проекта мы работали с задачей обработки естественного языка (NLP), а именно определение токсичности комментариев (бинарная классификация).\n",
    "\n",
    "Перед нами датасет, состоящий практически практически из `160 000` записей. Он [датасет] не содержит пропусков и полных дубликатов. Также отметим дизбаланс примерно `9:1` в сторону не токсичных комментариев (класс `0`).\n",
    "\n",
    "Сначала текст был очищен с помощью регулярных выражений, а также лемматизирован.\n",
    "\n",
    "Были протестированы 4 различные модели с подбором гиперпараметров через *hyperopt*, а именно: *LogisticRegression*, *RandomForestClassifier*, *LGBMClassifier* и *CatBoostClassifier*. Результаты представлены в таблице ниже:\n",
    "\n",
    "|          Model         |   F1   |\n",
    "|:----------------------:|:------:|\n",
    "| LogisticRegression     | 0.6813 |\n",
    "| RandomForestClassifier | 0.7556 |\n",
    "| LGBMClassifier         | 0.7740 |\n",
    "| CatBoostClassifier     | 0.xxxx |\n",
    "\n",
    "Из этих 4 моделей лучше всего себя показал *CatBoostClassifier* с результатом `F1 = 0.0000`."
   ]
  }
 ],
 "metadata": {
  "kernelspec": {
   "display_name": "ml12",
   "language": "python",
   "name": "python3"
  },
  "language_info": {
   "codemirror_mode": {
    "name": "ipython",
    "version": 3
   },
   "file_extension": ".py",
   "mimetype": "text/x-python",
   "name": "python",
   "nbconvert_exporter": "python",
   "pygments_lexer": "ipython3",
   "version": "3.12.8"
  }
 },
 "nbformat": 4,
 "nbformat_minor": 2
}
