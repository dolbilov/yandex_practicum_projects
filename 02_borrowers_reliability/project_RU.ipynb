{
 "cells": [
  {
   "cell_type": "markdown",
   "id": "600e0db6",
   "metadata": {},
   "source": [
    "# Исследование надежности заемщиков"
   ]
  },
  {
   "cell_type": "markdown",
   "id": "af2ded01",
   "metadata": {},
   "source": [
    "Заказчик — кредитный отдел банка. Нужно разобраться, влияет ли семейное положение и количество детей клиента на факт погашения кредита в срок. Входные данные от банка — статистика о платёжеспособности клиентов.\n",
    "\n",
    "Результаты исследования будут учтены при построении модели кредитного скоринга — специальной системы, которая оценивает способность потенциального заёмщика вернуть кредит банку."
   ]
  },
  {
   "cell_type": "markdown",
   "id": "3412cc23",
   "metadata": {},
   "source": [
    "**Содержание**<a id='toc0_'></a>    \n",
    "1. [Загрузка данных](#toc1_)    \n",
    "2. [Предобработка данных](#toc2_)    \n",
    "2.1. [Обработка пропусков](#toc2_1_)    \n",
    "2.2. [Обработка аномальных значений](#toc2_2_)    \n",
    "2.3. [Удаление пропусков (продолжение)](#toc2_3_)    \n",
    "2.4. [Изменение типов данных](#toc2_4_)    \n",
    "2.5. [Обработка дубликатов](#toc2_5_)    \n",
    "2.6. [Категоризация данных](#toc2_6_)    \n",
    "3. [Исследование](#toc3_)    \n",
    "3.1. [Есть ли зависимость между количеством детей и возвратом кредита в срок?](#toc3_1_)    \n",
    "3.2. [Есть ли зависимость между семейным положением и возвратом кредита в срок?](#toc3_2_)    \n",
    "3.3. [Есть ли зависимость между уровнем дохода и возвратом кредита в срок?](#toc3_3_)    \n",
    "3.4. [Как разные цели кредита влияют на его возврат в срок?](#toc3_4_)    \n",
    "4. [Результаты исследования](#toc4_)    \n",
    "\n",
    "<!-- vscode-jupyter-toc-config\n",
    "\tnumbering=true\n",
    "\tanchor=true\n",
    "\tflat=true\n",
    "\tminLevel=2\n",
    "\tmaxLevel=6\n",
    "\t/vscode-jupyter-toc-config -->\n",
    "<!-- THIS CELL WILL BE REPLACED ON TOC UPDATE. DO NOT WRITE YOUR TEXT IN THIS CELL -->"
   ]
  },
  {
   "cell_type": "markdown",
   "metadata": {},
   "source": [
    "## 1. <a id='toc1_'></a>Загрузка данных [&#8593;](#toc0_)"
   ]
  },
  {
   "cell_type": "code",
   "execution_count": 1,
   "id": "ffe186f0",
   "metadata": {},
   "outputs": [
    {
     "name": "stdout",
     "output_type": "stream",
     "text": [
      "Note: you may need to restart the kernel to use updated packages.\n"
     ]
    }
   ],
   "source": [
    "%pip install numpy pandas matplotlib seaborn prettytable -q"
   ]
  },
  {
   "cell_type": "code",
   "execution_count": 2,
   "id": "fab207d0",
   "metadata": {
    "id": "fab207d0"
   },
   "outputs": [],
   "source": [
    "import numpy as np\n",
    "import pandas as pd\n",
    "import matplotlib.pyplot as plt\n",
    "import seaborn as sns\n",
    "\n",
    "from prettytable import PrettyTable"
   ]
  },
  {
   "cell_type": "code",
   "execution_count": 3,
   "id": "6c82b607",
   "metadata": {
    "id": "6c82b607"
   },
   "outputs": [],
   "source": [
    "# dataset is not presented in the repository due to copyright\n",
    "data = pd.read_csv('./data/data.csv')"
   ]
  },
  {
   "cell_type": "code",
   "execution_count": 4,
   "id": "4ff33b36",
   "metadata": {
    "id": "4ff33b36"
   },
   "outputs": [
    {
     "data": {
      "text/html": [
       "<div>\n",
       "<style scoped>\n",
       "    .dataframe tbody tr th:only-of-type {\n",
       "        vertical-align: middle;\n",
       "    }\n",
       "\n",
       "    .dataframe tbody tr th {\n",
       "        vertical-align: top;\n",
       "    }\n",
       "\n",
       "    .dataframe thead th {\n",
       "        text-align: right;\n",
       "    }\n",
       "</style>\n",
       "<table border=\"1\" class=\"dataframe\">\n",
       "  <thead>\n",
       "    <tr style=\"text-align: right;\">\n",
       "      <th></th>\n",
       "      <th>children</th>\n",
       "      <th>days_employed</th>\n",
       "      <th>dob_years</th>\n",
       "      <th>education</th>\n",
       "      <th>education_id</th>\n",
       "      <th>family_status</th>\n",
       "      <th>family_status_id</th>\n",
       "      <th>gender</th>\n",
       "      <th>income_type</th>\n",
       "      <th>debt</th>\n",
       "      <th>total_income</th>\n",
       "      <th>purpose</th>\n",
       "    </tr>\n",
       "  </thead>\n",
       "  <tbody>\n",
       "    <tr>\n",
       "      <th>0</th>\n",
       "      <td>1</td>\n",
       "      <td>-8437.673028</td>\n",
       "      <td>42</td>\n",
       "      <td>высшее</td>\n",
       "      <td>0</td>\n",
       "      <td>женат / замужем</td>\n",
       "      <td>0</td>\n",
       "      <td>F</td>\n",
       "      <td>сотрудник</td>\n",
       "      <td>0</td>\n",
       "      <td>253875.639453</td>\n",
       "      <td>покупка жилья</td>\n",
       "    </tr>\n",
       "    <tr>\n",
       "      <th>1</th>\n",
       "      <td>1</td>\n",
       "      <td>-4024.803754</td>\n",
       "      <td>36</td>\n",
       "      <td>среднее</td>\n",
       "      <td>1</td>\n",
       "      <td>женат / замужем</td>\n",
       "      <td>0</td>\n",
       "      <td>F</td>\n",
       "      <td>сотрудник</td>\n",
       "      <td>0</td>\n",
       "      <td>112080.014102</td>\n",
       "      <td>приобретение автомобиля</td>\n",
       "    </tr>\n",
       "    <tr>\n",
       "      <th>2</th>\n",
       "      <td>0</td>\n",
       "      <td>-5623.422610</td>\n",
       "      <td>33</td>\n",
       "      <td>Среднее</td>\n",
       "      <td>1</td>\n",
       "      <td>женат / замужем</td>\n",
       "      <td>0</td>\n",
       "      <td>M</td>\n",
       "      <td>сотрудник</td>\n",
       "      <td>0</td>\n",
       "      <td>145885.952297</td>\n",
       "      <td>покупка жилья</td>\n",
       "    </tr>\n",
       "    <tr>\n",
       "      <th>3</th>\n",
       "      <td>3</td>\n",
       "      <td>-4124.747207</td>\n",
       "      <td>32</td>\n",
       "      <td>среднее</td>\n",
       "      <td>1</td>\n",
       "      <td>женат / замужем</td>\n",
       "      <td>0</td>\n",
       "      <td>M</td>\n",
       "      <td>сотрудник</td>\n",
       "      <td>0</td>\n",
       "      <td>267628.550329</td>\n",
       "      <td>дополнительное образование</td>\n",
       "    </tr>\n",
       "    <tr>\n",
       "      <th>4</th>\n",
       "      <td>0</td>\n",
       "      <td>340266.072047</td>\n",
       "      <td>53</td>\n",
       "      <td>среднее</td>\n",
       "      <td>1</td>\n",
       "      <td>гражданский брак</td>\n",
       "      <td>1</td>\n",
       "      <td>F</td>\n",
       "      <td>пенсионер</td>\n",
       "      <td>0</td>\n",
       "      <td>158616.077870</td>\n",
       "      <td>сыграть свадьбу</td>\n",
       "    </tr>\n",
       "  </tbody>\n",
       "</table>\n",
       "</div>"
      ],
      "text/plain": [
       "   children  days_employed  dob_years education  education_id  \\\n",
       "0         1   -8437.673028         42    высшее             0   \n",
       "1         1   -4024.803754         36   среднее             1   \n",
       "2         0   -5623.422610         33   Среднее             1   \n",
       "3         3   -4124.747207         32   среднее             1   \n",
       "4         0  340266.072047         53   среднее             1   \n",
       "\n",
       "      family_status  family_status_id gender income_type  debt   total_income  \\\n",
       "0   женат / замужем                 0      F   сотрудник     0  253875.639453   \n",
       "1   женат / замужем                 0      F   сотрудник     0  112080.014102   \n",
       "2   женат / замужем                 0      M   сотрудник     0  145885.952297   \n",
       "3   женат / замужем                 0      M   сотрудник     0  267628.550329   \n",
       "4  гражданский брак                 1      F   пенсионер     0  158616.077870   \n",
       "\n",
       "                      purpose  \n",
       "0               покупка жилья  \n",
       "1     приобретение автомобиля  \n",
       "2               покупка жилья  \n",
       "3  дополнительное образование  \n",
       "4             сыграть свадьбу  "
      ]
     },
     "execution_count": 4,
     "metadata": {},
     "output_type": "execute_result"
    }
   ],
   "source": [
    "data.head(5)"
   ]
  },
  {
   "cell_type": "code",
   "execution_count": 5,
   "id": "5e795862",
   "metadata": {},
   "outputs": [
    {
     "name": "stdout",
     "output_type": "stream",
     "text": [
      "<class 'pandas.core.frame.DataFrame'>\n",
      "RangeIndex: 21525 entries, 0 to 21524\n",
      "Data columns (total 12 columns):\n",
      " #   Column            Non-Null Count  Dtype  \n",
      "---  ------            --------------  -----  \n",
      " 0   children          21525 non-null  int64  \n",
      " 1   days_employed     19351 non-null  float64\n",
      " 2   dob_years         21525 non-null  int64  \n",
      " 3   education         21525 non-null  object \n",
      " 4   education_id      21525 non-null  int64  \n",
      " 5   family_status     21525 non-null  object \n",
      " 6   family_status_id  21525 non-null  int64  \n",
      " 7   gender            21525 non-null  object \n",
      " 8   income_type       21525 non-null  object \n",
      " 9   debt              21525 non-null  int64  \n",
      " 10  total_income      19351 non-null  float64\n",
      " 11  purpose           21525 non-null  object \n",
      "dtypes: float64(2), int64(5), object(5)\n",
      "memory usage: 2.0+ MB\n"
     ]
    }
   ],
   "source": [
    "data.info()"
   ]
  },
  {
   "cell_type": "markdown",
   "id": "5636a671",
   "metadata": {},
   "source": [
    "**Описание данных:**\n",
    "\n",
    "`children` — количество детей в семье  \n",
    "`days_employed` — общий трудовой стаж в днях  \n",
    "`dob_years` — возраст клиента в годах  \n",
    "`education` — уровень образования клиента  \n",
    "`education_id` — идентификатор уровня образования  \n",
    "`family_status` — семейное положение  \n",
    "`family_status_id` — идентификатор семейного положения  \n",
    "`gender` — пол клиента  \n",
    "`income_type` — тип занятости  \n",
    "`debt` — имел ли задолженность по возврату кредитов  \n",
    "`total_income` — ежемесячный доход  \n",
    "`purpose` — цель получения кредита  "
   ]
  },
  {
   "cell_type": "markdown",
   "id": "befd0c1d",
   "metadata": {},
   "source": [
    "## 2. <a id='toc2_'></a>Предобработка данных [&#8593;](#toc0_)"
   ]
  },
  {
   "cell_type": "markdown",
   "metadata": {},
   "source": [
    "### 2.1. <a id='toc2_1_'></a>Обработка пропусков [&#8593;](#toc0_)"
   ]
  },
  {
   "cell_type": "code",
   "execution_count": 6,
   "id": "3e1470b8",
   "metadata": {},
   "outputs": [
    {
     "data": {
      "text/plain": [
       "children               0\n",
       "days_employed       2174\n",
       "dob_years              0\n",
       "education              0\n",
       "education_id           0\n",
       "family_status          0\n",
       "family_status_id       0\n",
       "gender                 0\n",
       "income_type            0\n",
       "debt                   0\n",
       "total_income        2174\n",
       "purpose                0\n",
       "dtype: int64"
      ]
     },
     "execution_count": 6,
     "metadata": {},
     "output_type": "execute_result"
    }
   ],
   "source": [
    "data.isna().sum()"
   ]
  },
  {
   "cell_type": "markdown",
   "id": "c2578616",
   "metadata": {
    "deletable": false,
    "editable": false,
    "id": "c2578616",
    "tags": []
   },
   "source": [
    "В двух столбцах есть пропущенные значения: `days_employed` и `total_income`.\n",
    "\n",
    "Начнем с  `total_income`.  \n",
    "На сумму дохода сильнее всего влияет тип занятости, поэтому заполним пропуски в этом столбце медианным значением по каждому типу из столбца `income_type`. Например, у человека с типом занятости `сотрудник` пропуск в столбце `total_income` будет заполнен медианным доходом среди всех записей с тем же типом."
   ]
  },
  {
   "cell_type": "code",
   "execution_count": 7,
   "id": "10e81386",
   "metadata": {},
   "outputs": [],
   "source": [
    "for t in data['income_type'].unique():\n",
    "    mask = data['income_type'] == t\n",
    "    median = data.loc[mask, 'total_income'].median()\n",
    "    \n",
    "    data.loc[mask, 'total_income'] = data.loc[mask, 'total_income'].fillna(median)"
   ]
  },
  {
   "cell_type": "markdown",
   "metadata": {},
   "source": [
    "### 2.2. <a id='toc2_2_'></a>Обработка аномальных значений [&#8593;](#toc0_)"
   ]
  },
  {
   "cell_type": "markdown",
   "id": "f27d4a59",
   "metadata": {},
   "source": [
    "В данных обнаружены артефакты (аномалии) — значения, которые не отражают действительность и появились по какой-то ошибке. Например, отрицательное количество дней трудового стажа в столбце `days_employed`. Заменим все отрицательные значения положительными с помощью метода `abs()`."
   ]
  },
  {
   "cell_type": "code",
   "execution_count": 8,
   "id": "187779b0",
   "metadata": {
    "id": "187779b0"
   },
   "outputs": [],
   "source": [
    "data['days_employed'] = data['days_employed'].abs()"
   ]
  },
  {
   "cell_type": "markdown",
   "id": "a13054c2",
   "metadata": {
    "deletable": false,
    "editable": false,
    "id": "a13054c2",
    "tags": []
   },
   "source": [
    "Для каждого типа занятости выведем медианное значение трудового стажа `days_employed` в днях."
   ]
  },
  {
   "cell_type": "code",
   "execution_count": 9,
   "id": "f3f5810c",
   "metadata": {
    "id": "f3f5810c"
   },
   "outputs": [
    {
     "data": {
      "text/plain": [
       "income_type\n",
       "безработный        366413.652744\n",
       "в декрете            3296.759962\n",
       "госслужащий          2689.368353\n",
       "компаньон            1547.382223\n",
       "пенсионер          365213.306266\n",
       "предприниматель       520.848083\n",
       "сотрудник            1574.202821\n",
       "студент               578.751554\n",
       "Name: days_employed, dtype: float64"
      ]
     },
     "execution_count": 9,
     "metadata": {},
     "output_type": "execute_result"
    }
   ],
   "source": [
    "data.groupby('income_type')['days_employed'].median()"
   ]
  },
  {
   "cell_type": "markdown",
   "id": "dbc3168c",
   "metadata": {
    "deletable": false,
    "editable": false,
    "id": "dbc3168c"
   },
   "source": [
    "У двух типов (безработные и пенсионеры) получатся аномально большие значения. Исправить такие значения сложно, поэтому оставим их как есть."
   ]
  },
  {
   "cell_type": "markdown",
   "id": "040c3334",
   "metadata": {},
   "source": [
    "---"
   ]
  },
  {
   "cell_type": "code",
   "execution_count": 10,
   "id": "9bd0c232",
   "metadata": {
    "id": "9bd0c232"
   },
   "outputs": [
    {
     "data": {
      "text/plain": [
       "array([ 1,  0,  3,  2, -1,  4, 20,  5])"
      ]
     },
     "execution_count": 10,
     "metadata": {},
     "output_type": "execute_result"
    }
   ],
   "source": [
    "data['children'].unique()"
   ]
  },
  {
   "cell_type": "markdown",
   "id": "8e911990",
   "metadata": {
    "deletable": false,
    "editable": false,
    "id": "8e911990",
    "tags": []
   },
   "source": [
    "В столбце `children` есть два аномальных значения. Удалим строки, в которых встречаются такие аномальные значения."
   ]
  },
  {
   "cell_type": "code",
   "execution_count": 11,
   "id": "6d5ba289",
   "metadata": {
    "id": "6d5ba289"
   },
   "outputs": [],
   "source": [
    "mask = data['children'].isin([-1, 20])\n",
    "data = data[~mask]"
   ]
  },
  {
   "cell_type": "code",
   "execution_count": 12,
   "id": "9e30ff7a",
   "metadata": {},
   "outputs": [
    {
     "data": {
      "text/plain": [
       "array([1, 0, 3, 2, 4, 5])"
      ]
     },
     "execution_count": 12,
     "metadata": {},
     "output_type": "execute_result"
    }
   ],
   "source": [
    "data['children'].unique()"
   ]
  },
  {
   "cell_type": "markdown",
   "metadata": {},
   "source": [
    "### 2.3. <a id='toc2_3_'></a>Удаление пропусков (продолжение) [&#8593;](#toc0_)"
   ]
  },
  {
   "cell_type": "markdown",
   "id": "b753f772",
   "metadata": {},
   "source": [
    "Заполним пропуски в столбце `days_employed` медианными значениями по каждому типу занятости `income_type`."
   ]
  },
  {
   "cell_type": "code",
   "execution_count": 13,
   "id": "e2aea7ac",
   "metadata": {
    "id": "e2aea7ac"
   },
   "outputs": [],
   "source": [
    "for t in data['income_type'].unique():\n",
    "    mask = data['income_type'] == t\n",
    "    median = data.loc[mask, 'days_employed'].median()\n",
    "    \n",
    "    data.loc[mask, 'days_employed'] = data.loc[mask, 'days_employed'].fillna(median)"
   ]
  },
  {
   "cell_type": "code",
   "execution_count": 14,
   "id": "20aa2e30",
   "metadata": {},
   "outputs": [
    {
     "data": {
      "text/plain": [
       "children            0\n",
       "days_employed       0\n",
       "dob_years           0\n",
       "education           0\n",
       "education_id        0\n",
       "family_status       0\n",
       "family_status_id    0\n",
       "gender              0\n",
       "income_type         0\n",
       "debt                0\n",
       "total_income        0\n",
       "purpose             0\n",
       "dtype: int64"
      ]
     },
     "execution_count": 14,
     "metadata": {},
     "output_type": "execute_result"
    }
   ],
   "source": [
    "data.isna().sum()"
   ]
  },
  {
   "cell_type": "markdown",
   "metadata": {},
   "source": [
    "### 2.4. <a id='toc2_4_'></a>Изменение типов данных [&#8593;](#toc0_)"
   ]
  },
  {
   "cell_type": "code",
   "execution_count": 15,
   "id": "37cbb501",
   "metadata": {},
   "outputs": [],
   "source": [
    "data['total_income'] = data['total_income'].astype('int')"
   ]
  },
  {
   "cell_type": "markdown",
   "metadata": {},
   "source": [
    "### 2.5. <a id='toc2_5_'></a>Обработка дубликатов [&#8593;](#toc0_)"
   ]
  },
  {
   "cell_type": "markdown",
   "id": "1fc80484",
   "metadata": {},
   "source": [
    "Обработаем неявные дубликаты в столбце `education`. В этом столбце есть одни и те же значения, но записанные по-разному: с использованием заглавных и строчных букв. Приведем их к нижнему регистру."
   ]
  },
  {
   "cell_type": "code",
   "execution_count": 16,
   "id": "3f2504b3",
   "metadata": {
    "id": "3f2504b3"
   },
   "outputs": [],
   "source": [
    "data['education'] = data['education'].str.lower()"
   ]
  },
  {
   "cell_type": "code",
   "execution_count": 17,
   "id": "d34a4325",
   "metadata": {
    "id": "d34a4325"
   },
   "outputs": [
    {
     "data": {
      "text/plain": [
       "71"
      ]
     },
     "execution_count": 17,
     "metadata": {},
     "output_type": "execute_result"
    }
   ],
   "source": [
    "data.duplicated().sum()"
   ]
  },
  {
   "cell_type": "code",
   "execution_count": 18,
   "id": "3207c429",
   "metadata": {},
   "outputs": [],
   "source": [
    "data = data.drop_duplicates()"
   ]
  },
  {
   "cell_type": "code",
   "execution_count": 19,
   "id": "58e717d7",
   "metadata": {},
   "outputs": [
    {
     "data": {
      "text/plain": [
       "0"
      ]
     },
     "execution_count": 19,
     "metadata": {},
     "output_type": "execute_result"
    }
   ],
   "source": [
    "data.duplicated().sum()"
   ]
  },
  {
   "cell_type": "markdown",
   "metadata": {},
   "source": [
    "### 2.6. <a id='toc2_6_'></a>Категоризация данных [&#8593;](#toc0_)"
   ]
  },
  {
   "cell_type": "markdown",
   "id": "49c7c449",
   "metadata": {},
   "source": [
    "Доходы распределены неравномерно, поэтому вводить категоризацию просто по уровню доходу мы не будем. Применим методы `np.percentile()` и `pd.cut()` для создания равномерных интервалов."
   ]
  },
  {
   "cell_type": "code",
   "execution_count": 20,
   "id": "880a77e5",
   "metadata": {
    "id": "880a77e5"
   },
   "outputs": [],
   "source": [
    "edges = np.percentile(data['total_income'], [0, 20, 40, 60, 80, 100])\n",
    "data['total_income_category'] = pd.cut(data['total_income'], bins=edges, labels=['E', 'D', 'C', 'B', 'A'], include_lowest=True)"
   ]
  },
  {
   "cell_type": "markdown",
   "id": "6b271523",
   "metadata": {},
   "source": [
    "---"
   ]
  },
  {
   "cell_type": "code",
   "execution_count": 21,
   "id": "e59f2c15",
   "metadata": {
    "id": "e59f2c15"
   },
   "outputs": [
    {
     "data": {
      "text/plain": [
       "array(['покупка жилья', 'приобретение автомобиля',\n",
       "       'дополнительное образование', 'сыграть свадьбу',\n",
       "       'операции с жильем', 'образование', 'на проведение свадьбы',\n",
       "       'покупка жилья для семьи', 'покупка недвижимости',\n",
       "       'покупка коммерческой недвижимости', 'покупка жилой недвижимости',\n",
       "       'строительство собственной недвижимости', 'недвижимость',\n",
       "       'строительство недвижимости', 'на покупку подержанного автомобиля',\n",
       "       'на покупку своего автомобиля',\n",
       "       'операции с коммерческой недвижимостью',\n",
       "       'строительство жилой недвижимости', 'жилье',\n",
       "       'операции со своей недвижимостью', 'автомобили',\n",
       "       'заняться образованием', 'сделка с подержанным автомобилем',\n",
       "       'получение образования', 'автомобиль', 'свадьба',\n",
       "       'получение дополнительного образования', 'покупка своего жилья',\n",
       "       'операции с недвижимостью', 'получение высшего образования',\n",
       "       'свой автомобиль', 'сделка с автомобилем',\n",
       "       'профильное образование', 'высшее образование',\n",
       "       'покупка жилья для сдачи', 'на покупку автомобиля', 'ремонт жилью',\n",
       "       'заняться высшим образованием'], dtype=object)"
      ]
     },
     "execution_count": 21,
     "metadata": {},
     "output_type": "execute_result"
    }
   ],
   "source": [
    "data['purpose'].unique()"
   ]
  },
  {
   "cell_type": "markdown",
   "id": "bb33e847",
   "metadata": {
    "deletable": false,
    "editable": false,
    "id": "bb33e847",
    "tags": []
   },
   "source": [
    "Создадим функцию, которая на основании данных из столбца `purpose` сформирует новый столбец `purpose_category`, в который войдут следующие категории:\n",
    "\n",
    "- `'операции с автомобилем'`,\n",
    "- `'операции с недвижимостью'`,\n",
    "- `'проведение свадьбы'`,\n",
    "- `'получение образования'`.\n"
   ]
  },
  {
   "cell_type": "code",
   "execution_count": 22,
   "id": "63909b83",
   "metadata": {
    "id": "63909b83"
   },
   "outputs": [],
   "source": [
    "def categorize_purpose(purpose):\n",
    "    if 'жиль' in purpose or 'недвижимост' in purpose:\n",
    "        return 'операции с недвижимостью'\n",
    "    elif 'образовани' in purpose:\n",
    "        return 'получение образования'\n",
    "    elif 'свадьб' in purpose:\n",
    "        return 'проведение свадьбы'\n",
    "    elif 'автомобил' in purpose:\n",
    "        return 'операции с автомобилем'\n",
    "    \n",
    "    raise ValueError(f'Cannot define category for purpose \"{purpose}\"')"
   ]
  },
  {
   "cell_type": "code",
   "execution_count": 23,
   "id": "f4489e73",
   "metadata": {},
   "outputs": [],
   "source": [
    "data['purpose_category'] = data['purpose'].apply(categorize_purpose)"
   ]
  },
  {
   "cell_type": "markdown",
   "id": "eafd067b",
   "metadata": {},
   "source": [
    "## 3. <a id='toc3_'></a>Исследование [&#8593;](#toc0_)"
   ]
  },
  {
   "cell_type": "markdown",
   "metadata": {},
   "source": [
    "### 3.1. <a id='toc3_1_'></a>Есть ли зависимость между количеством детей и возвратом кредита в срок? [&#8593;](#toc0_)"
   ]
  },
  {
   "cell_type": "markdown",
   "id": "832c01dd",
   "metadata": {},
   "source": [
    "Посчитаем сколько раз в таблице встречает каждое из значений количества детей."
   ]
  },
  {
   "cell_type": "code",
   "execution_count": 24,
   "id": "c88211a7",
   "metadata": {},
   "outputs": [
    {
     "data": {
      "text/plain": [
       "children\n",
       "0    14091\n",
       "1     4808\n",
       "2     2052\n",
       "3      330\n",
       "4       41\n",
       "5        9\n",
       "Name: count, dtype: int64"
      ]
     },
     "execution_count": 24,
     "metadata": {},
     "output_type": "execute_result"
    }
   ],
   "source": [
    "data['children'].value_counts()"
   ]
  },
  {
   "cell_type": "markdown",
   "id": "823889b9",
   "metadata": {},
   "source": [
    "Для значений `3`, `4` `5` довольно мало записей. Объединим их в одну категорию с `2`. В итоге получим следующие категории:\n",
    "- `0`\n",
    "- `1`\n",
    "- `2+`"
   ]
  },
  {
   "cell_type": "markdown",
   "id": "1ec6fb8a",
   "metadata": {},
   "source": [
    "Напишем функцию для преобразования количества детей в категорию."
   ]
  },
  {
   "cell_type": "code",
   "execution_count": 25,
   "id": "63af0325",
   "metadata": {},
   "outputs": [],
   "source": [
    "def get_children_category(children):\n",
    "    if children == 0:\n",
    "        return '0'\n",
    "    elif children == 1:\n",
    "        return '1'\n",
    "    \n",
    "    return '2+'"
   ]
  },
  {
   "cell_type": "markdown",
   "id": "712fafa6",
   "metadata": {},
   "source": [
    "Применим соответствующую функцию."
   ]
  },
  {
   "cell_type": "code",
   "execution_count": 26,
   "id": "3948345a",
   "metadata": {},
   "outputs": [],
   "source": [
    "column_name = 'children_category'\n",
    "\n",
    "data[column_name] = data['children'].apply(get_children_category)"
   ]
  },
  {
   "cell_type": "markdown",
   "id": "ad00535b",
   "metadata": {},
   "source": [
    "Проверим, что категоризация прошла успешно."
   ]
  },
  {
   "cell_type": "code",
   "execution_count": 27,
   "id": "19060205",
   "metadata": {},
   "outputs": [
    {
     "data": {
      "text/plain": [
       "children_category\n",
       "0     14091\n",
       "1      4808\n",
       "2+     2432\n",
       "Name: count, dtype: int64"
      ]
     },
     "execution_count": 27,
     "metadata": {},
     "output_type": "execute_result"
    }
   ],
   "source": [
    "data['children_category'].value_counts()"
   ]
  },
  {
   "cell_type": "markdown",
   "id": "272ad91b",
   "metadata": {},
   "source": [
    "Построим таблицу, отображающую количество и процентное соотношение должников в зависимости от количества детей."
   ]
  },
  {
   "cell_type": "code",
   "execution_count": 28,
   "id": "c2ab6636",
   "metadata": {},
   "outputs": [
    {
     "name": "stdout",
     "output_type": "stream",
     "text": [
      "+------------------+-----------+-------+-------------------+\n",
      "| Количество детей | Должников | Всего | Процент должников |\n",
      "+------------------+-----------+-------+-------------------+\n",
      "|        0         |    1063   | 14091 |        7.5%       |\n",
      "|        1         |    444    |  4808 |        9.2%       |\n",
      "|        2+        |    225    |  2432 |        9.3%       |\n",
      "+------------------+-----------+-------+-------------------+\n"
     ]
    }
   ],
   "source": [
    "table = PrettyTable()\n",
    "table.field_names = ['Количество детей', 'Должников', 'Всего', 'Процент должников']\n",
    "\n",
    "\n",
    "for children_count in sorted(data[column_name].unique()):\n",
    "    mask = data[column_name] == children_count\n",
    "    temp_data = data[mask]\n",
    "    debts_count = temp_data['debt'].sum()\n",
    "    \n",
    "    table.add_row([\n",
    "        children_count,\n",
    "        debts_count,\n",
    "        len(temp_data),\n",
    "        f'{debts_count /  len(temp_data):.1%}'\n",
    "    ])\n",
    "\n",
    "print(table)"
   ]
  },
  {
   "cell_type": "markdown",
   "id": "e24123b3",
   "metadata": {},
   "source": [
    "**Вывод:**\n",
    "\n",
    "В данном случае мы видим, что среди клиентов без детей процент должников ниже примерно на `2 п.п.`. Также наблюдается разница (хоть и довольно маленькая) между клиентами с 1 ребенком и теми, у кого больше 1 ребенка. \n",
    "\n",
    "В итоге можно сделать вывод, что чем больше у клиента детей, тем больше вероятность невозврата платежей."
   ]
  },
  {
   "cell_type": "markdown",
   "id": "ad125be9",
   "metadata": {},
   "source": [
    "---"
   ]
  },
  {
   "cell_type": "markdown",
   "metadata": {},
   "source": [
    "### 3.2. <a id='toc3_2_'></a>Есть ли зависимость между семейным положением и возвратом кредита в срок? [&#8593;](#toc0_)"
   ]
  },
  {
   "cell_type": "markdown",
   "id": "20f9a074",
   "metadata": {},
   "source": [
    "Для начала изучим какие вообще семейные положения представлены."
   ]
  },
  {
   "cell_type": "code",
   "execution_count": 29,
   "id": "44ced478",
   "metadata": {},
   "outputs": [
    {
     "data": {
      "text/plain": [
       "family_status\n",
       "женат / замужем          12261\n",
       "гражданский брак          4134\n",
       "Не женат / не замужем     2796\n",
       "в разводе                 1189\n",
       "вдовец / вдова             951\n",
       "Name: count, dtype: int64"
      ]
     },
     "execution_count": 29,
     "metadata": {},
     "output_type": "execute_result"
    }
   ],
   "source": [
    "data['family_status'].value_counts()"
   ]
  },
  {
   "cell_type": "markdown",
   "id": "60ec12cc",
   "metadata": {},
   "source": [
    "Количество записей для категорий крайне неравномерное. Проведем категоризацию следующим образом:\n",
    "- `официальный брак`\n",
    "- `вне официального брака`"
   ]
  },
  {
   "cell_type": "markdown",
   "id": "19d534d5",
   "metadata": {},
   "source": [
    "Создадим функцию."
   ]
  },
  {
   "cell_type": "code",
   "execution_count": 30,
   "id": "c93b39b0",
   "metadata": {},
   "outputs": [],
   "source": [
    "def get_new_family_status(family_status):\n",
    "    if family_status == 'женат / замужем':\n",
    "        return 'официальный брак'\n",
    "    \n",
    "    return 'вне официального брака'"
   ]
  },
  {
   "cell_type": "code",
   "execution_count": 31,
   "id": "7f6563ce",
   "metadata": {},
   "outputs": [],
   "source": [
    "data['new_family_status'] = data['family_status'].apply(get_new_family_status)"
   ]
  },
  {
   "cell_type": "code",
   "execution_count": 32,
   "id": "d3c79db5",
   "metadata": {},
   "outputs": [
    {
     "data": {
      "text/plain": [
       "new_family_status\n",
       "официальный брак          12261\n",
       "вне официального брака     9070\n",
       "Name: count, dtype: int64"
      ]
     },
     "execution_count": 32,
     "metadata": {},
     "output_type": "execute_result"
    }
   ],
   "source": [
    "data['new_family_status'].value_counts()"
   ]
  },
  {
   "cell_type": "markdown",
   "id": "e096fbba",
   "metadata": {},
   "source": [
    "Построим таблицу, отображающую количество и процентное соотношение должников в зависимости от семейного положения."
   ]
  },
  {
   "cell_type": "code",
   "execution_count": 33,
   "id": "f1cc5104",
   "metadata": {},
   "outputs": [
    {
     "name": "stdout",
     "output_type": "stream",
     "text": [
      "+------------------------+-----------+-------+-------------------+\n",
      "|   Семейное положение   | Должников | Всего | Процент должников |\n",
      "+------------------------+-----------+-------+-------------------+\n",
      "| вне официального брака |    805    |  9070 |        8.9%       |\n",
      "|    официальный брак    |    927    | 12261 |        7.6%       |\n",
      "+------------------------+-----------+-------+-------------------+\n"
     ]
    }
   ],
   "source": [
    "table = PrettyTable()\n",
    "table.field_names = ['Семейное положение', 'Должников', 'Всего', 'Процент должников']\n",
    "\n",
    "for children_count in sorted(data['new_family_status'].unique()):\n",
    "    mask = data['new_family_status'] == children_count\n",
    "    temp_data = data[mask]\n",
    "    debts_count = temp_data['debt'].sum()\n",
    "    \n",
    "    table.add_row([\n",
    "        children_count,\n",
    "        debts_count,\n",
    "        len(temp_data),\n",
    "        f'{debts_count /  len(temp_data):.1%}'\n",
    "    ])\n",
    "\n",
    "print(table)"
   ]
  },
  {
   "cell_type": "markdown",
   "id": "9b7c5ffc",
   "metadata": {},
   "source": [
    "**Вывод:**\n",
    "\n",
    "В данном случае видно, что семейное положение клиента влияет на шанс невозврата кредита. Среди людей, состоящих в официальном браке на `1.3 п.п.` меньше должников по сравнению с людьми вне официального брака."
   ]
  },
  {
   "cell_type": "markdown",
   "id": "e13586e5",
   "metadata": {},
   "source": [
    "---"
   ]
  },
  {
   "cell_type": "markdown",
   "metadata": {},
   "source": [
    "### 3.3. <a id='toc3_3_'></a>Есть ли зависимость между уровнем дохода и возвратом кредита в срок? [&#8593;](#toc0_)"
   ]
  },
  {
   "cell_type": "markdown",
   "id": "39a4efb7",
   "metadata": {},
   "source": [
    "Для начала проанализируем связь возврата кредита в срок и доход в виде категорий."
   ]
  },
  {
   "cell_type": "code",
   "execution_count": 34,
   "id": "5f983e3e",
   "metadata": {},
   "outputs": [
    {
     "name": "stdout",
     "output_type": "stream",
     "text": [
      "+------------------+-----------+-------+-------------------+\n",
      "| Категория дохода | Должников | Всего | Процент должников |\n",
      "+------------------+-----------+-------+-------------------+\n",
      "|        A         |    299    |  4266 |        7.0%       |\n",
      "|        B         |    358    |  4266 |        8.4%       |\n",
      "|        C         |    373    |  4266 |        8.7%       |\n",
      "|        D         |    358    |  4266 |        8.4%       |\n",
      "|        E         |    344    |  4267 |        8.1%       |\n",
      "+------------------+-----------+-------+-------------------+\n"
     ]
    }
   ],
   "source": [
    "table = PrettyTable()\n",
    "table.field_names = ['Категория дохода', 'Должников', 'Всего', 'Процент должников']\n",
    "\n",
    "for children_count in sorted(data['total_income_category'].unique()):\n",
    "    mask = data['total_income_category'] == children_count\n",
    "    temp_data = data[mask]\n",
    "    debts_count = temp_data['debt'].sum()\n",
    "    \n",
    "    table.add_row([\n",
    "        children_count,\n",
    "        debts_count,\n",
    "        len(temp_data),\n",
    "        f'{debts_count /  len(temp_data):.1%}'\n",
    "    ])\n",
    "\n",
    "print(table)"
   ]
  },
  {
   "cell_type": "markdown",
   "id": "33125fbf",
   "metadata": {},
   "source": [
    "Визуализируем зависимость."
   ]
  },
  {
   "cell_type": "code",
   "execution_count": 35,
   "id": "79c280fb",
   "metadata": {},
   "outputs": [
    {
     "data": {
      "image/png": "[encoded data removed]",
      "text/plain": [
       "<Figure size 640x480 with 1 Axes>"
      ]
     },
     "metadata": {},
     "output_type": "display_data"
    }
   ],
   "source": [
    "income_categories_info = np.array(table.rows, dtype='object')[:, -1]\n",
    "income_categories_info = list(map(lambda x: float(x[:-1]), income_categories_info))\n",
    "\n",
    "income_categories = np.array(table.rows, dtype='str')[:, 0]\n",
    "\n",
    "ax = sns.barplot(x=income_categories, y=income_categories_info)\n",
    "ax.set_xlabel('Категории дохода')\n",
    "ax.set_ylabel('Процент должников')\n",
    "ax.set_title('Процент должников в зависимости от категории дохода');"
   ]
  },
  {
   "cell_type": "markdown",
   "id": "bac3a71b",
   "metadata": {},
   "source": [
    "Теперь попробуем посмотреть распределение дохода по возврату кредита."
   ]
  },
  {
   "cell_type": "code",
   "execution_count": 36,
   "id": "346334bb",
   "metadata": {},
   "outputs": [
    {
     "data": {
      "image/png": "[encoded data removed]",
      "text/plain": [
       "<Figure size 640x480 with 1 Axes>"
      ]
     },
     "metadata": {},
     "output_type": "display_data"
    }
   ],
   "source": [
    "sns.histplot(data=data, x='total_income', hue='debt', multiple='stack', log_scale=True);"
   ]
  },
  {
   "cell_type": "markdown",
   "id": "796a9974",
   "metadata": {},
   "source": [
    "**Вывод:**\n",
    "\n",
    "После изучения зависимости возврата кредита от дохода, можно сделать вывод, что зависимость имеет форму нормального распределения.\n",
    "\n",
    "Самые надежные заемщики - люди с самым высоким доходом (категория `A`). Среди них процент должников составляет всего `7%`. \n",
    "\n",
    "А вот люди со средним доходом имеют самый высокий процент просрочек - `8.7%`"
   ]
  },
  {
   "cell_type": "markdown",
   "id": "0d92c93d",
   "metadata": {},
   "source": [
    "---"
   ]
  },
  {
   "cell_type": "markdown",
   "metadata": {},
   "source": [
    "### 3.4. <a id='toc3_4_'></a>Как разные цели кредита влияют на его возврат в срок? [&#8593;](#toc0_)"
   ]
  },
  {
   "cell_type": "markdown",
   "id": "81017600",
   "metadata": {},
   "source": [
    "Построим таблицу, отображающую количество и процентное соотношение должников в зависимости от цели кредита."
   ]
  },
  {
   "cell_type": "code",
   "execution_count": 37,
   "id": "60d3f809",
   "metadata": {},
   "outputs": [
    {
     "name": "stdout",
     "output_type": "stream",
     "text": [
      "+--------------------------+-----------+-------+-------------------+\n",
      "|       Цель кредита       | Должников | Всего | Процент должников |\n",
      "+--------------------------+-----------+-------+-------------------+\n",
      "|  операции с автомобилем  |    400    |  4279 |        9.3%       |\n",
      "| операции с недвижимостью |    780    | 10751 |        7.3%       |\n",
      "|  получение образования   |    369    |  3988 |        9.3%       |\n",
      "|    проведение свадьбы    |    183    |  2313 |        7.9%       |\n",
      "+--------------------------+-----------+-------+-------------------+\n"
     ]
    }
   ],
   "source": [
    "table = PrettyTable()\n",
    "table.field_names = ['Цель кредита', 'Должников', 'Всего', 'Процент должников']\n",
    "\n",
    "for children_count in sorted(data['purpose_category'].unique()):\n",
    "    mask = data['purpose_category'] == children_count\n",
    "    temp_data = data[mask]\n",
    "    debts_count = temp_data['debt'].sum()\n",
    "    \n",
    "    table.add_row([\n",
    "        children_count,\n",
    "        debts_count,\n",
    "        len(temp_data),\n",
    "        f'{debts_count /  len(temp_data):.1%}'\n",
    "    ])\n",
    "\n",
    "print(table)"
   ]
  },
  {
   "cell_type": "markdown",
   "id": "7d33b674",
   "metadata": {},
   "source": [
    "**Вывод:**\n",
    "\n",
    "В данном случае можно сделать вывод, что между целью кредита и возвратом кредита в срок есть корреляция. Например, различия в процентном соотношении между категориями `операции с недвижимостью` и `операции с автомобилем` составляют `2 п.п.`.\n",
    "\n",
    "Можно заметить, что самыми надежными заемщиками являются те, кто берут кредит на операции с недвижимостью. А вот люди, берущие кредит на автомобиль и образование - имеют самый высокий процент просрочек."
   ]
  },
  {
   "cell_type": "markdown",
   "metadata": {},
   "source": [
    "## 4. <a id='toc4_'></a>Результаты исследования [&#8593;](#toc0_)"
   ]
  },
  {
   "cell_type": "markdown",
   "id": "af37ce49",
   "metadata": {},
   "source": [
    "В рамках данного проекта мы провели препроцессинг (предобработку данных):\n",
    "- для количественных переменных (`total_income` и `days_employed`) заполнили пропущенные значения медианным значением по категориям;\n",
    "- удалили выбросы (отрицательное количество детей и т.д.);\n",
    "- изменили тип данных для столбца `days_employed` с дробного на целый;\n",
    "- удалили строки, которые полностью дублируют друг друга;\n",
    "- провели категоризацию данных.\n",
    "\n",
    "---\n",
    "\n",
    "После этого мы провели исследование зависимости факта возврата кредита в срок от различных факторов. В ходе исследования было изучено 4 различных фактора:\n",
    "\n",
    "1. Количество детей (✅ есть зависимость)  \n",
    "Самый низкий процент должников у заемщиков без детей (`7.5%` должников), а самый высокий у людей более чем с 1 ребенком (`9.3%` должников). **В общем и целом, чем больше у человека детей, тем больше шанс просрочки по кредиту.**\n",
    "\n",
    "2. Семейное положение (✅ есть зависимость)  \n",
    "В данном случае видно, что семейное положение клиента влияет на шанс невозврата кредита. Среди людей, состоящих в официально браке на `1.3 п.п.` меньше должников по сравнению с людьми, вне официального брака.\n",
    "\n",
    "3. Доход (✅ есть зависимость)  \n",
    "Самый низкий процент должников среди заемщиков с самым высоким уровнем дохода (`7%` должников) и самым низким уровнем дохода (`8.1%`). В общем и целом, зависимость процента должников от дохода имеет форму нормального распределения. Самый высокий процент должников (`8.7%`) у заемщиков со средним доходом.\n",
    "\n",
    "4. Цель кредита (✅ есть зависимость)  \n",
    "В данном случае можно сделать вывод, что между целью кредита и возвратом кредита в срок есть корреляция. Например, различия в процентном соотношении между категориями `операции с недвижимостью` и `операции с автомобилем` составляют `2 п.п.`.  \n",
    "Можно заметить, что самыми надежными заемщиками являются те, кто берут кредит на операции с недвижимостью (`7.3%`). А вот люди, берущие кредит на автомобиль и образование - имеют самый высокий процент просрочек (`9.3%`)\n"
   ]
  }
 ],
 "metadata": {
  "ExecuteTimeLog": [
   {
    "duration": 369,
    "start_time": "2024-02-27T05:57:11.771Z"
   },
   {
    "duration": 287,
    "start_time": "2024-02-27T05:57:13.474Z"
   },
   {
    "duration": 21,
    "start_time": "2024-02-27T05:57:16.357Z"
   },
   {
    "duration": 16,
    "start_time": "2024-02-27T05:57:24.925Z"
   },
   {
    "duration": 11,
    "start_time": "2024-02-27T05:57:46.687Z"
   },
   {
    "duration": 682,
    "start_time": "2024-02-27T06:10:19.983Z"
   },
   {
    "duration": 25,
    "start_time": "2024-02-27T06:10:41.519Z"
   },
   {
    "duration": 3,
    "start_time": "2024-02-27T06:10:55.117Z"
   },
   {
    "duration": 7,
    "start_time": "2024-02-27T06:11:40.067Z"
   },
   {
    "duration": 5,
    "start_time": "2024-02-27T06:12:24.274Z"
   },
   {
    "duration": 2,
    "start_time": "2024-02-27T06:13:04.687Z"
   },
   {
    "duration": 5,
    "start_time": "2024-02-27T06:13:11.250Z"
   },
   {
    "duration": 4,
    "start_time": "2024-02-27T06:13:14.915Z"
   },
   {
    "duration": 5,
    "start_time": "2024-02-27T06:13:30.128Z"
   },
   {
    "duration": 4,
    "start_time": "2024-02-27T06:13:33.097Z"
   },
   {
    "duration": 35,
    "start_time": "2024-02-27T07:45:01.327Z"
   },
   {
    "duration": 353,
    "start_time": "2024-02-27T07:45:26.252Z"
   },
   {
    "duration": 76,
    "start_time": "2024-02-27T07:45:30.225Z"
   },
   {
    "duration": 20,
    "start_time": "2024-02-27T07:45:32.996Z"
   },
   {
    "duration": 14,
    "start_time": "2024-02-27T07:45:35.133Z"
   },
   {
    "duration": 11,
    "start_time": "2024-02-27T07:45:37.645Z"
   },
   {
    "duration": 27,
    "start_time": "2024-02-27T07:45:40.306Z"
   },
   {
    "duration": 4,
    "start_time": "2024-02-27T07:45:41.620Z"
   },
   {
    "duration": 6,
    "start_time": "2024-02-27T07:45:42.556Z"
   },
   {
    "duration": 4,
    "start_time": "2024-02-27T07:45:44.076Z"
   },
   {
    "duration": 5,
    "start_time": "2024-02-27T07:45:45.646Z"
   },
   {
    "duration": 4,
    "start_time": "2024-02-27T07:45:46.741Z"
   },
   {
    "duration": 26,
    "start_time": "2024-02-27T07:45:49.255Z"
   },
   {
    "duration": 11,
    "start_time": "2024-02-27T07:45:55.700Z"
   },
   {
    "duration": 3,
    "start_time": "2024-02-27T07:46:08.296Z"
   },
   {
    "duration": 11,
    "start_time": "2024-02-27T07:46:22.268Z"
   },
   {
    "duration": 19,
    "start_time": "2024-02-27T07:46:36.456Z"
   },
   {
    "duration": 17,
    "start_time": "2024-02-27T07:46:51.725Z"
   },
   {
    "duration": 3,
    "start_time": "2024-02-27T07:47:01.095Z"
   },
   {
    "duration": 8,
    "start_time": "2024-02-27T07:47:02.825Z"
   },
   {
    "duration": 6,
    "start_time": "2024-02-27T07:47:19.235Z"
   },
   {
    "duration": 4,
    "start_time": "2024-02-27T07:54:22.005Z"
   },
   {
    "duration": 359,
    "start_time": "2024-02-27T07:54:25.354Z"
   },
   {
    "duration": 3,
    "start_time": "2024-02-27T07:54:50.006Z"
   },
   {
    "duration": 316,
    "start_time": "2024-02-27T07:54:51.685Z"
   },
   {
    "duration": 3,
    "start_time": "2024-02-27T07:54:59.965Z"
   },
   {
    "duration": 8,
    "start_time": "2024-02-27T07:55:01.577Z"
   },
   {
    "duration": 1413,
    "start_time": "2024-02-27T17:41:01.060Z"
   },
   {
    "duration": 0,
    "start_time": "2024-02-27T17:41:02.476Z"
   },
   {
    "duration": 0,
    "start_time": "2024-02-27T17:41:02.478Z"
   },
   {
    "duration": 0,
    "start_time": "2024-02-27T17:41:02.479Z"
   },
   {
    "duration": 0,
    "start_time": "2024-02-27T17:41:02.480Z"
   },
   {
    "duration": 0,
    "start_time": "2024-02-27T17:41:02.481Z"
   },
   {
    "duration": 0,
    "start_time": "2024-02-27T17:41:02.482Z"
   },
   {
    "duration": 0,
    "start_time": "2024-02-27T17:41:02.483Z"
   },
   {
    "duration": 0,
    "start_time": "2024-02-27T17:41:02.484Z"
   },
   {
    "duration": 0,
    "start_time": "2024-02-27T17:41:02.485Z"
   },
   {
    "duration": 0,
    "start_time": "2024-02-27T17:41:02.486Z"
   },
   {
    "duration": 0,
    "start_time": "2024-02-27T17:41:02.488Z"
   },
   {
    "duration": 0,
    "start_time": "2024-02-27T17:41:02.489Z"
   },
   {
    "duration": 0,
    "start_time": "2024-02-27T17:41:02.514Z"
   },
   {
    "duration": 0,
    "start_time": "2024-02-27T17:41:02.516Z"
   },
   {
    "duration": 0,
    "start_time": "2024-02-27T17:41:02.517Z"
   },
   {
    "duration": 0,
    "start_time": "2024-02-27T17:41:02.518Z"
   },
   {
    "duration": 0,
    "start_time": "2024-02-27T17:41:02.519Z"
   },
   {
    "duration": 0,
    "start_time": "2024-02-27T17:41:02.520Z"
   },
   {
    "duration": 0,
    "start_time": "2024-02-27T17:41:02.521Z"
   },
   {
    "duration": 0,
    "start_time": "2024-02-27T17:41:02.522Z"
   },
   {
    "duration": 0,
    "start_time": "2024-02-27T17:41:02.522Z"
   },
   {
    "duration": 0,
    "start_time": "2024-02-27T17:41:02.523Z"
   },
   {
    "duration": 0,
    "start_time": "2024-02-27T17:41:02.524Z"
   },
   {
    "duration": 0,
    "start_time": "2024-02-27T17:41:02.525Z"
   },
   {
    "duration": 0,
    "start_time": "2024-02-27T17:41:02.526Z"
   },
   {
    "duration": 0,
    "start_time": "2024-02-27T17:41:02.526Z"
   },
   {
    "duration": 0,
    "start_time": "2024-02-27T17:41:02.527Z"
   },
   {
    "duration": 0,
    "start_time": "2024-02-27T17:41:02.528Z"
   },
   {
    "duration": 1568,
    "start_time": "2024-02-27T18:52:15.371Z"
   },
   {
    "duration": 0,
    "start_time": "2024-02-27T18:52:16.941Z"
   },
   {
    "duration": 0,
    "start_time": "2024-02-27T18:52:16.942Z"
   },
   {
    "duration": 0,
    "start_time": "2024-02-27T18:52:16.943Z"
   },
   {
    "duration": 0,
    "start_time": "2024-02-27T18:52:16.944Z"
   },
   {
    "duration": 0,
    "start_time": "2024-02-27T18:52:16.945Z"
   },
   {
    "duration": 0,
    "start_time": "2024-02-27T18:52:16.946Z"
   },
   {
    "duration": 0,
    "start_time": "2024-02-27T18:52:16.947Z"
   },
   {
    "duration": 0,
    "start_time": "2024-02-27T18:52:16.948Z"
   },
   {
    "duration": 0,
    "start_time": "2024-02-27T18:52:16.949Z"
   },
   {
    "duration": 0,
    "start_time": "2024-02-27T18:52:16.950Z"
   },
   {
    "duration": 0,
    "start_time": "2024-02-27T18:52:16.951Z"
   },
   {
    "duration": 0,
    "start_time": "2024-02-27T18:52:16.952Z"
   },
   {
    "duration": 0,
    "start_time": "2024-02-27T18:52:16.953Z"
   },
   {
    "duration": 0,
    "start_time": "2024-02-27T18:52:16.954Z"
   },
   {
    "duration": 0,
    "start_time": "2024-02-27T18:52:16.955Z"
   },
   {
    "duration": 0,
    "start_time": "2024-02-27T18:52:16.957Z"
   },
   {
    "duration": 0,
    "start_time": "2024-02-27T18:52:16.981Z"
   },
   {
    "duration": 0,
    "start_time": "2024-02-27T18:52:16.982Z"
   },
   {
    "duration": 0,
    "start_time": "2024-02-27T18:52:16.983Z"
   },
   {
    "duration": 0,
    "start_time": "2024-02-27T18:52:16.984Z"
   },
   {
    "duration": 0,
    "start_time": "2024-02-27T18:52:16.985Z"
   },
   {
    "duration": 0,
    "start_time": "2024-02-27T18:52:16.986Z"
   },
   {
    "duration": 0,
    "start_time": "2024-02-27T18:52:16.987Z"
   },
   {
    "duration": 0,
    "start_time": "2024-02-27T18:52:16.988Z"
   },
   {
    "duration": 0,
    "start_time": "2024-02-27T18:52:16.990Z"
   },
   {
    "duration": 0,
    "start_time": "2024-02-27T18:52:16.991Z"
   },
   {
    "duration": 0,
    "start_time": "2024-02-27T18:52:16.992Z"
   },
   {
    "duration": 0,
    "start_time": "2024-02-27T18:52:16.993Z"
   },
   {
    "duration": 9,
    "start_time": "2024-02-27T18:52:46.794Z"
   },
   {
    "duration": 3374,
    "start_time": "2024-02-27T18:53:07.082Z"
   },
   {
    "duration": 10,
    "start_time": "2024-02-27T18:53:56.599Z"
   },
   {
    "duration": 133,
    "start_time": "2024-02-27T18:53:59.257Z"
   },
   {
    "duration": 17,
    "start_time": "2024-02-27T18:54:01.271Z"
   },
   {
    "duration": 17,
    "start_time": "2024-02-27T18:54:03.699Z"
   },
   {
    "duration": 12,
    "start_time": "2024-02-27T18:54:08.554Z"
   },
   {
    "duration": 2558,
    "start_time": "2024-02-27T18:54:14.718Z"
   },
   {
    "duration": 1223,
    "start_time": "2024-02-27T18:54:17.278Z"
   },
   {
    "duration": 84,
    "start_time": "2024-02-27T18:54:18.503Z"
   },
   {
    "duration": 25,
    "start_time": "2024-02-27T18:54:18.590Z"
   },
   {
    "duration": 25,
    "start_time": "2024-02-27T18:54:18.617Z"
   },
   {
    "duration": 37,
    "start_time": "2024-02-27T18:54:18.644Z"
   },
   {
    "duration": 38,
    "start_time": "2024-02-27T18:54:18.683Z"
   },
   {
    "duration": 4,
    "start_time": "2024-02-27T18:54:18.722Z"
   },
   {
    "duration": 13,
    "start_time": "2024-02-27T18:54:18.727Z"
   },
   {
    "duration": 5,
    "start_time": "2024-02-27T18:54:18.744Z"
   },
   {
    "duration": 34,
    "start_time": "2024-02-27T18:54:18.750Z"
   },
   {
    "duration": 6,
    "start_time": "2024-02-27T18:54:18.786Z"
   },
   {
    "duration": 41,
    "start_time": "2024-02-27T18:54:18.795Z"
   },
   {
    "duration": 13,
    "start_time": "2024-02-27T18:54:18.837Z"
   },
   {
    "duration": 4,
    "start_time": "2024-02-27T18:54:18.851Z"
   },
   {
    "duration": 35,
    "start_time": "2024-02-27T18:54:18.856Z"
   },
   {
    "duration": 31,
    "start_time": "2024-02-27T18:54:18.892Z"
   },
   {
    "duration": 26,
    "start_time": "2024-02-27T18:54:18.925Z"
   },
   {
    "duration": 4,
    "start_time": "2024-02-27T18:54:18.953Z"
   },
   {
    "duration": 28,
    "start_time": "2024-02-27T18:54:18.959Z"
   },
   {
    "duration": 9,
    "start_time": "2024-02-27T18:54:18.989Z"
   },
   {
    "duration": 4,
    "start_time": "2024-02-27T18:54:18.999Z"
   },
   {
    "duration": 17,
    "start_time": "2024-02-27T18:54:19.004Z"
   },
   {
    "duration": 32,
    "start_time": "2024-02-27T18:54:19.023Z"
   },
   {
    "duration": 17,
    "start_time": "2024-02-27T18:54:19.057Z"
   },
   {
    "duration": 30,
    "start_time": "2024-02-27T18:54:19.079Z"
   },
   {
    "duration": 20,
    "start_time": "2024-02-27T18:54:19.111Z"
   },
   {
    "duration": 830,
    "start_time": "2024-02-27T18:54:19.134Z"
   },
   {
    "duration": 28,
    "start_time": "2024-02-27T18:54:19.966Z"
   },
   {
    "duration": 115,
    "start_time": "2024-02-27T18:54:19.996Z"
   },
   {
    "duration": 6,
    "start_time": "2024-02-27T18:58:00.922Z"
   },
   {
    "duration": 3,
    "start_time": "2024-02-27T19:05:09.629Z"
   },
   {
    "duration": 7,
    "start_time": "2024-02-27T19:06:34.828Z"
   },
   {
    "duration": 26,
    "start_time": "2024-02-27T19:06:47.081Z"
   },
   {
    "duration": 10,
    "start_time": "2024-02-28T05:49:04.715Z"
   },
   {
    "duration": 101,
    "start_time": "2024-02-28T05:51:32.809Z"
   },
   {
    "duration": 3588,
    "start_time": "2024-02-28T18:39:26.110Z"
   },
   {
    "duration": 1110,
    "start_time": "2024-02-28T18:39:29.700Z"
   },
   {
    "duration": 272,
    "start_time": "2024-02-28T18:39:30.811Z"
   },
   {
    "duration": 12,
    "start_time": "2024-02-28T18:39:31.084Z"
   },
   {
    "duration": 48,
    "start_time": "2024-02-28T18:39:31.097Z"
   },
   {
    "duration": 52,
    "start_time": "2024-02-28T18:39:31.147Z"
   },
   {
    "duration": 63,
    "start_time": "2024-02-28T18:39:31.200Z"
   },
   {
    "duration": 26,
    "start_time": "2024-02-28T18:39:31.265Z"
   },
   {
    "duration": 33,
    "start_time": "2024-02-28T18:39:31.292Z"
   },
   {
    "duration": 41,
    "start_time": "2024-02-28T18:39:31.327Z"
   },
   {
    "duration": 18,
    "start_time": "2024-02-28T18:39:31.369Z"
   },
   {
    "duration": 26,
    "start_time": "2024-02-28T18:39:31.388Z"
   },
   {
    "duration": 48,
    "start_time": "2024-02-28T18:39:31.415Z"
   },
   {
    "duration": 19,
    "start_time": "2024-02-28T18:39:31.464Z"
   },
   {
    "duration": 35,
    "start_time": "2024-02-28T18:39:31.484Z"
   },
   {
    "duration": 53,
    "start_time": "2024-02-28T18:39:31.520Z"
   },
   {
    "duration": 39,
    "start_time": "2024-02-28T18:39:31.574Z"
   },
   {
    "duration": 25,
    "start_time": "2024-02-28T18:39:31.614Z"
   },
   {
    "duration": 25,
    "start_time": "2024-02-28T18:39:31.641Z"
   },
   {
    "duration": 11,
    "start_time": "2024-02-28T18:39:31.667Z"
   },
   {
    "duration": 26,
    "start_time": "2024-02-28T18:39:31.679Z"
   },
   {
    "duration": 45,
    "start_time": "2024-02-28T18:39:31.706Z"
   },
   {
    "duration": 28,
    "start_time": "2024-02-28T18:39:31.752Z"
   },
   {
    "duration": 36,
    "start_time": "2024-02-28T18:39:31.782Z"
   },
   {
    "duration": 34,
    "start_time": "2024-02-28T18:39:31.819Z"
   },
   {
    "duration": 31,
    "start_time": "2024-02-28T18:39:31.854Z"
   },
   {
    "duration": 26,
    "start_time": "2024-02-28T18:39:31.886Z"
   },
   {
    "duration": 18,
    "start_time": "2024-02-28T18:39:31.914Z"
   },
   {
    "duration": 28,
    "start_time": "2024-02-28T18:39:31.933Z"
   },
   {
    "duration": 28,
    "start_time": "2024-02-28T18:39:31.962Z"
   },
   {
    "duration": 25,
    "start_time": "2024-02-28T18:39:31.991Z"
   },
   {
    "duration": 24,
    "start_time": "2024-02-28T18:39:32.018Z"
   },
   {
    "duration": 24,
    "start_time": "2024-02-28T18:39:32.044Z"
   },
   {
    "duration": 10,
    "start_time": "2024-02-28T18:39:32.070Z"
   },
   {
    "duration": 116,
    "start_time": "2024-02-28T18:39:32.081Z"
   },
   {
    "duration": 589,
    "start_time": "2024-02-28T18:39:32.199Z"
   },
   {
    "duration": 16,
    "start_time": "2024-02-28T18:39:32.789Z"
   }
  ],
  "colab": {
   "provenance": []
  },
  "kernelspec": {
   "display_name": "Python 3 (ipykernel)",
   "language": "python",
   "name": "python3"
  },
  "language_info": {
   "codemirror_mode": {
    "name": "ipython",
    "version": 3
   },
   "file_extension": ".py",
   "mimetype": "text/x-python",
   "name": "python",
   "nbconvert_exporter": "python",
   "pygments_lexer": "ipython3",
   "version": "3.11.5"
  },
  "toc": {
   "base_numbering": 1,
   "nav_menu": {},
   "number_sections": true,
   "sideBar": true,
   "skip_h1_title": true,
   "title_cell": "Table of Contents",
   "title_sidebar": "Contents",
   "toc_cell": false,
   "toc_position": {
    "height": "calc(100% - 180px)",
    "left": "10px",
    "top": "150px",
    "width": "374.391px"
   },
   "toc_section_display": true,
   "toc_window_display": true
  }
 },
 "nbformat": 4,
 "nbformat_minor": 5
}
