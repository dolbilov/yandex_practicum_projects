{
 "cells": [
  {
   "cell_type": "markdown",
   "metadata": {},
   "source": [
    "# Аренда самокатов 🛴"
   ]
  },
  {
   "cell_type": "markdown",
   "metadata": {},
   "source": [
    "**Описание проекта:** За последние пару лет самокаты превратились из редкости в одно из самых популярных средств передвижения по городу. Сервисы аренды самокатов являются полноценным бизнесом. Как и любой другой бизнес, они стремятся увеличить выручку.\n",
    "\n",
    "**Цель проекта:** Нам передали данные популярного сервиса аренды самокатов GoFast. Есть данные о некоторых пользователях из нескольких городов, а также об их поездках. Требуется проанализировать данные и проверьте некоторые гипотезы, которые могут помочь бизнесу вырасти.\n",
    "\n",
    "**Ход исследования:**\n",
    "- Подготовка данных: загрузка и изучение общей информации\n",
    "- Предобработка данных: обработка пропущенных значений и дубликатов, корректировка типов данных\n",
    "- Объединение датасетов\n",
    "- Подсчет выручки\n",
    "- Проверка гипотез"
   ]
  },
  {
   "cell_type": "markdown",
   "metadata": {},
   "source": [
    "**Содержание**<a id='toc0_'></a>    \n",
    "1. [Подготовка     ](#toc1_)    \n",
    "1.1. [Установка библиотек     ](#toc1_1_)    \n",
    "1.2. [Сервисные функции     ](#toc1_2_)    \n",
    "2. [Данные     ](#toc2_)    \n",
    "2.1. [Загрузка     ](#toc2_1_)    \n",
    "2.2. [Генерация новых столбцов     ](#toc2_2_)    \n",
    "2.3. [Проверка полных дубликатов     ](#toc2_3_)    \n",
    "2.4. [Обработка неявных дубликатов     ](#toc2_4_)    \n",
    "2.5. [Проверка пропущенных значений     ](#toc2_5_)    \n",
    "2.6. [Промежуточный вывод ](#toc2_6_)    \n",
    "3. [Исследовательский анализ данных (EDA)     ](#toc3_)    \n",
    "3.1. [Города пользователей     ](#toc3_1_)    \n",
    "3.2. [Тип подписки     ](#toc3_2_)    \n",
    "3.3. [Возраст пользователей     ](#toc3_3_)    \n",
    "3.4. [Расстояние за 1 поездку     ](#toc3_4_)    \n",
    "3.5. [Продолжительность поездок](#toc3_5_)    \n",
    "3.6. [Вывод по исследовательскому анализу данных     ](#toc3_6_)    \n",
    "4. [Объединение данных     ](#toc4_)    \n",
    "4.1. [Объединение     ](#toc4_1_)    \n",
    "4.2. [Визуализация различий     ](#toc4_2_)    \n",
    "4.3. [Вывод по объединению данных     ](#toc4_3_)    \n",
    "5. [Подсчет выручки     ](#toc5_)    \n",
    "5.1. [Вывод ](#toc5_1_)    \n",
    "6. [Проверка гипотез     ](#toc6_)    \n",
    "6.1. [Продолжительность поездок     ](#toc6_1_)    \n",
    "6.2. [Среднее расстояние поездки     ](#toc6_2_)    \n",
    "6.3. [Сравнение помесячной выручки от пользователей с подпиской и без     ](#toc6_3_)    \n",
    "6.4. [Ответ на вопрос     ](#toc6_4_)    \n",
    "7. [Общий вывод ](#toc7_)    \n",
    "\n",
    "<!-- vscode-jupyter-toc-config\n",
    "\tnumbering=true\n",
    "\tanchor=true\n",
    "\tflat=true\n",
    "\tminLevel=2\n",
    "\tmaxLevel=6\n",
    "\t/vscode-jupyter-toc-config -->\n",
    "<!-- THIS CELL WILL BE REPLACED ON TOC UPDATE. DO NOT WRITE YOUR TEXT IN THIS CELL -->"
   ]
  },
  {
   "cell_type": "markdown",
   "metadata": {},
   "source": [
    "## 1. <a id='toc1_'></a>Подготовка      [&#8593;](#toc0_)"
   ]
  },
  {
   "cell_type": "markdown",
   "metadata": {},
   "source": [
    "### 1.1. <a id='toc1_1_'></a>Установка библиотек      [&#8593;](#toc0_)"
   ]
  },
  {
   "cell_type": "code",
   "execution_count": 1,
   "metadata": {},
   "outputs": [
    {
     "name": "stdout",
     "output_type": "stream",
     "text": [
      "Note: you may need to restart the kernel to use updated packages.\n",
      "Note: you may need to restart the kernel to use updated packages.\n",
      "Note: you may need to restart the kernel to use updated packages.\n",
      "Note: you may need to restart the kernel to use updated packages.\n",
      "Note: you may need to restart the kernel to use updated packages.\n",
      "Note: you may need to restart the kernel to use updated packages.\n",
      "Note: you may need to restart the kernel to use updated packages.\n",
      "Note: you may need to restart the kernel to use updated packages.\n"
     ]
    }
   ],
   "source": [
    "from platform import python_version\n",
    "version = python_version()\n",
    "\n",
    "if version.startswith('3.9'):\n",
    "    pass\n",
    "    %pip install --force-reinstall -v \"numpy==1.22.4\" -q\n",
    "else:\n",
    "    pass\n",
    "    %pip install --upgrade numpy -q\n",
    "    \n",
    "%pip install --upgrade prettytable -q\n",
    "%pip install --upgrade termcolor -q\n",
    "%pip install --upgrade matplotlib -q\n",
    "%pip install --upgrade seaborn -q\n",
    "%pip install --upgrade bottleneck -q\n",
    "%pip install --upgrade pandas -q\n",
    "%pip install --upgrade scipy -q"
   ]
  },
  {
   "cell_type": "code",
   "execution_count": 2,
   "metadata": {},
   "outputs": [],
   "source": [
    "import numpy as np\n",
    "import pandas as pd\n",
    "import matplotlib.pyplot as plt\n",
    "import seaborn as sns\n",
    "import os\n",
    "\n",
    "from scipy import stats as st\n",
    "\n",
    "from prettytable import PrettyTable\n",
    "from termcolor import colored"
   ]
  },
  {
   "cell_type": "markdown",
   "metadata": {},
   "source": [
    "### 1.2. <a id='toc1_2_'></a>Сервисные функции      [&#8593;](#toc0_)"
   ]
  },
  {
   "cell_type": "code",
   "execution_count": 3,
   "metadata": {},
   "outputs": [],
   "source": [
    "def print_table_about_nans(data: pd.DataFrame) -> None:\n",
    "    table = PrettyTable()\n",
    "    table.field_names = ['Feature', 'Missing values count']\n",
    "    \n",
    "    missing_info = data.isna().sum().sort_values()\n",
    "    cols = missing_info.index.to_list()\n",
    "    for col in cols:\n",
    "        count = missing_info[col]\n",
    "        color = 'green' if count == 0 else 'red'\n",
    "        s = f'{count} ({count / len(data):.2%})'\n",
    "        table.add_row([col, colored(s, color)])\n",
    "    \n",
    "    print(table)"
   ]
  },
  {
   "cell_type": "code",
   "execution_count": 4,
   "metadata": {},
   "outputs": [],
   "source": [
    "def draw_plots_about_column(df: pd.DataFrame, column: str, column_description:  str, bins: int = 20) -> None:\n",
    "    _, ((ax1, ax2), (ax3, ax4)) = plt.subplots(2, 2, figsize=(12, 10))\n",
    "    \n",
    "    sns.violinplot(df, y=column, ax=ax1)\n",
    "    ax1.set_ylabel(column_description)\n",
    "    ax1.grid()\n",
    "    \n",
    "    sns.boxplot(df, x=column, ax=ax2)\n",
    "    ax2.set_xlabel(column_description)\n",
    "    ax2.grid()\n",
    "    \n",
    "    sns.histplot(df, x=column, bins=bins, ax=ax3)\n",
    "    ax3.set_xlabel(column_description)\n",
    "    ax3.grid()\n",
    "    ax3.set_ylabel('Количество')\n",
    "    \n",
    "    ax4.set_visible(False)\n",
    "    \n",
    "    plt.suptitle(f'Информация о колонке `{column_description}`', fontsize=18)\n",
    "    plt.tight_layout()\n",
    "\n",
    "    plt.show()"
   ]
  },
  {
   "cell_type": "markdown",
   "metadata": {},
   "source": [
    "## 2. <a id='toc2_'></a>Данные      [&#8593;](#toc0_)"
   ]
  },
  {
   "cell_type": "markdown",
   "metadata": {},
   "source": [
    "### 2.1. <a id='toc2_1_'></a>Загрузка      [&#8593;](#toc0_)"
   ]
  },
  {
   "cell_type": "code",
   "execution_count": 5,
   "metadata": {},
   "outputs": [],
   "source": [
    "# dataset is not presented due to copyright\n",
    "users = pd.read_csv(path)"
   ]
  },
  {
   "cell_type": "code",
   "execution_count": 6,
   "metadata": {},
   "outputs": [
    {
     "data": {
      "text/html": [
       "<div>\n",
       "<style scoped>\n",
       "    .dataframe tbody tr th:only-of-type {\n",
       "        vertical-align: middle;\n",
       "    }\n",
       "\n",
       "    .dataframe tbody tr th {\n",
       "        vertical-align: top;\n",
       "    }\n",
       "\n",
       "    .dataframe thead th {\n",
       "        text-align: right;\n",
       "    }\n",
       "</style>\n",
       "<table border=\"1\" class=\"dataframe\">\n",
       "  <thead>\n",
       "    <tr style=\"text-align: right;\">\n",
       "      <th></th>\n",
       "      <th>user_id</th>\n",
       "      <th>name</th>\n",
       "      <th>age</th>\n",
       "      <th>city</th>\n",
       "      <th>subscription_type</th>\n",
       "    </tr>\n",
       "  </thead>\n",
       "  <tbody>\n",
       "    <tr>\n",
       "      <th>0</th>\n",
       "      <td>1</td>\n",
       "      <td>Кира</td>\n",
       "      <td>22</td>\n",
       "      <td>Тюмень</td>\n",
       "      <td>ultra</td>\n",
       "    </tr>\n",
       "    <tr>\n",
       "      <th>1</th>\n",
       "      <td>2</td>\n",
       "      <td>Станислав</td>\n",
       "      <td>31</td>\n",
       "      <td>Омск</td>\n",
       "      <td>ultra</td>\n",
       "    </tr>\n",
       "    <tr>\n",
       "      <th>2</th>\n",
       "      <td>3</td>\n",
       "      <td>Алексей</td>\n",
       "      <td>20</td>\n",
       "      <td>Москва</td>\n",
       "      <td>ultra</td>\n",
       "    </tr>\n",
       "    <tr>\n",
       "      <th>3</th>\n",
       "      <td>4</td>\n",
       "      <td>Константин</td>\n",
       "      <td>26</td>\n",
       "      <td>Ростов-на-Дону</td>\n",
       "      <td>ultra</td>\n",
       "    </tr>\n",
       "    <tr>\n",
       "      <th>4</th>\n",
       "      <td>5</td>\n",
       "      <td>Адель</td>\n",
       "      <td>28</td>\n",
       "      <td>Омск</td>\n",
       "      <td>ultra</td>\n",
       "    </tr>\n",
       "  </tbody>\n",
       "</table>\n",
       "</div>"
      ],
      "text/plain": [
       "   user_id        name  age            city subscription_type\n",
       "0        1        Кира   22          Тюмень             ultra\n",
       "1        2   Станислав   31            Омск             ultra\n",
       "2        3     Алексей   20          Москва             ultra\n",
       "3        4  Константин   26  Ростов-на-Дону             ultra\n",
       "4        5       Адель   28            Омск             ultra"
      ]
     },
     "execution_count": 6,
     "metadata": {},
     "output_type": "execute_result"
    }
   ],
   "source": [
    "users.head()"
   ]
  },
  {
   "cell_type": "markdown",
   "metadata": {},
   "source": [
    "**Описание данных**\n",
    "\n",
    "|Название|Описание|\n",
    "|:--:|--|\n",
    "|`user_id`|уникальный идентификатор пользователя|\n",
    "|`name`|имя пользователя|\n",
    "|`age`|возраст|\n",
    "|`city`|город|\n",
    "|`subscription_type`|тип подписки (free, ultra)|"
   ]
  },
  {
   "cell_type": "code",
   "execution_count": 7,
   "metadata": {},
   "outputs": [
    {
     "name": "stdout",
     "output_type": "stream",
     "text": [
      "<class 'pandas.core.frame.DataFrame'>\n",
      "RangeIndex: 1565 entries, 0 to 1564\n",
      "Data columns (total 5 columns):\n",
      " #   Column             Non-Null Count  Dtype \n",
      "---  ------             --------------  ----- \n",
      " 0   user_id            1565 non-null   int64 \n",
      " 1   name               1565 non-null   object\n",
      " 2   age                1565 non-null   int64 \n",
      " 3   city               1565 non-null   object\n",
      " 4   subscription_type  1565 non-null   object\n",
      "dtypes: int64(2), object(3)\n",
      "memory usage: 61.3+ KB\n"
     ]
    }
   ],
   "source": [
    "users.info()"
   ]
  },
  {
   "cell_type": "code",
   "execution_count": 8,
   "metadata": {},
   "outputs": [
    {
     "data": {
      "text/html": [
       "<div>\n",
       "<style scoped>\n",
       "    .dataframe tbody tr th:only-of-type {\n",
       "        vertical-align: middle;\n",
       "    }\n",
       "\n",
       "    .dataframe tbody tr th {\n",
       "        vertical-align: top;\n",
       "    }\n",
       "\n",
       "    .dataframe thead th {\n",
       "        text-align: right;\n",
       "    }\n",
       "</style>\n",
       "<table border=\"1\" class=\"dataframe\">\n",
       "  <thead>\n",
       "    <tr style=\"text-align: right;\">\n",
       "      <th></th>\n",
       "      <th>user_id</th>\n",
       "      <th>age</th>\n",
       "    </tr>\n",
       "  </thead>\n",
       "  <tbody>\n",
       "    <tr>\n",
       "      <th>count</th>\n",
       "      <td>1565.000000</td>\n",
       "      <td>1565.000000</td>\n",
       "    </tr>\n",
       "    <tr>\n",
       "      <th>mean</th>\n",
       "      <td>762.633866</td>\n",
       "      <td>24.922045</td>\n",
       "    </tr>\n",
       "    <tr>\n",
       "      <th>std</th>\n",
       "      <td>443.260155</td>\n",
       "      <td>4.553496</td>\n",
       "    </tr>\n",
       "    <tr>\n",
       "      <th>min</th>\n",
       "      <td>1.000000</td>\n",
       "      <td>12.000000</td>\n",
       "    </tr>\n",
       "    <tr>\n",
       "      <th>25%</th>\n",
       "      <td>378.000000</td>\n",
       "      <td>22.000000</td>\n",
       "    </tr>\n",
       "    <tr>\n",
       "      <th>50%</th>\n",
       "      <td>762.000000</td>\n",
       "      <td>25.000000</td>\n",
       "    </tr>\n",
       "    <tr>\n",
       "      <th>75%</th>\n",
       "      <td>1146.000000</td>\n",
       "      <td>28.000000</td>\n",
       "    </tr>\n",
       "    <tr>\n",
       "      <th>max</th>\n",
       "      <td>1534.000000</td>\n",
       "      <td>43.000000</td>\n",
       "    </tr>\n",
       "  </tbody>\n",
       "</table>\n",
       "</div>"
      ],
      "text/plain": [
       "           user_id          age\n",
       "count  1565.000000  1565.000000\n",
       "mean    762.633866    24.922045\n",
       "std     443.260155     4.553496\n",
       "min       1.000000    12.000000\n",
       "25%     378.000000    22.000000\n",
       "50%     762.000000    25.000000\n",
       "75%    1146.000000    28.000000\n",
       "max    1534.000000    43.000000"
      ]
     },
     "execution_count": 8,
     "metadata": {},
     "output_type": "execute_result"
    }
   ],
   "source": [
    "users.describe()"
   ]
  },
  {
   "cell_type": "markdown",
   "metadata": {},
   "source": [
    "---"
   ]
  },
  {
   "cell_type": "code",
   "execution_count": 9,
   "metadata": {},
   "outputs": [],
   "source": [
    "# dataset is not presented due to copyright\n",
    "rides = pd.read_csv(path, parse_dates=['date'])"
   ]
  },
  {
   "cell_type": "code",
   "execution_count": 10,
   "metadata": {},
   "outputs": [
    {
     "data": {
      "text/html": [
       "<div>\n",
       "<style scoped>\n",
       "    .dataframe tbody tr th:only-of-type {\n",
       "        vertical-align: middle;\n",
       "    }\n",
       "\n",
       "    .dataframe tbody tr th {\n",
       "        vertical-align: top;\n",
       "    }\n",
       "\n",
       "    .dataframe thead th {\n",
       "        text-align: right;\n",
       "    }\n",
       "</style>\n",
       "<table border=\"1\" class=\"dataframe\">\n",
       "  <thead>\n",
       "    <tr style=\"text-align: right;\">\n",
       "      <th></th>\n",
       "      <th>user_id</th>\n",
       "      <th>distance</th>\n",
       "      <th>duration</th>\n",
       "      <th>date</th>\n",
       "    </tr>\n",
       "  </thead>\n",
       "  <tbody>\n",
       "    <tr>\n",
       "      <th>0</th>\n",
       "      <td>1</td>\n",
       "      <td>4409.919140</td>\n",
       "      <td>25.599769</td>\n",
       "      <td>2021-01-01</td>\n",
       "    </tr>\n",
       "    <tr>\n",
       "      <th>1</th>\n",
       "      <td>1</td>\n",
       "      <td>2617.592153</td>\n",
       "      <td>15.816871</td>\n",
       "      <td>2021-01-18</td>\n",
       "    </tr>\n",
       "    <tr>\n",
       "      <th>2</th>\n",
       "      <td>1</td>\n",
       "      <td>754.159807</td>\n",
       "      <td>6.232113</td>\n",
       "      <td>2021-04-20</td>\n",
       "    </tr>\n",
       "    <tr>\n",
       "      <th>3</th>\n",
       "      <td>1</td>\n",
       "      <td>2694.783254</td>\n",
       "      <td>18.511000</td>\n",
       "      <td>2021-08-11</td>\n",
       "    </tr>\n",
       "    <tr>\n",
       "      <th>4</th>\n",
       "      <td>1</td>\n",
       "      <td>4028.687306</td>\n",
       "      <td>26.265803</td>\n",
       "      <td>2021-08-28</td>\n",
       "    </tr>\n",
       "  </tbody>\n",
       "</table>\n",
       "</div>"
      ],
      "text/plain": [
       "   user_id     distance   duration       date\n",
       "0        1  4409.919140  25.599769 2021-01-01\n",
       "1        1  2617.592153  15.816871 2021-01-18\n",
       "2        1   754.159807   6.232113 2021-04-20\n",
       "3        1  2694.783254  18.511000 2021-08-11\n",
       "4        1  4028.687306  26.265803 2021-08-28"
      ]
     },
     "execution_count": 10,
     "metadata": {},
     "output_type": "execute_result"
    }
   ],
   "source": [
    "rides.head()"
   ]
  },
  {
   "cell_type": "markdown",
   "metadata": {},
   "source": [
    "**Описание данных**\n",
    "\n",
    "|Название|Описание|\n",
    "|:--:|--|\n",
    "|`user_id`|уникальный идентификатор пользователя|\n",
    "|`distance`|расстояние, которое пользователь проехал в текущей сессии (в метрах)|\n",
    "|`duration`|продолжительность сессии (в минутах) — время с того момента, как пользователь нажал кнопку «Начать поездку» до момента, как он нажал кнопку «Завершить поездку»|\n",
    "|`date`|дата совершения поездки|"
   ]
  },
  {
   "cell_type": "code",
   "execution_count": 11,
   "metadata": {},
   "outputs": [
    {
     "name": "stdout",
     "output_type": "stream",
     "text": [
      "<class 'pandas.core.frame.DataFrame'>\n",
      "RangeIndex: 18068 entries, 0 to 18067\n",
      "Data columns (total 4 columns):\n",
      " #   Column    Non-Null Count  Dtype         \n",
      "---  ------    --------------  -----         \n",
      " 0   user_id   18068 non-null  int64         \n",
      " 1   distance  18068 non-null  float64       \n",
      " 2   duration  18068 non-null  float64       \n",
      " 3   date      18068 non-null  datetime64[ns]\n",
      "dtypes: datetime64[ns](1), float64(2), int64(1)\n",
      "memory usage: 564.8 KB\n"
     ]
    }
   ],
   "source": [
    "rides.info()"
   ]
  },
  {
   "cell_type": "code",
   "execution_count": 12,
   "metadata": {},
   "outputs": [
    {
     "data": {
      "text/html": [
       "<div>\n",
       "<style scoped>\n",
       "    .dataframe tbody tr th:only-of-type {\n",
       "        vertical-align: middle;\n",
       "    }\n",
       "\n",
       "    .dataframe tbody tr th {\n",
       "        vertical-align: top;\n",
       "    }\n",
       "\n",
       "    .dataframe thead th {\n",
       "        text-align: right;\n",
       "    }\n",
       "</style>\n",
       "<table border=\"1\" class=\"dataframe\">\n",
       "  <thead>\n",
       "    <tr style=\"text-align: right;\">\n",
       "      <th></th>\n",
       "      <th>user_id</th>\n",
       "      <th>distance</th>\n",
       "      <th>duration</th>\n",
       "      <th>date</th>\n",
       "    </tr>\n",
       "  </thead>\n",
       "  <tbody>\n",
       "    <tr>\n",
       "      <th>count</th>\n",
       "      <td>18068.000000</td>\n",
       "      <td>18068.000000</td>\n",
       "      <td>18068.000000</td>\n",
       "      <td>18068</td>\n",
       "    </tr>\n",
       "    <tr>\n",
       "      <th>mean</th>\n",
       "      <td>842.869936</td>\n",
       "      <td>3070.659976</td>\n",
       "      <td>17.805011</td>\n",
       "      <td>2021-06-30 19:47:21.266327296</td>\n",
       "    </tr>\n",
       "    <tr>\n",
       "      <th>min</th>\n",
       "      <td>1.000000</td>\n",
       "      <td>0.855683</td>\n",
       "      <td>0.500000</td>\n",
       "      <td>2021-01-01 00:00:00</td>\n",
       "    </tr>\n",
       "    <tr>\n",
       "      <th>25%</th>\n",
       "      <td>487.000000</td>\n",
       "      <td>2543.226360</td>\n",
       "      <td>13.597563</td>\n",
       "      <td>2021-04-02 00:00:00</td>\n",
       "    </tr>\n",
       "    <tr>\n",
       "      <th>50%</th>\n",
       "      <td>889.000000</td>\n",
       "      <td>3133.609994</td>\n",
       "      <td>17.678395</td>\n",
       "      <td>2021-06-30 00:00:00</td>\n",
       "    </tr>\n",
       "    <tr>\n",
       "      <th>75%</th>\n",
       "      <td>1213.250000</td>\n",
       "      <td>3776.222735</td>\n",
       "      <td>21.724800</td>\n",
       "      <td>2021-09-28 00:00:00</td>\n",
       "    </tr>\n",
       "    <tr>\n",
       "      <th>max</th>\n",
       "      <td>1534.000000</td>\n",
       "      <td>7211.007745</td>\n",
       "      <td>40.823963</td>\n",
       "      <td>2021-12-30 00:00:00</td>\n",
       "    </tr>\n",
       "    <tr>\n",
       "      <th>std</th>\n",
       "      <td>434.734317</td>\n",
       "      <td>1116.831209</td>\n",
       "      <td>6.091051</td>\n",
       "      <td>NaN</td>\n",
       "    </tr>\n",
       "  </tbody>\n",
       "</table>\n",
       "</div>"
      ],
      "text/plain": [
       "            user_id      distance      duration                           date\n",
       "count  18068.000000  18068.000000  18068.000000                          18068\n",
       "mean     842.869936   3070.659976     17.805011  2021-06-30 19:47:21.266327296\n",
       "min        1.000000      0.855683      0.500000            2021-01-01 00:00:00\n",
       "25%      487.000000   2543.226360     13.597563            2021-04-02 00:00:00\n",
       "50%      889.000000   3133.609994     17.678395            2021-06-30 00:00:00\n",
       "75%     1213.250000   3776.222735     21.724800            2021-09-28 00:00:00\n",
       "max     1534.000000   7211.007745     40.823963            2021-12-30 00:00:00\n",
       "std      434.734317   1116.831209      6.091051                            NaN"
      ]
     },
     "execution_count": 12,
     "metadata": {},
     "output_type": "execute_result"
    }
   ],
   "source": [
    "rides.describe()"
   ]
  },
  {
   "cell_type": "markdown",
   "metadata": {},
   "source": [
    "---"
   ]
  },
  {
   "cell_type": "code",
   "execution_count": 13,
   "metadata": {},
   "outputs": [],
   "source": [
    "# dataset is not presented due to copyright\n",
    "subscriptions = pd.read_csv(path)"
   ]
  },
  {
   "cell_type": "markdown",
   "metadata": {},
   "source": [
    "**Описание данных**\n",
    "\n",
    "|Название|Описание|\n",
    "|:--:|--|\n",
    "|`subscription_type`|тип подписки|\n",
    "|`minute_price`|стоимость одной минуты поездки по данной подписке|\n",
    "|`start_ride_price`|стоимость начала поездки|\n",
    "|`subscription_fee`|стоимость ежемесячного платежа|"
   ]
  },
  {
   "cell_type": "code",
   "execution_count": 14,
   "metadata": {},
   "outputs": [
    {
     "name": "stdout",
     "output_type": "stream",
     "text": [
      "<class 'pandas.core.frame.DataFrame'>\n",
      "RangeIndex: 2 entries, 0 to 1\n",
      "Data columns (total 4 columns):\n",
      " #   Column             Non-Null Count  Dtype \n",
      "---  ------             --------------  ----- \n",
      " 0   subscription_type  2 non-null      object\n",
      " 1   minute_price       2 non-null      int64 \n",
      " 2   start_ride_price   2 non-null      int64 \n",
      " 3   subscription_fee   2 non-null      int64 \n",
      "dtypes: int64(3), object(1)\n",
      "memory usage: 196.0+ bytes\n"
     ]
    }
   ],
   "source": [
    "subscriptions.info()"
   ]
  },
  {
   "cell_type": "code",
   "execution_count": 15,
   "metadata": {},
   "outputs": [
    {
     "data": {
      "text/html": [
       "<div>\n",
       "<style scoped>\n",
       "    .dataframe tbody tr th:only-of-type {\n",
       "        vertical-align: middle;\n",
       "    }\n",
       "\n",
       "    .dataframe tbody tr th {\n",
       "        vertical-align: top;\n",
       "    }\n",
       "\n",
       "    .dataframe thead th {\n",
       "        text-align: right;\n",
       "    }\n",
       "</style>\n",
       "<table border=\"1\" class=\"dataframe\">\n",
       "  <thead>\n",
       "    <tr style=\"text-align: right;\">\n",
       "      <th></th>\n",
       "      <th>minute_price</th>\n",
       "      <th>start_ride_price</th>\n",
       "      <th>subscription_fee</th>\n",
       "    </tr>\n",
       "  </thead>\n",
       "  <tbody>\n",
       "    <tr>\n",
       "      <th>count</th>\n",
       "      <td>2.000000</td>\n",
       "      <td>2.000000</td>\n",
       "      <td>2.000000</td>\n",
       "    </tr>\n",
       "    <tr>\n",
       "      <th>mean</th>\n",
       "      <td>7.000000</td>\n",
       "      <td>25.000000</td>\n",
       "      <td>99.500000</td>\n",
       "    </tr>\n",
       "    <tr>\n",
       "      <th>std</th>\n",
       "      <td>1.414214</td>\n",
       "      <td>35.355339</td>\n",
       "      <td>140.714249</td>\n",
       "    </tr>\n",
       "    <tr>\n",
       "      <th>min</th>\n",
       "      <td>6.000000</td>\n",
       "      <td>0.000000</td>\n",
       "      <td>0.000000</td>\n",
       "    </tr>\n",
       "    <tr>\n",
       "      <th>25%</th>\n",
       "      <td>6.500000</td>\n",
       "      <td>12.500000</td>\n",
       "      <td>49.750000</td>\n",
       "    </tr>\n",
       "    <tr>\n",
       "      <th>50%</th>\n",
       "      <td>7.000000</td>\n",
       "      <td>25.000000</td>\n",
       "      <td>99.500000</td>\n",
       "    </tr>\n",
       "    <tr>\n",
       "      <th>75%</th>\n",
       "      <td>7.500000</td>\n",
       "      <td>37.500000</td>\n",
       "      <td>149.250000</td>\n",
       "    </tr>\n",
       "    <tr>\n",
       "      <th>max</th>\n",
       "      <td>8.000000</td>\n",
       "      <td>50.000000</td>\n",
       "      <td>199.000000</td>\n",
       "    </tr>\n",
       "  </tbody>\n",
       "</table>\n",
       "</div>"
      ],
      "text/plain": [
       "       minute_price  start_ride_price  subscription_fee\n",
       "count      2.000000          2.000000          2.000000\n",
       "mean       7.000000         25.000000         99.500000\n",
       "std        1.414214         35.355339        140.714249\n",
       "min        6.000000          0.000000          0.000000\n",
       "25%        6.500000         12.500000         49.750000\n",
       "50%        7.000000         25.000000         99.500000\n",
       "75%        7.500000         37.500000        149.250000\n",
       "max        8.000000         50.000000        199.000000"
      ]
     },
     "execution_count": 15,
     "metadata": {},
     "output_type": "execute_result"
    }
   ],
   "source": [
    "subscriptions.describe()"
   ]
  },
  {
   "cell_type": "markdown",
   "metadata": {},
   "source": [
    "### 2.2. <a id='toc2_2_'></a>Генерация новых столбцов      [&#8593;](#toc0_)"
   ]
  },
  {
   "cell_type": "code",
   "execution_count": 16,
   "metadata": {},
   "outputs": [],
   "source": [
    "rides['month'] = rides['date'].dt.month"
   ]
  },
  {
   "cell_type": "code",
   "execution_count": 17,
   "metadata": {},
   "outputs": [
    {
     "data": {
      "text/html": [
       "<div>\n",
       "<style scoped>\n",
       "    .dataframe tbody tr th:only-of-type {\n",
       "        vertical-align: middle;\n",
       "    }\n",
       "\n",
       "    .dataframe tbody tr th {\n",
       "        vertical-align: top;\n",
       "    }\n",
       "\n",
       "    .dataframe thead th {\n",
       "        text-align: right;\n",
       "    }\n",
       "</style>\n",
       "<table border=\"1\" class=\"dataframe\">\n",
       "  <thead>\n",
       "    <tr style=\"text-align: right;\">\n",
       "      <th></th>\n",
       "      <th>user_id</th>\n",
       "      <th>distance</th>\n",
       "      <th>duration</th>\n",
       "      <th>date</th>\n",
       "      <th>month</th>\n",
       "    </tr>\n",
       "  </thead>\n",
       "  <tbody>\n",
       "    <tr>\n",
       "      <th>0</th>\n",
       "      <td>1</td>\n",
       "      <td>4409.919140</td>\n",
       "      <td>25.599769</td>\n",
       "      <td>2021-01-01</td>\n",
       "      <td>1</td>\n",
       "    </tr>\n",
       "    <tr>\n",
       "      <th>1</th>\n",
       "      <td>1</td>\n",
       "      <td>2617.592153</td>\n",
       "      <td>15.816871</td>\n",
       "      <td>2021-01-18</td>\n",
       "      <td>1</td>\n",
       "    </tr>\n",
       "    <tr>\n",
       "      <th>2</th>\n",
       "      <td>1</td>\n",
       "      <td>754.159807</td>\n",
       "      <td>6.232113</td>\n",
       "      <td>2021-04-20</td>\n",
       "      <td>4</td>\n",
       "    </tr>\n",
       "    <tr>\n",
       "      <th>3</th>\n",
       "      <td>1</td>\n",
       "      <td>2694.783254</td>\n",
       "      <td>18.511000</td>\n",
       "      <td>2021-08-11</td>\n",
       "      <td>8</td>\n",
       "    </tr>\n",
       "    <tr>\n",
       "      <th>4</th>\n",
       "      <td>1</td>\n",
       "      <td>4028.687306</td>\n",
       "      <td>26.265803</td>\n",
       "      <td>2021-08-28</td>\n",
       "      <td>8</td>\n",
       "    </tr>\n",
       "  </tbody>\n",
       "</table>\n",
       "</div>"
      ],
      "text/plain": [
       "   user_id     distance   duration       date  month\n",
       "0        1  4409.919140  25.599769 2021-01-01      1\n",
       "1        1  2617.592153  15.816871 2021-01-18      1\n",
       "2        1   754.159807   6.232113 2021-04-20      4\n",
       "3        1  2694.783254  18.511000 2021-08-11      8\n",
       "4        1  4028.687306  26.265803 2021-08-28      8"
      ]
     },
     "execution_count": 17,
     "metadata": {},
     "output_type": "execute_result"
    }
   ],
   "source": [
    "rides.head()"
   ]
  },
  {
   "cell_type": "markdown",
   "metadata": {},
   "source": [
    "### 2.3. <a id='toc2_3_'></a>Проверка полных дубликатов      [&#8593;](#toc0_)"
   ]
  },
  {
   "cell_type": "code",
   "execution_count": 18,
   "metadata": {},
   "outputs": [
    {
     "data": {
      "text/plain": [
       "31"
      ]
     },
     "execution_count": 18,
     "metadata": {},
     "output_type": "execute_result"
    }
   ],
   "source": [
    "users.duplicated().sum()"
   ]
  },
  {
   "cell_type": "code",
   "execution_count": 19,
   "metadata": {},
   "outputs": [],
   "source": [
    "users = users.drop_duplicates()"
   ]
  },
  {
   "cell_type": "code",
   "execution_count": 20,
   "metadata": {},
   "outputs": [
    {
     "data": {
      "text/plain": [
       "0"
      ]
     },
     "execution_count": 20,
     "metadata": {},
     "output_type": "execute_result"
    }
   ],
   "source": [
    "users.duplicated().sum()"
   ]
  },
  {
   "cell_type": "markdown",
   "metadata": {},
   "source": [
    "---"
   ]
  },
  {
   "cell_type": "code",
   "execution_count": 21,
   "metadata": {},
   "outputs": [
    {
     "data": {
      "text/plain": [
       "0"
      ]
     },
     "execution_count": 21,
     "metadata": {},
     "output_type": "execute_result"
    }
   ],
   "source": [
    "rides.duplicated().sum()"
   ]
  },
  {
   "cell_type": "markdown",
   "metadata": {},
   "source": [
    "---"
   ]
  },
  {
   "cell_type": "code",
   "execution_count": 22,
   "metadata": {},
   "outputs": [
    {
     "data": {
      "text/plain": [
       "0"
      ]
     },
     "execution_count": 22,
     "metadata": {},
     "output_type": "execute_result"
    }
   ],
   "source": [
    "subscriptions.duplicated().sum()"
   ]
  },
  {
   "cell_type": "markdown",
   "metadata": {},
   "source": [
    "### 2.4. <a id='toc2_4_'></a>Обработка неявных дубликатов      [&#8593;](#toc0_)"
   ]
  },
  {
   "cell_type": "code",
   "execution_count": 23,
   "metadata": {},
   "outputs": [
    {
     "data": {
      "text/plain": [
       "['Агата',\n",
       " 'Аделина',\n",
       " 'Адель',\n",
       " 'Айдар',\n",
       " 'Александр',\n",
       " 'Александра',\n",
       " 'Алексей',\n",
       " 'Алина',\n",
       " 'Алиса',\n",
       " 'Алия',\n",
       " 'Алла',\n",
       " 'Альберт',\n",
       " 'Альбина',\n",
       " 'Алёна',\n",
       " 'Амалия',\n",
       " 'Амина',\n",
       " 'Амир',\n",
       " 'Анастасия',\n",
       " 'Анатолий',\n",
       " 'Ангелина',\n",
       " 'Андрей',\n",
       " 'Анжелика',\n",
       " 'Анна',\n",
       " 'Антон',\n",
       " 'Антонина',\n",
       " 'Ариана',\n",
       " 'Арина',\n",
       " 'Арсен',\n",
       " 'Арсений',\n",
       " 'Артемий',\n",
       " 'Артур',\n",
       " 'Артём',\n",
       " 'Богдан',\n",
       " 'Борис',\n",
       " 'Вадим',\n",
       " 'Валентина',\n",
       " 'Валерий',\n",
       " 'Валерия',\n",
       " 'Варвара',\n",
       " 'Василий',\n",
       " 'Василина',\n",
       " 'Василиса',\n",
       " 'Вера',\n",
       " 'Вероника',\n",
       " 'Виктор',\n",
       " 'Виктория',\n",
       " 'Виолетта',\n",
       " 'Виталий',\n",
       " 'Виталина',\n",
       " 'Влад',\n",
       " 'Влада',\n",
       " 'Владимир',\n",
       " 'Владислав',\n",
       " 'Владислава',\n",
       " 'Всеволод',\n",
       " 'Вячеслав',\n",
       " 'Галина',\n",
       " 'Георгий',\n",
       " 'Герман',\n",
       " 'Глеб',\n",
       " 'Гордей',\n",
       " 'Григорий',\n",
       " 'Давид',\n",
       " 'Дамир',\n",
       " 'Даниил',\n",
       " 'Данил',\n",
       " 'Данила',\n",
       " 'Даниэль',\n",
       " 'Дарина',\n",
       " 'Дарья',\n",
       " 'Демид',\n",
       " 'Денис',\n",
       " 'Диана',\n",
       " 'Дмитрий',\n",
       " 'Ева',\n",
       " 'Евгений',\n",
       " 'Евгения',\n",
       " 'Егор',\n",
       " 'Екатерина',\n",
       " 'Елена',\n",
       " 'Елизавета',\n",
       " 'Елисей',\n",
       " 'Есения',\n",
       " 'Жанна',\n",
       " 'Зарина',\n",
       " 'Захар',\n",
       " 'Злата',\n",
       " 'Иван',\n",
       " 'Игнат',\n",
       " 'Игорь',\n",
       " 'Ильдар',\n",
       " 'Илья',\n",
       " 'Инна',\n",
       " 'Ирина',\n",
       " 'Камилла',\n",
       " 'Карина',\n",
       " 'Каролина',\n",
       " 'Кира',\n",
       " 'Кирилл',\n",
       " 'Константин',\n",
       " 'Кристина',\n",
       " 'Ксения',\n",
       " 'Лариса',\n",
       " 'Лев',\n",
       " 'Леонид',\n",
       " 'Лиана',\n",
       " 'Лидия',\n",
       " 'Лилия',\n",
       " 'Любовь',\n",
       " 'Людмила',\n",
       " 'Мадина',\n",
       " 'Майя',\n",
       " 'Макар',\n",
       " 'Максим',\n",
       " 'Марат',\n",
       " 'Маргарита',\n",
       " 'Марина',\n",
       " 'Мария',\n",
       " 'Марк',\n",
       " 'Марсель',\n",
       " 'Матвей',\n",
       " 'Мелания',\n",
       " 'Милана',\n",
       " 'Милена',\n",
       " 'Мирон',\n",
       " 'Мирослав',\n",
       " 'Мирослава',\n",
       " 'Михаил',\n",
       " 'Назар',\n",
       " 'Наталия',\n",
       " 'Наталья',\n",
       " 'Наташа',\n",
       " 'Нелли',\n",
       " 'Ника',\n",
       " 'Никита',\n",
       " 'Николай',\n",
       " 'Нина',\n",
       " 'Одиссей',\n",
       " 'Оксана',\n",
       " 'Олег',\n",
       " 'Олеся',\n",
       " 'Ольга',\n",
       " 'Павел',\n",
       " 'Петр',\n",
       " 'Платон',\n",
       " 'Полина',\n",
       " 'Радмир',\n",
       " 'Рамиль',\n",
       " 'Регина',\n",
       " 'Роберт',\n",
       " 'Родион',\n",
       " 'Роман',\n",
       " 'Ростислав',\n",
       " 'Руслан',\n",
       " 'Рустам',\n",
       " 'Савелий',\n",
       " 'Самир',\n",
       " 'Самира',\n",
       " 'Светлана',\n",
       " 'Святогор',\n",
       " 'Святослав',\n",
       " 'Семен',\n",
       " 'Сергей',\n",
       " 'Снежана',\n",
       " 'София',\n",
       " 'Софья',\n",
       " 'Станислав',\n",
       " 'Степан',\n",
       " 'Стефания',\n",
       " 'Таисия',\n",
       " 'Тамара',\n",
       " 'Тамерлан',\n",
       " 'Татьяна',\n",
       " 'Тимофей',\n",
       " 'Тимур',\n",
       " 'Тихон',\n",
       " 'Ульяна',\n",
       " 'Федор',\n",
       " 'Эвелина',\n",
       " 'Эдуард',\n",
       " 'Элина',\n",
       " 'Эльвира',\n",
       " 'Эльмира',\n",
       " 'Эмилия',\n",
       " 'Эмиль',\n",
       " 'Юлиана',\n",
       " 'Юлия',\n",
       " 'Юрий',\n",
       " 'Ян',\n",
       " 'Яна',\n",
       " 'Яромир',\n",
       " 'Ярослав',\n",
       " 'Ярослава',\n",
       " 'Ясмина']"
      ]
     },
     "execution_count": 23,
     "metadata": {},
     "output_type": "execute_result"
    }
   ],
   "source": [
    "sorted(users['name'].unique())"
   ]
  },
  {
   "cell_type": "code",
   "execution_count": 24,
   "metadata": {},
   "outputs": [
    {
     "data": {
      "text/plain": [
       "array(['Тюмень', 'Омск', 'Москва', 'Ростов-на-Дону', 'Краснодар',\n",
       "       'Пятигорск', 'Екатеринбург', 'Сочи'], dtype=object)"
      ]
     },
     "execution_count": 24,
     "metadata": {},
     "output_type": "execute_result"
    }
   ],
   "source": [
    "users['city'].unique()"
   ]
  },
  {
   "cell_type": "code",
   "execution_count": 25,
   "metadata": {},
   "outputs": [
    {
     "data": {
      "text/plain": [
       "array(['ultra', 'free'], dtype=object)"
      ]
     },
     "execution_count": 25,
     "metadata": {},
     "output_type": "execute_result"
    }
   ],
   "source": [
    "users['subscription_type'].unique()"
   ]
  },
  {
   "cell_type": "markdown",
   "metadata": {},
   "source": [
    "### 2.5. <a id='toc2_5_'></a>Проверка пропущенных значений      [&#8593;](#toc0_)"
   ]
  },
  {
   "cell_type": "code",
   "execution_count": 26,
   "metadata": {},
   "outputs": [
    {
     "name": "stdout",
     "output_type": "stream",
     "text": [
      "+-------------------+----------------------+\n",
      "|      Feature      | Missing values count |\n",
      "+-------------------+----------------------+\n",
      "|      user_id      |      \u001b[32m0 (0.00%)\u001b[0m       |\n",
      "|        name       |      \u001b[32m0 (0.00%)\u001b[0m       |\n",
      "|        age        |      \u001b[32m0 (0.00%)\u001b[0m       |\n",
      "|        city       |      \u001b[32m0 (0.00%)\u001b[0m       |\n",
      "| subscription_type |      \u001b[32m0 (0.00%)\u001b[0m       |\n",
      "+-------------------+----------------------+\n"
     ]
    }
   ],
   "source": [
    "print_table_about_nans(users)"
   ]
  },
  {
   "cell_type": "code",
   "execution_count": 27,
   "metadata": {},
   "outputs": [
    {
     "name": "stdout",
     "output_type": "stream",
     "text": [
      "+----------+----------------------+\n",
      "| Feature  | Missing values count |\n",
      "+----------+----------------------+\n",
      "| user_id  |      \u001b[32m0 (0.00%)\u001b[0m       |\n",
      "| distance |      \u001b[32m0 (0.00%)\u001b[0m       |\n",
      "| duration |      \u001b[32m0 (0.00%)\u001b[0m       |\n",
      "|   date   |      \u001b[32m0 (0.00%)\u001b[0m       |\n",
      "|  month   |      \u001b[32m0 (0.00%)\u001b[0m       |\n",
      "+----------+----------------------+\n"
     ]
    }
   ],
   "source": [
    "print_table_about_nans(rides)"
   ]
  },
  {
   "cell_type": "code",
   "execution_count": 28,
   "metadata": {},
   "outputs": [
    {
     "name": "stdout",
     "output_type": "stream",
     "text": [
      "+-------------------+----------------------+\n",
      "|      Feature      | Missing values count |\n",
      "+-------------------+----------------------+\n",
      "| subscription_type |      \u001b[32m0 (0.00%)\u001b[0m       |\n",
      "|    minute_price   |      \u001b[32m0 (0.00%)\u001b[0m       |\n",
      "|  start_ride_price |      \u001b[32m0 (0.00%)\u001b[0m       |\n",
      "|  subscription_fee |      \u001b[32m0 (0.00%)\u001b[0m       |\n",
      "+-------------------+----------------------+\n"
     ]
    }
   ],
   "source": [
    "print_table_about_nans(subscriptions)"
   ]
  },
  {
   "cell_type": "markdown",
   "metadata": {},
   "source": [
    "Как мы видим ни в одном датафрейме нет пропущенных значений."
   ]
  },
  {
   "cell_type": "markdown",
   "metadata": {},
   "source": [
    "### 2.6. <a id='toc2_6_'></a>Промежуточный вывод  [&#8593;](#toc0_)"
   ]
  },
  {
   "cell_type": "markdown",
   "metadata": {},
   "source": [
    "Все датафреймы были обработаны:\n",
    "\n",
    "- Изменены типы данных\n",
    "- Удалены полные дубликаты\n",
    "- Проверены неявные дубликаты\n",
    "- Проверены пропуски"
   ]
  },
  {
   "cell_type": "markdown",
   "metadata": {},
   "source": [
    "## 3. <a id='toc3_'></a>Исследовательский анализ данных (EDA)      [&#8593;](#toc0_)"
   ]
  },
  {
   "cell_type": "markdown",
   "metadata": {},
   "source": [
    "### 3.1. <a id='toc3_1_'></a>Города пользователей      [&#8593;](#toc0_)"
   ]
  },
  {
   "cell_type": "code",
   "execution_count": 29,
   "metadata": {},
   "outputs": [
    {
     "data": {
      "image/png": "[encoded data removed]",
      "text/plain": [
       "<Figure size 1200x500 with 1 Axes>"
      ]
     },
     "metadata": {},
     "output_type": "display_data"
    }
   ],
   "source": [
    "plt.figure(figsize=(12, 5))\n",
    "ax = sns.countplot(data=users,\n",
    "                   x='city',\n",
    "                   order=users['city']\n",
    "                       .value_counts()\n",
    "                       .sort_values()\n",
    "                       .index)\n",
    "plt.grid(axis='y')\n",
    "ax.bar_label(ax.containers[0]);\n",
    "ax.set_title('Частота встречаемости городов', fontsize=18)\n",
    "ax.set_xlabel('Город', fontsize=14)\n",
    "ax.set_ylabel('Количество', fontsize=14)\n",
    "plt.show()"
   ]
  },
  {
   "cell_type": "markdown",
   "metadata": {},
   "source": [
    "О каждом городе примерно одинаковое количество информации. Меньше всего информации о Москве (`168` пользователей), а больше всего о Пятигорске (`219` пользователей)."
   ]
  },
  {
   "cell_type": "markdown",
   "metadata": {},
   "source": [
    "---"
   ]
  },
  {
   "cell_type": "markdown",
   "metadata": {},
   "source": [
    "### 3.2. <a id='toc3_2_'></a>Тип подписки      [&#8593;](#toc0_)"
   ]
  },
  {
   "cell_type": "code",
   "execution_count": 30,
   "metadata": {
    "scrolled": true
   },
   "outputs": [
    {
     "data": {
      "image/png": "[encoded data removed]",
      "text/plain": [
       "<Figure size 640x480 with 1 Axes>"
      ]
     },
     "metadata": {},
     "output_type": "display_data"
    }
   ],
   "source": [
    "_table = users.value_counts('subscription_type')\n",
    "data, labels = _table.values, _table.index\n",
    "plt.pie(data, labels=labels, autopct='%.0f%%', colors=['tab:red', 'tab:green'])\n",
    "plt.title('Соотношение пользователей с подпиской и без')\n",
    "plt.show()"
   ]
  },
  {
   "cell_type": "markdown",
   "metadata": {},
   "source": [
    "По результатам графика можно сделать вывод, что пользователей без подписки на `8 п.п.` больше, чем с подпиской."
   ]
  },
  {
   "cell_type": "markdown",
   "metadata": {},
   "source": [
    "---"
   ]
  },
  {
   "cell_type": "markdown",
   "metadata": {},
   "source": [
    "### 3.3. <a id='toc3_3_'></a>Возраст пользователей      [&#8593;](#toc0_)"
   ]
  },
  {
   "cell_type": "code",
   "execution_count": 31,
   "metadata": {},
   "outputs": [
    {
     "data": {
      "text/plain": [
       "count    1534.000000\n",
       "mean       24.903520\n",
       "std         4.572367\n",
       "min        12.000000\n",
       "25%        22.000000\n",
       "50%        25.000000\n",
       "75%        28.000000\n",
       "max        43.000000\n",
       "Name: age, dtype: float64"
      ]
     },
     "execution_count": 31,
     "metadata": {},
     "output_type": "execute_result"
    }
   ],
   "source": [
    "users['age'].describe()"
   ]
  },
  {
   "cell_type": "code",
   "execution_count": 32,
   "metadata": {},
   "outputs": [
    {
     "name": "stdout",
     "output_type": "stream",
     "text": [
      "[16.0; 34.0]\n"
     ]
    }
   ],
   "source": [
    "_iqr = st.iqr(users['age'])\n",
    "_q1, _q3 = np.quantile(users['age'], [0.25, 0.75])\n",
    "print(f'[{_q1 - _iqr}; {_q3 + _iqr}]')"
   ]
  },
  {
   "cell_type": "code",
   "execution_count": 33,
   "metadata": {},
   "outputs": [
    {
     "data": {
      "image/png": "[encoded data removed]",
      "text/plain": [
       "<Figure size 1200x1000 with 4 Axes>"
      ]
     },
     "metadata": {},
     "output_type": "display_data"
    }
   ],
   "source": [
    "draw_plots_about_column(users, 'age', 'Возраст', 10)"
   ]
  },
  {
   "cell_type": "markdown",
   "metadata": {},
   "source": [
    "Возраст пользователей имеет форму нормального распределения. Аномальных значений нет, а выбросы хоть и есть, но они являются вполне реальными значениями.\n",
    "\n",
    "Минимальный возраст, о котором представлена информация - 12 лет, а максимальный - 43 года. Основная возрастная группа - от 16 до 34 лет, а средний возраст составляет 25 лет."
   ]
  },
  {
   "cell_type": "markdown",
   "metadata": {},
   "source": [
    "---"
   ]
  },
  {
   "cell_type": "markdown",
   "metadata": {},
   "source": [
    "### 3.4. <a id='toc3_4_'></a>Расстояние за 1 поездку      [&#8593;](#toc0_)"
   ]
  },
  {
   "cell_type": "code",
   "execution_count": 34,
   "metadata": {},
   "outputs": [
    {
     "data": {
      "text/plain": [
       "count    18068.000000\n",
       "mean      3070.659976\n",
       "std       1116.831209\n",
       "min          0.855683\n",
       "25%       2543.226360\n",
       "50%       3133.609994\n",
       "75%       3776.222735\n",
       "max       7211.007745\n",
       "Name: distance, dtype: float64"
      ]
     },
     "execution_count": 34,
     "metadata": {},
     "output_type": "execute_result"
    }
   ],
   "source": [
    "rides['distance'].describe()"
   ]
  },
  {
   "cell_type": "code",
   "execution_count": 35,
   "metadata": {},
   "outputs": [
    {
     "name": "stdout",
     "output_type": "stream",
     "text": [
      "[1310.2299846149685; 5009.219110682625]\n"
     ]
    }
   ],
   "source": [
    "_iqr = st.iqr(rides['distance'])\n",
    "_q1, _q3 = np.quantile(rides['distance'], [0.25, 0.75])\n",
    "print(f'[{_q1 - _iqr}; {_q3 + _iqr}]')"
   ]
  },
  {
   "cell_type": "code",
   "execution_count": 36,
   "metadata": {},
   "outputs": [
    {
     "data": {
      "image/png": "[encoded data removed]",
      "text/plain": [
       "<Figure size 1200x1000 with 4 Axes>"
      ]
     },
     "metadata": {},
     "output_type": "display_data"
    }
   ],
   "source": [
    "draw_plots_about_column(rides, 'distance', 'Расстояние за 1 поездку')"
   ]
  },
  {
   "cell_type": "markdown",
   "metadata": {},
   "source": [
    "Расстояние за 1 поездку также имеет форму нормального распределения. Однако есть небольшой пик в поездках до `1000 м.`\n",
    "\n",
    "Самая короткая поездка меньше метра, а самая длинная - более 7 км, целых `7211м`. Основная часть поездок находится в диапозоне от `1310` метров до `5009` метров. При этом средняя поездка составляет около `3км`."
   ]
  },
  {
   "cell_type": "markdown",
   "metadata": {},
   "source": [
    "### 3.5. <a id='toc3_5_'></a>Продолжительность поездок [&#8593;](#toc0_)"
   ]
  },
  {
   "cell_type": "code",
   "execution_count": 37,
   "metadata": {},
   "outputs": [
    {
     "data": {
      "text/plain": [
       "count    18068.000000\n",
       "mean        17.805011\n",
       "std          6.091051\n",
       "min          0.500000\n",
       "25%         13.597563\n",
       "50%         17.678395\n",
       "75%         21.724800\n",
       "max         40.823963\n",
       "Name: duration, dtype: float64"
      ]
     },
     "execution_count": 37,
     "metadata": {},
     "output_type": "execute_result"
    }
   ],
   "source": [
    "rides['duration'].describe()"
   ]
  },
  {
   "cell_type": "code",
   "execution_count": 38,
   "metadata": {},
   "outputs": [
    {
     "name": "stdout",
     "output_type": "stream",
     "text": [
      "[5.470325678700483; 29.85203719033973]\n"
     ]
    }
   ],
   "source": [
    "_iqr = st.iqr(rides['duration'])\n",
    "_q1, _q3 = np.quantile(rides['duration'], [0.25, 0.75])\n",
    "print(f'[{_q1 - _iqr}; {_q3 + _iqr}]')"
   ]
  },
  {
   "cell_type": "code",
   "execution_count": 39,
   "metadata": {},
   "outputs": [
    {
     "data": {
      "image/png": "[encoded data removed]",
      "text/plain": [
       "<Figure size 1200x1000 with 4 Axes>"
      ]
     },
     "metadata": {},
     "output_type": "display_data"
    }
   ],
   "source": [
    "draw_plots_about_column(rides, 'duration', 'Продолжительность поездок', 10)"
   ]
  },
  {
   "cell_type": "markdown",
   "metadata": {},
   "source": [
    "Продолжительность поездок также имеет форму нормального распределения. Самая короткая поездка длилась всего полминуты, а самая длинная почти `41` минуту. БОльшая часть поездок имеет длительность от `5.5` до `30` минут. При этом средняя длительность поездки - около `18` минут."
   ]
  },
  {
   "cell_type": "markdown",
   "metadata": {},
   "source": [
    "---"
   ]
  },
  {
   "cell_type": "markdown",
   "metadata": {},
   "source": [
    "### 3.6. <a id='toc3_6_'></a>Вывод по исследовательскому анализу данных      [&#8593;](#toc0_)"
   ]
  },
  {
   "cell_type": "markdown",
   "metadata": {},
   "source": [
    "**Города**  \n",
    "О каждом городе примерно одинаковое количество информации. Меньше всего информации о Москве (`168` пользователей), а больше всего о Пятигорске (`219` пользователей).\n",
    "\n",
    "**Наличие подписки**  \n",
    "Можно сделать вывод, что пользователей без подписки на `8 п.п.` больше, чем с подпиской.\n",
    "\n",
    "**Возраст**  \n",
    "Возраст пользователей имеет форму нормального распределения. Аномальных значений нет, а выбросы хоть и есть, но они являются вполне реальными значениями.  \n",
    "Минимальный возраст, о котором представлена информация - 12 лет, а максимальный - 43 года. Основная возрастная группа - от 16 до 34 лет, а средний возраст составляет 25 лет.\n",
    "\n",
    "\n",
    "**Расстояние 1 поездки**  \n",
    "Расстояние за 1 поездку также имеет форму нормального распределения. Однако есть небольшой пик в поездках до `1000 м.`  \n",
    "Самая короткая поездка меньше метра, а самая длинная - более 7 км, целых `7211м`. Основная часть поездок находится в диапозоне от `1310` метров до `5009` метров. При этом средняя поездка составляет около `3км`.\n",
    "\n",
    "\n",
    "**Продолжительность одной поездки**  \n",
    "Продолжительность поездок также имеет форму нормального распределения. Самая короткая поездка длилась всего полминуты, а самая длинная почти `41` минуту. БОльшая часть поездок имеет длительность от `5.5` до `30` минут. При этом средняя длительность поездки - около `18` минут."
   ]
  },
  {
   "cell_type": "markdown",
   "metadata": {},
   "source": [
    "## 4. <a id='toc4_'></a>Объединение данных      [&#8593;](#toc0_)"
   ]
  },
  {
   "cell_type": "markdown",
   "metadata": {},
   "source": [
    "### 4.1. <a id='toc4_1_'></a>Объединение      [&#8593;](#toc0_)"
   ]
  },
  {
   "cell_type": "code",
   "execution_count": 40,
   "metadata": {},
   "outputs": [
    {
     "data": {
      "text/plain": [
       "(18068, 5)"
      ]
     },
     "execution_count": 40,
     "metadata": {},
     "output_type": "execute_result"
    }
   ],
   "source": [
    "rides.shape"
   ]
  },
  {
   "cell_type": "code",
   "execution_count": 41,
   "metadata": {},
   "outputs": [
    {
     "data": {
      "text/html": [
       "<div>\n",
       "<style scoped>\n",
       "    .dataframe tbody tr th:only-of-type {\n",
       "        vertical-align: middle;\n",
       "    }\n",
       "\n",
       "    .dataframe tbody tr th {\n",
       "        vertical-align: top;\n",
       "    }\n",
       "\n",
       "    .dataframe thead th {\n",
       "        text-align: right;\n",
       "    }\n",
       "</style>\n",
       "<table border=\"1\" class=\"dataframe\">\n",
       "  <thead>\n",
       "    <tr style=\"text-align: right;\">\n",
       "      <th></th>\n",
       "      <th>user_id</th>\n",
       "      <th>name</th>\n",
       "      <th>age</th>\n",
       "      <th>city</th>\n",
       "      <th>subscription_type</th>\n",
       "      <th>minute_price</th>\n",
       "      <th>start_ride_price</th>\n",
       "      <th>subscription_fee</th>\n",
       "      <th>distance</th>\n",
       "      <th>duration</th>\n",
       "      <th>date</th>\n",
       "      <th>month</th>\n",
       "    </tr>\n",
       "  </thead>\n",
       "  <tbody>\n",
       "    <tr>\n",
       "      <th>0</th>\n",
       "      <td>1</td>\n",
       "      <td>Кира</td>\n",
       "      <td>22</td>\n",
       "      <td>Тюмень</td>\n",
       "      <td>ultra</td>\n",
       "      <td>6</td>\n",
       "      <td>0</td>\n",
       "      <td>199</td>\n",
       "      <td>4409.919140</td>\n",
       "      <td>25.599769</td>\n",
       "      <td>2021-01-01</td>\n",
       "      <td>1</td>\n",
       "    </tr>\n",
       "    <tr>\n",
       "      <th>1</th>\n",
       "      <td>1</td>\n",
       "      <td>Кира</td>\n",
       "      <td>22</td>\n",
       "      <td>Тюмень</td>\n",
       "      <td>ultra</td>\n",
       "      <td>6</td>\n",
       "      <td>0</td>\n",
       "      <td>199</td>\n",
       "      <td>2617.592153</td>\n",
       "      <td>15.816871</td>\n",
       "      <td>2021-01-18</td>\n",
       "      <td>1</td>\n",
       "    </tr>\n",
       "    <tr>\n",
       "      <th>2</th>\n",
       "      <td>1</td>\n",
       "      <td>Кира</td>\n",
       "      <td>22</td>\n",
       "      <td>Тюмень</td>\n",
       "      <td>ultra</td>\n",
       "      <td>6</td>\n",
       "      <td>0</td>\n",
       "      <td>199</td>\n",
       "      <td>754.159807</td>\n",
       "      <td>6.232113</td>\n",
       "      <td>2021-04-20</td>\n",
       "      <td>4</td>\n",
       "    </tr>\n",
       "    <tr>\n",
       "      <th>3</th>\n",
       "      <td>1</td>\n",
       "      <td>Кира</td>\n",
       "      <td>22</td>\n",
       "      <td>Тюмень</td>\n",
       "      <td>ultra</td>\n",
       "      <td>6</td>\n",
       "      <td>0</td>\n",
       "      <td>199</td>\n",
       "      <td>2694.783254</td>\n",
       "      <td>18.511000</td>\n",
       "      <td>2021-08-11</td>\n",
       "      <td>8</td>\n",
       "    </tr>\n",
       "    <tr>\n",
       "      <th>4</th>\n",
       "      <td>1</td>\n",
       "      <td>Кира</td>\n",
       "      <td>22</td>\n",
       "      <td>Тюмень</td>\n",
       "      <td>ultra</td>\n",
       "      <td>6</td>\n",
       "      <td>0</td>\n",
       "      <td>199</td>\n",
       "      <td>4028.687306</td>\n",
       "      <td>26.265803</td>\n",
       "      <td>2021-08-28</td>\n",
       "      <td>8</td>\n",
       "    </tr>\n",
       "  </tbody>\n",
       "</table>\n",
       "</div>"
      ],
      "text/plain": [
       "   user_id  name  age    city subscription_type  minute_price  \\\n",
       "0        1  Кира   22  Тюмень             ultra             6   \n",
       "1        1  Кира   22  Тюмень             ultra             6   \n",
       "2        1  Кира   22  Тюмень             ultra             6   \n",
       "3        1  Кира   22  Тюмень             ultra             6   \n",
       "4        1  Кира   22  Тюмень             ultra             6   \n",
       "\n",
       "   start_ride_price  subscription_fee     distance   duration       date  \\\n",
       "0                 0               199  4409.919140  25.599769 2021-01-01   \n",
       "1                 0               199  2617.592153  15.816871 2021-01-18   \n",
       "2                 0               199   754.159807   6.232113 2021-04-20   \n",
       "3                 0               199  2694.783254  18.511000 2021-08-11   \n",
       "4                 0               199  4028.687306  26.265803 2021-08-28   \n",
       "\n",
       "   month  \n",
       "0      1  \n",
       "1      1  \n",
       "2      4  \n",
       "3      8  \n",
       "4      8  "
      ]
     },
     "execution_count": 41,
     "metadata": {},
     "output_type": "execute_result"
    }
   ],
   "source": [
    "df = pd.merge(left=users, right=subscriptions, on='subscription_type').merge(right=rides, on='user_id')\n",
    "df.head()"
   ]
  },
  {
   "cell_type": "code",
   "execution_count": 42,
   "metadata": {},
   "outputs": [
    {
     "data": {
      "text/plain": [
       "(18068, 12)"
      ]
     },
     "execution_count": 42,
     "metadata": {},
     "output_type": "execute_result"
    }
   ],
   "source": [
    "df.shape"
   ]
  },
  {
   "cell_type": "code",
   "execution_count": 43,
   "metadata": {},
   "outputs": [
    {
     "name": "stdout",
     "output_type": "stream",
     "text": [
      "<class 'pandas.core.frame.DataFrame'>\n",
      "RangeIndex: 18068 entries, 0 to 18067\n",
      "Data columns (total 12 columns):\n",
      " #   Column             Non-Null Count  Dtype         \n",
      "---  ------             --------------  -----         \n",
      " 0   user_id            18068 non-null  int64         \n",
      " 1   name               18068 non-null  object        \n",
      " 2   age                18068 non-null  int64         \n",
      " 3   city               18068 non-null  object        \n",
      " 4   subscription_type  18068 non-null  object        \n",
      " 5   minute_price       18068 non-null  int64         \n",
      " 6   start_ride_price   18068 non-null  int64         \n",
      " 7   subscription_fee   18068 non-null  int64         \n",
      " 8   distance           18068 non-null  float64       \n",
      " 9   duration           18068 non-null  float64       \n",
      " 10  date               18068 non-null  datetime64[ns]\n",
      " 11  month              18068 non-null  int32         \n",
      "dtypes: datetime64[ns](1), float64(2), int32(1), int64(5), object(3)\n",
      "memory usage: 1.6+ MB\n"
     ]
    }
   ],
   "source": [
    "df.info()"
   ]
  },
  {
   "cell_type": "code",
   "execution_count": 44,
   "metadata": {},
   "outputs": [
    {
     "data": {
      "text/plain": [
       "0"
      ]
     },
     "execution_count": 44,
     "metadata": {},
     "output_type": "execute_result"
    }
   ],
   "source": [
    "df.duplicated().sum()"
   ]
  },
  {
   "cell_type": "code",
   "execution_count": 45,
   "metadata": {},
   "outputs": [],
   "source": [
    "_mask = df['subscription_type'] == 'ultra'\n",
    "df_s = df[_mask]\n",
    "df_ws = df[~_mask]"
   ]
  },
  {
   "cell_type": "markdown",
   "metadata": {},
   "source": [
    "### 4.2. <a id='toc4_2_'></a>Визуализация различий      [&#8593;](#toc0_)"
   ]
  },
  {
   "cell_type": "code",
   "execution_count": 46,
   "metadata": {},
   "outputs": [],
   "source": [
    "_table_s = df_s['duration'].agg(['mean', 'median'])\n",
    "_table_ws = df_ws['duration'].agg(['mean', 'median'])"
   ]
  },
  {
   "cell_type": "code",
   "execution_count": 47,
   "metadata": {},
   "outputs": [
    {
     "data": {
      "text/plain": [
       "mean      18.541985\n",
       "median    18.178153\n",
       "Name: duration, dtype: float64"
      ]
     },
     "execution_count": 47,
     "metadata": {},
     "output_type": "execute_result"
    }
   ],
   "source": [
    "_table_s"
   ]
  },
  {
   "cell_type": "code",
   "execution_count": 48,
   "metadata": {},
   "outputs": [
    {
     "data": {
      "text/plain": [
       "mean      17.390909\n",
       "median    17.326890\n",
       "Name: duration, dtype: float64"
      ]
     },
     "execution_count": 48,
     "metadata": {},
     "output_type": "execute_result"
    }
   ],
   "source": [
    "_table_ws"
   ]
  },
  {
   "cell_type": "code",
   "execution_count": 49,
   "metadata": {},
   "outputs": [
    {
     "data": {
      "image/png": "[encoded data removed]",
      "text/plain": [
       "<Figure size 1200x500 with 2 Axes>"
      ]
     },
     "metadata": {},
     "output_type": "display_data"
    }
   ],
   "source": [
    "_, (ax1, ax2) = plt.subplots(1, 2, figsize=(12, 5))\n",
    "\n",
    "bars = ax1.bar(['С подпиской', 'Без подписки'],\n",
    "        [_table_s['mean'], _table_ws['mean']],\n",
    "        color=['tab:green', 'tab:red'])\n",
    "for bar in bars:\n",
    "    yval = bar.get_height()\n",
    "    ax1.text(bar.get_x() + bar.get_width()/2, yval, round(yval, 2), ha='center', va='bottom')\n",
    "ax1.set_title('Соотношение средней длительности')\n",
    "\n",
    "\n",
    "bars = ax2.bar(['С подпиской', 'Без подписки'],\n",
    "        [_table_s['median'], _table_ws['median']],\n",
    "        color=['tab:green', 'tab:red'])\n",
    "for bar in bars:\n",
    "    yval = bar.get_height()\n",
    "    ax2.text(bar.get_x() + bar.get_width()/2, yval, round(yval, 2), ha='center', va='bottom')\n",
    "ax2.set_title('Соотношение медианной длительности');"
   ]
  },
  {
   "cell_type": "markdown",
   "metadata": {},
   "source": [
    "---"
   ]
  },
  {
   "cell_type": "code",
   "execution_count": 50,
   "metadata": {},
   "outputs": [],
   "source": [
    "_table_s = df_s['distance'].agg(['mean', 'median'])\n",
    "_table_ws = df_ws['distance'].agg(['mean', 'median'])"
   ]
  },
  {
   "cell_type": "code",
   "execution_count": 51,
   "metadata": {},
   "outputs": [
    {
     "data": {
      "text/plain": [
       "mean      3115.445388\n",
       "median    3148.637229\n",
       "Name: distance, dtype: float64"
      ]
     },
     "execution_count": 51,
     "metadata": {},
     "output_type": "execute_result"
    }
   ],
   "source": [
    "_table_s"
   ]
  },
  {
   "cell_type": "code",
   "execution_count": 52,
   "metadata": {},
   "outputs": [
    {
     "data": {
      "text/plain": [
       "mean      3045.495282\n",
       "median    3114.648465\n",
       "Name: distance, dtype: float64"
      ]
     },
     "execution_count": 52,
     "metadata": {},
     "output_type": "execute_result"
    }
   ],
   "source": [
    "_table_ws"
   ]
  },
  {
   "cell_type": "code",
   "execution_count": 53,
   "metadata": {},
   "outputs": [
    {
     "data": {
      "image/png": "[encoded data removed]",
      "text/plain": [
       "<Figure size 1200x500 with 2 Axes>"
      ]
     },
     "metadata": {},
     "output_type": "display_data"
    }
   ],
   "source": [
    "_, (ax1, ax2) = plt.subplots(1, 2, figsize=(12, 5))\n",
    "\n",
    "bars = ax1.bar(['С подпиской', 'Без подписки'],\n",
    "        [_table_s['mean'], _table_ws['mean']],\n",
    "        color=['tab:green', 'tab:red'])\n",
    "for bar in bars:\n",
    "    yval = bar.get_height()\n",
    "    ax1.text(bar.get_x() + bar.get_width()/2, yval, round(yval, 2), ha='center', va='bottom')\n",
    "ax1.set_title('Соотношение среднего расстояния')\n",
    "\n",
    "\n",
    "bars = ax2.bar(['С подпиской', 'Без подписки'],\n",
    "        [_table_s['median'], _table_ws['median']],\n",
    "        color=['tab:green', 'tab:red'])\n",
    "for bar in bars:\n",
    "    yval = bar.get_height()\n",
    "    ax2.text(bar.get_x() + bar.get_width()/2, yval, round(yval, 2), ha='center', va='bottom')\n",
    "ax2.set_title('Соотношение медианного расстояния');"
   ]
  },
  {
   "cell_type": "markdown",
   "metadata": {},
   "source": [
    "### 4.3. <a id='toc4_3_'></a>Вывод по объединению данных      [&#8593;](#toc0_)"
   ]
  },
  {
   "cell_type": "markdown",
   "metadata": {},
   "source": [
    "Все 3 исходных датафрейма была объединены в один. Далее на основе были сформированы еще 2 датафрейма:\n",
    "- `df_s` - информация о поездках пользователей С подпиской\n",
    "- `df_ws` - информация о поездках пользователей БЕЗ подписки\n",
    "\n",
    "У пользователей с подпиской и без нет кардинальных различий в длительности и расстоянии поездок. Медианная длительности у пользователей с подпиской больше на `1` минуту. Также расстояние у них чуть больше - на `4 метра`. Однако, учитывая, что медиана равна `3.1 км`, такую разницу можно объяснить статистической погрешностью."
   ]
  },
  {
   "cell_type": "markdown",
   "metadata": {},
   "source": [
    "## 5. <a id='toc5_'></a>Подсчет выручки      [&#8593;](#toc0_)"
   ]
  },
  {
   "cell_type": "code",
   "execution_count": 54,
   "metadata": {},
   "outputs": [],
   "source": [
    "df['duration'] = np.ceil(df['duration'])"
   ]
  },
  {
   "cell_type": "code",
   "execution_count": 55,
   "metadata": {},
   "outputs": [],
   "source": [
    "income = df.groupby(['user_id', 'month']).agg({\n",
    "    'distance': ['sum', 'count'],\n",
    "    'duration': 'sum'\n",
    "})\n",
    "income.columns = ['total_distance', 'rides_count', 'total_duration']\n",
    "income = pd.merge(\n",
    "    left=income,\n",
    "    right=df\n",
    "        .groupby('user_id')[['subscription_type', 'minute_price', 'start_ride_price', 'subscription_fee']]\n",
    "        .agg('first'),\n",
    "    left_index=True,\n",
    "    right_index=True)   "
   ]
  },
  {
   "cell_type": "code",
   "execution_count": 56,
   "metadata": {},
   "outputs": [
    {
     "data": {
      "text/html": [
       "<div>\n",
       "<style scoped>\n",
       "    .dataframe tbody tr th:only-of-type {\n",
       "        vertical-align: middle;\n",
       "    }\n",
       "\n",
       "    .dataframe tbody tr th {\n",
       "        vertical-align: top;\n",
       "    }\n",
       "\n",
       "    .dataframe thead th {\n",
       "        text-align: right;\n",
       "    }\n",
       "</style>\n",
       "<table border=\"1\" class=\"dataframe\">\n",
       "  <thead>\n",
       "    <tr style=\"text-align: right;\">\n",
       "      <th></th>\n",
       "      <th></th>\n",
       "      <th>total_distance</th>\n",
       "      <th>rides_count</th>\n",
       "      <th>total_duration</th>\n",
       "      <th>subscription_type</th>\n",
       "      <th>minute_price</th>\n",
       "      <th>start_ride_price</th>\n",
       "      <th>subscription_fee</th>\n",
       "    </tr>\n",
       "    <tr>\n",
       "      <th>user_id</th>\n",
       "      <th>month</th>\n",
       "      <th></th>\n",
       "      <th></th>\n",
       "      <th></th>\n",
       "      <th></th>\n",
       "      <th></th>\n",
       "      <th></th>\n",
       "      <th></th>\n",
       "    </tr>\n",
       "  </thead>\n",
       "  <tbody>\n",
       "    <tr>\n",
       "      <th rowspan=\"6\" valign=\"top\">1</th>\n",
       "      <th>1</th>\n",
       "      <td>7027.511294</td>\n",
       "      <td>2</td>\n",
       "      <td>42.0</td>\n",
       "      <td>ultra</td>\n",
       "      <td>6</td>\n",
       "      <td>0</td>\n",
       "      <td>199</td>\n",
       "    </tr>\n",
       "    <tr>\n",
       "      <th>4</th>\n",
       "      <td>754.159807</td>\n",
       "      <td>1</td>\n",
       "      <td>7.0</td>\n",
       "      <td>ultra</td>\n",
       "      <td>6</td>\n",
       "      <td>0</td>\n",
       "      <td>199</td>\n",
       "    </tr>\n",
       "    <tr>\n",
       "      <th>8</th>\n",
       "      <td>6723.470560</td>\n",
       "      <td>2</td>\n",
       "      <td>46.0</td>\n",
       "      <td>ultra</td>\n",
       "      <td>6</td>\n",
       "      <td>0</td>\n",
       "      <td>199</td>\n",
       "    </tr>\n",
       "    <tr>\n",
       "      <th>10</th>\n",
       "      <td>5809.911100</td>\n",
       "      <td>2</td>\n",
       "      <td>32.0</td>\n",
       "      <td>ultra</td>\n",
       "      <td>6</td>\n",
       "      <td>0</td>\n",
       "      <td>199</td>\n",
       "    </tr>\n",
       "    <tr>\n",
       "      <th>11</th>\n",
       "      <td>7003.499363</td>\n",
       "      <td>3</td>\n",
       "      <td>56.0</td>\n",
       "      <td>ultra</td>\n",
       "      <td>6</td>\n",
       "      <td>0</td>\n",
       "      <td>199</td>\n",
       "    </tr>\n",
       "    <tr>\n",
       "      <th>12</th>\n",
       "      <td>6751.629942</td>\n",
       "      <td>2</td>\n",
       "      <td>28.0</td>\n",
       "      <td>ultra</td>\n",
       "      <td>6</td>\n",
       "      <td>0</td>\n",
       "      <td>199</td>\n",
       "    </tr>\n",
       "    <tr>\n",
       "      <th rowspan=\"4\" valign=\"top\">2</th>\n",
       "      <th>3</th>\n",
       "      <td>10187.723006</td>\n",
       "      <td>3</td>\n",
       "      <td>63.0</td>\n",
       "      <td>ultra</td>\n",
       "      <td>6</td>\n",
       "      <td>0</td>\n",
       "      <td>199</td>\n",
       "    </tr>\n",
       "    <tr>\n",
       "      <th>4</th>\n",
       "      <td>6164.381824</td>\n",
       "      <td>2</td>\n",
       "      <td>40.0</td>\n",
       "      <td>ultra</td>\n",
       "      <td>6</td>\n",
       "      <td>0</td>\n",
       "      <td>199</td>\n",
       "    </tr>\n",
       "    <tr>\n",
       "      <th>6</th>\n",
       "      <td>3255.338202</td>\n",
       "      <td>1</td>\n",
       "      <td>14.0</td>\n",
       "      <td>ultra</td>\n",
       "      <td>6</td>\n",
       "      <td>0</td>\n",
       "      <td>199</td>\n",
       "    </tr>\n",
       "    <tr>\n",
       "      <th>7</th>\n",
       "      <td>6780.722964</td>\n",
       "      <td>2</td>\n",
       "      <td>48.0</td>\n",
       "      <td>ultra</td>\n",
       "      <td>6</td>\n",
       "      <td>0</td>\n",
       "      <td>199</td>\n",
       "    </tr>\n",
       "  </tbody>\n",
       "</table>\n",
       "</div>"
      ],
      "text/plain": [
       "               total_distance  rides_count  total_duration subscription_type  \\\n",
       "user_id month                                                                  \n",
       "1       1         7027.511294            2            42.0             ultra   \n",
       "        4          754.159807            1             7.0             ultra   \n",
       "        8         6723.470560            2            46.0             ultra   \n",
       "        10        5809.911100            2            32.0             ultra   \n",
       "        11        7003.499363            3            56.0             ultra   \n",
       "        12        6751.629942            2            28.0             ultra   \n",
       "2       3        10187.723006            3            63.0             ultra   \n",
       "        4         6164.381824            2            40.0             ultra   \n",
       "        6         3255.338202            1            14.0             ultra   \n",
       "        7         6780.722964            2            48.0             ultra   \n",
       "\n",
       "               minute_price  start_ride_price  subscription_fee  \n",
       "user_id month                                                    \n",
       "1       1                 6                 0               199  \n",
       "        4                 6                 0               199  \n",
       "        8                 6                 0               199  \n",
       "        10                6                 0               199  \n",
       "        11                6                 0               199  \n",
       "        12                6                 0               199  \n",
       "2       3                 6                 0               199  \n",
       "        4                 6                 0               199  \n",
       "        6                 6                 0               199  \n",
       "        7                 6                 0               199  "
      ]
     },
     "execution_count": 56,
     "metadata": {},
     "output_type": "execute_result"
    }
   ],
   "source": [
    "income.head(10)"
   ]
  },
  {
   "cell_type": "code",
   "execution_count": 57,
   "metadata": {},
   "outputs": [],
   "source": [
    "def calculate_total_price_for_ride(s: pd.Series) -> float:\n",
    "    return s['start_ride_price'] * s['rides_count'] + s['minute_price'] * s['total_duration'] + s['subscription_fee']"
   ]
  },
  {
   "cell_type": "code",
   "execution_count": 58,
   "metadata": {},
   "outputs": [],
   "source": [
    "income['total'] = income.apply(calculate_total_price_for_ride, axis=1)"
   ]
  },
  {
   "cell_type": "code",
   "execution_count": 59,
   "metadata": {},
   "outputs": [
    {
     "data": {
      "text/html": [
       "<div>\n",
       "<style scoped>\n",
       "    .dataframe tbody tr th:only-of-type {\n",
       "        vertical-align: middle;\n",
       "    }\n",
       "\n",
       "    .dataframe tbody tr th {\n",
       "        vertical-align: top;\n",
       "    }\n",
       "\n",
       "    .dataframe thead th {\n",
       "        text-align: right;\n",
       "    }\n",
       "</style>\n",
       "<table border=\"1\" class=\"dataframe\">\n",
       "  <thead>\n",
       "    <tr style=\"text-align: right;\">\n",
       "      <th></th>\n",
       "      <th></th>\n",
       "      <th>total_distance</th>\n",
       "      <th>rides_count</th>\n",
       "      <th>total_duration</th>\n",
       "      <th>subscription_type</th>\n",
       "      <th>minute_price</th>\n",
       "      <th>start_ride_price</th>\n",
       "      <th>subscription_fee</th>\n",
       "      <th>total</th>\n",
       "    </tr>\n",
       "    <tr>\n",
       "      <th>user_id</th>\n",
       "      <th>month</th>\n",
       "      <th></th>\n",
       "      <th></th>\n",
       "      <th></th>\n",
       "      <th></th>\n",
       "      <th></th>\n",
       "      <th></th>\n",
       "      <th></th>\n",
       "      <th></th>\n",
       "    </tr>\n",
       "  </thead>\n",
       "  <tbody>\n",
       "    <tr>\n",
       "      <th rowspan=\"6\" valign=\"top\">1</th>\n",
       "      <th>1</th>\n",
       "      <td>7027.511294</td>\n",
       "      <td>2</td>\n",
       "      <td>42.0</td>\n",
       "      <td>ultra</td>\n",
       "      <td>6</td>\n",
       "      <td>0</td>\n",
       "      <td>199</td>\n",
       "      <td>451.0</td>\n",
       "    </tr>\n",
       "    <tr>\n",
       "      <th>4</th>\n",
       "      <td>754.159807</td>\n",
       "      <td>1</td>\n",
       "      <td>7.0</td>\n",
       "      <td>ultra</td>\n",
       "      <td>6</td>\n",
       "      <td>0</td>\n",
       "      <td>199</td>\n",
       "      <td>241.0</td>\n",
       "    </tr>\n",
       "    <tr>\n",
       "      <th>8</th>\n",
       "      <td>6723.470560</td>\n",
       "      <td>2</td>\n",
       "      <td>46.0</td>\n",
       "      <td>ultra</td>\n",
       "      <td>6</td>\n",
       "      <td>0</td>\n",
       "      <td>199</td>\n",
       "      <td>475.0</td>\n",
       "    </tr>\n",
       "    <tr>\n",
       "      <th>10</th>\n",
       "      <td>5809.911100</td>\n",
       "      <td>2</td>\n",
       "      <td>32.0</td>\n",
       "      <td>ultra</td>\n",
       "      <td>6</td>\n",
       "      <td>0</td>\n",
       "      <td>199</td>\n",
       "      <td>391.0</td>\n",
       "    </tr>\n",
       "    <tr>\n",
       "      <th>11</th>\n",
       "      <td>7003.499363</td>\n",
       "      <td>3</td>\n",
       "      <td>56.0</td>\n",
       "      <td>ultra</td>\n",
       "      <td>6</td>\n",
       "      <td>0</td>\n",
       "      <td>199</td>\n",
       "      <td>535.0</td>\n",
       "    </tr>\n",
       "    <tr>\n",
       "      <th>12</th>\n",
       "      <td>6751.629942</td>\n",
       "      <td>2</td>\n",
       "      <td>28.0</td>\n",
       "      <td>ultra</td>\n",
       "      <td>6</td>\n",
       "      <td>0</td>\n",
       "      <td>199</td>\n",
       "      <td>367.0</td>\n",
       "    </tr>\n",
       "    <tr>\n",
       "      <th rowspan=\"4\" valign=\"top\">2</th>\n",
       "      <th>3</th>\n",
       "      <td>10187.723006</td>\n",
       "      <td>3</td>\n",
       "      <td>63.0</td>\n",
       "      <td>ultra</td>\n",
       "      <td>6</td>\n",
       "      <td>0</td>\n",
       "      <td>199</td>\n",
       "      <td>577.0</td>\n",
       "    </tr>\n",
       "    <tr>\n",
       "      <th>4</th>\n",
       "      <td>6164.381824</td>\n",
       "      <td>2</td>\n",
       "      <td>40.0</td>\n",
       "      <td>ultra</td>\n",
       "      <td>6</td>\n",
       "      <td>0</td>\n",
       "      <td>199</td>\n",
       "      <td>439.0</td>\n",
       "    </tr>\n",
       "    <tr>\n",
       "      <th>6</th>\n",
       "      <td>3255.338202</td>\n",
       "      <td>1</td>\n",
       "      <td>14.0</td>\n",
       "      <td>ultra</td>\n",
       "      <td>6</td>\n",
       "      <td>0</td>\n",
       "      <td>199</td>\n",
       "      <td>283.0</td>\n",
       "    </tr>\n",
       "    <tr>\n",
       "      <th>7</th>\n",
       "      <td>6780.722964</td>\n",
       "      <td>2</td>\n",
       "      <td>48.0</td>\n",
       "      <td>ultra</td>\n",
       "      <td>6</td>\n",
       "      <td>0</td>\n",
       "      <td>199</td>\n",
       "      <td>487.0</td>\n",
       "    </tr>\n",
       "  </tbody>\n",
       "</table>\n",
       "</div>"
      ],
      "text/plain": [
       "               total_distance  rides_count  total_duration subscription_type  \\\n",
       "user_id month                                                                  \n",
       "1       1         7027.511294            2            42.0             ultra   \n",
       "        4          754.159807            1             7.0             ultra   \n",
       "        8         6723.470560            2            46.0             ultra   \n",
       "        10        5809.911100            2            32.0             ultra   \n",
       "        11        7003.499363            3            56.0             ultra   \n",
       "        12        6751.629942            2            28.0             ultra   \n",
       "2       3        10187.723006            3            63.0             ultra   \n",
       "        4         6164.381824            2            40.0             ultra   \n",
       "        6         3255.338202            1            14.0             ultra   \n",
       "        7         6780.722964            2            48.0             ultra   \n",
       "\n",
       "               minute_price  start_ride_price  subscription_fee  total  \n",
       "user_id month                                                           \n",
       "1       1                 6                 0               199  451.0  \n",
       "        4                 6                 0               199  241.0  \n",
       "        8                 6                 0               199  475.0  \n",
       "        10                6                 0               199  391.0  \n",
       "        11                6                 0               199  535.0  \n",
       "        12                6                 0               199  367.0  \n",
       "2       3                 6                 0               199  577.0  \n",
       "        4                 6                 0               199  439.0  \n",
       "        6                 6                 0               199  283.0  \n",
       "        7                 6                 0               199  487.0  "
      ]
     },
     "execution_count": 59,
     "metadata": {},
     "output_type": "execute_result"
    }
   ],
   "source": [
    "income.head(10)"
   ]
  },
  {
   "cell_type": "markdown",
   "metadata": {},
   "source": [
    "### 5.1. <a id='toc5_1_'></a>Вывод  [&#8593;](#toc0_)"
   ]
  },
  {
   "cell_type": "markdown",
   "metadata": {},
   "source": [
    "В данном разделе был сгенерирован новый датафрейм с информацией о пользователях по месяцам. В этот датафрейм был добавлен столбец с месячной выручкой."
   ]
  },
  {
   "cell_type": "markdown",
   "metadata": {},
   "source": [
    "## 6. <a id='toc6_'></a>Проверка гипотез      [&#8593;](#toc0_)"
   ]
  },
  {
   "cell_type": "markdown",
   "metadata": {},
   "source": [
    "### 6.1. <a id='toc6_1_'></a>Продолжительность поездок      [&#8593;](#toc0_)"
   ]
  },
  {
   "cell_type": "code",
   "execution_count": 60,
   "metadata": {
    "tags": []
   },
   "outputs": [],
   "source": [
    "mean_s, median_s = df_s['duration'].agg(['mean', 'median'])"
   ]
  },
  {
   "cell_type": "code",
   "execution_count": 61,
   "metadata": {
    "tags": []
   },
   "outputs": [],
   "source": [
    "mean_ws, median_ws = df_ws['duration'].agg(['mean', 'median'])"
   ]
  },
  {
   "cell_type": "code",
   "execution_count": 62,
   "metadata": {
    "scrolled": true,
    "tags": []
   },
   "outputs": [
    {
     "name": "stdout",
     "output_type": "stream",
     "text": [
      "+------------------------+-------------+--------------+\n",
      "|                        | С подпиской | Без подписки |\n",
      "+------------------------+-------------+--------------+\n",
      "|  Средняя длительность  |    18.54    |    17.39     |\n",
      "| Медианная длительность |    18.18    |    17.33     |\n",
      "+------------------------+-------------+--------------+\n"
     ]
    }
   ],
   "source": [
    "table = PrettyTable()\n",
    "table.field_names = ['', 'С подпиской', 'Без подписки']\n",
    "table.add_row(['Средняя длительность',  round(mean_s, 2), round(mean_ws, 2)])\n",
    "table.add_row(['Медианная длительность',  round(median_s, 2), round(median_ws, 2)])\n",
    "print(table)"
   ]
  },
  {
   "cell_type": "markdown",
   "metadata": {},
   "source": [
    "Сформулируем гипотезы:\n",
    "\n",
    "$H_0$ - Средняя длительность пользователей с подпиской и без примерно равны  \n",
    "$H_1$ - Средняя длительность пользователей с подпиской больше"
   ]
  },
  {
   "cell_type": "code",
   "execution_count": 63,
   "metadata": {
    "tags": []
   },
   "outputs": [
    {
     "name": "stdout",
     "output_type": "stream",
     "text": [
      "p-value: 1.2804098316645618e-34\n",
      "Отвергаем H0\n"
     ]
    }
   ],
   "source": [
    "alpha = 0.05\n",
    "\n",
    "results = st.ttest_ind(\n",
    "    df_s['duration'],\n",
    "    df_ws['duration'],\n",
    "    alternative='greater'\n",
    ")\n",
    "\n",
    "print(f'p-value: {results.pvalue}')\n",
    "\n",
    "if results.pvalue < alpha:\n",
    "    print('Отвергаем H0')\n",
    "else:\n",
    "    print('Нет причин отвергать H0')"
   ]
  },
  {
   "cell_type": "markdown",
   "metadata": {},
   "source": [
    "**Вывод**\n",
    "\n",
    "Можно сделать вывод, что продолжительность поездок у пользователей с подпиской больше, нежели у пользователей без подписки."
   ]
  },
  {
   "cell_type": "markdown",
   "metadata": {},
   "source": [
    "### 6.2. <a id='toc6_2_'></a>Среднее расстояние поездки      [&#8593;](#toc0_)"
   ]
  },
  {
   "cell_type": "markdown",
   "metadata": {},
   "source": [
    "Сформулируем гипотезы:\n",
    "\n",
    "$H_0$ - Среднее расстояние поездки примерно равно 3130м  \n",
    "$H_1$ - Среднее расстояние поездки примерно больше 3130м"
   ]
  },
  {
   "cell_type": "code",
   "execution_count": 64,
   "metadata": {
    "tags": []
   },
   "outputs": [
    {
     "data": {
      "text/plain": [
       "mean      3115.445388\n",
       "median    3148.637229\n",
       "Name: distance, dtype: float64"
      ]
     },
     "execution_count": 64,
     "metadata": {},
     "output_type": "execute_result"
    }
   ],
   "source": [
    "df_s['distance'].agg(['mean', 'median'])"
   ]
  },
  {
   "cell_type": "code",
   "execution_count": 65,
   "metadata": {
    "tags": []
   },
   "outputs": [
    {
     "name": "stdout",
     "output_type": "stream",
     "text": [
      "p-value: 0.9195368847849785\n",
      "Нет причин отвергать H0\n"
     ]
    }
   ],
   "source": [
    "results = st.ttest_1samp(df_s['distance'], 3130, alternative='greater')\n",
    "\n",
    "print(f'p-value: {results.pvalue}')\n",
    "\n",
    "if results.pvalue < alpha:\n",
    "    print('Отвергаем H0')\n",
    "else:\n",
    "    print('Нет причин отвергать H0')"
   ]
  },
  {
   "cell_type": "markdown",
   "metadata": {},
   "source": [
    "**Вывод:**\n",
    "\n",
    "Можно сдедать вывод, что среднее расстояние одной поездки для пользователей с подпиской примерно равно `3130` метров."
   ]
  },
  {
   "cell_type": "markdown",
   "metadata": {},
   "source": [
    "### 6.3. <a id='toc6_3_'></a>Сравнение помесячной выручки от пользователей с подпиской и без      [&#8593;](#toc0_)"
   ]
  },
  {
   "cell_type": "code",
   "execution_count": 66,
   "metadata": {
    "tags": []
   },
   "outputs": [
    {
     "data": {
      "text/html": [
       "<div>\n",
       "<style scoped>\n",
       "    .dataframe tbody tr th:only-of-type {\n",
       "        vertical-align: middle;\n",
       "    }\n",
       "\n",
       "    .dataframe tbody tr th {\n",
       "        vertical-align: top;\n",
       "    }\n",
       "\n",
       "    .dataframe thead th {\n",
       "        text-align: right;\n",
       "    }\n",
       "</style>\n",
       "<table border=\"1\" class=\"dataframe\">\n",
       "  <thead>\n",
       "    <tr style=\"text-align: right;\">\n",
       "      <th></th>\n",
       "      <th></th>\n",
       "      <th>total_distance</th>\n",
       "      <th>rides_count</th>\n",
       "      <th>total_duration</th>\n",
       "      <th>subscription_type</th>\n",
       "      <th>minute_price</th>\n",
       "      <th>start_ride_price</th>\n",
       "      <th>subscription_fee</th>\n",
       "      <th>total</th>\n",
       "    </tr>\n",
       "    <tr>\n",
       "      <th>user_id</th>\n",
       "      <th>month</th>\n",
       "      <th></th>\n",
       "      <th></th>\n",
       "      <th></th>\n",
       "      <th></th>\n",
       "      <th></th>\n",
       "      <th></th>\n",
       "      <th></th>\n",
       "      <th></th>\n",
       "    </tr>\n",
       "  </thead>\n",
       "  <tbody>\n",
       "    <tr>\n",
       "      <th rowspan=\"5\" valign=\"top\">1</th>\n",
       "      <th>1</th>\n",
       "      <td>7027.511294</td>\n",
       "      <td>2</td>\n",
       "      <td>42.0</td>\n",
       "      <td>ultra</td>\n",
       "      <td>6</td>\n",
       "      <td>0</td>\n",
       "      <td>199</td>\n",
       "      <td>451.0</td>\n",
       "    </tr>\n",
       "    <tr>\n",
       "      <th>4</th>\n",
       "      <td>754.159807</td>\n",
       "      <td>1</td>\n",
       "      <td>7.0</td>\n",
       "      <td>ultra</td>\n",
       "      <td>6</td>\n",
       "      <td>0</td>\n",
       "      <td>199</td>\n",
       "      <td>241.0</td>\n",
       "    </tr>\n",
       "    <tr>\n",
       "      <th>8</th>\n",
       "      <td>6723.470560</td>\n",
       "      <td>2</td>\n",
       "      <td>46.0</td>\n",
       "      <td>ultra</td>\n",
       "      <td>6</td>\n",
       "      <td>0</td>\n",
       "      <td>199</td>\n",
       "      <td>475.0</td>\n",
       "    </tr>\n",
       "    <tr>\n",
       "      <th>10</th>\n",
       "      <td>5809.911100</td>\n",
       "      <td>2</td>\n",
       "      <td>32.0</td>\n",
       "      <td>ultra</td>\n",
       "      <td>6</td>\n",
       "      <td>0</td>\n",
       "      <td>199</td>\n",
       "      <td>391.0</td>\n",
       "    </tr>\n",
       "    <tr>\n",
       "      <th>11</th>\n",
       "      <td>7003.499363</td>\n",
       "      <td>3</td>\n",
       "      <td>56.0</td>\n",
       "      <td>ultra</td>\n",
       "      <td>6</td>\n",
       "      <td>0</td>\n",
       "      <td>199</td>\n",
       "      <td>535.0</td>\n",
       "    </tr>\n",
       "  </tbody>\n",
       "</table>\n",
       "</div>"
      ],
      "text/plain": [
       "               total_distance  rides_count  total_duration subscription_type  \\\n",
       "user_id month                                                                  \n",
       "1       1         7027.511294            2            42.0             ultra   \n",
       "        4          754.159807            1             7.0             ultra   \n",
       "        8         6723.470560            2            46.0             ultra   \n",
       "        10        5809.911100            2            32.0             ultra   \n",
       "        11        7003.499363            3            56.0             ultra   \n",
       "\n",
       "               minute_price  start_ride_price  subscription_fee  total  \n",
       "user_id month                                                           \n",
       "1       1                 6                 0               199  451.0  \n",
       "        4                 6                 0               199  241.0  \n",
       "        8                 6                 0               199  475.0  \n",
       "        10                6                 0               199  391.0  \n",
       "        11                6                 0               199  535.0  "
      ]
     },
     "execution_count": 66,
     "metadata": {},
     "output_type": "execute_result"
    }
   ],
   "source": [
    "income.head()"
   ]
  },
  {
   "cell_type": "code",
   "execution_count": 67,
   "metadata": {
    "tags": []
   },
   "outputs": [
    {
     "data": {
      "text/plain": [
       "subscription_type\n",
       "free     6798\n",
       "ultra    4533\n",
       "Name: count, dtype: int64"
      ]
     },
     "execution_count": 67,
     "metadata": {},
     "output_type": "execute_result"
    }
   ],
   "source": [
    "income['subscription_type'].value_counts()"
   ]
  },
  {
   "cell_type": "code",
   "execution_count": 68,
   "metadata": {
    "tags": []
   },
   "outputs": [],
   "source": [
    "_mask = income['subscription_type'] == 'free'\n",
    "income_ws = income[_mask]\n",
    "income_s = income[~_mask]"
   ]
  },
  {
   "cell_type": "code",
   "execution_count": 69,
   "metadata": {
    "tags": []
   },
   "outputs": [
    {
     "name": "stdout",
     "output_type": "stream",
     "text": [
      "+-------------------+-------------+--------------+\n",
      "|                   | С подпиской | Без подписки |\n",
      "+-------------------+-------------+--------------+\n",
      "|  Средняя выручка  |    362.79   |    328.64    |\n",
      "| Медианная выручка |    337.0    |    274.0     |\n",
      "+-------------------+-------------+--------------+\n"
     ]
    }
   ],
   "source": [
    "mean_s, median_s = income_s['total'].agg(['mean', 'median'])\n",
    "mean_ws, median_ws = income_ws['total'].agg(['mean', 'median'])\n",
    "\n",
    "table = PrettyTable()\n",
    "table.field_names = ['', 'С подпиской', 'Без подписки']\n",
    "table.add_row(['Средняя выручка',  round(mean_s, 2), round(mean_ws, 2)])\n",
    "table.add_row(['Медианная выручка',  round(median_s, 2), round(median_ws, 2)])\n",
    "print(table)"
   ]
  },
  {
   "cell_type": "markdown",
   "metadata": {},
   "source": [
    "Сформулируем гипотезы:\n",
    "\n",
    "$H_0$ - Средняя помесячная выручка от пользователей с подпиской и без примерно равны  \n",
    "$H_1$ - Средняя помесячная выручка от пользователей с подписко больше"
   ]
  },
  {
   "cell_type": "code",
   "execution_count": 70,
   "metadata": {
    "tags": []
   },
   "outputs": [
    {
     "name": "stdout",
     "output_type": "stream",
     "text": [
      "p-value: 1.8850394384715216e-31\n",
      "Отвергаем H0\n"
     ]
    }
   ],
   "source": [
    "alpha = 0.05\n",
    "\n",
    "results = st.ttest_ind(\n",
    "    income_s['total'],\n",
    "    income_ws['total'],\n",
    "    alternative='greater'\n",
    ")\n",
    "\n",
    "print(f'p-value: {results.pvalue}')\n",
    "\n",
    "if results.pvalue < alpha:\n",
    "    print('Отвергаем H0')\n",
    "else:\n",
    "    print('Нет причин отвергать H0')"
   ]
  },
  {
   "cell_type": "markdown",
   "metadata": {},
   "source": [
    "**Вывод**\n",
    "\n",
    "В данном случае можно сделать вывод, что выручка от пользователей c подпиской выше, нежели от пользователей без подписки."
   ]
  },
  {
   "cell_type": "markdown",
   "metadata": {},
   "source": [
    "### 6.4. <a id='toc6_4_'></a>Ответ на вопрос      [&#8593;](#toc0_)"
   ]
  },
  {
   "cell_type": "markdown",
   "metadata": {},
   "source": [
    "В данной ситуации нам подойдет тест о равенстве значения ГС ДО и ПОСЛЕ изменения. Он допустен как `scipy.stats.ttest_rel`. \n",
    "\n",
    "Сформулируем следующие гипотезы:  \n",
    "$H_0$ - кол-во обращений ДО и ПОСЛЕ примерно одинаковое  \n",
    "$H_1$ - кол-во обращений ПОСЛЕ снизилось, т.е. ДО было больше.\n",
    "\n",
    "Можно воспользоваться таким кодом:\n",
    "\n",
    "```python\n",
    "from scipy import stats as st\n",
    "\n",
    "alpha = 0.05\n",
    "results = st.ttest_rel(\n",
    "    before,\n",
    "    after,\n",
    "    alternative='greater')\n",
    "\n",
    "print(f'p-value: {results.pvalue}')\n",
    "\n",
    "if results.pvalue < alpha:\n",
    "    print('Отвергаем H0')\n",
    "else:\n",
    "    print('Нет причин отвергнуть H0')\n",
    "```"
   ]
  },
  {
   "cell_type": "markdown",
   "metadata": {},
   "source": [
    "## 7. <a id='toc7_'></a>Общий вывод  [&#8593;](#toc0_)"
   ]
  },
  {
   "cell_type": "markdown",
   "metadata": {},
   "source": [
    "В рамках данного исследования были проделаны следующие шаги:\n",
    "\n",
    "1) **Загрузка и предобработка**  \n",
    "Были загружены 3 различных датафрейма и обработаны: изменены типы данных, удалены полные дубликаты и проверены неявные дубликаты. Также был добавлен новый столбец с номером месяца.\n",
    "\n",
    "2) **Исследовательский анализ данных**  \n",
    "Были описаны и визуализированы следующие столбцы: города, тип подписки пользователей, возраст пользователей, расстояние 1 поездки и продолжительность поездок. Можно выделить следующие закономерности:\n",
    "- **Города**  \n",
    "    О каждом городе примерно одинаковое количество информации. Меньше всего информации о Москве (`168` пользователей), а больше всего о Пятигорске (`219` пользователей).\n",
    "\n",
    "- **Наличие подписки**  \n",
    "    Можно сделать вывод, что пользователей без подписки на `8 п.п.` больше, чем с подпиской.\n",
    "\n",
    "- **Возраст**  \n",
    "    Возраст пользователей имеет форму нормального распределения. Аномальных значений нет, а выбросы хоть и есть, но они являются вполне реальными значениями.  \n",
    "    Минимальный возраст, о котором представлена информация - 12 лет, а максимальный - 43 года. Основная возрастная группа - от 16 до 34 лет, а средний возраст составляет 25 лет.\n",
    "\n",
    "- **Расстояние одной поездки**  \n",
    "    Расстояние за 1 поездку также имеет форму нормального распределения. Однако есть небольшой пик в поездках до `1000 м.`  \n",
    "    Самая короткая поездка меньше метра, а самая длинная - более 7 км, целых `7211м`. Основная часть поездок находится в диапозоне от `1310` метров до `5009` метров. При этом средняя поездка составляет около `3км`.\n",
    "\n",
    "\n",
    "- **Продолжительность одной поездки**  \n",
    "    Продолжительность поездок также имеет форму нормального распределения. Самая короткая поездка длилась всего полминуты, а самая длинная почти `41` минуту. БОльшая часть поездок имеет длительность от `5.5` до `30` минут. При этом средняя длительность поездки - около `18` минут.\n",
    "\n",
    "3) **Объединение датафреймов**  \n",
    "Все 3 исходных датафрейма были объединены в один. Далее он был поделен на 2 различных: пользователей с подпиской и без нее.\n",
    "\n",
    "4) **Подсчет выручки**  \n",
    "Был сделал датафрейм с помесячной выручкой.\n",
    "\n",
    "5) **Проверка гипотез**  \n",
    "Были проверены 3 гипотезы. Результаты такие:  \n",
    "    ✅ Продолжительность поездок у пользователей с подпиской больше, нежели у пользователей без подписки: `18.18`    против `17.33`  \n",
    "    ✅ Среднее расстояние одной поездки для пользователей с подпиской примерно равно `3130` метров.  \n",
    "    ✅ Выручка от пользователей c подпиской выше, нежели от пользователей без подписки: `337.0` против `274.0`.\n",
    "    \n",
    "В результате исследования можно сделать вывод о том, что пользователи с подпиской более выгодные для бизнеса."
   ]
  }
 ],
 "metadata": {
  "ExecuteTimeLog": [
   {
    "duration": 1439,
    "start_time": "2024-05-13T12:37:10.469Z"
   },
   {
    "duration": 0,
    "start_time": "2024-05-13T12:37:11.911Z"
   },
   {
    "duration": 0,
    "start_time": "2024-05-13T12:37:11.913Z"
   },
   {
    "duration": 0,
    "start_time": "2024-05-13T12:37:11.914Z"
   },
   {
    "duration": 0,
    "start_time": "2024-05-13T12:37:11.915Z"
   },
   {
    "duration": 0,
    "start_time": "2024-05-13T12:37:11.916Z"
   },
   {
    "duration": 0,
    "start_time": "2024-05-13T12:37:11.917Z"
   },
   {
    "duration": 0,
    "start_time": "2024-05-13T12:37:11.918Z"
   },
   {
    "duration": 0,
    "start_time": "2024-05-13T12:37:11.919Z"
   },
   {
    "duration": 0,
    "start_time": "2024-05-13T12:37:11.920Z"
   },
   {
    "duration": 0,
    "start_time": "2024-05-13T12:37:11.921Z"
   },
   {
    "duration": 0,
    "start_time": "2024-05-13T12:37:11.922Z"
   },
   {
    "duration": 0,
    "start_time": "2024-05-13T12:37:11.923Z"
   },
   {
    "duration": 0,
    "start_time": "2024-05-13T12:37:11.924Z"
   },
   {
    "duration": 0,
    "start_time": "2024-05-13T12:37:11.925Z"
   },
   {
    "duration": 0,
    "start_time": "2024-05-13T12:37:11.926Z"
   },
   {
    "duration": 0,
    "start_time": "2024-05-13T12:37:11.927Z"
   },
   {
    "duration": 0,
    "start_time": "2024-05-13T12:37:11.928Z"
   },
   {
    "duration": 0,
    "start_time": "2024-05-13T12:37:11.930Z"
   },
   {
    "duration": 0,
    "start_time": "2024-05-13T12:37:11.930Z"
   },
   {
    "duration": 0,
    "start_time": "2024-05-13T12:37:11.932Z"
   },
   {
    "duration": 0,
    "start_time": "2024-05-13T12:37:11.932Z"
   },
   {
    "duration": 0,
    "start_time": "2024-05-13T12:37:11.933Z"
   },
   {
    "duration": 0,
    "start_time": "2024-05-13T12:37:11.956Z"
   },
   {
    "duration": 0,
    "start_time": "2024-05-13T12:37:11.957Z"
   },
   {
    "duration": 0,
    "start_time": "2024-05-13T12:37:11.958Z"
   },
   {
    "duration": 0,
    "start_time": "2024-05-13T12:37:11.959Z"
   },
   {
    "duration": 0,
    "start_time": "2024-05-13T12:37:11.960Z"
   },
   {
    "duration": 0,
    "start_time": "2024-05-13T12:37:11.962Z"
   },
   {
    "duration": 0,
    "start_time": "2024-05-13T12:37:11.962Z"
   },
   {
    "duration": 0,
    "start_time": "2024-05-13T12:37:11.964Z"
   },
   {
    "duration": 0,
    "start_time": "2024-05-13T12:37:11.965Z"
   },
   {
    "duration": 0,
    "start_time": "2024-05-13T12:37:11.966Z"
   },
   {
    "duration": 0,
    "start_time": "2024-05-13T12:37:11.967Z"
   },
   {
    "duration": 0,
    "start_time": "2024-05-13T12:37:11.968Z"
   },
   {
    "duration": 0,
    "start_time": "2024-05-13T12:37:11.969Z"
   },
   {
    "duration": 0,
    "start_time": "2024-05-13T12:37:11.970Z"
   },
   {
    "duration": 0,
    "start_time": "2024-05-13T12:37:11.971Z"
   },
   {
    "duration": 0,
    "start_time": "2024-05-13T12:37:11.972Z"
   },
   {
    "duration": 0,
    "start_time": "2024-05-13T12:37:11.973Z"
   },
   {
    "duration": 0,
    "start_time": "2024-05-13T12:37:11.974Z"
   },
   {
    "duration": 0,
    "start_time": "2024-05-13T12:37:11.975Z"
   },
   {
    "duration": 0,
    "start_time": "2024-05-13T12:37:11.976Z"
   },
   {
    "duration": 0,
    "start_time": "2024-05-13T12:37:11.977Z"
   },
   {
    "duration": 0,
    "start_time": "2024-05-13T12:37:11.978Z"
   },
   {
    "duration": 0,
    "start_time": "2024-05-13T12:37:11.979Z"
   },
   {
    "duration": 0,
    "start_time": "2024-05-13T12:37:11.980Z"
   },
   {
    "duration": 0,
    "start_time": "2024-05-13T12:37:11.981Z"
   },
   {
    "duration": 0,
    "start_time": "2024-05-13T12:37:11.982Z"
   },
   {
    "duration": 0,
    "start_time": "2024-05-13T12:37:11.983Z"
   },
   {
    "duration": 0,
    "start_time": "2024-05-13T12:37:11.984Z"
   },
   {
    "duration": 0,
    "start_time": "2024-05-13T12:37:11.985Z"
   },
   {
    "duration": 0,
    "start_time": "2024-05-13T12:37:11.986Z"
   },
   {
    "duration": 0,
    "start_time": "2024-05-13T12:37:11.987Z"
   },
   {
    "duration": 0,
    "start_time": "2024-05-13T12:37:11.988Z"
   },
   {
    "duration": 0,
    "start_time": "2024-05-13T12:37:11.989Z"
   },
   {
    "duration": 0,
    "start_time": "2024-05-13T12:37:11.990Z"
   },
   {
    "duration": 0,
    "start_time": "2024-05-13T12:37:12.056Z"
   },
   {
    "duration": 0,
    "start_time": "2024-05-13T12:37:12.057Z"
   },
   {
    "duration": 0,
    "start_time": "2024-05-13T12:37:12.058Z"
   },
   {
    "duration": 0,
    "start_time": "2024-05-13T12:37:12.059Z"
   },
   {
    "duration": 0,
    "start_time": "2024-05-13T12:37:12.061Z"
   },
   {
    "duration": 0,
    "start_time": "2024-05-13T12:37:12.062Z"
   },
   {
    "duration": 0,
    "start_time": "2024-05-13T12:37:12.063Z"
   },
   {
    "duration": 45595,
    "start_time": "2024-05-13T13:03:39.435Z"
   },
   {
    "duration": 1763,
    "start_time": "2024-05-13T13:04:25.032Z"
   },
   {
    "duration": 25516,
    "start_time": "2024-05-13T13:04:43.437Z"
   },
   {
    "duration": 1476,
    "start_time": "2024-05-13T13:05:08.955Z"
   },
   {
    "duration": 3,
    "start_time": "2024-05-13T13:05:10.433Z"
   },
   {
    "duration": 10,
    "start_time": "2024-05-13T13:05:10.438Z"
   },
   {
    "duration": 125,
    "start_time": "2024-05-13T13:05:10.450Z"
   },
   {
    "duration": 14,
    "start_time": "2024-05-13T13:05:10.577Z"
   },
   {
    "duration": 8,
    "start_time": "2024-05-13T13:05:10.593Z"
   },
   {
    "duration": 11,
    "start_time": "2024-05-13T13:05:10.603Z"
   },
   {
    "duration": 147,
    "start_time": "2024-05-13T13:05:10.616Z"
   },
   {
    "duration": 7,
    "start_time": "2024-05-13T13:05:10.764Z"
   },
   {
    "duration": 10,
    "start_time": "2024-05-13T13:05:10.773Z"
   },
   {
    "duration": 19,
    "start_time": "2024-05-13T13:05:10.784Z"
   },
   {
    "duration": 143,
    "start_time": "2024-05-13T13:05:10.805Z"
   },
   {
    "duration": 7,
    "start_time": "2024-05-13T13:05:10.951Z"
   },
   {
    "duration": 19,
    "start_time": "2024-05-13T13:05:10.959Z"
   },
   {
    "duration": 3,
    "start_time": "2024-05-13T13:05:10.980Z"
   },
   {
    "duration": 13,
    "start_time": "2024-05-13T13:05:10.984Z"
   },
   {
    "duration": 7,
    "start_time": "2024-05-13T13:05:10.999Z"
   },
   {
    "duration": 15,
    "start_time": "2024-05-13T13:05:11.007Z"
   },
   {
    "duration": 21,
    "start_time": "2024-05-13T13:05:11.024Z"
   },
   {
    "duration": 8,
    "start_time": "2024-05-13T13:05:11.046Z"
   },
   {
    "duration": 17,
    "start_time": "2024-05-13T13:05:11.055Z"
   },
   {
    "duration": 14,
    "start_time": "2024-05-13T13:05:11.073Z"
   },
   {
    "duration": 10,
    "start_time": "2024-05-13T13:05:11.088Z"
   },
   {
    "duration": 11,
    "start_time": "2024-05-13T13:05:11.099Z"
   },
   {
    "duration": 12,
    "start_time": "2024-05-13T13:05:11.111Z"
   },
   {
    "duration": 7,
    "start_time": "2024-05-13T13:05:11.124Z"
   },
   {
    "duration": 6,
    "start_time": "2024-05-13T13:05:11.132Z"
   },
   {
    "duration": 6,
    "start_time": "2024-05-13T13:05:11.139Z"
   },
   {
    "duration": 6,
    "start_time": "2024-05-13T13:05:11.147Z"
   },
   {
    "duration": 8,
    "start_time": "2024-05-13T13:05:11.154Z"
   },
   {
    "duration": 6,
    "start_time": "2024-05-13T13:05:11.163Z"
   },
   {
    "duration": 337,
    "start_time": "2024-05-13T13:05:11.170Z"
   },
   {
    "duration": 83,
    "start_time": "2024-05-13T13:05:11.509Z"
   },
   {
    "duration": 890,
    "start_time": "2024-05-13T13:05:11.644Z"
   },
   {
    "duration": 1181,
    "start_time": "2024-05-13T13:05:12.536Z"
   },
   {
    "duration": 1071,
    "start_time": "2024-05-13T13:05:13.718Z"
   },
   {
    "duration": 19,
    "start_time": "2024-05-13T13:05:14.791Z"
   },
   {
    "duration": 41,
    "start_time": "2024-05-13T13:05:14.811Z"
   },
   {
    "duration": 35,
    "start_time": "2024-05-13T13:05:14.854Z"
   },
   {
    "duration": 11,
    "start_time": "2024-05-13T13:05:14.893Z"
   },
   {
    "duration": 31,
    "start_time": "2024-05-13T13:05:14.906Z"
   },
   {
    "duration": 18,
    "start_time": "2024-05-13T13:05:14.938Z"
   },
   {
    "duration": 205,
    "start_time": "2024-05-13T13:05:14.958Z"
   },
   {
    "duration": 5,
    "start_time": "2024-05-13T13:05:15.166Z"
   },
   {
    "duration": 107,
    "start_time": "2024-05-13T13:05:15.173Z"
   },
   {
    "duration": 33,
    "start_time": "2024-05-13T13:05:15.282Z"
   },
   {
    "duration": 259,
    "start_time": "2024-05-13T13:05:15.317Z"
   },
   {
    "duration": 3,
    "start_time": "2024-05-13T13:05:15.646Z"
   },
   {
    "duration": 52,
    "start_time": "2024-05-13T13:05:15.651Z"
   },
   {
    "duration": 22,
    "start_time": "2024-05-13T13:05:15.704Z"
   },
   {
    "duration": 36,
    "start_time": "2024-05-13T13:05:15.728Z"
   },
   {
    "duration": 168,
    "start_time": "2024-05-13T13:05:15.766Z"
   },
   {
    "duration": 18,
    "start_time": "2024-05-13T13:05:15.936Z"
   },
   {
    "duration": 20,
    "start_time": "2024-05-13T13:05:15.955Z"
   },
   {
    "duration": 38,
    "start_time": "2024-05-13T13:05:15.976Z"
   },
   {
    "duration": 35,
    "start_time": "2024-05-13T13:05:16.015Z"
   },
   {
    "duration": 28,
    "start_time": "2024-05-13T13:05:16.052Z"
   },
   {
    "duration": 24,
    "start_time": "2024-05-13T13:05:16.081Z"
   },
   {
    "duration": 33,
    "start_time": "2024-05-13T13:05:16.107Z"
   },
   {
    "duration": 37,
    "start_time": "2024-05-13T13:05:16.142Z"
   },
   {
    "duration": 10,
    "start_time": "2024-05-13T13:05:16.181Z"
   },
   {
    "duration": 11,
    "start_time": "2024-05-13T13:05:16.192Z"
   },
   {
    "duration": 7,
    "start_time": "2024-05-13T13:05:16.204Z"
   },
   {
    "duration": 23,
    "start_time": "2024-05-13T13:05:16.213Z"
   },
   {
    "duration": 43,
    "start_time": "2024-05-13T13:09:25.323Z"
   },
   {
    "duration": 25671,
    "start_time": "2024-05-13T13:10:42.506Z"
   },
   {
    "duration": 1487,
    "start_time": "2024-05-13T13:11:08.179Z"
   },
   {
    "duration": 4,
    "start_time": "2024-05-13T13:11:09.667Z"
   },
   {
    "duration": 6,
    "start_time": "2024-05-13T13:11:09.673Z"
   },
   {
    "duration": 87,
    "start_time": "2024-05-13T13:11:09.680Z"
   },
   {
    "duration": 12,
    "start_time": "2024-05-13T13:11:09.768Z"
   },
   {
    "duration": 15,
    "start_time": "2024-05-13T13:11:09.782Z"
   },
   {
    "duration": 12,
    "start_time": "2024-05-13T13:11:09.799Z"
   },
   {
    "duration": 327,
    "start_time": "2024-05-13T13:11:09.812Z"
   },
   {
    "duration": 7,
    "start_time": "2024-05-13T13:11:10.141Z"
   },
   {
    "duration": 10,
    "start_time": "2024-05-13T13:11:10.149Z"
   },
   {
    "duration": 14,
    "start_time": "2024-05-13T13:11:10.161Z"
   },
   {
    "duration": 92,
    "start_time": "2024-05-13T13:11:10.176Z"
   },
   {
    "duration": 7,
    "start_time": "2024-05-13T13:11:10.270Z"
   },
   {
    "duration": 16,
    "start_time": "2024-05-13T13:11:10.278Z"
   },
   {
    "duration": 7,
    "start_time": "2024-05-13T13:11:10.295Z"
   },
   {
    "duration": 16,
    "start_time": "2024-05-13T13:11:10.304Z"
   },
   {
    "duration": 8,
    "start_time": "2024-05-13T13:11:10.321Z"
   },
   {
    "duration": 4,
    "start_time": "2024-05-13T13:11:10.330Z"
   },
   {
    "duration": 22,
    "start_time": "2024-05-13T13:11:10.335Z"
   },
   {
    "duration": 9,
    "start_time": "2024-05-13T13:11:10.358Z"
   },
   {
    "duration": 17,
    "start_time": "2024-05-13T13:11:10.369Z"
   },
   {
    "duration": 4,
    "start_time": "2024-05-13T13:11:10.388Z"
   },
   {
    "duration": 7,
    "start_time": "2024-05-13T13:11:10.393Z"
   },
   {
    "duration": 6,
    "start_time": "2024-05-13T13:11:10.402Z"
   },
   {
    "duration": 3,
    "start_time": "2024-05-13T13:11:10.410Z"
   },
   {
    "duration": 8,
    "start_time": "2024-05-13T13:11:10.414Z"
   },
   {
    "duration": 7,
    "start_time": "2024-05-13T13:11:10.425Z"
   },
   {
    "duration": 8,
    "start_time": "2024-05-13T13:11:10.445Z"
   },
   {
    "duration": 5,
    "start_time": "2024-05-13T13:11:10.455Z"
   },
   {
    "duration": 8,
    "start_time": "2024-05-13T13:11:10.462Z"
   },
   {
    "duration": 9,
    "start_time": "2024-05-13T13:11:10.471Z"
   },
   {
    "duration": 334,
    "start_time": "2024-05-13T13:11:10.481Z"
   },
   {
    "duration": 85,
    "start_time": "2024-05-13T13:11:10.816Z"
   },
   {
    "duration": 861,
    "start_time": "2024-05-13T13:11:10.946Z"
   },
   {
    "duration": 1194,
    "start_time": "2024-05-13T13:11:11.809Z"
   },
   {
    "duration": 1091,
    "start_time": "2024-05-13T13:11:13.005Z"
   },
   {
    "duration": 16,
    "start_time": "2024-05-13T13:11:14.098Z"
   },
   {
    "duration": 9,
    "start_time": "2024-05-13T13:11:14.116Z"
   },
   {
    "duration": 21,
    "start_time": "2024-05-13T13:11:14.127Z"
   },
   {
    "duration": 5,
    "start_time": "2024-05-13T13:11:14.150Z"
   },
   {
    "duration": 8,
    "start_time": "2024-05-13T13:11:14.156Z"
   },
   {
    "duration": 9,
    "start_time": "2024-05-13T13:11:14.165Z"
   },
   {
    "duration": 192,
    "start_time": "2024-05-13T13:11:14.175Z"
   },
   {
    "duration": 76,
    "start_time": "2024-05-13T13:11:14.369Z"
   },
   {
    "duration": 5,
    "start_time": "2024-05-13T13:11:14.447Z"
   },
   {
    "duration": 19,
    "start_time": "2024-05-13T13:11:14.454Z"
   },
   {
    "duration": 192,
    "start_time": "2024-05-13T13:11:14.474Z"
   },
   {
    "duration": 4,
    "start_time": "2024-05-13T13:11:14.667Z"
   },
   {
    "duration": 82,
    "start_time": "2024-05-13T13:11:14.673Z"
   },
   {
    "duration": 10,
    "start_time": "2024-05-13T13:11:14.757Z"
   },
   {
    "duration": 4,
    "start_time": "2024-05-13T13:11:14.768Z"
   },
   {
    "duration": 157,
    "start_time": "2024-05-13T13:11:14.773Z"
   },
   {
    "duration": 14,
    "start_time": "2024-05-13T13:11:14.932Z"
   },
   {
    "duration": 7,
    "start_time": "2024-05-13T13:11:14.948Z"
   },
   {
    "duration": 4,
    "start_time": "2024-05-13T13:11:14.956Z"
   },
   {
    "duration": 5,
    "start_time": "2024-05-13T13:11:14.961Z"
   },
   {
    "duration": 9,
    "start_time": "2024-05-13T13:11:14.967Z"
   },
   {
    "duration": 7,
    "start_time": "2024-05-13T13:11:14.977Z"
   },
   {
    "duration": 5,
    "start_time": "2024-05-13T13:11:14.986Z"
   },
   {
    "duration": 16,
    "start_time": "2024-05-13T13:11:14.992Z"
   },
   {
    "duration": 39,
    "start_time": "2024-05-13T13:11:15.010Z"
   },
   {
    "duration": 29,
    "start_time": "2024-05-13T13:11:15.051Z"
   },
   {
    "duration": 26,
    "start_time": "2024-05-13T13:11:15.081Z"
   },
   {
    "duration": 32,
    "start_time": "2024-05-13T13:11:15.109Z"
   },
   {
    "duration": 54364,
    "start_time": "2024-05-13T18:54:42.249Z"
   },
   {
    "duration": 1569,
    "start_time": "2024-05-13T18:55:36.616Z"
   },
   {
    "duration": 5,
    "start_time": "2024-05-13T18:55:38.189Z"
   },
   {
    "duration": 45,
    "start_time": "2024-05-13T18:55:38.196Z"
   },
   {
    "duration": 150,
    "start_time": "2024-05-13T18:55:38.243Z"
   },
   {
    "duration": 15,
    "start_time": "2024-05-13T18:55:38.395Z"
   },
   {
    "duration": 20,
    "start_time": "2024-05-13T18:55:38.412Z"
   },
   {
    "duration": 35,
    "start_time": "2024-05-13T18:55:38.433Z"
   },
   {
    "duration": 140,
    "start_time": "2024-05-13T18:55:38.470Z"
   },
   {
    "duration": 9,
    "start_time": "2024-05-13T18:55:38.612Z"
   },
   {
    "duration": 19,
    "start_time": "2024-05-13T18:55:38.622Z"
   },
   {
    "duration": 17,
    "start_time": "2024-05-13T18:55:38.643Z"
   },
   {
    "duration": 96,
    "start_time": "2024-05-13T18:55:38.663Z"
   },
   {
    "duration": 7,
    "start_time": "2024-05-13T18:55:38.761Z"
   },
   {
    "duration": 14,
    "start_time": "2024-05-13T18:55:38.770Z"
   },
   {
    "duration": 6,
    "start_time": "2024-05-13T18:55:38.786Z"
   },
   {
    "duration": 14,
    "start_time": "2024-05-13T18:55:38.793Z"
   },
   {
    "duration": 21,
    "start_time": "2024-05-13T18:55:38.809Z"
   },
   {
    "duration": 14,
    "start_time": "2024-05-13T18:55:38.832Z"
   },
   {
    "duration": 10,
    "start_time": "2024-05-13T18:55:38.848Z"
   },
   {
    "duration": 8,
    "start_time": "2024-05-13T18:55:38.860Z"
   },
   {
    "duration": 11,
    "start_time": "2024-05-13T18:55:38.870Z"
   },
   {
    "duration": 4,
    "start_time": "2024-05-13T18:55:38.882Z"
   },
   {
    "duration": 14,
    "start_time": "2024-05-13T18:55:38.888Z"
   },
   {
    "duration": 8,
    "start_time": "2024-05-13T18:55:38.903Z"
   },
   {
    "duration": 5,
    "start_time": "2024-05-13T18:55:38.912Z"
   },
   {
    "duration": 10,
    "start_time": "2024-05-13T18:55:38.918Z"
   },
   {
    "duration": 14,
    "start_time": "2024-05-13T18:55:38.929Z"
   },
   {
    "duration": 5,
    "start_time": "2024-05-13T18:55:38.959Z"
   },
   {
    "duration": 13,
    "start_time": "2024-05-13T18:55:38.965Z"
   },
   {
    "duration": 13,
    "start_time": "2024-05-13T18:55:38.979Z"
   },
   {
    "duration": 4,
    "start_time": "2024-05-13T18:55:38.994Z"
   },
   {
    "duration": 386,
    "start_time": "2024-05-13T18:55:39.000Z"
   },
   {
    "duration": 91,
    "start_time": "2024-05-13T18:55:39.387Z"
   },
   {
    "duration": 955,
    "start_time": "2024-05-13T18:55:39.480Z"
   },
   {
    "duration": 1373,
    "start_time": "2024-05-13T18:55:40.437Z"
   },
   {
    "duration": 1049,
    "start_time": "2024-05-13T18:55:41.811Z"
   },
   {
    "duration": 21,
    "start_time": "2024-05-13T18:55:42.862Z"
   },
   {
    "duration": 11,
    "start_time": "2024-05-13T18:55:42.885Z"
   },
   {
    "duration": 9,
    "start_time": "2024-05-13T18:55:42.901Z"
   },
   {
    "duration": 6,
    "start_time": "2024-05-13T18:55:42.912Z"
   },
   {
    "duration": 5,
    "start_time": "2024-05-13T18:55:42.920Z"
   },
   {
    "duration": 5,
    "start_time": "2024-05-13T18:55:42.964Z"
   },
   {
    "duration": 297,
    "start_time": "2024-05-13T18:55:42.971Z"
   },
   {
    "duration": 5,
    "start_time": "2024-05-13T18:55:43.270Z"
   },
   {
    "duration": 8,
    "start_time": "2024-05-13T18:55:43.277Z"
   },
   {
    "duration": 5,
    "start_time": "2024-05-13T18:55:43.287Z"
   },
   {
    "duration": 271,
    "start_time": "2024-05-13T18:55:43.294Z"
   },
   {
    "duration": 3,
    "start_time": "2024-05-13T18:55:43.567Z"
   },
   {
    "duration": 20,
    "start_time": "2024-05-13T18:55:43.572Z"
   },
   {
    "duration": 13,
    "start_time": "2024-05-13T18:55:43.593Z"
   },
   {
    "duration": 5,
    "start_time": "2024-05-13T18:55:43.608Z"
   },
   {
    "duration": 188,
    "start_time": "2024-05-13T18:55:43.615Z"
   },
   {
    "duration": 12,
    "start_time": "2024-05-13T18:55:43.806Z"
   },
   {
    "duration": 28,
    "start_time": "2024-05-13T18:55:43.820Z"
   },
   {
    "duration": 22,
    "start_time": "2024-05-13T18:55:43.850Z"
   },
   {
    "duration": 7,
    "start_time": "2024-05-13T18:55:43.874Z"
   },
   {
    "duration": 26,
    "start_time": "2024-05-13T18:55:43.883Z"
   },
   {
    "duration": 12,
    "start_time": "2024-05-13T18:55:43.911Z"
   },
   {
    "duration": 10,
    "start_time": "2024-05-13T18:55:43.925Z"
   },
   {
    "duration": 23,
    "start_time": "2024-05-13T18:55:43.937Z"
   },
   {
    "duration": 9,
    "start_time": "2024-05-13T18:55:43.962Z"
   },
   {
    "duration": 13,
    "start_time": "2024-05-13T18:55:43.973Z"
   },
   {
    "duration": 9,
    "start_time": "2024-05-13T18:55:43.987Z"
   },
   {
    "duration": 8,
    "start_time": "2024-05-13T18:55:43.998Z"
   },
   {
    "duration": 12,
    "start_time": "2024-05-13T19:10:01.573Z"
   },
   {
    "duration": 56235,
    "start_time": "2024-05-14T08:03:51.620Z"
   },
   {
    "duration": 2045,
    "start_time": "2024-05-14T08:04:47.858Z"
   },
   {
    "duration": 6,
    "start_time": "2024-05-14T08:04:49.905Z"
   },
   {
    "duration": 63,
    "start_time": "2024-05-14T08:04:49.913Z"
   },
   {
    "duration": 265,
    "start_time": "2024-05-14T08:04:49.978Z"
   },
   {
    "duration": 16,
    "start_time": "2024-05-14T08:04:50.245Z"
   },
   {
    "duration": 45,
    "start_time": "2024-05-14T08:04:50.262Z"
   },
   {
    "duration": 62,
    "start_time": "2024-05-14T08:04:50.309Z"
   },
   {
    "duration": 197,
    "start_time": "2024-05-14T08:04:50.373Z"
   },
   {
    "duration": 9,
    "start_time": "2024-05-14T08:04:50.572Z"
   },
   {
    "duration": 56,
    "start_time": "2024-05-14T08:04:50.583Z"
   },
   {
    "duration": 95,
    "start_time": "2024-05-14T08:04:50.641Z"
   },
   {
    "duration": 160,
    "start_time": "2024-05-14T08:04:50.739Z"
   },
   {
    "duration": 9,
    "start_time": "2024-05-14T08:04:50.903Z"
   },
   {
    "duration": 58,
    "start_time": "2024-05-14T08:04:50.914Z"
   },
   {
    "duration": 47,
    "start_time": "2024-05-14T08:04:50.975Z"
   },
   {
    "duration": 44,
    "start_time": "2024-05-14T08:04:51.024Z"
   },
   {
    "duration": 50,
    "start_time": "2024-05-14T08:04:51.070Z"
   },
   {
    "duration": 51,
    "start_time": "2024-05-14T08:04:51.122Z"
   },
   {
    "duration": 38,
    "start_time": "2024-05-14T08:04:51.175Z"
   },
   {
    "duration": 62,
    "start_time": "2024-05-14T08:04:51.215Z"
   },
   {
    "duration": 54,
    "start_time": "2024-05-14T08:04:51.279Z"
   },
   {
    "duration": 33,
    "start_time": "2024-05-14T08:04:51.335Z"
   },
   {
    "duration": 40,
    "start_time": "2024-05-14T08:04:51.370Z"
   },
   {
    "duration": 49,
    "start_time": "2024-05-14T08:04:51.411Z"
   },
   {
    "duration": 55,
    "start_time": "2024-05-14T08:04:51.462Z"
   },
   {
    "duration": 58,
    "start_time": "2024-05-14T08:04:51.519Z"
   },
   {
    "duration": 46,
    "start_time": "2024-05-14T08:04:51.579Z"
   },
   {
    "duration": 23,
    "start_time": "2024-05-14T08:04:51.627Z"
   },
   {
    "duration": 464,
    "start_time": "2024-05-14T08:04:51.652Z"
   },
   {
    "duration": 135,
    "start_time": "2024-05-14T08:04:52.119Z"
   },
   {
    "duration": 1129,
    "start_time": "2024-05-14T08:04:52.257Z"
   },
   {
    "duration": 1488,
    "start_time": "2024-05-14T08:04:53.388Z"
   },
   {
    "duration": 1358,
    "start_time": "2024-05-14T08:04:54.878Z"
   },
   {
    "duration": 22,
    "start_time": "2024-05-14T08:04:56.237Z"
   },
   {
    "duration": 18,
    "start_time": "2024-05-14T08:04:56.260Z"
   },
   {
    "duration": 64,
    "start_time": "2024-05-14T08:04:56.280Z"
   },
   {
    "duration": 57,
    "start_time": "2024-05-14T08:04:56.346Z"
   },
   {
    "duration": 29,
    "start_time": "2024-05-14T08:04:56.404Z"
   },
   {
    "duration": 33,
    "start_time": "2024-05-14T08:04:56.436Z"
   },
   {
    "duration": 272,
    "start_time": "2024-05-14T08:04:56.473Z"
   },
   {
    "duration": 6,
    "start_time": "2024-05-14T08:04:56.747Z"
   },
   {
    "duration": 6,
    "start_time": "2024-05-14T08:04:56.829Z"
   },
   {
    "duration": 26,
    "start_time": "2024-05-14T08:04:56.837Z"
   },
   {
    "duration": 266,
    "start_time": "2024-05-14T08:04:56.865Z"
   },
   {
    "duration": 6,
    "start_time": "2024-05-14T08:04:57.134Z"
   },
   {
    "duration": 37,
    "start_time": "2024-05-14T08:04:57.142Z"
   },
   {
    "duration": 15,
    "start_time": "2024-05-14T08:04:57.181Z"
   },
   {
    "duration": 10,
    "start_time": "2024-05-14T08:04:57.197Z"
   },
   {
    "duration": 235,
    "start_time": "2024-05-14T08:04:57.209Z"
   },
   {
    "duration": 12,
    "start_time": "2024-05-14T08:04:57.446Z"
   },
   {
    "duration": 26,
    "start_time": "2024-05-14T08:04:57.460Z"
   },
   {
    "duration": 15,
    "start_time": "2024-05-14T08:04:57.488Z"
   },
   {
    "duration": 41,
    "start_time": "2024-05-14T08:04:57.505Z"
   },
   {
    "duration": 12,
    "start_time": "2024-05-14T08:04:57.549Z"
   },
   {
    "duration": 8,
    "start_time": "2024-05-14T08:04:57.563Z"
   },
   {
    "duration": 16,
    "start_time": "2024-05-14T08:04:57.574Z"
   },
   {
    "duration": 41,
    "start_time": "2024-05-14T08:04:57.592Z"
   },
   {
    "duration": 33,
    "start_time": "2024-05-14T08:04:57.635Z"
   },
   {
    "duration": 27,
    "start_time": "2024-05-14T08:04:57.670Z"
   },
   {
    "duration": 18,
    "start_time": "2024-05-14T08:04:57.699Z"
   },
   {
    "duration": 27,
    "start_time": "2024-05-14T08:04:57.720Z"
   },
   {
    "duration": 391,
    "start_time": "2024-05-14T08:07:06.902Z"
   },
   {
    "duration": 383,
    "start_time": "2024-05-14T08:07:14.592Z"
   },
   {
    "duration": 359,
    "start_time": "2024-05-14T08:09:13.275Z"
   },
   {
    "duration": 371,
    "start_time": "2024-05-14T08:11:12.623Z"
   },
   {
    "duration": 376,
    "start_time": "2024-05-14T08:15:23.314Z"
   },
   {
    "duration": 385,
    "start_time": "2024-05-14T08:15:37.281Z"
   },
   {
    "duration": 248,
    "start_time": "2024-05-14T08:23:11.734Z"
   },
   {
    "duration": 339,
    "start_time": "2024-05-14T08:25:33.231Z"
   },
   {
    "duration": 488,
    "start_time": "2024-05-14T08:28:22.573Z"
   },
   {
    "duration": 48,
    "start_time": "2024-05-14T10:02:19.381Z"
   },
   {
    "duration": 50572,
    "start_time": "2024-05-14T10:02:31.862Z"
   },
   {
    "duration": 2584,
    "start_time": "2024-05-14T10:03:22.437Z"
   },
   {
    "duration": 4,
    "start_time": "2024-05-14T10:03:25.023Z"
   },
   {
    "duration": 48,
    "start_time": "2024-05-14T10:03:25.029Z"
   },
   {
    "duration": 179,
    "start_time": "2024-05-14T10:03:25.080Z"
   },
   {
    "duration": 16,
    "start_time": "2024-05-14T10:03:25.260Z"
   },
   {
    "duration": 47,
    "start_time": "2024-05-14T10:03:25.277Z"
   },
   {
    "duration": 49,
    "start_time": "2024-05-14T10:03:25.326Z"
   },
   {
    "duration": 235,
    "start_time": "2024-05-14T10:03:25.377Z"
   },
   {
    "duration": 7,
    "start_time": "2024-05-14T10:03:25.614Z"
   },
   {
    "duration": 48,
    "start_time": "2024-05-14T10:03:25.622Z"
   },
   {
    "duration": 37,
    "start_time": "2024-05-14T10:03:25.671Z"
   },
   {
    "duration": 159,
    "start_time": "2024-05-14T10:03:25.709Z"
   },
   {
    "duration": 9,
    "start_time": "2024-05-14T10:03:25.870Z"
   },
   {
    "duration": 31,
    "start_time": "2024-05-14T10:03:25.880Z"
   },
   {
    "duration": 19,
    "start_time": "2024-05-14T10:03:25.912Z"
   },
   {
    "duration": 24,
    "start_time": "2024-05-14T10:03:25.933Z"
   },
   {
    "duration": 16,
    "start_time": "2024-05-14T10:03:25.959Z"
   },
   {
    "duration": 12,
    "start_time": "2024-05-14T10:03:25.976Z"
   },
   {
    "duration": 22,
    "start_time": "2024-05-14T10:03:25.989Z"
   },
   {
    "duration": 31,
    "start_time": "2024-05-14T10:03:26.013Z"
   },
   {
    "duration": 21,
    "start_time": "2024-05-14T10:03:26.046Z"
   },
   {
    "duration": 25,
    "start_time": "2024-05-14T10:03:26.069Z"
   },
   {
    "duration": 24,
    "start_time": "2024-05-14T10:03:26.096Z"
   },
   {
    "duration": 16,
    "start_time": "2024-05-14T10:03:26.122Z"
   },
   {
    "duration": 6,
    "start_time": "2024-05-14T10:03:26.139Z"
   },
   {
    "duration": 17,
    "start_time": "2024-05-14T10:03:26.147Z"
   },
   {
    "duration": 14,
    "start_time": "2024-05-14T10:03:26.165Z"
   },
   {
    "duration": 455,
    "start_time": "2024-05-14T10:03:26.180Z"
   },
   {
    "duration": 135,
    "start_time": "2024-05-14T10:03:26.636Z"
   },
   {
    "duration": 8,
    "start_time": "2024-05-14T10:03:26.773Z"
   },
   {
    "duration": 1268,
    "start_time": "2024-05-14T10:08:08.979Z"
   },
   {
    "duration": 8,
    "start_time": "2024-05-14T10:08:21.349Z"
   },
   {
    "duration": 1356,
    "start_time": "2024-05-14T10:08:23.742Z"
   },
   {
    "duration": 5,
    "start_time": "2024-05-14T10:34:21.448Z"
   },
   {
    "duration": 10,
    "start_time": "2024-05-14T10:35:17.929Z"
   },
   {
    "duration": 21,
    "start_time": "2024-05-14T10:35:24.419Z"
   },
   {
    "duration": 4,
    "start_time": "2024-05-14T10:35:26.863Z"
   },
   {
    "duration": 12,
    "start_time": "2024-05-14T10:36:54.089Z"
   },
   {
    "duration": 11,
    "start_time": "2024-05-14T11:12:43.075Z"
   },
   {
    "duration": 30910,
    "start_time": "2024-05-14T11:13:00.753Z"
   },
   {
    "duration": 1649,
    "start_time": "2024-05-14T11:13:31.665Z"
   },
   {
    "duration": 4,
    "start_time": "2024-05-14T11:13:33.316Z"
   },
   {
    "duration": 54,
    "start_time": "2024-05-14T11:13:33.321Z"
   },
   {
    "duration": 146,
    "start_time": "2024-05-14T11:13:33.378Z"
   },
   {
    "duration": 16,
    "start_time": "2024-05-14T11:13:33.526Z"
   },
   {
    "duration": 10,
    "start_time": "2024-05-14T11:13:33.543Z"
   },
   {
    "duration": 29,
    "start_time": "2024-05-14T11:13:33.555Z"
   },
   {
    "duration": 194,
    "start_time": "2024-05-14T11:13:33.586Z"
   },
   {
    "duration": 8,
    "start_time": "2024-05-14T11:13:33.782Z"
   },
   {
    "duration": 12,
    "start_time": "2024-05-14T11:13:33.792Z"
   },
   {
    "duration": 27,
    "start_time": "2024-05-14T11:13:33.806Z"
   },
   {
    "duration": 169,
    "start_time": "2024-05-14T11:13:33.834Z"
   },
   {
    "duration": 8,
    "start_time": "2024-05-14T11:13:34.006Z"
   },
   {
    "duration": 32,
    "start_time": "2024-05-14T11:13:34.015Z"
   },
   {
    "duration": 16,
    "start_time": "2024-05-14T11:13:34.048Z"
   },
   {
    "duration": 16,
    "start_time": "2024-05-14T11:13:34.066Z"
   },
   {
    "duration": 19,
    "start_time": "2024-05-14T11:13:34.083Z"
   },
   {
    "duration": 7,
    "start_time": "2024-05-14T11:13:34.103Z"
   },
   {
    "duration": 16,
    "start_time": "2024-05-14T11:13:34.111Z"
   },
   {
    "duration": 22,
    "start_time": "2024-05-14T11:13:34.128Z"
   },
   {
    "duration": 6,
    "start_time": "2024-05-14T11:13:34.152Z"
   },
   {
    "duration": 17,
    "start_time": "2024-05-14T11:13:34.160Z"
   },
   {
    "duration": 6,
    "start_time": "2024-05-14T11:13:34.179Z"
   },
   {
    "duration": 6,
    "start_time": "2024-05-14T11:13:34.187Z"
   },
   {
    "duration": 8,
    "start_time": "2024-05-14T11:13:34.195Z"
   },
   {
    "duration": 8,
    "start_time": "2024-05-14T11:13:34.204Z"
   },
   {
    "duration": 24,
    "start_time": "2024-05-14T11:13:34.213Z"
   },
   {
    "duration": 374,
    "start_time": "2024-05-14T11:13:34.238Z"
   },
   {
    "duration": 96,
    "start_time": "2024-05-14T11:13:34.614Z"
   },
   {
    "duration": 65,
    "start_time": "2024-05-14T11:13:34.712Z"
   },
   {
    "duration": 988,
    "start_time": "2024-05-14T11:13:34.778Z"
   },
   {
    "duration": 9,
    "start_time": "2024-05-14T11:13:35.770Z"
   },
   {
    "duration": 1384,
    "start_time": "2024-05-14T11:13:35.781Z"
   },
   {
    "duration": 1137,
    "start_time": "2024-05-14T11:13:37.167Z"
   },
   {
    "duration": 4,
    "start_time": "2024-05-14T11:13:38.306Z"
   },
   {
    "duration": 55,
    "start_time": "2024-05-14T11:13:38.312Z"
   },
   {
    "duration": 4,
    "start_time": "2024-05-14T11:13:38.369Z"
   },
   {
    "duration": 30,
    "start_time": "2024-05-14T11:13:38.374Z"
   },
   {
    "duration": 12,
    "start_time": "2024-05-14T11:13:38.406Z"
   },
   {
    "duration": 6,
    "start_time": "2024-05-14T11:13:38.422Z"
   },
   {
    "duration": 15,
    "start_time": "2024-05-14T11:13:38.430Z"
   },
   {
    "duration": 10,
    "start_time": "2024-05-14T11:13:38.447Z"
   },
   {
    "duration": 11,
    "start_time": "2024-05-14T11:13:38.458Z"
   },
   {
    "duration": 310,
    "start_time": "2024-05-14T11:13:38.471Z"
   },
   {
    "duration": 5,
    "start_time": "2024-05-14T11:13:38.783Z"
   },
   {
    "duration": 15,
    "start_time": "2024-05-14T11:13:38.790Z"
   },
   {
    "duration": 29,
    "start_time": "2024-05-14T11:13:38.807Z"
   },
   {
    "duration": 269,
    "start_time": "2024-05-14T11:13:38.838Z"
   },
   {
    "duration": 4,
    "start_time": "2024-05-14T11:13:39.109Z"
   },
   {
    "duration": 64,
    "start_time": "2024-05-14T11:13:39.114Z"
   },
   {
    "duration": 12,
    "start_time": "2024-05-14T11:13:39.180Z"
   },
   {
    "duration": 8,
    "start_time": "2024-05-14T11:13:39.193Z"
   },
   {
    "duration": 177,
    "start_time": "2024-05-14T11:13:39.203Z"
   },
   {
    "duration": 11,
    "start_time": "2024-05-14T11:13:39.382Z"
   },
   {
    "duration": 22,
    "start_time": "2024-05-14T11:13:39.395Z"
   },
   {
    "duration": 31,
    "start_time": "2024-05-14T11:13:39.419Z"
   },
   {
    "duration": 8,
    "start_time": "2024-05-14T11:13:39.452Z"
   },
   {
    "duration": 9,
    "start_time": "2024-05-14T11:13:39.461Z"
   },
   {
    "duration": 140,
    "start_time": "2024-05-14T11:19:14.955Z"
   },
   {
    "duration": 4,
    "start_time": "2024-05-14T11:19:35.344Z"
   },
   {
    "duration": 47,
    "start_time": "2024-05-14T11:19:56.700Z"
   },
   {
    "duration": 43,
    "start_time": "2024-05-14T11:20:12.482Z"
   },
   {
    "duration": 9,
    "start_time": "2024-05-14T11:20:22.436Z"
   },
   {
    "duration": 11,
    "start_time": "2024-05-14T11:20:45.974Z"
   },
   {
    "duration": 10,
    "start_time": "2024-05-14T11:31:01.466Z"
   },
   {
    "duration": 86,
    "start_time": "2024-05-14T11:31:15.429Z"
   },
   {
    "duration": 97,
    "start_time": "2024-05-14T11:31:20.267Z"
   },
   {
    "duration": 74,
    "start_time": "2024-05-14T11:34:26.527Z"
   },
   {
    "duration": 72,
    "start_time": "2024-05-14T11:34:34.025Z"
   },
   {
    "duration": 10,
    "start_time": "2024-05-14T11:34:39.086Z"
   },
   {
    "duration": 7,
    "start_time": "2024-05-14T11:52:41.466Z"
   },
   {
    "duration": 7,
    "start_time": "2024-05-14T11:55:28.406Z"
   },
   {
    "duration": 6,
    "start_time": "2024-05-14T12:38:01.857Z"
   },
   {
    "duration": 5,
    "start_time": "2024-05-14T12:40:04.061Z"
   },
   {
    "duration": 5,
    "start_time": "2024-05-14T12:40:24.548Z"
   },
   {
    "duration": 6,
    "start_time": "2024-05-14T12:40:42.533Z"
   },
   {
    "duration": 9,
    "start_time": "2024-05-14T13:20:12.137Z"
   },
   {
    "duration": 10,
    "start_time": "2024-05-14T13:37:04.011Z"
   },
   {
    "duration": 6,
    "start_time": "2024-05-14T13:40:08.332Z"
   },
   {
    "duration": 86,
    "start_time": "2024-05-14T14:11:20.726Z"
   },
   {
    "duration": 13,
    "start_time": "2024-05-14T14:48:00.403Z"
   },
   {
    "duration": 49910,
    "start_time": "2024-05-15T08:17:24.418Z"
   },
   {
    "duration": 1639,
    "start_time": "2024-05-15T08:18:14.330Z"
   },
   {
    "duration": 3,
    "start_time": "2024-05-15T08:18:15.971Z"
   },
   {
    "duration": 11,
    "start_time": "2024-05-15T08:18:15.976Z"
   },
   {
    "duration": 133,
    "start_time": "2024-05-15T08:18:15.988Z"
   },
   {
    "duration": 12,
    "start_time": "2024-05-15T08:18:16.123Z"
   },
   {
    "duration": 32,
    "start_time": "2024-05-15T08:18:16.136Z"
   },
   {
    "duration": 22,
    "start_time": "2024-05-15T08:18:16.169Z"
   },
   {
    "duration": 151,
    "start_time": "2024-05-15T08:18:16.192Z"
   },
   {
    "duration": 8,
    "start_time": "2024-05-15T08:18:16.345Z"
   },
   {
    "duration": 12,
    "start_time": "2024-05-15T08:18:16.354Z"
   },
   {
    "duration": 16,
    "start_time": "2024-05-15T08:18:16.368Z"
   },
   {
    "duration": 144,
    "start_time": "2024-05-15T08:18:16.385Z"
   },
   {
    "duration": 7,
    "start_time": "2024-05-15T08:18:16.530Z"
   },
   {
    "duration": 13,
    "start_time": "2024-05-15T08:18:16.538Z"
   },
   {
    "duration": 4,
    "start_time": "2024-05-15T08:18:16.553Z"
   },
   {
    "duration": 7,
    "start_time": "2024-05-15T08:18:16.558Z"
   },
   {
    "duration": 5,
    "start_time": "2024-05-15T08:18:16.566Z"
   },
   {
    "duration": 4,
    "start_time": "2024-05-15T08:18:16.573Z"
   },
   {
    "duration": 7,
    "start_time": "2024-05-15T08:18:16.578Z"
   },
   {
    "duration": 7,
    "start_time": "2024-05-15T08:18:16.586Z"
   },
   {
    "duration": 7,
    "start_time": "2024-05-15T08:18:16.611Z"
   },
   {
    "duration": 12,
    "start_time": "2024-05-15T08:18:16.619Z"
   },
   {
    "duration": 11,
    "start_time": "2024-05-15T08:18:16.632Z"
   },
   {
    "duration": 8,
    "start_time": "2024-05-15T08:18:16.644Z"
   },
   {
    "duration": 21,
    "start_time": "2024-05-15T08:18:16.654Z"
   },
   {
    "duration": 12,
    "start_time": "2024-05-15T08:18:16.677Z"
   },
   {
    "duration": 19,
    "start_time": "2024-05-15T08:18:16.692Z"
   },
   {
    "duration": 348,
    "start_time": "2024-05-15T08:18:16.712Z"
   },
   {
    "duration": 84,
    "start_time": "2024-05-15T08:18:17.061Z"
   },
   {
    "duration": 70,
    "start_time": "2024-05-15T08:18:17.147Z"
   },
   {
    "duration": 6,
    "start_time": "2024-05-15T08:18:17.218Z"
   },
   {
    "duration": 918,
    "start_time": "2024-05-15T08:18:17.225Z"
   },
   {
    "duration": 7,
    "start_time": "2024-05-15T08:18:18.144Z"
   },
   {
    "duration": 20,
    "start_time": "2024-05-15T08:18:18.152Z"
   },
   {
    "duration": 1180,
    "start_time": "2024-05-15T08:18:18.174Z"
   },
   {
    "duration": 6,
    "start_time": "2024-05-15T08:18:19.356Z"
   },
   {
    "duration": 14,
    "start_time": "2024-05-15T08:18:19.363Z"
   },
   {
    "duration": 1074,
    "start_time": "2024-05-15T08:18:19.379Z"
   },
   {
    "duration": 4,
    "start_time": "2024-05-15T08:18:20.454Z"
   },
   {
    "duration": 782,
    "start_time": "2024-05-15T08:18:20.459Z"
   },
   {
    "duration": 1034,
    "start_time": "2024-05-15T08:18:21.243Z"
   },
   {
    "duration": 270,
    "start_time": "2024-05-15T08:18:22.278Z"
   },
   {
    "duration": 244,
    "start_time": "2024-05-15T08:18:22.549Z"
   },
   {
    "duration": 6,
    "start_time": "2024-05-15T08:18:22.795Z"
   },
   {
    "duration": 5,
    "start_time": "2024-05-15T08:18:22.802Z"
   },
   {
    "duration": 10,
    "start_time": "2024-05-15T08:18:22.808Z"
   },
   {
    "duration": 18,
    "start_time": "2024-05-15T08:18:22.819Z"
   },
   {
    "duration": 277,
    "start_time": "2024-05-15T08:18:22.838Z"
   },
   {
    "duration": 5,
    "start_time": "2024-05-15T08:18:23.117Z"
   },
   {
    "duration": 12,
    "start_time": "2024-05-15T08:18:23.124Z"
   },
   {
    "duration": 10,
    "start_time": "2024-05-15T08:18:23.137Z"
   },
   {
    "duration": 272,
    "start_time": "2024-05-15T08:18:23.149Z"
   },
   {
    "duration": 3,
    "start_time": "2024-05-15T08:18:23.423Z"
   },
   {
    "duration": 13,
    "start_time": "2024-05-15T08:18:23.428Z"
   },
   {
    "duration": 9,
    "start_time": "2024-05-15T08:18:23.443Z"
   },
   {
    "duration": 11,
    "start_time": "2024-05-15T08:18:23.454Z"
   },
   {
    "duration": 199,
    "start_time": "2024-05-15T08:18:23.466Z"
   },
   {
    "duration": 10,
    "start_time": "2024-05-15T08:18:23.667Z"
   },
   {
    "duration": 3,
    "start_time": "2024-05-15T08:18:23.679Z"
   },
   {
    "duration": 5,
    "start_time": "2024-05-15T08:18:23.683Z"
   },
   {
    "duration": 5,
    "start_time": "2024-05-15T08:18:23.689Z"
   },
   {
    "duration": 6,
    "start_time": "2024-05-15T08:18:23.711Z"
   },
   {
    "duration": 7,
    "start_time": "2024-05-15T08:18:23.719Z"
   },
   {
    "duration": 7,
    "start_time": "2024-05-15T08:18:23.727Z"
   },
   {
    "duration": 26,
    "start_time": "2024-05-15T08:18:23.735Z"
   },
   {
    "duration": 13,
    "start_time": "2024-05-15T08:18:23.762Z"
   },
   {
    "duration": 9,
    "start_time": "2024-05-15T08:18:23.776Z"
   },
   {
    "duration": 14,
    "start_time": "2024-05-15T08:18:23.786Z"
   },
   {
    "duration": 17,
    "start_time": "2024-05-15T08:18:23.802Z"
   },
   {
    "duration": 58,
    "start_time": "2024-05-15T10:47:56.577Z"
   },
   {
    "duration": 52,
    "start_time": "2024-05-15T10:59:20.784Z"
   },
   {
    "duration": 52588,
    "start_time": "2024-05-15T10:59:33.823Z"
   },
   {
    "duration": 1823,
    "start_time": "2024-05-15T11:00:26.414Z"
   },
   {
    "duration": 5,
    "start_time": "2024-05-15T11:00:28.239Z"
   },
   {
    "duration": 28,
    "start_time": "2024-05-15T11:00:28.246Z"
   },
   {
    "duration": 144,
    "start_time": "2024-05-15T11:00:28.276Z"
   },
   {
    "duration": 15,
    "start_time": "2024-05-15T11:00:28.421Z"
   },
   {
    "duration": 17,
    "start_time": "2024-05-15T11:00:28.437Z"
   },
   {
    "duration": 20,
    "start_time": "2024-05-15T11:00:28.455Z"
   },
   {
    "duration": 161,
    "start_time": "2024-05-15T11:00:28.476Z"
   },
   {
    "duration": 8,
    "start_time": "2024-05-15T11:00:28.640Z"
   },
   {
    "duration": 23,
    "start_time": "2024-05-15T11:00:28.649Z"
   },
   {
    "duration": 21,
    "start_time": "2024-05-15T11:00:28.674Z"
   },
   {
    "duration": 109,
    "start_time": "2024-05-15T11:00:28.696Z"
   },
   {
    "duration": 8,
    "start_time": "2024-05-15T11:00:28.807Z"
   },
   {
    "duration": 23,
    "start_time": "2024-05-15T11:00:28.816Z"
   },
   {
    "duration": 5,
    "start_time": "2024-05-15T11:00:28.840Z"
   },
   {
    "duration": 30,
    "start_time": "2024-05-15T11:00:28.846Z"
   },
   {
    "duration": 25,
    "start_time": "2024-05-15T11:00:28.878Z"
   },
   {
    "duration": 14,
    "start_time": "2024-05-15T11:00:28.905Z"
   },
   {
    "duration": 34,
    "start_time": "2024-05-15T11:00:28.920Z"
   },
   {
    "duration": 14,
    "start_time": "2024-05-15T11:00:28.956Z"
   },
   {
    "duration": 5,
    "start_time": "2024-05-15T11:00:28.971Z"
   },
   {
    "duration": 14,
    "start_time": "2024-05-15T11:00:28.977Z"
   },
   {
    "duration": 8,
    "start_time": "2024-05-15T11:00:28.992Z"
   },
   {
    "duration": 58,
    "start_time": "2024-05-15T11:00:29.002Z"
   },
   {
    "duration": 30,
    "start_time": "2024-05-15T11:00:29.061Z"
   },
   {
    "duration": 16,
    "start_time": "2024-05-15T11:00:29.092Z"
   },
   {
    "duration": 14,
    "start_time": "2024-05-15T11:00:29.112Z"
   },
   {
    "duration": 422,
    "start_time": "2024-05-15T11:00:29.128Z"
   },
   {
    "duration": 125,
    "start_time": "2024-05-15T11:00:29.558Z"
   },
   {
    "duration": 77,
    "start_time": "2024-05-15T11:00:29.685Z"
   },
   {
    "duration": 21,
    "start_time": "2024-05-15T11:00:29.764Z"
   },
   {
    "duration": 876,
    "start_time": "2024-05-15T11:00:29.787Z"
   },
   {
    "duration": 7,
    "start_time": "2024-05-15T11:00:30.665Z"
   },
   {
    "duration": 77,
    "start_time": "2024-05-15T11:00:30.674Z"
   },
   {
    "duration": 1472,
    "start_time": "2024-05-15T11:00:30.753Z"
   },
   {
    "duration": 9,
    "start_time": "2024-05-15T11:00:32.227Z"
   },
   {
    "duration": 75,
    "start_time": "2024-05-15T11:00:32.238Z"
   },
   {
    "duration": 1135,
    "start_time": "2024-05-15T11:00:32.315Z"
   },
   {
    "duration": 8,
    "start_time": "2024-05-15T11:00:33.452Z"
   },
   {
    "duration": 27,
    "start_time": "2024-05-15T11:00:33.462Z"
   },
   {
    "duration": 4,
    "start_time": "2024-05-15T11:00:33.491Z"
   },
   {
    "duration": 22,
    "start_time": "2024-05-15T11:00:33.496Z"
   },
   {
    "duration": 20,
    "start_time": "2024-05-15T11:00:33.520Z"
   },
   {
    "duration": 12,
    "start_time": "2024-05-15T11:00:33.542Z"
   },
   {
    "duration": 39,
    "start_time": "2024-05-15T11:00:33.558Z"
   },
   {
    "duration": 18,
    "start_time": "2024-05-15T11:00:33.599Z"
   },
   {
    "duration": 17,
    "start_time": "2024-05-15T11:00:33.619Z"
   },
   {
    "duration": 330,
    "start_time": "2024-05-15T11:00:33.637Z"
   },
   {
    "duration": 5,
    "start_time": "2024-05-15T11:00:33.969Z"
   },
   {
    "duration": 36,
    "start_time": "2024-05-15T11:00:33.976Z"
   },
   {
    "duration": 23,
    "start_time": "2024-05-15T11:00:34.014Z"
   },
   {
    "duration": 112,
    "start_time": "2024-05-15T11:04:12.151Z"
   },
   {
    "duration": 132,
    "start_time": "2024-05-15T11:04:26.152Z"
   },
   {
    "duration": 6,
    "start_time": "2024-05-15T11:05:06.041Z"
   },
   {
    "duration": 29999,
    "start_time": "2024-05-15T11:05:18.856Z"
   },
   {
    "duration": 1704,
    "start_time": "2024-05-15T11:05:48.859Z"
   },
   {
    "duration": 5,
    "start_time": "2024-05-15T11:05:50.565Z"
   },
   {
    "duration": 24,
    "start_time": "2024-05-15T11:05:50.572Z"
   },
   {
    "duration": 139,
    "start_time": "2024-05-15T11:05:50.598Z"
   },
   {
    "duration": 15,
    "start_time": "2024-05-15T11:05:50.739Z"
   },
   {
    "duration": 16,
    "start_time": "2024-05-15T11:05:50.755Z"
   },
   {
    "duration": 26,
    "start_time": "2024-05-15T11:05:50.773Z"
   },
   {
    "duration": 173,
    "start_time": "2024-05-15T11:05:50.800Z"
   },
   {
    "duration": 9,
    "start_time": "2024-05-15T11:05:50.976Z"
   },
   {
    "duration": 84,
    "start_time": "2024-05-15T11:05:50.987Z"
   },
   {
    "duration": 37,
    "start_time": "2024-05-15T11:05:51.073Z"
   },
   {
    "duration": 114,
    "start_time": "2024-05-15T11:05:51.112Z"
   },
   {
    "duration": 8,
    "start_time": "2024-05-15T11:05:51.228Z"
   },
   {
    "duration": 34,
    "start_time": "2024-05-15T11:05:51.238Z"
   },
   {
    "duration": 38,
    "start_time": "2024-05-15T11:05:51.274Z"
   },
   {
    "duration": 29,
    "start_time": "2024-05-15T11:05:51.314Z"
   },
   {
    "duration": 19,
    "start_time": "2024-05-15T11:05:51.345Z"
   },
   {
    "duration": 44,
    "start_time": "2024-05-15T11:05:51.366Z"
   },
   {
    "duration": 23,
    "start_time": "2024-05-15T11:05:51.412Z"
   },
   {
    "duration": 23,
    "start_time": "2024-05-15T11:05:51.437Z"
   },
   {
    "duration": 19,
    "start_time": "2024-05-15T11:05:51.462Z"
   },
   {
    "duration": 29,
    "start_time": "2024-05-15T11:05:51.483Z"
   },
   {
    "duration": 34,
    "start_time": "2024-05-15T11:05:51.514Z"
   },
   {
    "duration": 38,
    "start_time": "2024-05-15T11:05:51.550Z"
   },
   {
    "duration": 24,
    "start_time": "2024-05-15T11:05:51.590Z"
   },
   {
    "duration": 24,
    "start_time": "2024-05-15T11:05:51.616Z"
   },
   {
    "duration": 17,
    "start_time": "2024-05-15T11:05:51.644Z"
   },
   {
    "duration": 386,
    "start_time": "2024-05-15T11:05:51.662Z"
   },
   {
    "duration": 199,
    "start_time": "2024-05-15T11:05:52.060Z"
   },
   {
    "duration": 525,
    "start_time": "2024-05-15T11:07:02.654Z"
   },
   {
    "duration": 30370,
    "start_time": "2024-05-15T11:07:12.491Z"
   },
   {
    "duration": 6,
    "start_time": "2024-05-15T11:07:42.864Z"
   },
   {
    "duration": 9,
    "start_time": "2024-05-15T11:07:42.871Z"
   },
   {
    "duration": 14,
    "start_time": "2024-05-15T11:07:42.882Z"
   },
   {
    "duration": 135,
    "start_time": "2024-05-15T11:07:42.899Z"
   },
   {
    "duration": 14,
    "start_time": "2024-05-15T11:07:43.036Z"
   },
   {
    "duration": 25,
    "start_time": "2024-05-15T11:07:43.052Z"
   },
   {
    "duration": 23,
    "start_time": "2024-05-15T11:07:43.079Z"
   },
   {
    "duration": 148,
    "start_time": "2024-05-15T11:07:43.104Z"
   },
   {
    "duration": 8,
    "start_time": "2024-05-15T11:07:43.254Z"
   },
   {
    "duration": 12,
    "start_time": "2024-05-15T11:07:43.264Z"
   },
   {
    "duration": 27,
    "start_time": "2024-05-15T11:07:43.279Z"
   },
   {
    "duration": 104,
    "start_time": "2024-05-15T11:07:43.308Z"
   },
   {
    "duration": 10,
    "start_time": "2024-05-15T11:07:43.420Z"
   },
   {
    "duration": 44,
    "start_time": "2024-05-15T11:07:43.432Z"
   },
   {
    "duration": 6,
    "start_time": "2024-05-15T11:07:43.478Z"
   },
   {
    "duration": 15,
    "start_time": "2024-05-15T11:07:43.486Z"
   },
   {
    "duration": 17,
    "start_time": "2024-05-15T11:07:43.503Z"
   },
   {
    "duration": 8,
    "start_time": "2024-05-15T11:07:43.523Z"
   },
   {
    "duration": 26,
    "start_time": "2024-05-15T11:07:43.534Z"
   },
   {
    "duration": 16,
    "start_time": "2024-05-15T11:07:43.562Z"
   },
   {
    "duration": 7,
    "start_time": "2024-05-15T11:07:43.580Z"
   },
   {
    "duration": 13,
    "start_time": "2024-05-15T11:07:43.590Z"
   },
   {
    "duration": 6,
    "start_time": "2024-05-15T11:07:43.605Z"
   },
   {
    "duration": 29,
    "start_time": "2024-05-15T11:07:43.613Z"
   },
   {
    "duration": 9,
    "start_time": "2024-05-15T11:07:43.660Z"
   },
   {
    "duration": 15,
    "start_time": "2024-05-15T11:07:43.671Z"
   },
   {
    "duration": 5,
    "start_time": "2024-05-15T11:07:43.687Z"
   },
   {
    "duration": 425,
    "start_time": "2024-05-15T11:07:43.694Z"
   },
   {
    "duration": 142,
    "start_time": "2024-05-15T11:07:44.121Z"
   },
   {
    "duration": 11,
    "start_time": "2024-05-15T11:07:44.265Z"
   },
   {
    "duration": 81,
    "start_time": "2024-05-15T11:07:44.279Z"
   },
   {
    "duration": 1014,
    "start_time": "2024-05-15T11:07:44.362Z"
   },
   {
    "duration": 9,
    "start_time": "2024-05-15T11:07:45.378Z"
   },
   {
    "duration": 39,
    "start_time": "2024-05-15T11:07:45.389Z"
   },
   {
    "duration": 1458,
    "start_time": "2024-05-15T11:07:45.429Z"
   },
   {
    "duration": 10,
    "start_time": "2024-05-15T11:07:46.889Z"
   },
   {
    "duration": 18,
    "start_time": "2024-05-15T11:07:46.901Z"
   },
   {
    "duration": 1305,
    "start_time": "2024-05-15T11:07:46.923Z"
   },
   {
    "duration": 4,
    "start_time": "2024-05-15T11:07:48.230Z"
   },
   {
    "duration": 41,
    "start_time": "2024-05-15T11:07:48.240Z"
   },
   {
    "duration": 5,
    "start_time": "2024-05-15T11:07:48.283Z"
   },
   {
    "duration": 29,
    "start_time": "2024-05-15T11:07:48.290Z"
   },
   {
    "duration": 14,
    "start_time": "2024-05-15T11:07:48.321Z"
   },
   {
    "duration": 28,
    "start_time": "2024-05-15T11:07:48.338Z"
   },
   {
    "duration": 20,
    "start_time": "2024-05-15T11:07:48.369Z"
   },
   {
    "duration": 9,
    "start_time": "2024-05-15T11:07:48.391Z"
   },
   {
    "duration": 9,
    "start_time": "2024-05-15T11:07:48.402Z"
   },
   {
    "duration": 425,
    "start_time": "2024-05-15T11:08:04.955Z"
   },
   {
    "duration": 379,
    "start_time": "2024-05-15T11:08:27.582Z"
   },
   {
    "duration": 467,
    "start_time": "2024-05-15T11:09:38.340Z"
   },
   {
    "duration": 415,
    "start_time": "2024-05-15T11:10:37.408Z"
   },
   {
    "duration": 443,
    "start_time": "2024-05-15T11:10:50.961Z"
   },
   {
    "duration": 336,
    "start_time": "2024-05-15T11:11:30.570Z"
   },
   {
    "duration": 440,
    "start_time": "2024-05-15T11:11:39.934Z"
   },
   {
    "duration": 588,
    "start_time": "2024-05-15T11:15:25.171Z"
   },
   {
    "duration": 380,
    "start_time": "2024-05-15T11:15:55.697Z"
   },
   {
    "duration": 58,
    "start_time": "2024-05-15T11:19:01.090Z"
   },
   {
    "duration": 54,
    "start_time": "2024-05-15T11:19:17.067Z"
   },
   {
    "duration": 399,
    "start_time": "2024-05-15T11:19:25.707Z"
   },
   {
    "duration": 449,
    "start_time": "2024-05-15T11:19:50.909Z"
   },
   {
    "duration": 399,
    "start_time": "2024-05-15T11:20:16.487Z"
   },
   {
    "duration": 29389,
    "start_time": "2024-05-15T11:22:33.141Z"
   },
   {
    "duration": 1777,
    "start_time": "2024-05-15T11:23:02.533Z"
   },
   {
    "duration": 5,
    "start_time": "2024-05-15T11:23:04.311Z"
   },
   {
    "duration": 12,
    "start_time": "2024-05-15T11:23:04.317Z"
   },
   {
    "duration": 114,
    "start_time": "2024-05-15T11:23:04.331Z"
   },
   {
    "duration": 17,
    "start_time": "2024-05-15T11:23:04.446Z"
   },
   {
    "duration": 10,
    "start_time": "2024-05-15T11:23:04.465Z"
   },
   {
    "duration": 19,
    "start_time": "2024-05-15T11:23:04.477Z"
   },
   {
    "duration": 193,
    "start_time": "2024-05-15T11:23:04.497Z"
   },
   {
    "duration": 9,
    "start_time": "2024-05-15T11:23:04.692Z"
   },
   {
    "duration": 22,
    "start_time": "2024-05-15T11:23:04.703Z"
   },
   {
    "duration": 31,
    "start_time": "2024-05-15T11:23:04.727Z"
   },
   {
    "duration": 99,
    "start_time": "2024-05-15T11:23:04.759Z"
   },
   {
    "duration": 8,
    "start_time": "2024-05-15T11:23:04.862Z"
   },
   {
    "duration": 65,
    "start_time": "2024-05-15T11:23:04.872Z"
   },
   {
    "duration": 6,
    "start_time": "2024-05-15T11:23:04.939Z"
   },
   {
    "duration": 18,
    "start_time": "2024-05-15T11:23:04.947Z"
   },
   {
    "duration": 11,
    "start_time": "2024-05-15T11:23:04.967Z"
   },
   {
    "duration": 10,
    "start_time": "2024-05-15T11:23:04.980Z"
   },
   {
    "duration": 10,
    "start_time": "2024-05-15T11:23:04.992Z"
   },
   {
    "duration": 12,
    "start_time": "2024-05-15T11:23:05.003Z"
   },
   {
    "duration": 5,
    "start_time": "2024-05-15T11:23:05.017Z"
   },
   {
    "duration": 32,
    "start_time": "2024-05-15T11:23:05.023Z"
   },
   {
    "duration": 18,
    "start_time": "2024-05-15T11:23:05.057Z"
   },
   {
    "duration": 9,
    "start_time": "2024-05-15T11:23:05.077Z"
   },
   {
    "duration": 33,
    "start_time": "2024-05-15T11:23:05.087Z"
   },
   {
    "duration": 27,
    "start_time": "2024-05-15T11:23:05.122Z"
   },
   {
    "duration": 9,
    "start_time": "2024-05-15T11:23:05.150Z"
   },
   {
    "duration": 370,
    "start_time": "2024-05-15T11:23:05.161Z"
   },
   {
    "duration": 137,
    "start_time": "2024-05-15T11:23:05.533Z"
   },
   {
    "duration": 9,
    "start_time": "2024-05-15T11:23:05.673Z"
   },
   {
    "duration": 76,
    "start_time": "2024-05-15T11:23:05.684Z"
   },
   {
    "duration": 984,
    "start_time": "2024-05-15T11:23:05.762Z"
   },
   {
    "duration": 16,
    "start_time": "2024-05-15T11:23:06.749Z"
   },
   {
    "duration": 11,
    "start_time": "2024-05-15T11:23:06.767Z"
   },
   {
    "duration": 1259,
    "start_time": "2024-05-15T11:23:06.780Z"
   },
   {
    "duration": 18,
    "start_time": "2024-05-15T11:23:08.041Z"
   },
   {
    "duration": 7,
    "start_time": "2024-05-15T11:23:08.061Z"
   },
   {
    "duration": 1055,
    "start_time": "2024-05-15T11:23:08.070Z"
   },
   {
    "duration": 3,
    "start_time": "2024-05-15T11:23:09.127Z"
   },
   {
    "duration": 31,
    "start_time": "2024-05-15T11:23:09.134Z"
   },
   {
    "duration": 4,
    "start_time": "2024-05-15T11:23:09.167Z"
   },
   {
    "duration": 13,
    "start_time": "2024-05-15T11:23:09.172Z"
   },
   {
    "duration": 23,
    "start_time": "2024-05-15T11:23:09.186Z"
   },
   {
    "duration": 9,
    "start_time": "2024-05-15T11:23:09.210Z"
   },
   {
    "duration": 20,
    "start_time": "2024-05-15T11:23:09.221Z"
   },
   {
    "duration": 20,
    "start_time": "2024-05-15T11:23:09.242Z"
   },
   {
    "duration": 18,
    "start_time": "2024-05-15T11:23:09.263Z"
   },
   {
    "duration": 444,
    "start_time": "2024-05-15T11:23:09.283Z"
   },
   {
    "duration": 6,
    "start_time": "2024-05-15T11:23:09.729Z"
   },
   {
    "duration": 10,
    "start_time": "2024-05-15T11:23:09.736Z"
   },
   {
    "duration": 6,
    "start_time": "2024-05-15T11:23:09.758Z"
   },
   {
    "duration": 403,
    "start_time": "2024-05-15T11:24:10.782Z"
   },
   {
    "duration": 29427,
    "start_time": "2024-05-15T11:29:41.303Z"
   },
   {
    "duration": 1755,
    "start_time": "2024-05-15T11:30:10.733Z"
   },
   {
    "duration": 4,
    "start_time": "2024-05-15T11:30:12.490Z"
   },
   {
    "duration": 29,
    "start_time": "2024-05-15T11:30:12.495Z"
   },
   {
    "duration": 125,
    "start_time": "2024-05-15T11:30:12.527Z"
   },
   {
    "duration": 21,
    "start_time": "2024-05-15T11:30:12.654Z"
   },
   {
    "duration": 9,
    "start_time": "2024-05-15T11:30:12.677Z"
   },
   {
    "duration": 22,
    "start_time": "2024-05-15T11:30:12.687Z"
   },
   {
    "duration": 162,
    "start_time": "2024-05-15T11:30:12.711Z"
   },
   {
    "duration": 8,
    "start_time": "2024-05-15T11:30:12.875Z"
   },
   {
    "duration": 13,
    "start_time": "2024-05-15T11:30:12.885Z"
   },
   {
    "duration": 33,
    "start_time": "2024-05-15T11:30:12.900Z"
   },
   {
    "duration": 108,
    "start_time": "2024-05-15T11:30:12.935Z"
   },
   {
    "duration": 8,
    "start_time": "2024-05-15T11:30:13.046Z"
   },
   {
    "duration": 23,
    "start_time": "2024-05-15T11:30:13.055Z"
   },
   {
    "duration": 9,
    "start_time": "2024-05-15T11:30:13.080Z"
   },
   {
    "duration": 13,
    "start_time": "2024-05-15T11:30:13.090Z"
   },
   {
    "duration": 8,
    "start_time": "2024-05-15T11:30:13.105Z"
   },
   {
    "duration": 5,
    "start_time": "2024-05-15T11:30:13.116Z"
   },
   {
    "duration": 8,
    "start_time": "2024-05-15T11:30:13.122Z"
   },
   {
    "duration": 20,
    "start_time": "2024-05-15T11:30:13.132Z"
   },
   {
    "duration": 17,
    "start_time": "2024-05-15T11:30:13.154Z"
   },
   {
    "duration": 8,
    "start_time": "2024-05-15T11:30:13.173Z"
   },
   {
    "duration": 23,
    "start_time": "2024-05-15T11:30:13.182Z"
   },
   {
    "duration": 14,
    "start_time": "2024-05-15T11:30:13.206Z"
   },
   {
    "duration": 17,
    "start_time": "2024-05-15T11:30:13.222Z"
   },
   {
    "duration": 11,
    "start_time": "2024-05-15T11:30:13.241Z"
   },
   {
    "duration": 14,
    "start_time": "2024-05-15T11:30:13.254Z"
   },
   {
    "duration": 381,
    "start_time": "2024-05-15T11:30:13.270Z"
   },
   {
    "duration": 114,
    "start_time": "2024-05-15T11:30:13.654Z"
   },
   {
    "duration": 10,
    "start_time": "2024-05-15T11:30:13.771Z"
   },
   {
    "duration": 79,
    "start_time": "2024-05-15T11:30:13.783Z"
   },
   {
    "duration": 905,
    "start_time": "2024-05-15T11:30:13.863Z"
   },
   {
    "duration": 8,
    "start_time": "2024-05-15T11:30:14.770Z"
   },
   {
    "duration": 5,
    "start_time": "2024-05-15T11:30:14.780Z"
   },
   {
    "duration": 1263,
    "start_time": "2024-05-15T11:30:14.787Z"
   },
   {
    "duration": 12,
    "start_time": "2024-05-15T11:30:16.052Z"
   },
   {
    "duration": 9,
    "start_time": "2024-05-15T11:30:16.065Z"
   },
   {
    "duration": 1232,
    "start_time": "2024-05-15T11:30:16.076Z"
   },
   {
    "duration": 3,
    "start_time": "2024-05-15T11:30:17.310Z"
   },
   {
    "duration": 36,
    "start_time": "2024-05-15T11:30:17.318Z"
   },
   {
    "duration": 4,
    "start_time": "2024-05-15T11:30:17.355Z"
   },
   {
    "duration": 21,
    "start_time": "2024-05-15T11:30:17.361Z"
   },
   {
    "duration": 16,
    "start_time": "2024-05-15T11:30:17.384Z"
   },
   {
    "duration": 18,
    "start_time": "2024-05-15T11:30:17.402Z"
   },
   {
    "duration": 9,
    "start_time": "2024-05-15T11:30:17.422Z"
   },
   {
    "duration": 14,
    "start_time": "2024-05-15T11:30:17.433Z"
   },
   {
    "duration": 13,
    "start_time": "2024-05-15T11:30:17.449Z"
   },
   {
    "duration": 441,
    "start_time": "2024-05-15T11:30:17.464Z"
   },
   {
    "duration": 5,
    "start_time": "2024-05-15T11:30:17.907Z"
   },
   {
    "duration": 23,
    "start_time": "2024-05-15T11:30:17.914Z"
   },
   {
    "duration": 10,
    "start_time": "2024-05-15T11:30:17.939Z"
   },
   {
    "duration": 433,
    "start_time": "2024-05-15T11:30:17.950Z"
   },
   {
    "duration": 4,
    "start_time": "2024-05-15T11:30:18.384Z"
   },
   {
    "duration": 82,
    "start_time": "2024-05-15T11:30:18.390Z"
   },
   {
    "duration": 11,
    "start_time": "2024-05-15T11:30:18.473Z"
   },
   {
    "duration": 12,
    "start_time": "2024-05-15T11:30:18.485Z"
   },
   {
    "duration": 176,
    "start_time": "2024-05-15T11:30:18.499Z"
   },
   {
    "duration": 12,
    "start_time": "2024-05-15T11:30:18.677Z"
   },
   {
    "duration": 8,
    "start_time": "2024-05-15T11:30:18.691Z"
   },
   {
    "duration": 22,
    "start_time": "2024-05-15T11:30:18.700Z"
   },
   {
    "duration": 31,
    "start_time": "2024-05-15T11:30:18.724Z"
   },
   {
    "duration": 8,
    "start_time": "2024-05-15T11:30:28.542Z"
   },
   {
    "duration": 8,
    "start_time": "2024-05-15T11:31:59.590Z"
   },
   {
    "duration": 9,
    "start_time": "2024-05-15T11:32:01.601Z"
   },
   {
    "duration": 12,
    "start_time": "2024-05-15T11:34:39.322Z"
   },
   {
    "duration": 5,
    "start_time": "2024-05-15T11:34:42.601Z"
   },
   {
    "duration": 7,
    "start_time": "2024-05-15T11:34:44.951Z"
   },
   {
    "duration": 8,
    "start_time": "2024-05-15T11:34:47.833Z"
   },
   {
    "duration": 7,
    "start_time": "2024-05-15T11:35:08.283Z"
   },
   {
    "duration": 49,
    "start_time": "2024-05-15T11:36:56.796Z"
   },
   {
    "duration": 65,
    "start_time": "2024-05-15T11:45:10.013Z"
   },
   {
    "duration": 29725,
    "start_time": "2024-05-15T11:59:56.528Z"
   },
   {
    "duration": 1695,
    "start_time": "2024-05-15T12:00:26.256Z"
   },
   {
    "duration": 6,
    "start_time": "2024-05-15T12:00:27.953Z"
   },
   {
    "duration": 12,
    "start_time": "2024-05-15T12:00:27.961Z"
   },
   {
    "duration": 153,
    "start_time": "2024-05-15T12:00:27.976Z"
   },
   {
    "duration": 18,
    "start_time": "2024-05-15T12:00:28.130Z"
   },
   {
    "duration": 16,
    "start_time": "2024-05-15T12:00:28.150Z"
   },
   {
    "duration": 35,
    "start_time": "2024-05-15T12:00:28.168Z"
   },
   {
    "duration": 170,
    "start_time": "2024-05-15T12:00:28.205Z"
   },
   {
    "duration": 8,
    "start_time": "2024-05-15T12:00:28.377Z"
   },
   {
    "duration": 10,
    "start_time": "2024-05-15T12:00:28.387Z"
   },
   {
    "duration": 29,
    "start_time": "2024-05-15T12:00:28.398Z"
   },
   {
    "duration": 101,
    "start_time": "2024-05-15T12:00:28.429Z"
   },
   {
    "duration": 8,
    "start_time": "2024-05-15T12:00:28.534Z"
   },
   {
    "duration": 26,
    "start_time": "2024-05-15T12:00:28.543Z"
   },
   {
    "duration": 5,
    "start_time": "2024-05-15T12:00:28.571Z"
   },
   {
    "duration": 10,
    "start_time": "2024-05-15T12:00:28.577Z"
   },
   {
    "duration": 13,
    "start_time": "2024-05-15T12:00:28.589Z"
   },
   {
    "duration": 16,
    "start_time": "2024-05-15T12:00:28.603Z"
   },
   {
    "duration": 25,
    "start_time": "2024-05-15T12:00:28.621Z"
   },
   {
    "duration": 15,
    "start_time": "2024-05-15T12:00:28.647Z"
   },
   {
    "duration": 5,
    "start_time": "2024-05-15T12:00:28.663Z"
   },
   {
    "duration": 10,
    "start_time": "2024-05-15T12:00:28.669Z"
   },
   {
    "duration": 7,
    "start_time": "2024-05-15T12:00:28.681Z"
   },
   {
    "duration": 7,
    "start_time": "2024-05-15T12:00:28.690Z"
   },
   {
    "duration": 12,
    "start_time": "2024-05-15T12:00:28.699Z"
   },
   {
    "duration": 10,
    "start_time": "2024-05-15T12:00:28.713Z"
   },
   {
    "duration": 6,
    "start_time": "2024-05-15T12:00:28.725Z"
   },
   {
    "duration": 372,
    "start_time": "2024-05-15T12:00:28.733Z"
   },
   {
    "duration": 157,
    "start_time": "2024-05-15T12:00:29.107Z"
   },
   {
    "duration": 11,
    "start_time": "2024-05-15T12:00:29.266Z"
   },
   {
    "duration": 81,
    "start_time": "2024-05-15T12:00:29.279Z"
   },
   {
    "duration": 1006,
    "start_time": "2024-05-15T12:00:29.362Z"
   },
   {
    "duration": 9,
    "start_time": "2024-05-15T12:00:30.370Z"
   },
   {
    "duration": 452,
    "start_time": "2024-05-15T12:00:30.380Z"
   },
   {
    "duration": 1448,
    "start_time": "2024-05-15T12:00:30.834Z"
   },
   {
    "duration": 8,
    "start_time": "2024-05-15T12:00:32.284Z"
   },
   {
    "duration": 83,
    "start_time": "2024-05-15T12:00:32.293Z"
   },
   {
    "duration": 1185,
    "start_time": "2024-05-15T12:00:32.378Z"
   },
   {
    "duration": 4,
    "start_time": "2024-05-15T12:00:33.565Z"
   },
   {
    "duration": 33,
    "start_time": "2024-05-15T12:00:33.574Z"
   },
   {
    "duration": 5,
    "start_time": "2024-05-15T12:00:33.608Z"
   },
   {
    "duration": 19,
    "start_time": "2024-05-15T12:00:33.615Z"
   },
   {
    "duration": 12,
    "start_time": "2024-05-15T12:00:33.636Z"
   },
   {
    "duration": 14,
    "start_time": "2024-05-15T12:00:33.650Z"
   },
   {
    "duration": 17,
    "start_time": "2024-05-15T12:00:33.666Z"
   },
   {
    "duration": 14,
    "start_time": "2024-05-15T12:00:33.685Z"
   },
   {
    "duration": 6,
    "start_time": "2024-05-15T12:00:33.701Z"
   },
   {
    "duration": 428,
    "start_time": "2024-05-15T12:00:33.709Z"
   },
   {
    "duration": 6,
    "start_time": "2024-05-15T12:00:34.139Z"
   },
   {
    "duration": 25,
    "start_time": "2024-05-15T12:00:34.146Z"
   },
   {
    "duration": 6,
    "start_time": "2024-05-15T12:00:34.173Z"
   },
   {
    "duration": 395,
    "start_time": "2024-05-15T12:00:34.181Z"
   },
   {
    "duration": 4,
    "start_time": "2024-05-15T12:00:34.578Z"
   },
   {
    "duration": 31,
    "start_time": "2024-05-15T12:00:34.583Z"
   },
   {
    "duration": 25,
    "start_time": "2024-05-15T12:00:34.615Z"
   },
   {
    "duration": 17,
    "start_time": "2024-05-15T12:00:34.642Z"
   },
   {
    "duration": 183,
    "start_time": "2024-05-15T12:00:34.661Z"
   },
   {
    "duration": 17,
    "start_time": "2024-05-15T12:00:34.846Z"
   },
   {
    "duration": 10,
    "start_time": "2024-05-15T12:00:34.865Z"
   },
   {
    "duration": 24,
    "start_time": "2024-05-15T12:00:34.876Z"
   },
   {
    "duration": 20,
    "start_time": "2024-05-15T12:00:34.902Z"
   },
   {
    "duration": 17,
    "start_time": "2024-05-15T12:00:34.924Z"
   },
   {
    "duration": 15,
    "start_time": "2024-05-15T12:00:34.942Z"
   },
   {
    "duration": 14,
    "start_time": "2024-05-15T12:00:34.959Z"
   },
   {
    "duration": 34,
    "start_time": "2024-05-15T12:00:34.974Z"
   },
   {
    "duration": 25,
    "start_time": "2024-05-15T12:00:35.009Z"
   },
   {
    "duration": 19,
    "start_time": "2024-05-15T12:00:35.036Z"
   },
   {
    "duration": 32,
    "start_time": "2024-05-15T12:00:35.057Z"
   },
   {
    "duration": 28,
    "start_time": "2024-05-15T12:00:35.091Z"
   }
  ],
  "kernelspec": {
   "display_name": "Python 3 (ipykernel)",
   "language": "python",
   "name": "python3"
  },
  "language_info": {
   "codemirror_mode": {
    "name": "ipython",
    "version": 3
   },
   "file_extension": ".py",
   "mimetype": "text/x-python",
   "name": "python",
   "nbconvert_exporter": "python",
   "pygments_lexer": "ipython3",
   "version": "3.11.9"
  },
  "toc": {
   "base_numbering": 1,
   "nav_menu": {},
   "number_sections": true,
   "sideBar": true,
   "skip_h1_title": true,
   "title_cell": "Table of Contents",
   "title_sidebar": "Contents",
   "toc_cell": false,
   "toc_position": {},
   "toc_section_display": true,
   "toc_window_display": false
  }
 },
 "nbformat": 4,
 "nbformat_minor": 4
}
