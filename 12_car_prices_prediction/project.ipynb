{
 "cells": [
  {
   "cell_type": "markdown",
   "metadata": {},
   "source": [
    "# Car price prediction 🚗"
   ]
  },
  {
   "cell_type": "markdown",
   "metadata": {},
   "source": [
    "Сервис по продаже автомобилей с пробегом «Не бит, не крашен» разрабатывает приложение, чтобы привлечь новых клиентов. В нём можно будет узнать рыночную стоимость своего автомобиля.\n",
    "\n",
    "\n",
    "Требуется построить модель, которая умеет её определять по данным о технических характеристиках, комплектации и ценах автомобилей.\n",
    "\n",
    "Критерии, которые важны заказчику:\n",
    "- качество предсказания;\n",
    "- время обучения модели;\n",
    "- время предсказания модели."
   ]
  },
  {
   "cell_type": "markdown",
   "metadata": {},
   "source": [
    "**Содержание**<a id='toc0_'></a>    \n",
    "1. [Подготовка   ](#toc1_)    \n",
    "1.1. [Библиотеки                   ](#toc1_1_)    \n",
    "1.2. [Конфигурация                   ](#toc1_2_)    \n",
    "1.3. [Сервисные функции                   ](#toc1_3_)    \n",
    "2. [Данные                   ](#toc2_)    \n",
    "2.1. [Загрузка                   ](#toc2_1_)    \n",
    "2.2. [Переименование колонок                   ](#toc2_2_)    \n",
    "2.3. [Проверка типов данных                  ](#toc2_3_)    \n",
    "2.4. [Обработка дубликатов                  ](#toc2_4_)    \n",
    "2.5. [Проверка пропусков                  ](#toc2_5_)    \n",
    "2.6. [Изучение столбцов                 ](#toc2_6_)    \n",
    "2.6.1. [Таргет (столбец `price`)                ](#toc2_6_1_)    \n",
    "2.6.2. [Столбец `date_crawled`                ](#toc2_6_2_)    \n",
    "2.6.3. [Столбец `vehicle_type`                ](#toc2_6_3_)    \n",
    "2.6.4. [Столбец `registration_year`                ](#toc2_6_4_)    \n",
    "2.6.5. [Столбец `gearbox`                ](#toc2_6_5_)    \n",
    "2.6.6. [Столбец `power`                ](#toc2_6_6_)    \n",
    "2.6.7. [Столбец `model`               ](#toc2_6_7_)    \n",
    "2.6.8. [Столбец `kilometer`               ](#toc2_6_8_)    \n",
    "2.6.9. [Столбец `registration_month`               ](#toc2_6_9_)    \n",
    "2.6.10. [Столбец `fuel_type`               ](#toc2_6_10_)    \n",
    "2.6.11. [Столбец `brand`               ](#toc2_6_11_)    \n",
    "2.6.12. [Столбец `repaired`               ](#toc2_6_12_)    \n",
    "2.6.13. [Столбец `date_created`               ](#toc2_6_13_)    \n",
    "2.6.14. [Столбец `number_of_pictures`               ](#toc2_6_14_)    \n",
    "2.6.15. [Столбец `postal_code`               ](#toc2_6_15_)    \n",
    "2.6.16. [Столбец `last_seen`               ](#toc2_6_16_)    \n",
    "2.7. [Выводы по датасету                ](#toc2_7_)    \n",
    "3. [Корреляция            ](#toc3_)    \n",
    "3.1. [Корреляция          ](#toc3_1_)    \n",
    "3.2. [Мультиколлинеарность          ](#toc3_2_)    \n",
    "3.3. [Выводы по коллинеарности         ](#toc3_3_)    \n",
    "4. [Оптимизация памяти     ](#toc4_)    \n",
    "5. [Разделение данных            ](#toc5_)    \n",
    "6. [Трансформеры и пайплайны          ](#toc6_)    \n",
    "7. [Модели             ](#toc7_)    \n",
    "7.1. [`KNeighborsRegressor`        ](#toc7_1_)    \n",
    "7.2. [`Ridge`        ](#toc7_2_)    \n",
    "7.3. [`LinearSVR`        ](#toc7_3_)    \n",
    "7.4. [`RandomForestRegressor`        ](#toc7_4_)    \n",
    "7.5. [`CatBoostRegressor`        ](#toc7_5_)    \n",
    "7.6. [`LGBMRegressor`        ](#toc7_6_)    \n",
    "7.7. [Результаты        ](#toc7_7_)    \n",
    "7.8. [Метрика на тестовом датасете](#toc7_8_)    \n",
    "8. [Важность признаков     ](#toc8_)    \n",
    "9. [Финальный вывод        ](#toc9_)    \n",
    "\n",
    "<!-- vscode-jupyter-toc-config\n",
    "\tnumbering=true\n",
    "\tanchor=true\n",
    "\tflat=true\n",
    "\tminLevel=2\n",
    "\tmaxLevel=6\n",
    "\t/vscode-jupyter-toc-config -->\n",
    "<!-- THIS CELL WILL BE REPLACED ON TOC UPDATE. DO NOT WRITE YOUR TEXT IN THIS CELL -->"
   ]
  },
  {
   "cell_type": "markdown",
   "metadata": {},
   "source": [
    "## 1. <a id='toc1_'></a>Подготовка    [&#8593;](#toc0_)"
   ]
  },
  {
   "cell_type": "markdown",
   "metadata": {},
   "source": [
    "### 1.1. <a id='toc1_1_'></a>Библиотеки                    [&#8593;](#toc0_)"
   ]
  },
  {
   "cell_type": "code",
   "execution_count": 1,
   "metadata": {},
   "outputs": [],
   "source": [
    "from IPython.display import clear_output"
   ]
  },
  {
   "cell_type": "code",
   "execution_count": 2,
   "metadata": {},
   "outputs": [],
   "source": [
    "%pip install --upgrade -q numpy\n",
    "%pip install matplotlib==3.5.2\n",
    "%pip install --upgrade -q phik\n",
    "%pip install --upgrade -q shap\n",
    "%pip install --upgrade -q prettytable\n",
    "%pip install --upgrade -q termcolor\n",
    "%pip install --upgrade -q seaborn\n",
    "%pip install --upgrade -q pandas\n",
    "%pip install --upgrade -q statsmodels\n",
    "%pip install --upgrade -q scikit-learn\n",
    "%pip install --upgrade -q missingno\n",
    "%pip install --upgrade -q catboost\n",
    "%pip install --upgrade -q lightgbm\n",
    "\n",
    "clear_output()"
   ]
  },
  {
   "cell_type": "code",
   "execution_count": 3,
   "metadata": {},
   "outputs": [],
   "source": [
    "import re\n",
    "from os.path import exists\n",
    "\n",
    "import numpy as np\n",
    "import pandas as pd\n",
    "import matplotlib.pyplot as plt\n",
    "import seaborn as sns\n",
    "import missingno as msno\n",
    "import shap\n",
    "\n",
    "# Pipelines\n",
    "from sklearn.pipeline import Pipeline\n",
    "from sklearn.base import (BaseEstimator,\n",
    "                          TransformerMixin)\n",
    "\n",
    "# Preprocessing\n",
    "from sklearn.preprocessing import (OneHotEncoder,\n",
    "                                   StandardScaler,\n",
    "                                   MinMaxScaler,\n",
    "                                   OrdinalEncoder)\n",
    "\n",
    "# Models\n",
    "from sklearn.linear_model import Ridge\n",
    "from sklearn.svm import LinearSVR\n",
    "from sklearn.neighbors import KNeighborsRegressor\n",
    "from sklearn.ensemble import RandomForestRegressor\n",
    "from catboost import CatBoostRegressor\n",
    "from lightgbm import LGBMRegressor\n",
    "\n",
    "from sklearn.model_selection import (GridSearchCV,\n",
    "                                     train_test_split)\n",
    "from sklearn.metrics import root_mean_squared_error\n",
    "from phik import phik_matrix  # this import IS accessed\n",
    "from prettytable import PrettyTable\n",
    "from termcolor import colored\n",
    "from statsmodels.stats.outliers_influence import variance_inflation_factor\n",
    "from statsmodels.tools.tools import add_constant"
   ]
  },
  {
   "cell_type": "markdown",
   "metadata": {},
   "source": [
    "### 1.2. <a id='toc1_2_'></a>Конфигурация                    [&#8593;](#toc0_)"
   ]
  },
  {
   "cell_type": "code",
   "execution_count": 4,
   "metadata": {},
   "outputs": [],
   "source": [
    "RANDOM_STATE = 27\n",
    "TEST_SIZE = 0.20\n",
    "\n",
    "pd.options.display.float_format = '{:.2f}'.format\n",
    "\n",
    "import warnings\n",
    "warnings.filterwarnings('ignore')"
   ]
  },
  {
   "cell_type": "markdown",
   "metadata": {},
   "source": [
    "### 1.3. <a id='toc1_3_'></a>Сервисные функции                    [&#8593;](#toc0_)"
   ]
  },
  {
   "cell_type": "code",
   "execution_count": 5,
   "metadata": {},
   "outputs": [],
   "source": [
    "def get_dataframe(paths: list[str], **kwargs) -> pd.DataFrame:\n",
    "    for _path in paths:\n",
    "        if not exists(_path) and not _path.startswith('http'):\n",
    "            continue\n",
    "\n",
    "        try:\n",
    "            df = pd.read_csv(_path, **kwargs)\n",
    "        except:\n",
    "            continue\n",
    "\n",
    "        if df is None:\n",
    "            continue\n",
    "\n",
    "        return df\n",
    "\n",
    "    raise FileNotFoundError('No paths are valid and/or for correct csv file.')"
   ]
  },
  {
   "cell_type": "code",
   "execution_count": 6,
   "metadata": {},
   "outputs": [],
   "source": [
    "def pascal_to_snake(s: str) -> str:\n",
    "    # Добавляем подчеркивание перед каждой заглавной буквой, кроме первой\n",
    "    s1 = re.sub('(.)([A-Z][a-z]+)', r'\\1_\\2', s)\n",
    "\n",
    "    # Добавляем подчеркивание перед заглавными буквами, если они следуют за строчными\n",
    "    return re.sub('([a-z0-9])([A-Z])', r'\\1_\\2', s1).lower()"
   ]
  },
  {
   "cell_type": "code",
   "execution_count": 7,
   "metadata": {},
   "outputs": [],
   "source": [
    "def print_table_about_nans(data: pd.DataFrame) -> None:\n",
    "    table = PrettyTable()\n",
    "    table.field_names = ['Feature', 'Missing values count']\n",
    "\n",
    "    missing_info = data.isna().sum().sort_values()\n",
    "    cols = missing_info.index.to_list()\n",
    "    for col in cols:\n",
    "        count = missing_info[col]\n",
    "        color = 'green' if count == 0 else 'red'\n",
    "        s = f'{count} ({count / len(data):.2%})'\n",
    "        table.add_row([col, colored(s, color)])\n",
    "\n",
    "    print(table)"
   ]
  },
  {
   "cell_type": "code",
   "execution_count": 8,
   "metadata": {},
   "outputs": [],
   "source": [
    "def get_info_about_nan_in_series(series: pd.Series) -> None:\n",
    "    nan_cnt = series.isna().sum()\n",
    "    text = colored('No missing values', 'green') if nan_cnt == 0 \\\n",
    "        else colored(f'{nan_cnt} ({nan_cnt / len(series):.2%})', 'red')\n",
    "    print(text)"
   ]
  },
  {
   "cell_type": "code",
   "execution_count": 9,
   "metadata": {},
   "outputs": [],
   "source": [
    "def draw_plots_about_column(df: pd.DataFrame,\n",
    "                            column: str,\n",
    "                            column_description: str = None,\n",
    "                            bins: int = 20\n",
    "                            ) -> None:\n",
    "    if column_description is None:\n",
    "        column_description = column\n",
    "\n",
    "    _, ((ax1, ax2), (ax3, ax4)) = plt.subplots(2, 2, figsize=(12, 10))\n",
    "\n",
    "    sns.violinplot(df, x=column, ax=ax1, orient='h')\n",
    "    ax1.set_xlabel(column_description)\n",
    "    ax1.grid()\n",
    "\n",
    "    sns.boxplot(df, x=column, ax=ax2)\n",
    "    ax2.set_xlabel(column_description)\n",
    "    ax2.grid()\n",
    "\n",
    "    sns.histplot(df, x=column, bins=bins, ax=ax3)\n",
    "    ax3.set_xlabel(column_description)\n",
    "    ax3.grid()\n",
    "    ax3.set_ylabel('Количество')\n",
    "\n",
    "    ax4.set_visible(False)\n",
    "\n",
    "    plt.suptitle(f'Информация о колонке `{column_description}`', fontsize=18)\n",
    "    plt.tight_layout()\n",
    "\n",
    "    plt.show()"
   ]
  },
  {
   "cell_type": "code",
   "execution_count": null,
   "metadata": {},
   "outputs": [],
   "source": [
    "def optimize_memory_usage(df: pd.DataFrame, print_size: bool=True) -> pd.DataFrame:\n",
    "    \"\"\"Function optimizes memory usage in dataframe\n",
    "\n",
    "    Args:\n",
    "        df (pd.DataFrame): DataFrame to optimize.\n",
    "        print_size (bool, optional): display of optimization results. Defaults to True.\n",
    "\n",
    "    Returns:\n",
    "        pd.DataFrame: optimized DataFrame\n",
    "    \"\"\"\n",
    "\n",
    "    numerics = ['int16', 'int32', 'int64', 'float16', 'float32', 'float64'] # Типы, которые будем проверять на оптимизацию\n",
    "    # Размер занимаемой памяти до оптимизации (в Мб)\n",
    "    before_size = df.memory_usage().sum() / 1024**2\n",
    "    for column in df.columns:\n",
    "        column_type = df[column].dtypes\n",
    "        if column_type in numerics:\n",
    "            column_min = df[column].min()\n",
    "            column_max = df[column].max()\n",
    "            if str(column_type).startswith('int'):\n",
    "                if column_min > np.iinfo(np.int8).min and column_max < np.iinfo(np.int8).max:\n",
    "                    df[column] = df[column].astype(np.int8)\n",
    "                elif column_min > np.iinfo(np.int16).min and column_max < np.iinfo(np.int16).max:\n",
    "                    df[column] = df[column].astype(np.int16)\n",
    "                elif column_min > np.iinfo(np.int32).min and column_max < np.iinfo(np.int32).max:\n",
    "                    df[column] = df[column].astype(np.int32)\n",
    "                elif column_min > np.iinfo(np.int64).min and column_max < np.iinfo(np.int64).max:\n",
    "                    df[column] = df[column].astype(np.int64)\n",
    "            else:\n",
    "                if column_min > np.finfo(np.float32).min and column_max < np.finfo(np.float32).max:\n",
    "                    df[column] = df[column].astype(np.float32)\n",
    "                else:\n",
    "                    df[column] = df[column].astype(np.float64)\n",
    "\n",
    "    # Размер занимаемой памяти после оптимизации (в Мб)\n",
    "    after_size = df.memory_usage().sum() / 1024**2\n",
    "    if print_size:\n",
    "        print('Размер использования памяти: до {:5.2f} Mb - после {:5.2f} Mb ({:.1f}%)'\n",
    "                            .format(before_size, after_size, 100 * (before_size - after_size) / before_size))\n",
    "    return df"
   ]
  },
  {
   "cell_type": "code",
   "execution_count": 11,
   "metadata": {},
   "outputs": [],
   "source": [
    "def get_plots_about_residuals(y_true: np.array, y_pred: np.array) -> None:\n",
    "    res = y_true - y_pred\n",
    "\n",
    "    fig, (ax1, ax2) = plt.subplots(1, 2, figsize=(20, 5))\n",
    "\n",
    "    sns.histplot(res, ax=ax1)\n",
    "    ax1.set_xlabel('Остатки')\n",
    "    ax1.set_ylabel('Количество')\n",
    "    ax1.axvline(x=0, color='green', lw=3, ls='-', label='Нулевое значение')\n",
    "    ax1.axvline(x=res.mean(), color='red', lw=3, ls='--', label='Среднее значение остатков')\n",
    "    ax1.legend()\n",
    "\n",
    "    sns.scatterplot(x=y_pred, y=res, ax=ax2)\n",
    "    ax2.set_xlabel('Предсказанные значение')\n",
    "    ax2.set_ylabel('Остатки')\n",
    "\n",
    "    fig.suptitle('Информация об остатках')"
   ]
  },
  {
   "cell_type": "markdown",
   "metadata": {},
   "source": [
    "## 2. <a id='toc2_'></a>Данные                    [&#8593;](#toc0_)"
   ]
  },
  {
   "cell_type": "markdown",
   "metadata": {},
   "source": [
    "### 2.1. <a id='toc2_1_'></a>Загрузка                    [&#8593;](#toc0_)"
   ]
  },
  {
   "cell_type": "code",
   "execution_count": 12,
   "metadata": {},
   "outputs": [],
   "source": [
    "df = get_dataframe([\n",
    "    './data/autos.csv',\n",
    "    '/datasets/autos.csv',\n",
    "    'https://code.s3.yandex.net/datasets/autos.csv'\n",
    "], parse_dates=['DateCrawled', 'DateCreated', 'LastSeen'])"
   ]
  },
  {
   "cell_type": "code",
   "execution_count": 13,
   "metadata": {},
   "outputs": [
    {
     "data": {
      "text/html": [
       "<div>\n",
       "<style scoped>\n",
       "    .dataframe tbody tr th:only-of-type {\n",
       "        vertical-align: middle;\n",
       "    }\n",
       "\n",
       "    .dataframe tbody tr th {\n",
       "        vertical-align: top;\n",
       "    }\n",
       "\n",
       "    .dataframe thead th {\n",
       "        text-align: right;\n",
       "    }\n",
       "</style>\n",
       "<table border=\"1\" class=\"dataframe\">\n",
       "  <thead>\n",
       "    <tr style=\"text-align: right;\">\n",
       "      <th></th>\n",
       "      <th>DateCrawled</th>\n",
       "      <th>Price</th>\n",
       "      <th>VehicleType</th>\n",
       "      <th>RegistrationYear</th>\n",
       "      <th>Gearbox</th>\n",
       "      <th>Power</th>\n",
       "      <th>Model</th>\n",
       "      <th>Kilometer</th>\n",
       "      <th>RegistrationMonth</th>\n",
       "      <th>FuelType</th>\n",
       "      <th>Brand</th>\n",
       "      <th>Repaired</th>\n",
       "      <th>DateCreated</th>\n",
       "      <th>NumberOfPictures</th>\n",
       "      <th>PostalCode</th>\n",
       "      <th>LastSeen</th>\n",
       "    </tr>\n",
       "  </thead>\n",
       "  <tbody>\n",
       "    <tr>\n",
       "      <th>0</th>\n",
       "      <td>2016-03-24 11:52:17</td>\n",
       "      <td>480</td>\n",
       "      <td>NaN</td>\n",
       "      <td>1993</td>\n",
       "      <td>manual</td>\n",
       "      <td>0</td>\n",
       "      <td>golf</td>\n",
       "      <td>150000</td>\n",
       "      <td>0</td>\n",
       "      <td>petrol</td>\n",
       "      <td>volkswagen</td>\n",
       "      <td>NaN</td>\n",
       "      <td>2016-03-24</td>\n",
       "      <td>0</td>\n",
       "      <td>70435</td>\n",
       "      <td>2016-04-07 03:16:57</td>\n",
       "    </tr>\n",
       "    <tr>\n",
       "      <th>1</th>\n",
       "      <td>2016-03-24 10:58:45</td>\n",
       "      <td>18300</td>\n",
       "      <td>coupe</td>\n",
       "      <td>2011</td>\n",
       "      <td>manual</td>\n",
       "      <td>190</td>\n",
       "      <td>NaN</td>\n",
       "      <td>125000</td>\n",
       "      <td>5</td>\n",
       "      <td>gasoline</td>\n",
       "      <td>audi</td>\n",
       "      <td>yes</td>\n",
       "      <td>2016-03-24</td>\n",
       "      <td>0</td>\n",
       "      <td>66954</td>\n",
       "      <td>2016-04-07 01:46:50</td>\n",
       "    </tr>\n",
       "    <tr>\n",
       "      <th>2</th>\n",
       "      <td>2016-03-14 12:52:21</td>\n",
       "      <td>9800</td>\n",
       "      <td>suv</td>\n",
       "      <td>2004</td>\n",
       "      <td>auto</td>\n",
       "      <td>163</td>\n",
       "      <td>grand</td>\n",
       "      <td>125000</td>\n",
       "      <td>8</td>\n",
       "      <td>gasoline</td>\n",
       "      <td>jeep</td>\n",
       "      <td>NaN</td>\n",
       "      <td>2016-03-14</td>\n",
       "      <td>0</td>\n",
       "      <td>90480</td>\n",
       "      <td>2016-04-05 12:47:46</td>\n",
       "    </tr>\n",
       "    <tr>\n",
       "      <th>3</th>\n",
       "      <td>2016-03-17 16:54:04</td>\n",
       "      <td>1500</td>\n",
       "      <td>small</td>\n",
       "      <td>2001</td>\n",
       "      <td>manual</td>\n",
       "      <td>75</td>\n",
       "      <td>golf</td>\n",
       "      <td>150000</td>\n",
       "      <td>6</td>\n",
       "      <td>petrol</td>\n",
       "      <td>volkswagen</td>\n",
       "      <td>no</td>\n",
       "      <td>2016-03-17</td>\n",
       "      <td>0</td>\n",
       "      <td>91074</td>\n",
       "      <td>2016-03-17 17:40:17</td>\n",
       "    </tr>\n",
       "    <tr>\n",
       "      <th>4</th>\n",
       "      <td>2016-03-31 17:25:20</td>\n",
       "      <td>3600</td>\n",
       "      <td>small</td>\n",
       "      <td>2008</td>\n",
       "      <td>manual</td>\n",
       "      <td>69</td>\n",
       "      <td>fabia</td>\n",
       "      <td>90000</td>\n",
       "      <td>7</td>\n",
       "      <td>gasoline</td>\n",
       "      <td>skoda</td>\n",
       "      <td>no</td>\n",
       "      <td>2016-03-31</td>\n",
       "      <td>0</td>\n",
       "      <td>60437</td>\n",
       "      <td>2016-04-06 10:17:21</td>\n",
       "    </tr>\n",
       "  </tbody>\n",
       "</table>\n",
       "</div>"
      ],
      "text/plain": [
       "          DateCrawled  Price VehicleType  RegistrationYear Gearbox  Power  \\\n",
       "0 2016-03-24 11:52:17    480         NaN              1993  manual      0   \n",
       "1 2016-03-24 10:58:45  18300       coupe              2011  manual    190   \n",
       "2 2016-03-14 12:52:21   9800         suv              2004    auto    163   \n",
       "3 2016-03-17 16:54:04   1500       small              2001  manual     75   \n",
       "4 2016-03-31 17:25:20   3600       small              2008  manual     69   \n",
       "\n",
       "   Model  Kilometer  RegistrationMonth  FuelType       Brand Repaired  \\\n",
       "0   golf     150000                  0    petrol  volkswagen      NaN   \n",
       "1    NaN     125000                  5  gasoline        audi      yes   \n",
       "2  grand     125000                  8  gasoline        jeep      NaN   \n",
       "3   golf     150000                  6    petrol  volkswagen       no   \n",
       "4  fabia      90000                  7  gasoline       skoda       no   \n",
       "\n",
       "  DateCreated  NumberOfPictures  PostalCode            LastSeen  \n",
       "0  2016-03-24                 0       70435 2016-04-07 03:16:57  \n",
       "1  2016-03-24                 0       66954 2016-04-07 01:46:50  \n",
       "2  2016-03-14                 0       90480 2016-04-05 12:47:46  \n",
       "3  2016-03-17                 0       91074 2016-03-17 17:40:17  \n",
       "4  2016-03-31                 0       60437 2016-04-06 10:17:21  "
      ]
     },
     "execution_count": 13,
     "metadata": {},
     "output_type": "execute_result"
    }
   ],
   "source": [
    "df.head()"
   ]
  },
  {
   "cell_type": "markdown",
   "metadata": {},
   "source": [
    "### 2.2. <a id='toc2_2_'></a>Переименование колонок                    [&#8593;](#toc0_)"
   ]
  },
  {
   "cell_type": "code",
   "execution_count": 14,
   "metadata": {},
   "outputs": [
    {
     "data": {
      "text/plain": [
       "Index(['DateCrawled', 'Price', 'VehicleType', 'RegistrationYear', 'Gearbox',\n",
       "       'Power', 'Model', 'Kilometer', 'RegistrationMonth', 'FuelType', 'Brand',\n",
       "       'Repaired', 'DateCreated', 'NumberOfPictures', 'PostalCode',\n",
       "       'LastSeen'],\n",
       "      dtype='object')"
      ]
     },
     "execution_count": 14,
     "metadata": {},
     "output_type": "execute_result"
    }
   ],
   "source": [
    "df.columns"
   ]
  },
  {
   "cell_type": "markdown",
   "metadata": {},
   "source": [
    "Названия признаков не соответствует PEP8, поэтому переименуем их."
   ]
  },
  {
   "cell_type": "code",
   "execution_count": 15,
   "metadata": {},
   "outputs": [],
   "source": [
    "df.columns = [pascal_to_snake(col) for col in df.columns]"
   ]
  },
  {
   "cell_type": "code",
   "execution_count": 16,
   "metadata": {},
   "outputs": [
    {
     "data": {
      "text/plain": [
       "Index(['date_crawled', 'price', 'vehicle_type', 'registration_year', 'gearbox',\n",
       "       'power', 'model', 'kilometer', 'registration_month', 'fuel_type',\n",
       "       'brand', 'repaired', 'date_created', 'number_of_pictures',\n",
       "       'postal_code', 'last_seen'],\n",
       "      dtype='object')"
      ]
     },
     "execution_count": 16,
     "metadata": {},
     "output_type": "execute_result"
    }
   ],
   "source": [
    "df.columns"
   ]
  },
  {
   "cell_type": "markdown",
   "metadata": {},
   "source": [
    "### 2.3. <a id='toc2_3_'></a>Проверка типов данных                   [&#8593;](#toc0_)"
   ]
  },
  {
   "cell_type": "code",
   "execution_count": 17,
   "metadata": {},
   "outputs": [
    {
     "name": "stdout",
     "output_type": "stream",
     "text": [
      "<class 'pandas.core.frame.DataFrame'>\n",
      "RangeIndex: 354369 entries, 0 to 354368\n",
      "Data columns (total 16 columns):\n",
      " #   Column              Non-Null Count   Dtype         \n",
      "---  ------              --------------   -----         \n",
      " 0   date_crawled        354369 non-null  datetime64[ns]\n",
      " 1   price               354369 non-null  int64         \n",
      " 2   vehicle_type        316879 non-null  object        \n",
      " 3   registration_year   354369 non-null  int64         \n",
      " 4   gearbox             334536 non-null  object        \n",
      " 5   power               354369 non-null  int64         \n",
      " 6   model               334664 non-null  object        \n",
      " 7   kilometer           354369 non-null  int64         \n",
      " 8   registration_month  354369 non-null  int64         \n",
      " 9   fuel_type           321474 non-null  object        \n",
      " 10  brand               354369 non-null  object        \n",
      " 11  repaired            283215 non-null  object        \n",
      " 12  date_created        354369 non-null  datetime64[ns]\n",
      " 13  number_of_pictures  354369 non-null  int64         \n",
      " 14  postal_code         354369 non-null  int64         \n",
      " 15  last_seen           354369 non-null  datetime64[ns]\n",
      "dtypes: datetime64[ns](3), int64(7), object(6)\n",
      "memory usage: 43.3+ MB\n"
     ]
    }
   ],
   "source": [
    "df.info()"
   ]
  },
  {
   "cell_type": "markdown",
   "metadata": {},
   "source": [
    "Все столбцы имеют верные типы данных."
   ]
  },
  {
   "cell_type": "markdown",
   "metadata": {},
   "source": [
    "### 2.4. <a id='toc2_4_'></a>Обработка дубликатов                   [&#8593;](#toc0_)"
   ]
  },
  {
   "cell_type": "code",
   "execution_count": 18,
   "metadata": {},
   "outputs": [
    {
     "data": {
      "text/plain": [
       "4"
      ]
     },
     "execution_count": 18,
     "metadata": {},
     "output_type": "execute_result"
    }
   ],
   "source": [
    "df.duplicated().sum()"
   ]
  },
  {
   "cell_type": "markdown",
   "metadata": {},
   "source": [
    "Обнаружены 4 полных дубликата. Удалим их."
   ]
  },
  {
   "cell_type": "code",
   "execution_count": 19,
   "metadata": {},
   "outputs": [],
   "source": [
    "df = df.drop_duplicates()"
   ]
  },
  {
   "cell_type": "code",
   "execution_count": 20,
   "metadata": {},
   "outputs": [
    {
     "data": {
      "text/plain": [
       "0"
      ]
     },
     "execution_count": 20,
     "metadata": {},
     "output_type": "execute_result"
    }
   ],
   "source": [
    "df.duplicated().sum()"
   ]
  },
  {
   "cell_type": "markdown",
   "metadata": {},
   "source": [
    "### 2.5. <a id='toc2_5_'></a>Проверка пропусков                   [&#8593;](#toc0_)"
   ]
  },
  {
   "cell_type": "code",
   "execution_count": 21,
   "metadata": {},
   "outputs": [
    {
     "name": "stdout",
     "output_type": "stream",
     "text": [
      "+--------------------+----------------------+\n",
      "|      Feature       | Missing values count |\n",
      "+--------------------+----------------------+\n",
      "|    date_crawled    |      \u001b[32m0 (0.00%)\u001b[0m       |\n",
      "|       price        |      \u001b[32m0 (0.00%)\u001b[0m       |\n",
      "| registration_year  |      \u001b[32m0 (0.00%)\u001b[0m       |\n",
      "|       power        |      \u001b[32m0 (0.00%)\u001b[0m       |\n",
      "|     kilometer      |      \u001b[32m0 (0.00%)\u001b[0m       |\n",
      "| registration_month |      \u001b[32m0 (0.00%)\u001b[0m       |\n",
      "|       brand        |      \u001b[32m0 (0.00%)\u001b[0m       |\n",
      "|    date_created    |      \u001b[32m0 (0.00%)\u001b[0m       |\n",
      "| number_of_pictures |      \u001b[32m0 (0.00%)\u001b[0m       |\n",
      "|    postal_code     |      \u001b[32m0 (0.00%)\u001b[0m       |\n",
      "|     last_seen      |      \u001b[32m0 (0.00%)\u001b[0m       |\n",
      "|       model        |    \u001b[31m19705 (5.56%)\u001b[0m     |\n",
      "|      gearbox       |    \u001b[31m19833 (5.60%)\u001b[0m     |\n",
      "|     fuel_type      |    \u001b[31m32895 (9.28%)\u001b[0m     |\n",
      "|    vehicle_type    |    \u001b[31m37490 (10.58%)\u001b[0m    |\n",
      "|      repaired      |    \u001b[31m71154 (20.08%)\u001b[0m    |\n",
      "+--------------------+----------------------+\n"
     ]
    }
   ],
   "source": [
    "print_table_about_nans(df)"
   ]
  },
  {
   "cell_type": "markdown",
   "metadata": {},
   "source": [
    "Как мы видим, бóльшая часть признаков (11 из 16 колонок) не имеют пропусков. А оставшиеся 5 имеют от `5%` до `20%` пропущенных значений. Изучим пропуски дополнительно."
   ]
  },
  {
   "cell_type": "code",
   "execution_count": 22,
   "metadata": {},
   "outputs": [
    {
     "data": {
      "image/png": "[encoded data removed]",
      "text/plain": [
       "<Figure size 1200x500 with 2 Axes>"
      ]
     },
     "metadata": {},
     "output_type": "display_data"
    }
   ],
   "source": [
    "msno.matrix(df, figsize=(12, 5));"
   ]
  },
  {
   "cell_type": "code",
   "execution_count": 23,
   "metadata": {},
   "outputs": [
    {
     "data": {
      "image/png": "[encoded data removed]",
      "text/plain": [
       "<Figure size 1000x400 with 2 Axes>"
      ]
     },
     "metadata": {},
     "output_type": "display_data"
    }
   ],
   "source": [
    "msno.heatmap(df, figsize=(10, 4));"
   ]
  },
  {
   "cell_type": "code",
   "execution_count": 24,
   "metadata": {},
   "outputs": [
    {
     "data": {
      "image/png": "[encoded data removed]",
      "text/plain": [
       "<Figure size 1000x400 with 1 Axes>"
      ]
     },
     "metadata": {},
     "output_type": "display_data"
    }
   ],
   "source": [
    "msno.dendrogram(df, figsize=(10, 4));"
   ]
  },
  {
   "cell_type": "markdown",
   "metadata": {},
   "source": [
    "Как мы видим, корреляция среди пропусков практически не наблюдается."
   ]
  },
  {
   "cell_type": "markdown",
   "metadata": {},
   "source": [
    "Заполнение пропусков будет выполнено в пайплайне."
   ]
  },
  {
   "cell_type": "markdown",
   "metadata": {},
   "source": [
    "### 2.6. <a id='toc2_6_'></a>Изучение столбцов                  [&#8593;](#toc0_)"
   ]
  },
  {
   "cell_type": "code",
   "execution_count": 25,
   "metadata": {},
   "outputs": [
    {
     "data": {
      "text/plain": [
       "Index(['date_crawled', 'price', 'vehicle_type', 'registration_year', 'gearbox',\n",
       "       'power', 'model', 'kilometer', 'registration_month', 'fuel_type',\n",
       "       'brand', 'repaired', 'date_created', 'number_of_pictures',\n",
       "       'postal_code', 'last_seen'],\n",
       "      dtype='object')"
      ]
     },
     "execution_count": 25,
     "metadata": {},
     "output_type": "execute_result"
    }
   ],
   "source": [
    "df.columns"
   ]
  },
  {
   "cell_type": "markdown",
   "metadata": {},
   "source": [
    "**Признаки:**  \n",
    "`date_crawled` — дата скачивания анкеты из базы  \n",
    "`vehicle_type` — тип автомобильного кузова  \n",
    "`registration_year` — год регистрации автомобиля  \n",
    "`gearbox` — тип коробки передач  \n",
    "`power` — мощность (л. с.)  \n",
    "`model` — модель автомобиля  \n",
    "`kilometer` — пробег (км)  \n",
    "`registration_month` — месяц регистрации автомобиля  \n",
    "`fuel_type` — тип топлива  \n",
    "`brand` — марка автомобиля  \n",
    "`repaired` — была машина в ремонте или нет  \n",
    "`date_created` — дата создания анкеты  \n",
    "`number_of_pictures` — количество фотографий автомобиля  \n",
    "`postal_code` — почтовый индекс владельца анкеты (пользователя)  \n",
    "`last_seen` — дата последней активности пользователя  \n",
    "\n",
    "**Целевой признак:**  \n",
    "`price` — цена (евро)"
   ]
  },
  {
   "cell_type": "markdown",
   "metadata": {},
   "source": [
    "#### 2.6.1. <a id='toc2_6_1_'></a>Таргет (столбец `price`)                 [&#8593;](#toc0_)"
   ]
  },
  {
   "cell_type": "code",
   "execution_count": 26,
   "metadata": {},
   "outputs": [
    {
     "name": "stdout",
     "output_type": "stream",
     "text": [
      "\u001b[32mNo missing values\u001b[0m\n"
     ]
    }
   ],
   "source": [
    "get_info_about_nan_in_series(df['price'])"
   ]
  },
  {
   "cell_type": "code",
   "execution_count": 27,
   "metadata": {},
   "outputs": [
    {
     "data": {
      "image/png": "[encoded data removed]",
      "text/plain": [
       "<Figure size 1200x1000 with 4 Axes>"
      ]
     },
     "metadata": {},
     "output_type": "display_data"
    }
   ],
   "source": [
    "draw_plots_about_column(df, 'price')"
   ]
  },
  {
   "cell_type": "code",
   "execution_count": 28,
   "metadata": {},
   "outputs": [
    {
     "data": {
      "text/plain": [
       "(10772, '3.04%')"
      ]
     },
     "execution_count": 28,
     "metadata": {},
     "output_type": "execute_result"
    }
   ],
   "source": [
    "mask = df['price'] == 0\n",
    "mask.sum(), f'{mask.sum() / len(df):.2%}'"
   ]
  },
  {
   "cell_type": "markdown",
   "metadata": {},
   "source": [
    "В датасете есть `10_772` записи (чуть больше `3%`) с ценой равной `0`. В целом, они могут отражать некую тенденцию. Например, владелец отдает авто бесплатно, так машина после аварии и так далее. Однако в рамках поставленной задачи эти данные не актуальны. Поэтому удалим их."
   ]
  },
  {
   "cell_type": "code",
   "execution_count": 29,
   "metadata": {},
   "outputs": [],
   "source": [
    "len_before = len(df)\n",
    "df = df[~mask]\n",
    "assert len_before - len(df) == mask.sum(), 'Удалено слишком много/мало строк'"
   ]
  },
  {
   "cell_type": "markdown",
   "metadata": {},
   "source": [
    "#### 2.6.2. <a id='toc2_6_2_'></a>Столбец `date_crawled`                 [&#8593;](#toc0_)"
   ]
  },
  {
   "cell_type": "code",
   "execution_count": 30,
   "metadata": {},
   "outputs": [
    {
     "name": "stdout",
     "output_type": "stream",
     "text": [
      "\u001b[32mNo missing values\u001b[0m\n"
     ]
    }
   ],
   "source": [
    "get_info_about_nan_in_series(df['date_crawled'])"
   ]
  },
  {
   "cell_type": "code",
   "execution_count": 31,
   "metadata": {},
   "outputs": [
    {
     "data": {
      "text/plain": [
       "count                           343593\n",
       "mean     2016-03-21 12:55:04.584723968\n",
       "min                2016-03-05 14:06:22\n",
       "25%                2016-03-13 11:49:14\n",
       "50%                2016-03-21 17:49:25\n",
       "75%                2016-03-29 14:38:32\n",
       "max                2016-04-07 14:36:58\n",
       "Name: date_crawled, dtype: object"
      ]
     },
     "execution_count": 31,
     "metadata": {},
     "output_type": "execute_result"
    }
   ],
   "source": [
    "df['date_crawled'].describe()"
   ]
  },
  {
   "cell_type": "markdown",
   "metadata": {},
   "source": [
    "Все даты адекватны."
   ]
  },
  {
   "cell_type": "markdown",
   "metadata": {},
   "source": [
    "#### 2.6.3. <a id='toc2_6_3_'></a>Столбец `vehicle_type`                 [&#8593;](#toc0_)"
   ]
  },
  {
   "cell_type": "code",
   "execution_count": 32,
   "metadata": {},
   "outputs": [
    {
     "name": "stdout",
     "output_type": "stream",
     "text": [
      "\u001b[31m33750 (9.82%)\u001b[0m\n"
     ]
    }
   ],
   "source": [
    "get_info_about_nan_in_series(df['vehicle_type'])"
   ]
  },
  {
   "cell_type": "markdown",
   "metadata": {},
   "source": [
    "Данный столбец имеет почти `10%` пропущенных значений."
   ]
  },
  {
   "cell_type": "code",
   "execution_count": 33,
   "metadata": {},
   "outputs": [
    {
     "data": {
      "text/plain": [
       "array([nan, 'coupe', 'suv', 'small', 'sedan', 'convertible', 'bus',\n",
       "       'wagon', 'other'], dtype=object)"
      ]
     },
     "execution_count": 33,
     "metadata": {},
     "output_type": "execute_result"
    }
   ],
   "source": [
    "df['vehicle_type'].unique()"
   ]
  },
  {
   "cell_type": "code",
   "execution_count": 34,
   "metadata": {},
   "outputs": [
    {
     "data": {
      "text/plain": [
       "vehicle_type\n",
       "sedan          89405\n",
       "small          78017\n",
       "wagon          63700\n",
       "bus            28345\n",
       "convertible    19865\n",
       "coupe          15634\n",
       "suv            11791\n",
       "other           3086\n",
       "Name: count, dtype: int64"
      ]
     },
     "execution_count": 34,
     "metadata": {},
     "output_type": "execute_result"
    }
   ],
   "source": [
    "df['vehicle_type'].value_counts()"
   ]
  },
  {
   "cell_type": "markdown",
   "metadata": {},
   "source": [
    "Предположим, что если пользователь не указал тип, но его не было в списке. Поэтому отнесем все строки с пропущенным значением к категории `other`."
   ]
  },
  {
   "cell_type": "markdown",
   "metadata": {},
   "source": [
    "#### 2.6.4. <a id='toc2_6_4_'></a>Столбец `registration_year`                 [&#8593;](#toc0_)"
   ]
  },
  {
   "cell_type": "code",
   "execution_count": 35,
   "metadata": {},
   "outputs": [
    {
     "data": {
      "image/png": "[encoded data removed]",
      "text/plain": [
       "<Figure size 1200x1000 with 4 Axes>"
      ]
     },
     "metadata": {},
     "output_type": "display_data"
    }
   ],
   "source": [
    "draw_plots_about_column(df, 'registration_year')"
   ]
  },
  {
   "cell_type": "markdown",
   "metadata": {},
   "source": [
    "Видим, что есть записи, где год регистрации автомобиля сильно больше или меньше допустимых. Данные были выгружены в 2016 году. Значит все года после этого - аномалии. Также наша задача предсказывать цены на \"обычные\", современные автомобили, а не раритет. Поэтому ограничим снизу 1960 годом. И изучим дополнительно."
   ]
  },
  {
   "cell_type": "code",
   "execution_count": 36,
   "metadata": {},
   "outputs": [
    {
     "data": {
      "text/plain": [
       "(14119, '4.11%')"
      ]
     },
     "execution_count": 36,
     "metadata": {},
     "output_type": "execute_result"
    }
   ],
   "source": [
    "mask = (df['registration_year'] > 2016) |(df['registration_year'] < 1960)\n",
    "mask.sum(), f'{mask.sum() / len(df):.2%}'"
   ]
  },
  {
   "cell_type": "code",
   "execution_count": 37,
   "metadata": {},
   "outputs": [
    {
     "data": {
      "text/html": [
       "<div>\n",
       "<style scoped>\n",
       "    .dataframe tbody tr th:only-of-type {\n",
       "        vertical-align: middle;\n",
       "    }\n",
       "\n",
       "    .dataframe tbody tr th {\n",
       "        vertical-align: top;\n",
       "    }\n",
       "\n",
       "    .dataframe thead th {\n",
       "        text-align: right;\n",
       "    }\n",
       "</style>\n",
       "<table border=\"1\" class=\"dataframe\">\n",
       "  <thead>\n",
       "    <tr style=\"text-align: right;\">\n",
       "      <th></th>\n",
       "      <th>date_crawled</th>\n",
       "      <th>price</th>\n",
       "      <th>vehicle_type</th>\n",
       "      <th>registration_year</th>\n",
       "      <th>gearbox</th>\n",
       "      <th>power</th>\n",
       "      <th>model</th>\n",
       "      <th>kilometer</th>\n",
       "      <th>registration_month</th>\n",
       "      <th>fuel_type</th>\n",
       "      <th>brand</th>\n",
       "      <th>repaired</th>\n",
       "      <th>date_created</th>\n",
       "      <th>number_of_pictures</th>\n",
       "      <th>postal_code</th>\n",
       "      <th>last_seen</th>\n",
       "    </tr>\n",
       "  </thead>\n",
       "  <tbody>\n",
       "    <tr>\n",
       "      <th>254768</th>\n",
       "      <td>2016-03-30 22:39:18</td>\n",
       "      <td>2700</td>\n",
       "      <td>NaN</td>\n",
       "      <td>2017</td>\n",
       "      <td>manual</td>\n",
       "      <td>60</td>\n",
       "      <td>fiesta</td>\n",
       "      <td>125000</td>\n",
       "      <td>7</td>\n",
       "      <td>petrol</td>\n",
       "      <td>ford</td>\n",
       "      <td>no</td>\n",
       "      <td>2016-03-30</td>\n",
       "      <td>0</td>\n",
       "      <td>22962</td>\n",
       "      <td>2016-04-05 13:16:01</td>\n",
       "    </tr>\n",
       "    <tr>\n",
       "      <th>159464</th>\n",
       "      <td>2016-03-23 14:38:43</td>\n",
       "      <td>1100</td>\n",
       "      <td>NaN</td>\n",
       "      <td>2017</td>\n",
       "      <td>manual</td>\n",
       "      <td>0</td>\n",
       "      <td>a_klasse</td>\n",
       "      <td>150000</td>\n",
       "      <td>5</td>\n",
       "      <td>gasoline</td>\n",
       "      <td>mercedes_benz</td>\n",
       "      <td>NaN</td>\n",
       "      <td>2016-03-23</td>\n",
       "      <td>0</td>\n",
       "      <td>47179</td>\n",
       "      <td>2016-03-24 21:48:19</td>\n",
       "    </tr>\n",
       "    <tr>\n",
       "      <th>223184</th>\n",
       "      <td>2016-03-20 11:51:02</td>\n",
       "      <td>2400</td>\n",
       "      <td>NaN</td>\n",
       "      <td>2017</td>\n",
       "      <td>manual</td>\n",
       "      <td>60</td>\n",
       "      <td>corsa</td>\n",
       "      <td>80000</td>\n",
       "      <td>6</td>\n",
       "      <td>petrol</td>\n",
       "      <td>opel</td>\n",
       "      <td>yes</td>\n",
       "      <td>2016-03-20</td>\n",
       "      <td>0</td>\n",
       "      <td>12279</td>\n",
       "      <td>2016-04-06 10:16:25</td>\n",
       "    </tr>\n",
       "    <tr>\n",
       "      <th>9671</th>\n",
       "      <td>2016-03-25 15:54:44</td>\n",
       "      <td>2275</td>\n",
       "      <td>NaN</td>\n",
       "      <td>2017</td>\n",
       "      <td>NaN</td>\n",
       "      <td>0</td>\n",
       "      <td>3er</td>\n",
       "      <td>150000</td>\n",
       "      <td>3</td>\n",
       "      <td>NaN</td>\n",
       "      <td>bmw</td>\n",
       "      <td>NaN</td>\n",
       "      <td>2016-03-25</td>\n",
       "      <td>0</td>\n",
       "      <td>26129</td>\n",
       "      <td>2016-04-06 20:16:48</td>\n",
       "    </tr>\n",
       "    <tr>\n",
       "      <th>305154</th>\n",
       "      <td>2016-03-23 18:36:44</td>\n",
       "      <td>500</td>\n",
       "      <td>NaN</td>\n",
       "      <td>2017</td>\n",
       "      <td>manual</td>\n",
       "      <td>50</td>\n",
       "      <td>polo</td>\n",
       "      <td>150000</td>\n",
       "      <td>10</td>\n",
       "      <td>petrol</td>\n",
       "      <td>volkswagen</td>\n",
       "      <td>NaN</td>\n",
       "      <td>2016-03-23</td>\n",
       "      <td>0</td>\n",
       "      <td>10319</td>\n",
       "      <td>2016-03-26 12:47:00</td>\n",
       "    </tr>\n",
       "  </tbody>\n",
       "</table>\n",
       "</div>"
      ],
      "text/plain": [
       "              date_crawled  price vehicle_type  registration_year gearbox  \\\n",
       "254768 2016-03-30 22:39:18   2700          NaN               2017  manual   \n",
       "159464 2016-03-23 14:38:43   1100          NaN               2017  manual   \n",
       "223184 2016-03-20 11:51:02   2400          NaN               2017  manual   \n",
       "9671   2016-03-25 15:54:44   2275          NaN               2017     NaN   \n",
       "305154 2016-03-23 18:36:44    500          NaN               2017  manual   \n",
       "\n",
       "        power     model  kilometer  registration_month fuel_type  \\\n",
       "254768     60    fiesta     125000                   7    petrol   \n",
       "159464      0  a_klasse     150000                   5  gasoline   \n",
       "223184     60     corsa      80000                   6    petrol   \n",
       "9671        0       3er     150000                   3       NaN   \n",
       "305154     50      polo     150000                  10    petrol   \n",
       "\n",
       "                brand repaired date_created  number_of_pictures  postal_code  \\\n",
       "254768           ford       no   2016-03-30                   0        22962   \n",
       "159464  mercedes_benz      NaN   2016-03-23                   0        47179   \n",
       "223184           opel      yes   2016-03-20                   0        12279   \n",
       "9671              bmw      NaN   2016-03-25                   0        26129   \n",
       "305154     volkswagen      NaN   2016-03-23                   0        10319   \n",
       "\n",
       "                 last_seen  \n",
       "254768 2016-04-05 13:16:01  \n",
       "159464 2016-03-24 21:48:19  \n",
       "223184 2016-04-06 10:16:25  \n",
       "9671   2016-04-06 20:16:48  \n",
       "305154 2016-03-26 12:47:00  "
      ]
     },
     "execution_count": 37,
     "metadata": {},
     "output_type": "execute_result"
    }
   ],
   "source": [
    "df[mask].sample(5)"
   ]
  },
  {
   "cell_type": "markdown",
   "metadata": {},
   "source": [
    "Действительно, обнаружено более `14_000` записей, где указан невозможный год регистрации. Эти данные составляют чуть более `4%`, удалим их."
   ]
  },
  {
   "cell_type": "code",
   "execution_count": 38,
   "metadata": {},
   "outputs": [],
   "source": [
    "len_before = len(df)\n",
    "df = df[~mask]\n",
    "assert len_before - len(df) == mask.sum(), 'Удалено слишком много/слишком мало строк'"
   ]
  },
  {
   "cell_type": "markdown",
   "metadata": {},
   "source": [
    "Посмотрим еще раз на распределение данных:"
   ]
  },
  {
   "cell_type": "code",
   "execution_count": 39,
   "metadata": {},
   "outputs": [
    {
     "data": {
      "image/png": "[encoded data removed]",
      "text/plain": [
       "<Figure size 1200x1000 with 4 Axes>"
      ]
     },
     "metadata": {},
     "output_type": "display_data"
    }
   ],
   "source": [
    "draw_plots_about_column(df, 'registration_year')"
   ]
  },
  {
   "cell_type": "markdown",
   "metadata": {},
   "source": [
    "Теперь ситуация выглядит более реалистичной."
   ]
  },
  {
   "cell_type": "markdown",
   "metadata": {},
   "source": [
    "#### 2.6.5. <a id='toc2_6_5_'></a>Столбец `gearbox`                 [&#8593;](#toc0_)"
   ]
  },
  {
   "cell_type": "code",
   "execution_count": 40,
   "metadata": {},
   "outputs": [
    {
     "name": "stdout",
     "output_type": "stream",
     "text": [
      "\u001b[31m15517 (4.71%)\u001b[0m\n"
     ]
    }
   ],
   "source": [
    "get_info_about_nan_in_series(df['gearbox'])"
   ]
  },
  {
   "cell_type": "code",
   "execution_count": 41,
   "metadata": {},
   "outputs": [
    {
     "data": {
      "text/plain": [
       "array(['manual', 'auto', nan], dtype=object)"
      ]
     },
     "execution_count": 41,
     "metadata": {},
     "output_type": "execute_result"
    }
   ],
   "source": [
    "df['gearbox'].unique()"
   ]
  },
  {
   "cell_type": "code",
   "execution_count": 42,
   "metadata": {},
   "outputs": [
    {
     "data": {
      "text/plain": [
       "gearbox\n",
       "manual    250975\n",
       "auto       62982\n",
       "Name: count, dtype: int64"
      ]
     },
     "execution_count": 42,
     "metadata": {},
     "output_type": "execute_result"
    }
   ],
   "source": [
    "df['gearbox'].value_counts()"
   ]
  },
  {
   "cell_type": "markdown",
   "metadata": {},
   "source": [
    "Почти `5%` пропусков. Однозначно восстановить это практически невозможно. Можно, конечно заполнить пропуски на основе информации о модели. Однако такое сложное заполнение не требуется в рамках данного проекта. Поэтому заполним пропуски специальной категорией `unknown` (*заполнение будет в пайплайне*)."
   ]
  },
  {
   "cell_type": "markdown",
   "metadata": {},
   "source": [
    "#### 2.6.6. <a id='toc2_6_6_'></a>Столбец `power`                 [&#8593;](#toc0_)"
   ]
  },
  {
   "cell_type": "code",
   "execution_count": 43,
   "metadata": {},
   "outputs": [
    {
     "name": "stdout",
     "output_type": "stream",
     "text": [
      "\u001b[32mNo missing values\u001b[0m\n"
     ]
    }
   ],
   "source": [
    "get_info_about_nan_in_series(df['power'])"
   ]
  },
  {
   "cell_type": "code",
   "execution_count": 44,
   "metadata": {},
   "outputs": [
    {
     "data": {
      "text/plain": [
       "count   329474.00\n",
       "mean       111.96\n",
       "std        184.88\n",
       "min          0.00\n",
       "25%         71.00\n",
       "50%        105.00\n",
       "75%        143.00\n",
       "max      20000.00\n",
       "Name: power, dtype: float64"
      ]
     },
     "execution_count": 44,
     "metadata": {},
     "output_type": "execute_result"
    }
   ],
   "source": [
    "df['power'].describe()"
   ]
  },
  {
   "cell_type": "code",
   "execution_count": 45,
   "metadata": {},
   "outputs": [
    {
     "data": {
      "image/png": "[encoded data removed]",
      "text/plain": [
       "<Figure size 1200x1000 with 4 Axes>"
      ]
     },
     "metadata": {},
     "output_type": "display_data"
    }
   ],
   "source": [
    "draw_plots_about_column(df, 'power')"
   ]
  },
  {
   "cell_type": "code",
   "execution_count": 46,
   "metadata": {},
   "outputs": [
    {
     "data": {
      "text/plain": [
       "(32731, '9.93%')"
      ]
     },
     "execution_count": 46,
     "metadata": {},
     "output_type": "execute_result"
    }
   ],
   "source": [
    "mask = df['power'] == 0\n",
    "mask.sum(), f'{mask.sum() / len(df):.2%}'"
   ]
  },
  {
   "cell_type": "markdown",
   "metadata": {},
   "source": [
    "`32731` записей (почти `10%`) об автомобилях с `0` лошадинных сил. Скорее всего это несет в себе какую-то информацию, например, что автомобиль продается без двигателя. Однако опять же в рамках данного проекта, это аномалии. Поэтому удалим их."
   ]
  },
  {
   "cell_type": "code",
   "execution_count": 47,
   "metadata": {},
   "outputs": [],
   "source": [
    "len_before = len(df)\n",
    "df = df[~mask]\n",
    "assert len_before - len(df) == mask.sum(), 'Удалено слишком много/мало строк'"
   ]
  },
  {
   "cell_type": "markdown",
   "metadata": {},
   "source": [
    "Большая часть машин имеет не более `150` лошадиных сил, однако встречаются уникальные машины вплоть до `20_000` лошадиных сил. Данные значения являются выбросами, но вполне реальны для крупных промышленных моделей или гоночных вариантов."
   ]
  },
  {
   "cell_type": "markdown",
   "metadata": {},
   "source": [
    "#### 2.6.7. <a id='toc2_6_7_'></a>Столбец `model`                [&#8593;](#toc0_)"
   ]
  },
  {
   "cell_type": "code",
   "execution_count": 48,
   "metadata": {},
   "outputs": [
    {
     "name": "stdout",
     "output_type": "stream",
     "text": [
      "\u001b[31m11184 (3.77%)\u001b[0m\n"
     ]
    }
   ],
   "source": [
    "get_info_about_nan_in_series(df['model'])"
   ]
  },
  {
   "cell_type": "code",
   "execution_count": 49,
   "metadata": {},
   "outputs": [
    {
     "data": {
      "text/plain": [
       "249"
      ]
     },
     "execution_count": 49,
     "metadata": {},
     "output_type": "execute_result"
    }
   ],
   "source": [
    "df['model'].nunique()"
   ]
  },
  {
   "cell_type": "code",
   "execution_count": 50,
   "metadata": {},
   "outputs": [
    {
     "data": {
      "text/plain": [
       "model\n",
       "golf                  24743\n",
       "other                 20396\n",
       "3er                   17402\n",
       "polo                  10707\n",
       "corsa                 10144\n",
       "                      ...  \n",
       "serie_2                   5\n",
       "kalina                    5\n",
       "serie_3                   3\n",
       "range_rover_evoque        2\n",
       "rangerover                2\n",
       "Name: count, Length: 249, dtype: int64"
      ]
     },
     "execution_count": 50,
     "metadata": {},
     "output_type": "execute_result"
    }
   ],
   "source": [
    "df['model'].value_counts()"
   ]
  },
  {
   "cell_type": "code",
   "execution_count": 51,
   "metadata": {},
   "outputs": [
    {
     "data": {
      "image/png": "[encoded data removed]",
      "text/plain": [
       "<Figure size 640x480 with 1 Axes>"
      ]
     },
     "metadata": {},
     "output_type": "display_data"
    }
   ],
   "source": [
    "df['model'].value_counts().hist(bins=20);"
   ]
  },
  {
   "cell_type": "markdown",
   "metadata": {},
   "source": [
    "Почти `4%` пропусков. Самым разумным будет заполнить категорией `other`. Также заметим, что бóльшая часть категорий довольно редкие при большом количестве (`249` уникальных категорий). Учтем это при кодировании."
   ]
  },
  {
   "cell_type": "markdown",
   "metadata": {},
   "source": [
    "#### 2.6.8. <a id='toc2_6_8_'></a>Столбец `kilometer`                [&#8593;](#toc0_)"
   ]
  },
  {
   "cell_type": "code",
   "execution_count": 52,
   "metadata": {},
   "outputs": [
    {
     "name": "stdout",
     "output_type": "stream",
     "text": [
      "\u001b[32mNo missing values\u001b[0m\n"
     ]
    }
   ],
   "source": [
    "get_info_about_nan_in_series(df['kilometer'])"
   ]
  },
  {
   "cell_type": "code",
   "execution_count": 53,
   "metadata": {},
   "outputs": [
    {
     "data": {
      "text/plain": [
       "count   296743.00\n",
       "mean    128289.78\n",
       "std      36780.06\n",
       "min       5000.00\n",
       "25%     125000.00\n",
       "50%     150000.00\n",
       "75%     150000.00\n",
       "max     150000.00\n",
       "Name: kilometer, dtype: float64"
      ]
     },
     "execution_count": 53,
     "metadata": {},
     "output_type": "execute_result"
    }
   ],
   "source": [
    "df['kilometer'].describe()"
   ]
  },
  {
   "cell_type": "code",
   "execution_count": 54,
   "metadata": {},
   "outputs": [
    {
     "data": {
      "image/png": "[encoded data removed]",
      "text/plain": [
       "<Figure size 1200x1000 with 4 Axes>"
      ]
     },
     "metadata": {},
     "output_type": "display_data"
    }
   ],
   "source": [
    "draw_plots_about_column(df, 'kilometer')"
   ]
  },
  {
   "cell_type": "markdown",
   "metadata": {},
   "source": [
    "#### 2.6.9. <a id='toc2_6_9_'></a>Столбец `registration_month`                [&#8593;](#toc0_)"
   ]
  },
  {
   "cell_type": "code",
   "execution_count": 55,
   "metadata": {},
   "outputs": [
    {
     "name": "stdout",
     "output_type": "stream",
     "text": [
      "\u001b[32mNo missing values\u001b[0m\n"
     ]
    }
   ],
   "source": [
    "get_info_about_nan_in_series(df['registration_month'])"
   ]
  },
  {
   "cell_type": "code",
   "execution_count": 56,
   "metadata": {},
   "outputs": [
    {
     "data": {
      "text/plain": [
       "count   296743.00\n",
       "mean         5.99\n",
       "std          3.58\n",
       "min          0.00\n",
       "25%          3.00\n",
       "50%          6.00\n",
       "75%          9.00\n",
       "max         12.00\n",
       "Name: registration_month, dtype: float64"
      ]
     },
     "execution_count": 56,
     "metadata": {},
     "output_type": "execute_result"
    }
   ],
   "source": [
    "df['registration_month'].describe()"
   ]
  },
  {
   "cell_type": "code",
   "execution_count": 57,
   "metadata": {},
   "outputs": [
    {
     "data": {
      "text/plain": [
       "13"
      ]
     },
     "execution_count": 57,
     "metadata": {},
     "output_type": "execute_result"
    }
   ],
   "source": [
    "df['registration_month'].nunique()"
   ]
  },
  {
   "cell_type": "code",
   "execution_count": 58,
   "metadata": {},
   "outputs": [
    {
     "data": {
      "text/plain": [
       "registration_month\n",
       "3     30478\n",
       "6     27634\n",
       "4     25816\n",
       "5     25681\n",
       "7     23868\n",
       "10    23004\n",
       "12    21279\n",
       "11    21092\n",
       "9     21007\n",
       "1     20223\n",
       "8     19764\n",
       "2     18889\n",
       "0     18008\n",
       "Name: count, dtype: int64"
      ]
     },
     "execution_count": 58,
     "metadata": {},
     "output_type": "execute_result"
    }
   ],
   "source": [
    "df['registration_month'].value_counts()"
   ]
  },
  {
   "cell_type": "markdown",
   "metadata": {},
   "source": [
    "Видно, что есть 13 уникальных значений. Это несколько странно: есть и 0 месяц и 12. А одновременно это невозможно. Скорее всего значение `0` это некая \"заглушка\", которая несет в себе информацию. Например, что владелей авто не помнит месяц регистрации. Поэтому оставим данный столбец без изменений."
   ]
  },
  {
   "cell_type": "markdown",
   "metadata": {},
   "source": [
    "#### 2.6.10. <a id='toc2_6_10_'></a>Столбец `fuel_type`                [&#8593;](#toc0_)"
   ]
  },
  {
   "cell_type": "code",
   "execution_count": 59,
   "metadata": {},
   "outputs": [
    {
     "name": "stdout",
     "output_type": "stream",
     "text": [
      "\u001b[31m15623 (5.26%)\u001b[0m\n"
     ]
    }
   ],
   "source": [
    "get_info_about_nan_in_series(df['fuel_type'])"
   ]
  },
  {
   "cell_type": "code",
   "execution_count": 60,
   "metadata": {},
   "outputs": [
    {
     "data": {
      "text/plain": [
       "fuel_type\n",
       "petrol      187658\n",
       "gasoline     87915\n",
       "lpg           4690\n",
       "cng            485\n",
       "hybrid         202\n",
       "other           94\n",
       "electric        76\n",
       "Name: count, dtype: int64"
      ]
     },
     "execution_count": 60,
     "metadata": {},
     "output_type": "execute_result"
    }
   ],
   "source": [
    "df['fuel_type'].value_counts()"
   ]
  },
  {
   "cell_type": "markdown",
   "metadata": {},
   "source": [
    "- Видим `8%` пропусков. Заполним их в пайплайне. \n",
    "- Значения `petrol` и `gasoline` по сути обозначают одно и тоже. Произведем замену в соответствующем трансформере в пайплайне.\n",
    "- Также заметим, что довольно много категорий встречаются редко. Имеет смысл объединить их всех, чтобы не усложнять модель. Проделаем эти шаги в пайплайне."
   ]
  },
  {
   "cell_type": "markdown",
   "metadata": {},
   "source": [
    "#### 2.6.11. <a id='toc2_6_11_'></a>Столбец `brand`                [&#8593;](#toc0_)"
   ]
  },
  {
   "cell_type": "code",
   "execution_count": 61,
   "metadata": {},
   "outputs": [
    {
     "name": "stdout",
     "output_type": "stream",
     "text": [
      "\u001b[32mNo missing values\u001b[0m\n"
     ]
    }
   ],
   "source": [
    "get_info_about_nan_in_series(df['brand'])"
   ]
  },
  {
   "cell_type": "code",
   "execution_count": 62,
   "metadata": {},
   "outputs": [
    {
     "data": {
      "text/plain": [
       "40"
      ]
     },
     "execution_count": 62,
     "metadata": {},
     "output_type": "execute_result"
    }
   ],
   "source": [
    "df['brand'].nunique()"
   ]
  },
  {
   "cell_type": "code",
   "execution_count": 63,
   "metadata": {},
   "outputs": [
    {
     "data": {
      "text/plain": [
       "brand\n",
       "volkswagen        64173\n",
       "opel              32571\n",
       "bmw               32306\n",
       "mercedes_benz     27364\n",
       "audi              25660\n",
       "ford              20738\n",
       "renault           13963\n",
       "peugeot            9424\n",
       "fiat               7689\n",
       "seat               5864\n",
       "skoda              4950\n",
       "mazda              4728\n",
       "smart              4490\n",
       "citroen            4258\n",
       "nissan             4053\n",
       "toyota             4018\n",
       "hyundai            3110\n",
       "mini               2968\n",
       "volvo              2825\n",
       "mitsubishi         2502\n",
       "honda              2367\n",
       "kia                2090\n",
       "alfa_romeo         1980\n",
       "suzuki             1966\n",
       "sonstige_autos     1806\n",
       "chevrolet          1462\n",
       "chrysler           1167\n",
       "dacia               801\n",
       "subaru              648\n",
       "porsche             626\n",
       "daihatsu            616\n",
       "jeep                570\n",
       "saab                474\n",
       "land_rover          465\n",
       "jaguar              440\n",
       "daewoo              412\n",
       "lancia              386\n",
       "rover               367\n",
       "trabant             289\n",
       "lada                157\n",
       "Name: count, dtype: int64"
      ]
     },
     "execution_count": 63,
     "metadata": {},
     "output_type": "execute_result"
    }
   ],
   "source": [
    "df['brand'].value_counts()"
   ]
  },
  {
   "cell_type": "code",
   "execution_count": 64,
   "metadata": {},
   "outputs": [
    {
     "data": {
      "image/png": "[encoded data removed]",
      "text/plain": [
       "<Figure size 640x480 with 1 Axes>"
      ]
     },
     "metadata": {},
     "output_type": "display_data"
    }
   ],
   "source": [
    "df['brand'].value_counts().hist();"
   ]
  },
  {
   "cell_type": "markdown",
   "metadata": {},
   "source": [
    "Видим `40` категорий, из которых часть встречает довольно редко. Учтем это при кодировании."
   ]
  },
  {
   "cell_type": "markdown",
   "metadata": {},
   "source": [
    "#### 2.6.12. <a id='toc2_6_12_'></a>Столбец `repaired`                [&#8593;](#toc0_)"
   ]
  },
  {
   "cell_type": "code",
   "execution_count": 65,
   "metadata": {},
   "outputs": [
    {
     "name": "stdout",
     "output_type": "stream",
     "text": [
      "\u001b[31m43027 (14.50%)\u001b[0m\n"
     ]
    }
   ],
   "source": [
    "get_info_about_nan_in_series(df['repaired'])"
   ]
  },
  {
   "cell_type": "code",
   "execution_count": 66,
   "metadata": {},
   "outputs": [
    {
     "data": {
      "text/plain": [
       "repaired\n",
       "no     224745\n",
       "yes     28971\n",
       "Name: count, dtype: int64"
      ]
     },
     "execution_count": 66,
     "metadata": {},
     "output_type": "execute_result"
    }
   ],
   "source": [
    "df['repaired'].value_counts()"
   ]
  },
  {
   "cell_type": "markdown",
   "metadata": {},
   "source": [
    "Однозначно восстановить этот признак невозможно. При этом он является довольно важным. Поэтому заполним пропуски отдельной категорией `unknown`."
   ]
  },
  {
   "cell_type": "markdown",
   "metadata": {},
   "source": [
    "#### 2.6.13. <a id='toc2_6_13_'></a>Столбец `date_created`                [&#8593;](#toc0_)"
   ]
  },
  {
   "cell_type": "code",
   "execution_count": 67,
   "metadata": {},
   "outputs": [
    {
     "name": "stdout",
     "output_type": "stream",
     "text": [
      "\u001b[32mNo missing values\u001b[0m\n"
     ]
    }
   ],
   "source": [
    "get_info_about_nan_in_series(df['date_created'])"
   ]
  },
  {
   "cell_type": "code",
   "execution_count": 68,
   "metadata": {},
   "outputs": [
    {
     "data": {
      "text/plain": [
       "count                           296743\n",
       "mean     2016-03-20 19:19:58.552282624\n",
       "min                2015-03-20 00:00:00\n",
       "25%                2016-03-13 00:00:00\n",
       "50%                2016-03-21 00:00:00\n",
       "75%                2016-03-29 00:00:00\n",
       "max                2016-04-07 00:00:00\n",
       "Name: date_created, dtype: object"
      ]
     },
     "execution_count": 68,
     "metadata": {},
     "output_type": "execute_result"
    }
   ],
   "source": [
    "df['date_created'].describe()"
   ]
  },
  {
   "cell_type": "code",
   "execution_count": 69,
   "metadata": {},
   "outputs": [
    {
     "data": {
      "text/plain": [
       "0"
      ]
     },
     "execution_count": 69,
     "metadata": {},
     "output_type": "execute_result"
    }
   ],
   "source": [
    "mask = df['date_created'] >= df['date_crawled']\n",
    "mask.sum()"
   ]
  },
  {
   "cell_type": "markdown",
   "metadata": {},
   "source": [
    "#### 2.6.14. <a id='toc2_6_14_'></a>Столбец `number_of_pictures`                [&#8593;](#toc0_)"
   ]
  },
  {
   "cell_type": "code",
   "execution_count": 70,
   "metadata": {},
   "outputs": [
    {
     "name": "stdout",
     "output_type": "stream",
     "text": [
      "\u001b[32mNo missing values\u001b[0m\n"
     ]
    }
   ],
   "source": [
    "get_info_about_nan_in_series(df['number_of_pictures'])"
   ]
  },
  {
   "cell_type": "code",
   "execution_count": 71,
   "metadata": {},
   "outputs": [
    {
     "data": {
      "text/plain": [
       "count   296743.00\n",
       "mean         0.00\n",
       "std          0.00\n",
       "min          0.00\n",
       "25%          0.00\n",
       "50%          0.00\n",
       "75%          0.00\n",
       "max          0.00\n",
       "Name: number_of_pictures, dtype: float64"
      ]
     },
     "execution_count": 71,
     "metadata": {},
     "output_type": "execute_result"
    }
   ],
   "source": [
    "df['number_of_pictures'].describe()"
   ]
  },
  {
   "cell_type": "code",
   "execution_count": 72,
   "metadata": {},
   "outputs": [
    {
     "data": {
      "text/plain": [
       "array([0], dtype=int64)"
      ]
     },
     "execution_count": 72,
     "metadata": {},
     "output_type": "execute_result"
    }
   ],
   "source": [
    "df['number_of_pictures'].unique()"
   ]
  },
  {
   "cell_type": "markdown",
   "metadata": {},
   "source": [
    "Данный признак бесполезен, так как для всех записей равен 0. Удалим этот признак в пайплайне."
   ]
  },
  {
   "cell_type": "markdown",
   "metadata": {},
   "source": [
    "#### 2.6.15. <a id='toc2_6_15_'></a>Столбец `postal_code`                [&#8593;](#toc0_)"
   ]
  },
  {
   "cell_type": "code",
   "execution_count": 73,
   "metadata": {},
   "outputs": [
    {
     "name": "stdout",
     "output_type": "stream",
     "text": [
      "\u001b[32mNo missing values\u001b[0m\n"
     ]
    }
   ],
   "source": [
    "get_info_about_nan_in_series(df['postal_code'])"
   ]
  },
  {
   "cell_type": "code",
   "execution_count": 74,
   "metadata": {},
   "outputs": [
    {
     "data": {
      "text/plain": [
       "8116"
      ]
     },
     "execution_count": 74,
     "metadata": {},
     "output_type": "execute_result"
    }
   ],
   "source": [
    "df['postal_code'].nunique()"
   ]
  },
  {
   "cell_type": "code",
   "execution_count": 75,
   "metadata": {},
   "outputs": [
    {
     "data": {
      "text/plain": [
       "1         66954\n",
       "2         90480\n",
       "3         91074\n",
       "4         60437\n",
       "5         33775\n",
       "          ...  \n",
       "354361    51371\n",
       "354362    96465\n",
       "354366    26135\n",
       "354367    87439\n",
       "354368    40764\n",
       "Name: postal_code, Length: 296743, dtype: int64"
      ]
     },
     "execution_count": 75,
     "metadata": {},
     "output_type": "execute_result"
    }
   ],
   "source": [
    "df['postal_code']"
   ]
  },
  {
   "cell_type": "markdown",
   "metadata": {},
   "source": [
    "Данный признак по сути относится к категориальным. Имеет более 8000 уникальных категорий. Вряд ли признак будет слишком информативным, поэтому удалим его также в пайплайне."
   ]
  },
  {
   "cell_type": "markdown",
   "metadata": {},
   "source": [
    "#### 2.6.16. <a id='toc2_6_16_'></a>Столбец `last_seen`                [&#8593;](#toc0_)"
   ]
  },
  {
   "cell_type": "code",
   "execution_count": 76,
   "metadata": {},
   "outputs": [
    {
     "name": "stdout",
     "output_type": "stream",
     "text": [
      "\u001b[32mNo missing values\u001b[0m\n"
     ]
    }
   ],
   "source": [
    "get_info_about_nan_in_series(df['last_seen'])"
   ]
  },
  {
   "cell_type": "code",
   "execution_count": 77,
   "metadata": {},
   "outputs": [
    {
     "data": {
      "text/plain": [
       "count                           296743\n",
       "mean     2016-03-30 05:15:10.422254080\n",
       "min                2016-03-05 14:15:08\n",
       "25%         2016-03-23 13:50:25.500000\n",
       "50%                2016-04-04 02:47:26\n",
       "75%                2016-04-06 10:46:27\n",
       "max                2016-04-07 14:58:51\n",
       "Name: last_seen, dtype: object"
      ]
     },
     "execution_count": 77,
     "metadata": {},
     "output_type": "execute_result"
    }
   ],
   "source": [
    "df['last_seen'].describe()"
   ]
  },
  {
   "cell_type": "markdown",
   "metadata": {},
   "source": [
    "### 2.7. <a id='toc2_7_'></a>Выводы по датасету                 [&#8593;](#toc0_)"
   ]
  },
  {
   "cell_type": "markdown",
   "metadata": {},
   "source": [
    "В рамках данного проекта мы работаем с датасетом о различных автомобилях. Целевым признаком является столбец `price`, который отражает цену авто в евро. В качестве входных признаков дана информация об автомобиле, например, год регистрации, бренд и модель, пробег и так далее. Также есть некая информация о анкете: дата создания анкеты, дата выгрузки анкеты из базы и дата последней активности пользователя.\n",
    "\n",
    "В рамках первичной обработки были удалены полные дубликаты. Также в 5 столбцах обнаружены пропуски. Все пропуски находятся в категориальных признаках и будут заполнены специальными категориями `unknown` и объединены с категорией `other`.\n",
    "\n",
    "Были обнаружены, некоторые аномалии. Например, столбец `registration_month` имеет 13 уникальных значений (от 0 до 12 включительно). Однако было принято решение оставить как есть, так как значение 0, скорее всего, несет в себе некую информацию.\n",
    "\n",
    "В рамках EDA были выявлены некоторые неинформативные признаки, которые были сразу удалены. Также были удалены записи, которые содержат аномалии, а именно:\n",
    "\n",
    "- невозможный или неактуальный для нашей модели год регистрации\n",
    "- нулевую цену\n",
    "- нулевую мощность авто"
   ]
  },
  {
   "cell_type": "code",
   "execution_count": 78,
   "metadata": {},
   "outputs": [],
   "source": [
    "target = 'price'\n",
    "\n",
    "date_cols = [\n",
    "    'date_crawled',\n",
    "    'date_created',\n",
    "    'last_seen'\n",
    "]\n",
    "\n",
    "num_cols = [\n",
    "    'registration_year',\n",
    "    'power',\n",
    "    'kilometer',\n",
    "    'registration_month'\n",
    "]\n",
    "\n",
    "cat_cols = [\n",
    "    'vehicle_type',\n",
    "    'gearbox',\n",
    "    'model',\n",
    "    'fuel_type',\n",
    "    'brand',\n",
    "    'repaired'\n",
    "]\n",
    "\n",
    "cols_to_drop = [\n",
    "    'postal_code',\n",
    "    'number_of_pictures'\n",
    "]"
   ]
  },
  {
   "cell_type": "markdown",
   "metadata": {},
   "source": [
    "## 3. <a id='toc3_'></a>Корреляция             [&#8593;](#toc0_)"
   ]
  },
  {
   "cell_type": "markdown",
   "metadata": {},
   "source": [
    "### 3.1. <a id='toc3_1_'></a>Корреляция           [&#8593;](#toc0_)"
   ]
  },
  {
   "cell_type": "code",
   "execution_count": 79,
   "metadata": {},
   "outputs": [
    {
     "data": {
      "text/plain": [
       "(237445, 154362, 106)"
      ]
     },
     "execution_count": 79,
     "metadata": {},
     "output_type": "execute_result"
    }
   ],
   "source": [
    "df['date_crawled'].nunique(), df['last_seen'].nunique(), df['date_created'].nunique()"
   ]
  },
  {
   "cell_type": "markdown",
   "metadata": {},
   "source": [
    "Видим, что столбцы с датами `date_crawled` и `last_seen` имеют крайне большое число уникальных значений. Значит коэффициент корреляции будет большой именно ввиду такого большого числа. Поэтому исключим эти столбцы при расчёте."
   ]
  },
  {
   "cell_type": "code",
   "execution_count": 80,
   "metadata": {},
   "outputs": [
    {
     "data": {
      "image/png": "[encoded data removed]",
      "text/plain": [
       "<Figure size 2000x1000 with 2 Axes>"
      ]
     },
     "metadata": {},
     "output_type": "display_data"
    }
   ],
   "source": [
    "plt.figure(figsize=(20, 10))\n",
    "\n",
    "interval_cols = num_cols + [target]\n",
    "cols = interval_cols + cat_cols + ['date_created']\n",
    "sns.heatmap(df[cols].phik_matrix(interval_cols=interval_cols),\n",
    "            cmap='Greens',\n",
    "            annot=True,\n",
    "            fmt='.2f');\n",
    "\n",
    "plt.title(r'$phi_k$ корреляция между всеми признаками', fontsize=18);"
   ]
  },
  {
   "cell_type": "markdown",
   "metadata": {},
   "source": [
    "### 3.2. <a id='toc3_2_'></a>Мультиколлинеарность           [&#8593;](#toc0_)"
   ]
  },
  {
   "cell_type": "code",
   "execution_count": 81,
   "metadata": {},
   "outputs": [
    {
     "data": {
      "text/html": [
       "<div>\n",
       "<style scoped>\n",
       "    .dataframe tbody tr th:only-of-type {\n",
       "        vertical-align: middle;\n",
       "    }\n",
       "\n",
       "    .dataframe tbody tr th {\n",
       "        vertical-align: top;\n",
       "    }\n",
       "\n",
       "    .dataframe thead th {\n",
       "        text-align: right;\n",
       "    }\n",
       "</style>\n",
       "<table border=\"1\" class=\"dataframe\">\n",
       "  <thead>\n",
       "    <tr style=\"text-align: right;\">\n",
       "      <th></th>\n",
       "      <th>Variable</th>\n",
       "      <th>VIF</th>\n",
       "    </tr>\n",
       "  </thead>\n",
       "  <tbody>\n",
       "    <tr>\n",
       "      <th>0</th>\n",
       "      <td>const</td>\n",
       "      <td>1.00</td>\n",
       "    </tr>\n",
       "    <tr>\n",
       "      <th>4</th>\n",
       "      <td>registration_month</td>\n",
       "      <td>1.01</td>\n",
       "    </tr>\n",
       "    <tr>\n",
       "      <th>2</th>\n",
       "      <td>power</td>\n",
       "      <td>1.03</td>\n",
       "    </tr>\n",
       "    <tr>\n",
       "      <th>3</th>\n",
       "      <td>kilometer</td>\n",
       "      <td>1.20</td>\n",
       "    </tr>\n",
       "    <tr>\n",
       "      <th>1</th>\n",
       "      <td>registration_year</td>\n",
       "      <td>1.35</td>\n",
       "    </tr>\n",
       "    <tr>\n",
       "      <th>5</th>\n",
       "      <td>price</td>\n",
       "      <td>1.48</td>\n",
       "    </tr>\n",
       "  </tbody>\n",
       "</table>\n",
       "</div>"
      ],
      "text/plain": [
       "             Variable  VIF\n",
       "0               const 1.00\n",
       "4  registration_month 1.01\n",
       "2               power 1.03\n",
       "3           kilometer 1.20\n",
       "1   registration_year 1.35\n",
       "5               price 1.48"
      ]
     },
     "execution_count": 81,
     "metadata": {},
     "output_type": "execute_result"
    }
   ],
   "source": [
    "scaler = StandardScaler()\n",
    "df_for_vif = pd.DataFrame(scaler.fit_transform(df[interval_cols]), columns=interval_cols)\n",
    "\n",
    "with_constants = add_constant(df_for_vif)\n",
    "\n",
    "vif_data = pd.DataFrame()\n",
    "vif_data[\"Variable\"] = with_constants.columns\n",
    "vif_data[\"VIF\"] = [variance_inflation_factor(with_constants.values, i) for i in range(with_constants.shape[1])]\n",
    "\n",
    "vif_data.sort_values(by='VIF')"
   ]
  },
  {
   "cell_type": "markdown",
   "metadata": {},
   "source": [
    "### 3.3. <a id='toc3_3_'></a>Выводы по коллинеарности          [&#8593;](#toc0_)"
   ]
  },
  {
   "cell_type": "markdown",
   "metadata": {},
   "source": [
    "Таргет имеет корреляцию:\n",
    "- **выше среднего** (0.5 - 0.7): `registration_year` и `model`\n",
    "- **среднюю** (0.3 - 0.5): `kilometer`, `gearbox`, `brand` и `repaired`\n",
    "- **ниже среднего** (0.1 - 0.3): `registration_month`, `vehicle_type` и `fuel_type`\n",
    "- **крайне низкую** (< 0.1): `power` и `date_created`\n",
    "\n",
    "Мультиколлинеарность не наблюдается среди числовых признаков.\n",
    "\n",
    "Также заметим, что признаки `brand` и `model` имеею крайне высокую корреляцию. Удалим (в пайплайне) признак `model` для ускорения обучения модели.\n",
    "\n",
    "Несколько столбцов практически не имеют влияния на таргет. Поэтому отметим, что удалим их для ускорения работы модели."
   ]
  },
  {
   "cell_type": "code",
   "execution_count": 82,
   "metadata": {},
   "outputs": [],
   "source": [
    "target = 'price'\n",
    "\n",
    "date_cols = [\n",
    "    'date_created',\n",
    "    'last_seen'\n",
    "]\n",
    "\n",
    "num_cols = [\n",
    "    'registration_year',\n",
    "    'power',\n",
    "    'kilometer',\n",
    "]\n",
    "\n",
    "cat_cols = [\n",
    "    'vehicle_type',\n",
    "    'gearbox',\n",
    "    'fuel_type',\n",
    "    'brand',\n",
    "    'repaired'\n",
    "]\n",
    "\n",
    "cols_to_drop = [\n",
    "    'postal_code',\n",
    "    'number_of_pictures',\n",
    "    'model',\n",
    "    'registration_month',\n",
    "    'date_crawled'\n",
    "]"
   ]
  },
  {
   "cell_type": "markdown",
   "metadata": {},
   "source": [
    "## 4. <a id='toc4_'></a>Оптимизация памяти      [&#8593;](#toc0_)"
   ]
  },
  {
   "cell_type": "markdown",
   "metadata": {},
   "source": [
    "Так как в данном проекте важна скорость, попробуем оптимизировать память, заменим типы данных на менее затратные в памяти."
   ]
  },
  {
   "cell_type": "code",
   "execution_count": 83,
   "metadata": {},
   "outputs": [
    {
     "name": "stdout",
     "output_type": "stream",
     "text": [
      "Размер использования памяти: до 38.49 Mb - после 27.17 Mb (29.4%)\n"
     ]
    }
   ],
   "source": [
    "df = optimize_memory_usage(df)"
   ]
  },
  {
   "cell_type": "markdown",
   "metadata": {},
   "source": [
    "## 5. <a id='toc5_'></a>Разделение данных             [&#8593;](#toc0_)"
   ]
  },
  {
   "cell_type": "code",
   "execution_count": 84,
   "metadata": {},
   "outputs": [
    {
     "data": {
      "text/plain": [
       "((296743, 15), (296743,))"
      ]
     },
     "execution_count": 84,
     "metadata": {},
     "output_type": "execute_result"
    }
   ],
   "source": [
    "X = df.drop(columns=target)\n",
    "y = df[target]\n",
    "\n",
    "X.shape, y.shape"
   ]
  },
  {
   "cell_type": "code",
   "execution_count": 85,
   "metadata": {},
   "outputs": [
    {
     "data": {
      "text/plain": [
       "((237394, 15), (237394,))"
      ]
     },
     "metadata": {},
     "output_type": "display_data"
    },
    {
     "data": {
      "text/plain": [
       "((59349, 15), (59349,))"
      ]
     },
     "metadata": {},
     "output_type": "display_data"
    }
   ],
   "source": [
    "X_train, X_test, y_train, y_test = train_test_split(X, y, test_size=TEST_SIZE, random_state=RANDOM_STATE)\n",
    "display((X_train.shape, y_train.shape))\n",
    "display((X_test.shape, y_test.shape))"
   ]
  },
  {
   "cell_type": "markdown",
   "metadata": {},
   "source": [
    "## 6. <a id='toc6_'></a>Трансформеры и пайплайны           [&#8593;](#toc0_)"
   ]
  },
  {
   "cell_type": "code",
   "execution_count": 86,
   "metadata": {},
   "outputs": [],
   "source": [
    "class FeatureDropperTransformer(BaseEstimator, TransformerMixin): \n",
    "    def __init__(self, cols_to_drop: list[str]):\n",
    "        super().__init__()\n",
    "        self.cols_to_drop = cols_to_drop\n",
    "\n",
    "    def fit(self, X, y=None):\n",
    "        return self\n",
    "    \n",
    "    def transform(self, X: pd.DataFrame) -> pd.DataFrame:\n",
    "        return X.drop(columns=self.cols_to_drop, errors='ignore')"
   ]
  },
  {
   "cell_type": "code",
   "execution_count": 87,
   "metadata": {},
   "outputs": [],
   "source": [
    "class MissingImputerTransformer(BaseEstimator, TransformerMixin):\n",
    "    def fit(self, X, y=None):\n",
    "        return self\n",
    "\n",
    "    def transform(self, X: pd.DataFrame) -> pd.DataFrame:\n",
    "        X['repaired'] = X['repaired'].fillna('unknown')\n",
    "        X['gearbox'] = X['gearbox'].fillna('unknown')\n",
    "        X['vehicle_type'] = X['vehicle_type'].fillna('other')\n",
    "        X['fuel_type'] = X['fuel_type'].fillna('other')\n",
    "\n",
    "        return X"
   ]
  },
  {
   "cell_type": "code",
   "execution_count": 88,
   "metadata": {},
   "outputs": [],
   "source": [
    "class FuelTypeTransformer(BaseEstimator, TransformerMixin):\n",
    "    def fit(self, X, y=None):\n",
    "        return self\n",
    "\n",
    "    def transform(self, X: pd.DataFrame) -> pd.DataFrame:\n",
    "        X['fuel_type'] = X['fuel_type'].replace('petrol', 'gasoline')\n",
    "        X['fuel_type'] = X['fuel_type'].apply(lambda x: x if x == 'gasoline' else 'other')\n",
    "\n",
    "        return X"
   ]
  },
  {
   "cell_type": "code",
   "execution_count": 89,
   "metadata": {},
   "outputs": [],
   "source": [
    "class DateExtracterTransformer(BaseEstimator, TransformerMixin):\n",
    "    def fit(self, X: pd.DataFrame, y=None):\n",
    "        self.datetime_columns = X.select_dtypes(include=['datetime64[ns]']).columns\n",
    "        return self\n",
    "\n",
    "    def transform(self, X: pd.DataFrame) -> pd.DataFrame:\n",
    "        for col in self.datetime_columns:\n",
    "            # Анализ важности показал, что эти признаки самые незначимые\n",
    "            # X[f'{col}_year'] = X[col].dt.year\n",
    "            X[f'{col}_month'] = X[col].dt.month\n",
    "\n",
    "        return X.drop(columns=self.datetime_columns)"
   ]
  },
  {
   "cell_type": "code",
   "execution_count": 90,
   "metadata": {},
   "outputs": [],
   "source": [
    "class MinMaxScalerTransformer(BaseEstimator, TransformerMixin):\n",
    "    def __init__(self):\n",
    "        super().__init__()\n",
    "        self.scaler = MinMaxScaler()\n",
    "        self.num_cols = None\n",
    "\n",
    "    def fit(self, X, y=None):\n",
    "        self.num_cols = X.select_dtypes(include='number').columns\n",
    "        self.scaler.fit(X[self.num_cols])\n",
    "        return self\n",
    "\n",
    "    def transform(self, X: pd.DataFrame) -> pd.DataFrame:\n",
    "        X_copy = X.copy()\n",
    "        X_copy[self.num_cols] = self.scaler.transform(X_copy[self.num_cols])\n",
    "\n",
    "        return X_copy"
   ]
  },
  {
   "cell_type": "code",
   "execution_count": 91,
   "metadata": {},
   "outputs": [],
   "source": [
    "class OneHotEncoderTransformer(BaseEstimator, TransformerMixin):\n",
    "    def __init__(self, cat_cols: list[str]):\n",
    "        super().__init__()\n",
    "        self.cat_cols = cat_cols\n",
    "        self.ohe = OneHotEncoder(drop='first', sparse_output=False, handle_unknown='infrequent_if_exist', min_frequency=0.01)\n",
    "\n",
    "    def fit(self, X, y=None):\n",
    "        self.ohe.fit(X[self.cat_cols])\n",
    "        return self\n",
    "\n",
    "    def transform(self, X: pd.DataFrame) -> pd.DataFrame:\n",
    "        encoded = pd.DataFrame(self.ohe.transform(X[self.cat_cols]), index=X.index, columns=self.ohe.get_feature_names_out())\n",
    "        return X.join(encoded).drop(columns=self.cat_cols)"
   ]
  },
  {
   "cell_type": "code",
   "execution_count": 92,
   "metadata": {},
   "outputs": [],
   "source": [
    "class OrdinalEncoderTransformer(BaseEstimator, TransformerMixin):\n",
    "    def __init__(self, cat_cols: list[str]):\n",
    "        super().__init__()\n",
    "        self.cat_cols = cat_cols\n",
    "        self.encoder = OrdinalEncoder(min_frequency=0.01)\n",
    "\n",
    "    def fit(self, X: pd.DataFrame, y=None):\n",
    "        self.encoder.fit(X[self.cat_cols])\n",
    "        return self\n",
    "\n",
    "    def transform(self, X: pd.DataFrame) -> pd.DataFrame:\n",
    "        X_copy = X.copy()\n",
    "        X_copy[self.cat_cols] = self.encoder.transform(X_copy[self.cat_cols])\n",
    "\n",
    "        return X_copy"
   ]
  },
  {
   "cell_type": "code",
   "execution_count": 93,
   "metadata": {},
   "outputs": [],
   "source": [
    "preprocessor_pipeline = Pipeline(\n",
    "    [\n",
    "        ('feature_dropper_transformer', FeatureDropperTransformer(cols_to_drop)),\n",
    "        ('missing_imputer_transformer', MissingImputerTransformer()),\n",
    "        ('fuel_type_transformer', FuelTypeTransformer()),\n",
    "        ('date_extracter_transformer', DateExtracterTransformer())\n",
    "    ]\n",
    ")"
   ]
  },
  {
   "cell_type": "markdown",
   "metadata": {},
   "source": [
    "## 7. <a id='toc7_'></a>Модели              [&#8593;](#toc0_)"
   ]
  },
  {
   "cell_type": "code",
   "execution_count": 94,
   "metadata": {},
   "outputs": [],
   "source": [
    "def get_grid_search_results(pipeline: BaseEstimator,\n",
    "                            model_name: str,\n",
    "                            model_params_distribution: dict,\n",
    "                            X_train: pd.DataFrame,\n",
    "                            y_train: pd.Series,\n",
    "                            ) -> tuple[float, float, float]:\n",
    "    \"\"\"Use grid search to find best params out of `model_params_distribution`.\n",
    "\n",
    "    Returns:\n",
    "        tuple[float, float, float]: 3 float numbers: mean fit time, mean predict time, mean RMSE on train\n",
    "    \"\"\"\n",
    "    def format_time(seconds: float) -> str:\n",
    "        if seconds < 0:\n",
    "            raise ValueError('Invalid input: time cannot be negative')\n",
    "\n",
    "        time_components = []\n",
    "        hours = int(seconds // 3600)\n",
    "        minutes = int(seconds % 3600 // 60)\n",
    "        seconds = round(seconds % 60)\n",
    "\n",
    "        if hours > 0:\n",
    "            time_components.append(f'{hours}h')\n",
    "        if hours > 0 or minutes > 0:\n",
    "            time_components.append(f'{minutes}min')\n",
    "        time_components.append(f'{seconds}sec')\n",
    "\n",
    "        return ' '.join(time_components)\n",
    "\n",
    "\n",
    "    grid = GridSearchCV(\n",
    "        pipeline,\n",
    "        model_params_distribution,\n",
    "        scoring='neg_root_mean_squared_error',\n",
    "        refit=True,\n",
    "        n_jobs=-1,\n",
    "        cv=3\n",
    "    )\n",
    "\n",
    "    # 1. Fit grid to find best params\n",
    "    print(f'Start fitting grid for `{model_name}` model...', end='\\t')\n",
    "    grid.fit(X_train, y_train)\n",
    "    print(colored('OK', 'green'))\n",
    "\n",
    "    print(f'Best RMSE train score = {abs(grid.best_score_):.2f} with params:')\n",
    "    print(grid.best_params_)\n",
    "\n",
    "    best_estimator_res = pd.DataFrame(grid.cv_results_).sort_values('rank_test_score').iloc[0]\n",
    "\n",
    "    return (\n",
    "       best_estimator_res['mean_fit_time'],\n",
    "       best_estimator_res['mean_score_time'],\n",
    "       abs(best_estimator_res['mean_test_score'])\n",
    "    )"
   ]
  },
  {
   "cell_type": "markdown",
   "metadata": {},
   "source": [
    "### 7.1. <a id='toc7_1_'></a>`KNeighborsRegressor`         [&#8593;](#toc0_)"
   ]
  },
  {
   "cell_type": "code",
   "execution_count": 95,
   "metadata": {},
   "outputs": [
    {
     "name": "stdout",
     "output_type": "stream",
     "text": [
      "Start fitting grid for `KNeighborsRegressor` model...\t\u001b[32mOK\u001b[0m\n",
      "Best RMSE train score = 1909.52 with params:\n",
      "{'model__n_neighbors': 8, 'num_scaling': 'passthrough'}\n"
     ]
    }
   ],
   "source": [
    "knr_pipeline = Pipeline([\n",
    "    ('preprocessing', preprocessor_pipeline),\n",
    "    ('num_scaling', MinMaxScalerTransformer()),\n",
    "    ('one_hot_encoder_transformer', OneHotEncoderTransformer(cat_cols)),\n",
    "    ('model', KNeighborsRegressor(n_jobs=-1))\n",
    "])\n",
    "\n",
    "knr_params = {\n",
    "    'num_scaling': [MinMaxScalerTransformer(), 'passthrough'],\n",
    "    'model__n_neighbors': range(4, 9)\n",
    "}\n",
    "\n",
    "knr_res = get_grid_search_results(knr_pipeline, 'KNeighborsRegressor', knr_params, X_train, y_train)"
   ]
  },
  {
   "cell_type": "markdown",
   "metadata": {},
   "source": [
    "### 7.2. <a id='toc7_2_'></a>`Ridge`         [&#8593;](#toc0_)"
   ]
  },
  {
   "cell_type": "code",
   "execution_count": 96,
   "metadata": {},
   "outputs": [
    {
     "name": "stdout",
     "output_type": "stream",
     "text": [
      "Start fitting grid for `Ridge` model...\t\u001b[32mOK\u001b[0m\n",
      "Best RMSE train score = 3017.36 with params:\n",
      "{'model__alpha': 1.0, 'model__fit_intercept': True, 'model__solver': 'auto', 'model__tol': 0.0001}\n"
     ]
    }
   ],
   "source": [
    "ridge_pipeline = Pipeline([\n",
    "    ('preprocessing', preprocessor_pipeline),\n",
    "    ('num_scaling', MinMaxScalerTransformer()),\n",
    "    ('one_hot_encoder_transformer', OneHotEncoderTransformer(cat_cols)),\n",
    "    ('model', Ridge(random_state=RANDOM_STATE))\n",
    "])\n",
    "\n",
    "ridge_params = {\n",
    "    'model__alpha': [0.001, 0.01, 0.1, 1.0, 10.0],\n",
    "    'model__solver': ['auto', 'svd', 'cholesky', 'lsqr'],\n",
    "    'model__tol': [1e-4, 1e-3, 1e-2],\n",
    "    'model__fit_intercept': [True, False],\n",
    "}\n",
    "\n",
    "ridge_res = get_grid_search_results(ridge_pipeline, 'Ridge', ridge_params, X_train, y_train)"
   ]
  },
  {
   "cell_type": "markdown",
   "metadata": {},
   "source": [
    "### 7.3. <a id='toc7_3_'></a>`LinearSVR`         [&#8593;](#toc0_)"
   ]
  },
  {
   "cell_type": "code",
   "execution_count": 97,
   "metadata": {},
   "outputs": [
    {
     "name": "stdout",
     "output_type": "stream",
     "text": [
      "Start fitting grid for `LinearSVR` model...\t\u001b[32mOK\u001b[0m\n",
      "Best RMSE train score = 3150.06 with params:\n",
      "{'model__C': 100, 'num_scaling': MinMaxScalerTransformer()}\n"
     ]
    }
   ],
   "source": [
    "svr_pipeline = Pipeline([\n",
    "    ('preprocessing', preprocessor_pipeline),\n",
    "    ('num_scaling', MinMaxScalerTransformer()),\n",
    "    ('one_hot_encoder_transformer', OneHotEncoderTransformer(cat_cols)),\n",
    "    ('model', LinearSVR(random_state=RANDOM_STATE))\n",
    "])\n",
    "\n",
    "svr_params = {\n",
    "    'num_scaling': [MinMaxScalerTransformer(), 'passthrough'],\n",
    "    'model__C': [0.01, 0.1, 1, 10, 100]\n",
    "}\n",
    "\n",
    "svr_res = get_grid_search_results(svr_pipeline, 'LinearSVR', svr_params, X_train, y_train)"
   ]
  },
  {
   "cell_type": "markdown",
   "metadata": {},
   "source": [
    "### 7.4. <a id='toc7_4_'></a>`RandomForestRegressor`         [&#8593;](#toc0_)"
   ]
  },
  {
   "cell_type": "code",
   "execution_count": 98,
   "metadata": {},
   "outputs": [
    {
     "name": "stdout",
     "output_type": "stream",
     "text": [
      "Start fitting grid for `RandomForestRegressor` model...\t\u001b[32mOK\u001b[0m\n",
      "Best RMSE train score = 1648.35 with params:\n",
      "{'model__min_samples_leaf': 2, 'model__min_samples_split': 2, 'model__n_estimators': 1000}\n"
     ]
    }
   ],
   "source": [
    "rfr_pipeline = Pipeline([\n",
    "    ('preprocessing', preprocessor_pipeline),\n",
    "    ('ordinal_encoder', OrdinalEncoderTransformer(cat_cols)),\n",
    "    ('model', RandomForestRegressor(random_state=RANDOM_STATE, n_jobs=-1))\n",
    "])\n",
    "\n",
    "rfr_params = {\n",
    "    'model__n_estimators': [100, 500, 1000],\n",
    "    'model__min_samples_split': range(2, 5),\n",
    "    'model__min_samples_leaf': range(2, 5)\n",
    "}\n",
    "\n",
    "rfr_res = get_grid_search_results(rfr_pipeline, 'RandomForestRegressor', rfr_params, X_train, y_train)"
   ]
  },
  {
   "cell_type": "markdown",
   "metadata": {},
   "source": [
    "### 7.5. <a id='toc7_5_'></a>`CatBoostRegressor`         [&#8593;](#toc0_)"
   ]
  },
  {
   "cell_type": "code",
   "execution_count": 99,
   "metadata": {},
   "outputs": [
    {
     "name": "stdout",
     "output_type": "stream",
     "text": [
      "Start fitting grid for `CatBoostRegressor` model...\t\u001b[32mOK\u001b[0m\n",
      "Best RMSE train score = 1588.06 with params:\n",
      "{'model__depth': 10, 'model__iterations': 1000, 'model__learning_rate': 0.1}\n"
     ]
    }
   ],
   "source": [
    "cbr_pipeline = Pipeline([\n",
    "    ('preprocessing', preprocessor_pipeline),\n",
    "    ('model', CatBoostRegressor(\n",
    "        random_state=RANDOM_STATE,\n",
    "        cat_features=cat_cols,\n",
    "        boosting_type='Plain',\n",
    "        leaf_estimation_iterations=1,\n",
    "        thread_count=-1,\n",
    "        silent=True)\n",
    "    )\n",
    "])\n",
    "\n",
    "cbr_params = {\n",
    "    'model__learning_rate': [0.01, 0.05, 0.1, 0.3, 0.5],\n",
    "    'model__depth': [4, 6, 8, 10],\n",
    "    'model__iterations': [100, 250, 500, 1000]\n",
    "}\n",
    "\n",
    "cbr_res = get_grid_search_results(cbr_pipeline, 'CatBoostRegressor', cbr_params, X_train, y_train)"
   ]
  },
  {
   "cell_type": "markdown",
   "metadata": {},
   "source": [
    "### 7.6. <a id='toc7_6_'></a>`LGBMRegressor`         [&#8593;](#toc0_)"
   ]
  },
  {
   "cell_type": "code",
   "execution_count": 100,
   "metadata": {},
   "outputs": [],
   "source": [
    "class SetCategotyTypeTransformer(BaseEstimator, TransformerMixin):\n",
    "    def __init__(self, cat_cols):\n",
    "        super().__init__()\n",
    "        self.cat_cols = cat_cols\n",
    "\n",
    "    def fit(self, X, y=None):\n",
    "        return self\n",
    "\n",
    "    def transform(self, X: pd.DataFrame) -> pd.DataFrame:\n",
    "        X_copy = X.copy()\n",
    "        X_copy[self.cat_cols] = X_copy[self.cat_cols].astype('category')\n",
    "\n",
    "        return X_copy"
   ]
  },
  {
   "cell_type": "code",
   "execution_count": 101,
   "metadata": {},
   "outputs": [
    {
     "name": "stdout",
     "output_type": "stream",
     "text": [
      "Start fitting grid for `LGBMRegressor` model...\t\u001b[32mOK\u001b[0m\n",
      "Best RMSE train score = 1598.43 with params:\n",
      "{'model__learning_rate': 0.3, 'model__max_depth': 15, 'model__num_leaves': 150}\n"
     ]
    }
   ],
   "source": [
    "lgbmr_pipeline = Pipeline([\n",
    "    ('preprocessing', preprocessor_pipeline),\n",
    "    ('set_category_type', SetCategotyTypeTransformer(cat_cols)),\n",
    "    ('model', LGBMRegressor(random_state=RANDOM_STATE, n_jobs=-1, verbosity=-1))\n",
    "])\n",
    "\n",
    "lgbmr_params = {\n",
    "    'model__learning_rate': [0.01, 0.05, 0.1, 0.3],\n",
    "    'model__num_leaves': [20, 50, 100, 150],\n",
    "    'model__max_depth': [3, 5, 7, 10, 15]\n",
    "}\n",
    "\n",
    "lgbmr_res = get_grid_search_results(lgbmr_pipeline, 'LGBMRegressor', lgbmr_params, X_train, y_train)"
   ]
  },
  {
   "cell_type": "markdown",
   "metadata": {},
   "source": [
    "### 7.7. <a id='toc7_7_'></a>Результаты         [&#8593;](#toc0_)"
   ]
  },
  {
   "cell_type": "code",
   "execution_count": 102,
   "metadata": {},
   "outputs": [
    {
     "data": {
      "text/html": [
       "<div>\n",
       "<style scoped>\n",
       "    .dataframe tbody tr th:only-of-type {\n",
       "        vertical-align: middle;\n",
       "    }\n",
       "\n",
       "    .dataframe tbody tr th {\n",
       "        vertical-align: top;\n",
       "    }\n",
       "\n",
       "    .dataframe thead th {\n",
       "        text-align: right;\n",
       "    }\n",
       "</style>\n",
       "<table border=\"1\" class=\"dataframe\">\n",
       "  <thead>\n",
       "    <tr style=\"text-align: right;\">\n",
       "      <th></th>\n",
       "      <th>mean_fit_time</th>\n",
       "      <th>mean_predict_time</th>\n",
       "      <th>mean_train_rmse</th>\n",
       "    </tr>\n",
       "  </thead>\n",
       "  <tbody>\n",
       "    <tr>\n",
       "      <th>CatBoostRegressor</th>\n",
       "      <td>769.72</td>\n",
       "      <td>1.89</td>\n",
       "      <td>1588.06</td>\n",
       "    </tr>\n",
       "    <tr>\n",
       "      <th>LGBMRegressor</th>\n",
       "      <td>4.32</td>\n",
       "      <td>0.30</td>\n",
       "      <td>1598.43</td>\n",
       "    </tr>\n",
       "    <tr>\n",
       "      <th>RandomForestRegressor</th>\n",
       "      <td>630.64</td>\n",
       "      <td>47.13</td>\n",
       "      <td>1648.35</td>\n",
       "    </tr>\n",
       "    <tr>\n",
       "      <th>KNeighborsRegressor</th>\n",
       "      <td>1.79</td>\n",
       "      <td>88.60</td>\n",
       "      <td>1909.52</td>\n",
       "    </tr>\n",
       "    <tr>\n",
       "      <th>Ridge</th>\n",
       "      <td>1.97</td>\n",
       "      <td>0.36</td>\n",
       "      <td>3017.36</td>\n",
       "    </tr>\n",
       "    <tr>\n",
       "      <th>LinearSVR</th>\n",
       "      <td>2.64</td>\n",
       "      <td>0.38</td>\n",
       "      <td>3150.06</td>\n",
       "    </tr>\n",
       "  </tbody>\n",
       "</table>\n",
       "</div>"
      ],
      "text/plain": [
       "                       mean_fit_time  mean_predict_time  mean_train_rmse\n",
       "CatBoostRegressor             769.72               1.89          1588.06\n",
       "LGBMRegressor                   4.32               0.30          1598.43\n",
       "RandomForestRegressor         630.64              47.13          1648.35\n",
       "KNeighborsRegressor             1.79              88.60          1909.52\n",
       "Ridge                           1.97               0.36          3017.36\n",
       "LinearSVR                       2.64               0.38          3150.06"
      ]
     },
     "execution_count": 102,
     "metadata": {},
     "output_type": "execute_result"
    }
   ],
   "source": [
    "pd.DataFrame(\n",
    "    data=[knr_res, ridge_res, svr_res, rfr_res, cbr_res, lgbmr_res],\n",
    "    index=['KNeighborsRegressor', 'Ridge', 'LinearSVR', 'RandomForestRegressor', 'CatBoostRegressor', 'LGBMRegressor'],\n",
    "    columns=['mean_fit_time', 'mean_predict_time', 'mean_train_rmse']\n",
    ").sort_values('mean_train_rmse')"
   ]
  },
  {
   "cell_type": "markdown",
   "metadata": {},
   "source": [
    "В результате 2 модели из 6 не проходит по по целевой метрике (RMSE < 2500). Среди оставшихся 4 лучшего всего (по метрике) себя показал `CatBoostRegressor`. Однако разница по метрике между ним и `LGBMRegressor` крайне незначительна. При этом `LGBMRegressor` значительно быстрее обучается (практически в 10 раз) и более чем в 3 раза быстрее предсказывает. Поэтому для дальнейшей работы заказчику рекомендуется именно эта модель с параметрами `{'model__learning_rate': 0.3, 'model__max_depth': 15, 'model__num_leaves': 150}`."
   ]
  },
  {
   "cell_type": "markdown",
   "metadata": {},
   "source": [
    "### 7.8. <a id='toc7_8_'></a>Метрика на тестовом датасете [&#8593;](#toc0_)"
   ]
  },
  {
   "cell_type": "code",
   "execution_count": 103,
   "metadata": {},
   "outputs": [],
   "source": [
    "best_estimator_pipeline = Pipeline([\n",
    "    ('preprocessing', preprocessor_pipeline),\n",
    "    ('set_category_type', SetCategotyTypeTransformer(cat_cols)),\n",
    "    ('model', LGBMRegressor(random_state=RANDOM_STATE,\n",
    "                            n_jobs=-1,\n",
    "                            verbosity=-1,\n",
    "                            learning_rate=0.3,\n",
    "                            max_depth=15,\n",
    "                            num_leaves=150)\n",
    "    )\n",
    "])\n",
    "\n",
    "best_estimator_pipeline.fit(X_train, y_train);"
   ]
  },
  {
   "cell_type": "code",
   "execution_count": 104,
   "metadata": {},
   "outputs": [
    {
     "data": {
      "text/plain": [
       "1560.63"
      ]
     },
     "execution_count": 104,
     "metadata": {},
     "output_type": "execute_result"
    }
   ],
   "source": [
    "y_pred = best_estimator_pipeline.predict(X_test)\n",
    "rmse = root_mean_squared_error(y_test, y_pred)\n",
    "round(rmse, 2)"
   ]
  },
  {
   "cell_type": "markdown",
   "metadata": {},
   "source": [
    "Метрика на тестовом датасете более чем подходит под условие (RMSE < 2500)."
   ]
  },
  {
   "cell_type": "markdown",
   "metadata": {},
   "source": [
    "## 8. <a id='toc8_'></a>Важность признаков      [&#8593;](#toc0_)"
   ]
  },
  {
   "cell_type": "code",
   "execution_count": 105,
   "metadata": {},
   "outputs": [],
   "source": [
    "best_estimator_pipeline_without_model = Pipeline([\n",
    "    ('preprocessing', preprocessor_pipeline),\n",
    "    ('set_category_type', SetCategotyTypeTransformer(cat_cols))\n",
    "])\n",
    "\n",
    "best_estimator_pipeline_without_model.fit(X_test);"
   ]
  },
  {
   "cell_type": "code",
   "execution_count": 106,
   "metadata": {},
   "outputs": [
    {
     "data": {
      "image/png": "[encoded data removed]",
      "text/plain": [
       "<Figure size 800x550 with 1 Axes>"
      ]
     },
     "metadata": {},
     "output_type": "display_data"
    }
   ],
   "source": [
    "X_test_processed = best_estimator_pipeline_without_model.transform(X_test)\n",
    "best_model = best_estimator_pipeline.named_steps['model']\n",
    "\n",
    "explainer = shap.TreeExplainer(best_model)\n",
    "shap_values = explainer.shap_values(X_test_processed)\n",
    "\n",
    "shap.summary_plot(shap_values, X_test_processed, color_bar_label='Признаки', show=False, plot_type='bar', show_values_in_legend=True, max_display=100)\n",
    "plt.title('SHAP важность признаков')\n",
    "plt.xlabel('SHAP значение')\n",
    "plt.ylabel('Признаки', fontsize=13)\n",
    "\n",
    "plt.tight_layout()\n",
    "plt.show()"
   ]
  },
  {
   "cell_type": "markdown",
   "metadata": {},
   "source": [
    "## 9. <a id='toc9_'></a>Финальный вывод         [&#8593;](#toc0_)"
   ]
  },
  {
   "cell_type": "markdown",
   "metadata": {},
   "source": [
    "В рамках данного проекта мы работали с датасетом о различных автомобилях. Целевым признаком является столбец `price`, который отражает цену авто в евро. В качестве входных признаков дана информация об автомобиле, например, год регистрации, бренд и модель, пробег и так далее. Также есть некая информация о анкете: дата создания анкеты, дата выгрузки анкеты из базы и дата последней активности пользователя.\n",
    "\n",
    "<h3>Предоработка и исследования</h3>\n",
    "\n",
    "В рамках первичной обработки были удалены полные дубликаты. Также в 5 столбцах обнаружены пропуски. Все пропуски находятся в категориальных признаках и будут заполнены специальными категориями `unknown` и объединены с категорией `other`.\n",
    "\n",
    "Были обнаружены, некоторые аномалии. Например, столбец `registration_month` имеет 13 уникальных значений (от 0 до 12 включительно). Однако было принято решение оставить как есть, так как значение 0, скорее всего, несет в себе некую информацию.\n",
    "\n",
    "В рамках EDA были выявлены некоторые неинформативные признаки, которые были сразу удалены. Также были удалены записи, которые содержат аномалии, а именно:\n",
    "\n",
    "- невозможный или неактуальный для нашей модели год регистрации\n",
    "- нулевую цену\n",
    "- нулевую мощность авто\n",
    "\n",
    "<h3>Корреляция</h3>\n",
    "\n",
    "Была исследована корреляция между признаки. Результаты следующие:  \n",
    "Таргет имеет корреляцию:\n",
    "- **выше среднего** (0.5 - 0.7): `registration_year` и `model`\n",
    "- **среднюю** (0.3 - 0.5): `kilometer`, `gearbox`, `brand` и `repaired`\n",
    "- **ниже среднего** (0.1 - 0.3): `registration_month`, `vehicle_type` и `fuel_type`\n",
    "- **крайне низкую** (< 0.1): `power` и `date_created`\n",
    "\n",
    "Мультиколлинеарность не наблюдается среди числовых признаков.\n",
    "\n",
    "На данном этапе было принято решение удалить признаки, которые практички не имеют влияния на таргет (`registraion_month`, `date_crawled`), а также признак `model` так как он имеет крайне высокую корреляцию с признаком `brand`.\n",
    "\n",
    "<h3>Пайплайны и модели</h3>\n",
    "\n",
    "С помощью написанных трансформеров был создан пайплайн по предобработке данных, включающий в себя несколько шагов, таких как:\n",
    "- заполнение пропусков\n",
    "- извлечение компонентов из дат\n",
    "- кодирование категориальных признаков\n",
    "\n",
    "Было протестировано 6 различных моделей. В результате 2 из них не проходят по по целевой метрике (RMSE < 2500). Среди оставшихся 4 лучшего всего (по метрике) себя показал `CatBoostRegressor`. Однако разница по метрике между ним и `LGBMRegressor` крайне незначительна. При этом `LGBMRegressor` значительно быстрее обучается (практически в 10 раз) и более чем в 3 раза быстрее предсказывает. Поэтому для дальнейшей работы заказчику рекомендуется именно эта модель с параметрами `{'model__learning_rate': 0.3, 'model__max_depth': 15, 'model__num_leaves': 150}`.\n",
    "\n",
    "Для данной модели метрика на тестовой выборке составила `1560`, что подходит под условия проекта."
   ]
  }
 ],
 "metadata": {
  "ExecuteTimeLog": [
   {
    "duration": 8,
    "start_time": "2024-11-08T09:18:03.204Z"
   },
   {
    "duration": 25820,
    "start_time": "2024-11-08T09:18:03.214Z"
   },
   {
    "duration": 65204,
    "start_time": "2024-11-08T09:18:29.036Z"
   },
   {
    "duration": 785,
    "start_time": "2024-11-08T09:19:34.243Z"
   },
   {
    "duration": 0,
    "start_time": "2024-11-08T09:19:35.032Z"
   },
   {
    "duration": 0,
    "start_time": "2024-11-08T09:19:35.034Z"
   },
   {
    "duration": 0,
    "start_time": "2024-11-08T09:19:35.035Z"
   },
   {
    "duration": 0,
    "start_time": "2024-11-08T09:19:35.036Z"
   },
   {
    "duration": 0,
    "start_time": "2024-11-08T09:19:35.037Z"
   },
   {
    "duration": 0,
    "start_time": "2024-11-08T09:19:35.038Z"
   },
   {
    "duration": 0,
    "start_time": "2024-11-08T09:19:35.039Z"
   },
   {
    "duration": 0,
    "start_time": "2024-11-08T09:19:35.054Z"
   },
   {
    "duration": 0,
    "start_time": "2024-11-08T09:19:35.055Z"
   },
   {
    "duration": 0,
    "start_time": "2024-11-08T09:19:35.057Z"
   },
   {
    "duration": 0,
    "start_time": "2024-11-08T09:19:35.058Z"
   },
   {
    "duration": 0,
    "start_time": "2024-11-08T09:19:35.059Z"
   },
   {
    "duration": 0,
    "start_time": "2024-11-08T09:19:35.060Z"
   },
   {
    "duration": 0,
    "start_time": "2024-11-08T09:19:35.061Z"
   },
   {
    "duration": 0,
    "start_time": "2024-11-08T09:19:35.062Z"
   },
   {
    "duration": 0,
    "start_time": "2024-11-08T09:19:35.063Z"
   },
   {
    "duration": 0,
    "start_time": "2024-11-08T09:19:35.064Z"
   },
   {
    "duration": 0,
    "start_time": "2024-11-08T09:19:35.065Z"
   },
   {
    "duration": 0,
    "start_time": "2024-11-08T09:19:35.066Z"
   },
   {
    "duration": 0,
    "start_time": "2024-11-08T09:19:35.068Z"
   },
   {
    "duration": 0,
    "start_time": "2024-11-08T09:19:35.069Z"
   },
   {
    "duration": 0,
    "start_time": "2024-11-08T09:19:35.070Z"
   },
   {
    "duration": 0,
    "start_time": "2024-11-08T09:19:35.071Z"
   },
   {
    "duration": 0,
    "start_time": "2024-11-08T09:19:35.072Z"
   },
   {
    "duration": 0,
    "start_time": "2024-11-08T09:19:35.073Z"
   },
   {
    "duration": 0,
    "start_time": "2024-11-08T09:19:35.074Z"
   },
   {
    "duration": 0,
    "start_time": "2024-11-08T09:19:35.075Z"
   },
   {
    "duration": 0,
    "start_time": "2024-11-08T09:19:35.076Z"
   },
   {
    "duration": 0,
    "start_time": "2024-11-08T09:19:35.077Z"
   },
   {
    "duration": 0,
    "start_time": "2024-11-08T09:19:35.078Z"
   },
   {
    "duration": 0,
    "start_time": "2024-11-08T09:19:35.081Z"
   },
   {
    "duration": 0,
    "start_time": "2024-11-08T09:19:35.082Z"
   },
   {
    "duration": 0,
    "start_time": "2024-11-08T09:19:35.083Z"
   },
   {
    "duration": 0,
    "start_time": "2024-11-08T09:19:35.084Z"
   },
   {
    "duration": 0,
    "start_time": "2024-11-08T09:19:35.085Z"
   },
   {
    "duration": 0,
    "start_time": "2024-11-08T09:19:35.086Z"
   },
   {
    "duration": 0,
    "start_time": "2024-11-08T09:19:35.087Z"
   },
   {
    "duration": 0,
    "start_time": "2024-11-08T09:19:35.088Z"
   },
   {
    "duration": 0,
    "start_time": "2024-11-08T09:19:35.089Z"
   },
   {
    "duration": 0,
    "start_time": "2024-11-08T09:19:35.090Z"
   },
   {
    "duration": 0,
    "start_time": "2024-11-08T09:19:35.152Z"
   },
   {
    "duration": 0,
    "start_time": "2024-11-08T09:19:35.153Z"
   },
   {
    "duration": 0,
    "start_time": "2024-11-08T09:19:35.154Z"
   },
   {
    "duration": 0,
    "start_time": "2024-11-08T09:19:35.155Z"
   },
   {
    "duration": 0,
    "start_time": "2024-11-08T09:19:35.156Z"
   },
   {
    "duration": 0,
    "start_time": "2024-11-08T09:19:35.158Z"
   },
   {
    "duration": 0,
    "start_time": "2024-11-08T09:19:35.159Z"
   },
   {
    "duration": 0,
    "start_time": "2024-11-08T09:19:35.160Z"
   },
   {
    "duration": 0,
    "start_time": "2024-11-08T09:19:35.161Z"
   },
   {
    "duration": 0,
    "start_time": "2024-11-08T09:19:35.162Z"
   },
   {
    "duration": 0,
    "start_time": "2024-11-08T09:19:35.163Z"
   },
   {
    "duration": 0,
    "start_time": "2024-11-08T09:19:35.164Z"
   },
   {
    "duration": 0,
    "start_time": "2024-11-08T09:19:35.165Z"
   },
   {
    "duration": 0,
    "start_time": "2024-11-08T09:19:35.166Z"
   },
   {
    "duration": 0,
    "start_time": "2024-11-08T09:19:35.167Z"
   },
   {
    "duration": 0,
    "start_time": "2024-11-08T09:19:35.168Z"
   },
   {
    "duration": 0,
    "start_time": "2024-11-08T09:19:35.170Z"
   },
   {
    "duration": 1,
    "start_time": "2024-11-08T09:19:35.170Z"
   },
   {
    "duration": 0,
    "start_time": "2024-11-08T09:19:35.172Z"
   },
   {
    "duration": 0,
    "start_time": "2024-11-08T09:19:35.173Z"
   },
   {
    "duration": 0,
    "start_time": "2024-11-08T09:19:35.174Z"
   },
   {
    "duration": 0,
    "start_time": "2024-11-08T09:19:35.175Z"
   },
   {
    "duration": 0,
    "start_time": "2024-11-08T09:19:35.176Z"
   },
   {
    "duration": 0,
    "start_time": "2024-11-08T09:19:35.177Z"
   },
   {
    "duration": 0,
    "start_time": "2024-11-08T09:19:35.178Z"
   },
   {
    "duration": 0,
    "start_time": "2024-11-08T09:19:35.179Z"
   },
   {
    "duration": 0,
    "start_time": "2024-11-08T09:19:35.180Z"
   },
   {
    "duration": 0,
    "start_time": "2024-11-08T09:19:35.181Z"
   },
   {
    "duration": 0,
    "start_time": "2024-11-08T09:19:35.183Z"
   },
   {
    "duration": 0,
    "start_time": "2024-11-08T09:19:35.184Z"
   },
   {
    "duration": 0,
    "start_time": "2024-11-08T09:19:35.185Z"
   },
   {
    "duration": 0,
    "start_time": "2024-11-08T09:19:35.186Z"
   },
   {
    "duration": 0,
    "start_time": "2024-11-08T09:19:35.187Z"
   },
   {
    "duration": 0,
    "start_time": "2024-11-08T09:19:35.188Z"
   },
   {
    "duration": 0,
    "start_time": "2024-11-08T09:19:35.189Z"
   },
   {
    "duration": 0,
    "start_time": "2024-11-08T09:19:35.190Z"
   },
   {
    "duration": 0,
    "start_time": "2024-11-08T09:19:35.252Z"
   },
   {
    "duration": 0,
    "start_time": "2024-11-08T09:19:35.253Z"
   },
   {
    "duration": 0,
    "start_time": "2024-11-08T09:19:35.254Z"
   },
   {
    "duration": 0,
    "start_time": "2024-11-08T09:19:35.256Z"
   },
   {
    "duration": 0,
    "start_time": "2024-11-08T09:19:35.257Z"
   },
   {
    "duration": 0,
    "start_time": "2024-11-08T09:19:35.258Z"
   },
   {
    "duration": 0,
    "start_time": "2024-11-08T09:19:35.259Z"
   },
   {
    "duration": 0,
    "start_time": "2024-11-08T09:19:35.260Z"
   },
   {
    "duration": 0,
    "start_time": "2024-11-08T09:19:35.261Z"
   },
   {
    "duration": 0,
    "start_time": "2024-11-08T09:19:35.262Z"
   },
   {
    "duration": 0,
    "start_time": "2024-11-08T09:19:35.263Z"
   },
   {
    "duration": 0,
    "start_time": "2024-11-08T09:19:35.264Z"
   },
   {
    "duration": 0,
    "start_time": "2024-11-08T09:19:35.265Z"
   },
   {
    "duration": 0,
    "start_time": "2024-11-08T09:19:35.266Z"
   },
   {
    "duration": 0,
    "start_time": "2024-11-08T09:19:35.267Z"
   },
   {
    "duration": 0,
    "start_time": "2024-11-08T09:19:35.268Z"
   },
   {
    "duration": 0,
    "start_time": "2024-11-08T09:19:35.269Z"
   },
   {
    "duration": 0,
    "start_time": "2024-11-08T09:19:35.270Z"
   },
   {
    "duration": 0,
    "start_time": "2024-11-08T09:19:35.271Z"
   },
   {
    "duration": 0,
    "start_time": "2024-11-08T09:19:35.272Z"
   },
   {
    "duration": 0,
    "start_time": "2024-11-08T09:19:35.273Z"
   },
   {
    "duration": 0,
    "start_time": "2024-11-08T09:19:35.274Z"
   },
   {
    "duration": 0,
    "start_time": "2024-11-08T09:19:35.275Z"
   },
   {
    "duration": 0,
    "start_time": "2024-11-08T09:19:35.276Z"
   },
   {
    "duration": 22792,
    "start_time": "2024-11-08T09:25:59.375Z"
   },
   {
    "duration": 36980,
    "start_time": "2024-11-08T09:26:22.170Z"
   },
   {
    "duration": 21,
    "start_time": "2024-11-08T09:26:59.152Z"
   },
   {
    "duration": 16,
    "start_time": "2024-11-08T09:27:27.365Z"
   },
   {
    "duration": 8,
    "start_time": "2024-11-08T09:28:52.784Z"
   },
   {
    "duration": 6667,
    "start_time": "2024-11-08T09:28:52.794Z"
   },
   {
    "duration": 47113,
    "start_time": "2024-11-08T09:28:59.463Z"
   },
   {
    "duration": 759,
    "start_time": "2024-11-08T09:29:46.579Z"
   },
   {
    "duration": 0,
    "start_time": "2024-11-08T09:29:47.343Z"
   },
   {
    "duration": 0,
    "start_time": "2024-11-08T09:29:47.352Z"
   },
   {
    "duration": 0,
    "start_time": "2024-11-08T09:29:47.353Z"
   },
   {
    "duration": 0,
    "start_time": "2024-11-08T09:29:47.354Z"
   },
   {
    "duration": 0,
    "start_time": "2024-11-08T09:29:47.355Z"
   },
   {
    "duration": 0,
    "start_time": "2024-11-08T09:29:47.356Z"
   },
   {
    "duration": 0,
    "start_time": "2024-11-08T09:29:47.357Z"
   },
   {
    "duration": 0,
    "start_time": "2024-11-08T09:29:47.359Z"
   },
   {
    "duration": 0,
    "start_time": "2024-11-08T09:29:47.360Z"
   },
   {
    "duration": 0,
    "start_time": "2024-11-08T09:29:47.361Z"
   },
   {
    "duration": 0,
    "start_time": "2024-11-08T09:29:47.363Z"
   },
   {
    "duration": 0,
    "start_time": "2024-11-08T09:29:47.364Z"
   },
   {
    "duration": 0,
    "start_time": "2024-11-08T09:29:47.365Z"
   },
   {
    "duration": 0,
    "start_time": "2024-11-08T09:29:47.367Z"
   },
   {
    "duration": 0,
    "start_time": "2024-11-08T09:29:47.368Z"
   },
   {
    "duration": 0,
    "start_time": "2024-11-08T09:29:47.369Z"
   },
   {
    "duration": 0,
    "start_time": "2024-11-08T09:29:47.370Z"
   },
   {
    "duration": 0,
    "start_time": "2024-11-08T09:29:47.371Z"
   },
   {
    "duration": 0,
    "start_time": "2024-11-08T09:29:47.372Z"
   },
   {
    "duration": 0,
    "start_time": "2024-11-08T09:29:47.373Z"
   },
   {
    "duration": 0,
    "start_time": "2024-11-08T09:29:47.374Z"
   },
   {
    "duration": 0,
    "start_time": "2024-11-08T09:29:47.375Z"
   },
   {
    "duration": 0,
    "start_time": "2024-11-08T09:29:47.376Z"
   },
   {
    "duration": 0,
    "start_time": "2024-11-08T09:29:47.377Z"
   },
   {
    "duration": 0,
    "start_time": "2024-11-08T09:29:47.378Z"
   },
   {
    "duration": 0,
    "start_time": "2024-11-08T09:29:47.379Z"
   },
   {
    "duration": 0,
    "start_time": "2024-11-08T09:29:47.382Z"
   },
   {
    "duration": 0,
    "start_time": "2024-11-08T09:29:47.383Z"
   },
   {
    "duration": 0,
    "start_time": "2024-11-08T09:29:47.384Z"
   },
   {
    "duration": 0,
    "start_time": "2024-11-08T09:29:47.384Z"
   },
   {
    "duration": 0,
    "start_time": "2024-11-08T09:29:47.386Z"
   },
   {
    "duration": 0,
    "start_time": "2024-11-08T09:29:47.386Z"
   },
   {
    "duration": 1,
    "start_time": "2024-11-08T09:29:47.387Z"
   },
   {
    "duration": 0,
    "start_time": "2024-11-08T09:29:47.389Z"
   },
   {
    "duration": 0,
    "start_time": "2024-11-08T09:29:47.390Z"
   },
   {
    "duration": 0,
    "start_time": "2024-11-08T09:29:47.390Z"
   },
   {
    "duration": 0,
    "start_time": "2024-11-08T09:29:47.451Z"
   },
   {
    "duration": 0,
    "start_time": "2024-11-08T09:29:47.452Z"
   },
   {
    "duration": 0,
    "start_time": "2024-11-08T09:29:47.453Z"
   },
   {
    "duration": 0,
    "start_time": "2024-11-08T09:29:47.454Z"
   },
   {
    "duration": 0,
    "start_time": "2024-11-08T09:29:47.455Z"
   },
   {
    "duration": 0,
    "start_time": "2024-11-08T09:29:47.456Z"
   },
   {
    "duration": 0,
    "start_time": "2024-11-08T09:29:47.457Z"
   },
   {
    "duration": 0,
    "start_time": "2024-11-08T09:29:47.458Z"
   },
   {
    "duration": 0,
    "start_time": "2024-11-08T09:29:47.459Z"
   },
   {
    "duration": 0,
    "start_time": "2024-11-08T09:29:47.460Z"
   },
   {
    "duration": 0,
    "start_time": "2024-11-08T09:29:47.461Z"
   },
   {
    "duration": 0,
    "start_time": "2024-11-08T09:29:47.462Z"
   },
   {
    "duration": 0,
    "start_time": "2024-11-08T09:29:47.464Z"
   },
   {
    "duration": 0,
    "start_time": "2024-11-08T09:29:47.465Z"
   },
   {
    "duration": 0,
    "start_time": "2024-11-08T09:29:47.466Z"
   },
   {
    "duration": 0,
    "start_time": "2024-11-08T09:29:47.467Z"
   },
   {
    "duration": 0,
    "start_time": "2024-11-08T09:29:47.468Z"
   },
   {
    "duration": 0,
    "start_time": "2024-11-08T09:29:47.470Z"
   },
   {
    "duration": 0,
    "start_time": "2024-11-08T09:29:47.471Z"
   },
   {
    "duration": 0,
    "start_time": "2024-11-08T09:29:47.472Z"
   },
   {
    "duration": 0,
    "start_time": "2024-11-08T09:29:47.473Z"
   },
   {
    "duration": 0,
    "start_time": "2024-11-08T09:29:47.474Z"
   },
   {
    "duration": 0,
    "start_time": "2024-11-08T09:29:47.476Z"
   },
   {
    "duration": 0,
    "start_time": "2024-11-08T09:29:47.477Z"
   },
   {
    "duration": 0,
    "start_time": "2024-11-08T09:29:47.478Z"
   },
   {
    "duration": 0,
    "start_time": "2024-11-08T09:29:47.479Z"
   },
   {
    "duration": 0,
    "start_time": "2024-11-08T09:29:47.480Z"
   },
   {
    "duration": 0,
    "start_time": "2024-11-08T09:29:47.481Z"
   },
   {
    "duration": 0,
    "start_time": "2024-11-08T09:29:47.482Z"
   },
   {
    "duration": 0,
    "start_time": "2024-11-08T09:29:47.483Z"
   },
   {
    "duration": 0,
    "start_time": "2024-11-08T09:29:47.484Z"
   },
   {
    "duration": 0,
    "start_time": "2024-11-08T09:29:47.485Z"
   },
   {
    "duration": 0,
    "start_time": "2024-11-08T09:29:47.486Z"
   },
   {
    "duration": 0,
    "start_time": "2024-11-08T09:29:47.487Z"
   },
   {
    "duration": 0,
    "start_time": "2024-11-08T09:29:47.552Z"
   },
   {
    "duration": 0,
    "start_time": "2024-11-08T09:29:47.554Z"
   },
   {
    "duration": 0,
    "start_time": "2024-11-08T09:29:47.555Z"
   },
   {
    "duration": 0,
    "start_time": "2024-11-08T09:29:47.556Z"
   },
   {
    "duration": 0,
    "start_time": "2024-11-08T09:29:47.557Z"
   },
   {
    "duration": 0,
    "start_time": "2024-11-08T09:29:47.558Z"
   },
   {
    "duration": 0,
    "start_time": "2024-11-08T09:29:47.560Z"
   },
   {
    "duration": 0,
    "start_time": "2024-11-08T09:29:47.561Z"
   },
   {
    "duration": 0,
    "start_time": "2024-11-08T09:29:47.562Z"
   },
   {
    "duration": 0,
    "start_time": "2024-11-08T09:29:47.563Z"
   },
   {
    "duration": 0,
    "start_time": "2024-11-08T09:29:47.564Z"
   },
   {
    "duration": 0,
    "start_time": "2024-11-08T09:29:47.565Z"
   },
   {
    "duration": 0,
    "start_time": "2024-11-08T09:29:47.566Z"
   },
   {
    "duration": 0,
    "start_time": "2024-11-08T09:29:47.567Z"
   },
   {
    "duration": 0,
    "start_time": "2024-11-08T09:29:47.568Z"
   },
   {
    "duration": 0,
    "start_time": "2024-11-08T09:29:47.569Z"
   },
   {
    "duration": 0,
    "start_time": "2024-11-08T09:29:47.570Z"
   },
   {
    "duration": 0,
    "start_time": "2024-11-08T09:29:47.571Z"
   },
   {
    "duration": 0,
    "start_time": "2024-11-08T09:29:47.572Z"
   },
   {
    "duration": 0,
    "start_time": "2024-11-08T09:29:47.573Z"
   },
   {
    "duration": 0,
    "start_time": "2024-11-08T09:29:47.574Z"
   },
   {
    "duration": 0,
    "start_time": "2024-11-08T09:29:47.575Z"
   },
   {
    "duration": 0,
    "start_time": "2024-11-08T09:29:47.576Z"
   },
   {
    "duration": 0,
    "start_time": "2024-11-08T09:29:47.577Z"
   },
   {
    "duration": 0,
    "start_time": "2024-11-08T09:29:47.578Z"
   },
   {
    "duration": 0,
    "start_time": "2024-11-08T09:29:47.580Z"
   },
   {
    "duration": 0,
    "start_time": "2024-11-08T09:29:47.580Z"
   },
   {
    "duration": 0,
    "start_time": "2024-11-08T09:29:47.582Z"
   },
   {
    "duration": 0,
    "start_time": "2024-11-08T09:29:47.582Z"
   },
   {
    "duration": 0,
    "start_time": "2024-11-08T09:29:47.584Z"
   },
   {
    "duration": 8,
    "start_time": "2024-11-08T09:30:16.333Z"
   },
   {
    "duration": 3,
    "start_time": "2024-11-08T09:30:16.343Z"
   },
   {
    "duration": 46463,
    "start_time": "2024-11-08T09:30:16.347Z"
   },
   {
    "duration": 765,
    "start_time": "2024-11-08T09:31:02.811Z"
   },
   {
    "duration": 0,
    "start_time": "2024-11-08T09:31:03.581Z"
   },
   {
    "duration": 0,
    "start_time": "2024-11-08T09:31:03.582Z"
   },
   {
    "duration": 0,
    "start_time": "2024-11-08T09:31:03.583Z"
   },
   {
    "duration": 0,
    "start_time": "2024-11-08T09:31:03.584Z"
   },
   {
    "duration": 0,
    "start_time": "2024-11-08T09:31:03.585Z"
   },
   {
    "duration": 0,
    "start_time": "2024-11-08T09:31:03.586Z"
   },
   {
    "duration": 0,
    "start_time": "2024-11-08T09:31:03.588Z"
   },
   {
    "duration": 0,
    "start_time": "2024-11-08T09:31:03.589Z"
   },
   {
    "duration": 0,
    "start_time": "2024-11-08T09:31:03.590Z"
   },
   {
    "duration": 0,
    "start_time": "2024-11-08T09:31:03.591Z"
   },
   {
    "duration": 0,
    "start_time": "2024-11-08T09:31:03.592Z"
   },
   {
    "duration": 0,
    "start_time": "2024-11-08T09:31:03.592Z"
   },
   {
    "duration": 0,
    "start_time": "2024-11-08T09:31:03.593Z"
   },
   {
    "duration": 0,
    "start_time": "2024-11-08T09:31:03.594Z"
   },
   {
    "duration": 0,
    "start_time": "2024-11-08T09:31:03.595Z"
   },
   {
    "duration": 0,
    "start_time": "2024-11-08T09:31:03.597Z"
   },
   {
    "duration": 0,
    "start_time": "2024-11-08T09:31:03.598Z"
   },
   {
    "duration": 0,
    "start_time": "2024-11-08T09:31:03.599Z"
   },
   {
    "duration": 0,
    "start_time": "2024-11-08T09:31:03.600Z"
   },
   {
    "duration": 0,
    "start_time": "2024-11-08T09:31:03.601Z"
   },
   {
    "duration": 0,
    "start_time": "2024-11-08T09:31:03.603Z"
   },
   {
    "duration": 0,
    "start_time": "2024-11-08T09:31:03.605Z"
   },
   {
    "duration": 0,
    "start_time": "2024-11-08T09:31:03.606Z"
   },
   {
    "duration": 0,
    "start_time": "2024-11-08T09:31:03.607Z"
   },
   {
    "duration": 0,
    "start_time": "2024-11-08T09:31:03.651Z"
   },
   {
    "duration": 0,
    "start_time": "2024-11-08T09:31:03.653Z"
   },
   {
    "duration": 0,
    "start_time": "2024-11-08T09:31:03.654Z"
   },
   {
    "duration": 0,
    "start_time": "2024-11-08T09:31:03.655Z"
   },
   {
    "duration": 0,
    "start_time": "2024-11-08T09:31:03.656Z"
   },
   {
    "duration": 0,
    "start_time": "2024-11-08T09:31:03.657Z"
   },
   {
    "duration": 0,
    "start_time": "2024-11-08T09:31:03.658Z"
   },
   {
    "duration": 0,
    "start_time": "2024-11-08T09:31:03.659Z"
   },
   {
    "duration": 0,
    "start_time": "2024-11-08T09:31:03.661Z"
   },
   {
    "duration": 0,
    "start_time": "2024-11-08T09:31:03.662Z"
   },
   {
    "duration": 0,
    "start_time": "2024-11-08T09:31:03.662Z"
   },
   {
    "duration": 0,
    "start_time": "2024-11-08T09:31:03.663Z"
   },
   {
    "duration": 0,
    "start_time": "2024-11-08T09:31:03.664Z"
   },
   {
    "duration": 0,
    "start_time": "2024-11-08T09:31:03.665Z"
   },
   {
    "duration": 0,
    "start_time": "2024-11-08T09:31:03.666Z"
   },
   {
    "duration": 0,
    "start_time": "2024-11-08T09:31:03.668Z"
   },
   {
    "duration": 0,
    "start_time": "2024-11-08T09:31:03.669Z"
   },
   {
    "duration": 0,
    "start_time": "2024-11-08T09:31:03.670Z"
   },
   {
    "duration": 0,
    "start_time": "2024-11-08T09:31:03.671Z"
   },
   {
    "duration": 0,
    "start_time": "2024-11-08T09:31:03.672Z"
   },
   {
    "duration": 0,
    "start_time": "2024-11-08T09:31:03.673Z"
   },
   {
    "duration": 0,
    "start_time": "2024-11-08T09:31:03.674Z"
   },
   {
    "duration": 0,
    "start_time": "2024-11-08T09:31:03.675Z"
   },
   {
    "duration": 0,
    "start_time": "2024-11-08T09:31:03.676Z"
   },
   {
    "duration": 0,
    "start_time": "2024-11-08T09:31:03.677Z"
   },
   {
    "duration": 0,
    "start_time": "2024-11-08T09:31:03.678Z"
   },
   {
    "duration": 0,
    "start_time": "2024-11-08T09:31:03.680Z"
   },
   {
    "duration": 0,
    "start_time": "2024-11-08T09:31:03.681Z"
   },
   {
    "duration": 0,
    "start_time": "2024-11-08T09:31:03.682Z"
   },
   {
    "duration": 0,
    "start_time": "2024-11-08T09:31:03.683Z"
   },
   {
    "duration": 0,
    "start_time": "2024-11-08T09:31:03.684Z"
   },
   {
    "duration": 0,
    "start_time": "2024-11-08T09:31:03.685Z"
   },
   {
    "duration": 0,
    "start_time": "2024-11-08T09:31:03.686Z"
   },
   {
    "duration": 0,
    "start_time": "2024-11-08T09:31:03.687Z"
   },
   {
    "duration": 0,
    "start_time": "2024-11-08T09:31:03.689Z"
   },
   {
    "duration": 0,
    "start_time": "2024-11-08T09:31:03.751Z"
   },
   {
    "duration": 0,
    "start_time": "2024-11-08T09:31:03.753Z"
   },
   {
    "duration": 0,
    "start_time": "2024-11-08T09:31:03.754Z"
   },
   {
    "duration": 0,
    "start_time": "2024-11-08T09:31:03.755Z"
   },
   {
    "duration": 0,
    "start_time": "2024-11-08T09:31:03.756Z"
   },
   {
    "duration": 0,
    "start_time": "2024-11-08T09:31:03.757Z"
   },
   {
    "duration": 0,
    "start_time": "2024-11-08T09:31:03.759Z"
   },
   {
    "duration": 0,
    "start_time": "2024-11-08T09:31:03.759Z"
   },
   {
    "duration": 0,
    "start_time": "2024-11-08T09:31:03.760Z"
   },
   {
    "duration": 1,
    "start_time": "2024-11-08T09:31:03.761Z"
   },
   {
    "duration": 0,
    "start_time": "2024-11-08T09:31:03.763Z"
   },
   {
    "duration": 0,
    "start_time": "2024-11-08T09:31:03.763Z"
   },
   {
    "duration": 0,
    "start_time": "2024-11-08T09:31:03.764Z"
   },
   {
    "duration": 0,
    "start_time": "2024-11-08T09:31:03.765Z"
   },
   {
    "duration": 0,
    "start_time": "2024-11-08T09:31:03.766Z"
   },
   {
    "duration": 0,
    "start_time": "2024-11-08T09:31:03.767Z"
   },
   {
    "duration": 0,
    "start_time": "2024-11-08T09:31:03.768Z"
   },
   {
    "duration": 0,
    "start_time": "2024-11-08T09:31:03.769Z"
   },
   {
    "duration": 0,
    "start_time": "2024-11-08T09:31:03.770Z"
   },
   {
    "duration": 0,
    "start_time": "2024-11-08T09:31:03.771Z"
   },
   {
    "duration": 0,
    "start_time": "2024-11-08T09:31:03.772Z"
   },
   {
    "duration": 0,
    "start_time": "2024-11-08T09:31:03.773Z"
   },
   {
    "duration": 0,
    "start_time": "2024-11-08T09:31:03.774Z"
   },
   {
    "duration": 0,
    "start_time": "2024-11-08T09:31:03.774Z"
   },
   {
    "duration": 0,
    "start_time": "2024-11-08T09:31:03.775Z"
   },
   {
    "duration": 0,
    "start_time": "2024-11-08T09:31:03.776Z"
   },
   {
    "duration": 0,
    "start_time": "2024-11-08T09:31:03.777Z"
   },
   {
    "duration": 0,
    "start_time": "2024-11-08T09:31:03.778Z"
   },
   {
    "duration": 0,
    "start_time": "2024-11-08T09:31:03.779Z"
   },
   {
    "duration": 0,
    "start_time": "2024-11-08T09:31:03.780Z"
   },
   {
    "duration": 0,
    "start_time": "2024-11-08T09:31:03.782Z"
   },
   {
    "duration": 0,
    "start_time": "2024-11-08T09:31:03.783Z"
   },
   {
    "duration": 0,
    "start_time": "2024-11-08T09:31:03.784Z"
   },
   {
    "duration": 0,
    "start_time": "2024-11-08T09:31:03.784Z"
   },
   {
    "duration": 0,
    "start_time": "2024-11-08T09:31:03.785Z"
   },
   {
    "duration": 0,
    "start_time": "2024-11-08T09:31:03.786Z"
   },
   {
    "duration": 0,
    "start_time": "2024-11-08T09:31:03.787Z"
   },
   {
    "duration": 0,
    "start_time": "2024-11-08T09:31:03.853Z"
   },
   {
    "duration": 0,
    "start_time": "2024-11-08T09:31:03.854Z"
   },
   {
    "duration": 0,
    "start_time": "2024-11-08T09:31:03.855Z"
   },
   {
    "duration": 0,
    "start_time": "2024-11-08T09:31:03.855Z"
   },
   {
    "duration": 9,
    "start_time": "2024-11-08T09:34:46.173Z"
   },
   {
    "duration": 73,
    "start_time": "2024-11-08T09:34:46.184Z"
   },
   {
    "duration": 50975,
    "start_time": "2024-11-08T09:34:46.259Z"
   },
   {
    "duration": 2211,
    "start_time": "2024-11-08T09:35:37.237Z"
   },
   {
    "duration": 0,
    "start_time": "2024-11-08T09:35:39.453Z"
   },
   {
    "duration": 0,
    "start_time": "2024-11-08T09:35:39.455Z"
   },
   {
    "duration": 0,
    "start_time": "2024-11-08T09:35:39.456Z"
   },
   {
    "duration": 0,
    "start_time": "2024-11-08T09:35:39.457Z"
   },
   {
    "duration": 0,
    "start_time": "2024-11-08T09:35:39.458Z"
   },
   {
    "duration": 0,
    "start_time": "2024-11-08T09:35:39.459Z"
   },
   {
    "duration": 0,
    "start_time": "2024-11-08T09:35:39.460Z"
   },
   {
    "duration": 0,
    "start_time": "2024-11-08T09:35:39.462Z"
   },
   {
    "duration": 0,
    "start_time": "2024-11-08T09:35:39.463Z"
   },
   {
    "duration": 0,
    "start_time": "2024-11-08T09:35:39.464Z"
   },
   {
    "duration": 0,
    "start_time": "2024-11-08T09:35:39.464Z"
   },
   {
    "duration": 0,
    "start_time": "2024-11-08T09:35:39.465Z"
   },
   {
    "duration": 0,
    "start_time": "2024-11-08T09:35:39.466Z"
   },
   {
    "duration": 0,
    "start_time": "2024-11-08T09:35:39.468Z"
   },
   {
    "duration": 0,
    "start_time": "2024-11-08T09:35:39.469Z"
   },
   {
    "duration": 0,
    "start_time": "2024-11-08T09:35:39.470Z"
   },
   {
    "duration": 0,
    "start_time": "2024-11-08T09:35:39.472Z"
   },
   {
    "duration": 0,
    "start_time": "2024-11-08T09:35:39.473Z"
   },
   {
    "duration": 0,
    "start_time": "2024-11-08T09:35:39.474Z"
   },
   {
    "duration": 0,
    "start_time": "2024-11-08T09:35:39.475Z"
   },
   {
    "duration": 0,
    "start_time": "2024-11-08T09:35:39.476Z"
   },
   {
    "duration": 0,
    "start_time": "2024-11-08T09:35:39.477Z"
   },
   {
    "duration": 0,
    "start_time": "2024-11-08T09:35:39.478Z"
   },
   {
    "duration": 0,
    "start_time": "2024-11-08T09:35:39.480Z"
   },
   {
    "duration": 0,
    "start_time": "2024-11-08T09:35:39.481Z"
   },
   {
    "duration": 0,
    "start_time": "2024-11-08T09:35:39.482Z"
   },
   {
    "duration": 0,
    "start_time": "2024-11-08T09:35:39.484Z"
   },
   {
    "duration": 0,
    "start_time": "2024-11-08T09:35:39.485Z"
   },
   {
    "duration": 0,
    "start_time": "2024-11-08T09:35:39.486Z"
   },
   {
    "duration": 0,
    "start_time": "2024-11-08T09:35:39.487Z"
   },
   {
    "duration": 0,
    "start_time": "2024-11-08T09:35:39.489Z"
   },
   {
    "duration": 0,
    "start_time": "2024-11-08T09:35:39.489Z"
   },
   {
    "duration": 0,
    "start_time": "2024-11-08T09:35:39.491Z"
   },
   {
    "duration": 0,
    "start_time": "2024-11-08T09:35:39.552Z"
   },
   {
    "duration": 0,
    "start_time": "2024-11-08T09:35:39.553Z"
   },
   {
    "duration": 0,
    "start_time": "2024-11-08T09:35:39.554Z"
   },
   {
    "duration": 0,
    "start_time": "2024-11-08T09:35:39.556Z"
   },
   {
    "duration": 1,
    "start_time": "2024-11-08T09:35:39.556Z"
   },
   {
    "duration": 0,
    "start_time": "2024-11-08T09:35:39.557Z"
   },
   {
    "duration": 0,
    "start_time": "2024-11-08T09:35:39.558Z"
   },
   {
    "duration": 0,
    "start_time": "2024-11-08T09:35:39.559Z"
   },
   {
    "duration": 1,
    "start_time": "2024-11-08T09:35:39.560Z"
   },
   {
    "duration": 0,
    "start_time": "2024-11-08T09:35:39.562Z"
   },
   {
    "duration": 0,
    "start_time": "2024-11-08T09:35:39.563Z"
   },
   {
    "duration": 0,
    "start_time": "2024-11-08T09:35:39.564Z"
   },
   {
    "duration": 0,
    "start_time": "2024-11-08T09:35:39.565Z"
   },
   {
    "duration": 0,
    "start_time": "2024-11-08T09:35:39.566Z"
   },
   {
    "duration": 0,
    "start_time": "2024-11-08T09:35:39.567Z"
   },
   {
    "duration": 0,
    "start_time": "2024-11-08T09:35:39.568Z"
   },
   {
    "duration": 0,
    "start_time": "2024-11-08T09:35:39.569Z"
   },
   {
    "duration": 0,
    "start_time": "2024-11-08T09:35:39.570Z"
   },
   {
    "duration": 0,
    "start_time": "2024-11-08T09:35:39.571Z"
   },
   {
    "duration": 0,
    "start_time": "2024-11-08T09:35:39.572Z"
   },
   {
    "duration": 0,
    "start_time": "2024-11-08T09:35:39.573Z"
   },
   {
    "duration": 0,
    "start_time": "2024-11-08T09:35:39.574Z"
   },
   {
    "duration": 0,
    "start_time": "2024-11-08T09:35:39.575Z"
   },
   {
    "duration": 0,
    "start_time": "2024-11-08T09:35:39.576Z"
   },
   {
    "duration": 0,
    "start_time": "2024-11-08T09:35:39.577Z"
   },
   {
    "duration": 0,
    "start_time": "2024-11-08T09:35:39.578Z"
   },
   {
    "duration": 0,
    "start_time": "2024-11-08T09:35:39.579Z"
   },
   {
    "duration": 0,
    "start_time": "2024-11-08T09:35:39.580Z"
   },
   {
    "duration": 0,
    "start_time": "2024-11-08T09:35:39.581Z"
   },
   {
    "duration": 0,
    "start_time": "2024-11-08T09:35:39.583Z"
   },
   {
    "duration": 0,
    "start_time": "2024-11-08T09:35:39.584Z"
   },
   {
    "duration": 0,
    "start_time": "2024-11-08T09:35:39.585Z"
   },
   {
    "duration": 0,
    "start_time": "2024-11-08T09:35:39.586Z"
   },
   {
    "duration": 0,
    "start_time": "2024-11-08T09:35:39.587Z"
   },
   {
    "duration": 0,
    "start_time": "2024-11-08T09:35:39.587Z"
   },
   {
    "duration": 0,
    "start_time": "2024-11-08T09:35:39.588Z"
   },
   {
    "duration": 0,
    "start_time": "2024-11-08T09:35:39.589Z"
   },
   {
    "duration": 0,
    "start_time": "2024-11-08T09:35:39.589Z"
   },
   {
    "duration": 0,
    "start_time": "2024-11-08T09:35:39.590Z"
   },
   {
    "duration": 0,
    "start_time": "2024-11-08T09:35:39.591Z"
   },
   {
    "duration": 0,
    "start_time": "2024-11-08T09:35:39.653Z"
   },
   {
    "duration": 0,
    "start_time": "2024-11-08T09:35:39.654Z"
   },
   {
    "duration": 0,
    "start_time": "2024-11-08T09:35:39.655Z"
   },
   {
    "duration": 0,
    "start_time": "2024-11-08T09:35:39.656Z"
   },
   {
    "duration": 0,
    "start_time": "2024-11-08T09:35:39.657Z"
   },
   {
    "duration": 0,
    "start_time": "2024-11-08T09:35:39.658Z"
   },
   {
    "duration": 0,
    "start_time": "2024-11-08T09:35:39.658Z"
   },
   {
    "duration": 0,
    "start_time": "2024-11-08T09:35:39.659Z"
   },
   {
    "duration": 0,
    "start_time": "2024-11-08T09:35:39.661Z"
   },
   {
    "duration": 0,
    "start_time": "2024-11-08T09:35:39.662Z"
   },
   {
    "duration": 0,
    "start_time": "2024-11-08T09:35:39.663Z"
   },
   {
    "duration": 0,
    "start_time": "2024-11-08T09:35:39.664Z"
   },
   {
    "duration": 0,
    "start_time": "2024-11-08T09:35:39.665Z"
   },
   {
    "duration": 0,
    "start_time": "2024-11-08T09:35:39.666Z"
   },
   {
    "duration": 0,
    "start_time": "2024-11-08T09:35:39.667Z"
   },
   {
    "duration": 0,
    "start_time": "2024-11-08T09:35:39.668Z"
   },
   {
    "duration": 0,
    "start_time": "2024-11-08T09:35:39.669Z"
   },
   {
    "duration": 0,
    "start_time": "2024-11-08T09:35:39.670Z"
   },
   {
    "duration": 0,
    "start_time": "2024-11-08T09:35:39.672Z"
   },
   {
    "duration": 0,
    "start_time": "2024-11-08T09:35:39.673Z"
   },
   {
    "duration": 0,
    "start_time": "2024-11-08T09:35:39.673Z"
   },
   {
    "duration": 0,
    "start_time": "2024-11-08T09:35:39.674Z"
   },
   {
    "duration": 0,
    "start_time": "2024-11-08T09:35:39.675Z"
   },
   {
    "duration": 0,
    "start_time": "2024-11-08T09:35:39.676Z"
   },
   {
    "duration": 0,
    "start_time": "2024-11-08T09:35:39.678Z"
   },
   {
    "duration": 0,
    "start_time": "2024-11-08T09:35:39.679Z"
   },
   {
    "duration": 0,
    "start_time": "2024-11-08T09:35:39.680Z"
   },
   {
    "duration": 9,
    "start_time": "2024-11-08T09:37:00.801Z"
   },
   {
    "duration": 28,
    "start_time": "2024-11-08T09:37:00.812Z"
   },
   {
    "duration": 55514,
    "start_time": "2024-11-08T09:37:00.842Z"
   },
   {
    "duration": 3180,
    "start_time": "2024-11-08T09:37:56.358Z"
   },
   {
    "duration": 3,
    "start_time": "2024-11-08T09:37:59.540Z"
   },
   {
    "duration": 5,
    "start_time": "2024-11-08T09:37:59.545Z"
   },
   {
    "duration": 4,
    "start_time": "2024-11-08T09:37:59.552Z"
   },
   {
    "duration": 9,
    "start_time": "2024-11-08T09:37:59.558Z"
   },
   {
    "duration": 5,
    "start_time": "2024-11-08T09:37:59.569Z"
   },
   {
    "duration": 6,
    "start_time": "2024-11-08T09:37:59.578Z"
   },
   {
    "duration": 67,
    "start_time": "2024-11-08T09:37:59.586Z"
   },
   {
    "duration": 1696,
    "start_time": "2024-11-08T09:37:59.654Z"
   },
   {
    "duration": 26,
    "start_time": "2024-11-08T09:38:01.351Z"
   },
   {
    "duration": 6,
    "start_time": "2024-11-08T09:38:01.379Z"
   },
   {
    "duration": 27,
    "start_time": "2024-11-08T09:38:01.387Z"
   },
   {
    "duration": 25,
    "start_time": "2024-11-08T09:38:01.416Z"
   },
   {
    "duration": 119,
    "start_time": "2024-11-08T09:38:01.443Z"
   },
   {
    "duration": 295,
    "start_time": "2024-11-08T09:38:01.564Z"
   },
   {
    "duration": 325,
    "start_time": "2024-11-08T09:38:01.861Z"
   },
   {
    "duration": 361,
    "start_time": "2024-11-08T09:38:02.188Z"
   },
   {
    "duration": 111,
    "start_time": "2024-11-08T09:38:02.552Z"
   },
   {
    "duration": 1838,
    "start_time": "2024-11-08T09:38:02.665Z"
   },
   {
    "duration": 583,
    "start_time": "2024-11-08T09:38:04.505Z"
   },
   {
    "duration": 579,
    "start_time": "2024-11-08T09:38:05.090Z"
   },
   {
    "duration": 6,
    "start_time": "2024-11-08T09:38:05.672Z"
   },
   {
    "duration": 15,
    "start_time": "2024-11-08T09:38:05.751Z"
   },
   {
    "duration": 2723,
    "start_time": "2024-11-08T09:38:05.768Z"
   },
   {
    "duration": 5,
    "start_time": "2024-11-08T09:38:08.498Z"
   },
   {
    "duration": 38,
    "start_time": "2024-11-08T09:38:08.505Z"
   },
   {
    "duration": 35,
    "start_time": "2024-11-08T09:38:08.545Z"
   },
   {
    "duration": 22,
    "start_time": "2024-11-08T09:38:08.582Z"
   },
   {
    "duration": 48,
    "start_time": "2024-11-08T09:38:08.605Z"
   },
   {
    "duration": 2493,
    "start_time": "2024-11-08T09:38:08.655Z"
   },
   {
    "duration": 9,
    "start_time": "2024-11-08T09:38:11.150Z"
   },
   {
    "duration": 24,
    "start_time": "2024-11-08T09:38:11.161Z"
   },
   {
    "duration": 4,
    "start_time": "2024-11-08T09:38:11.188Z"
   },
   {
    "duration": 58,
    "start_time": "2024-11-08T09:38:11.194Z"
   },
   {
    "duration": 5,
    "start_time": "2024-11-08T09:38:11.254Z"
   },
   {
    "duration": 21,
    "start_time": "2024-11-08T09:38:11.261Z"
   },
   {
    "duration": 2630,
    "start_time": "2024-11-08T09:38:11.284Z"
   },
   {
    "duration": 38,
    "start_time": "2024-11-08T09:38:13.917Z"
   },
   {
    "duration": 30,
    "start_time": "2024-11-08T09:38:13.957Z"
   },
   {
    "duration": 63,
    "start_time": "2024-11-08T09:38:13.990Z"
   },
   {
    "duration": 5,
    "start_time": "2024-11-08T09:38:14.055Z"
   },
   {
    "duration": 23,
    "start_time": "2024-11-08T09:38:14.062Z"
   },
   {
    "duration": 2475,
    "start_time": "2024-11-08T09:38:14.087Z"
   },
   {
    "duration": 18,
    "start_time": "2024-11-08T09:38:16.563Z"
   },
   {
    "duration": 28,
    "start_time": "2024-11-08T09:38:16.583Z"
   },
   {
    "duration": 43,
    "start_time": "2024-11-08T09:38:16.613Z"
   },
   {
    "duration": 269,
    "start_time": "2024-11-08T09:38:16.658Z"
   },
   {
    "duration": 4,
    "start_time": "2024-11-08T09:38:16.929Z"
   },
   {
    "duration": 36,
    "start_time": "2024-11-08T09:38:16.934Z"
   },
   {
    "duration": 2531,
    "start_time": "2024-11-08T09:38:16.972Z"
   },
   {
    "duration": 4,
    "start_time": "2024-11-08T09:38:19.504Z"
   },
   {
    "duration": 22,
    "start_time": "2024-11-08T09:38:19.510Z"
   },
   {
    "duration": 23,
    "start_time": "2024-11-08T09:38:19.534Z"
   },
   {
    "duration": 12,
    "start_time": "2024-11-08T09:38:19.558Z"
   },
   {
    "duration": 40,
    "start_time": "2024-11-08T09:38:19.572Z"
   },
   {
    "duration": 52,
    "start_time": "2024-11-08T09:38:19.614Z"
   },
   {
    "duration": 56,
    "start_time": "2024-11-08T09:38:19.668Z"
   },
   {
    "duration": 26,
    "start_time": "2024-11-08T09:38:19.726Z"
   },
   {
    "duration": 40,
    "start_time": "2024-11-08T09:38:19.754Z"
   },
   {
    "duration": 292,
    "start_time": "2024-11-08T09:38:19.796Z"
   },
   {
    "duration": 18,
    "start_time": "2024-11-08T09:38:20.091Z"
   },
   {
    "duration": 44,
    "start_time": "2024-11-08T09:38:20.112Z"
   },
   {
    "duration": 5,
    "start_time": "2024-11-08T09:38:20.158Z"
   },
   {
    "duration": 19,
    "start_time": "2024-11-08T09:38:20.165Z"
   },
   {
    "duration": 8,
    "start_time": "2024-11-08T09:38:20.186Z"
   },
   {
    "duration": 29,
    "start_time": "2024-11-08T09:38:20.196Z"
   },
   {
    "duration": 76,
    "start_time": "2024-11-08T09:38:20.226Z"
   },
   {
    "duration": 24,
    "start_time": "2024-11-08T09:38:20.304Z"
   },
   {
    "duration": 36,
    "start_time": "2024-11-08T09:38:20.330Z"
   },
   {
    "duration": 3,
    "start_time": "2024-11-08T09:38:20.368Z"
   },
   {
    "duration": 9,
    "start_time": "2024-11-08T09:38:20.372Z"
   },
   {
    "duration": 10,
    "start_time": "2024-11-08T09:38:20.383Z"
   },
   {
    "duration": 9,
    "start_time": "2024-11-08T09:38:20.395Z"
   },
   {
    "duration": 40,
    "start_time": "2024-11-08T09:38:20.406Z"
   },
   {
    "duration": 5,
    "start_time": "2024-11-08T09:38:20.448Z"
   },
   {
    "duration": 15,
    "start_time": "2024-11-08T09:38:20.455Z"
   },
   {
    "duration": 23,
    "start_time": "2024-11-08T09:38:20.472Z"
   },
   {
    "duration": 7,
    "start_time": "2024-11-08T09:38:20.497Z"
   },
   {
    "duration": 43,
    "start_time": "2024-11-08T09:38:20.510Z"
   },
   {
    "duration": 9814,
    "start_time": "2024-11-08T09:38:20.555Z"
   },
   {
    "duration": 3084,
    "start_time": "2024-11-08T09:38:30.371Z"
   },
   {
    "duration": 118,
    "start_time": "2024-11-08T09:38:33.457Z"
   },
   {
    "duration": 103,
    "start_time": "2024-11-08T09:38:33.577Z"
   },
   {
    "duration": 5,
    "start_time": "2024-11-08T09:38:33.682Z"
   },
   {
    "duration": 45,
    "start_time": "2024-11-08T09:38:33.688Z"
   },
   {
    "duration": 17,
    "start_time": "2024-11-08T09:38:33.735Z"
   },
   {
    "duration": 20,
    "start_time": "2024-11-08T09:38:33.753Z"
   },
   {
    "duration": 37,
    "start_time": "2024-11-08T09:38:33.775Z"
   },
   {
    "duration": 20,
    "start_time": "2024-11-08T09:38:33.814Z"
   },
   {
    "duration": 11,
    "start_time": "2024-11-08T09:38:33.836Z"
   },
   {
    "duration": 9,
    "start_time": "2024-11-08T11:10:39.980Z"
   },
   {
    "duration": 12,
    "start_time": "2024-11-08T11:10:39.990Z"
   },
   {
    "duration": 90300,
    "start_time": "2024-11-08T11:10:40.004Z"
   },
   {
    "duration": 5975,
    "start_time": "2024-11-08T11:12:10.307Z"
   },
   {
    "duration": 3,
    "start_time": "2024-11-08T11:12:16.284Z"
   },
   {
    "duration": 16,
    "start_time": "2024-11-08T11:12:16.289Z"
   },
   {
    "duration": 6,
    "start_time": "2024-11-08T11:12:16.307Z"
   },
   {
    "duration": 13,
    "start_time": "2024-11-08T11:12:16.314Z"
   },
   {
    "duration": 9,
    "start_time": "2024-11-08T11:12:16.328Z"
   },
   {
    "duration": 11,
    "start_time": "2024-11-08T11:12:16.341Z"
   },
   {
    "duration": 7,
    "start_time": "2024-11-08T11:12:16.354Z"
   },
   {
    "duration": 1588,
    "start_time": "2024-11-08T11:12:16.363Z"
   },
   {
    "duration": 21,
    "start_time": "2024-11-08T11:12:17.952Z"
   },
   {
    "duration": 32,
    "start_time": "2024-11-08T11:12:17.974Z"
   },
   {
    "duration": 24,
    "start_time": "2024-11-08T11:12:18.007Z"
   },
   {
    "duration": 8,
    "start_time": "2024-11-08T11:12:18.033Z"
   },
   {
    "duration": 111,
    "start_time": "2024-11-08T11:12:18.042Z"
   },
   {
    "duration": 283,
    "start_time": "2024-11-08T11:12:18.154Z"
   },
   {
    "duration": 303,
    "start_time": "2024-11-08T11:12:18.438Z"
   },
   {
    "duration": 323,
    "start_time": "2024-11-08T11:12:18.743Z"
   },
   {
    "duration": 101,
    "start_time": "2024-11-08T11:12:19.068Z"
   },
   {
    "duration": 1738,
    "start_time": "2024-11-08T11:12:19.170Z"
   },
   {
    "duration": 591,
    "start_time": "2024-11-08T11:12:20.911Z"
   },
   {
    "duration": 577,
    "start_time": "2024-11-08T11:12:21.504Z"
   },
   {
    "duration": 4,
    "start_time": "2024-11-08T11:12:22.083Z"
   },
   {
    "duration": 16,
    "start_time": "2024-11-08T11:12:22.088Z"
   },
   {
    "duration": 2604,
    "start_time": "2024-11-08T11:12:22.106Z"
   },
   {
    "duration": 5,
    "start_time": "2024-11-08T11:12:24.714Z"
   },
   {
    "duration": 33,
    "start_time": "2024-11-08T11:12:24.720Z"
   },
   {
    "duration": 18,
    "start_time": "2024-11-08T11:12:24.754Z"
   },
   {
    "duration": 28,
    "start_time": "2024-11-08T11:12:24.774Z"
   },
   {
    "duration": 34,
    "start_time": "2024-11-08T11:12:24.804Z"
   },
   {
    "duration": 2532,
    "start_time": "2024-11-08T11:12:24.840Z"
   },
   {
    "duration": 7,
    "start_time": "2024-11-08T11:12:27.374Z"
   },
   {
    "duration": 22,
    "start_time": "2024-11-08T11:12:27.383Z"
   },
   {
    "duration": 5,
    "start_time": "2024-11-08T11:12:27.406Z"
   },
   {
    "duration": 106,
    "start_time": "2024-11-08T11:12:27.412Z"
   },
   {
    "duration": 4,
    "start_time": "2024-11-08T11:12:27.520Z"
   },
   {
    "duration": 13,
    "start_time": "2024-11-08T11:12:27.525Z"
   },
   {
    "duration": 2661,
    "start_time": "2024-11-08T11:12:27.541Z"
   },
   {
    "duration": 18,
    "start_time": "2024-11-08T11:12:30.204Z"
   },
   {
    "duration": 39,
    "start_time": "2024-11-08T11:12:30.225Z"
   },
   {
    "duration": 45,
    "start_time": "2024-11-08T11:12:30.266Z"
   },
   {
    "duration": 27,
    "start_time": "2024-11-08T11:12:30.313Z"
   },
   {
    "duration": 59,
    "start_time": "2024-11-08T11:12:30.342Z"
   },
   {
    "duration": 2522,
    "start_time": "2024-11-08T11:12:30.402Z"
   },
   {
    "duration": 18,
    "start_time": "2024-11-08T11:12:32.926Z"
   },
   {
    "duration": 26,
    "start_time": "2024-11-08T11:12:32.953Z"
   },
   {
    "duration": 34,
    "start_time": "2024-11-08T11:12:32.981Z"
   },
   {
    "duration": 322,
    "start_time": "2024-11-08T11:12:33.016Z"
   },
   {
    "duration": 13,
    "start_time": "2024-11-08T11:12:33.340Z"
   },
   {
    "duration": 33,
    "start_time": "2024-11-08T11:12:33.356Z"
   },
   {
    "duration": 2519,
    "start_time": "2024-11-08T11:12:33.390Z"
   },
   {
    "duration": 4,
    "start_time": "2024-11-08T11:12:35.911Z"
   },
   {
    "duration": 3063,
    "start_time": "2024-11-08T11:12:35.917Z"
   },
   {
    "duration": 5,
    "start_time": "2024-11-08T11:12:38.982Z"
   },
   {
    "duration": 7,
    "start_time": "2024-11-08T11:12:38.989Z"
   },
   {
    "duration": 39,
    "start_time": "2024-11-08T11:12:38.998Z"
   },
   {
    "duration": 33,
    "start_time": "2024-11-08T11:12:39.039Z"
   },
   {
    "duration": 23,
    "start_time": "2024-11-08T11:12:39.073Z"
   },
   {
    "duration": 43,
    "start_time": "2024-11-08T11:12:39.098Z"
   },
   {
    "duration": 30,
    "start_time": "2024-11-08T11:12:39.143Z"
   },
   {
    "duration": 245,
    "start_time": "2024-11-08T11:12:39.175Z"
   },
   {
    "duration": 34,
    "start_time": "2024-11-08T11:12:39.422Z"
   },
   {
    "duration": 47,
    "start_time": "2024-11-08T11:12:39.457Z"
   },
   {
    "duration": 11,
    "start_time": "2024-11-08T11:12:39.506Z"
   },
   {
    "duration": 19,
    "start_time": "2024-11-08T11:12:39.519Z"
   },
   {
    "duration": 6,
    "start_time": "2024-11-08T11:12:39.540Z"
   },
   {
    "duration": 7,
    "start_time": "2024-11-08T11:12:39.547Z"
   },
   {
    "duration": 15,
    "start_time": "2024-11-08T11:12:39.555Z"
   },
   {
    "duration": 6,
    "start_time": "2024-11-08T11:12:39.572Z"
   },
   {
    "duration": 26,
    "start_time": "2024-11-08T11:12:39.580Z"
   },
   {
    "duration": 3,
    "start_time": "2024-11-08T11:12:39.608Z"
   },
   {
    "duration": 6,
    "start_time": "2024-11-08T11:12:39.612Z"
   },
   {
    "duration": 36,
    "start_time": "2024-11-08T11:12:39.620Z"
   },
   {
    "duration": 5,
    "start_time": "2024-11-08T11:12:39.658Z"
   },
   {
    "duration": 35,
    "start_time": "2024-11-08T11:12:39.664Z"
   },
   {
    "duration": 3,
    "start_time": "2024-11-08T11:12:39.701Z"
   },
   {
    "duration": 17,
    "start_time": "2024-11-08T11:12:39.705Z"
   },
   {
    "duration": 19,
    "start_time": "2024-11-08T11:12:39.723Z"
   },
   {
    "duration": 4,
    "start_time": "2024-11-08T11:12:39.752Z"
   },
   {
    "duration": 31,
    "start_time": "2024-11-08T11:12:39.762Z"
   },
   {
    "duration": 9934,
    "start_time": "2024-11-08T11:12:39.794Z"
   },
   {
    "duration": 3124,
    "start_time": "2024-11-08T11:12:49.730Z"
   },
   {
    "duration": 116,
    "start_time": "2024-11-08T11:12:52.856Z"
   },
   {
    "duration": 109,
    "start_time": "2024-11-08T11:12:52.974Z"
   },
   {
    "duration": 4,
    "start_time": "2024-11-08T11:12:53.085Z"
   },
   {
    "duration": 8,
    "start_time": "2024-11-08T11:12:53.091Z"
   },
   {
    "duration": 18,
    "start_time": "2024-11-08T11:12:53.101Z"
   },
   {
    "duration": 7,
    "start_time": "2024-11-08T11:12:53.121Z"
   },
   {
    "duration": 7,
    "start_time": "2024-11-08T11:12:53.129Z"
   },
   {
    "duration": 17,
    "start_time": "2024-11-08T11:12:53.137Z"
   },
   {
    "duration": 6,
    "start_time": "2024-11-08T11:12:53.156Z"
   },
   {
    "duration": 911860,
    "start_time": "2024-11-08T11:12:53.163Z"
   },
   {
    "duration": 1978843,
    "start_time": "2024-11-08T11:28:05.024Z"
   },
   {
    "duration": 0,
    "start_time": "2024-11-08T12:01:03.870Z"
   },
   {
    "duration": 0,
    "start_time": "2024-11-08T12:01:03.871Z"
   },
   {
    "duration": 0,
    "start_time": "2024-11-08T12:01:03.873Z"
   },
   {
    "duration": 0,
    "start_time": "2024-11-08T12:01:03.875Z"
   },
   {
    "duration": 0,
    "start_time": "2024-11-08T12:01:03.876Z"
   },
   {
    "duration": 0,
    "start_time": "2024-11-08T12:01:03.877Z"
   },
   {
    "duration": 0,
    "start_time": "2024-11-08T12:01:03.879Z"
   },
   {
    "duration": 0,
    "start_time": "2024-11-08T12:01:03.880Z"
   },
   {
    "duration": 0,
    "start_time": "2024-11-08T12:01:03.882Z"
   },
   {
    "duration": 9,
    "start_time": "2024-11-10T16:43:58.805Z"
   },
   {
    "duration": 97469,
    "start_time": "2024-11-10T16:43:58.816Z"
   },
   {
    "duration": 3503,
    "start_time": "2024-11-10T16:45:36.287Z"
   },
   {
    "duration": 4,
    "start_time": "2024-11-10T16:45:39.792Z"
   },
   {
    "duration": 20,
    "start_time": "2024-11-10T16:45:39.797Z"
   },
   {
    "duration": 7,
    "start_time": "2024-11-10T16:45:39.820Z"
   },
   {
    "duration": 6,
    "start_time": "2024-11-10T16:45:39.828Z"
   },
   {
    "duration": 11,
    "start_time": "2024-11-10T16:45:39.836Z"
   },
   {
    "duration": 10,
    "start_time": "2024-11-10T16:45:39.855Z"
   },
   {
    "duration": 12,
    "start_time": "2024-11-10T16:45:39.867Z"
   },
   {
    "duration": 6,
    "start_time": "2024-11-10T16:45:39.881Z"
   },
   {
    "duration": 3535,
    "start_time": "2024-11-10T16:45:39.889Z"
   },
   {
    "duration": 35,
    "start_time": "2024-11-10T16:45:43.425Z"
   },
   {
    "duration": 6,
    "start_time": "2024-11-10T16:45:43.462Z"
   },
   {
    "duration": 5,
    "start_time": "2024-11-10T16:45:43.470Z"
   },
   {
    "duration": 15,
    "start_time": "2024-11-10T16:45:43.476Z"
   },
   {
    "duration": 170,
    "start_time": "2024-11-10T16:45:43.492Z"
   },
   {
    "duration": 340,
    "start_time": "2024-11-10T16:45:43.671Z"
   },
   {
    "duration": 352,
    "start_time": "2024-11-10T16:45:44.013Z"
   },
   {
    "duration": 345,
    "start_time": "2024-11-10T16:45:44.367Z"
   },
   {
    "duration": 137,
    "start_time": "2024-11-10T16:45:44.714Z"
   },
   {
    "duration": 2034,
    "start_time": "2024-11-10T16:45:44.863Z"
   },
   {
    "duration": 687,
    "start_time": "2024-11-10T16:45:46.902Z"
   },
   {
    "duration": 677,
    "start_time": "2024-11-10T16:45:47.595Z"
   },
   {
    "duration": 4,
    "start_time": "2024-11-10T16:45:48.275Z"
   },
   {
    "duration": 5,
    "start_time": "2024-11-10T16:45:48.281Z"
   },
   {
    "duration": 2866,
    "start_time": "2024-11-10T16:45:48.287Z"
   },
   {
    "duration": 7,
    "start_time": "2024-11-10T16:45:51.161Z"
   },
   {
    "duration": 56,
    "start_time": "2024-11-10T16:45:51.172Z"
   },
   {
    "duration": 4,
    "start_time": "2024-11-10T16:45:51.230Z"
   },
   {
    "duration": 23,
    "start_time": "2024-11-10T16:45:51.242Z"
   },
   {
    "duration": 20,
    "start_time": "2024-11-10T16:45:51.267Z"
   },
   {
    "duration": 27,
    "start_time": "2024-11-10T16:45:51.289Z"
   },
   {
    "duration": 57,
    "start_time": "2024-11-10T16:45:51.317Z"
   },
   {
    "duration": 2951,
    "start_time": "2024-11-10T16:45:51.376Z"
   },
   {
    "duration": 6,
    "start_time": "2024-11-10T16:45:54.329Z"
   },
   {
    "duration": 32,
    "start_time": "2024-11-10T16:45:54.346Z"
   },
   {
    "duration": 31,
    "start_time": "2024-11-10T16:45:54.381Z"
   },
   {
    "duration": 2815,
    "start_time": "2024-11-10T16:45:54.414Z"
   },
   {
    "duration": 34,
    "start_time": "2024-11-10T16:45:57.231Z"
   },
   {
    "duration": 17,
    "start_time": "2024-11-10T16:45:57.268Z"
   },
   {
    "duration": 28,
    "start_time": "2024-11-10T16:45:57.286Z"
   },
   {
    "duration": 5,
    "start_time": "2024-11-10T16:45:57.315Z"
   },
   {
    "duration": 45,
    "start_time": "2024-11-10T16:45:57.322Z"
   },
   {
    "duration": 2761,
    "start_time": "2024-11-10T16:45:57.369Z"
   },
   {
    "duration": 18,
    "start_time": "2024-11-10T16:46:00.132Z"
   },
   {
    "duration": 82,
    "start_time": "2024-11-10T16:46:00.154Z"
   },
   {
    "duration": 30,
    "start_time": "2024-11-10T16:46:00.238Z"
   },
   {
    "duration": 56,
    "start_time": "2024-11-10T16:46:00.270Z"
   },
   {
    "duration": 44,
    "start_time": "2024-11-10T16:46:00.328Z"
   },
   {
    "duration": 335,
    "start_time": "2024-11-10T16:46:00.374Z"
   },
   {
    "duration": 4,
    "start_time": "2024-11-10T16:46:00.710Z"
   },
   {
    "duration": 38,
    "start_time": "2024-11-10T16:46:00.716Z"
   },
   {
    "duration": 2633,
    "start_time": "2024-11-10T16:46:00.758Z"
   },
   {
    "duration": 4,
    "start_time": "2024-11-10T16:46:03.392Z"
   },
   {
    "duration": 24,
    "start_time": "2024-11-10T16:46:03.398Z"
   },
   {
    "duration": 7,
    "start_time": "2024-11-10T16:46:03.424Z"
   },
   {
    "duration": 12,
    "start_time": "2024-11-10T16:46:03.443Z"
   },
   {
    "duration": 36,
    "start_time": "2024-11-10T16:46:03.457Z"
   },
   {
    "duration": 99,
    "start_time": "2024-11-10T16:46:03.495Z"
   },
   {
    "duration": 1927,
    "start_time": "2024-11-10T16:46:03.596Z"
   },
   {
    "duration": 2157,
    "start_time": "2024-11-10T16:46:05.526Z"
   },
   {
    "duration": 29,
    "start_time": "2024-11-10T16:46:07.684Z"
   },
   {
    "duration": 299,
    "start_time": "2024-11-10T16:46:07.714Z"
   },
   {
    "duration": 15,
    "start_time": "2024-11-10T16:46:08.016Z"
   },
   {
    "duration": 51,
    "start_time": "2024-11-10T16:46:08.042Z"
   },
   {
    "duration": 7,
    "start_time": "2024-11-10T16:46:08.095Z"
   },
   {
    "duration": 16,
    "start_time": "2024-11-10T16:46:08.103Z"
   },
   {
    "duration": 6,
    "start_time": "2024-11-10T16:46:08.127Z"
   },
   {
    "duration": 62,
    "start_time": "2024-11-10T16:46:08.134Z"
   },
   {
    "duration": 17,
    "start_time": "2024-11-10T16:46:08.198Z"
   },
   {
    "duration": 6,
    "start_time": "2024-11-10T16:46:08.217Z"
   },
   {
    "duration": 16,
    "start_time": "2024-11-10T16:46:08.224Z"
   },
   {
    "duration": 16,
    "start_time": "2024-11-10T16:46:08.241Z"
   },
   {
    "duration": 12,
    "start_time": "2024-11-10T16:46:08.259Z"
   },
   {
    "duration": 5,
    "start_time": "2024-11-10T16:46:08.274Z"
   },
   {
    "duration": 24,
    "start_time": "2024-11-10T16:46:08.280Z"
   },
   {
    "duration": 3,
    "start_time": "2024-11-10T16:46:08.306Z"
   },
   {
    "duration": 55,
    "start_time": "2024-11-10T16:46:08.311Z"
   },
   {
    "duration": 10267,
    "start_time": "2024-11-10T16:46:08.368Z"
   },
   {
    "duration": 2426,
    "start_time": "2024-11-10T16:46:18.637Z"
   },
   {
    "duration": 6,
    "start_time": "2024-11-10T16:46:21.143Z"
   },
   {
    "duration": 31,
    "start_time": "2024-11-10T16:46:21.156Z"
   },
   {
    "duration": 28,
    "start_time": "2024-11-10T16:46:21.189Z"
   },
   {
    "duration": 97,
    "start_time": "2024-11-10T16:46:21.219Z"
   },
   {
    "duration": 4,
    "start_time": "2024-11-10T16:46:21.318Z"
   },
   {
    "duration": 5,
    "start_time": "2024-11-10T16:46:21.323Z"
   },
   {
    "duration": 18,
    "start_time": "2024-11-10T16:46:21.329Z"
   },
   {
    "duration": 22,
    "start_time": "2024-11-10T16:46:21.348Z"
   },
   {
    "duration": 11,
    "start_time": "2024-11-10T16:46:21.371Z"
   },
   {
    "duration": 11,
    "start_time": "2024-11-10T16:46:21.384Z"
   },
   {
    "duration": 8,
    "start_time": "2024-11-10T16:46:21.396Z"
   },
   {
    "duration": 5,
    "start_time": "2024-11-10T16:46:21.406Z"
   },
   {
    "duration": 7,
    "start_time": "2024-11-10T16:46:21.412Z"
   },
   {
    "duration": 10,
    "start_time": "2024-11-10T16:58:47.699Z"
   },
   {
    "duration": 57478,
    "start_time": "2024-11-10T16:58:47.710Z"
   },
   {
    "duration": 3126,
    "start_time": "2024-11-10T16:59:45.190Z"
   },
   {
    "duration": 3,
    "start_time": "2024-11-10T16:59:48.317Z"
   },
   {
    "duration": 11,
    "start_time": "2024-11-10T16:59:48.323Z"
   },
   {
    "duration": 4,
    "start_time": "2024-11-10T16:59:48.336Z"
   },
   {
    "duration": 19,
    "start_time": "2024-11-10T16:59:48.341Z"
   },
   {
    "duration": 4,
    "start_time": "2024-11-10T16:59:48.365Z"
   },
   {
    "duration": 8,
    "start_time": "2024-11-10T16:59:48.371Z"
   },
   {
    "duration": 10,
    "start_time": "2024-11-10T16:59:48.380Z"
   },
   {
    "duration": 7,
    "start_time": "2024-11-10T16:59:48.391Z"
   },
   {
    "duration": 1437,
    "start_time": "2024-11-10T16:59:48.400Z"
   },
   {
    "duration": 30,
    "start_time": "2024-11-10T16:59:49.839Z"
   },
   {
    "duration": 7,
    "start_time": "2024-11-10T16:59:49.874Z"
   },
   {
    "duration": 9,
    "start_time": "2024-11-10T16:59:49.882Z"
   },
   {
    "duration": 15,
    "start_time": "2024-11-10T16:59:49.892Z"
   },
   {
    "duration": 143,
    "start_time": "2024-11-10T16:59:49.909Z"
   },
   {
    "duration": 317,
    "start_time": "2024-11-10T16:59:50.053Z"
   },
   {
    "duration": 325,
    "start_time": "2024-11-10T16:59:50.372Z"
   },
   {
    "duration": 397,
    "start_time": "2024-11-10T16:59:50.698Z"
   },
   {
    "duration": 109,
    "start_time": "2024-11-10T16:59:51.097Z"
   },
   {
    "duration": 1892,
    "start_time": "2024-11-10T16:59:51.208Z"
   },
   {
    "duration": 615,
    "start_time": "2024-11-10T16:59:53.102Z"
   },
   {
    "duration": 655,
    "start_time": "2024-11-10T16:59:53.719Z"
   },
   {
    "duration": 8,
    "start_time": "2024-11-10T16:59:54.376Z"
   },
   {
    "duration": 6,
    "start_time": "2024-11-10T16:59:54.386Z"
   },
   {
    "duration": 2901,
    "start_time": "2024-11-10T16:59:54.395Z"
   },
   {
    "duration": 5,
    "start_time": "2024-11-10T16:59:57.298Z"
   },
   {
    "duration": 62,
    "start_time": "2024-11-10T16:59:57.306Z"
   },
   {
    "duration": 5,
    "start_time": "2024-11-10T16:59:57.370Z"
   },
   {
    "duration": 18,
    "start_time": "2024-11-10T16:59:57.377Z"
   },
   {
    "duration": 17,
    "start_time": "2024-11-10T16:59:57.398Z"
   },
   {
    "duration": 28,
    "start_time": "2024-11-10T16:59:57.444Z"
   },
   {
    "duration": 28,
    "start_time": "2024-11-10T16:59:57.475Z"
   },
   {
    "duration": 2776,
    "start_time": "2024-11-10T16:59:57.505Z"
   },
   {
    "duration": 6,
    "start_time": "2024-11-10T17:00:00.283Z"
   },
   {
    "duration": 73,
    "start_time": "2024-11-10T17:00:00.291Z"
   },
   {
    "duration": 30,
    "start_time": "2024-11-10T17:00:00.367Z"
   },
   {
    "duration": 3259,
    "start_time": "2024-11-10T17:00:00.398Z"
   },
   {
    "duration": 32,
    "start_time": "2024-11-10T17:00:03.666Z"
   },
   {
    "duration": 18,
    "start_time": "2024-11-10T17:00:03.705Z"
   },
   {
    "duration": 61,
    "start_time": "2024-11-10T17:00:03.726Z"
   },
   {
    "duration": 7,
    "start_time": "2024-11-10T17:00:03.788Z"
   },
   {
    "duration": 57,
    "start_time": "2024-11-10T17:00:03.797Z"
   },
   {
    "duration": 2679,
    "start_time": "2024-11-10T17:00:03.856Z"
   },
   {
    "duration": 18,
    "start_time": "2024-11-10T17:00:06.537Z"
   },
   {
    "duration": 34,
    "start_time": "2024-11-10T17:00:06.557Z"
   },
   {
    "duration": 16,
    "start_time": "2024-11-10T17:00:06.593Z"
   },
   {
    "duration": 36,
    "start_time": "2024-11-10T17:00:06.611Z"
   },
   {
    "duration": 35,
    "start_time": "2024-11-10T17:00:06.655Z"
   },
   {
    "duration": 338,
    "start_time": "2024-11-10T17:00:06.693Z"
   },
   {
    "duration": 10,
    "start_time": "2024-11-10T17:00:07.042Z"
   },
   {
    "duration": 157,
    "start_time": "2024-11-10T17:00:07.062Z"
   },
   {
    "duration": 2567,
    "start_time": "2024-11-10T17:00:07.221Z"
   },
   {
    "duration": 5,
    "start_time": "2024-11-10T17:00:09.790Z"
   },
   {
    "duration": 30,
    "start_time": "2024-11-10T17:00:09.796Z"
   },
   {
    "duration": 22,
    "start_time": "2024-11-10T17:00:09.827Z"
   },
   {
    "duration": 11,
    "start_time": "2024-11-10T17:00:09.851Z"
   },
   {
    "duration": 32,
    "start_time": "2024-11-10T17:00:09.864Z"
   },
   {
    "duration": 34,
    "start_time": "2024-11-10T17:00:09.898Z"
   },
   {
    "duration": 42,
    "start_time": "2024-11-10T17:00:09.935Z"
   },
   {
    "duration": 84,
    "start_time": "2024-11-10T17:00:09.981Z"
   },
   {
    "duration": 93,
    "start_time": "2024-11-10T17:00:10.070Z"
   },
   {
    "duration": 346,
    "start_time": "2024-11-10T17:00:10.165Z"
   },
   {
    "duration": 37,
    "start_time": "2024-11-10T17:00:10.514Z"
   },
   {
    "duration": 54,
    "start_time": "2024-11-10T17:00:10.553Z"
   },
   {
    "duration": 5,
    "start_time": "2024-11-10T17:00:10.610Z"
   },
   {
    "duration": 45,
    "start_time": "2024-11-10T17:00:10.616Z"
   },
   {
    "duration": 13,
    "start_time": "2024-11-10T17:00:10.663Z"
   },
   {
    "duration": 4,
    "start_time": "2024-11-10T17:00:10.678Z"
   },
   {
    "duration": 23,
    "start_time": "2024-11-10T17:00:10.684Z"
   },
   {
    "duration": 7,
    "start_time": "2024-11-10T17:00:10.709Z"
   },
   {
    "duration": 6,
    "start_time": "2024-11-10T17:00:10.717Z"
   },
   {
    "duration": 38,
    "start_time": "2024-11-10T17:00:10.725Z"
   },
   {
    "duration": 17,
    "start_time": "2024-11-10T17:00:10.766Z"
   },
   {
    "duration": 6,
    "start_time": "2024-11-10T17:00:10.791Z"
   },
   {
    "duration": 17,
    "start_time": "2024-11-10T17:00:10.800Z"
   },
   {
    "duration": 4,
    "start_time": "2024-11-10T17:00:10.818Z"
   },
   {
    "duration": 62,
    "start_time": "2024-11-10T17:00:10.824Z"
   },
   {
    "duration": 10396,
    "start_time": "2024-11-10T17:00:10.887Z"
   },
   {
    "duration": 2558,
    "start_time": "2024-11-10T17:00:21.286Z"
   },
   {
    "duration": 5,
    "start_time": "2024-11-10T17:00:23.847Z"
   },
   {
    "duration": 29,
    "start_time": "2024-11-10T17:00:23.856Z"
   },
   {
    "duration": 27,
    "start_time": "2024-11-10T17:00:23.887Z"
   },
   {
    "duration": 102,
    "start_time": "2024-11-10T17:00:23.915Z"
   },
   {
    "duration": 4,
    "start_time": "2024-11-10T17:00:24.018Z"
   },
   {
    "duration": 46,
    "start_time": "2024-11-10T17:00:24.024Z"
   },
   {
    "duration": 46,
    "start_time": "2024-11-10T17:00:24.072Z"
   },
   {
    "duration": 15,
    "start_time": "2024-11-10T17:00:24.119Z"
   },
   {
    "duration": 18,
    "start_time": "2024-11-10T17:00:24.135Z"
   },
   {
    "duration": 42,
    "start_time": "2024-11-10T17:00:24.158Z"
   },
   {
    "duration": 55,
    "start_time": "2024-11-10T17:00:24.202Z"
   },
   {
    "duration": 5,
    "start_time": "2024-11-10T17:00:24.260Z"
   },
   {
    "duration": 10,
    "start_time": "2024-11-10T17:00:24.267Z"
   },
   {
    "duration": 2024403,
    "start_time": "2024-11-10T17:00:24.279Z"
   },
   {
    "duration": 886266,
    "start_time": "2024-11-10T17:34:08.685Z"
   }
  ],
  "kernelspec": {
   "display_name": "ml",
   "language": "python",
   "name": "python3"
  },
  "language_info": {
   "codemirror_mode": {
    "name": "ipython",
    "version": 3
   },
   "file_extension": ".py",
   "mimetype": "text/x-python",
   "name": "python",
   "nbconvert_exporter": "python",
   "pygments_lexer": "ipython3",
   "version": "3.11.9"
  },
  "toc": {
   "base_numbering": 1,
   "nav_menu": {},
   "number_sections": true,
   "sideBar": true,
   "skip_h1_title": true,
   "title_cell": "Table of Contents",
   "title_sidebar": "Contents",
   "toc_cell": false,
   "toc_position": {},
   "toc_section_display": true,
   "toc_window_display": false
  }
 },
 "nbformat": 4,
 "nbformat_minor": 2
}
