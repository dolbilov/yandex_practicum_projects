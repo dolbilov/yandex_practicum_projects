{
 "cells": [
  {
   "cell_type": "markdown",
   "metadata": {},
   "source": [
    "# Customer churn 📱"
   ]
  },
  {
   "cell_type": "markdown",
   "metadata": {},
   "source": [
    "**Описание проекта**\\\n",
    "Оператор связи «ТелеДом» хочет бороться с оттоком клиентов. Для этого его сотрудники начнут предлагать промокоды и специальные условия всем, кто планирует отказаться от услуг связи. Чтобы заранее находить таких пользователей, «ТелеДому» нужна модель, которая будет предсказывать, разорвёт ли абонент договор. Команда оператора собрала персональные данные о некоторых клиентах, информацию об их тарифах и услугах. Требуется обучить на этих данных модель для прогноза оттока клиентов.\n",
    "\n",
    "**Описание данных**\\\n",
    "Данные состоят из нескольких таблиц:\n",
    "\n",
    "- `contract` — информация о договоре;\n",
    "- `personal` — персональные данные клиента;\n",
    "- `internet` — информация об интернет-услугах;\n",
    "- `phone` — информация об услугах телефонии.\n",
    "\n",
    "**Целевая метрика**\\\n",
    "`ROC_AUC >= 0.85`"
   ]
  },
  {
   "cell_type": "markdown",
   "metadata": {},
   "source": [
    "**Содержание**<a id='toc0_'></a>    \n",
    "1. [Подготовка         ](#toc1_)    \n",
    "1.1. [Библиотеки         ](#toc1_1_)    \n",
    "1.2. [Конфигурация         ](#toc1_2_)    \n",
    "1.3. [Сервисные функции         ](#toc1_3_)    \n",
    "2. [Подключение к БД ](#toc2_)    \n",
    "3. [Датасет `contract`         ](#toc3_)    \n",
    "3.1. [Загрузка         ](#toc3_1_)    \n",
    "3.2. [Переименование признаков         ](#toc3_2_)    \n",
    "3.3. [Проверка типов данных         ](#toc3_3_)    \n",
    "3.4. [Проверка полных дубликатов         ](#toc3_4_)    \n",
    "3.5. [Проверка пропусков         ](#toc3_5_)    \n",
    "3.6. [Изучение признаков         ](#toc3_6_)    \n",
    "3.6.1. [Описание         ](#toc3_6_1_)    \n",
    "3.6.2. [Признак `customer_id`         ](#toc3_6_2_)    \n",
    "3.6.3. [Признак `begin_date`         ](#toc3_6_3_)    \n",
    "3.6.4. [Признак `end_date`         ](#toc3_6_4_)    \n",
    "3.6.5. [Признак `type`         ](#toc3_6_5_)    \n",
    "3.6.6. [Признак `paperless_billing`         ](#toc3_6_6_)    \n",
    "3.6.7. [Признак `payment_method`         ](#toc3_6_7_)    \n",
    "3.6.8. [Признак `monthly_charges`         ](#toc3_6_8_)    \n",
    "3.6.9. [Признак `total_charges`         ](#toc3_6_9_)    \n",
    "3.7. [Выводы по датасету         ](#toc3_7_)    \n",
    "4. [Датасет `personal_new.csv`         ](#toc4_)    \n",
    "4.1. [Загрузка         ](#toc4_1_)    \n",
    "4.2. [Переименование признаков         ](#toc4_2_)    \n",
    "4.3. [Проверка типов данных         ](#toc4_3_)    \n",
    "4.4. [Проверка полных дубликатов         ](#toc4_4_)    \n",
    "4.5. [Проверка пропусков         ](#toc4_5_)    \n",
    "4.6. [Изучение признаков         ](#toc4_6_)    \n",
    "4.6.1. [Описание         ](#toc4_6_1_)    \n",
    "4.6.2. [Признак `customer_id`         ](#toc4_6_2_)    \n",
    "4.6.3. [Признак `gender`         ](#toc4_6_3_)    \n",
    "4.6.4. [Признак `senior_citizen`         ](#toc4_6_4_)    \n",
    "4.6.5. [Признак `partner`         ](#toc4_6_5_)    \n",
    "4.6.6. [Признак `dependents`         ](#toc4_6_6_)    \n",
    "4.7. [Выводы по датасету         ](#toc4_7_)    \n",
    "5. [Датасет `internet_new.csv`         ](#toc5_)    \n",
    "5.1. [Загрузка         ](#toc5_1_)    \n",
    "5.2. [Переименование признаков         ](#toc5_2_)    \n",
    "5.3. [Проверка типов данных         ](#toc5_3_)    \n",
    "5.4. [Проверка полных дубликатов         ](#toc5_4_)    \n",
    "5.5. [Проверка пропусков         ](#toc5_5_)    \n",
    "5.6. [Изучение признаков         ](#toc5_6_)    \n",
    "5.6.1. [Описание      ](#toc5_6_1_)    \n",
    "5.6.2. [Признак `customer_id`      ](#toc5_6_2_)    \n",
    "5.6.3. [Признак `internet_service`      ](#toc5_6_3_)    \n",
    "5.6.4. [Все остальные признаки      ](#toc5_6_4_)    \n",
    "5.7. [Выводы по датасету         ](#toc5_7_)    \n",
    "6. [Датасет `phone_new.csv`         ](#toc6_)    \n",
    "6.1. [Загрузка         ](#toc6_1_)    \n",
    "6.2. [Переименование признаков         ](#toc6_2_)    \n",
    "6.3. [Проверка типов данных         ](#toc6_3_)    \n",
    "6.4. [Проверка полных дубликатов         ](#toc6_4_)    \n",
    "6.5. [Проверка пропусков         ](#toc6_5_)    \n",
    "6.6. [Изучение признаков         ](#toc6_6_)    \n",
    "6.6.1. [Описание         ](#toc6_6_1_)    \n",
    "6.6.2. [Признак `customer_id`         ](#toc6_6_2_)    \n",
    "6.6.3. [Признак `multiple_lines`         ](#toc6_6_3_)    \n",
    "6.7. [Выводы по датасету         ](#toc6_7_)    \n",
    "7. [Объединение таблиц         ](#toc7_)    \n",
    "7.1. [Объединение      ](#toc7_1_)    \n",
    "7.2. [Проверка типов данных      ](#toc7_2_)    \n",
    "7.3. [Проверка полных дубликатов      ](#toc7_3_)    \n",
    "7.4. [Проверка пропусков      ](#toc7_4_)    \n",
    "8. [Выделение таргета      ](#toc8_)    \n",
    "9. [Корреляция     ](#toc9_)    \n",
    "10. [Разделение данных      ](#toc10_)    \n",
    "11. [Модели      ](#toc11_)    \n",
    "11.1. [Подготовка    ](#toc11_1_)    \n",
    "11.2. [Модель `LogisticRegression`    ](#toc11_2_)    \n",
    "11.3. [Модель `LinearSVC`    ](#toc11_3_)    \n",
    "11.4. [Модель `RandomForestClassifier`    ](#toc11_4_)    \n",
    "11.5. [Модель `LGBMClassifier`    ](#toc11_5_)    \n",
    "11.6. [Модель `CatBoostClassifier`    ](#toc11_6_)    \n",
    "11.7. [Нейронная сеть](#toc11_7_)    \n",
    "12. [Результаты     ](#toc12_)    \n",
    "12.1. [Результаты на трейне     ](#toc12_1_)    \n",
    "12.2. [Результаты на тесте     ](#toc12_2_)    \n",
    "12.3. [Важность признаков     ](#toc12_3_)    \n",
    "13. [Итоговый вывод         ](#toc13_)    \n",
    "\n",
    "<!-- vscode-jupyter-toc-config\n",
    "\tnumbering=true\n",
    "\tanchor=true\n",
    "\tflat=true\n",
    "\tminLevel=2\n",
    "\tmaxLevel=6\n",
    "\t/vscode-jupyter-toc-config -->\n",
    "<!-- THIS CELL WILL BE REPLACED ON TOC UPDATE. DO NOT WRITE YOUR TEXT IN THIS CELL -->"
   ]
  },
  {
   "cell_type": "markdown",
   "metadata": {},
   "source": [
    "## 1. <a id='toc1_'></a>Подготовка          [&#8593;](#toc0_)"
   ]
  },
  {
   "cell_type": "markdown",
   "metadata": {},
   "source": [
    "### 1.1. <a id='toc1_1_'></a>Библиотеки          [&#8593;](#toc0_)"
   ]
  },
  {
   "cell_type": "code",
   "execution_count": 1,
   "metadata": {},
   "outputs": [],
   "source": [
    "from IPython.display import clear_output"
   ]
  },
  {
   "cell_type": "code",
   "execution_count": 2,
   "metadata": {},
   "outputs": [],
   "source": [
    "%pip install -q catboost==1.2.7\n",
    "%pip install -q hyperopt==0.2.7\n",
    "%pip install -q lightgbm==4.5.0\n",
    "%pip install -q matplotlib==3.9.2\n",
    "%pip install -q numpy==1.26.4\n",
    "%pip install -q pandas==2.2.3\n",
    "%pip install -q phik==0.12.4\n",
    "%pip install -q prettytable==3.12.0\n",
    "%pip install -q scikit-learn==1.5.2\n",
    "%pip install -q seaborn==0.13.2\n",
    "%pip install -q shap==0.46.0\n",
    "%pip install -q statsmodels==0.14.4\n",
    "%pip install -q termcolor==2.5.0\n",
    "%pip install -q torch==2.6.0\n",
    "\n",
    "clear_output()"
   ]
  },
  {
   "cell_type": "code",
   "execution_count": 3,
   "metadata": {},
   "outputs": [],
   "source": [
    "import warnings\n",
    "warnings.filterwarnings('ignore')"
   ]
  },
  {
   "cell_type": "code",
   "execution_count": 4,
   "metadata": {},
   "outputs": [],
   "source": [
    "import os\n",
    "import re\n",
    "import urllib\n",
    "from os.path import exists\n",
    "\n",
    "\n",
    "import sqlite3\n",
    "\n",
    "import numpy as np\n",
    "import pandas as pd\n",
    "import seaborn as sns\n",
    "import matplotlib.pyplot as plt\n",
    "import shap\n",
    "\n",
    "# Models\n",
    "from sklearn.linear_model import LogisticRegression\n",
    "from sklearn.svm import LinearSVC\n",
    "from sklearn.ensemble import RandomForestClassifier\n",
    "from lightgbm import LGBMClassifier\n",
    "from catboost import CatBoostClassifier\n",
    "\n",
    "# NN\n",
    "import torch\n",
    "from torch import nn\n",
    "from torch.utils.data import (Dataset,\n",
    "                              DataLoader)\n",
    "\n",
    "# Hyperparams tuning\n",
    "from hyperopt import (hp,\n",
    "                      fmin,\n",
    "                      tpe,\n",
    "                      Trials,\n",
    "                      STATUS_OK,\n",
    "                      STATUS_FAIL)\n",
    "\n",
    "from sklearn.base import (BaseEstimator,\n",
    "                          TransformerMixin)\n",
    "from sklearn.preprocessing import (StandardScaler,\n",
    "                                   OneHotEncoder)\n",
    "from sklearn.impute import KNNImputer\n",
    "from sklearn.pipeline import Pipeline\n",
    "from sklearn.model_selection import (train_test_split,\n",
    "                                     cross_val_score,\n",
    "                                     StratifiedKFold)\n",
    "from sklearn.metrics import (ConfusionMatrixDisplay,\n",
    "                             classification_report,\n",
    "                             roc_auc_score,\n",
    "                             accuracy_score,\n",
    "                             recall_score)\n",
    "\n",
    "from termcolor import colored\n",
    "from prettytable import PrettyTable\n",
    "from phik import phik_matrix  # this import IS accessed\n",
    "from statsmodels.stats.outliers_influence import variance_inflation_factor\n",
    "from statsmodels.tools.tools import add_constant"
   ]
  },
  {
   "cell_type": "markdown",
   "metadata": {},
   "source": [
    "### 1.2. <a id='toc1_2_'></a>Конфигурация          [&#8593;](#toc0_)"
   ]
  },
  {
   "cell_type": "code",
   "execution_count": 5,
   "metadata": {},
   "outputs": [],
   "source": [
    "RANDOM_STATE = 210425\n",
    "TEST_SIZE = 0.25"
   ]
  },
  {
   "cell_type": "code",
   "execution_count": 6,
   "metadata": {},
   "outputs": [],
   "source": [
    "pd.options.display.max_columns = 50"
   ]
  },
  {
   "cell_type": "code",
   "execution_count": 7,
   "metadata": {},
   "outputs": [],
   "source": [
    "# без этого ядро всегда падало\n",
    "os.environ[\"OMP_NUM_THREADS\"] = \"1\"            # оставить 1 поток\n",
    "torch.backends.mkldnn.enabled = False          # <‑‑ главное!\n",
    "torch.set_num_threads(1)"
   ]
  },
  {
   "cell_type": "markdown",
   "metadata": {},
   "source": [
    "### 1.3. <a id='toc1_3_'></a>Сервисные функции          [&#8593;](#toc0_)"
   ]
  },
  {
   "cell_type": "code",
   "execution_count": 8,
   "metadata": {},
   "outputs": [],
   "source": [
    "def camel_to_snake(camel_str):\n",
    "    snake_str = re.sub(r'(?<=[a-z])(?=[A-Z])|(?<=[A-Z])(?=[A-Z][a-z])', '_', camel_str).lower()\n",
    "    return snake_str"
   ]
  },
  {
   "cell_type": "code",
   "execution_count": 9,
   "metadata": {},
   "outputs": [],
   "source": [
    "def optimize_memory_usage(df: pd.DataFrame, print_size: bool=True) -> pd.DataFrame:\n",
    "    \"\"\"Function optimizes memory usage in dataframe\n",
    "\n",
    "    Args:\n",
    "        df (pd.DataFrame): DataFrame to optimize.\n",
    "        print_size (bool, optional): Display of optimization results. Defaults to True.\n",
    "\n",
    "    Returns:\n",
    "        pd.DataFrame: Optimized DataFrame\n",
    "    \"\"\"\n",
    "\n",
    "    numerics = ['int16', 'int32', 'int64', 'float16', 'float32', 'float64'] # Типы, которые будем проверять на оптимизацию\n",
    "    # Размер занимаемой памяти до оптимизации (в Мб)\n",
    "    before_size = df.memory_usage().sum() / 1024**2\n",
    "    for column in df.columns:\n",
    "        column_type = df[column].dtypes\n",
    "        if column_type in numerics:\n",
    "            column_min = df[column].min()\n",
    "            column_max = df[column].max()\n",
    "            if str(column_type).startswith('int'):\n",
    "                if column_min > np.iinfo(np.int8).min and column_max < np.iinfo(np.int8).max:\n",
    "                    df[column] = df[column].astype(np.int8)\n",
    "                elif column_min > np.iinfo(np.int16).min and column_max < np.iinfo(np.int16).max:\n",
    "                    df[column] = df[column].astype(np.int16)\n",
    "                elif column_min > np.iinfo(np.int32).min and column_max < np.iinfo(np.int32).max:\n",
    "                    df[column] = df[column].astype(np.int32)\n",
    "                elif column_min > np.iinfo(np.int64).min and column_max < np.iinfo(np.int64).max:\n",
    "                    df[column] = df[column].astype(np.int64)\n",
    "            else:\n",
    "                if column_min > np.finfo(np.float32).min and column_max < np.finfo(np.float32).max:\n",
    "                    df[column] = df[column].astype(np.float32)\n",
    "                else:\n",
    "                    df[column] = df[column].astype(np.float64)\n",
    "\n",
    "    # Размер занимаемой памяти после оптимизации (в Мб)\n",
    "    after_size = df.memory_usage().sum() / 1024 ** 2\n",
    "    if print_size:\n",
    "        print('Размер использования памяти: до {:5.2f} Mb - после {:5.2f} Mb ({:.1f}%)'\n",
    "                            .format(before_size, after_size, 100 * (before_size - after_size) / before_size))\n",
    "    return df"
   ]
  },
  {
   "cell_type": "code",
   "execution_count": 10,
   "metadata": {},
   "outputs": [],
   "source": [
    "def check_duplicates(df: pd.DataFrame) -> None:\n",
    "    duplicates_count = df.duplicated().sum()\n",
    "\n",
    "    if duplicates_count == 0:\n",
    "        print(colored('Полных дубликатов не обнаружено.', 'green'))\n",
    "        return\n",
    "\n",
    "    duplicates_part = duplicates_count / len(df)\n",
    "    print(colored(f'Обнаружено {duplicates_count} дубликатов ({duplicates_part:.2%})', 'red'))"
   ]
  },
  {
   "cell_type": "code",
   "execution_count": 11,
   "metadata": {},
   "outputs": [],
   "source": [
    "def check_nans(df: pd.DataFrame) -> None:\n",
    "    if df.isna().sum().sum() == 0:\n",
    "        print(colored('Пропусков не обнаружено.', 'green'))\n",
    "        return\n",
    "\n",
    "    table = PrettyTable()\n",
    "    table.field_names = ['Feature', 'Missing values count']\n",
    "\n",
    "    missing_info = df.isna().sum().sort_values()\n",
    "    cols = missing_info.index.to_list()\n",
    "    for col in cols:\n",
    "        count = missing_info[col]\n",
    "        color = 'green' if count == 0 else 'red'\n",
    "        s = f'{count} ({count / len(df):.2%})'\n",
    "        table.add_row([col, colored(s, color)])\n",
    "\n",
    "    print(table)"
   ]
  },
  {
   "cell_type": "code",
   "execution_count": 12,
   "metadata": {},
   "outputs": [],
   "source": [
    "def get_info_about_nan_in_series(series: pd.Series) -> None:\n",
    "    nan_cnt = series.isna().sum()\n",
    "    text = colored('No missing values', 'green') if nan_cnt == 0 \\\n",
    "        else colored(f'{nan_cnt} ({nan_cnt / len(series):.2%})', 'red')\n",
    "    print(text)"
   ]
  },
  {
   "cell_type": "code",
   "execution_count": 13,
   "metadata": {},
   "outputs": [],
   "source": [
    "def get_value_counts(series: pd.Series) -> None:\n",
    "    data = pd.DataFrame()\n",
    "    data['count'] = series.value_counts()\n",
    "    data['part'] = data['count'] / len(series)\n",
    "    display(data)"
   ]
  },
  {
   "cell_type": "code",
   "execution_count": 14,
   "metadata": {},
   "outputs": [],
   "source": [
    "def draw_plots_about_column(df: pd.DataFrame,\n",
    "                            column: str,\n",
    "                            column_description: str = None,\n",
    "                            bins: int = 20\n",
    "                            ) -> None:\n",
    "    if column_description is None:\n",
    "        column_description = column\n",
    "\n",
    "    _, ((ax1, ax2), (ax3, ax4)) = plt.subplots(2, 2, figsize=(12, 10))\n",
    "\n",
    "    sns.violinplot(df, x=column, ax=ax1, orient='h')\n",
    "    ax1.set_xlabel(column_description)\n",
    "    ax1.grid()\n",
    "\n",
    "    sns.boxplot(df, x=column, ax=ax2)\n",
    "    ax2.set_xlabel(column_description)\n",
    "    ax2.grid()\n",
    "\n",
    "    sns.histplot(df, x=column, bins=bins, ax=ax3)\n",
    "    ax3.set_xlabel(column_description)\n",
    "    ax3.grid()\n",
    "    ax3.set_ylabel('Количество')\n",
    "\n",
    "    ax4.set_visible(False)\n",
    "\n",
    "    plt.suptitle(f'Информация о колонке `{column_description}`', fontsize=18)\n",
    "    plt.tight_layout()\n",
    "\n",
    "    plt.show()"
   ]
  },
  {
   "cell_type": "code",
   "execution_count": 15,
   "metadata": {},
   "outputs": [],
   "source": [
    "def check_phik_correlation(df: pd.DataFrame, interval_cols: list[str]) -> None:\n",
    "    plt.figure(figsize=(10, 5))\n",
    "    correlation_matrix = df.phik_matrix(interval_cols=interval_cols)\n",
    "    mask = np.tril(np.ones(correlation_matrix.shape), k=-1).astype(bool)\n",
    "    lower_triangle = correlation_matrix.where(mask)\n",
    "    sns.heatmap(lower_triangle,\n",
    "                cmap='Greens',\n",
    "                annot=True,\n",
    "                fmt='.2f');\n",
    "\n",
    "    plt.title(r'$phi_k$ корреляция между всеми признаками', fontsize=18)\n",
    "    plt.tight_layout()\n",
    "    plt.show()"
   ]
  },
  {
   "cell_type": "code",
   "execution_count": 16,
   "metadata": {},
   "outputs": [],
   "source": [
    "def check_vif_values(df: pd.DataFrame) -> None:\n",
    "    df = df.select_dtypes(include='number')\n",
    "\n",
    "    scaler = StandardScaler()\n",
    "    df = pd.DataFrame(scaler.fit_transform(df), columns=df.columns)\n",
    "\n",
    "    with_constants = add_constant(df)\n",
    "\n",
    "    vif_data = pd.DataFrame()\n",
    "    vif_data['variable'] = with_constants.columns\n",
    "    vif_data['vif'] = [variance_inflation_factor(with_constants.values, i) for i in range(with_constants.shape[1])]\n",
    "\n",
    "    res = vif_data.sort_values(by='vif', ascending=False).reset_index(drop=True)\n",
    "    display(res)"
   ]
  },
  {
   "cell_type": "markdown",
   "metadata": {},
   "source": [
    "## 2. <a id='toc2_'></a>Подключение к БД  [&#8593;](#toc0_)"
   ]
  },
  {
   "cell_type": "code",
   "execution_count": 17,
   "metadata": {},
   "outputs": [],
   "source": [
    "if not exists('ds-plus-final.db'):\n",
    "    url = 'https://code.s3.yandex.net/data-scientist/ds-plus-final.db'\n",
    "    urllib.request.urlretrieve(url, 'ds-plus-final.db')"
   ]
  },
  {
   "cell_type": "code",
   "execution_count": 18,
   "metadata": {},
   "outputs": [],
   "source": [
    "con = sqlite3.connect('ds-plus-final.db')"
   ]
  },
  {
   "cell_type": "markdown",
   "metadata": {},
   "source": [
    "## 3. <a id='toc3_'></a>Датасет `contract`          [&#8593;](#toc0_)"
   ]
  },
  {
   "cell_type": "markdown",
   "metadata": {},
   "source": [
    "### 3.1. <a id='toc3_1_'></a>Загрузка          [&#8593;](#toc0_)"
   ]
  },
  {
   "cell_type": "code",
   "execution_count": 19,
   "metadata": {},
   "outputs": [
    {
     "data": {
      "application/vnd.microsoft.datawrangler.viewer.v0+json": {
       "columns": [
        {
         "name": "index",
         "rawType": "int64",
         "type": "integer"
        },
        {
         "name": "customerID",
         "rawType": "object",
         "type": "string"
        },
        {
         "name": "BeginDate",
         "rawType": "object",
         "type": "string"
        },
        {
         "name": "EndDate",
         "rawType": "object",
         "type": "string"
        },
        {
         "name": "Type",
         "rawType": "object",
         "type": "string"
        },
        {
         "name": "PaperlessBilling",
         "rawType": "object",
         "type": "string"
        },
        {
         "name": "PaymentMethod",
         "rawType": "object",
         "type": "string"
        },
        {
         "name": "MonthlyCharges",
         "rawType": "object",
         "type": "string"
        },
        {
         "name": "TotalCharges",
         "rawType": "object",
         "type": "string"
        }
       ],
       "conversionMethod": "pd.DataFrame",
       "ref": "3abc06a4-05b6-4d00-9157-9d4394d2fd3f",
       "rows": [
        [
         "0",
         "7590-VHVEG",
         "2020-01-01",
         "No",
         "Month-to-month",
         "Yes",
         "Electronic check",
         "29.85",
         "31.04"
        ],
        [
         "1",
         "5575-GNVDE",
         "2017-04-01",
         "No",
         "One year",
         "No",
         "Mailed check",
         "56.95",
         "2071.84"
        ],
        [
         "2",
         "3668-QPYBK",
         "2019-10-01",
         "No",
         "Month-to-month",
         "Yes",
         "Mailed check",
         "53.85",
         "226.17"
        ],
        [
         "3",
         "7795-CFOCW",
         "2016-05-01",
         "No",
         "One year",
         "No",
         "Bank transfer (automatic)",
         "42.3",
         "1960.6"
        ],
        [
         "4",
         "9237-HQITU",
         "2019-09-01",
         "No",
         "Month-to-month",
         "Yes",
         "Electronic check",
         "70.7",
         "353.5"
        ]
       ],
       "shape": {
        "columns": 8,
        "rows": 5
       }
      },
      "text/html": [
       "<div>\n",
       "<style scoped>\n",
       "    .dataframe tbody tr th:only-of-type {\n",
       "        vertical-align: middle;\n",
       "    }\n",
       "\n",
       "    .dataframe tbody tr th {\n",
       "        vertical-align: top;\n",
       "    }\n",
       "\n",
       "    .dataframe thead th {\n",
       "        text-align: right;\n",
       "    }\n",
       "</style>\n",
       "<table border=\"1\" class=\"dataframe\">\n",
       "  <thead>\n",
       "    <tr style=\"text-align: right;\">\n",
       "      <th></th>\n",
       "      <th>customerID</th>\n",
       "      <th>BeginDate</th>\n",
       "      <th>EndDate</th>\n",
       "      <th>Type</th>\n",
       "      <th>PaperlessBilling</th>\n",
       "      <th>PaymentMethod</th>\n",
       "      <th>MonthlyCharges</th>\n",
       "      <th>TotalCharges</th>\n",
       "    </tr>\n",
       "  </thead>\n",
       "  <tbody>\n",
       "    <tr>\n",
       "      <th>0</th>\n",
       "      <td>7590-VHVEG</td>\n",
       "      <td>2020-01-01</td>\n",
       "      <td>No</td>\n",
       "      <td>Month-to-month</td>\n",
       "      <td>Yes</td>\n",
       "      <td>Electronic check</td>\n",
       "      <td>29.85</td>\n",
       "      <td>31.04</td>\n",
       "    </tr>\n",
       "    <tr>\n",
       "      <th>1</th>\n",
       "      <td>5575-GNVDE</td>\n",
       "      <td>2017-04-01</td>\n",
       "      <td>No</td>\n",
       "      <td>One year</td>\n",
       "      <td>No</td>\n",
       "      <td>Mailed check</td>\n",
       "      <td>56.95</td>\n",
       "      <td>2071.84</td>\n",
       "    </tr>\n",
       "    <tr>\n",
       "      <th>2</th>\n",
       "      <td>3668-QPYBK</td>\n",
       "      <td>2019-10-01</td>\n",
       "      <td>No</td>\n",
       "      <td>Month-to-month</td>\n",
       "      <td>Yes</td>\n",
       "      <td>Mailed check</td>\n",
       "      <td>53.85</td>\n",
       "      <td>226.17</td>\n",
       "    </tr>\n",
       "    <tr>\n",
       "      <th>3</th>\n",
       "      <td>7795-CFOCW</td>\n",
       "      <td>2016-05-01</td>\n",
       "      <td>No</td>\n",
       "      <td>One year</td>\n",
       "      <td>No</td>\n",
       "      <td>Bank transfer (automatic)</td>\n",
       "      <td>42.3</td>\n",
       "      <td>1960.6</td>\n",
       "    </tr>\n",
       "    <tr>\n",
       "      <th>4</th>\n",
       "      <td>9237-HQITU</td>\n",
       "      <td>2019-09-01</td>\n",
       "      <td>No</td>\n",
       "      <td>Month-to-month</td>\n",
       "      <td>Yes</td>\n",
       "      <td>Electronic check</td>\n",
       "      <td>70.7</td>\n",
       "      <td>353.5</td>\n",
       "    </tr>\n",
       "  </tbody>\n",
       "</table>\n",
       "</div>"
      ],
      "text/plain": [
       "   customerID   BeginDate EndDate            Type PaperlessBilling  \\\n",
       "0  7590-VHVEG  2020-01-01      No  Month-to-month              Yes   \n",
       "1  5575-GNVDE  2017-04-01      No        One year               No   \n",
       "2  3668-QPYBK  2019-10-01      No  Month-to-month              Yes   \n",
       "3  7795-CFOCW  2016-05-01      No        One year               No   \n",
       "4  9237-HQITU  2019-09-01      No  Month-to-month              Yes   \n",
       "\n",
       "               PaymentMethod MonthlyCharges TotalCharges  \n",
       "0           Electronic check          29.85        31.04  \n",
       "1               Mailed check          56.95      2071.84  \n",
       "2               Mailed check          53.85       226.17  \n",
       "3  Bank transfer (automatic)           42.3       1960.6  \n",
       "4           Electronic check           70.7        353.5  "
      ]
     },
     "execution_count": 19,
     "metadata": {},
     "output_type": "execute_result"
    }
   ],
   "source": [
    "contract = pd.read_sql('SELECT * FROM contract', con)\n",
    "contract.head()"
   ]
  },
  {
   "cell_type": "markdown",
   "metadata": {},
   "source": [
    "### 3.2. <a id='toc3_2_'></a>Переименование признаков          [&#8593;](#toc0_)"
   ]
  },
  {
   "cell_type": "markdown",
   "metadata": {},
   "source": [
    "Видим, что названия столбцов не соответствуют PEP8. Приведем их к snake_case."
   ]
  },
  {
   "cell_type": "code",
   "execution_count": 20,
   "metadata": {},
   "outputs": [],
   "source": [
    "contract.columns = [camel_to_snake(c) for c in contract.columns]"
   ]
  },
  {
   "cell_type": "code",
   "execution_count": 21,
   "metadata": {},
   "outputs": [
    {
     "data": {
      "text/plain": [
       "Index(['customer_id', 'begin_date', 'end_date', 'type', 'paperless_billing',\n",
       "       'payment_method', 'monthly_charges', 'total_charges'],\n",
       "      dtype='object')"
      ]
     },
     "execution_count": 21,
     "metadata": {},
     "output_type": "execute_result"
    }
   ],
   "source": [
    "contract.columns"
   ]
  },
  {
   "cell_type": "markdown",
   "metadata": {},
   "source": [
    "### 3.3. <a id='toc3_3_'></a>Проверка типов данных          [&#8593;](#toc0_)"
   ]
  },
  {
   "cell_type": "code",
   "execution_count": 22,
   "metadata": {},
   "outputs": [
    {
     "name": "stdout",
     "output_type": "stream",
     "text": [
      "<class 'pandas.core.frame.DataFrame'>\n",
      "RangeIndex: 7043 entries, 0 to 7042\n",
      "Data columns (total 8 columns):\n",
      " #   Column             Non-Null Count  Dtype \n",
      "---  ------             --------------  ----- \n",
      " 0   customer_id        7043 non-null   object\n",
      " 1   begin_date         7043 non-null   object\n",
      " 2   end_date           7043 non-null   object\n",
      " 3   type               7043 non-null   object\n",
      " 4   paperless_billing  7043 non-null   object\n",
      " 5   payment_method     7043 non-null   object\n",
      " 6   monthly_charges    7043 non-null   object\n",
      " 7   total_charges      7043 non-null   object\n",
      "dtypes: object(8)\n",
      "memory usage: 440.3+ KB\n"
     ]
    }
   ],
   "source": [
    "contract.info()"
   ]
  },
  {
   "cell_type": "markdown",
   "metadata": {},
   "source": [
    "Все признаки по умолчанию имеют тип `object`. Приведем их к нужным типам."
   ]
  },
  {
   "cell_type": "code",
   "execution_count": 23,
   "metadata": {},
   "outputs": [],
   "source": [
    "contract['begin_date'] = pd.to_datetime(contract['begin_date'])\n",
    "contract['monthly_charges'] = pd.to_numeric(contract['monthly_charges'])"
   ]
  },
  {
   "cell_type": "markdown",
   "metadata": {},
   "source": [
    "Столбец `total_charges` не может быть приведен. Изучим это дополнительно."
   ]
  },
  {
   "cell_type": "code",
   "execution_count": 24,
   "metadata": {},
   "outputs": [
    {
     "data": {
      "application/vnd.microsoft.datawrangler.viewer.v0+json": {
       "columns": [
        {
         "name": "index",
         "rawType": "int64",
         "type": "integer"
        },
        {
         "name": "customer_id",
         "rawType": "object",
         "type": "string"
        },
        {
         "name": "begin_date",
         "rawType": "datetime64[ns]",
         "type": "datetime"
        },
        {
         "name": "end_date",
         "rawType": "object",
         "type": "string"
        },
        {
         "name": "type",
         "rawType": "object",
         "type": "string"
        },
        {
         "name": "paperless_billing",
         "rawType": "object",
         "type": "string"
        },
        {
         "name": "payment_method",
         "rawType": "object",
         "type": "string"
        },
        {
         "name": "monthly_charges",
         "rawType": "float64",
         "type": "float"
        },
        {
         "name": "total_charges",
         "rawType": "object",
         "type": "string"
        }
       ],
       "conversionMethod": "pd.DataFrame",
       "ref": "2e410332-8947-4a60-849d-9446c18f2d89",
       "rows": [
        [
         "488",
         "4472-LVYGI",
         "2020-02-01 00:00:00",
         "No",
         "Two year",
         "Yes",
         "Bank transfer (automatic)",
         "52.55",
         " "
        ],
        [
         "753",
         "3115-CZMZD",
         "2020-02-01 00:00:00",
         "No",
         "Two year",
         "No",
         "Mailed check",
         "20.25",
         " "
        ],
        [
         "936",
         "5709-LVOEQ",
         "2020-02-01 00:00:00",
         "No",
         "Two year",
         "No",
         "Mailed check",
         "80.85",
         " "
        ],
        [
         "1082",
         "4367-NUYAO",
         "2020-02-01 00:00:00",
         "No",
         "Two year",
         "No",
         "Mailed check",
         "25.75",
         " "
        ],
        [
         "1340",
         "1371-DWPAZ",
         "2020-02-01 00:00:00",
         "No",
         "Two year",
         "No",
         "Credit card (automatic)",
         "56.05",
         " "
        ],
        [
         "3331",
         "7644-OMVMY",
         "2020-02-01 00:00:00",
         "No",
         "Two year",
         "No",
         "Mailed check",
         "19.85",
         " "
        ],
        [
         "3826",
         "3213-VVOLG",
         "2020-02-01 00:00:00",
         "No",
         "Two year",
         "No",
         "Mailed check",
         "25.35",
         " "
        ],
        [
         "4380",
         "2520-SGTTA",
         "2020-02-01 00:00:00",
         "No",
         "Two year",
         "No",
         "Mailed check",
         "20.0",
         " "
        ],
        [
         "5218",
         "2923-ARZLG",
         "2020-02-01 00:00:00",
         "No",
         "One year",
         "Yes",
         "Mailed check",
         "19.7",
         " "
        ],
        [
         "6670",
         "4075-WKNIU",
         "2020-02-01 00:00:00",
         "No",
         "Two year",
         "No",
         "Mailed check",
         "73.35",
         " "
        ],
        [
         "6754",
         "2775-SEFEE",
         "2020-02-01 00:00:00",
         "No",
         "Two year",
         "Yes",
         "Bank transfer (automatic)",
         "61.9",
         " "
        ]
       ],
       "shape": {
        "columns": 8,
        "rows": 11
       }
      },
      "text/html": [
       "<div>\n",
       "<style scoped>\n",
       "    .dataframe tbody tr th:only-of-type {\n",
       "        vertical-align: middle;\n",
       "    }\n",
       "\n",
       "    .dataframe tbody tr th {\n",
       "        vertical-align: top;\n",
       "    }\n",
       "\n",
       "    .dataframe thead th {\n",
       "        text-align: right;\n",
       "    }\n",
       "</style>\n",
       "<table border=\"1\" class=\"dataframe\">\n",
       "  <thead>\n",
       "    <tr style=\"text-align: right;\">\n",
       "      <th></th>\n",
       "      <th>customer_id</th>\n",
       "      <th>begin_date</th>\n",
       "      <th>end_date</th>\n",
       "      <th>type</th>\n",
       "      <th>paperless_billing</th>\n",
       "      <th>payment_method</th>\n",
       "      <th>monthly_charges</th>\n",
       "      <th>total_charges</th>\n",
       "    </tr>\n",
       "  </thead>\n",
       "  <tbody>\n",
       "    <tr>\n",
       "      <th>488</th>\n",
       "      <td>4472-LVYGI</td>\n",
       "      <td>2020-02-01</td>\n",
       "      <td>No</td>\n",
       "      <td>Two year</td>\n",
       "      <td>Yes</td>\n",
       "      <td>Bank transfer (automatic)</td>\n",
       "      <td>52.55</td>\n",
       "      <td></td>\n",
       "    </tr>\n",
       "    <tr>\n",
       "      <th>753</th>\n",
       "      <td>3115-CZMZD</td>\n",
       "      <td>2020-02-01</td>\n",
       "      <td>No</td>\n",
       "      <td>Two year</td>\n",
       "      <td>No</td>\n",
       "      <td>Mailed check</td>\n",
       "      <td>20.25</td>\n",
       "      <td></td>\n",
       "    </tr>\n",
       "    <tr>\n",
       "      <th>936</th>\n",
       "      <td>5709-LVOEQ</td>\n",
       "      <td>2020-02-01</td>\n",
       "      <td>No</td>\n",
       "      <td>Two year</td>\n",
       "      <td>No</td>\n",
       "      <td>Mailed check</td>\n",
       "      <td>80.85</td>\n",
       "      <td></td>\n",
       "    </tr>\n",
       "    <tr>\n",
       "      <th>1082</th>\n",
       "      <td>4367-NUYAO</td>\n",
       "      <td>2020-02-01</td>\n",
       "      <td>No</td>\n",
       "      <td>Two year</td>\n",
       "      <td>No</td>\n",
       "      <td>Mailed check</td>\n",
       "      <td>25.75</td>\n",
       "      <td></td>\n",
       "    </tr>\n",
       "    <tr>\n",
       "      <th>1340</th>\n",
       "      <td>1371-DWPAZ</td>\n",
       "      <td>2020-02-01</td>\n",
       "      <td>No</td>\n",
       "      <td>Two year</td>\n",
       "      <td>No</td>\n",
       "      <td>Credit card (automatic)</td>\n",
       "      <td>56.05</td>\n",
       "      <td></td>\n",
       "    </tr>\n",
       "    <tr>\n",
       "      <th>3331</th>\n",
       "      <td>7644-OMVMY</td>\n",
       "      <td>2020-02-01</td>\n",
       "      <td>No</td>\n",
       "      <td>Two year</td>\n",
       "      <td>No</td>\n",
       "      <td>Mailed check</td>\n",
       "      <td>19.85</td>\n",
       "      <td></td>\n",
       "    </tr>\n",
       "    <tr>\n",
       "      <th>3826</th>\n",
       "      <td>3213-VVOLG</td>\n",
       "      <td>2020-02-01</td>\n",
       "      <td>No</td>\n",
       "      <td>Two year</td>\n",
       "      <td>No</td>\n",
       "      <td>Mailed check</td>\n",
       "      <td>25.35</td>\n",
       "      <td></td>\n",
       "    </tr>\n",
       "    <tr>\n",
       "      <th>4380</th>\n",
       "      <td>2520-SGTTA</td>\n",
       "      <td>2020-02-01</td>\n",
       "      <td>No</td>\n",
       "      <td>Two year</td>\n",
       "      <td>No</td>\n",
       "      <td>Mailed check</td>\n",
       "      <td>20.00</td>\n",
       "      <td></td>\n",
       "    </tr>\n",
       "    <tr>\n",
       "      <th>5218</th>\n",
       "      <td>2923-ARZLG</td>\n",
       "      <td>2020-02-01</td>\n",
       "      <td>No</td>\n",
       "      <td>One year</td>\n",
       "      <td>Yes</td>\n",
       "      <td>Mailed check</td>\n",
       "      <td>19.70</td>\n",
       "      <td></td>\n",
       "    </tr>\n",
       "    <tr>\n",
       "      <th>6670</th>\n",
       "      <td>4075-WKNIU</td>\n",
       "      <td>2020-02-01</td>\n",
       "      <td>No</td>\n",
       "      <td>Two year</td>\n",
       "      <td>No</td>\n",
       "      <td>Mailed check</td>\n",
       "      <td>73.35</td>\n",
       "      <td></td>\n",
       "    </tr>\n",
       "    <tr>\n",
       "      <th>6754</th>\n",
       "      <td>2775-SEFEE</td>\n",
       "      <td>2020-02-01</td>\n",
       "      <td>No</td>\n",
       "      <td>Two year</td>\n",
       "      <td>Yes</td>\n",
       "      <td>Bank transfer (automatic)</td>\n",
       "      <td>61.90</td>\n",
       "      <td></td>\n",
       "    </tr>\n",
       "  </tbody>\n",
       "</table>\n",
       "</div>"
      ],
      "text/plain": [
       "     customer_id begin_date end_date      type paperless_billing  \\\n",
       "488   4472-LVYGI 2020-02-01       No  Two year               Yes   \n",
       "753   3115-CZMZD 2020-02-01       No  Two year                No   \n",
       "936   5709-LVOEQ 2020-02-01       No  Two year                No   \n",
       "1082  4367-NUYAO 2020-02-01       No  Two year                No   \n",
       "1340  1371-DWPAZ 2020-02-01       No  Two year                No   \n",
       "3331  7644-OMVMY 2020-02-01       No  Two year                No   \n",
       "3826  3213-VVOLG 2020-02-01       No  Two year                No   \n",
       "4380  2520-SGTTA 2020-02-01       No  Two year                No   \n",
       "5218  2923-ARZLG 2020-02-01       No  One year               Yes   \n",
       "6670  4075-WKNIU 2020-02-01       No  Two year                No   \n",
       "6754  2775-SEFEE 2020-02-01       No  Two year               Yes   \n",
       "\n",
       "                 payment_method  monthly_charges total_charges  \n",
       "488   Bank transfer (automatic)            52.55                \n",
       "753                Mailed check            20.25                \n",
       "936                Mailed check            80.85                \n",
       "1082               Mailed check            25.75                \n",
       "1340    Credit card (automatic)            56.05                \n",
       "3331               Mailed check            19.85                \n",
       "3826               Mailed check            25.35                \n",
       "4380               Mailed check            20.00                \n",
       "5218               Mailed check            19.70                \n",
       "6670               Mailed check            73.35                \n",
       "6754  Bank transfer (automatic)            61.90                "
      ]
     },
     "execution_count": 24,
     "metadata": {},
     "output_type": "execute_result"
    }
   ],
   "source": [
    "mask = contract['total_charges'].str.match(r'\\d*\\.\\d*')\n",
    "contract[~mask]"
   ]
  },
  {
   "cell_type": "markdown",
   "metadata": {},
   "source": [
    "Видим, что все записи имеют начало контракта `2020-02-01`. Именно на эту дату актуальны датасеты. Значит по этим контрактам еще не было ни одного платежа, так как они только начались. Заполним данные значения `0`."
   ]
  },
  {
   "cell_type": "code",
   "execution_count": 25,
   "metadata": {},
   "outputs": [],
   "source": [
    "contract.loc[~mask, 'total_charges'] = 0"
   ]
  },
  {
   "cell_type": "markdown",
   "metadata": {},
   "source": [
    "Теперь можно установить корректный тип данных."
   ]
  },
  {
   "cell_type": "code",
   "execution_count": 26,
   "metadata": {},
   "outputs": [],
   "source": [
    "contract['total_charges'] = pd.to_numeric(contract['total_charges'])"
   ]
  },
  {
   "cell_type": "markdown",
   "metadata": {},
   "source": [
    "Проверим еще раз все типы данных."
   ]
  },
  {
   "cell_type": "code",
   "execution_count": 27,
   "metadata": {},
   "outputs": [
    {
     "name": "stdout",
     "output_type": "stream",
     "text": [
      "<class 'pandas.core.frame.DataFrame'>\n",
      "RangeIndex: 7043 entries, 0 to 7042\n",
      "Data columns (total 8 columns):\n",
      " #   Column             Non-Null Count  Dtype         \n",
      "---  ------             --------------  -----         \n",
      " 0   customer_id        7043 non-null   object        \n",
      " 1   begin_date         7043 non-null   datetime64[ns]\n",
      " 2   end_date           7043 non-null   object        \n",
      " 3   type               7043 non-null   object        \n",
      " 4   paperless_billing  7043 non-null   object        \n",
      " 5   payment_method     7043 non-null   object        \n",
      " 6   monthly_charges    7043 non-null   float64       \n",
      " 7   total_charges      7043 non-null   float64       \n",
      "dtypes: datetime64[ns](1), float64(2), object(5)\n",
      "memory usage: 440.3+ KB\n"
     ]
    }
   ],
   "source": [
    "contract.info()"
   ]
  },
  {
   "cell_type": "markdown",
   "metadata": {},
   "source": [
    "### 3.4. <a id='toc3_4_'></a>Проверка полных дубликатов          [&#8593;](#toc0_)"
   ]
  },
  {
   "cell_type": "code",
   "execution_count": 28,
   "metadata": {},
   "outputs": [
    {
     "name": "stdout",
     "output_type": "stream",
     "text": [
      "\u001b[32mПолных дубликатов не обнаружено.\u001b[0m\n"
     ]
    }
   ],
   "source": [
    "check_duplicates(contract)"
   ]
  },
  {
   "cell_type": "markdown",
   "metadata": {},
   "source": [
    "### 3.5. <a id='toc3_5_'></a>Проверка пропусков          [&#8593;](#toc0_)"
   ]
  },
  {
   "cell_type": "code",
   "execution_count": 29,
   "metadata": {},
   "outputs": [
    {
     "name": "stdout",
     "output_type": "stream",
     "text": [
      "\u001b[32mПропусков не обнаружено.\u001b[0m\n"
     ]
    }
   ],
   "source": [
    "check_nans(contract)"
   ]
  },
  {
   "cell_type": "markdown",
   "metadata": {},
   "source": [
    "### 3.6. <a id='toc3_6_'></a>Изучение признаков          [&#8593;](#toc0_)"
   ]
  },
  {
   "cell_type": "markdown",
   "metadata": {},
   "source": [
    "#### 3.6.1. <a id='toc3_6_1_'></a>Описание          [&#8593;](#toc0_)"
   ]
  },
  {
   "cell_type": "markdown",
   "metadata": {},
   "source": [
    "|    Признак         | Описание                                     |\n",
    "|:------------------:|----------------------------------------------|\n",
    "| customer_id        | идентификатор абонента                       |\n",
    "| begin_date         | дата начала действия договора                |\n",
    "| end_date           | дата окончания действия договора             |\n",
    "| type               | тип оплаты: раз в год-два или ежемесячно     |\n",
    "| paperless_billing  | электронный расчётный лист                   |\n",
    "| payment_method     | тип платежа                                  |\n",
    "| monthly_charges    | расходы за месяц                             |\n",
    "| total_charges      | общие расходы абонента                       |"
   ]
  },
  {
   "cell_type": "markdown",
   "metadata": {},
   "source": [
    "#### 3.6.2. <a id='toc3_6_2_'></a>Признак `customer_id`          [&#8593;](#toc0_)"
   ]
  },
  {
   "cell_type": "code",
   "execution_count": 30,
   "metadata": {},
   "outputs": [
    {
     "data": {
      "text/plain": [
       "(7043, 7043)"
      ]
     },
     "execution_count": 30,
     "metadata": {},
     "output_type": "execute_result"
    }
   ],
   "source": [
    "contract['customer_id'].nunique(), len(contract)"
   ]
  },
  {
   "cell_type": "markdown",
   "metadata": {},
   "source": [
    "Все id уникальны и будут использованы при объединении таблиц."
   ]
  },
  {
   "cell_type": "markdown",
   "metadata": {},
   "source": [
    "#### 3.6.3. <a id='toc3_6_3_'></a>Признак `begin_date`          [&#8593;](#toc0_)"
   ]
  },
  {
   "cell_type": "code",
   "execution_count": 31,
   "metadata": {},
   "outputs": [
    {
     "data": {
      "image/png": "[encoded data removed]",
      "text/plain": [
       "<Figure size 1000x600 with 1 Axes>"
      ]
     },
     "metadata": {},
     "output_type": "display_data"
    }
   ],
   "source": [
    "begin_date_year = contract['begin_date'].dt.year\n",
    "year_counts = begin_date_year.value_counts().sort_index()\n",
    "\n",
    "plt.figure(figsize=(10, 6))\n",
    "bars = plt.bar(year_counts.index, year_counts.values, color='skyblue', edgecolor='black')\n",
    "\n",
    "for bar in bars:\n",
    "    height = bar.get_height()\n",
    "    plt.text(bar.get_x() + bar.get_width() / 2,\n",
    "             height + 0.1, str(int(height)),\n",
    "             ha='center',\n",
    "             va='bottom',\n",
    "             fontsize=10)\n",
    "\n",
    "plt.title('Количество записей по годам', fontsize=14)\n",
    "plt.xlabel('Год', fontsize=12)\n",
    "plt.ylabel('Количество', fontsize=12)\n",
    "plt.xticks(year_counts.index)\n",
    "plt.grid(axis='y', linestyle='--', alpha=0.7)\n",
    "\n",
    "plt.tight_layout()\n",
    "plt.show()"
   ]
  },
  {
   "cell_type": "markdown",
   "metadata": {},
   "source": [
    "Малое количество записей в 2020 объясняется тем, что за этот год данные представлены только за первый месяц. В остальном данные выглядят адекватно."
   ]
  },
  {
   "cell_type": "markdown",
   "metadata": {},
   "source": [
    "#### 3.6.4. <a id='toc3_6_4_'></a>Признак `end_date`          [&#8593;](#toc0_)"
   ]
  },
  {
   "cell_type": "code",
   "execution_count": 32,
   "metadata": {},
   "outputs": [
    {
     "data": {
      "application/vnd.microsoft.datawrangler.viewer.v0+json": {
       "columns": [
        {
         "name": "end_date",
         "rawType": "object",
         "type": "string"
        },
        {
         "name": "count",
         "rawType": "int64",
         "type": "integer"
        },
        {
         "name": "part",
         "rawType": "float64",
         "type": "float"
        }
       ],
       "conversionMethod": "pd.DataFrame",
       "ref": "b2a53da4-5c5b-43f5-aead-19aa863ba278",
       "rows": [
        [
         "No",
         "5942",
         "0.8436745704955275"
        ],
        [
         "2020-01-01",
         "39",
         "0.005537413034218373"
        ],
        [
         "2019-12-01",
         "38",
         "0.00539542808462303"
        ],
        [
         "2018-11-01",
         "35",
         "0.004969473235837001"
        ],
        [
         "2019-09-01",
         "32",
         "0.004543518387050973"
        ],
        [
         "2019-10-01",
         "31",
         "0.00440153343745563"
        ],
        [
         "2019-11-01",
         "30",
         "0.004259548487860287"
        ],
        [
         "2019-03-01",
         "28",
         "0.003975578588669601"
        ],
        [
         "2019-06-01",
         "28",
         "0.003975578588669601"
        ],
        [
         "2018-09-01",
         "28",
         "0.003975578588669601"
        ],
        [
         "2019-01-01",
         "28",
         "0.003975578588669601"
        ],
        [
         "2018-07-01",
         "27",
         "0.003833593639074258"
        ],
        [
         "2018-06-01",
         "26",
         "0.0036916086894789152"
        ],
        [
         "2017-11-01",
         "26",
         "0.0036916086894789152"
        ],
        [
         "2019-07-01",
         "25",
         "0.0035496237398835724"
        ],
        [
         "2018-12-01",
         "25",
         "0.0035496237398835724"
        ],
        [
         "2019-04-01",
         "24",
         "0.0034076387902882295"
        ],
        [
         "2018-05-01",
         "24",
         "0.0034076387902882295"
        ],
        [
         "2018-03-01",
         "24",
         "0.0034076387902882295"
        ],
        [
         "2018-08-01",
         "23",
         "0.0032656538406928867"
        ],
        [
         "2017-12-01",
         "23",
         "0.0032656538406928867"
        ],
        [
         "2017-09-01",
         "23",
         "0.0032656538406928867"
        ],
        [
         "2019-05-01",
         "23",
         "0.0032656538406928867"
        ],
        [
         "2019-08-01",
         "23",
         "0.0032656538406928867"
        ],
        [
         "2019-02-01",
         "23",
         "0.0032656538406928867"
        ],
        [
         "2017-05-01",
         "22",
         "0.003123668891097544"
        ],
        [
         "2018-10-01",
         "21",
         "0.0029816839415022006"
        ],
        [
         "2018-02-01",
         "21",
         "0.0029816839415022006"
        ],
        [
         "2017-10-01",
         "21",
         "0.0029816839415022006"
        ],
        [
         "2017-03-01",
         "20",
         "0.0028396989919068577"
        ],
        [
         "2017-07-01",
         "20",
         "0.0028396989919068577"
        ],
        [
         "2016-07-01",
         "20",
         "0.0028396989919068577"
        ],
        [
         "2017-04-01",
         "19",
         "0.002697714042311515"
        ],
        [
         "2018-04-01",
         "18",
         "0.002555729092716172"
        ],
        [
         "2017-08-01",
         "18",
         "0.002555729092716172"
        ],
        [
         "2016-10-01",
         "16",
         "0.0022717591935254864"
        ],
        [
         "2017-06-01",
         "16",
         "0.0022717591935254864"
        ],
        [
         "2017-02-01",
         "15",
         "0.0021297742439301435"
        ],
        [
         "2016-09-01",
         "14",
         "0.0019877892943348007"
        ],
        [
         "2018-01-01",
         "13",
         "0.0018458043447394576"
        ],
        [
         "2016-06-01",
         "13",
         "0.0018458043447394576"
        ],
        [
         "2016-11-01",
         "13",
         "0.0018458043447394576"
        ],
        [
         "2017-01-01",
         "12",
         "0.0017038193951441148"
        ],
        [
         "2016-12-01",
         "12",
         "0.0017038193951441148"
        ],
        [
         "2016-03-01",
         "11",
         "0.001561834445548772"
        ],
        [
         "2016-08-01",
         "11",
         "0.001561834445548772"
        ],
        [
         "2015-10-01",
         "9",
         "0.001277864546358086"
        ],
        [
         "2016-05-01",
         "9",
         "0.001277864546358086"
        ],
        [
         "2016-04-01",
         "8",
         "0.0011358795967627432"
        ],
        [
         "2015-11-01",
         "8",
         "0.0011358795967627432"
        ]
       ],
       "shape": {
        "columns": 2,
        "rows": 67
       }
      },
      "text/html": [
       "<div>\n",
       "<style scoped>\n",
       "    .dataframe tbody tr th:only-of-type {\n",
       "        vertical-align: middle;\n",
       "    }\n",
       "\n",
       "    .dataframe tbody tr th {\n",
       "        vertical-align: top;\n",
       "    }\n",
       "\n",
       "    .dataframe thead th {\n",
       "        text-align: right;\n",
       "    }\n",
       "</style>\n",
       "<table border=\"1\" class=\"dataframe\">\n",
       "  <thead>\n",
       "    <tr style=\"text-align: right;\">\n",
       "      <th></th>\n",
       "      <th>count</th>\n",
       "      <th>part</th>\n",
       "    </tr>\n",
       "    <tr>\n",
       "      <th>end_date</th>\n",
       "      <th></th>\n",
       "      <th></th>\n",
       "    </tr>\n",
       "  </thead>\n",
       "  <tbody>\n",
       "    <tr>\n",
       "      <th>No</th>\n",
       "      <td>5942</td>\n",
       "      <td>0.843675</td>\n",
       "    </tr>\n",
       "    <tr>\n",
       "      <th>2020-01-01</th>\n",
       "      <td>39</td>\n",
       "      <td>0.005537</td>\n",
       "    </tr>\n",
       "    <tr>\n",
       "      <th>2019-12-01</th>\n",
       "      <td>38</td>\n",
       "      <td>0.005395</td>\n",
       "    </tr>\n",
       "    <tr>\n",
       "      <th>2018-11-01</th>\n",
       "      <td>35</td>\n",
       "      <td>0.004969</td>\n",
       "    </tr>\n",
       "    <tr>\n",
       "      <th>2019-09-01</th>\n",
       "      <td>32</td>\n",
       "      <td>0.004544</td>\n",
       "    </tr>\n",
       "    <tr>\n",
       "      <th>...</th>\n",
       "      <td>...</td>\n",
       "      <td>...</td>\n",
       "    </tr>\n",
       "    <tr>\n",
       "      <th>2014-09-01</th>\n",
       "      <td>2</td>\n",
       "      <td>0.000284</td>\n",
       "    </tr>\n",
       "    <tr>\n",
       "      <th>2014-12-01</th>\n",
       "      <td>2</td>\n",
       "      <td>0.000284</td>\n",
       "    </tr>\n",
       "    <tr>\n",
       "      <th>2014-06-01</th>\n",
       "      <td>1</td>\n",
       "      <td>0.000142</td>\n",
       "    </tr>\n",
       "    <tr>\n",
       "      <th>2014-10-01</th>\n",
       "      <td>1</td>\n",
       "      <td>0.000142</td>\n",
       "    </tr>\n",
       "    <tr>\n",
       "      <th>2014-11-01</th>\n",
       "      <td>1</td>\n",
       "      <td>0.000142</td>\n",
       "    </tr>\n",
       "  </tbody>\n",
       "</table>\n",
       "<p>67 rows × 2 columns</p>\n",
       "</div>"
      ],
      "text/plain": [
       "            count      part\n",
       "end_date                   \n",
       "No           5942  0.843675\n",
       "2020-01-01     39  0.005537\n",
       "2019-12-01     38  0.005395\n",
       "2018-11-01     35  0.004969\n",
       "2019-09-01     32  0.004544\n",
       "...           ...       ...\n",
       "2014-09-01      2  0.000284\n",
       "2014-12-01      2  0.000284\n",
       "2014-06-01      1  0.000142\n",
       "2014-10-01      1  0.000142\n",
       "2014-11-01      1  0.000142\n",
       "\n",
       "[67 rows x 2 columns]"
      ]
     },
     "metadata": {},
     "output_type": "display_data"
    }
   ],
   "source": [
    "get_value_counts(contract['end_date'])"
   ]
  },
  {
   "cell_type": "markdown",
   "metadata": {},
   "source": [
    "Как мы видим `84%` контрактов не имеют даты окончания, что представлено значением `No`."
   ]
  },
  {
   "cell_type": "markdown",
   "metadata": {},
   "source": [
    "Посмотрим сколько дней обычно длится контракт."
   ]
  },
  {
   "cell_type": "code",
   "execution_count": 33,
   "metadata": {},
   "outputs": [
    {
     "data": {
      "application/vnd.microsoft.datawrangler.viewer.v0+json": {
       "columns": [
        {
         "name": "index",
         "rawType": "int64",
         "type": "integer"
        },
        {
         "name": "customer_id",
         "rawType": "object",
         "type": "string"
        },
        {
         "name": "begin_date",
         "rawType": "datetime64[ns]",
         "type": "datetime"
        },
        {
         "name": "end_date",
         "rawType": "object",
         "type": "string"
        },
        {
         "name": "type",
         "rawType": "object",
         "type": "string"
        },
        {
         "name": "paperless_billing",
         "rawType": "object",
         "type": "string"
        },
        {
         "name": "payment_method",
         "rawType": "object",
         "type": "string"
        },
        {
         "name": "monthly_charges",
         "rawType": "float64",
         "type": "float"
        },
        {
         "name": "total_charges",
         "rawType": "float64",
         "type": "float"
        }
       ],
       "conversionMethod": "pd.DataFrame",
       "ref": "d5c6d0e1-95a1-4188-b644-37610ec4d9e4",
       "rows": [
        [
         "9",
         "6388-TABGU",
         "2014-12-01 00:00:00",
         "2017-05-01",
         "One year",
         "No",
         "Bank transfer (automatic)",
         "56.15",
         "1628.35"
        ],
        [
         "15",
         "3655-SNQYZ",
         "2014-05-01 00:00:00",
         "2016-03-01",
         "Two year",
         "No",
         "Credit card (automatic)",
         "113.25",
         "2491.5"
        ],
        [
         "25",
         "6865-JZNKO",
         "2017-08-01 00:00:00",
         "2018-09-01",
         "Month-to-month",
         "Yes",
         "Bank transfer (automatic)",
         "55.3",
         "726.09"
        ],
        [
         "30",
         "3841-NFECX",
         "2014-03-01 00:00:00",
         "2018-11-01",
         "Two year",
         "Yes",
         "Credit card (automatic)",
         "96.35",
         "5395.6"
        ],
        [
         "35",
         "6234-RAAPL",
         "2014-02-01 00:00:00",
         "2018-12-01",
         "Two year",
         "No",
         "Bank transfer (automatic)",
         "99.9",
         "5794.2"
        ]
       ],
       "shape": {
        "columns": 8,
        "rows": 5
       }
      },
      "text/html": [
       "<div>\n",
       "<style scoped>\n",
       "    .dataframe tbody tr th:only-of-type {\n",
       "        vertical-align: middle;\n",
       "    }\n",
       "\n",
       "    .dataframe tbody tr th {\n",
       "        vertical-align: top;\n",
       "    }\n",
       "\n",
       "    .dataframe thead th {\n",
       "        text-align: right;\n",
       "    }\n",
       "</style>\n",
       "<table border=\"1\" class=\"dataframe\">\n",
       "  <thead>\n",
       "    <tr style=\"text-align: right;\">\n",
       "      <th></th>\n",
       "      <th>customer_id</th>\n",
       "      <th>begin_date</th>\n",
       "      <th>end_date</th>\n",
       "      <th>type</th>\n",
       "      <th>paperless_billing</th>\n",
       "      <th>payment_method</th>\n",
       "      <th>monthly_charges</th>\n",
       "      <th>total_charges</th>\n",
       "    </tr>\n",
       "  </thead>\n",
       "  <tbody>\n",
       "    <tr>\n",
       "      <th>9</th>\n",
       "      <td>6388-TABGU</td>\n",
       "      <td>2014-12-01</td>\n",
       "      <td>2017-05-01</td>\n",
       "      <td>One year</td>\n",
       "      <td>No</td>\n",
       "      <td>Bank transfer (automatic)</td>\n",
       "      <td>56.15</td>\n",
       "      <td>1628.35</td>\n",
       "    </tr>\n",
       "    <tr>\n",
       "      <th>15</th>\n",
       "      <td>3655-SNQYZ</td>\n",
       "      <td>2014-05-01</td>\n",
       "      <td>2016-03-01</td>\n",
       "      <td>Two year</td>\n",
       "      <td>No</td>\n",
       "      <td>Credit card (automatic)</td>\n",
       "      <td>113.25</td>\n",
       "      <td>2491.50</td>\n",
       "    </tr>\n",
       "    <tr>\n",
       "      <th>25</th>\n",
       "      <td>6865-JZNKO</td>\n",
       "      <td>2017-08-01</td>\n",
       "      <td>2018-09-01</td>\n",
       "      <td>Month-to-month</td>\n",
       "      <td>Yes</td>\n",
       "      <td>Bank transfer (automatic)</td>\n",
       "      <td>55.30</td>\n",
       "      <td>726.09</td>\n",
       "    </tr>\n",
       "    <tr>\n",
       "      <th>30</th>\n",
       "      <td>3841-NFECX</td>\n",
       "      <td>2014-03-01</td>\n",
       "      <td>2018-11-01</td>\n",
       "      <td>Two year</td>\n",
       "      <td>Yes</td>\n",
       "      <td>Credit card (automatic)</td>\n",
       "      <td>96.35</td>\n",
       "      <td>5395.60</td>\n",
       "    </tr>\n",
       "    <tr>\n",
       "      <th>35</th>\n",
       "      <td>6234-RAAPL</td>\n",
       "      <td>2014-02-01</td>\n",
       "      <td>2018-12-01</td>\n",
       "      <td>Two year</td>\n",
       "      <td>No</td>\n",
       "      <td>Bank transfer (automatic)</td>\n",
       "      <td>99.90</td>\n",
       "      <td>5794.20</td>\n",
       "    </tr>\n",
       "  </tbody>\n",
       "</table>\n",
       "</div>"
      ],
      "text/plain": [
       "   customer_id begin_date    end_date            type paperless_billing  \\\n",
       "9   6388-TABGU 2014-12-01  2017-05-01        One year                No   \n",
       "15  3655-SNQYZ 2014-05-01  2016-03-01        Two year                No   \n",
       "25  6865-JZNKO 2017-08-01  2018-09-01  Month-to-month               Yes   \n",
       "30  3841-NFECX 2014-03-01  2018-11-01        Two year               Yes   \n",
       "35  6234-RAAPL 2014-02-01  2018-12-01        Two year                No   \n",
       "\n",
       "               payment_method  monthly_charges  total_charges  \n",
       "9   Bank transfer (automatic)            56.15        1628.35  \n",
       "15    Credit card (automatic)           113.25        2491.50  \n",
       "25  Bank transfer (automatic)            55.30         726.09  \n",
       "30    Credit card (automatic)            96.35        5395.60  \n",
       "35  Bank transfer (automatic)            99.90        5794.20  "
      ]
     },
     "execution_count": 33,
     "metadata": {},
     "output_type": "execute_result"
    }
   ],
   "source": [
    "mask = contract['end_date'] != 'No'\n",
    "with_end_date = contract[mask]\n",
    "with_end_date.head()"
   ]
  },
  {
   "cell_type": "code",
   "execution_count": 34,
   "metadata": {},
   "outputs": [
    {
     "data": {
      "text/plain": [
       "median             915 days 00:00:00\n",
       "mean     924 days 20:43:48.882833792\n",
       "dtype: timedelta64[ns]"
      ]
     },
     "execution_count": 34,
     "metadata": {},
     "output_type": "execute_result"
    }
   ],
   "source": [
    "(pd.to_datetime(with_end_date['end_date']) - with_end_date['begin_date']).agg(['median', 'mean'])"
   ]
  },
  {
   "cell_type": "markdown",
   "metadata": {},
   "source": [
    "Видим, что в среднем контракт длится 2.5 года."
   ]
  },
  {
   "cell_type": "markdown",
   "metadata": {},
   "source": [
    "#### 3.6.5. <a id='toc3_6_5_'></a>Признак `type`          [&#8593;](#toc0_)"
   ]
  },
  {
   "cell_type": "code",
   "execution_count": 35,
   "metadata": {},
   "outputs": [
    {
     "data": {
      "application/vnd.microsoft.datawrangler.viewer.v0+json": {
       "columns": [
        {
         "name": "type",
         "rawType": "object",
         "type": "string"
        },
        {
         "name": "count",
         "rawType": "int64",
         "type": "integer"
        },
        {
         "name": "part",
         "rawType": "float64",
         "type": "float"
        }
       ],
       "conversionMethod": "pd.DataFrame",
       "ref": "5bdd1461-5dd8-4c12-a908-7448aed920a3",
       "rows": [
        [
         "Month-to-month",
         "3875",
         "0.5501916796819537"
        ],
        [
         "Two year",
         "1695",
         "0.24066448956410622"
        ],
        [
         "One year",
         "1473",
         "0.20914383075394008"
        ]
       ],
       "shape": {
        "columns": 2,
        "rows": 3
       }
      },
      "text/html": [
       "<div>\n",
       "<style scoped>\n",
       "    .dataframe tbody tr th:only-of-type {\n",
       "        vertical-align: middle;\n",
       "    }\n",
       "\n",
       "    .dataframe tbody tr th {\n",
       "        vertical-align: top;\n",
       "    }\n",
       "\n",
       "    .dataframe thead th {\n",
       "        text-align: right;\n",
       "    }\n",
       "</style>\n",
       "<table border=\"1\" class=\"dataframe\">\n",
       "  <thead>\n",
       "    <tr style=\"text-align: right;\">\n",
       "      <th></th>\n",
       "      <th>count</th>\n",
       "      <th>part</th>\n",
       "    </tr>\n",
       "    <tr>\n",
       "      <th>type</th>\n",
       "      <th></th>\n",
       "      <th></th>\n",
       "    </tr>\n",
       "  </thead>\n",
       "  <tbody>\n",
       "    <tr>\n",
       "      <th>Month-to-month</th>\n",
       "      <td>3875</td>\n",
       "      <td>0.550192</td>\n",
       "    </tr>\n",
       "    <tr>\n",
       "      <th>Two year</th>\n",
       "      <td>1695</td>\n",
       "      <td>0.240664</td>\n",
       "    </tr>\n",
       "    <tr>\n",
       "      <th>One year</th>\n",
       "      <td>1473</td>\n",
       "      <td>0.209144</td>\n",
       "    </tr>\n",
       "  </tbody>\n",
       "</table>\n",
       "</div>"
      ],
      "text/plain": [
       "                count      part\n",
       "type                           \n",
       "Month-to-month   3875  0.550192\n",
       "Two year         1695  0.240664\n",
       "One year         1473  0.209144"
      ]
     },
     "metadata": {},
     "output_type": "display_data"
    }
   ],
   "source": [
    "get_value_counts(contract['type'])"
   ]
  },
  {
   "cell_type": "markdown",
   "metadata": {},
   "source": [
    "Видимо три типа контрактов. Самым популярным является контракт с помесячной оплатой."
   ]
  },
  {
   "cell_type": "markdown",
   "metadata": {},
   "source": [
    "#### 3.6.6. <a id='toc3_6_6_'></a>Признак `paperless_billing`          [&#8593;](#toc0_)"
   ]
  },
  {
   "cell_type": "code",
   "execution_count": 36,
   "metadata": {},
   "outputs": [
    {
     "data": {
      "application/vnd.microsoft.datawrangler.viewer.v0+json": {
       "columns": [
        {
         "name": "paperless_billing",
         "rawType": "object",
         "type": "string"
        },
        {
         "name": "count",
         "rawType": "int64",
         "type": "integer"
        },
        {
         "name": "part",
         "rawType": "float64",
         "type": "float"
        }
       ],
       "conversionMethod": "pd.DataFrame",
       "ref": "7212262c-0ecd-482f-8411-c8fe13b07119",
       "rows": [
        [
         "Yes",
         "4171",
         "0.5922192247621753"
        ],
        [
         "No",
         "2872",
         "0.4077807752378248"
        ]
       ],
       "shape": {
        "columns": 2,
        "rows": 2
       }
      },
      "text/html": [
       "<div>\n",
       "<style scoped>\n",
       "    .dataframe tbody tr th:only-of-type {\n",
       "        vertical-align: middle;\n",
       "    }\n",
       "\n",
       "    .dataframe tbody tr th {\n",
       "        vertical-align: top;\n",
       "    }\n",
       "\n",
       "    .dataframe thead th {\n",
       "        text-align: right;\n",
       "    }\n",
       "</style>\n",
       "<table border=\"1\" class=\"dataframe\">\n",
       "  <thead>\n",
       "    <tr style=\"text-align: right;\">\n",
       "      <th></th>\n",
       "      <th>count</th>\n",
       "      <th>part</th>\n",
       "    </tr>\n",
       "    <tr>\n",
       "      <th>paperless_billing</th>\n",
       "      <th></th>\n",
       "      <th></th>\n",
       "    </tr>\n",
       "  </thead>\n",
       "  <tbody>\n",
       "    <tr>\n",
       "      <th>Yes</th>\n",
       "      <td>4171</td>\n",
       "      <td>0.592219</td>\n",
       "    </tr>\n",
       "    <tr>\n",
       "      <th>No</th>\n",
       "      <td>2872</td>\n",
       "      <td>0.407781</td>\n",
       "    </tr>\n",
       "  </tbody>\n",
       "</table>\n",
       "</div>"
      ],
      "text/plain": [
       "                   count      part\n",
       "paperless_billing                 \n",
       "Yes                 4171  0.592219\n",
       "No                  2872  0.407781"
      ]
     },
     "metadata": {},
     "output_type": "display_data"
    }
   ],
   "source": [
    "get_value_counts(contract['paperless_billing'])"
   ]
  },
  {
   "cell_type": "markdown",
   "metadata": {},
   "source": [
    "Данный признак является бинарным. Удобнее будет сразу перевести его в численный формат."
   ]
  },
  {
   "cell_type": "code",
   "execution_count": 37,
   "metadata": {},
   "outputs": [],
   "source": [
    "contract['paperless_billing'] = (contract['paperless_billing'] == 'Yes').astype('int')"
   ]
  },
  {
   "cell_type": "code",
   "execution_count": 38,
   "metadata": {},
   "outputs": [
    {
     "data": {
      "application/vnd.microsoft.datawrangler.viewer.v0+json": {
       "columns": [
        {
         "name": "paperless_billing",
         "rawType": "int64",
         "type": "integer"
        },
        {
         "name": "count",
         "rawType": "int64",
         "type": "integer"
        },
        {
         "name": "part",
         "rawType": "float64",
         "type": "float"
        }
       ],
       "conversionMethod": "pd.DataFrame",
       "ref": "57f995a1-c814-4cf0-ba10-e88e8254a3ee",
       "rows": [
        [
         "1",
         "4171",
         "0.5922192247621753"
        ],
        [
         "0",
         "2872",
         "0.4077807752378248"
        ]
       ],
       "shape": {
        "columns": 2,
        "rows": 2
       }
      },
      "text/html": [
       "<div>\n",
       "<style scoped>\n",
       "    .dataframe tbody tr th:only-of-type {\n",
       "        vertical-align: middle;\n",
       "    }\n",
       "\n",
       "    .dataframe tbody tr th {\n",
       "        vertical-align: top;\n",
       "    }\n",
       "\n",
       "    .dataframe thead th {\n",
       "        text-align: right;\n",
       "    }\n",
       "</style>\n",
       "<table border=\"1\" class=\"dataframe\">\n",
       "  <thead>\n",
       "    <tr style=\"text-align: right;\">\n",
       "      <th></th>\n",
       "      <th>count</th>\n",
       "      <th>part</th>\n",
       "    </tr>\n",
       "    <tr>\n",
       "      <th>paperless_billing</th>\n",
       "      <th></th>\n",
       "      <th></th>\n",
       "    </tr>\n",
       "  </thead>\n",
       "  <tbody>\n",
       "    <tr>\n",
       "      <th>1</th>\n",
       "      <td>4171</td>\n",
       "      <td>0.592219</td>\n",
       "    </tr>\n",
       "    <tr>\n",
       "      <th>0</th>\n",
       "      <td>2872</td>\n",
       "      <td>0.407781</td>\n",
       "    </tr>\n",
       "  </tbody>\n",
       "</table>\n",
       "</div>"
      ],
      "text/plain": [
       "                   count      part\n",
       "paperless_billing                 \n",
       "1                   4171  0.592219\n",
       "0                   2872  0.407781"
      ]
     },
     "metadata": {},
     "output_type": "display_data"
    }
   ],
   "source": [
    "get_value_counts(contract['paperless_billing'])"
   ]
  },
  {
   "cell_type": "markdown",
   "metadata": {},
   "source": [
    "Кодирование прошло успешно."
   ]
  },
  {
   "cell_type": "markdown",
   "metadata": {},
   "source": [
    "#### 3.6.7. <a id='toc3_6_7_'></a>Признак `payment_method`          [&#8593;](#toc0_)"
   ]
  },
  {
   "cell_type": "code",
   "execution_count": 39,
   "metadata": {},
   "outputs": [
    {
     "data": {
      "application/vnd.microsoft.datawrangler.viewer.v0+json": {
       "columns": [
        {
         "name": "payment_method",
         "rawType": "object",
         "type": "string"
        },
        {
         "name": "count",
         "rawType": "int64",
         "type": "integer"
        },
        {
         "name": "part",
         "rawType": "float64",
         "type": "float"
        }
       ],
       "conversionMethod": "pd.DataFrame",
       "ref": "eeaf20c7-97a6-49c9-9d9c-98a253e959ee",
       "rows": [
        [
         "Electronic check",
         "2365",
         "0.3357944057929859"
        ],
        [
         "Mailed check",
         "1612",
         "0.22887973874769274"
        ],
        [
         "Bank transfer (automatic)",
         "1544",
         "0.21922476217520942"
        ],
        [
         "Credit card (automatic)",
         "1522",
         "0.2161010932841119"
        ]
       ],
       "shape": {
        "columns": 2,
        "rows": 4
       }
      },
      "text/html": [
       "<div>\n",
       "<style scoped>\n",
       "    .dataframe tbody tr th:only-of-type {\n",
       "        vertical-align: middle;\n",
       "    }\n",
       "\n",
       "    .dataframe tbody tr th {\n",
       "        vertical-align: top;\n",
       "    }\n",
       "\n",
       "    .dataframe thead th {\n",
       "        text-align: right;\n",
       "    }\n",
       "</style>\n",
       "<table border=\"1\" class=\"dataframe\">\n",
       "  <thead>\n",
       "    <tr style=\"text-align: right;\">\n",
       "      <th></th>\n",
       "      <th>count</th>\n",
       "      <th>part</th>\n",
       "    </tr>\n",
       "    <tr>\n",
       "      <th>payment_method</th>\n",
       "      <th></th>\n",
       "      <th></th>\n",
       "    </tr>\n",
       "  </thead>\n",
       "  <tbody>\n",
       "    <tr>\n",
       "      <th>Electronic check</th>\n",
       "      <td>2365</td>\n",
       "      <td>0.335794</td>\n",
       "    </tr>\n",
       "    <tr>\n",
       "      <th>Mailed check</th>\n",
       "      <td>1612</td>\n",
       "      <td>0.228880</td>\n",
       "    </tr>\n",
       "    <tr>\n",
       "      <th>Bank transfer (automatic)</th>\n",
       "      <td>1544</td>\n",
       "      <td>0.219225</td>\n",
       "    </tr>\n",
       "    <tr>\n",
       "      <th>Credit card (automatic)</th>\n",
       "      <td>1522</td>\n",
       "      <td>0.216101</td>\n",
       "    </tr>\n",
       "  </tbody>\n",
       "</table>\n",
       "</div>"
      ],
      "text/plain": [
       "                           count      part\n",
       "payment_method                            \n",
       "Electronic check            2365  0.335794\n",
       "Mailed check                1612  0.228880\n",
       "Bank transfer (automatic)   1544  0.219225\n",
       "Credit card (automatic)     1522  0.216101"
      ]
     },
     "metadata": {},
     "output_type": "display_data"
    }
   ],
   "source": [
    "get_value_counts(contract['payment_method'])"
   ]
  },
  {
   "cell_type": "markdown",
   "metadata": {},
   "source": [
    "#### 3.6.8. <a id='toc3_6_8_'></a>Признак `monthly_charges`          [&#8593;](#toc0_)"
   ]
  },
  {
   "cell_type": "code",
   "execution_count": 40,
   "metadata": {},
   "outputs": [
    {
     "data": {
      "text/plain": [
       "count    7043.000000\n",
       "mean       64.761692\n",
       "std        30.090047\n",
       "min        18.250000\n",
       "25%        35.500000\n",
       "50%        70.350000\n",
       "75%        89.850000\n",
       "max       118.750000\n",
       "Name: monthly_charges, dtype: float64"
      ]
     },
     "execution_count": 40,
     "metadata": {},
     "output_type": "execute_result"
    }
   ],
   "source": [
    "contract['monthly_charges'].describe()"
   ]
  },
  {
   "cell_type": "code",
   "execution_count": 41,
   "metadata": {},
   "outputs": [
    {
     "data": {
      "image/png": "[encoded data removed]",
      "text/plain": [
       "<Figure size 1200x1000 with 4 Axes>"
      ]
     },
     "metadata": {},
     "output_type": "display_data"
    }
   ],
   "source": [
    "draw_plots_about_column(contract, 'monthly_charges')"
   ]
  },
  {
   "cell_type": "markdown",
   "metadata": {},
   "source": [
    "Все значения выглядят адекватно. Нет выбросов и/или аномалий."
   ]
  },
  {
   "cell_type": "markdown",
   "metadata": {},
   "source": [
    "#### 3.6.9. <a id='toc3_6_9_'></a>Признак `total_charges`          [&#8593;](#toc0_)"
   ]
  },
  {
   "cell_type": "code",
   "execution_count": 42,
   "metadata": {},
   "outputs": [
    {
     "data": {
      "text/plain": [
       "count    7043.000000\n",
       "mean     2115.312885\n",
       "std      2112.742814\n",
       "min         0.000000\n",
       "25%       436.750000\n",
       "50%      1343.350000\n",
       "75%      3236.690000\n",
       "max      9221.380000\n",
       "Name: total_charges, dtype: float64"
      ]
     },
     "execution_count": 42,
     "metadata": {},
     "output_type": "execute_result"
    }
   ],
   "source": [
    "contract['total_charges'].describe()"
   ]
  },
  {
   "cell_type": "code",
   "execution_count": 43,
   "metadata": {},
   "outputs": [
    {
     "data": {
      "image/png": "[encoded data removed]",
      "text/plain": [
       "<Figure size 1200x1000 with 4 Axes>"
      ]
     },
     "metadata": {},
     "output_type": "display_data"
    }
   ],
   "source": [
    "draw_plots_about_column(contract, 'total_charges')"
   ]
  },
  {
   "cell_type": "markdown",
   "metadata": {},
   "source": [
    "В основном, суммарное значение небольшое (медиана - `1343$`). По гистограмме начала контракта, мы видели, что огромный прирост был в 2019 году, то есть прошло около года (а то и пара месяцев) с момента, когда пришло много новых клиентов. Поэтому данное распределение суммарных платежей выглядит логично."
   ]
  },
  {
   "cell_type": "markdown",
   "metadata": {},
   "source": [
    "### 3.7. <a id='toc3_7_'></a>Выводы по датасету          [&#8593;](#toc0_)"
   ]
  },
  {
   "cell_type": "markdown",
   "metadata": {},
   "source": [
    "Датасет `contract` содержит информацию о договорах клиентов. Датасет не содержит полных дубликатов и пропусков. Наименования признаков изначально не соответствовали PEP8 и были приведены к snake_case.\n",
    "\n",
    "Также были замечены следующие факты:\n",
    "- Признак `customer_id` содержит уникальные значения и будет использован при объединении таблиц.\n",
    "- Бóльшая часть контрактов (84%) не имеет даты конца контракта (то есть они еще действующие). А вот те, что уже закончились, были активны в среднем 2.5 года.\n",
    "- Чуть больше половины (55%) пользователей предпочитает ежемесячную подписку.\n"
   ]
  },
  {
   "cell_type": "markdown",
   "metadata": {},
   "source": [
    "## 4. <a id='toc4_'></a>Датасет `personal_new.csv`          [&#8593;](#toc0_)"
   ]
  },
  {
   "cell_type": "markdown",
   "metadata": {},
   "source": [
    "### 4.1. <a id='toc4_1_'></a>Загрузка          [&#8593;](#toc0_)"
   ]
  },
  {
   "cell_type": "code",
   "execution_count": 44,
   "metadata": {},
   "outputs": [
    {
     "data": {
      "application/vnd.microsoft.datawrangler.viewer.v0+json": {
       "columns": [
        {
         "name": "index",
         "rawType": "int64",
         "type": "integer"
        },
        {
         "name": "customerID",
         "rawType": "object",
         "type": "string"
        },
        {
         "name": "gender",
         "rawType": "object",
         "type": "string"
        },
        {
         "name": "SeniorCitizen",
         "rawType": "object",
         "type": "string"
        },
        {
         "name": "Partner",
         "rawType": "object",
         "type": "string"
        },
        {
         "name": "Dependents",
         "rawType": "object",
         "type": "string"
        }
       ],
       "conversionMethod": "pd.DataFrame",
       "ref": "972a98c5-dbb4-40d3-92e3-e10ff277795f",
       "rows": [
        [
         "0",
         "7590-VHVEG",
         "Female",
         "0",
         "Yes",
         "No"
        ],
        [
         "1",
         "5575-GNVDE",
         "Male",
         "0",
         "No",
         "No"
        ],
        [
         "2",
         "3668-QPYBK",
         "Male",
         "0",
         "No",
         "No"
        ],
        [
         "3",
         "7795-CFOCW",
         "Male",
         "0",
         "No",
         "No"
        ],
        [
         "4",
         "9237-HQITU",
         "Female",
         "0",
         "No",
         "No"
        ]
       ],
       "shape": {
        "columns": 5,
        "rows": 5
       }
      },
      "text/html": [
       "<div>\n",
       "<style scoped>\n",
       "    .dataframe tbody tr th:only-of-type {\n",
       "        vertical-align: middle;\n",
       "    }\n",
       "\n",
       "    .dataframe tbody tr th {\n",
       "        vertical-align: top;\n",
       "    }\n",
       "\n",
       "    .dataframe thead th {\n",
       "        text-align: right;\n",
       "    }\n",
       "</style>\n",
       "<table border=\"1\" class=\"dataframe\">\n",
       "  <thead>\n",
       "    <tr style=\"text-align: right;\">\n",
       "      <th></th>\n",
       "      <th>customerID</th>\n",
       "      <th>gender</th>\n",
       "      <th>SeniorCitizen</th>\n",
       "      <th>Partner</th>\n",
       "      <th>Dependents</th>\n",
       "    </tr>\n",
       "  </thead>\n",
       "  <tbody>\n",
       "    <tr>\n",
       "      <th>0</th>\n",
       "      <td>7590-VHVEG</td>\n",
       "      <td>Female</td>\n",
       "      <td>0</td>\n",
       "      <td>Yes</td>\n",
       "      <td>No</td>\n",
       "    </tr>\n",
       "    <tr>\n",
       "      <th>1</th>\n",
       "      <td>5575-GNVDE</td>\n",
       "      <td>Male</td>\n",
       "      <td>0</td>\n",
       "      <td>No</td>\n",
       "      <td>No</td>\n",
       "    </tr>\n",
       "    <tr>\n",
       "      <th>2</th>\n",
       "      <td>3668-QPYBK</td>\n",
       "      <td>Male</td>\n",
       "      <td>0</td>\n",
       "      <td>No</td>\n",
       "      <td>No</td>\n",
       "    </tr>\n",
       "    <tr>\n",
       "      <th>3</th>\n",
       "      <td>7795-CFOCW</td>\n",
       "      <td>Male</td>\n",
       "      <td>0</td>\n",
       "      <td>No</td>\n",
       "      <td>No</td>\n",
       "    </tr>\n",
       "    <tr>\n",
       "      <th>4</th>\n",
       "      <td>9237-HQITU</td>\n",
       "      <td>Female</td>\n",
       "      <td>0</td>\n",
       "      <td>No</td>\n",
       "      <td>No</td>\n",
       "    </tr>\n",
       "  </tbody>\n",
       "</table>\n",
       "</div>"
      ],
      "text/plain": [
       "   customerID  gender SeniorCitizen Partner Dependents\n",
       "0  7590-VHVEG  Female             0     Yes         No\n",
       "1  5575-GNVDE    Male             0      No         No\n",
       "2  3668-QPYBK    Male             0      No         No\n",
       "3  7795-CFOCW    Male             0      No         No\n",
       "4  9237-HQITU  Female             0      No         No"
      ]
     },
     "execution_count": 44,
     "metadata": {},
     "output_type": "execute_result"
    }
   ],
   "source": [
    "personal = pd.read_sql('SELECT * FROM personal', con)\n",
    "personal.head()"
   ]
  },
  {
   "cell_type": "markdown",
   "metadata": {},
   "source": [
    "### 4.2. <a id='toc4_2_'></a>Переименование признаков          [&#8593;](#toc0_)"
   ]
  },
  {
   "cell_type": "markdown",
   "metadata": {},
   "source": [
    "Видим, что названия признаков вновь не соотвествуют PEP8."
   ]
  },
  {
   "cell_type": "code",
   "execution_count": 45,
   "metadata": {},
   "outputs": [
    {
     "data": {
      "text/plain": [
       "Index(['customer_id', 'gender', 'senior_citizen', 'partner', 'dependents'], dtype='object')"
      ]
     },
     "execution_count": 45,
     "metadata": {},
     "output_type": "execute_result"
    }
   ],
   "source": [
    "personal.columns = [camel_to_snake(c) for c in personal.columns]\n",
    "personal.columns"
   ]
  },
  {
   "cell_type": "markdown",
   "metadata": {},
   "source": [
    "### 4.3. <a id='toc4_3_'></a>Проверка типов данных          [&#8593;](#toc0_)"
   ]
  },
  {
   "cell_type": "code",
   "execution_count": 46,
   "metadata": {},
   "outputs": [
    {
     "name": "stdout",
     "output_type": "stream",
     "text": [
      "<class 'pandas.core.frame.DataFrame'>\n",
      "RangeIndex: 7043 entries, 0 to 7042\n",
      "Data columns (total 5 columns):\n",
      " #   Column          Non-Null Count  Dtype \n",
      "---  ------          --------------  ----- \n",
      " 0   customer_id     7043 non-null   object\n",
      " 1   gender          7043 non-null   object\n",
      " 2   senior_citizen  7043 non-null   object\n",
      " 3   partner         7043 non-null   object\n",
      " 4   dependents      7043 non-null   object\n",
      "dtypes: object(5)\n",
      "memory usage: 275.2+ KB\n"
     ]
    }
   ],
   "source": [
    "personal.info()"
   ]
  },
  {
   "cell_type": "markdown",
   "metadata": {},
   "source": [
    "По-умолчанию все типы данных ожидаемо `object`. Что в данном случае почти совпадает с ожидаемым результатом. Произведем преобразования единственного столбца с числовым типом данных."
   ]
  },
  {
   "cell_type": "code",
   "execution_count": 47,
   "metadata": {},
   "outputs": [],
   "source": [
    "personal['senior_citizen'] = pd.to_numeric(personal['senior_citizen'])"
   ]
  },
  {
   "cell_type": "code",
   "execution_count": 48,
   "metadata": {},
   "outputs": [
    {
     "name": "stdout",
     "output_type": "stream",
     "text": [
      "<class 'pandas.core.frame.DataFrame'>\n",
      "RangeIndex: 7043 entries, 0 to 7042\n",
      "Data columns (total 5 columns):\n",
      " #   Column          Non-Null Count  Dtype \n",
      "---  ------          --------------  ----- \n",
      " 0   customer_id     7043 non-null   object\n",
      " 1   gender          7043 non-null   object\n",
      " 2   senior_citizen  7043 non-null   int64 \n",
      " 3   partner         7043 non-null   object\n",
      " 4   dependents      7043 non-null   object\n",
      "dtypes: int64(1), object(4)\n",
      "memory usage: 275.2+ KB\n"
     ]
    }
   ],
   "source": [
    "personal.info()"
   ]
  },
  {
   "cell_type": "markdown",
   "metadata": {},
   "source": [
    "### 4.4. <a id='toc4_4_'></a>Проверка полных дубликатов          [&#8593;](#toc0_)"
   ]
  },
  {
   "cell_type": "code",
   "execution_count": 49,
   "metadata": {},
   "outputs": [
    {
     "name": "stdout",
     "output_type": "stream",
     "text": [
      "\u001b[32mПолных дубликатов не обнаружено.\u001b[0m\n"
     ]
    }
   ],
   "source": [
    "check_duplicates(personal)"
   ]
  },
  {
   "cell_type": "markdown",
   "metadata": {},
   "source": [
    "### 4.5. <a id='toc4_5_'></a>Проверка пропусков          [&#8593;](#toc0_)"
   ]
  },
  {
   "cell_type": "code",
   "execution_count": 50,
   "metadata": {},
   "outputs": [
    {
     "name": "stdout",
     "output_type": "stream",
     "text": [
      "\u001b[32mПропусков не обнаружено.\u001b[0m\n"
     ]
    }
   ],
   "source": [
    "check_nans(personal)"
   ]
  },
  {
   "cell_type": "markdown",
   "metadata": {},
   "source": [
    "### 4.6. <a id='toc4_6_'></a>Изучение признаков          [&#8593;](#toc0_)"
   ]
  },
  {
   "cell_type": "markdown",
   "metadata": {},
   "source": [
    "#### 4.6.1. <a id='toc4_6_1_'></a>Описание          [&#8593;](#toc0_)"
   ]
  },
  {
   "cell_type": "markdown",
   "metadata": {},
   "source": [
    "|     Признак    | Описание                              |\n",
    "|:--------------:|---------------------------------------|\n",
    "| customer_id    | идентификатор пользователя            |\n",
    "| gender         | пол                                   |\n",
    "| senior_сitizen | является ли абонент пенсионером       |\n",
    "| partner        | есть ли у абонента супруг или супруга |\n",
    "| dependents     | есть ли у абонента дети               |"
   ]
  },
  {
   "cell_type": "markdown",
   "metadata": {},
   "source": [
    "#### 4.6.2. <a id='toc4_6_2_'></a>Признак `customer_id`          [&#8593;](#toc0_)"
   ]
  },
  {
   "cell_type": "code",
   "execution_count": 51,
   "metadata": {},
   "outputs": [
    {
     "data": {
      "text/plain": [
       "(7043, 7043)"
      ]
     },
     "execution_count": 51,
     "metadata": {},
     "output_type": "execute_result"
    }
   ],
   "source": [
    "personal['customer_id'].nunique(), len(personal)"
   ]
  },
  {
   "cell_type": "markdown",
   "metadata": {},
   "source": [
    "Все `customer_id` вновь уникальны."
   ]
  },
  {
   "cell_type": "markdown",
   "metadata": {},
   "source": [
    "#### 4.6.3. <a id='toc4_6_3_'></a>Признак `gender`          [&#8593;](#toc0_)"
   ]
  },
  {
   "cell_type": "code",
   "execution_count": 52,
   "metadata": {},
   "outputs": [
    {
     "data": {
      "application/vnd.microsoft.datawrangler.viewer.v0+json": {
       "columns": [
        {
         "name": "gender",
         "rawType": "object",
         "type": "string"
        },
        {
         "name": "count",
         "rawType": "int64",
         "type": "integer"
        },
        {
         "name": "part",
         "rawType": "float64",
         "type": "float"
        }
       ],
       "conversionMethod": "pd.DataFrame",
       "ref": "de30f43a-3eba-4302-ae7d-b16c63f1e32b",
       "rows": [
        [
         "Male",
         "3555",
         "0.504756495811444"
        ],
        [
         "Female",
         "3488",
         "0.495243504188556"
        ]
       ],
       "shape": {
        "columns": 2,
        "rows": 2
       }
      },
      "text/html": [
       "<div>\n",
       "<style scoped>\n",
       "    .dataframe tbody tr th:only-of-type {\n",
       "        vertical-align: middle;\n",
       "    }\n",
       "\n",
       "    .dataframe tbody tr th {\n",
       "        vertical-align: top;\n",
       "    }\n",
       "\n",
       "    .dataframe thead th {\n",
       "        text-align: right;\n",
       "    }\n",
       "</style>\n",
       "<table border=\"1\" class=\"dataframe\">\n",
       "  <thead>\n",
       "    <tr style=\"text-align: right;\">\n",
       "      <th></th>\n",
       "      <th>count</th>\n",
       "      <th>part</th>\n",
       "    </tr>\n",
       "    <tr>\n",
       "      <th>gender</th>\n",
       "      <th></th>\n",
       "      <th></th>\n",
       "    </tr>\n",
       "  </thead>\n",
       "  <tbody>\n",
       "    <tr>\n",
       "      <th>Male</th>\n",
       "      <td>3555</td>\n",
       "      <td>0.504756</td>\n",
       "    </tr>\n",
       "    <tr>\n",
       "      <th>Female</th>\n",
       "      <td>3488</td>\n",
       "      <td>0.495244</td>\n",
       "    </tr>\n",
       "  </tbody>\n",
       "</table>\n",
       "</div>"
      ],
      "text/plain": [
       "        count      part\n",
       "gender                 \n",
       "Male     3555  0.504756\n",
       "Female   3488  0.495244"
      ]
     },
     "metadata": {},
     "output_type": "display_data"
    }
   ],
   "source": [
    "get_value_counts(personal['gender'])"
   ]
  },
  {
   "cell_type": "markdown",
   "metadata": {},
   "source": [
    "Распределение почти равномерное. Для удобства сразу же переведем в числовой формат."
   ]
  },
  {
   "cell_type": "code",
   "execution_count": 53,
   "metadata": {},
   "outputs": [],
   "source": [
    "personal['gender'] = (personal['gender'] == 'Male').astype('int')"
   ]
  },
  {
   "cell_type": "code",
   "execution_count": 54,
   "metadata": {},
   "outputs": [
    {
     "data": {
      "application/vnd.microsoft.datawrangler.viewer.v0+json": {
       "columns": [
        {
         "name": "gender",
         "rawType": "int64",
         "type": "integer"
        },
        {
         "name": "count",
         "rawType": "int64",
         "type": "integer"
        },
        {
         "name": "part",
         "rawType": "float64",
         "type": "float"
        }
       ],
       "conversionMethod": "pd.DataFrame",
       "ref": "9d53f649-4a41-40f1-9af1-fd8d6ae09b4e",
       "rows": [
        [
         "1",
         "3555",
         "0.504756495811444"
        ],
        [
         "0",
         "3488",
         "0.495243504188556"
        ]
       ],
       "shape": {
        "columns": 2,
        "rows": 2
       }
      },
      "text/html": [
       "<div>\n",
       "<style scoped>\n",
       "    .dataframe tbody tr th:only-of-type {\n",
       "        vertical-align: middle;\n",
       "    }\n",
       "\n",
       "    .dataframe tbody tr th {\n",
       "        vertical-align: top;\n",
       "    }\n",
       "\n",
       "    .dataframe thead th {\n",
       "        text-align: right;\n",
       "    }\n",
       "</style>\n",
       "<table border=\"1\" class=\"dataframe\">\n",
       "  <thead>\n",
       "    <tr style=\"text-align: right;\">\n",
       "      <th></th>\n",
       "      <th>count</th>\n",
       "      <th>part</th>\n",
       "    </tr>\n",
       "    <tr>\n",
       "      <th>gender</th>\n",
       "      <th></th>\n",
       "      <th></th>\n",
       "    </tr>\n",
       "  </thead>\n",
       "  <tbody>\n",
       "    <tr>\n",
       "      <th>1</th>\n",
       "      <td>3555</td>\n",
       "      <td>0.504756</td>\n",
       "    </tr>\n",
       "    <tr>\n",
       "      <th>0</th>\n",
       "      <td>3488</td>\n",
       "      <td>0.495244</td>\n",
       "    </tr>\n",
       "  </tbody>\n",
       "</table>\n",
       "</div>"
      ],
      "text/plain": [
       "        count      part\n",
       "gender                 \n",
       "1        3555  0.504756\n",
       "0        3488  0.495244"
      ]
     },
     "metadata": {},
     "output_type": "display_data"
    }
   ],
   "source": [
    "get_value_counts(personal['gender'])"
   ]
  },
  {
   "cell_type": "markdown",
   "metadata": {},
   "source": [
    "Кодирование прошло успешно."
   ]
  },
  {
   "cell_type": "markdown",
   "metadata": {},
   "source": [
    "#### 4.6.4. <a id='toc4_6_4_'></a>Признак `senior_citizen`          [&#8593;](#toc0_)"
   ]
  },
  {
   "cell_type": "code",
   "execution_count": 55,
   "metadata": {},
   "outputs": [
    {
     "data": {
      "application/vnd.microsoft.datawrangler.viewer.v0+json": {
       "columns": [
        {
         "name": "senior_citizen",
         "rawType": "int64",
         "type": "integer"
        },
        {
         "name": "count",
         "rawType": "int64",
         "type": "integer"
        },
        {
         "name": "part",
         "rawType": "float64",
         "type": "float"
        }
       ],
       "conversionMethod": "pd.DataFrame",
       "ref": "c136d6df-78fd-4fdc-8b42-0c57b3978059",
       "rows": [
        [
         "0",
         "5901",
         "0.8378531875621185"
        ],
        [
         "1",
         "1142",
         "0.1621468124378816"
        ]
       ],
       "shape": {
        "columns": 2,
        "rows": 2
       }
      },
      "text/html": [
       "<div>\n",
       "<style scoped>\n",
       "    .dataframe tbody tr th:only-of-type {\n",
       "        vertical-align: middle;\n",
       "    }\n",
       "\n",
       "    .dataframe tbody tr th {\n",
       "        vertical-align: top;\n",
       "    }\n",
       "\n",
       "    .dataframe thead th {\n",
       "        text-align: right;\n",
       "    }\n",
       "</style>\n",
       "<table border=\"1\" class=\"dataframe\">\n",
       "  <thead>\n",
       "    <tr style=\"text-align: right;\">\n",
       "      <th></th>\n",
       "      <th>count</th>\n",
       "      <th>part</th>\n",
       "    </tr>\n",
       "    <tr>\n",
       "      <th>senior_citizen</th>\n",
       "      <th></th>\n",
       "      <th></th>\n",
       "    </tr>\n",
       "  </thead>\n",
       "  <tbody>\n",
       "    <tr>\n",
       "      <th>0</th>\n",
       "      <td>5901</td>\n",
       "      <td>0.837853</td>\n",
       "    </tr>\n",
       "    <tr>\n",
       "      <th>1</th>\n",
       "      <td>1142</td>\n",
       "      <td>0.162147</td>\n",
       "    </tr>\n",
       "  </tbody>\n",
       "</table>\n",
       "</div>"
      ],
      "text/plain": [
       "                count      part\n",
       "senior_citizen                 \n",
       "0                5901  0.837853\n",
       "1                1142  0.162147"
      ]
     },
     "metadata": {},
     "output_type": "display_data"
    }
   ],
   "source": [
    "get_value_counts(personal['senior_citizen'])"
   ]
  },
  {
   "cell_type": "markdown",
   "metadata": {},
   "source": [
    "Признак логический и уже закодирован в числах. Видимо, что бóльшая часть клиентов (`84%`) не относится к категории пенсионеров."
   ]
  },
  {
   "cell_type": "markdown",
   "metadata": {},
   "source": [
    "#### 4.6.5. <a id='toc4_6_5_'></a>Признак `partner`          [&#8593;](#toc0_)"
   ]
  },
  {
   "cell_type": "code",
   "execution_count": 56,
   "metadata": {},
   "outputs": [
    {
     "data": {
      "application/vnd.microsoft.datawrangler.viewer.v0+json": {
       "columns": [
        {
         "name": "partner",
         "rawType": "object",
         "type": "string"
        },
        {
         "name": "count",
         "rawType": "int64",
         "type": "integer"
        },
        {
         "name": "part",
         "rawType": "float64",
         "type": "float"
        }
       ],
       "conversionMethod": "pd.DataFrame",
       "ref": "a6f66c82-2260-416c-81db-feaf67063f47",
       "rows": [
        [
         "No",
         "3641",
         "0.5169672014766434"
        ],
        [
         "Yes",
         "3402",
         "0.4830327985233565"
        ]
       ],
       "shape": {
        "columns": 2,
        "rows": 2
       }
      },
      "text/html": [
       "<div>\n",
       "<style scoped>\n",
       "    .dataframe tbody tr th:only-of-type {\n",
       "        vertical-align: middle;\n",
       "    }\n",
       "\n",
       "    .dataframe tbody tr th {\n",
       "        vertical-align: top;\n",
       "    }\n",
       "\n",
       "    .dataframe thead th {\n",
       "        text-align: right;\n",
       "    }\n",
       "</style>\n",
       "<table border=\"1\" class=\"dataframe\">\n",
       "  <thead>\n",
       "    <tr style=\"text-align: right;\">\n",
       "      <th></th>\n",
       "      <th>count</th>\n",
       "      <th>part</th>\n",
       "    </tr>\n",
       "    <tr>\n",
       "      <th>partner</th>\n",
       "      <th></th>\n",
       "      <th></th>\n",
       "    </tr>\n",
       "  </thead>\n",
       "  <tbody>\n",
       "    <tr>\n",
       "      <th>No</th>\n",
       "      <td>3641</td>\n",
       "      <td>0.516967</td>\n",
       "    </tr>\n",
       "    <tr>\n",
       "      <th>Yes</th>\n",
       "      <td>3402</td>\n",
       "      <td>0.483033</td>\n",
       "    </tr>\n",
       "  </tbody>\n",
       "</table>\n",
       "</div>"
      ],
      "text/plain": [
       "         count      part\n",
       "partner                 \n",
       "No        3641  0.516967\n",
       "Yes       3402  0.483033"
      ]
     },
     "metadata": {},
     "output_type": "display_data"
    }
   ],
   "source": [
    "get_value_counts(personal['partner'])"
   ]
  },
  {
   "cell_type": "markdown",
   "metadata": {},
   "source": [
    "Признак тоже логический, но значения представлены строками. Закодируем числами."
   ]
  },
  {
   "cell_type": "code",
   "execution_count": 57,
   "metadata": {},
   "outputs": [],
   "source": [
    "personal['partner'] = (personal['partner'] == 'Yes').astype('int')"
   ]
  },
  {
   "cell_type": "code",
   "execution_count": 58,
   "metadata": {},
   "outputs": [
    {
     "data": {
      "application/vnd.microsoft.datawrangler.viewer.v0+json": {
       "columns": [
        {
         "name": "partner",
         "rawType": "int64",
         "type": "integer"
        },
        {
         "name": "count",
         "rawType": "int64",
         "type": "integer"
        },
        {
         "name": "part",
         "rawType": "float64",
         "type": "float"
        }
       ],
       "conversionMethod": "pd.DataFrame",
       "ref": "f4d567e7-66f4-4497-bec6-217039cc5837",
       "rows": [
        [
         "0",
         "3641",
         "0.5169672014766434"
        ],
        [
         "1",
         "3402",
         "0.4830327985233565"
        ]
       ],
       "shape": {
        "columns": 2,
        "rows": 2
       }
      },
      "text/html": [
       "<div>\n",
       "<style scoped>\n",
       "    .dataframe tbody tr th:only-of-type {\n",
       "        vertical-align: middle;\n",
       "    }\n",
       "\n",
       "    .dataframe tbody tr th {\n",
       "        vertical-align: top;\n",
       "    }\n",
       "\n",
       "    .dataframe thead th {\n",
       "        text-align: right;\n",
       "    }\n",
       "</style>\n",
       "<table border=\"1\" class=\"dataframe\">\n",
       "  <thead>\n",
       "    <tr style=\"text-align: right;\">\n",
       "      <th></th>\n",
       "      <th>count</th>\n",
       "      <th>part</th>\n",
       "    </tr>\n",
       "    <tr>\n",
       "      <th>partner</th>\n",
       "      <th></th>\n",
       "      <th></th>\n",
       "    </tr>\n",
       "  </thead>\n",
       "  <tbody>\n",
       "    <tr>\n",
       "      <th>0</th>\n",
       "      <td>3641</td>\n",
       "      <td>0.516967</td>\n",
       "    </tr>\n",
       "    <tr>\n",
       "      <th>1</th>\n",
       "      <td>3402</td>\n",
       "      <td>0.483033</td>\n",
       "    </tr>\n",
       "  </tbody>\n",
       "</table>\n",
       "</div>"
      ],
      "text/plain": [
       "         count      part\n",
       "partner                 \n",
       "0         3641  0.516967\n",
       "1         3402  0.483033"
      ]
     },
     "metadata": {},
     "output_type": "display_data"
    }
   ],
   "source": [
    "get_value_counts(personal['partner'])"
   ]
  },
  {
   "cell_type": "markdown",
   "metadata": {},
   "source": [
    "Кодирование прошло успешно."
   ]
  },
  {
   "cell_type": "markdown",
   "metadata": {},
   "source": [
    "#### 4.6.6. <a id='toc4_6_6_'></a>Признак `dependents`          [&#8593;](#toc0_)"
   ]
  },
  {
   "cell_type": "code",
   "execution_count": 59,
   "metadata": {},
   "outputs": [
    {
     "data": {
      "application/vnd.microsoft.datawrangler.viewer.v0+json": {
       "columns": [
        {
         "name": "dependents",
         "rawType": "object",
         "type": "string"
        },
        {
         "name": "count",
         "rawType": "int64",
         "type": "integer"
        },
        {
         "name": "part",
         "rawType": "float64",
         "type": "float"
        }
       ],
       "conversionMethod": "pd.DataFrame",
       "ref": "5231dd2a-d0d5-425d-8db6-89403e65f02f",
       "rows": [
        [
         "No",
         "4933",
         "0.7004117563538265"
        ],
        [
         "Yes",
         "2110",
         "0.2995882436461735"
        ]
       ],
       "shape": {
        "columns": 2,
        "rows": 2
       }
      },
      "text/html": [
       "<div>\n",
       "<style scoped>\n",
       "    .dataframe tbody tr th:only-of-type {\n",
       "        vertical-align: middle;\n",
       "    }\n",
       "\n",
       "    .dataframe tbody tr th {\n",
       "        vertical-align: top;\n",
       "    }\n",
       "\n",
       "    .dataframe thead th {\n",
       "        text-align: right;\n",
       "    }\n",
       "</style>\n",
       "<table border=\"1\" class=\"dataframe\">\n",
       "  <thead>\n",
       "    <tr style=\"text-align: right;\">\n",
       "      <th></th>\n",
       "      <th>count</th>\n",
       "      <th>part</th>\n",
       "    </tr>\n",
       "    <tr>\n",
       "      <th>dependents</th>\n",
       "      <th></th>\n",
       "      <th></th>\n",
       "    </tr>\n",
       "  </thead>\n",
       "  <tbody>\n",
       "    <tr>\n",
       "      <th>No</th>\n",
       "      <td>4933</td>\n",
       "      <td>0.700412</td>\n",
       "    </tr>\n",
       "    <tr>\n",
       "      <th>Yes</th>\n",
       "      <td>2110</td>\n",
       "      <td>0.299588</td>\n",
       "    </tr>\n",
       "  </tbody>\n",
       "</table>\n",
       "</div>"
      ],
      "text/plain": [
       "            count      part\n",
       "dependents                 \n",
       "No           4933  0.700412\n",
       "Yes          2110  0.299588"
      ]
     },
     "metadata": {},
     "output_type": "display_data"
    }
   ],
   "source": [
    "get_value_counts(personal['dependents'])"
   ]
  },
  {
   "cell_type": "markdown",
   "metadata": {},
   "source": [
    "Вновь логический признак. Также закодируем значения числами."
   ]
  },
  {
   "cell_type": "code",
   "execution_count": 60,
   "metadata": {},
   "outputs": [],
   "source": [
    "personal['dependents'] = (personal['dependents'] == 'Yes').astype('int')"
   ]
  },
  {
   "cell_type": "code",
   "execution_count": 61,
   "metadata": {},
   "outputs": [
    {
     "data": {
      "application/vnd.microsoft.datawrangler.viewer.v0+json": {
       "columns": [
        {
         "name": "dependents",
         "rawType": "int64",
         "type": "integer"
        },
        {
         "name": "count",
         "rawType": "int64",
         "type": "integer"
        },
        {
         "name": "part",
         "rawType": "float64",
         "type": "float"
        }
       ],
       "conversionMethod": "pd.DataFrame",
       "ref": "06266e35-9140-4c9f-a7ee-44e0d38320bd",
       "rows": [
        [
         "0",
         "4933",
         "0.7004117563538265"
        ],
        [
         "1",
         "2110",
         "0.2995882436461735"
        ]
       ],
       "shape": {
        "columns": 2,
        "rows": 2
       }
      },
      "text/html": [
       "<div>\n",
       "<style scoped>\n",
       "    .dataframe tbody tr th:only-of-type {\n",
       "        vertical-align: middle;\n",
       "    }\n",
       "\n",
       "    .dataframe tbody tr th {\n",
       "        vertical-align: top;\n",
       "    }\n",
       "\n",
       "    .dataframe thead th {\n",
       "        text-align: right;\n",
       "    }\n",
       "</style>\n",
       "<table border=\"1\" class=\"dataframe\">\n",
       "  <thead>\n",
       "    <tr style=\"text-align: right;\">\n",
       "      <th></th>\n",
       "      <th>count</th>\n",
       "      <th>part</th>\n",
       "    </tr>\n",
       "    <tr>\n",
       "      <th>dependents</th>\n",
       "      <th></th>\n",
       "      <th></th>\n",
       "    </tr>\n",
       "  </thead>\n",
       "  <tbody>\n",
       "    <tr>\n",
       "      <th>0</th>\n",
       "      <td>4933</td>\n",
       "      <td>0.700412</td>\n",
       "    </tr>\n",
       "    <tr>\n",
       "      <th>1</th>\n",
       "      <td>2110</td>\n",
       "      <td>0.299588</td>\n",
       "    </tr>\n",
       "  </tbody>\n",
       "</table>\n",
       "</div>"
      ],
      "text/plain": [
       "            count      part\n",
       "dependents                 \n",
       "0            4933  0.700412\n",
       "1            2110  0.299588"
      ]
     },
     "metadata": {},
     "output_type": "display_data"
    }
   ],
   "source": [
    "get_value_counts(personal['dependents'])"
   ]
  },
  {
   "cell_type": "markdown",
   "metadata": {},
   "source": [
    "Кодирование прошло успешно."
   ]
  },
  {
   "cell_type": "markdown",
   "metadata": {},
   "source": [
    "---"
   ]
  },
  {
   "cell_type": "markdown",
   "metadata": {},
   "source": [
    "Проверим, что все столбцы имеют верные типы данных после преобразований."
   ]
  },
  {
   "cell_type": "code",
   "execution_count": 62,
   "metadata": {},
   "outputs": [
    {
     "name": "stdout",
     "output_type": "stream",
     "text": [
      "<class 'pandas.core.frame.DataFrame'>\n",
      "RangeIndex: 7043 entries, 0 to 7042\n",
      "Data columns (total 5 columns):\n",
      " #   Column          Non-Null Count  Dtype \n",
      "---  ------          --------------  ----- \n",
      " 0   customer_id     7043 non-null   object\n",
      " 1   gender          7043 non-null   int64 \n",
      " 2   senior_citizen  7043 non-null   int64 \n",
      " 3   partner         7043 non-null   int64 \n",
      " 4   dependents      7043 non-null   int64 \n",
      "dtypes: int64(4), object(1)\n",
      "memory usage: 275.2+ KB\n"
     ]
    }
   ],
   "source": [
    "personal.info()"
   ]
  },
  {
   "cell_type": "markdown",
   "metadata": {},
   "source": [
    "*Так как все числовые признаки являются бинарными, то можно было бы сократить используемую память. Сделаем это уже после объединения датасетов в один итоговый.*"
   ]
  },
  {
   "cell_type": "markdown",
   "metadata": {},
   "source": [
    "### 4.7. <a id='toc4_7_'></a>Выводы по датасету          [&#8593;](#toc0_)"
   ]
  },
  {
   "cell_type": "markdown",
   "metadata": {},
   "source": [
    "Датасет `personal_new.csv` содержит информацию о клиентах. Есть уникальные `client_id`, которые будут использованы при объединении таблиц. Так же есть 4 бинарных признака, каждый из которых был преобразован к целочисленному типу данных.\n",
    "\n",
    "Пропусков и полных дубликатов нет. Часть признаков имела имена, не соответствующие PEP8, - они были переименованы."
   ]
  },
  {
   "cell_type": "markdown",
   "metadata": {},
   "source": [
    "## 5. <a id='toc5_'></a>Датасет `internet_new.csv`          [&#8593;](#toc0_)"
   ]
  },
  {
   "cell_type": "markdown",
   "metadata": {},
   "source": [
    "### 5.1. <a id='toc5_1_'></a>Загрузка          [&#8593;](#toc0_)"
   ]
  },
  {
   "cell_type": "code",
   "execution_count": 63,
   "metadata": {},
   "outputs": [
    {
     "data": {
      "application/vnd.microsoft.datawrangler.viewer.v0+json": {
       "columns": [
        {
         "name": "index",
         "rawType": "int64",
         "type": "integer"
        },
        {
         "name": "customerID",
         "rawType": "object",
         "type": "string"
        },
        {
         "name": "InternetService",
         "rawType": "object",
         "type": "string"
        },
        {
         "name": "OnlineSecurity",
         "rawType": "object",
         "type": "string"
        },
        {
         "name": "OnlineBackup",
         "rawType": "object",
         "type": "string"
        },
        {
         "name": "DeviceProtection",
         "rawType": "object",
         "type": "string"
        },
        {
         "name": "TechSupport",
         "rawType": "object",
         "type": "string"
        },
        {
         "name": "StreamingTV",
         "rawType": "object",
         "type": "string"
        },
        {
         "name": "StreamingMovies",
         "rawType": "object",
         "type": "string"
        }
       ],
       "conversionMethod": "pd.DataFrame",
       "ref": "b6759927-2f09-4c23-a3af-ff330efb5dca",
       "rows": [
        [
         "0",
         "7590-VHVEG",
         "DSL",
         "No",
         "Yes",
         "No",
         "No",
         "No",
         "No"
        ],
        [
         "1",
         "5575-GNVDE",
         "DSL",
         "Yes",
         "No",
         "Yes",
         "No",
         "No",
         "No"
        ],
        [
         "2",
         "3668-QPYBK",
         "DSL",
         "Yes",
         "Yes",
         "No",
         "No",
         "No",
         "No"
        ],
        [
         "3",
         "7795-CFOCW",
         "DSL",
         "Yes",
         "No",
         "Yes",
         "Yes",
         "No",
         "No"
        ],
        [
         "4",
         "9237-HQITU",
         "Fiber optic",
         "No",
         "No",
         "No",
         "No",
         "No",
         "No"
        ]
       ],
       "shape": {
        "columns": 8,
        "rows": 5
       }
      },
      "text/html": [
       "<div>\n",
       "<style scoped>\n",
       "    .dataframe tbody tr th:only-of-type {\n",
       "        vertical-align: middle;\n",
       "    }\n",
       "\n",
       "    .dataframe tbody tr th {\n",
       "        vertical-align: top;\n",
       "    }\n",
       "\n",
       "    .dataframe thead th {\n",
       "        text-align: right;\n",
       "    }\n",
       "</style>\n",
       "<table border=\"1\" class=\"dataframe\">\n",
       "  <thead>\n",
       "    <tr style=\"text-align: right;\">\n",
       "      <th></th>\n",
       "      <th>customerID</th>\n",
       "      <th>InternetService</th>\n",
       "      <th>OnlineSecurity</th>\n",
       "      <th>OnlineBackup</th>\n",
       "      <th>DeviceProtection</th>\n",
       "      <th>TechSupport</th>\n",
       "      <th>StreamingTV</th>\n",
       "      <th>StreamingMovies</th>\n",
       "    </tr>\n",
       "  </thead>\n",
       "  <tbody>\n",
       "    <tr>\n",
       "      <th>0</th>\n",
       "      <td>7590-VHVEG</td>\n",
       "      <td>DSL</td>\n",
       "      <td>No</td>\n",
       "      <td>Yes</td>\n",
       "      <td>No</td>\n",
       "      <td>No</td>\n",
       "      <td>No</td>\n",
       "      <td>No</td>\n",
       "    </tr>\n",
       "    <tr>\n",
       "      <th>1</th>\n",
       "      <td>5575-GNVDE</td>\n",
       "      <td>DSL</td>\n",
       "      <td>Yes</td>\n",
       "      <td>No</td>\n",
       "      <td>Yes</td>\n",
       "      <td>No</td>\n",
       "      <td>No</td>\n",
       "      <td>No</td>\n",
       "    </tr>\n",
       "    <tr>\n",
       "      <th>2</th>\n",
       "      <td>3668-QPYBK</td>\n",
       "      <td>DSL</td>\n",
       "      <td>Yes</td>\n",
       "      <td>Yes</td>\n",
       "      <td>No</td>\n",
       "      <td>No</td>\n",
       "      <td>No</td>\n",
       "      <td>No</td>\n",
       "    </tr>\n",
       "    <tr>\n",
       "      <th>3</th>\n",
       "      <td>7795-CFOCW</td>\n",
       "      <td>DSL</td>\n",
       "      <td>Yes</td>\n",
       "      <td>No</td>\n",
       "      <td>Yes</td>\n",
       "      <td>Yes</td>\n",
       "      <td>No</td>\n",
       "      <td>No</td>\n",
       "    </tr>\n",
       "    <tr>\n",
       "      <th>4</th>\n",
       "      <td>9237-HQITU</td>\n",
       "      <td>Fiber optic</td>\n",
       "      <td>No</td>\n",
       "      <td>No</td>\n",
       "      <td>No</td>\n",
       "      <td>No</td>\n",
       "      <td>No</td>\n",
       "      <td>No</td>\n",
       "    </tr>\n",
       "  </tbody>\n",
       "</table>\n",
       "</div>"
      ],
      "text/plain": [
       "   customerID InternetService OnlineSecurity OnlineBackup DeviceProtection  \\\n",
       "0  7590-VHVEG             DSL             No          Yes               No   \n",
       "1  5575-GNVDE             DSL            Yes           No              Yes   \n",
       "2  3668-QPYBK             DSL            Yes          Yes               No   \n",
       "3  7795-CFOCW             DSL            Yes           No              Yes   \n",
       "4  9237-HQITU     Fiber optic             No           No               No   \n",
       "\n",
       "  TechSupport StreamingTV StreamingMovies  \n",
       "0          No          No              No  \n",
       "1          No          No              No  \n",
       "2          No          No              No  \n",
       "3         Yes          No              No  \n",
       "4          No          No              No  "
      ]
     },
     "execution_count": 63,
     "metadata": {},
     "output_type": "execute_result"
    }
   ],
   "source": [
    "internet = pd.read_sql('SELECT * FROM internet', con)\n",
    "internet.head()"
   ]
  },
  {
   "cell_type": "markdown",
   "metadata": {},
   "source": [
    "### 5.2. <a id='toc5_2_'></a>Переименование признаков          [&#8593;](#toc0_)"
   ]
  },
  {
   "cell_type": "markdown",
   "metadata": {},
   "source": [
    "Видим, что названия признаков вновь не соотвествуют PEP8."
   ]
  },
  {
   "cell_type": "code",
   "execution_count": 64,
   "metadata": {},
   "outputs": [
    {
     "data": {
      "text/plain": [
       "Index(['customer_id', 'internet_service', 'online_security', 'online_backup',\n",
       "       'device_protection', 'tech_support', 'streaming_tv',\n",
       "       'streaming_movies'],\n",
       "      dtype='object')"
      ]
     },
     "execution_count": 64,
     "metadata": {},
     "output_type": "execute_result"
    }
   ],
   "source": [
    "internet.columns = [camel_to_snake(c) for c in internet.columns]\n",
    "internet.columns"
   ]
  },
  {
   "cell_type": "markdown",
   "metadata": {},
   "source": [
    "### 5.3. <a id='toc5_3_'></a>Проверка типов данных          [&#8593;](#toc0_)"
   ]
  },
  {
   "cell_type": "code",
   "execution_count": 65,
   "metadata": {},
   "outputs": [
    {
     "name": "stdout",
     "output_type": "stream",
     "text": [
      "<class 'pandas.core.frame.DataFrame'>\n",
      "RangeIndex: 5517 entries, 0 to 5516\n",
      "Data columns (total 8 columns):\n",
      " #   Column             Non-Null Count  Dtype \n",
      "---  ------             --------------  ----- \n",
      " 0   customer_id        5517 non-null   object\n",
      " 1   internet_service   5517 non-null   object\n",
      " 2   online_security    5517 non-null   object\n",
      " 3   online_backup      5517 non-null   object\n",
      " 4   device_protection  5517 non-null   object\n",
      " 5   tech_support       5517 non-null   object\n",
      " 6   streaming_tv       5517 non-null   object\n",
      " 7   streaming_movies   5517 non-null   object\n",
      "dtypes: object(8)\n",
      "memory usage: 344.9+ KB\n"
     ]
    }
   ],
   "source": [
    "internet.info()"
   ]
  },
  {
   "cell_type": "markdown",
   "metadata": {},
   "source": [
    "В данном случае дефолтный `object` тип подошел для всех признаков."
   ]
  },
  {
   "cell_type": "markdown",
   "metadata": {},
   "source": [
    "### 5.4. <a id='toc5_4_'></a>Проверка полных дубликатов          [&#8593;](#toc0_)"
   ]
  },
  {
   "cell_type": "code",
   "execution_count": 66,
   "metadata": {},
   "outputs": [
    {
     "name": "stdout",
     "output_type": "stream",
     "text": [
      "\u001b[32mПолных дубликатов не обнаружено.\u001b[0m\n"
     ]
    }
   ],
   "source": [
    "check_duplicates(internet)"
   ]
  },
  {
   "cell_type": "markdown",
   "metadata": {},
   "source": [
    "### 5.5. <a id='toc5_5_'></a>Проверка пропусков          [&#8593;](#toc0_)"
   ]
  },
  {
   "cell_type": "code",
   "execution_count": 67,
   "metadata": {},
   "outputs": [
    {
     "name": "stdout",
     "output_type": "stream",
     "text": [
      "\u001b[32mПропусков не обнаружено.\u001b[0m\n"
     ]
    }
   ],
   "source": [
    "check_nans(internet)"
   ]
  },
  {
   "cell_type": "markdown",
   "metadata": {},
   "source": [
    "### 5.6. <a id='toc5_6_'></a>Изучение признаков          [&#8593;](#toc0_)"
   ]
  },
  {
   "cell_type": "markdown",
   "metadata": {},
   "source": [
    "#### 5.6.1. <a id='toc5_6_1_'></a>Описание       [&#8593;](#toc0_)"
   ]
  },
  {
   "cell_type": "markdown",
   "metadata": {},
   "source": [
    "|      Параметр       | Описание                                                    |\n",
    "|:-------------------:|-------------------------------------------------------------|\n",
    "| customer_id         | идентификатор пользователя                                  |\n",
    "| internet_service    | тип подключения                                             |\n",
    "| online_security     | блокировка опасных сайтов                                   |\n",
    "| online_backup       | облачное хранилище файлов для резервного копирования данных |\n",
    "| device_protection   | антивирус                                                   |\n",
    "| tech_support        | выделенная линия технической поддержки                      |\n",
    "| streaming_tv        | стриминговое телевидение                                    |\n",
    "| streaming_movies    | каталог фильмов                                             |"
   ]
  },
  {
   "cell_type": "markdown",
   "metadata": {},
   "source": [
    "#### 5.6.2. <a id='toc5_6_2_'></a>Признак `customer_id`       [&#8593;](#toc0_)"
   ]
  },
  {
   "cell_type": "code",
   "execution_count": 68,
   "metadata": {},
   "outputs": [
    {
     "data": {
      "text/plain": [
       "(5517, 5517)"
      ]
     },
     "execution_count": 68,
     "metadata": {},
     "output_type": "execute_result"
    }
   ],
   "source": [
    "internet['customer_id'].nunique(), len(internet)"
   ]
  },
  {
   "cell_type": "markdown",
   "metadata": {},
   "source": [
    "Вновь все `customer_id` уникальны. Но видим, что их количество отличается от первых двух датасетов."
   ]
  },
  {
   "cell_type": "markdown",
   "metadata": {},
   "source": [
    "#### 5.6.3. <a id='toc5_6_3_'></a>Признак `internet_service`       [&#8593;](#toc0_)"
   ]
  },
  {
   "cell_type": "code",
   "execution_count": 69,
   "metadata": {},
   "outputs": [
    {
     "data": {
      "application/vnd.microsoft.datawrangler.viewer.v0+json": {
       "columns": [
        {
         "name": "internet_service",
         "rawType": "object",
         "type": "string"
        },
        {
         "name": "count",
         "rawType": "int64",
         "type": "integer"
        },
        {
         "name": "part",
         "rawType": "float64",
         "type": "float"
        }
       ],
       "conversionMethod": "pd.DataFrame",
       "ref": "d2cdd7b9-ec90-4fc2-861e-f1a19aa00eaa",
       "rows": [
        [
         "Fiber optic",
         "3096",
         "0.5611745513866232"
        ],
        [
         "DSL",
         "2421",
         "0.43882544861337686"
        ]
       ],
       "shape": {
        "columns": 2,
        "rows": 2
       }
      },
      "text/html": [
       "<div>\n",
       "<style scoped>\n",
       "    .dataframe tbody tr th:only-of-type {\n",
       "        vertical-align: middle;\n",
       "    }\n",
       "\n",
       "    .dataframe tbody tr th {\n",
       "        vertical-align: top;\n",
       "    }\n",
       "\n",
       "    .dataframe thead th {\n",
       "        text-align: right;\n",
       "    }\n",
       "</style>\n",
       "<table border=\"1\" class=\"dataframe\">\n",
       "  <thead>\n",
       "    <tr style=\"text-align: right;\">\n",
       "      <th></th>\n",
       "      <th>count</th>\n",
       "      <th>part</th>\n",
       "    </tr>\n",
       "    <tr>\n",
       "      <th>internet_service</th>\n",
       "      <th></th>\n",
       "      <th></th>\n",
       "    </tr>\n",
       "  </thead>\n",
       "  <tbody>\n",
       "    <tr>\n",
       "      <th>Fiber optic</th>\n",
       "      <td>3096</td>\n",
       "      <td>0.561175</td>\n",
       "    </tr>\n",
       "    <tr>\n",
       "      <th>DSL</th>\n",
       "      <td>2421</td>\n",
       "      <td>0.438825</td>\n",
       "    </tr>\n",
       "  </tbody>\n",
       "</table>\n",
       "</div>"
      ],
      "text/plain": [
       "                  count      part\n",
       "internet_service                 \n",
       "Fiber optic        3096  0.561175\n",
       "DSL                2421  0.438825"
      ]
     },
     "metadata": {},
     "output_type": "display_data"
    }
   ],
   "source": [
    "get_value_counts(internet['internet_service'])"
   ]
  },
  {
   "cell_type": "markdown",
   "metadata": {},
   "source": [
    "Видим всего 2 варианта. Закодируем их через OHE (если признак попадет в итоговый датафрейм)."
   ]
  },
  {
   "cell_type": "markdown",
   "metadata": {},
   "source": [
    "#### 5.6.4. <a id='toc5_6_4_'></a>Все остальные признаки       [&#8593;](#toc0_)"
   ]
  },
  {
   "cell_type": "code",
   "execution_count": 70,
   "metadata": {},
   "outputs": [],
   "source": [
    "cols = internet.columns.to_list()\n",
    "cols.remove('customer_id')\n",
    "cols.remove('internet_service')"
   ]
  },
  {
   "cell_type": "code",
   "execution_count": 71,
   "metadata": {},
   "outputs": [
    {
     "name": "stdout",
     "output_type": "stream",
     "text": [
      "['No' 'Yes']\n",
      "['Yes' 'No']\n",
      "['No' 'Yes']\n",
      "['No' 'Yes']\n",
      "['No' 'Yes']\n",
      "['No' 'Yes']\n"
     ]
    }
   ],
   "source": [
    "for col in cols:\n",
    "    print(internet[col].unique())"
   ]
  },
  {
   "cell_type": "markdown",
   "metadata": {},
   "source": [
    "Видим, что все признаки бинарные логические. Сразу же закодируем числами."
   ]
  },
  {
   "cell_type": "code",
   "execution_count": 72,
   "metadata": {},
   "outputs": [],
   "source": [
    "for col in cols:\n",
    "    internet[col] = (internet[col] == 'Yes').astype('int')"
   ]
  },
  {
   "cell_type": "markdown",
   "metadata": {},
   "source": [
    "Проверим результаты."
   ]
  },
  {
   "cell_type": "code",
   "execution_count": 73,
   "metadata": {},
   "outputs": [
    {
     "name": "stdout",
     "output_type": "stream",
     "text": [
      "<class 'pandas.core.frame.DataFrame'>\n",
      "RangeIndex: 5517 entries, 0 to 5516\n",
      "Data columns (total 8 columns):\n",
      " #   Column             Non-Null Count  Dtype \n",
      "---  ------             --------------  ----- \n",
      " 0   customer_id        5517 non-null   object\n",
      " 1   internet_service   5517 non-null   object\n",
      " 2   online_security    5517 non-null   int64 \n",
      " 3   online_backup      5517 non-null   int64 \n",
      " 4   device_protection  5517 non-null   int64 \n",
      " 5   tech_support       5517 non-null   int64 \n",
      " 6   streaming_tv       5517 non-null   int64 \n",
      " 7   streaming_movies   5517 non-null   int64 \n",
      "dtypes: int64(6), object(2)\n",
      "memory usage: 344.9+ KB\n"
     ]
    }
   ],
   "source": [
    "internet.info()"
   ]
  },
  {
   "cell_type": "markdown",
   "metadata": {},
   "source": [
    "### 5.7. <a id='toc5_7_'></a>Выводы по датасету          [&#8593;](#toc0_)"
   ]
  },
  {
   "cell_type": "markdown",
   "metadata": {},
   "source": [
    "Датасет содержит информацию об интернет услугах. Названия признаков, как и в предыдущих случаях, не соответствовали PEP8 и были приведены к snake_case.\n",
    "\n",
    "Датасет не содержит полных дубликатов и пропусков.\n",
    "\n",
    "Признак `customer_id` содержит все уникальные значения и будет использован при объединении таблиц. Однако количество id отличается от 2 предыдущих таблиц."
   ]
  },
  {
   "cell_type": "markdown",
   "metadata": {},
   "source": [
    "## 6. <a id='toc6_'></a>Датасет `phone_new.csv`          [&#8593;](#toc0_)"
   ]
  },
  {
   "cell_type": "markdown",
   "metadata": {},
   "source": [
    "### 6.1. <a id='toc6_1_'></a>Загрузка          [&#8593;](#toc0_)"
   ]
  },
  {
   "cell_type": "code",
   "execution_count": 74,
   "metadata": {},
   "outputs": [
    {
     "data": {
      "application/vnd.microsoft.datawrangler.viewer.v0+json": {
       "columns": [
        {
         "name": "index",
         "rawType": "int64",
         "type": "integer"
        },
        {
         "name": "CustomerId",
         "rawType": "object",
         "type": "string"
        },
        {
         "name": "MultipleLines",
         "rawType": "object",
         "type": "string"
        }
       ],
       "conversionMethod": "pd.DataFrame",
       "ref": "3d217ce8-7649-4d16-959c-17f75dcf0834",
       "rows": [
        [
         "0",
         "5575-GNVDE",
         "No"
        ],
        [
         "1",
         "3668-QPYBK",
         "No"
        ],
        [
         "2",
         "9237-HQITU",
         "No"
        ],
        [
         "3",
         "9305-CDSKC",
         "Yes"
        ],
        [
         "4",
         "1452-KIOVK",
         "Yes"
        ]
       ],
       "shape": {
        "columns": 2,
        "rows": 5
       }
      },
      "text/html": [
       "<div>\n",
       "<style scoped>\n",
       "    .dataframe tbody tr th:only-of-type {\n",
       "        vertical-align: middle;\n",
       "    }\n",
       "\n",
       "    .dataframe tbody tr th {\n",
       "        vertical-align: top;\n",
       "    }\n",
       "\n",
       "    .dataframe thead th {\n",
       "        text-align: right;\n",
       "    }\n",
       "</style>\n",
       "<table border=\"1\" class=\"dataframe\">\n",
       "  <thead>\n",
       "    <tr style=\"text-align: right;\">\n",
       "      <th></th>\n",
       "      <th>CustomerId</th>\n",
       "      <th>MultipleLines</th>\n",
       "    </tr>\n",
       "  </thead>\n",
       "  <tbody>\n",
       "    <tr>\n",
       "      <th>0</th>\n",
       "      <td>5575-GNVDE</td>\n",
       "      <td>No</td>\n",
       "    </tr>\n",
       "    <tr>\n",
       "      <th>1</th>\n",
       "      <td>3668-QPYBK</td>\n",
       "      <td>No</td>\n",
       "    </tr>\n",
       "    <tr>\n",
       "      <th>2</th>\n",
       "      <td>9237-HQITU</td>\n",
       "      <td>No</td>\n",
       "    </tr>\n",
       "    <tr>\n",
       "      <th>3</th>\n",
       "      <td>9305-CDSKC</td>\n",
       "      <td>Yes</td>\n",
       "    </tr>\n",
       "    <tr>\n",
       "      <th>4</th>\n",
       "      <td>1452-KIOVK</td>\n",
       "      <td>Yes</td>\n",
       "    </tr>\n",
       "  </tbody>\n",
       "</table>\n",
       "</div>"
      ],
      "text/plain": [
       "   CustomerId MultipleLines\n",
       "0  5575-GNVDE            No\n",
       "1  3668-QPYBK            No\n",
       "2  9237-HQITU            No\n",
       "3  9305-CDSKC           Yes\n",
       "4  1452-KIOVK           Yes"
      ]
     },
     "execution_count": 74,
     "metadata": {},
     "output_type": "execute_result"
    }
   ],
   "source": [
    "phone = pd.read_sql('SELECT * FROM phone', con)\n",
    "phone.head()"
   ]
  },
  {
   "cell_type": "markdown",
   "metadata": {},
   "source": [
    "### 6.2. <a id='toc6_2_'></a>Переименование признаков          [&#8593;](#toc0_)"
   ]
  },
  {
   "cell_type": "markdown",
   "metadata": {},
   "source": [
    "Видим, что названия признаков вновь не соотвествуют PEP8."
   ]
  },
  {
   "cell_type": "code",
   "execution_count": 75,
   "metadata": {},
   "outputs": [
    {
     "data": {
      "text/plain": [
       "Index(['customer_id', 'multiple_lines'], dtype='object')"
      ]
     },
     "execution_count": 75,
     "metadata": {},
     "output_type": "execute_result"
    }
   ],
   "source": [
    "phone.columns = [camel_to_snake(c) for c in phone.columns]\n",
    "phone.columns"
   ]
  },
  {
   "cell_type": "markdown",
   "metadata": {},
   "source": [
    "### 6.3. <a id='toc6_3_'></a>Проверка типов данных          [&#8593;](#toc0_)"
   ]
  },
  {
   "cell_type": "code",
   "execution_count": 76,
   "metadata": {},
   "outputs": [
    {
     "name": "stdout",
     "output_type": "stream",
     "text": [
      "<class 'pandas.core.frame.DataFrame'>\n",
      "RangeIndex: 6361 entries, 0 to 6360\n",
      "Data columns (total 2 columns):\n",
      " #   Column          Non-Null Count  Dtype \n",
      "---  ------          --------------  ----- \n",
      " 0   customer_id     6361 non-null   object\n",
      " 1   multiple_lines  6361 non-null   object\n",
      "dtypes: object(2)\n",
      "memory usage: 99.5+ KB\n"
     ]
    }
   ],
   "source": [
    "phone.info()"
   ]
  },
  {
   "cell_type": "markdown",
   "metadata": {},
   "source": [
    "Вновь дефолтный тип данных подходит для таблицы."
   ]
  },
  {
   "cell_type": "markdown",
   "metadata": {},
   "source": [
    "### 6.4. <a id='toc6_4_'></a>Проверка полных дубликатов          [&#8593;](#toc0_)"
   ]
  },
  {
   "cell_type": "code",
   "execution_count": 77,
   "metadata": {},
   "outputs": [
    {
     "name": "stdout",
     "output_type": "stream",
     "text": [
      "\u001b[32mПолных дубликатов не обнаружено.\u001b[0m\n"
     ]
    }
   ],
   "source": [
    "check_duplicates(phone)"
   ]
  },
  {
   "cell_type": "markdown",
   "metadata": {},
   "source": [
    "### 6.5. <a id='toc6_5_'></a>Проверка пропусков          [&#8593;](#toc0_)"
   ]
  },
  {
   "cell_type": "code",
   "execution_count": 78,
   "metadata": {},
   "outputs": [
    {
     "name": "stdout",
     "output_type": "stream",
     "text": [
      "\u001b[32mПропусков не обнаружено.\u001b[0m\n"
     ]
    }
   ],
   "source": [
    "check_nans(phone)"
   ]
  },
  {
   "cell_type": "markdown",
   "metadata": {},
   "source": [
    "### 6.6. <a id='toc6_6_'></a>Изучение признаков          [&#8593;](#toc0_)"
   ]
  },
  {
   "cell_type": "markdown",
   "metadata": {},
   "source": [
    "#### 6.6.1. <a id='toc6_6_1_'></a>Описание          [&#8593;](#toc0_)"
   ]
  },
  {
   "cell_type": "markdown",
   "metadata": {},
   "source": [
    "|      Параметр       | Описание                                                |\n",
    "|:-------------------:|---------------------------------------------------------|\n",
    "|    customer_id      | идентификатор пользователя                              |\n",
    "|    multiple_lines   | подключение телефона к нескольким линиям одновременно   |"
   ]
  },
  {
   "cell_type": "markdown",
   "metadata": {},
   "source": [
    "#### 6.6.2. <a id='toc6_6_2_'></a>Признак `customer_id`          [&#8593;](#toc0_)"
   ]
  },
  {
   "cell_type": "code",
   "execution_count": 79,
   "metadata": {},
   "outputs": [
    {
     "data": {
      "text/plain": [
       "(6361, 6361)"
      ]
     },
     "execution_count": 79,
     "metadata": {},
     "output_type": "execute_result"
    }
   ],
   "source": [
    "phone['customer_id'].nunique(), len(phone)"
   ]
  },
  {
   "cell_type": "markdown",
   "metadata": {},
   "source": [
    "Уникальный id клиента. Будет использован при объединении таблиц."
   ]
  },
  {
   "cell_type": "markdown",
   "metadata": {},
   "source": [
    "#### 6.6.3. <a id='toc6_6_3_'></a>Признак `multiple_lines`          [&#8593;](#toc0_)"
   ]
  },
  {
   "cell_type": "code",
   "execution_count": 80,
   "metadata": {},
   "outputs": [
    {
     "data": {
      "application/vnd.microsoft.datawrangler.viewer.v0+json": {
       "columns": [
        {
         "name": "multiple_lines",
         "rawType": "object",
         "type": "string"
        },
        {
         "name": "count",
         "rawType": "int64",
         "type": "integer"
        },
        {
         "name": "part",
         "rawType": "float64",
         "type": "float"
        }
       ],
       "conversionMethod": "pd.DataFrame",
       "ref": "a310889f-3bd7-4371-bf0d-1f65421341c0",
       "rows": [
        [
         "No",
         "3390",
         "0.5329350731017136"
        ],
        [
         "Yes",
         "2971",
         "0.46706492689828644"
        ]
       ],
       "shape": {
        "columns": 2,
        "rows": 2
       }
      },
      "text/html": [
       "<div>\n",
       "<style scoped>\n",
       "    .dataframe tbody tr th:only-of-type {\n",
       "        vertical-align: middle;\n",
       "    }\n",
       "\n",
       "    .dataframe tbody tr th {\n",
       "        vertical-align: top;\n",
       "    }\n",
       "\n",
       "    .dataframe thead th {\n",
       "        text-align: right;\n",
       "    }\n",
       "</style>\n",
       "<table border=\"1\" class=\"dataframe\">\n",
       "  <thead>\n",
       "    <tr style=\"text-align: right;\">\n",
       "      <th></th>\n",
       "      <th>count</th>\n",
       "      <th>part</th>\n",
       "    </tr>\n",
       "    <tr>\n",
       "      <th>multiple_lines</th>\n",
       "      <th></th>\n",
       "      <th></th>\n",
       "    </tr>\n",
       "  </thead>\n",
       "  <tbody>\n",
       "    <tr>\n",
       "      <th>No</th>\n",
       "      <td>3390</td>\n",
       "      <td>0.532935</td>\n",
       "    </tr>\n",
       "    <tr>\n",
       "      <th>Yes</th>\n",
       "      <td>2971</td>\n",
       "      <td>0.467065</td>\n",
       "    </tr>\n",
       "  </tbody>\n",
       "</table>\n",
       "</div>"
      ],
      "text/plain": [
       "                count      part\n",
       "multiple_lines                 \n",
       "No               3390  0.532935\n",
       "Yes              2971  0.467065"
      ]
     },
     "metadata": {},
     "output_type": "display_data"
    }
   ],
   "source": [
    "get_value_counts(phone['multiple_lines'])"
   ]
  },
  {
   "cell_type": "markdown",
   "metadata": {},
   "source": [
    "Вновь логический признак, который представлен строковыми значениями. Закодируем."
   ]
  },
  {
   "cell_type": "code",
   "execution_count": 81,
   "metadata": {},
   "outputs": [],
   "source": [
    "phone['multiple_lines'] = (phone['multiple_lines'] == 'Yes').astype('int')"
   ]
  },
  {
   "cell_type": "code",
   "execution_count": 82,
   "metadata": {},
   "outputs": [
    {
     "data": {
      "application/vnd.microsoft.datawrangler.viewer.v0+json": {
       "columns": [
        {
         "name": "multiple_lines",
         "rawType": "int64",
         "type": "integer"
        },
        {
         "name": "count",
         "rawType": "int64",
         "type": "integer"
        },
        {
         "name": "part",
         "rawType": "float64",
         "type": "float"
        }
       ],
       "conversionMethod": "pd.DataFrame",
       "ref": "9f3a9778-b170-4626-8a12-3221db457109",
       "rows": [
        [
         "0",
         "3390",
         "0.5329350731017136"
        ],
        [
         "1",
         "2971",
         "0.46706492689828644"
        ]
       ],
       "shape": {
        "columns": 2,
        "rows": 2
       }
      },
      "text/html": [
       "<div>\n",
       "<style scoped>\n",
       "    .dataframe tbody tr th:only-of-type {\n",
       "        vertical-align: middle;\n",
       "    }\n",
       "\n",
       "    .dataframe tbody tr th {\n",
       "        vertical-align: top;\n",
       "    }\n",
       "\n",
       "    .dataframe thead th {\n",
       "        text-align: right;\n",
       "    }\n",
       "</style>\n",
       "<table border=\"1\" class=\"dataframe\">\n",
       "  <thead>\n",
       "    <tr style=\"text-align: right;\">\n",
       "      <th></th>\n",
       "      <th>count</th>\n",
       "      <th>part</th>\n",
       "    </tr>\n",
       "    <tr>\n",
       "      <th>multiple_lines</th>\n",
       "      <th></th>\n",
       "      <th></th>\n",
       "    </tr>\n",
       "  </thead>\n",
       "  <tbody>\n",
       "    <tr>\n",
       "      <th>0</th>\n",
       "      <td>3390</td>\n",
       "      <td>0.532935</td>\n",
       "    </tr>\n",
       "    <tr>\n",
       "      <th>1</th>\n",
       "      <td>2971</td>\n",
       "      <td>0.467065</td>\n",
       "    </tr>\n",
       "  </tbody>\n",
       "</table>\n",
       "</div>"
      ],
      "text/plain": [
       "                count      part\n",
       "multiple_lines                 \n",
       "0                3390  0.532935\n",
       "1                2971  0.467065"
      ]
     },
     "metadata": {},
     "output_type": "display_data"
    }
   ],
   "source": [
    "get_value_counts(phone['multiple_lines'])"
   ]
  },
  {
   "cell_type": "markdown",
   "metadata": {},
   "source": [
    "### 6.7. <a id='toc6_7_'></a>Выводы по датасету          [&#8593;](#toc0_)"
   ]
  },
  {
   "cell_type": "markdown",
   "metadata": {},
   "source": [
    "Крайне небольшой (по количеству признаков) датасет. Представлен всего один признак - `multiple_lines`, с информацией о том, подключен ли телефон к нескольким линиям одновременно. Изначально признак содержал текстовые значения, однако был закодирован в числа.\n",
    "\n",
    "Датасет не содержит полных дубликатов и пропусков. Имена признаков вновь не соответствовали PEP8 и были изменены."
   ]
  },
  {
   "cell_type": "markdown",
   "metadata": {},
   "source": [
    "## 7. <a id='toc7_'></a>Объединение таблиц          [&#8593;](#toc0_)"
   ]
  },
  {
   "cell_type": "markdown",
   "metadata": {},
   "source": [
    "### 7.1. <a id='toc7_1_'></a>Объединение       [&#8593;](#toc0_)"
   ]
  },
  {
   "cell_type": "markdown",
   "metadata": {},
   "source": [
    "Разные датафреймы имеют разное количество записей, а значит и `customer_id`."
   ]
  },
  {
   "cell_type": "code",
   "execution_count": 83,
   "metadata": {},
   "outputs": [],
   "source": [
    "df = pd.merge(contract, personal, on='customer_id', how='outer')\n",
    "df = pd.merge(df, internet, on='customer_id', how='outer')\n",
    "df = pd.merge(df, phone, on='customer_id', how='outer')"
   ]
  },
  {
   "cell_type": "code",
   "execution_count": 84,
   "metadata": {},
   "outputs": [
    {
     "data": {
      "application/vnd.microsoft.datawrangler.viewer.v0+json": {
       "columns": [
        {
         "name": "index",
         "rawType": "int64",
         "type": "integer"
        },
        {
         "name": "customer_id",
         "rawType": "object",
         "type": "string"
        },
        {
         "name": "begin_date",
         "rawType": "datetime64[ns]",
         "type": "datetime"
        },
        {
         "name": "end_date",
         "rawType": "object",
         "type": "string"
        },
        {
         "name": "type",
         "rawType": "object",
         "type": "string"
        },
        {
         "name": "paperless_billing",
         "rawType": "int64",
         "type": "integer"
        },
        {
         "name": "payment_method",
         "rawType": "object",
         "type": "string"
        },
        {
         "name": "monthly_charges",
         "rawType": "float64",
         "type": "float"
        },
        {
         "name": "total_charges",
         "rawType": "float64",
         "type": "float"
        },
        {
         "name": "gender",
         "rawType": "int64",
         "type": "integer"
        },
        {
         "name": "senior_citizen",
         "rawType": "int64",
         "type": "integer"
        },
        {
         "name": "partner",
         "rawType": "int64",
         "type": "integer"
        },
        {
         "name": "dependents",
         "rawType": "int64",
         "type": "integer"
        },
        {
         "name": "internet_service",
         "rawType": "object",
         "type": "string"
        },
        {
         "name": "online_security",
         "rawType": "float64",
         "type": "float"
        },
        {
         "name": "online_backup",
         "rawType": "float64",
         "type": "float"
        },
        {
         "name": "device_protection",
         "rawType": "float64",
         "type": "float"
        },
        {
         "name": "tech_support",
         "rawType": "float64",
         "type": "float"
        },
        {
         "name": "streaming_tv",
         "rawType": "float64",
         "type": "float"
        },
        {
         "name": "streaming_movies",
         "rawType": "float64",
         "type": "float"
        },
        {
         "name": "multiple_lines",
         "rawType": "float64",
         "type": "float"
        }
       ],
       "conversionMethod": "pd.DataFrame",
       "ref": "a7d691fe-ed85-4e4b-9afd-e538cf0f6e8d",
       "rows": [
        [
         "0",
         "0002-ORFBO",
         "2019-05-01 00:00:00",
         "No",
         "One year",
         "1",
         "Mailed check",
         "65.6",
         "631.73",
         "0",
         "0",
         "1",
         "1",
         "DSL",
         "0.0",
         "1.0",
         "0.0",
         "1.0",
         "1.0",
         "0.0",
         "0.0"
        ],
        [
         "1",
         "0003-MKNFE",
         "2019-05-01 00:00:00",
         "No",
         "Month-to-month",
         "0",
         "Mailed check",
         "59.9",
         "539.1",
         "1",
         "0",
         "0",
         "0",
         "DSL",
         "0.0",
         "0.0",
         "0.0",
         "0.0",
         "0.0",
         "1.0",
         "1.0"
        ],
        [
         "2",
         "0004-TLHLJ",
         "2019-09-01 00:00:00",
         "No",
         "Month-to-month",
         "1",
         "Electronic check",
         "73.9",
         "406.45",
         "1",
         "0",
         "0",
         "0",
         "Fiber optic",
         "0.0",
         "0.0",
         "1.0",
         "0.0",
         "0.0",
         "0.0",
         "0.0"
        ],
        [
         "3",
         "0011-IGKFF",
         "2018-12-01 00:00:00",
         "No",
         "Month-to-month",
         "1",
         "Electronic check",
         "98.0",
         "1372.0",
         "1",
         "1",
         "1",
         "0",
         "Fiber optic",
         "0.0",
         "1.0",
         "1.0",
         "0.0",
         "1.0",
         "1.0",
         "0.0"
        ],
        [
         "4",
         "0013-EXCHZ",
         "2019-09-01 00:00:00",
         "No",
         "Month-to-month",
         "1",
         "Mailed check",
         "83.9",
         "444.67",
         "0",
         "1",
         "1",
         "0",
         "Fiber optic",
         "0.0",
         "0.0",
         "0.0",
         "1.0",
         "1.0",
         "0.0",
         "0.0"
        ]
       ],
       "shape": {
        "columns": 20,
        "rows": 5
       }
      },
      "text/html": [
       "<div>\n",
       "<style scoped>\n",
       "    .dataframe tbody tr th:only-of-type {\n",
       "        vertical-align: middle;\n",
       "    }\n",
       "\n",
       "    .dataframe tbody tr th {\n",
       "        vertical-align: top;\n",
       "    }\n",
       "\n",
       "    .dataframe thead th {\n",
       "        text-align: right;\n",
       "    }\n",
       "</style>\n",
       "<table border=\"1\" class=\"dataframe\">\n",
       "  <thead>\n",
       "    <tr style=\"text-align: right;\">\n",
       "      <th></th>\n",
       "      <th>customer_id</th>\n",
       "      <th>begin_date</th>\n",
       "      <th>end_date</th>\n",
       "      <th>type</th>\n",
       "      <th>paperless_billing</th>\n",
       "      <th>payment_method</th>\n",
       "      <th>monthly_charges</th>\n",
       "      <th>total_charges</th>\n",
       "      <th>gender</th>\n",
       "      <th>senior_citizen</th>\n",
       "      <th>partner</th>\n",
       "      <th>dependents</th>\n",
       "      <th>internet_service</th>\n",
       "      <th>online_security</th>\n",
       "      <th>online_backup</th>\n",
       "      <th>device_protection</th>\n",
       "      <th>tech_support</th>\n",
       "      <th>streaming_tv</th>\n",
       "      <th>streaming_movies</th>\n",
       "      <th>multiple_lines</th>\n",
       "    </tr>\n",
       "  </thead>\n",
       "  <tbody>\n",
       "    <tr>\n",
       "      <th>0</th>\n",
       "      <td>0002-ORFBO</td>\n",
       "      <td>2019-05-01</td>\n",
       "      <td>No</td>\n",
       "      <td>One year</td>\n",
       "      <td>1</td>\n",
       "      <td>Mailed check</td>\n",
       "      <td>65.6</td>\n",
       "      <td>631.73</td>\n",
       "      <td>0</td>\n",
       "      <td>0</td>\n",
       "      <td>1</td>\n",
       "      <td>1</td>\n",
       "      <td>DSL</td>\n",
       "      <td>0.0</td>\n",
       "      <td>1.0</td>\n",
       "      <td>0.0</td>\n",
       "      <td>1.0</td>\n",
       "      <td>1.0</td>\n",
       "      <td>0.0</td>\n",
       "      <td>0.0</td>\n",
       "    </tr>\n",
       "    <tr>\n",
       "      <th>1</th>\n",
       "      <td>0003-MKNFE</td>\n",
       "      <td>2019-05-01</td>\n",
       "      <td>No</td>\n",
       "      <td>Month-to-month</td>\n",
       "      <td>0</td>\n",
       "      <td>Mailed check</td>\n",
       "      <td>59.9</td>\n",
       "      <td>539.10</td>\n",
       "      <td>1</td>\n",
       "      <td>0</td>\n",
       "      <td>0</td>\n",
       "      <td>0</td>\n",
       "      <td>DSL</td>\n",
       "      <td>0.0</td>\n",
       "      <td>0.0</td>\n",
       "      <td>0.0</td>\n",
       "      <td>0.0</td>\n",
       "      <td>0.0</td>\n",
       "      <td>1.0</td>\n",
       "      <td>1.0</td>\n",
       "    </tr>\n",
       "    <tr>\n",
       "      <th>2</th>\n",
       "      <td>0004-TLHLJ</td>\n",
       "      <td>2019-09-01</td>\n",
       "      <td>No</td>\n",
       "      <td>Month-to-month</td>\n",
       "      <td>1</td>\n",
       "      <td>Electronic check</td>\n",
       "      <td>73.9</td>\n",
       "      <td>406.45</td>\n",
       "      <td>1</td>\n",
       "      <td>0</td>\n",
       "      <td>0</td>\n",
       "      <td>0</td>\n",
       "      <td>Fiber optic</td>\n",
       "      <td>0.0</td>\n",
       "      <td>0.0</td>\n",
       "      <td>1.0</td>\n",
       "      <td>0.0</td>\n",
       "      <td>0.0</td>\n",
       "      <td>0.0</td>\n",
       "      <td>0.0</td>\n",
       "    </tr>\n",
       "    <tr>\n",
       "      <th>3</th>\n",
       "      <td>0011-IGKFF</td>\n",
       "      <td>2018-12-01</td>\n",
       "      <td>No</td>\n",
       "      <td>Month-to-month</td>\n",
       "      <td>1</td>\n",
       "      <td>Electronic check</td>\n",
       "      <td>98.0</td>\n",
       "      <td>1372.00</td>\n",
       "      <td>1</td>\n",
       "      <td>1</td>\n",
       "      <td>1</td>\n",
       "      <td>0</td>\n",
       "      <td>Fiber optic</td>\n",
       "      <td>0.0</td>\n",
       "      <td>1.0</td>\n",
       "      <td>1.0</td>\n",
       "      <td>0.0</td>\n",
       "      <td>1.0</td>\n",
       "      <td>1.0</td>\n",
       "      <td>0.0</td>\n",
       "    </tr>\n",
       "    <tr>\n",
       "      <th>4</th>\n",
       "      <td>0013-EXCHZ</td>\n",
       "      <td>2019-09-01</td>\n",
       "      <td>No</td>\n",
       "      <td>Month-to-month</td>\n",
       "      <td>1</td>\n",
       "      <td>Mailed check</td>\n",
       "      <td>83.9</td>\n",
       "      <td>444.67</td>\n",
       "      <td>0</td>\n",
       "      <td>1</td>\n",
       "      <td>1</td>\n",
       "      <td>0</td>\n",
       "      <td>Fiber optic</td>\n",
       "      <td>0.0</td>\n",
       "      <td>0.0</td>\n",
       "      <td>0.0</td>\n",
       "      <td>1.0</td>\n",
       "      <td>1.0</td>\n",
       "      <td>0.0</td>\n",
       "      <td>0.0</td>\n",
       "    </tr>\n",
       "  </tbody>\n",
       "</table>\n",
       "</div>"
      ],
      "text/plain": [
       "  customer_id begin_date end_date            type  paperless_billing  \\\n",
       "0  0002-ORFBO 2019-05-01       No        One year                  1   \n",
       "1  0003-MKNFE 2019-05-01       No  Month-to-month                  0   \n",
       "2  0004-TLHLJ 2019-09-01       No  Month-to-month                  1   \n",
       "3  0011-IGKFF 2018-12-01       No  Month-to-month                  1   \n",
       "4  0013-EXCHZ 2019-09-01       No  Month-to-month                  1   \n",
       "\n",
       "     payment_method  monthly_charges  total_charges  gender  senior_citizen  \\\n",
       "0      Mailed check             65.6         631.73       0               0   \n",
       "1      Mailed check             59.9         539.10       1               0   \n",
       "2  Electronic check             73.9         406.45       1               0   \n",
       "3  Electronic check             98.0        1372.00       1               1   \n",
       "4      Mailed check             83.9         444.67       0               1   \n",
       "\n",
       "   partner  dependents internet_service  online_security  online_backup  \\\n",
       "0        1           1              DSL              0.0            1.0   \n",
       "1        0           0              DSL              0.0            0.0   \n",
       "2        0           0      Fiber optic              0.0            0.0   \n",
       "3        1           0      Fiber optic              0.0            1.0   \n",
       "4        1           0      Fiber optic              0.0            0.0   \n",
       "\n",
       "   device_protection  tech_support  streaming_tv  streaming_movies  \\\n",
       "0                0.0           1.0           1.0               0.0   \n",
       "1                0.0           0.0           0.0               1.0   \n",
       "2                1.0           0.0           0.0               0.0   \n",
       "3                1.0           0.0           1.0               1.0   \n",
       "4                0.0           1.0           1.0               0.0   \n",
       "\n",
       "   multiple_lines  \n",
       "0             0.0  \n",
       "1             1.0  \n",
       "2             0.0  \n",
       "3             0.0  \n",
       "4             0.0  "
      ]
     },
     "execution_count": 84,
     "metadata": {},
     "output_type": "execute_result"
    }
   ],
   "source": [
    "df.head()"
   ]
  },
  {
   "cell_type": "code",
   "execution_count": 85,
   "metadata": {},
   "outputs": [
    {
     "data": {
      "text/plain": [
       "(7043, 20)"
      ]
     },
     "execution_count": 85,
     "metadata": {},
     "output_type": "execute_result"
    }
   ],
   "source": [
    "df.shape"
   ]
  },
  {
   "cell_type": "markdown",
   "metadata": {},
   "source": [
    "Видим, что результирующий размер совпал с размерами датасетов `contract` и `personal`. Следовательно в датасетах `internet` и `phone` нет информации о части абонентов, например, которые уже не пользуются услугами."
   ]
  },
  {
   "cell_type": "markdown",
   "metadata": {},
   "source": [
    "### 7.2. <a id='toc7_2_'></a>Проверка типов данных       [&#8593;](#toc0_)"
   ]
  },
  {
   "cell_type": "code",
   "execution_count": 86,
   "metadata": {},
   "outputs": [
    {
     "name": "stdout",
     "output_type": "stream",
     "text": [
      "<class 'pandas.core.frame.DataFrame'>\n",
      "RangeIndex: 7043 entries, 0 to 7042\n",
      "Data columns (total 20 columns):\n",
      " #   Column             Non-Null Count  Dtype         \n",
      "---  ------             --------------  -----         \n",
      " 0   customer_id        7043 non-null   object        \n",
      " 1   begin_date         7043 non-null   datetime64[ns]\n",
      " 2   end_date           7043 non-null   object        \n",
      " 3   type               7043 non-null   object        \n",
      " 4   paperless_billing  7043 non-null   int64         \n",
      " 5   payment_method     7043 non-null   object        \n",
      " 6   monthly_charges    7043 non-null   float64       \n",
      " 7   total_charges      7043 non-null   float64       \n",
      " 8   gender             7043 non-null   int64         \n",
      " 9   senior_citizen     7043 non-null   int64         \n",
      " 10  partner            7043 non-null   int64         \n",
      " 11  dependents         7043 non-null   int64         \n",
      " 12  internet_service   5517 non-null   object        \n",
      " 13  online_security    5517 non-null   float64       \n",
      " 14  online_backup      5517 non-null   float64       \n",
      " 15  device_protection  5517 non-null   float64       \n",
      " 16  tech_support       5517 non-null   float64       \n",
      " 17  streaming_tv       5517 non-null   float64       \n",
      " 18  streaming_movies   5517 non-null   float64       \n",
      " 19  multiple_lines     6361 non-null   float64       \n",
      "dtypes: datetime64[ns](1), float64(9), int64(5), object(5)\n",
      "memory usage: 1.1+ MB\n"
     ]
    }
   ],
   "source": [
    "df.info()"
   ]
  },
  {
   "cell_type": "markdown",
   "metadata": {},
   "source": [
    "Все типы данных верные."
   ]
  },
  {
   "cell_type": "markdown",
   "metadata": {},
   "source": [
    "### 7.3. <a id='toc7_3_'></a>Проверка полных дубликатов       [&#8593;](#toc0_)"
   ]
  },
  {
   "cell_type": "code",
   "execution_count": 87,
   "metadata": {},
   "outputs": [
    {
     "name": "stdout",
     "output_type": "stream",
     "text": [
      "\u001b[32mПолных дубликатов не обнаружено.\u001b[0m\n"
     ]
    }
   ],
   "source": [
    "check_duplicates(df)"
   ]
  },
  {
   "cell_type": "markdown",
   "metadata": {},
   "source": [
    "### 7.4. <a id='toc7_4_'></a>Проверка пропусков       [&#8593;](#toc0_)"
   ]
  },
  {
   "cell_type": "code",
   "execution_count": 88,
   "metadata": {},
   "outputs": [
    {
     "name": "stdout",
     "output_type": "stream",
     "text": [
      "+-------------------+----------------------+\n",
      "|      Feature      | Missing values count |\n",
      "+-------------------+----------------------+\n",
      "|    customer_id    |      \u001b[32m0 (0.00%)\u001b[0m       |\n",
      "|     dependents    |      \u001b[32m0 (0.00%)\u001b[0m       |\n",
      "|      partner      |      \u001b[32m0 (0.00%)\u001b[0m       |\n",
      "|       gender      |      \u001b[32m0 (0.00%)\u001b[0m       |\n",
      "|   total_charges   |      \u001b[32m0 (0.00%)\u001b[0m       |\n",
      "|  monthly_charges  |      \u001b[32m0 (0.00%)\u001b[0m       |\n",
      "|   senior_citizen  |      \u001b[32m0 (0.00%)\u001b[0m       |\n",
      "| paperless_billing |      \u001b[32m0 (0.00%)\u001b[0m       |\n",
      "|        type       |      \u001b[32m0 (0.00%)\u001b[0m       |\n",
      "|      end_date     |      \u001b[32m0 (0.00%)\u001b[0m       |\n",
      "|     begin_date    |      \u001b[32m0 (0.00%)\u001b[0m       |\n",
      "|   payment_method  |      \u001b[32m0 (0.00%)\u001b[0m       |\n",
      "|   multiple_lines  |     \u001b[31m682 (9.68%)\u001b[0m      |\n",
      "|  streaming_movies |    \u001b[31m1526 (21.67%)\u001b[0m     |\n",
      "|  internet_service |    \u001b[31m1526 (21.67%)\u001b[0m     |\n",
      "|  online_security  |    \u001b[31m1526 (21.67%)\u001b[0m     |\n",
      "|   online_backup   |    \u001b[31m1526 (21.67%)\u001b[0m     |\n",
      "| device_protection |    \u001b[31m1526 (21.67%)\u001b[0m     |\n",
      "|    tech_support   |    \u001b[31m1526 (21.67%)\u001b[0m     |\n",
      "|    streaming_tv   |    \u001b[31m1526 (21.67%)\u001b[0m     |\n",
      "+-------------------+----------------------+\n"
     ]
    }
   ],
   "source": [
    "check_nans(df)"
   ]
  },
  {
   "cell_type": "markdown",
   "metadata": {},
   "source": [
    "Пропуски ожидаемы. Как было упомянуто выше, в двух датасетах нет информации о части абонентов."
   ]
  },
  {
   "cell_type": "markdown",
   "metadata": {},
   "source": [
    "## 8. <a id='toc8_'></a>Выделение таргета       [&#8593;](#toc0_)"
   ]
  },
  {
   "cell_type": "code",
   "execution_count": 89,
   "metadata": {},
   "outputs": [],
   "source": [
    "target = 'leave'\n",
    "df[target] = (df['end_date'] != 'No').astype('int')"
   ]
  },
  {
   "cell_type": "markdown",
   "metadata": {},
   "source": [
    "Для удобства дальнейшей работы сразу преобразуем столбец в datetime формат."
   ]
  },
  {
   "cell_type": "code",
   "execution_count": 90,
   "metadata": {},
   "outputs": [
    {
     "name": "stdout",
     "output_type": "stream",
     "text": [
      "0\n",
      "5942\n"
     ]
    }
   ],
   "source": [
    "print(df['end_date'].isna().sum())\n",
    "df['end_date'] = df['end_date'].replace('No', np.NaN)\n",
    "print(df['end_date'].isna().sum())"
   ]
  },
  {
   "cell_type": "code",
   "execution_count": 91,
   "metadata": {},
   "outputs": [],
   "source": [
    "df['end_date'] = pd.to_datetime(df['end_date'])"
   ]
  },
  {
   "cell_type": "code",
   "execution_count": 92,
   "metadata": {},
   "outputs": [
    {
     "data": {
      "application/vnd.microsoft.datawrangler.viewer.v0+json": {
       "columns": [
        {
         "name": "leave",
         "rawType": "int64",
         "type": "integer"
        },
        {
         "name": "count",
         "rawType": "int64",
         "type": "integer"
        },
        {
         "name": "part",
         "rawType": "float64",
         "type": "float"
        }
       ],
       "conversionMethod": "pd.DataFrame",
       "ref": "c57deead-5997-4963-b9c0-b541915a9dc1",
       "rows": [
        [
         "0",
         "5942",
         "0.8436745704955275"
        ],
        [
         "1",
         "1101",
         "0.15632542950447254"
        ]
       ],
       "shape": {
        "columns": 2,
        "rows": 2
       }
      },
      "text/html": [
       "<div>\n",
       "<style scoped>\n",
       "    .dataframe tbody tr th:only-of-type {\n",
       "        vertical-align: middle;\n",
       "    }\n",
       "\n",
       "    .dataframe tbody tr th {\n",
       "        vertical-align: top;\n",
       "    }\n",
       "\n",
       "    .dataframe thead th {\n",
       "        text-align: right;\n",
       "    }\n",
       "</style>\n",
       "<table border=\"1\" class=\"dataframe\">\n",
       "  <thead>\n",
       "    <tr style=\"text-align: right;\">\n",
       "      <th></th>\n",
       "      <th>count</th>\n",
       "      <th>part</th>\n",
       "    </tr>\n",
       "    <tr>\n",
       "      <th>leave</th>\n",
       "      <th></th>\n",
       "      <th></th>\n",
       "    </tr>\n",
       "  </thead>\n",
       "  <tbody>\n",
       "    <tr>\n",
       "      <th>0</th>\n",
       "      <td>5942</td>\n",
       "      <td>0.843675</td>\n",
       "    </tr>\n",
       "    <tr>\n",
       "      <th>1</th>\n",
       "      <td>1101</td>\n",
       "      <td>0.156325</td>\n",
       "    </tr>\n",
       "  </tbody>\n",
       "</table>\n",
       "</div>"
      ],
      "text/plain": [
       "       count      part\n",
       "leave                 \n",
       "0       5942  0.843675\n",
       "1       1101  0.156325"
      ]
     },
     "metadata": {},
     "output_type": "display_data"
    }
   ],
   "source": [
    "get_value_counts(df[target])"
   ]
  },
  {
   "cell_type": "code",
   "execution_count": 93,
   "metadata": {},
   "outputs": [
    {
     "data": {
      "image/png": "[encoded data removed]",
      "text/plain": [
       "<Figure size 400x400 with 1 Axes>"
      ]
     },
     "metadata": {},
     "output_type": "display_data"
    }
   ],
   "source": [
    "plt.figure(figsize=(4, 4))\n",
    "\n",
    "value_counts = df[target].value_counts()\n",
    "plt.pie(value_counts,\n",
    "        labels=value_counts.index,\n",
    "        autopct='%1.1f%%',\n",
    "        colors=['#4caf50', '#f44346'],\n",
    "        startangle=90)\n",
    "plt.title('Распределение таргета', fontsize=14)\n",
    "plt.tight_layout()\n",
    "plt.show()"
   ]
  },
  {
   "cell_type": "markdown",
   "metadata": {},
   "source": [
    "Наблюдаем довольно большой дизбаланс."
   ]
  },
  {
   "cell_type": "markdown",
   "metadata": {},
   "source": [
    "## 9. <a id='toc9_'></a>Корреляция      [&#8593;](#toc0_)"
   ]
  },
  {
   "cell_type": "markdown",
   "metadata": {},
   "source": [
    "Признак `customer_id` был необходим при объединении таблиц и теперь может быть удален."
   ]
  },
  {
   "cell_type": "code",
   "execution_count": 94,
   "metadata": {},
   "outputs": [],
   "source": [
    "df = df.drop(columns='customer_id')\n",
    "assert 'customer_id' not in df.columns"
   ]
  },
  {
   "cell_type": "code",
   "execution_count": 95,
   "metadata": {},
   "outputs": [
    {
     "data": {
      "application/vnd.microsoft.datawrangler.viewer.v0+json": {
       "columns": [
        {
         "name": "index",
         "rawType": "int64",
         "type": "integer"
        },
        {
         "name": "begin_date",
         "rawType": "datetime64[ns]",
         "type": "datetime"
        },
        {
         "name": "end_date",
         "rawType": "datetime64[ns]",
         "type": "datetime"
        },
        {
         "name": "type",
         "rawType": "object",
         "type": "string"
        },
        {
         "name": "paperless_billing",
         "rawType": "int64",
         "type": "integer"
        },
        {
         "name": "payment_method",
         "rawType": "object",
         "type": "string"
        },
        {
         "name": "monthly_charges",
         "rawType": "float64",
         "type": "float"
        },
        {
         "name": "total_charges",
         "rawType": "float64",
         "type": "float"
        },
        {
         "name": "gender",
         "rawType": "int64",
         "type": "integer"
        },
        {
         "name": "senior_citizen",
         "rawType": "int64",
         "type": "integer"
        },
        {
         "name": "partner",
         "rawType": "int64",
         "type": "integer"
        },
        {
         "name": "dependents",
         "rawType": "int64",
         "type": "integer"
        },
        {
         "name": "internet_service",
         "rawType": "object",
         "type": "string"
        },
        {
         "name": "online_security",
         "rawType": "float64",
         "type": "float"
        },
        {
         "name": "online_backup",
         "rawType": "float64",
         "type": "float"
        },
        {
         "name": "device_protection",
         "rawType": "float64",
         "type": "float"
        },
        {
         "name": "tech_support",
         "rawType": "float64",
         "type": "float"
        },
        {
         "name": "streaming_tv",
         "rawType": "float64",
         "type": "float"
        },
        {
         "name": "streaming_movies",
         "rawType": "float64",
         "type": "float"
        },
        {
         "name": "multiple_lines",
         "rawType": "float64",
         "type": "float"
        },
        {
         "name": "leave",
         "rawType": "int64",
         "type": "integer"
        }
       ],
       "conversionMethod": "pd.DataFrame",
       "ref": "204d4dfc-a4f1-41f1-b276-0a0e53a56b93",
       "rows": [
        [
         "0",
         "2019-05-01 00:00:00",
         null,
         "One year",
         "1",
         "Mailed check",
         "65.6",
         "631.73",
         "0",
         "0",
         "1",
         "1",
         "DSL",
         "0.0",
         "1.0",
         "0.0",
         "1.0",
         "1.0",
         "0.0",
         "0.0",
         "0"
        ],
        [
         "1",
         "2019-05-01 00:00:00",
         null,
         "Month-to-month",
         "0",
         "Mailed check",
         "59.9",
         "539.1",
         "1",
         "0",
         "0",
         "0",
         "DSL",
         "0.0",
         "0.0",
         "0.0",
         "0.0",
         "0.0",
         "1.0",
         "1.0",
         "0"
        ],
        [
         "2",
         "2019-09-01 00:00:00",
         null,
         "Month-to-month",
         "1",
         "Electronic check",
         "73.9",
         "406.45",
         "1",
         "0",
         "0",
         "0",
         "Fiber optic",
         "0.0",
         "0.0",
         "1.0",
         "0.0",
         "0.0",
         "0.0",
         "0.0",
         "0"
        ],
        [
         "3",
         "2018-12-01 00:00:00",
         null,
         "Month-to-month",
         "1",
         "Electronic check",
         "98.0",
         "1372.0",
         "1",
         "1",
         "1",
         "0",
         "Fiber optic",
         "0.0",
         "1.0",
         "1.0",
         "0.0",
         "1.0",
         "1.0",
         "0.0",
         "0"
        ],
        [
         "4",
         "2019-09-01 00:00:00",
         null,
         "Month-to-month",
         "1",
         "Mailed check",
         "83.9",
         "444.67",
         "0",
         "1",
         "1",
         "0",
         "Fiber optic",
         "0.0",
         "0.0",
         "0.0",
         "1.0",
         "1.0",
         "0.0",
         "0.0",
         "0"
        ]
       ],
       "shape": {
        "columns": 20,
        "rows": 5
       }
      },
      "text/html": [
       "<div>\n",
       "<style scoped>\n",
       "    .dataframe tbody tr th:only-of-type {\n",
       "        vertical-align: middle;\n",
       "    }\n",
       "\n",
       "    .dataframe tbody tr th {\n",
       "        vertical-align: top;\n",
       "    }\n",
       "\n",
       "    .dataframe thead th {\n",
       "        text-align: right;\n",
       "    }\n",
       "</style>\n",
       "<table border=\"1\" class=\"dataframe\">\n",
       "  <thead>\n",
       "    <tr style=\"text-align: right;\">\n",
       "      <th></th>\n",
       "      <th>begin_date</th>\n",
       "      <th>end_date</th>\n",
       "      <th>type</th>\n",
       "      <th>paperless_billing</th>\n",
       "      <th>payment_method</th>\n",
       "      <th>monthly_charges</th>\n",
       "      <th>total_charges</th>\n",
       "      <th>gender</th>\n",
       "      <th>senior_citizen</th>\n",
       "      <th>partner</th>\n",
       "      <th>dependents</th>\n",
       "      <th>internet_service</th>\n",
       "      <th>online_security</th>\n",
       "      <th>online_backup</th>\n",
       "      <th>device_protection</th>\n",
       "      <th>tech_support</th>\n",
       "      <th>streaming_tv</th>\n",
       "      <th>streaming_movies</th>\n",
       "      <th>multiple_lines</th>\n",
       "      <th>leave</th>\n",
       "    </tr>\n",
       "  </thead>\n",
       "  <tbody>\n",
       "    <tr>\n",
       "      <th>0</th>\n",
       "      <td>2019-05-01</td>\n",
       "      <td>NaT</td>\n",
       "      <td>One year</td>\n",
       "      <td>1</td>\n",
       "      <td>Mailed check</td>\n",
       "      <td>65.6</td>\n",
       "      <td>631.73</td>\n",
       "      <td>0</td>\n",
       "      <td>0</td>\n",
       "      <td>1</td>\n",
       "      <td>1</td>\n",
       "      <td>DSL</td>\n",
       "      <td>0.0</td>\n",
       "      <td>1.0</td>\n",
       "      <td>0.0</td>\n",
       "      <td>1.0</td>\n",
       "      <td>1.0</td>\n",
       "      <td>0.0</td>\n",
       "      <td>0.0</td>\n",
       "      <td>0</td>\n",
       "    </tr>\n",
       "    <tr>\n",
       "      <th>1</th>\n",
       "      <td>2019-05-01</td>\n",
       "      <td>NaT</td>\n",
       "      <td>Month-to-month</td>\n",
       "      <td>0</td>\n",
       "      <td>Mailed check</td>\n",
       "      <td>59.9</td>\n",
       "      <td>539.10</td>\n",
       "      <td>1</td>\n",
       "      <td>0</td>\n",
       "      <td>0</td>\n",
       "      <td>0</td>\n",
       "      <td>DSL</td>\n",
       "      <td>0.0</td>\n",
       "      <td>0.0</td>\n",
       "      <td>0.0</td>\n",
       "      <td>0.0</td>\n",
       "      <td>0.0</td>\n",
       "      <td>1.0</td>\n",
       "      <td>1.0</td>\n",
       "      <td>0</td>\n",
       "    </tr>\n",
       "    <tr>\n",
       "      <th>2</th>\n",
       "      <td>2019-09-01</td>\n",
       "      <td>NaT</td>\n",
       "      <td>Month-to-month</td>\n",
       "      <td>1</td>\n",
       "      <td>Electronic check</td>\n",
       "      <td>73.9</td>\n",
       "      <td>406.45</td>\n",
       "      <td>1</td>\n",
       "      <td>0</td>\n",
       "      <td>0</td>\n",
       "      <td>0</td>\n",
       "      <td>Fiber optic</td>\n",
       "      <td>0.0</td>\n",
       "      <td>0.0</td>\n",
       "      <td>1.0</td>\n",
       "      <td>0.0</td>\n",
       "      <td>0.0</td>\n",
       "      <td>0.0</td>\n",
       "      <td>0.0</td>\n",
       "      <td>0</td>\n",
       "    </tr>\n",
       "    <tr>\n",
       "      <th>3</th>\n",
       "      <td>2018-12-01</td>\n",
       "      <td>NaT</td>\n",
       "      <td>Month-to-month</td>\n",
       "      <td>1</td>\n",
       "      <td>Electronic check</td>\n",
       "      <td>98.0</td>\n",
       "      <td>1372.00</td>\n",
       "      <td>1</td>\n",
       "      <td>1</td>\n",
       "      <td>1</td>\n",
       "      <td>0</td>\n",
       "      <td>Fiber optic</td>\n",
       "      <td>0.0</td>\n",
       "      <td>1.0</td>\n",
       "      <td>1.0</td>\n",
       "      <td>0.0</td>\n",
       "      <td>1.0</td>\n",
       "      <td>1.0</td>\n",
       "      <td>0.0</td>\n",
       "      <td>0</td>\n",
       "    </tr>\n",
       "    <tr>\n",
       "      <th>4</th>\n",
       "      <td>2019-09-01</td>\n",
       "      <td>NaT</td>\n",
       "      <td>Month-to-month</td>\n",
       "      <td>1</td>\n",
       "      <td>Mailed check</td>\n",
       "      <td>83.9</td>\n",
       "      <td>444.67</td>\n",
       "      <td>0</td>\n",
       "      <td>1</td>\n",
       "      <td>1</td>\n",
       "      <td>0</td>\n",
       "      <td>Fiber optic</td>\n",
       "      <td>0.0</td>\n",
       "      <td>0.0</td>\n",
       "      <td>0.0</td>\n",
       "      <td>1.0</td>\n",
       "      <td>1.0</td>\n",
       "      <td>0.0</td>\n",
       "      <td>0.0</td>\n",
       "      <td>0</td>\n",
       "    </tr>\n",
       "  </tbody>\n",
       "</table>\n",
       "</div>"
      ],
      "text/plain": [
       "  begin_date end_date            type  paperless_billing    payment_method  \\\n",
       "0 2019-05-01      NaT        One year                  1      Mailed check   \n",
       "1 2019-05-01      NaT  Month-to-month                  0      Mailed check   \n",
       "2 2019-09-01      NaT  Month-to-month                  1  Electronic check   \n",
       "3 2018-12-01      NaT  Month-to-month                  1  Electronic check   \n",
       "4 2019-09-01      NaT  Month-to-month                  1      Mailed check   \n",
       "\n",
       "   monthly_charges  total_charges  gender  senior_citizen  partner  \\\n",
       "0             65.6         631.73       0               0        1   \n",
       "1             59.9         539.10       1               0        0   \n",
       "2             73.9         406.45       1               0        0   \n",
       "3             98.0        1372.00       1               1        1   \n",
       "4             83.9         444.67       0               1        1   \n",
       "\n",
       "   dependents internet_service  online_security  online_backup  \\\n",
       "0           1              DSL              0.0            1.0   \n",
       "1           0              DSL              0.0            0.0   \n",
       "2           0      Fiber optic              0.0            0.0   \n",
       "3           0      Fiber optic              0.0            1.0   \n",
       "4           0      Fiber optic              0.0            0.0   \n",
       "\n",
       "   device_protection  tech_support  streaming_tv  streaming_movies  \\\n",
       "0                0.0           1.0           1.0               0.0   \n",
       "1                0.0           0.0           0.0               1.0   \n",
       "2                1.0           0.0           0.0               0.0   \n",
       "3                1.0           0.0           1.0               1.0   \n",
       "4                0.0           1.0           1.0               0.0   \n",
       "\n",
       "   multiple_lines  leave  \n",
       "0             0.0      0  \n",
       "1             1.0      0  \n",
       "2             0.0      0  \n",
       "3             0.0      0  \n",
       "4             0.0      0  "
      ]
     },
     "execution_count": 95,
     "metadata": {},
     "output_type": "execute_result"
    }
   ],
   "source": [
    "df.head()"
   ]
  },
  {
   "cell_type": "code",
   "execution_count": 96,
   "metadata": {},
   "outputs": [
    {
     "data": {
      "image/png": "[encoded data removed]",
      "text/plain": [
       "<Figure size 1000x500 with 2 Axes>"
      ]
     },
     "metadata": {},
     "output_type": "display_data"
    }
   ],
   "source": [
    "check_phik_correlation(df, ['monthly_charges', 'total_charges'])"
   ]
  },
  {
   "cell_type": "markdown",
   "metadata": {},
   "source": [
    "Можно сделать следующие выводы:\n",
    "\n",
    "- наблюдаем крайне сильную корреляцию между признаками `internet_service` и `monhtly_charges`. Видимо один из видов интернета дороже другого.\n",
    "- `total_charges` и `begin_date` имеют сильную связь, что абсолютно логично\n",
    "- целевой признак (`leave`) имеет слабую или ниже среднего корреляции со всеми признаками, кроме `begin_date`. Там наблюдается умеренная корреляция. Учтем это при генерации новых признаков."
   ]
  },
  {
   "cell_type": "markdown",
   "metadata": {},
   "source": [
    "---"
   ]
  },
  {
   "cell_type": "code",
   "execution_count": 97,
   "metadata": {},
   "outputs": [
    {
     "data": {
      "application/vnd.microsoft.datawrangler.viewer.v0+json": {
       "columns": [
        {
         "name": "leave",
         "rawType": "int64",
         "type": "integer"
        },
        {
         "name": "paperless_billing",
         "rawType": "float64",
         "type": "float"
        },
        {
         "name": "monthly_charges",
         "rawType": "float64",
         "type": "float"
        },
        {
         "name": "total_charges",
         "rawType": "float64",
         "type": "float"
        },
        {
         "name": "gender",
         "rawType": "float64",
         "type": "float"
        },
        {
         "name": "senior_citizen",
         "rawType": "float64",
         "type": "float"
        },
        {
         "name": "partner",
         "rawType": "float64",
         "type": "float"
        },
        {
         "name": "dependents",
         "rawType": "float64",
         "type": "float"
        },
        {
         "name": "online_security",
         "rawType": "float64",
         "type": "float"
        },
        {
         "name": "online_backup",
         "rawType": "float64",
         "type": "float"
        },
        {
         "name": "device_protection",
         "rawType": "float64",
         "type": "float"
        },
        {
         "name": "tech_support",
         "rawType": "float64",
         "type": "float"
        },
        {
         "name": "streaming_tv",
         "rawType": "float64",
         "type": "float"
        },
        {
         "name": "streaming_movies",
         "rawType": "float64",
         "type": "float"
        },
        {
         "name": "multiple_lines",
         "rawType": "float64",
         "type": "float"
        }
       ],
       "conversionMethod": "pd.DataFrame",
       "ref": "74e2e454-a9ed-4c83-a154-2cd4d0400579",
       "rows": [
        [
         "0",
         "0.5806125883540896",
         "62.76345506563447",
         "2067.8664203971725",
         "0.5018512285425782",
         "0.15314708852238304",
         "0.45153147088522383",
         "0.2931672837428475",
         "0.3505244755244755",
         "0.4084353146853147",
         "0.4090909090909091",
         "0.3597027972027972",
         "0.4639423076923077",
         "0.4645979020979021",
         "0.42755920193921315"
        ],
        [
         "1",
         "0.6548592188919165",
         "75.54600363306085",
         "2371.3772752043596",
         "0.5204359673024523",
         "0.21071752951861944",
         "0.6530426884650318",
         "0.33424159854677565",
         "0.4410201912858661",
         "0.5951115834218916",
         "0.5844845908607864",
         "0.42295430393198724",
         "0.620616365568544",
         "0.6439957492029755",
         "0.6793587174348698"
        ]
       ],
       "shape": {
        "columns": 14,
        "rows": 2
       }
      },
      "text/html": [
       "<div>\n",
       "<style scoped>\n",
       "    .dataframe tbody tr th:only-of-type {\n",
       "        vertical-align: middle;\n",
       "    }\n",
       "\n",
       "    .dataframe tbody tr th {\n",
       "        vertical-align: top;\n",
       "    }\n",
       "\n",
       "    .dataframe thead th {\n",
       "        text-align: right;\n",
       "    }\n",
       "</style>\n",
       "<table border=\"1\" class=\"dataframe\">\n",
       "  <thead>\n",
       "    <tr style=\"text-align: right;\">\n",
       "      <th></th>\n",
       "      <th>paperless_billing</th>\n",
       "      <th>monthly_charges</th>\n",
       "      <th>total_charges</th>\n",
       "      <th>gender</th>\n",
       "      <th>senior_citizen</th>\n",
       "      <th>partner</th>\n",
       "      <th>dependents</th>\n",
       "      <th>online_security</th>\n",
       "      <th>online_backup</th>\n",
       "      <th>device_protection</th>\n",
       "      <th>tech_support</th>\n",
       "      <th>streaming_tv</th>\n",
       "      <th>streaming_movies</th>\n",
       "      <th>multiple_lines</th>\n",
       "    </tr>\n",
       "    <tr>\n",
       "      <th>leave</th>\n",
       "      <th></th>\n",
       "      <th></th>\n",
       "      <th></th>\n",
       "      <th></th>\n",
       "      <th></th>\n",
       "      <th></th>\n",
       "      <th></th>\n",
       "      <th></th>\n",
       "      <th></th>\n",
       "      <th></th>\n",
       "      <th></th>\n",
       "      <th></th>\n",
       "      <th></th>\n",
       "      <th></th>\n",
       "    </tr>\n",
       "  </thead>\n",
       "  <tbody>\n",
       "    <tr>\n",
       "      <th>0</th>\n",
       "      <td>0.580613</td>\n",
       "      <td>62.763455</td>\n",
       "      <td>2067.866420</td>\n",
       "      <td>0.501851</td>\n",
       "      <td>0.153147</td>\n",
       "      <td>0.451531</td>\n",
       "      <td>0.293167</td>\n",
       "      <td>0.350524</td>\n",
       "      <td>0.408435</td>\n",
       "      <td>0.409091</td>\n",
       "      <td>0.359703</td>\n",
       "      <td>0.463942</td>\n",
       "      <td>0.464598</td>\n",
       "      <td>0.427559</td>\n",
       "    </tr>\n",
       "    <tr>\n",
       "      <th>1</th>\n",
       "      <td>0.654859</td>\n",
       "      <td>75.546004</td>\n",
       "      <td>2371.377275</td>\n",
       "      <td>0.520436</td>\n",
       "      <td>0.210718</td>\n",
       "      <td>0.653043</td>\n",
       "      <td>0.334242</td>\n",
       "      <td>0.441020</td>\n",
       "      <td>0.595112</td>\n",
       "      <td>0.584485</td>\n",
       "      <td>0.422954</td>\n",
       "      <td>0.620616</td>\n",
       "      <td>0.643996</td>\n",
       "      <td>0.679359</td>\n",
       "    </tr>\n",
       "  </tbody>\n",
       "</table>\n",
       "</div>"
      ],
      "text/plain": [
       "       paperless_billing  monthly_charges  total_charges    gender  \\\n",
       "leave                                                                \n",
       "0               0.580613        62.763455    2067.866420  0.501851   \n",
       "1               0.654859        75.546004    2371.377275  0.520436   \n",
       "\n",
       "       senior_citizen   partner  dependents  online_security  online_backup  \\\n",
       "leave                                                                         \n",
       "0            0.153147  0.451531    0.293167         0.350524       0.408435   \n",
       "1            0.210718  0.653043    0.334242         0.441020       0.595112   \n",
       "\n",
       "       device_protection  tech_support  streaming_tv  streaming_movies  \\\n",
       "leave                                                                    \n",
       "0               0.409091      0.359703      0.463942          0.464598   \n",
       "1               0.584485      0.422954      0.620616          0.643996   \n",
       "\n",
       "       multiple_lines  \n",
       "leave                  \n",
       "0            0.427559  \n",
       "1            0.679359  "
      ]
     },
     "execution_count": 97,
     "metadata": {},
     "output_type": "execute_result"
    }
   ],
   "source": [
    "df.select_dtypes(include='number').groupby('leave').mean()"
   ]
  },
  {
   "cell_type": "code",
   "execution_count": 98,
   "metadata": {},
   "outputs": [],
   "source": [
    "mask = df['leave'] == 1\n",
    "will_leave = df[mask]\n",
    "not_leave = df[~mask]"
   ]
  },
  {
   "cell_type": "code",
   "execution_count": 99,
   "metadata": {},
   "outputs": [
    {
     "data": {
      "application/vnd.microsoft.datawrangler.viewer.v0+json": {
       "columns": [
        {
         "name": "internet_service",
         "rawType": "object",
         "type": "string"
        },
        {
         "name": "count",
         "rawType": "int64",
         "type": "integer"
        },
        {
         "name": "part",
         "rawType": "float64",
         "type": "float"
        }
       ],
       "conversionMethod": "pd.DataFrame",
       "ref": "353c2a8e-6693-4148-a0a4-d7018c519487",
       "rows": [
        [
         "Fiber optic",
         "595",
         "0.5404178019981835"
        ],
        [
         "DSL",
         "346",
         "0.3142597638510445"
        ]
       ],
       "shape": {
        "columns": 2,
        "rows": 2
       }
      },
      "text/html": [
       "<div>\n",
       "<style scoped>\n",
       "    .dataframe tbody tr th:only-of-type {\n",
       "        vertical-align: middle;\n",
       "    }\n",
       "\n",
       "    .dataframe tbody tr th {\n",
       "        vertical-align: top;\n",
       "    }\n",
       "\n",
       "    .dataframe thead th {\n",
       "        text-align: right;\n",
       "    }\n",
       "</style>\n",
       "<table border=\"1\" class=\"dataframe\">\n",
       "  <thead>\n",
       "    <tr style=\"text-align: right;\">\n",
       "      <th></th>\n",
       "      <th>count</th>\n",
       "      <th>part</th>\n",
       "    </tr>\n",
       "    <tr>\n",
       "      <th>internet_service</th>\n",
       "      <th></th>\n",
       "      <th></th>\n",
       "    </tr>\n",
       "  </thead>\n",
       "  <tbody>\n",
       "    <tr>\n",
       "      <th>Fiber optic</th>\n",
       "      <td>595</td>\n",
       "      <td>0.540418</td>\n",
       "    </tr>\n",
       "    <tr>\n",
       "      <th>DSL</th>\n",
       "      <td>346</td>\n",
       "      <td>0.314260</td>\n",
       "    </tr>\n",
       "  </tbody>\n",
       "</table>\n",
       "</div>"
      ],
      "text/plain": [
       "                  count      part\n",
       "internet_service                 \n",
       "Fiber optic         595  0.540418\n",
       "DSL                 346  0.314260"
      ]
     },
     "metadata": {},
     "output_type": "display_data"
    }
   ],
   "source": [
    "get_value_counts(will_leave['internet_service'])"
   ]
  },
  {
   "cell_type": "code",
   "execution_count": 100,
   "metadata": {},
   "outputs": [
    {
     "data": {
      "application/vnd.microsoft.datawrangler.viewer.v0+json": {
       "columns": [
        {
         "name": "internet_service",
         "rawType": "object",
         "type": "string"
        },
        {
         "name": "count",
         "rawType": "int64",
         "type": "integer"
        },
        {
         "name": "part",
         "rawType": "float64",
         "type": "float"
        }
       ],
       "conversionMethod": "pd.DataFrame",
       "ref": "475eca48-3811-4db4-b941-6b2dac97e133",
       "rows": [
        [
         "Fiber optic",
         "2501",
         "0.42090205318074725"
        ],
        [
         "DSL",
         "2075",
         "0.34920902053180747"
        ]
       ],
       "shape": {
        "columns": 2,
        "rows": 2
       }
      },
      "text/html": [
       "<div>\n",
       "<style scoped>\n",
       "    .dataframe tbody tr th:only-of-type {\n",
       "        vertical-align: middle;\n",
       "    }\n",
       "\n",
       "    .dataframe tbody tr th {\n",
       "        vertical-align: top;\n",
       "    }\n",
       "\n",
       "    .dataframe thead th {\n",
       "        text-align: right;\n",
       "    }\n",
       "</style>\n",
       "<table border=\"1\" class=\"dataframe\">\n",
       "  <thead>\n",
       "    <tr style=\"text-align: right;\">\n",
       "      <th></th>\n",
       "      <th>count</th>\n",
       "      <th>part</th>\n",
       "    </tr>\n",
       "    <tr>\n",
       "      <th>internet_service</th>\n",
       "      <th></th>\n",
       "      <th></th>\n",
       "    </tr>\n",
       "  </thead>\n",
       "  <tbody>\n",
       "    <tr>\n",
       "      <th>Fiber optic</th>\n",
       "      <td>2501</td>\n",
       "      <td>0.420902</td>\n",
       "    </tr>\n",
       "    <tr>\n",
       "      <th>DSL</th>\n",
       "      <td>2075</td>\n",
       "      <td>0.349209</td>\n",
       "    </tr>\n",
       "  </tbody>\n",
       "</table>\n",
       "</div>"
      ],
      "text/plain": [
       "                  count      part\n",
       "internet_service                 \n",
       "Fiber optic        2501  0.420902\n",
       "DSL                2075  0.349209"
      ]
     },
     "metadata": {},
     "output_type": "display_data"
    }
   ],
   "source": [
    "get_value_counts(not_leave['internet_service'])"
   ]
  },
  {
   "cell_type": "code",
   "execution_count": 101,
   "metadata": {},
   "outputs": [],
   "source": [
    "del will_leave, not_leave"
   ]
  },
  {
   "cell_type": "markdown",
   "metadata": {},
   "source": [
    "Видим, что люди в возрасте и в браке более склонны уйти. Возможно, им не хватает каких-то семейных тарифов. Также видим, что люди с различными интернет услугами (`online_backup`, `device_protection` и т.д.) чаще уходят. Однако, возможно, это связано с длительностью контракта. Например, что те, кто пришел недавно и еще не собирается уходить еще не успел попользоваться большим количеством услуг."
   ]
  },
  {
   "cell_type": "markdown",
   "metadata": {},
   "source": [
    "## 10. <a id='toc10_'></a>Разделение данных       [&#8593;](#toc0_)"
   ]
  },
  {
   "cell_type": "code",
   "execution_count": 102,
   "metadata": {},
   "outputs": [
    {
     "data": {
      "application/vnd.microsoft.datawrangler.viewer.v0+json": {
       "columns": [
        {
         "name": "index",
         "rawType": "int64",
         "type": "integer"
        },
        {
         "name": "begin_date",
         "rawType": "datetime64[ns]",
         "type": "datetime"
        },
        {
         "name": "end_date",
         "rawType": "datetime64[ns]",
         "type": "datetime"
        },
        {
         "name": "type",
         "rawType": "object",
         "type": "string"
        },
        {
         "name": "paperless_billing",
         "rawType": "int64",
         "type": "integer"
        },
        {
         "name": "payment_method",
         "rawType": "object",
         "type": "string"
        },
        {
         "name": "monthly_charges",
         "rawType": "float64",
         "type": "float"
        },
        {
         "name": "total_charges",
         "rawType": "float64",
         "type": "float"
        },
        {
         "name": "gender",
         "rawType": "int64",
         "type": "integer"
        },
        {
         "name": "senior_citizen",
         "rawType": "int64",
         "type": "integer"
        },
        {
         "name": "partner",
         "rawType": "int64",
         "type": "integer"
        },
        {
         "name": "dependents",
         "rawType": "int64",
         "type": "integer"
        },
        {
         "name": "internet_service",
         "rawType": "object",
         "type": "string"
        },
        {
         "name": "online_security",
         "rawType": "float64",
         "type": "float"
        },
        {
         "name": "online_backup",
         "rawType": "float64",
         "type": "float"
        },
        {
         "name": "device_protection",
         "rawType": "float64",
         "type": "float"
        },
        {
         "name": "tech_support",
         "rawType": "float64",
         "type": "float"
        },
        {
         "name": "streaming_tv",
         "rawType": "float64",
         "type": "float"
        },
        {
         "name": "streaming_movies",
         "rawType": "float64",
         "type": "float"
        },
        {
         "name": "multiple_lines",
         "rawType": "float64",
         "type": "float"
        },
        {
         "name": "leave",
         "rawType": "int64",
         "type": "integer"
        }
       ],
       "conversionMethod": "pd.DataFrame",
       "ref": "16bc9b74-77ca-4b72-8307-f065624a54c6",
       "rows": [
        [
         "0",
         "2019-05-01 00:00:00",
         null,
         "One year",
         "1",
         "Mailed check",
         "65.6",
         "631.73",
         "0",
         "0",
         "1",
         "1",
         "DSL",
         "0.0",
         "1.0",
         "0.0",
         "1.0",
         "1.0",
         "0.0",
         "0.0",
         "0"
        ],
        [
         "1",
         "2019-05-01 00:00:00",
         null,
         "Month-to-month",
         "0",
         "Mailed check",
         "59.9",
         "539.1",
         "1",
         "0",
         "0",
         "0",
         "DSL",
         "0.0",
         "0.0",
         "0.0",
         "0.0",
         "0.0",
         "1.0",
         "1.0",
         "0"
        ],
        [
         "2",
         "2019-09-01 00:00:00",
         null,
         "Month-to-month",
         "1",
         "Electronic check",
         "73.9",
         "406.45",
         "1",
         "0",
         "0",
         "0",
         "Fiber optic",
         "0.0",
         "0.0",
         "1.0",
         "0.0",
         "0.0",
         "0.0",
         "0.0",
         "0"
        ],
        [
         "3",
         "2018-12-01 00:00:00",
         null,
         "Month-to-month",
         "1",
         "Electronic check",
         "98.0",
         "1372.0",
         "1",
         "1",
         "1",
         "0",
         "Fiber optic",
         "0.0",
         "1.0",
         "1.0",
         "0.0",
         "1.0",
         "1.0",
         "0.0",
         "0"
        ],
        [
         "4",
         "2019-09-01 00:00:00",
         null,
         "Month-to-month",
         "1",
         "Mailed check",
         "83.9",
         "444.67",
         "0",
         "1",
         "1",
         "0",
         "Fiber optic",
         "0.0",
         "0.0",
         "0.0",
         "1.0",
         "1.0",
         "0.0",
         "0.0",
         "0"
        ]
       ],
       "shape": {
        "columns": 20,
        "rows": 5
       }
      },
      "text/html": [
       "<div>\n",
       "<style scoped>\n",
       "    .dataframe tbody tr th:only-of-type {\n",
       "        vertical-align: middle;\n",
       "    }\n",
       "\n",
       "    .dataframe tbody tr th {\n",
       "        vertical-align: top;\n",
       "    }\n",
       "\n",
       "    .dataframe thead th {\n",
       "        text-align: right;\n",
       "    }\n",
       "</style>\n",
       "<table border=\"1\" class=\"dataframe\">\n",
       "  <thead>\n",
       "    <tr style=\"text-align: right;\">\n",
       "      <th></th>\n",
       "      <th>begin_date</th>\n",
       "      <th>end_date</th>\n",
       "      <th>type</th>\n",
       "      <th>paperless_billing</th>\n",
       "      <th>payment_method</th>\n",
       "      <th>monthly_charges</th>\n",
       "      <th>total_charges</th>\n",
       "      <th>gender</th>\n",
       "      <th>senior_citizen</th>\n",
       "      <th>partner</th>\n",
       "      <th>dependents</th>\n",
       "      <th>internet_service</th>\n",
       "      <th>online_security</th>\n",
       "      <th>online_backup</th>\n",
       "      <th>device_protection</th>\n",
       "      <th>tech_support</th>\n",
       "      <th>streaming_tv</th>\n",
       "      <th>streaming_movies</th>\n",
       "      <th>multiple_lines</th>\n",
       "      <th>leave</th>\n",
       "    </tr>\n",
       "  </thead>\n",
       "  <tbody>\n",
       "    <tr>\n",
       "      <th>0</th>\n",
       "      <td>2019-05-01</td>\n",
       "      <td>NaT</td>\n",
       "      <td>One year</td>\n",
       "      <td>1</td>\n",
       "      <td>Mailed check</td>\n",
       "      <td>65.6</td>\n",
       "      <td>631.73</td>\n",
       "      <td>0</td>\n",
       "      <td>0</td>\n",
       "      <td>1</td>\n",
       "      <td>1</td>\n",
       "      <td>DSL</td>\n",
       "      <td>0.0</td>\n",
       "      <td>1.0</td>\n",
       "      <td>0.0</td>\n",
       "      <td>1.0</td>\n",
       "      <td>1.0</td>\n",
       "      <td>0.0</td>\n",
       "      <td>0.0</td>\n",
       "      <td>0</td>\n",
       "    </tr>\n",
       "    <tr>\n",
       "      <th>1</th>\n",
       "      <td>2019-05-01</td>\n",
       "      <td>NaT</td>\n",
       "      <td>Month-to-month</td>\n",
       "      <td>0</td>\n",
       "      <td>Mailed check</td>\n",
       "      <td>59.9</td>\n",
       "      <td>539.10</td>\n",
       "      <td>1</td>\n",
       "      <td>0</td>\n",
       "      <td>0</td>\n",
       "      <td>0</td>\n",
       "      <td>DSL</td>\n",
       "      <td>0.0</td>\n",
       "      <td>0.0</td>\n",
       "      <td>0.0</td>\n",
       "      <td>0.0</td>\n",
       "      <td>0.0</td>\n",
       "      <td>1.0</td>\n",
       "      <td>1.0</td>\n",
       "      <td>0</td>\n",
       "    </tr>\n",
       "    <tr>\n",
       "      <th>2</th>\n",
       "      <td>2019-09-01</td>\n",
       "      <td>NaT</td>\n",
       "      <td>Month-to-month</td>\n",
       "      <td>1</td>\n",
       "      <td>Electronic check</td>\n",
       "      <td>73.9</td>\n",
       "      <td>406.45</td>\n",
       "      <td>1</td>\n",
       "      <td>0</td>\n",
       "      <td>0</td>\n",
       "      <td>0</td>\n",
       "      <td>Fiber optic</td>\n",
       "      <td>0.0</td>\n",
       "      <td>0.0</td>\n",
       "      <td>1.0</td>\n",
       "      <td>0.0</td>\n",
       "      <td>0.0</td>\n",
       "      <td>0.0</td>\n",
       "      <td>0.0</td>\n",
       "      <td>0</td>\n",
       "    </tr>\n",
       "    <tr>\n",
       "      <th>3</th>\n",
       "      <td>2018-12-01</td>\n",
       "      <td>NaT</td>\n",
       "      <td>Month-to-month</td>\n",
       "      <td>1</td>\n",
       "      <td>Electronic check</td>\n",
       "      <td>98.0</td>\n",
       "      <td>1372.00</td>\n",
       "      <td>1</td>\n",
       "      <td>1</td>\n",
       "      <td>1</td>\n",
       "      <td>0</td>\n",
       "      <td>Fiber optic</td>\n",
       "      <td>0.0</td>\n",
       "      <td>1.0</td>\n",
       "      <td>1.0</td>\n",
       "      <td>0.0</td>\n",
       "      <td>1.0</td>\n",
       "      <td>1.0</td>\n",
       "      <td>0.0</td>\n",
       "      <td>0</td>\n",
       "    </tr>\n",
       "    <tr>\n",
       "      <th>4</th>\n",
       "      <td>2019-09-01</td>\n",
       "      <td>NaT</td>\n",
       "      <td>Month-to-month</td>\n",
       "      <td>1</td>\n",
       "      <td>Mailed check</td>\n",
       "      <td>83.9</td>\n",
       "      <td>444.67</td>\n",
       "      <td>0</td>\n",
       "      <td>1</td>\n",
       "      <td>1</td>\n",
       "      <td>0</td>\n",
       "      <td>Fiber optic</td>\n",
       "      <td>0.0</td>\n",
       "      <td>0.0</td>\n",
       "      <td>0.0</td>\n",
       "      <td>1.0</td>\n",
       "      <td>1.0</td>\n",
       "      <td>0.0</td>\n",
       "      <td>0.0</td>\n",
       "      <td>0</td>\n",
       "    </tr>\n",
       "  </tbody>\n",
       "</table>\n",
       "</div>"
      ],
      "text/plain": [
       "  begin_date end_date            type  paperless_billing    payment_method  \\\n",
       "0 2019-05-01      NaT        One year                  1      Mailed check   \n",
       "1 2019-05-01      NaT  Month-to-month                  0      Mailed check   \n",
       "2 2019-09-01      NaT  Month-to-month                  1  Electronic check   \n",
       "3 2018-12-01      NaT  Month-to-month                  1  Electronic check   \n",
       "4 2019-09-01      NaT  Month-to-month                  1      Mailed check   \n",
       "\n",
       "   monthly_charges  total_charges  gender  senior_citizen  partner  \\\n",
       "0             65.6         631.73       0               0        1   \n",
       "1             59.9         539.10       1               0        0   \n",
       "2             73.9         406.45       1               0        0   \n",
       "3             98.0        1372.00       1               1        1   \n",
       "4             83.9         444.67       0               1        1   \n",
       "\n",
       "   dependents internet_service  online_security  online_backup  \\\n",
       "0           1              DSL              0.0            1.0   \n",
       "1           0              DSL              0.0            0.0   \n",
       "2           0      Fiber optic              0.0            0.0   \n",
       "3           0      Fiber optic              0.0            1.0   \n",
       "4           0      Fiber optic              0.0            0.0   \n",
       "\n",
       "   device_protection  tech_support  streaming_tv  streaming_movies  \\\n",
       "0                0.0           1.0           1.0               0.0   \n",
       "1                0.0           0.0           0.0               1.0   \n",
       "2                1.0           0.0           0.0               0.0   \n",
       "3                1.0           0.0           1.0               1.0   \n",
       "4                0.0           1.0           1.0               0.0   \n",
       "\n",
       "   multiple_lines  leave  \n",
       "0             0.0      0  \n",
       "1             1.0      0  \n",
       "2             0.0      0  \n",
       "3             0.0      0  \n",
       "4             0.0      0  "
      ]
     },
     "execution_count": 102,
     "metadata": {},
     "output_type": "execute_result"
    }
   ],
   "source": [
    "df.head()"
   ]
  },
  {
   "cell_type": "code",
   "execution_count": 103,
   "metadata": {},
   "outputs": [],
   "source": [
    "X = df.drop(columns=target)\n",
    "y = df[target]"
   ]
  },
  {
   "cell_type": "code",
   "execution_count": 104,
   "metadata": {},
   "outputs": [],
   "source": [
    "X_train, X_test, y_train, y_test = train_test_split(X,\n",
    "                                                    y,\n",
    "                                                    test_size=TEST_SIZE,\n",
    "                                                    random_state=RANDOM_STATE,\n",
    "                                                    stratify=y)"
   ]
  },
  {
   "cell_type": "code",
   "execution_count": 105,
   "metadata": {},
   "outputs": [],
   "source": [
    "num_cols = df.select_dtypes(include='number').columns.to_list()\n",
    "num_cols.remove(target)\n",
    "\n",
    "cat_cols = ['type', 'payment_method', 'internet_service']"
   ]
  },
  {
   "cell_type": "markdown",
   "metadata": {},
   "source": [
    "## 11. <a id='toc11_'></a>Модели       [&#8593;](#toc0_)"
   ]
  },
  {
   "cell_type": "markdown",
   "metadata": {},
   "source": [
    "### 11.1. <a id='toc11_1_'></a>Подготовка     [&#8593;](#toc0_)"
   ]
  },
  {
   "cell_type": "code",
   "execution_count": 106,
   "metadata": {},
   "outputs": [],
   "source": [
    "class StandardScalerForImputer(BaseEstimator, TransformerMixin):\n",
    "    def __init__(self):\n",
    "        super().__init__()\n",
    "        self.scaler = StandardScaler()\n",
    "        self.num_cols = None\n",
    "\n",
    "    def fit(self, X, y=None):\n",
    "        self.num_cols = X.select_dtypes(include='number').columns\n",
    "        self.scaler.fit(X[self.num_cols])\n",
    "        return self\n",
    "\n",
    "    def transform(self, X: pd.DataFrame) -> pd.DataFrame:\n",
    "        X_copy = X.copy()\n",
    "        X_copy[self.num_cols] = self.scaler.transform(X_copy[self.num_cols])\n",
    "        return X_copy\n",
    "\n",
    "    def inverse_transform(self, X: pd.DataFrame) -> pd.DataFrame:\n",
    "        X_copy = X.copy()\n",
    "        X_copy[self.num_cols] = self.scaler.inverse_transform(X_copy[self.num_cols])\n",
    "        return X_copy"
   ]
  },
  {
   "cell_type": "code",
   "execution_count": 107,
   "metadata": {},
   "outputs": [],
   "source": [
    "class DateExtractor(BaseEstimator, TransformerMixin):\n",
    "    def fit(self, _, y=None):\n",
    "        return self\n",
    "\n",
    "    def transform(self, X: pd.DataFrame) -> pd.DataFrame:\n",
    "        X = X.copy()\n",
    "        max_possible_date = pd.concat([X['begin_date'], X['end_date']]).max()\n",
    "        X['end_date'] = X['end_date'].fillna(max_possible_date)\n",
    "        X['contract_duration_days'] = (X['end_date'] - X['begin_date']).dt.days\n",
    "        X = X.drop(columns=['begin_date', 'end_date'])\n",
    "\n",
    "        return X"
   ]
  },
  {
   "cell_type": "code",
   "execution_count": 108,
   "metadata": {},
   "outputs": [],
   "source": [
    "class FeaturesGenerator(BaseEstimator, TransformerMixin):\n",
    "    service_cols = ['online_security', 'online_backup', 'device_protection', 'tech_support', 'streaming_tv', 'streaming_movies']\n",
    "\n",
    "    def fit(self, _, y=None):\n",
    "        return self\n",
    "\n",
    "    def transform(self, X: pd.DataFrame) -> pd.DataFrame:\n",
    "        X['total_services'] = X[self.service_cols].sum(axis=1)\n",
    "\n",
    "        return X"
   ]
  },
  {
   "cell_type": "code",
   "execution_count": 109,
   "metadata": {},
   "outputs": [],
   "source": [
    "class OneHotEncoderTransformer(BaseEstimator, TransformerMixin):\n",
    "    def __init__(self, cat_cols: list[str]):\n",
    "        super().__init__()\n",
    "        self.cat_cols = cat_cols\n",
    "        self.ohe = OneHotEncoder(drop='first', sparse_output=False, handle_unknown='infrequent_if_exist')\n",
    "\n",
    "    def fit(self, X, y=None):\n",
    "        self.ohe.fit(X[self.cat_cols])\n",
    "        return self\n",
    "\n",
    "    def transform(self, X: pd.DataFrame) -> pd.DataFrame:\n",
    "        encoded = pd.DataFrame(self.ohe.transform(X[self.cat_cols]),\n",
    "                               index=X.index,\n",
    "                               columns=self.ohe.get_feature_names_out())\n",
    "        return X.join(encoded).drop(columns=self.cat_cols)"
   ]
  },
  {
   "cell_type": "code",
   "execution_count": 110,
   "metadata": {},
   "outputs": [],
   "source": [
    "class KNNImputerWithScaling(BaseEstimator, TransformerMixin):\n",
    "    def __init__(self, n_neighbors: int = 5, threshold: float = 1e-6):\n",
    "        super().__init__()\n",
    "        self.n_neighbors = n_neighbors\n",
    "        self.threshold = threshold\n",
    "        self.scaler = StandardScalerForImputer()\n",
    "        self.imputer = KNNImputer(n_neighbors=n_neighbors)\n",
    "\n",
    "    def fit(self, X, y=None):\n",
    "        self.scaler.fit(X)\n",
    "        return self\n",
    "\n",
    "    def transform(self, X: pd.DataFrame) -> pd.DataFrame:\n",
    "        X_scaled = self.scaler.transform(X)\n",
    "        X_imputed = self.imputer.fit_transform(X_scaled)\n",
    "        X_imputed = pd.DataFrame(X_imputed, columns=X.columns, index=X.index)\n",
    "        X_imputed = self.scaler.inverse_transform(X_imputed)\n",
    "        X_imputed = self._round_small_values(X_imputed)\n",
    "        return X_imputed\n",
    "\n",
    "    def _round_small_values(self, X: pd.DataFrame) -> pd.DataFrame:\n",
    "        X_copy = X.copy()\n",
    "        for col in X_copy.columns:\n",
    "            X_copy[col] = np.where(np.abs(X_copy[col]) < self.threshold, 0, X_copy[col])\n",
    "        return X_copy"
   ]
  },
  {
   "cell_type": "code",
   "execution_count": 111,
   "metadata": {},
   "outputs": [],
   "source": [
    "preprocessor_pipeline = Pipeline([\n",
    "    ('date_extractor', DateExtractor()),\n",
    "    ('ohe', OneHotEncoderTransformer(cat_cols)),\n",
    "    ('knn_imputer', KNNImputerWithScaling(n_neighbors=5)),\n",
    "    ('features_generator', FeaturesGenerator()),\n",
    "])"
   ]
  },
  {
   "cell_type": "code",
   "execution_count": 112,
   "metadata": {},
   "outputs": [],
   "source": [
    "def get_objective(estimator,\n",
    "                  X_train: pd.DataFrame,\n",
    "                  y_train: pd.Series,\n",
    "                  verbose: bool = False):\n",
    "    def objective(params: dict) -> float:\n",
    "        \"\"\"Кросс-валидация с текущими гиперпараметрами.\n",
    "\n",
    "        Args:\n",
    "            estimator: пайплайн с моделью или отдельно модель\n",
    "            params (dict): гиперпараметры\n",
    "            X_train (pd.DataFrame): входные признаки (features)\n",
    "            y_train (pd.Series): целевой признак (target)\n",
    "\n",
    "        Returns:\n",
    "            dict: Словарь со средним значением метрики, гиперпараметрами и статусом.\n",
    "        \"\"\"\n",
    "        # Некоторые параметры могут быть только целочисленные, приводим их к нужному типу\n",
    "        for key, value in params.items():\n",
    "            if isinstance(value, float) and value % 1 == 0:\n",
    "                params[key] = int(value)\n",
    "\n",
    "        estimator.set_params(**params)\n",
    "        skf = StratifiedKFold(n_splits=3, shuffle=True, random_state=RANDOM_STATE)\n",
    "        try:\n",
    "            score = cross_val_score(estimator=estimator,\n",
    "                                    X=X_train,\n",
    "                                    y=y_train,\n",
    "                                    scoring='roc_auc',\n",
    "                                    cv=skf,\n",
    "                                    n_jobs=-1)\n",
    "\n",
    "            return {\n",
    "                'loss': -score.mean(),\n",
    "                'params': params,\n",
    "                'status': STATUS_OK\n",
    "            }\n",
    "        except Exception as e:\n",
    "            if verbose:\n",
    "                print(e)\n",
    "            return {'status': STATUS_FAIL}\n",
    "\n",
    "    return objective"
   ]
  },
  {
   "cell_type": "code",
   "execution_count": 113,
   "metadata": {},
   "outputs": [],
   "source": [
    "def get_model_results(estimator,\n",
    "                      param_space: dict,\n",
    "                      X_train: pd.DataFrame,\n",
    "                      y_train: pd.Series,\n",
    "                      max_evals: int = 100,\n",
    "                      verbose: bool = False\n",
    "                      ) -> tuple[dict, float]:\n",
    "    objective = get_objective(estimator, X_train, y_train, verbose)\n",
    "    trials = Trials()\n",
    "\n",
    "    fmin(\n",
    "        fn=objective,\n",
    "        space=param_space,\n",
    "        algo=tpe.suggest,\n",
    "        max_evals=max_evals,\n",
    "        trials=trials,\n",
    "        rstate=np.random.default_rng(RANDOM_STATE),\n",
    "        show_progressbar=True\n",
    "    )\n",
    "\n",
    "    clear_output()\n",
    "\n",
    "    best_params = trials.best_trial['result']['params']\n",
    "    best_score = abs(trials.best_trial['result']['loss'])\n",
    "    print(f'Finish with best ROC-AUC = {best_score:.4f}')\n",
    "\n",
    "    return best_params, best_score"
   ]
  },
  {
   "cell_type": "markdown",
   "metadata": {},
   "source": [
    "### 11.2. <a id='toc11_2_'></a>Модель `LogisticRegression`     [&#8593;](#toc0_)"
   ]
  },
  {
   "cell_type": "code",
   "execution_count": 114,
   "metadata": {},
   "outputs": [],
   "source": [
    "lr_pipeline = Pipeline([\n",
    "    ('preprocessor', preprocessor_pipeline),\n",
    "    ('scaler', StandardScaler()),\n",
    "    ('model', LogisticRegression(random_state=RANDOM_STATE))\n",
    "])"
   ]
  },
  {
   "cell_type": "code",
   "execution_count": 115,
   "metadata": {},
   "outputs": [],
   "source": [
    "param_space = {\n",
    "    'preprocessor__knn_imputer__n_neighbors': hp.choice('preprocessor__knn_imputer__n_neighbors', range(2, 6)),\n",
    "\n",
    "    'scaler': hp.choice('scaler', [StandardScaler(), 'passthrough']),\n",
    "\n",
    "    'model__C':                 hp.loguniform('model__C', -4, 4),                      # Регуляризация: обратная сила регуляризации (меньше значение -> сильнее регуляризация)\n",
    "    'model__penalty':           hp.choice('model__penalty', ['l1', 'l2']),             # Тип регуляризации: L1 или L2\n",
    "    'model__solver':            hp.choice('model__solver', ['liblinear']),             # Алгоритм оптимизации: liblinear подходит для L1 и L2\n",
    "    'model__max_iter':          hp.quniform('model__max_iter', 50, 300, 1),            # Максимальное количество итераций для сходимости\n",
    "    'model__class_weight':      hp.choice('model__class_weight', [None, 'balanced']),  # Веса классов: None или 'balanced' для учета дисбаланса классов\n",
    "    'model__fit_intercept':     hp.choice('model__fit_intercept', [True, False]),      # Добавлять ли intercept (смещение) в модель\n",
    "    'model__intercept_scaling': hp.uniform('model__intercept_scaling', 0.1, 10.0),     # Масштабирование intercept (актуально при penalty='l2')\n",
    "}"
   ]
  },
  {
   "cell_type": "code",
   "execution_count": 116,
   "metadata": {},
   "outputs": [],
   "source": [
    "# best_params_lr, best_score_lr = get_model_results(lr_pipeline, param_space, X_train, y_train)"
   ]
  },
  {
   "cell_type": "code",
   "execution_count": 117,
   "metadata": {},
   "outputs": [],
   "source": [
    "best_params_lr = {\n",
    "    'model__C': 0.25643782951910793,\n",
    "    'model__class_weight': 'balanced',\n",
    "    'model__fit_intercept': True,\n",
    "    'model__intercept_scaling': 1.6249939685399628,\n",
    "    'model__max_iter': 191,\n",
    "    'model__penalty': 'l2',\n",
    "    'model__solver': 'liblinear',\n",
    "    'preprocessor__knn_imputer__n_neighbors': 5,\n",
    "    'scaler': 'passthrough'\n",
    "}"
   ]
  },
  {
   "cell_type": "code",
   "execution_count": 118,
   "metadata": {},
   "outputs": [],
   "source": [
    "best_score_lr = 0.7619751200129977"
   ]
  },
  {
   "cell_type": "markdown",
   "metadata": {},
   "source": [
    "### 11.3. <a id='toc11_3_'></a>Модель `LinearSVC`     [&#8593;](#toc0_)"
   ]
  },
  {
   "cell_type": "code",
   "execution_count": 119,
   "metadata": {},
   "outputs": [],
   "source": [
    "svc_pipeline = Pipeline([\n",
    "    ('preprocessor', preprocessor_pipeline),\n",
    "    ('scaler', StandardScaler()),\n",
    "    ('model', LinearSVC(random_state=RANDOM_STATE))\n",
    "])"
   ]
  },
  {
   "cell_type": "code",
   "execution_count": 120,
   "metadata": {},
   "outputs": [],
   "source": [
    "param_space = {\n",
    "    'preprocessor__knn_imputer__n_neighbors': hp.choice('preprocessor__knn_imputer__n_neighbors', range(2, 6)),\n",
    "\n",
    "    'scaler': hp.choice('scaler', [StandardScaler(), 'passthrough']),\n",
    "\n",
    "    'model__C':                 hp.loguniform('C', -5, 2),                      # Регуляризация, логарифмический масштаб\n",
    "    'model__loss':              hp.choice('loss', ['hinge', 'squared_hinge']),  # Функция потерь\n",
    "    'model__penalty':           hp.choice('penalty', ['l2', 'l1']),             # Тип регуляризации\n",
    "    'model__dual':              hp.choice('dual', [True, False]),               # Двойственная или прямая задача\n",
    "    'model__tol':               hp.loguniform('tol', -10, -1),                  # Точность остановки\n",
    "    'model__max_iter':          hp.quniform('max_iter', 500, 2000, 100),        # Максимальное количество итераций\n",
    "    'model__intercept_scaling': hp.uniform('intercept_scaling', 0.1, 10.0),     # Масштабирование свободного члена\n",
    "    'model__class_weight':      hp.choice('class_weight', [None, 'balanced']),  # Веса классов\n",
    "}"
   ]
  },
  {
   "cell_type": "code",
   "execution_count": 121,
   "metadata": {},
   "outputs": [],
   "source": [
    "# best_params_svc, best_score_svc = get_model_results(svc_pipeline, param_space, X_train, y_train, 400)"
   ]
  },
  {
   "cell_type": "code",
   "execution_count": 122,
   "metadata": {},
   "outputs": [],
   "source": [
    "best_params_svc = {\n",
    "    'model__C': 0.4425617802532635,\n",
    "    'model__class_weight': None,\n",
    "    'model__dual': False,\n",
    "    'model__intercept_scaling': 8.661402437578248,\n",
    "    'model__loss': 'squared_hinge',\n",
    "    'model__max_iter': 1700,\n",
    "    'model__penalty': 'l2',\n",
    "    'model__tol': 0.007104327920258707,\n",
    "    'preprocessor__knn_imputer__n_neighbors': 5,\n",
    "    'scaler': StandardScaler()\n",
    "}"
   ]
  },
  {
   "cell_type": "code",
   "execution_count": 123,
   "metadata": {},
   "outputs": [],
   "source": [
    "best_score_svc = 0.7619351410863454"
   ]
  },
  {
   "cell_type": "markdown",
   "metadata": {},
   "source": [
    "### 11.4. <a id='toc11_4_'></a>Модель `RandomForestClassifier`     [&#8593;](#toc0_)"
   ]
  },
  {
   "cell_type": "code",
   "execution_count": 124,
   "metadata": {},
   "outputs": [],
   "source": [
    "rfc_pipeline = Pipeline([\n",
    "    ('preprocessor', preprocessor_pipeline),\n",
    "    ('model', RandomForestClassifier(random_state=RANDOM_STATE, n_jobs=-1))\n",
    "])"
   ]
  },
  {
   "cell_type": "code",
   "execution_count": 125,
   "metadata": {},
   "outputs": [],
   "source": [
    "param_space = {\n",
    "    'preprocessor__knn_imputer__n_neighbors': hp.choice('preprocessor__knn_imputer__n_neighbors', range(2, 6)),\n",
    "\n",
    "    'model__n_estimators':       hp.choice('model__n_estimators', [50, 100, 200, 500]),      # Количество деревьев в лесу\n",
    "    'model__criterion':          hp.choice('model__criterion', ['gini', 'entropy']),         # Критерий качества разбиения\n",
    "    'model__max_depth':          hp.choice('model__max_depth', [None, 10, 20, 30, 50]),      # Максимальная глубина дерева\n",
    "    'model__min_samples_split':  hp.choice('model__min_samples_split', [2, 5, 10]),          # Минимальное число объектов для разбиения\n",
    "    'model__min_samples_leaf':   hp.choice('model__min_samples_leaf', [1, 2, 4]),            # Минимальное число объектов в листе\n",
    "    'model__bootstrap':          hp.choice('model__bootstrap', [True, False]),               # Использовать бутстрэп выборки\n",
    "    'model__class_weight':       hp.choice('model__class_weight', [None, 'balanced']),       # Веса классов для несбалансированных данных\n",
    "}"
   ]
  },
  {
   "cell_type": "code",
   "execution_count": 126,
   "metadata": {},
   "outputs": [],
   "source": [
    "# best_params_rfc, best_score_rfc = get_model_results(rfc_pipeline, param_space, X_train, y_train, 100)"
   ]
  },
  {
   "cell_type": "code",
   "execution_count": 127,
   "metadata": {},
   "outputs": [],
   "source": [
    "best_params_rfc = {\n",
    "    'model__bootstrap': True,\n",
    "    'model__class_weight': None,\n",
    "    'model__criterion': 'entropy',\n",
    "    'model__max_depth': 10,\n",
    "    'model__min_samples_leaf': 4,\n",
    "    'model__min_samples_split': 5,\n",
    "    'model__n_estimators': 500,\n",
    "    'preprocessor__knn_imputer__n_neighbors': 4\n",
    "}"
   ]
  },
  {
   "cell_type": "code",
   "execution_count": 128,
   "metadata": {},
   "outputs": [],
   "source": [
    "best_score_rfc = 0.8140885828068285"
   ]
  },
  {
   "cell_type": "markdown",
   "metadata": {},
   "source": [
    "### 11.5. <a id='toc11_5_'></a>Модель `LGBMClassifier`     [&#8593;](#toc0_)"
   ]
  },
  {
   "cell_type": "code",
   "execution_count": 129,
   "metadata": {},
   "outputs": [],
   "source": [
    "lgbmc_pipeline = Pipeline([\n",
    "    ('preprocessor', preprocessor_pipeline),\n",
    "    ('model', LGBMClassifier(random_state=RANDOM_STATE, n_jobs=-1, verbose=-1))\n",
    "])"
   ]
  },
  {
   "cell_type": "code",
   "execution_count": 130,
   "metadata": {},
   "outputs": [],
   "source": [
    "param_space = {\n",
    "    'preprocessor__knn_imputer__n_neighbors': hp.choice('preprocessor__knn_imputer__n_neighbors', range(2, 6)),\n",
    "\n",
    "    'model__boosting_type':      hp.choice('model__boosting_type', ['gbdt', 'dart', 'goss']),    # Тип бустинга\n",
    "    'model__num_leaves':         hp.quniform('model__num_leaves', 10, 200, 1),                   # Количество листьев в дереве\n",
    "    'model__learning_rate':      hp.loguniform('model__learning_rate', -5, 0),                   # Скорость обучения\n",
    "    'model__n_estimators':       hp.quniform('model__n_estimators', 50, 500, 1),                 # Количество деревьев\n",
    "    'model__subsample':          hp.uniform('model__subsample', 0.5, 1.0),                       # Доля выборки для обучения каждого дерева\n",
    "    'model__colsample_bytree':   hp.uniform('model__colsample_bytree', 0.5, 1.0),                # Доля признаков для каждого дерева\n",
    "    'model__reg_alpha':          hp.loguniform('model__reg_alpha', -5, 2),                       # L1-регуляризация\n",
    "    'model__reg_lambda':         hp.loguniform('model__reg_lambda', -5, 2),                      # L2-регуляризация\n",
    "    'model__min_child_samples':  hp.quniform('model__min_child_samples', 5, 100, 1),             # Минимальное количество объектов в листе\n",
    "    'model__max_depth':          hp.choice('model__max_depth', [-1, 3, 5, 7, 10]),               # Максимальная глубина дерева (-1 = без ограничений)\n",
    "}"
   ]
  },
  {
   "cell_type": "code",
   "execution_count": 131,
   "metadata": {},
   "outputs": [],
   "source": [
    "# best_params_lgmbc, best_score_lgbmc = get_model_results(lgbmc_pipeline, param_space, X_train, y_train, 300)"
   ]
  },
  {
   "cell_type": "code",
   "execution_count": 132,
   "metadata": {},
   "outputs": [],
   "source": [
    "best_params_lgmbc = {\n",
    "    'model__boosting_type': 'gbdt',\n",
    "    'model__colsample_bytree': 0.6532832801373147,\n",
    "    'model__learning_rate': 0.22123213489026344,\n",
    "    'model__max_depth': 3,\n",
    "    'model__min_child_samples': 5,\n",
    "    'model__n_estimators': 444,\n",
    "    'model__num_leaves': 32,\n",
    "    'model__reg_alpha': 0.011340441514407726,\n",
    "    'model__reg_lambda': 0.8561859596945469,\n",
    "    'model__subsample': 0.7284356740591099,\n",
    "    'preprocessor__knn_imputer__n_neighbors': 4\n",
    "}"
   ]
  },
  {
   "cell_type": "code",
   "execution_count": 133,
   "metadata": {},
   "outputs": [],
   "source": [
    "best_score_lgbmc = 0.8845755389110286"
   ]
  },
  {
   "cell_type": "markdown",
   "metadata": {},
   "source": [
    "### 11.6. <a id='toc11_6_'></a>Модель `CatBoostClassifier`     [&#8593;](#toc0_)"
   ]
  },
  {
   "cell_type": "code",
   "execution_count": 134,
   "metadata": {},
   "outputs": [],
   "source": [
    "cbc_pipeline = Pipeline([\n",
    "    ('preprocessor', preprocessor_pipeline),\n",
    "    ('model', CatBoostClassifier(random_state=RANDOM_STATE, thread_count=-1, silent=True))\n",
    "])"
   ]
  },
  {
   "cell_type": "code",
   "execution_count": 135,
   "metadata": {},
   "outputs": [],
   "source": [
    "param_space = {\n",
    "    'model__iterations':                 hp.choice('model__iterations', [100, 200, 500]),                              # Количество деревьев\n",
    "    'model__learning_rate':              hp.uniform('model__learning_rate', 0.01, 0.3),                                # Скорость обучения\n",
    "    'model__depth':                      hp.choice('model__depth', [4, 6, 8, 10]),                                     # Глубина деревьев\n",
    "    'model__l2_leaf_reg':                hp.uniform('model__l2_leaf_reg', 1, 10),                                      # Коэффициент L2-регуляризации\n",
    "    'model__border_count':               hp.choice('model__border_count', [32, 64, 128, 254]),                         # Количество границ для разделения\n",
    "    'model__random_strength':            hp.uniform('model__random_strength', 0.1, 2.0),                               # Сила случайности при выборе разделений\n",
    "    'model__bagging_temperature':        hp.uniform('model__bagging_temperature', 0.0, 1.0),                           # Температура бэггинга\n",
    "    'model__leaf_estimation_iterations': hp.choice('model__leaf_estimation_iterations', [1, 5, 10]),                   # Количество итераций для оценки листьев\n",
    "    'model__grow_policy':                hp.choice('model__grow_policy', ['SymmetricTree', 'Depthwise', 'Lossguide']), # Стратегия роста деревьев\n",
    "    'model__min_data_in_leaf':           hp.choice('model__min_data_in_leaf', [1, 5, 10]),                             # Минимальное количество объектов в листе\n",
    "    'model__max_leaves':                 hp.choice('model__max_leaves', [31, 63, 127]),                                # Максимальное количество листьев\n",
    "}"
   ]
  },
  {
   "cell_type": "code",
   "execution_count": 136,
   "metadata": {},
   "outputs": [],
   "source": [
    "# best_params_cbc, best_score_cbc = get_model_results(cbc_pipeline, param_space, X_train, y_train, 300)"
   ]
  },
  {
   "cell_type": "code",
   "execution_count": 137,
   "metadata": {},
   "outputs": [],
   "source": [
    "best_params_cbc = {\n",
    "    'model__bagging_temperature': 0.049125804146064,\n",
    "    'model__border_count': 254,\n",
    "    'model__depth': 8,\n",
    "    'model__grow_policy': 'Lossguide',\n",
    "    'model__iterations': 500,\n",
    "    'model__l2_leaf_reg': 9.161695087934525,\n",
    "    'model__leaf_estimation_iterations': 10,\n",
    "    'model__learning_rate': 0.15109633667280611,\n",
    "    'model__max_leaves': 31,\n",
    "    'model__min_data_in_leaf': 1,\n",
    "    'model__random_strength': 0.8962664504629743\n",
    "}"
   ]
  },
  {
   "cell_type": "code",
   "execution_count": 138,
   "metadata": {},
   "outputs": [],
   "source": [
    "best_score_cbc = 0.9000945504680402"
   ]
  },
  {
   "cell_type": "markdown",
   "metadata": {},
   "source": [
    "### 11.7. <a id='toc11_7_'></a>Нейронная сеть [&#8593;](#toc0_)"
   ]
  },
  {
   "cell_type": "code",
   "execution_count": 139,
   "metadata": {},
   "outputs": [],
   "source": [
    "class TabularDS(Dataset):\n",
    "    def __init__(self, X, y):\n",
    "        self.X = torch.from_numpy(X)\n",
    "        self.y = torch.from_numpy(y)\n",
    "\n",
    "    def __len__(self):\n",
    "        return len(self.y)\n",
    "\n",
    "    def __getitem__(self, i):\n",
    "        return self.X[i], self.y[i]"
   ]
  },
  {
   "cell_type": "code",
   "execution_count": 140,
   "metadata": {},
   "outputs": [],
   "source": [
    "class MLP(nn.Module):\n",
    "    def __init__(self, inp, h=(128, 64), drop=0.2):\n",
    "        super().__init__()\n",
    "        layers, prev = [], inp\n",
    "        for k in h:\n",
    "            layers += [nn.Linear(prev, k),\n",
    "                        nn.ReLU(),\n",
    "                        nn.Dropout(drop)]\n",
    "            prev = k\n",
    "        layers.append(nn.Linear(prev, 1))\n",
    "        self.net = nn.Sequential(*layers)\n",
    "\n",
    "    def forward(self, x):\n",
    "        return self.net(x).squeeze(1)"
   ]
  },
  {
   "cell_type": "code",
   "execution_count": 141,
   "metadata": {},
   "outputs": [],
   "source": [
    "def run_epoch(model, loader, crit, opt=None):\n",
    "    model.train(opt is not None)\n",
    "    losses, preds, targs = [], [], []\n",
    "    for Xb, yb in loader:\n",
    "        out = model(Xb)\n",
    "        loss = crit(out, yb)\n",
    "        if opt:\n",
    "            opt.zero_grad()\n",
    "            loss.backward()\n",
    "            opt.step()\n",
    "        losses.append(loss.item() * len(yb))\n",
    "        preds.append(torch.sigmoid(out).detach())\n",
    "        targs.append(yb)\n",
    "    preds = torch.cat(preds)\n",
    "    targs = torch.cat(targs)\n",
    "\n",
    "    return sum(losses) / len(loader.dataset), roc_auc_score(targs, preds)\n"
   ]
  },
  {
   "cell_type": "code",
   "execution_count": 142,
   "metadata": {},
   "outputs": [],
   "source": [
    "X_train_np = preprocessor_pipeline.fit_transform(X_train).to_numpy(dtype=np.float32)\n",
    "y_train_np = y_train.to_numpy(dtype=np.float32)"
   ]
  },
  {
   "cell_type": "code",
   "execution_count": 143,
   "metadata": {},
   "outputs": [],
   "source": [
    "X_tr, X_val, y_tr, y_val = train_test_split(X_train_np,\n",
    "                                            y_train_np,\n",
    "                                            test_size=0.2,\n",
    "                                            stratify=y_train_np,\n",
    "                                            random_state=RANDOM_STATE)"
   ]
  },
  {
   "cell_type": "code",
   "execution_count": 144,
   "metadata": {},
   "outputs": [],
   "source": [
    "pos_w = torch.tensor([(y_tr == 0).sum() / (y_tr == 1).sum()], dtype=torch.float32)\n",
    "crit  = nn.BCEWithLogitsLoss(pos_weight=pos_w)"
   ]
  },
  {
   "cell_type": "code",
   "execution_count": 145,
   "metadata": {},
   "outputs": [],
   "source": [
    "tr_loader = DataLoader(TabularDS(X_tr, y_tr), batch_size=64, shuffle=True)\n",
    "val_loader= DataLoader(TabularDS(X_val, y_val), batch_size=64)"
   ]
  },
  {
   "cell_type": "code",
   "execution_count": 146,
   "metadata": {},
   "outputs": [],
   "source": [
    "model = MLP(X_tr.shape[1])\n",
    "opt = torch.optim.AdamW(model.parameters(), lr=1e-3, weight_decay=1e-4)"
   ]
  },
  {
   "cell_type": "code",
   "execution_count": 147,
   "metadata": {},
   "outputs": [],
   "source": [
    "EPOCHS = 150"
   ]
  },
  {
   "cell_type": "code",
   "execution_count": 148,
   "metadata": {},
   "outputs": [
    {
     "name": "stdout",
     "output_type": "stream",
     "text": [
      "Epoch [10/150]  train 0.5587 | val 0.5686\n",
      "Epoch [20/150]  train 0.5529 | val 0.5708\n",
      "Epoch [30/150]  train 0.5541 | val 0.5862\n",
      "Epoch [40/150]  train 0.5587 | val 0.5868\n",
      "Epoch [50/150]  train 0.5428 | val 0.5844\n",
      "Epoch [60/150]  train 0.6181 | val 0.6163\n",
      "Epoch [70/150]  train 0.5898 | val 0.6368\n",
      "Epoch [80/150]  train 0.6292 | val 0.6363\n",
      "Epoch [90/150]  train 0.6135 | val 0.6443\n",
      "Epoch [100/150]  train 0.6128 | val 0.6407\n",
      "Epoch [110/150]  train 0.6339 | val 0.6586\n",
      "Epoch [120/150]  train 0.6402 | val 0.6578\n",
      "Epoch [130/150]  train 0.6592 | val 0.6722\n",
      "Epoch [140/150]  train 0.6658 | val 0.6827\n",
      "Epoch [150/150]  train 0.6623 | val 0.7154\n",
      "Best ROC‑AUC: 0.7566245413779045\n"
     ]
    }
   ],
   "source": [
    "best_score_nn = 0\n",
    "for epoch in range(1, EPOCHS + 1):\n",
    "    tl, ta = run_epoch(model, tr_loader, crit, opt)\n",
    "    vl, va = run_epoch(model, val_loader, crit)\n",
    "    if epoch % 10 == 0:\n",
    "        print(f'Epoch [{epoch:02d}/{EPOCHS}]  train {ta:.4f} | val {va:.4f}')\n",
    "    if va > best_score_nn:\n",
    "        best_score_nn = va\n",
    "print('Best ROC‑AUC:', best_score_nn)"
   ]
  },
  {
   "cell_type": "markdown",
   "metadata": {},
   "source": [
    "## 12. <a id='toc12_'></a>Результаты      [&#8593;](#toc0_)"
   ]
  },
  {
   "cell_type": "markdown",
   "metadata": {},
   "source": [
    "### 12.1. <a id='toc12_1_'></a>Результаты на трейне      [&#8593;](#toc0_)"
   ]
  },
  {
   "cell_type": "code",
   "execution_count": 149,
   "metadata": {},
   "outputs": [
    {
     "data": {
      "application/vnd.microsoft.datawrangler.viewer.v0+json": {
       "columns": [
        {
         "name": "index",
         "rawType": "object",
         "type": "string"
        },
        {
         "name": "roc_auc",
         "rawType": "float64",
         "type": "float"
        }
       ],
       "conversionMethod": "pd.DataFrame",
       "ref": "f61e9073-88bb-4b43-9408-709839ae569b",
       "rows": [
        [
         "NN",
         "0.7566245413779045"
        ],
        [
         "LinearSVC",
         "0.7619351410863454"
        ],
        [
         "LogisticRegression",
         "0.7619751200129977"
        ],
        [
         "RandomForestClassifier",
         "0.8140885828068285"
        ],
        [
         "LGBMClassifier",
         "0.8845755389110286"
        ],
        [
         "CatBoostClassifier",
         "0.9000945504680402"
        ]
       ],
       "shape": {
        "columns": 1,
        "rows": 6
       }
      },
      "text/html": [
       "<div>\n",
       "<style scoped>\n",
       "    .dataframe tbody tr th:only-of-type {\n",
       "        vertical-align: middle;\n",
       "    }\n",
       "\n",
       "    .dataframe tbody tr th {\n",
       "        vertical-align: top;\n",
       "    }\n",
       "\n",
       "    .dataframe thead th {\n",
       "        text-align: right;\n",
       "    }\n",
       "</style>\n",
       "<table border=\"1\" class=\"dataframe\">\n",
       "  <thead>\n",
       "    <tr style=\"text-align: right;\">\n",
       "      <th></th>\n",
       "      <th>roc_auc</th>\n",
       "    </tr>\n",
       "  </thead>\n",
       "  <tbody>\n",
       "    <tr>\n",
       "      <th>NN</th>\n",
       "      <td>0.7566</td>\n",
       "    </tr>\n",
       "    <tr>\n",
       "      <th>LinearSVC</th>\n",
       "      <td>0.7619</td>\n",
       "    </tr>\n",
       "    <tr>\n",
       "      <th>LogisticRegression</th>\n",
       "      <td>0.7620</td>\n",
       "    </tr>\n",
       "    <tr>\n",
       "      <th>RandomForestClassifier</th>\n",
       "      <td>0.8141</td>\n",
       "    </tr>\n",
       "    <tr>\n",
       "      <th>LGBMClassifier</th>\n",
       "      <td>0.8846</td>\n",
       "    </tr>\n",
       "    <tr>\n",
       "      <th>CatBoostClassifier</th>\n",
       "      <td>0.9001</td>\n",
       "    </tr>\n",
       "  </tbody>\n",
       "</table>\n",
       "</div>"
      ],
      "text/plain": [
       "                        roc_auc\n",
       "NN                       0.7566\n",
       "LinearSVC                0.7619\n",
       "LogisticRegression       0.7620\n",
       "RandomForestClassifier   0.8141\n",
       "LGBMClassifier           0.8846\n",
       "CatBoostClassifier       0.9001"
      ]
     },
     "execution_count": 149,
     "metadata": {},
     "output_type": "execute_result"
    }
   ],
   "source": [
    "pd.options.display.float_format = '{:.4f}'.format\n",
    "\n",
    "pd.DataFrame(\n",
    "    data=[best_score_rfc, best_score_cbc, best_score_lgbmc, best_score_lr, best_score_svc, best_score_nn],\n",
    "    index=['RandomForestClassifier', 'CatBoostClassifier', 'LGBMClassifier', 'LogisticRegression', 'LinearSVC', 'NN'],\n",
    "    columns=['roc_auc']\n",
    ").sort_values('roc_auc', ascending=True)"
   ]
  },
  {
   "cell_type": "markdown",
   "metadata": {},
   "source": [
    "При обучении на кросс-валидации все модели показали неплохой результат. Лучше всего оказались `LGBMClassifier` и `CatBoostClassifier`, где последняя выиграла с небольшим отрывом. Именно ее и проверим на тестовой выборке."
   ]
  },
  {
   "cell_type": "markdown",
   "metadata": {},
   "source": [
    "### 12.2. <a id='toc12_2_'></a>Результаты на тесте      [&#8593;](#toc0_)"
   ]
  },
  {
   "cell_type": "code",
   "execution_count": 150,
   "metadata": {},
   "outputs": [],
   "source": [
    "cbc_pipeline.set_params(**best_params_cbc)\n",
    "cbc_pipeline.fit(X_train, y_train);"
   ]
  },
  {
   "cell_type": "code",
   "execution_count": 151,
   "metadata": {},
   "outputs": [],
   "source": [
    "y_pred = cbc_pipeline.predict(X_test)\n",
    "y_pred_probs = cbc_pipeline.predict_proba(X_test)[:, 1]"
   ]
  },
  {
   "cell_type": "code",
   "execution_count": 152,
   "metadata": {},
   "outputs": [
    {
     "name": "stdout",
     "output_type": "stream",
     "text": [
      " ROC-AUC on test = 0.9214\n",
      "Accuracy on test = 0.9165\n",
      "  Recall on test = 0.5527\n"
     ]
    }
   ],
   "source": [
    "roc_auc = roc_auc_score(y_test, y_pred_probs)\n",
    "print(f' ROC-AUC on test = {roc_auc:.4f}')\n",
    "\n",
    "accuracy = accuracy_score(y_test, y_pred)\n",
    "print(f'Accuracy on test = {accuracy:.4f}')\n",
    "\n",
    "recall = recall_score(y_test, y_pred)\n",
    "print(f'  Recall on test = {recall:.4f}')"
   ]
  },
  {
   "cell_type": "code",
   "execution_count": 153,
   "metadata": {},
   "outputs": [
    {
     "name": "stdout",
     "output_type": "stream",
     "text": [
      "              precision    recall  f1-score   support\n",
      "\n",
      "           0       0.92      0.98      0.95      1486\n",
      "           1       0.86      0.55      0.67       275\n",
      "\n",
      "    accuracy                           0.92      1761\n",
      "   macro avg       0.89      0.77      0.81      1761\n",
      "weighted avg       0.91      0.92      0.91      1761\n",
      "\n"
     ]
    }
   ],
   "source": [
    "print(classification_report(y_test, y_pred))"
   ]
  },
  {
   "cell_type": "code",
   "execution_count": 154,
   "metadata": {},
   "outputs": [
    {
     "data": {
      "image/png": "[encoded data removed]",
      "text/plain": [
       "<Figure size 640x480 with 2 Axes>"
      ]
     },
     "metadata": {},
     "output_type": "display_data"
    }
   ],
   "source": [
    "ConfusionMatrixDisplay.from_predictions (y_test, y_pred, cmap='Greens');"
   ]
  },
  {
   "cell_type": "markdown",
   "metadata": {},
   "source": [
    "Метрика на тестовой выборке примерно такая же, как на тренировочной."
   ]
  },
  {
   "cell_type": "markdown",
   "metadata": {},
   "source": [
    "### 12.3. <a id='toc12_3_'></a>Важность признаков      [&#8593;](#toc0_)"
   ]
  },
  {
   "cell_type": "code",
   "execution_count": 155,
   "metadata": {},
   "outputs": [],
   "source": [
    "best_model = cbc_pipeline.named_steps['model']"
   ]
  },
  {
   "cell_type": "code",
   "execution_count": 156,
   "metadata": {},
   "outputs": [],
   "source": [
    "X_test_transformed = cbc_pipeline.named_steps['preprocessor'].transform(X_test)"
   ]
  },
  {
   "cell_type": "code",
   "execution_count": 157,
   "metadata": {},
   "outputs": [
    {
     "data": {
      "image/png": "[encoded data removed]",
      "text/plain": [
       "<Figure size 800x950 with 2 Axes>"
      ]
     },
     "metadata": {},
     "output_type": "display_data"
    }
   ],
   "source": [
    "explainer = shap.TreeExplainer(best_model)\n",
    "shap_values = explainer.shap_values(X_test_transformed)\n",
    "shap.summary_plot(shap_values, X_test_transformed)"
   ]
  },
  {
   "cell_type": "markdown",
   "metadata": {},
   "source": [
    "Слева представлен класс `0`, то есть, что клиент НЕ уйдет.\n",
    "\n",
    "Анализ важности признаков помогает сделать следующие выводы:\n",
    "- Чем меньше клиент пользуется услугами компаниями, тем больше шанс, что он уйдет.\n",
    "- Чем больше клиент платит каждый месяц, тем больше шанс, что он уйдет. Это выглядит довольно логично, люди ищут более выгодные условия.\n",
    "- Больше склонны уйти люди, кто заключается контракт на год.\n",
    "- Все остальные признаки практически не имеют влияния на таргет."
   ]
  },
  {
   "cell_type": "markdown",
   "metadata": {},
   "source": [
    "## 13. <a id='toc13_'></a>Итоговый вывод          [&#8593;](#toc0_)"
   ]
  },
  {
   "cell_type": "markdown",
   "metadata": {},
   "source": [
    "В финальном проекте нам было дано 4 таблицы с информацией о клиентах:\n",
    "- `contract` — информация о договоре;\n",
    "- `personal` — персональные данные клиента;\n",
    "- `internet` — информация об интернет-услугах;\n",
    "- `phone` — информация об услугах телефонии.\n",
    "\n",
    "Первые два содержат информацию о всех клиентах выборки, а в 3 и 4 отсутствуют данные о части абонентов: `9.68%` и `21.67%` соответственно. В остальном датасеты не имеют пропусков и полных дубликатов. Имена признаков во всех датасетах не соотвествовали PEP8 и были приведены к *camel_case*. Все данные выглядят адекватно - выбросы и аномалии отсутствуют.\n",
    "\n",
    "Далее все датасеты были объединены в один по `customer_id`. Получившийся датасет содержит информацию обо всех клиентах выборке (как в первых двух датасетах). Если данных не было - там стоит значение NaN. Позже пропуски были заполнены в пайплайне через `KNNImputer`. Полные дубликаты отсутствуют.\n",
    "\n",
    "Далее был выделен таргет. Наблюдается довольно серьезный дизбаланс (`≈ 85/15`) в пользу класса `0` (клиент НЕ уйдет).\n",
    "\n",
    "Были протестированы 6 различных моделей: `LogisticRegression`, `LinearSVC`, `RandomForestClassifier`, `LGBMClassifier`, `CatBoostClassifier` и полносвязная нейронная сеть. Все они показали неплохой результат. Две последние справились лучше всего, и `CatBoostClassifier` победил с небольшим отрывом. Именно он был протестирован на тестовой выборке и показал следующие результаты:\\\n",
    "ROC-AUC = 0.9214\\\n",
    "Accuracy = 0.9165\\\n",
    "Recall = 0.5527\n",
    "\n",
    "Модель показала довольно неплохие результаты. В будущем еще можно поработать над переобучением и над повышением метрики *recall*, так как она является очень важной в данной задаче.\n",
    "\n",
    "Анализ важности признаков помогает сделать следующие выводы:\n",
    "- Чем меньше клиент пользуется услугами компаниями, тем больше шанс, что он уйдет.\n",
    "- Чем больше клиент платит каждый месяц, тем больше шанс, что он уйдет. Это выглядит довольно логично, люди ищут более выгодные условия.\n",
    "- Больше склонны уйти люди, кто заключается контракт на год.\n",
    "- Все остальные признаки практически не имеют влияния на таргет.\n",
    "\n",
    "Целевая метрика (`ROC_AUC >= 0.85`) была достигнута, следовательно проект можно считать успешным."
   ]
  }
 ],
 "metadata": {
  "ExecuteTimeLog": [
   {
    "duration": 76,
    "start_time": "2025-04-22T18:12:52.123Z"
   },
   {
    "duration": 72,
    "start_time": "2025-04-22T18:13:40.998Z"
   },
   {
    "duration": 82,
    "start_time": "2025-04-22T18:25:45.481Z"
   },
   {
    "duration": 3,
    "start_time": "2025-04-22T18:28:36.775Z"
   },
   {
    "duration": 7,
    "start_time": "2025-04-22T18:28:43.635Z"
   },
   {
    "duration": 434312,
    "start_time": "2025-04-22T18:28:44.256Z"
   },
   {
    "duration": 1581,
    "start_time": "2025-04-22T18:35:58.571Z"
   },
   {
    "duration": 0,
    "start_time": "2025-04-22T18:36:00.154Z"
   },
   {
    "duration": 0,
    "start_time": "2025-04-22T18:36:00.155Z"
   },
   {
    "duration": 0,
    "start_time": "2025-04-22T18:36:00.157Z"
   },
   {
    "duration": 72,
    "start_time": "2025-04-22T18:45:40.915Z"
   }
  ],
  "kernelspec": {
   "display_name": "true12",
   "language": "python",
   "name": "python3"
  },
  "language_info": {
   "codemirror_mode": {
    "name": "ipython",
    "version": 3
   },
   "file_extension": ".py",
   "mimetype": "text/x-python",
   "name": "python",
   "nbconvert_exporter": "python",
   "pygments_lexer": "ipython3",
   "version": "3.12.9"
  },
  "toc": {
   "base_numbering": 1,
   "nav_menu": {},
   "number_sections": true,
   "sideBar": true,
   "skip_h1_title": true,
   "title_cell": "Table of Contents",
   "title_sidebar": "Contents",
   "toc_cell": false,
   "toc_position": {},
   "toc_section_display": true,
   "toc_window_display": false
  }
 },
 "nbformat": 4,
 "nbformat_minor": 2
}
