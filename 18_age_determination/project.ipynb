{
 "cells": [
  {
   "cell_type": "markdown",
   "metadata": {},
   "source": [
    "# Age determination 🔎"
   ]
  },
  {
   "cell_type": "markdown",
   "metadata": {},
   "source": [
    "Сетевой супермаркет «Хлеб-Соль» внедряет систему компьютерного зрения для обработки фотографий покупателей. Фотофиксация в прикассовой зоне поможет определять возраст клиентов, чтобы:\n",
    "\n",
    "- анализировать покупки и предлагать товары, которые могут заинтересовать покупателей этой возрастной группы;\n",
    "- контролировать добросовестность кассиров при продаже алкоголя.\n",
    "\n",
    "Необходимо построить модель, которая по фотографии определит приблизительный возраст человека. В нашем распоряжении набор фотографий людей с указанием возраста.\n",
    "\n",
    "Перед нами задача регрессии. На выходе будет 1 слой с ReLU функцией активации, чтобы, например привести к 0 все отрицательные числа.\n",
    "\n",
    "Данные взяты с сайта [ChaLearn Looking at People](http://chalearnlap.cvc.uab.es/dataset/26/description/)."
   ]
  },
  {
   "cell_type": "markdown",
   "metadata": {},
   "source": [
    "**Содержание**<a id='toc0_'></a>    \n",
    "1. [Подготовка ](#toc1_)    \n",
    "1.1. [Библиотеки ](#toc1_1_)    \n",
    "1.2. [Конфигурация ](#toc1_2_)    \n",
    "2. [Данные ](#toc2_)    \n",
    "2.1. [Загрузка ](#toc2_1_)    \n",
    "2.2. [Распределение по возрастам ](#toc2_2_)    \n",
    "2.3. [Визуальный осмотр ](#toc2_3_)    \n",
    "2.4. [Выводы по данным ](#toc2_4_)    \n",
    "3. [Предсказание ](#toc3_)    \n",
    "3.1. [Загрузчики ](#toc3_1_)    \n",
    "3.2. [Модель ](#toc3_2_)    \n",
    "4. [Результаты](#toc4_)    \n",
    "4.1. [Проверка на тесте](#toc4_1_)    \n",
    "5. [Итоговый вывод ](#toc5_)    \n",
    "\n",
    "<!-- vscode-jupyter-toc-config\n",
    "\tnumbering=true\n",
    "\tanchor=true\n",
    "\tflat=true\n",
    "\tminLevel=2\n",
    "\tmaxLevel=6\n",
    "\t/vscode-jupyter-toc-config -->\n",
    "<!-- THIS CELL WILL BE REPLACED ON TOC UPDATE. DO NOT WRITE YOUR TEXT IN THIS CELL -->"
   ]
  },
  {
   "cell_type": "markdown",
   "metadata": {},
   "source": [
    "## 1. <a id='toc1_'></a>Подготовка  [&#8593;](#toc0_)"
   ]
  },
  {
   "cell_type": "markdown",
   "metadata": {},
   "source": [
    "### 1.1. <a id='toc1_1_'></a>Библиотеки  [&#8593;](#toc0_)"
   ]
  },
  {
   "cell_type": "code",
   "execution_count": null,
   "metadata": {},
   "outputs": [],
   "source": [
    "import pandas as pd\n",
    "import matplotlib.pyplot as plt\n",
    "import tensorflow as tf\n",
    "\n",
    "from termcolor import colored\n",
    "from tensorflow.keras.preprocessing.image import ImageDataGenerator\n",
    "from tensorflow.keras.applications import ResNet50\n",
    "from tensorflow.keras.models import Sequential\n",
    "from tensorflow.keras.layers import (Dense,\n",
    "                                     GlobalAveragePooling2D)\n",
    "from tensorflow.keras.optimizers import Adam"
   ]
  },
  {
   "cell_type": "markdown",
   "metadata": {},
   "source": [
    "### 1.2. <a id='toc1_2_'></a>Конфигурация  [&#8593;](#toc0_)"
   ]
  },
  {
   "cell_type": "code",
   "execution_count": null,
   "metadata": {},
   "outputs": [],
   "source": [
    "IMAGE_SIZE = (224, 224)\n",
    "RANDOM_STATE = 27\n",
    "BATCH_SIZE = 32\n",
    "EPOCHS = 10"
   ]
  },
  {
   "cell_type": "markdown",
   "metadata": {},
   "source": [
    "## 2. <a id='toc2_'></a>Данные  [&#8593;](#toc0_)"
   ]
  },
  {
   "cell_type": "markdown",
   "metadata": {},
   "source": [
    "### 2.1. <a id='toc2_1_'></a>Загрузка  [&#8593;](#toc0_)"
   ]
  },
  {
   "cell_type": "code",
   "execution_count": null,
   "metadata": {},
   "outputs": [],
   "source": [
    "y_train = pd.read_csv('./data/gt_train.csv', usecols=['file_name', 'real_age']).drop_duplicates()\n",
    "y_train.head()"
   ]
  },
  {
   "cell_type": "code",
   "execution_count": null,
   "metadata": {
    "scrolled": true
   },
   "outputs": [],
   "source": [
    "y_train.info()"
   ]
  },
  {
   "cell_type": "code",
   "execution_count": null,
   "metadata": {},
   "outputs": [],
   "source": [
    "y_train.describe()"
   ]
  },
  {
   "cell_type": "markdown",
   "metadata": {},
   "source": [
    "### 2.2. <a id='toc2_2_'></a>Распределение по возрастам  [&#8593;](#toc0_)"
   ]
  },
  {
   "cell_type": "code",
   "execution_count": null,
   "metadata": {},
   "outputs": [],
   "source": [
    "plt.figure(figsize=(15, 5))\n",
    "y_train['real_age'].hist(bins=50)\n",
    "plt.title('Гистограмма распределения возрастов')\n",
    "plt.xlabel('Возраст, лет')\n",
    "plt.ylabel('Количество, шт.')\n",
    "plt.show()"
   ]
  },
  {
   "cell_type": "markdown",
   "metadata": {},
   "source": [
    "### 2.3. <a id='toc2_3_'></a>Визуальный осмотр  [&#8593;](#toc0_)"
   ]
  },
  {
   "cell_type": "code",
   "execution_count": null,
   "metadata": {},
   "outputs": [],
   "source": [
    "train_datagen = ImageDataGenerator(rescale=1./255)\n",
    "train_gen_flow = train_datagen.flow_from_dataframe(\n",
    "        dataframe=y_train,\n",
    "        directory='./data/train',\n",
    "        x_col='file_name',\n",
    "        y_col='real_age',\n",
    "        target_size=IMAGE_SIZE,\n",
    "        batch_size=BATCH_SIZE,\n",
    "        class_mode='raw',\n",
    "        seed=RANDOM_STATE)"
   ]
  },
  {
   "cell_type": "code",
   "execution_count": null,
   "metadata": {},
   "outputs": [],
   "source": [
    "images, labels = next(train_gen_flow)\n",
    "images = images[:10]\n",
    "labels = labels[:10]"
   ]
  },
  {
   "cell_type": "code",
   "execution_count": null,
   "metadata": {},
   "outputs": [],
   "source": [
    "rows, cols = 5, 2"
   ]
  },
  {
   "cell_type": "code",
   "execution_count": null,
   "metadata": {},
   "outputs": [],
   "source": [
    "fig, axes = plt.subplots(rows, cols, figsize=(10, 5 * rows))\n",
    "\n",
    "for i, (img, label) in enumerate(zip(images, labels)):\n",
    "    row = i // cols\n",
    "    col = i % cols\n",
    "    ax = axes[row, col]\n",
    "    ax.imshow(img)\n",
    "    ax.set_title(f'Age = {label}')\n",
    "    ax.axis('off')\n",
    "\n",
    "plt.tight_layout()\n",
    "plt.show()"
   ]
  },
  {
   "cell_type": "markdown",
   "metadata": {},
   "source": [
    "### 2.4. <a id='toc2_4_'></a>Выводы по данным  [&#8593;](#toc0_)"
   ]
  },
  {
   "cell_type": "markdown",
   "metadata": {},
   "source": [
    "Представлены изображения людей обоих полов и самых разных возрастов. Присутствуют изображения, которые повернуты и/или обрезаны. Распределение возрастов смещено влево (в сторону меньшего возраста). Также заметны пики на юбилейных годах (20, 25, 30...). Возможно, это связано с округлением при сборе информации."
   ]
  },
  {
   "cell_type": "markdown",
   "metadata": {},
   "source": [
    "## 3. <a id='toc3_'></a>Предсказание  [&#8593;](#toc0_)"
   ]
  },
  {
   "cell_type": "markdown",
   "metadata": {},
   "source": [
    "### 3.1. <a id='toc3_1_'></a>Загрузчики  [&#8593;](#toc0_)"
   ]
  },
  {
   "cell_type": "code",
   "execution_count": null,
   "metadata": {},
   "outputs": [],
   "source": [
    "y_train = pd.read_csv('./data/gt_train.csv', usecols=['file_name', 'real_age']).drop_duplicates()\n",
    "\n",
    "train_datagen = ImageDataGenerator(\n",
    "    rescale=1./255,\n",
    "    horizontal_flip=True,\n",
    "    width_shift_range=0.2,\n",
    "    height_shift_range=0.2,\n",
    "    rotation_range=20)\n",
    "\n",
    "train_datagen_flow = train_datagen.flow_from_dataframe(\n",
    "    dataframe=y_train,\n",
    "    directory='./data/train',\n",
    "    x_col='file_name',\n",
    "    y_col='real_age',\n",
    "    target_size=IMAGE_SIZE,\n",
    "    batch_size=BATCH_SIZE,\n",
    "    class_mode='raw',\n",
    "    seed=RANDOM_STATE)"
   ]
  },
  {
   "cell_type": "code",
   "execution_count": null,
   "metadata": {},
   "outputs": [],
   "source": [
    "y_valid = pd.read_csv('./data/gt_valid.csv', usecols=['file_name', 'real_age']).drop_duplicates()\n",
    "\n",
    "valid_datagen = ImageDataGenerator(rescale=1./255)\n",
    "\n",
    "valid_datagen_flow = valid_datagen.flow_from_dataframe(\n",
    "    dataframe=y_valid,\n",
    "    directory='./data/valid',\n",
    "    x_col='file_name',\n",
    "    y_col='real_age',\n",
    "    target_size=IMAGE_SIZE,\n",
    "    batch_size=BATCH_SIZE,\n",
    "    class_mode='raw',\n",
    "    seed=RANDOM_STATE)"
   ]
  },
  {
   "cell_type": "code",
   "execution_count": null,
   "metadata": {},
   "outputs": [],
   "source": [
    "y_test = pd.read_csv('./data/gt_test.csv', usecols=['file_name', 'real_age']).drop_duplicates()\n",
    "\n",
    "test_datagen = ImageDataGenerator(rescale=1./255)\n",
    "\n",
    "test_datagen_flow = test_datagen.flow_from_dataframe(\n",
    "    dataframe=y_test,\n",
    "    directory='./data/test',\n",
    "    x_col='file_name',\n",
    "    y_col='real_age',\n",
    "    target_size=IMAGE_SIZE,\n",
    "    batch_size=BATCH_SIZE,\n",
    "    class_mode='raw',\n",
    "    seed=RANDOM_STATE)"
   ]
  },
  {
   "cell_type": "markdown",
   "metadata": {},
   "source": [
    "### 3.2. <a id='toc3_2_'></a>Модель  [&#8593;](#toc0_)"
   ]
  },
  {
   "cell_type": "code",
   "execution_count": null,
   "metadata": {},
   "outputs": [],
   "source": [
    "backbone = ResNet50(weights='imagenet',\n",
    "                    include_top=False,\n",
    "                    input_shape=(224, 224, 3))\n",
    "\n",
    "backbone.trainable = False\n",
    "\n",
    "model = Sequential([\n",
    "    backbone,\n",
    "    GlobalAveragePooling2D(),\n",
    "    Dense(256, activation='relu'),\n",
    "    Dense(1, activation='relu')\n",
    "])\n",
    "\n",
    "optimizer = Adam(learning_rate=0.0001)\n",
    "model.compile(optimizer=optimizer,\n",
    "                loss='mse',\n",
    "                metrics=['mae'])"
   ]
  },
  {
   "cell_type": "code",
   "execution_count": null,
   "metadata": {},
   "outputs": [],
   "source": [
    "gpus = tf.config.list_physical_devices('GPU')\n",
    "if gpus:\n",
    "    print(colored('Обнаружено GPU:', 'green'), gpus)\n",
    "else:\n",
    "    print(colored('GPU не обнаружено. Будет использован CPU.', 'red'))"
   ]
  },
  {
   "cell_type": "code",
   "execution_count": null,
   "metadata": {},
   "outputs": [],
   "source": [
    "history = model.fit(\n",
    "    train_datagen_flow,\n",
    "    steps_per_epoch=len(train_datagen_flow),\n",
    "    validation_data=valid_datagen_flow,\n",
    "    validation_steps=len(valid_datagen_flow),\n",
    "    epochs=EPOCHS,\n",
    "    verbose=2\n",
    ")"
   ]
  },
  {
   "cell_type": "markdown",
   "metadata": {},
   "source": [
    "## 4. <a id='toc4_'></a>Результаты [&#8593;](#toc0_)"
   ]
  },
  {
   "cell_type": "markdown",
   "metadata": {},
   "source": [
    "### 4.1. <a id='toc4_1_'></a>Проверка на тесте [&#8593;](#toc0_)"
   ]
  },
  {
   "cell_type": "code",
   "execution_count": null,
   "metadata": {},
   "outputs": [],
   "source": [
    "test_loss, test_mae = model.evaluate(test_datagen_flow, steps=len(test_datagen_flow))\n",
    "print(f\"test loss: {test_loss}, test MAE: {test_mae}\")"
   ]
  },
  {
   "cell_type": "markdown",
   "metadata": {},
   "source": [
    "## 5. <a id='toc5_'></a>Итоговый вывод  [&#8593;](#toc0_)"
   ]
  },
  {
   "cell_type": "markdown",
   "metadata": {},
   "source": [
    "В рамках данного проекта мы работали с датасетом, содержащим изображения людей. Целевой признак - их возраст. В датасете представлены изображения людей обоих полов и самых разных возрастов.\n",
    "\n",
    "В качестве модели использовался бэкбон *ResNet50* с весами от *imagenet*, один скрытый Dense слой с `256` нейронами и 1 выходной слой с ожидаемо `1` нейроном. Использовалась ReLU функция активации в обоих слоях. В результате, получена метрика `MSE ~ 7`, что лучше, чем требовалось.\n",
    "\n",
    "Однако использовать такую модель в реальной жизни не стоит. Ошибка в `7` лет довольна критична для целей заказчика. Ведь у людей 7 и 14 лет совершенно разные \"интересные им\" товары. Модель могла бы быть относительно полезной для людей старшей возрастной категории - люди в 50 и 57 покупают примерно одно."
   ]
  }
 ],
 "metadata": {
  "ExecuteTimeLog": [
   {
    "duration": 9,
    "start_time": "2025-03-17T14:59:06.037Z"
   },
   {
    "duration": 47,
    "start_time": "2025-03-17T14:59:08.007Z"
   },
   {
    "duration": 871,
    "start_time": "2025-03-17T14:59:32.646Z"
   },
   {
    "duration": 3,
    "start_time": "2025-03-17T14:59:34.878Z"
   },
   {
    "duration": 89,
    "start_time": "2025-03-17T14:59:40.998Z"
   },
   {
    "duration": 12,
    "start_time": "2025-03-17T14:59:53.358Z"
   },
   {
    "duration": 40,
    "start_time": "2025-03-17T15:00:04.149Z"
   },
   {
    "duration": 57,
    "start_time": "2025-03-18T11:22:20.363Z"
   },
   {
    "duration": 3082,
    "start_time": "2025-03-18T11:22:27.427Z"
   },
   {
    "duration": 4,
    "start_time": "2025-03-18T11:22:31.373Z"
   },
   {
    "duration": 48,
    "start_time": "2025-03-18T11:22:33.706Z"
   },
   {
    "duration": 12,
    "start_time": "2025-03-18T11:22:36.874Z"
   },
   {
    "duration": 167,
    "start_time": "2025-03-18T11:22:39.208Z"
   },
   {
    "duration": 185,
    "start_time": "2025-03-18T11:22:52.110Z"
   },
   {
    "duration": 282,
    "start_time": "2025-03-18T11:23:10.060Z"
   },
   {
    "duration": 196,
    "start_time": "2025-03-18T11:23:18.216Z"
   },
   {
    "duration": 28,
    "start_time": "2025-03-18T11:23:27.541Z"
   },
   {
    "duration": 199,
    "start_time": "2025-03-18T11:23:30.324Z"
   },
   {
    "duration": 53101,
    "start_time": "2025-03-18T11:24:14.890Z"
   },
   {
    "duration": 2632,
    "start_time": "2025-03-18T11:25:18.030Z"
   },
   {
    "duration": 3,
    "start_time": "2025-03-18T11:25:20.664Z"
   },
   {
    "duration": 70,
    "start_time": "2025-03-18T11:25:20.669Z"
   },
   {
    "duration": 11,
    "start_time": "2025-03-18T11:25:20.741Z"
   },
   {
    "duration": 228,
    "start_time": "2025-03-18T11:25:20.754Z"
   },
   {
    "duration": 315,
    "start_time": "2025-03-18T11:25:20.984Z"
   },
   {
    "duration": 0,
    "start_time": "2025-03-18T11:25:21.301Z"
   },
   {
    "duration": 98540,
    "start_time": "2025-03-18T11:25:26.312Z"
   },
   {
    "duration": 1680,
    "start_time": "2025-03-18T11:28:12.968Z"
   },
   {
    "duration": 1845,
    "start_time": "2025-03-18T11:28:50.917Z"
   },
   {
    "duration": 3878,
    "start_time": "2025-03-18T11:32:07.348Z"
   },
   {
    "duration": 2572,
    "start_time": "2025-03-19T07:12:03.918Z"
   },
   {
    "duration": 2,
    "start_time": "2025-03-19T07:12:08.234Z"
   },
   {
    "duration": 39,
    "start_time": "2025-03-19T07:12:11.173Z"
   },
   {
    "duration": 13,
    "start_time": "2025-03-19T07:12:15.312Z"
   },
   {
    "duration": 196,
    "start_time": "2025-03-19T07:12:18.958Z"
   },
   {
    "duration": 85663,
    "start_time": "2025-03-19T07:12:27.573Z"
   },
   {
    "duration": 520,
    "start_time": "2025-03-19T07:14:30.994Z"
   },
   {
    "duration": 2,
    "start_time": "2025-03-19T07:18:37.340Z"
   },
   {
    "duration": 1756,
    "start_time": "2025-03-19T07:18:40.564Z"
   }
  ],
  "celltoolbar": "Tags",
  "kernelspec": {
   "display_name": "ml12",
   "language": "python",
   "name": "python3"
  },
  "language_info": {
   "codemirror_mode": {
    "name": "ipython",
    "version": 3
   },
   "file_extension": ".py",
   "mimetype": "text/x-python",
   "name": "python",
   "nbconvert_exporter": "python",
   "pygments_lexer": "ipython3",
   "version": "3.12.2"
  },
  "toc": {
   "base_numbering": 1,
   "nav_menu": {},
   "number_sections": true,
   "sideBar": true,
   "skip_h1_title": true,
   "title_cell": "Table of Contents",
   "title_sidebar": "Contents",
   "toc_cell": false,
   "toc_position": {},
   "toc_section_display": true,
   "toc_window_display": false
  }
 },
 "nbformat": 4,
 "nbformat_minor": 2
}
